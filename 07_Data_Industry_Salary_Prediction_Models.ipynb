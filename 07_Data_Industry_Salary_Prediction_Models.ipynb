{
  "nbformat": 4,
  "nbformat_minor": 0,
  "metadata": {
    "colab": {
      "name": "07 Data Industry Salary Prediction Models",
      "provenance": [],
      "collapsed_sections": [],
      "mount_file_id": "1AyO8kZANyqWAacCn7Odrt5DhW9ZkAZEU",
      "authorship_tag": "ABX9TyP3zwNoz4NP0NBs9Ea6Ou+2",
      "include_colab_link": true
    },
    "kernelspec": {
      "name": "python3",
      "display_name": "Python 3"
    },
    "language_info": {
      "name": "python"
    }
  },
  "cells": [
    {
      "cell_type": "markdown",
      "metadata": {
        "id": "view-in-github",
        "colab_type": "text"
      },
      "source": [
        "<a href=\"https://colab.research.google.com/github/ferrazzijk/Data-Industry-Salary-Prediction/blob/main/07_Data_Industry_Salary_Prediction_Models.ipynb\" target=\"_parent\"><img src=\"https://colab.research.google.com/assets/colab-badge.svg\" alt=\"Open In Colab\"/></a>"
      ]
    },
    {
      "cell_type": "markdown",
      "metadata": {
        "id": "6oaI5gef7oe4"
      },
      "source": [
        "# **Introduction**\n",
        "\n",
        "The purpose of this project is to determine which data analysis skills are associated with higher salaries. We will use data scraped from [Glassdoor](https://www.glassdoor.com/member/home/index.htm). This file contains the model building and testing portions for the first 4 dataframes of the project. To view the scraping files of each role, please select the respective link in the Job Titles list. To view scraping exploration or the exploratory data analysis notebooks, please select the respective link from additional links.\n",
        "\n",
        "**Job Titles:**\n",
        "*   [Data Analyst](https://colab.research.google.com/drive/1AW0rNTs84Cq7GrJiDq86WWCisB4q6ZwO?usp=sharing)\n",
        "*   [Business Analyst](https://colab.research.google.com/drive/1I1lolzuZgoUZGBwAEP9hZNf7my8XItbz?usp=sharing)\n",
        "*   [Data Engineer](https://colab.research.google.com/drive/18HMhZXcv4xwxDUXGDauYEGdnDJLjNYxf?usp=sharing)\n",
        "*   [Data Scientist](https://colab.research.google.com/drive/1i8UQMiObiOKAyzlrAsFCBPitqIh90Y5O?usp=sharing)\n",
        "\n",
        "**Locations**\n",
        "*   Austin, TX\n",
        "*   Boston, MA\n",
        "*   Chicago, IL\n",
        "*   Colorado\n",
        "*   Los Angeles, CA\n",
        "*   New York City, NY\n",
        "*   San Francisco, CA\n",
        "*   Seattle, WA\n",
        "\n",
        "**Additional Links**\n",
        "*    [Scraping Exploration](https://colab.research.google.com/drive/1K1VMiRG_wzVm0wBSyBHoJJ77rSpZM-wf?usp=sharing)\n",
        "*    [Exploratory Data Analysis](https://colab.research.google.com/drive/1lDlqmcv6xav48C5uj2YLJwK5UJ3BNYET?usp=sharing)\n",
        "*    [Model Building & Testing Part 1](https://colab.research.google.com/drive/17wVHuX5pFcVi2V_r_11FdT1pVpzP8Dnw?usp=sharing)\n",
        "*    [Model Building & Testing Part 2](https://colab.research.google.com/drive/1AyO8kZANyqWAacCn7Odrt5DhW9ZkAZEU?usp=sharing)"
      ]
    },
    {
      "cell_type": "markdown",
      "metadata": {
        "id": "Chorb-BvzXyC"
      },
      "source": [
        "## **Set Environment**"
      ]
    },
    {
      "cell_type": "code",
      "metadata": {
        "id": "j9gKyJTaTkK-",
        "colab": {
          "base_uri": "https://localhost:8080/"
        },
        "outputId": "fab510f6-a5e8-460b-a44e-8881d34b1fe8"
      },
      "source": [
        "#set environment\n",
        "import collections\n",
        "import matplotlib.pyplot as plt\n",
        "import nltk\n",
        "import pandas as pd\n",
        "import numpy as np\n",
        "import matplotlib.pyplot as plt\n",
        "import re\n",
        "import requests\n",
        "import scipy.stats as stats\n",
        "import seaborn as sns\n",
        "import spacy\n",
        "import statsmodels.api as sm\n",
        "import string\n",
        "import textwrap\n",
        "\n",
        "from bs4 import BeautifulSoup as soup\n",
        "from collections import Counter\n",
        "from IPython.core.display import clear_output\n",
        "from nltk.corpus import stopwords\n",
        "from random import randint\n",
        "from sklearn import svm\n",
        "from sklearn.ensemble import RandomForestRegressor\n",
        "from sklearn.feature_extraction import text\n",
        "from sklearn.linear_model import LinearRegression, Ridge, Lasso, ElasticNet\n",
        "from sklearn.metrics import  classification_report, mean_absolute_error, precision_score, recall_score, f1_score, accuracy_score, confusion_matrix\n",
        "from sklearn.neighbors import KNeighborsRegressor, LocalOutlierFactor\n",
        "from sklearn.preprocessing import LabelEncoder, StandardScaler\n",
        "from sklearn.model_selection import train_test_split, cross_val_score, GridSearchCV\n",
        "from xgboost.sklearn import XGBRegressor\n",
        "from statsmodels.tools.eval_measures import mse, rmse\n",
        "from time import time, sleep\n",
        "from wordcloud import WordCloud\n",
        "\n",
        "nltk.download('stopwords')\n",
        "\n",
        "#ignore warnings\n",
        "import warnings\n",
        "warnings.filterwarnings(\"ignore\")"
      ],
      "execution_count": null,
      "outputs": [
        {
          "output_type": "stream",
          "text": [
            "/usr/local/lib/python3.7/dist-packages/statsmodels/tools/_testing.py:19: FutureWarning: pandas.util.testing is deprecated. Use the functions in the public API at pandas.testing instead.\n",
            "  import pandas.util.testing as tm\n"
          ],
          "name": "stderr"
        },
        {
          "output_type": "stream",
          "text": [
            "[nltk_data] Downloading package stopwords to /root/nltk_data...\n",
            "[nltk_data]   Unzipping corpora/stopwords.zip.\n"
          ],
          "name": "stdout"
        }
      ]
    },
    {
      "cell_type": "markdown",
      "metadata": {
        "id": "m9wm0W6JCuxi"
      },
      "source": [
        "# **Model Building & Testing**\n",
        "\n",
        "We have 8 Dataframe's to test models on (developed in EDA notebook). The first four were tested in another notebook and the second four in this notebook.\n",
        "*   **all_jobs:** numeric data of extrapolated from the job descriptions. 5631 rows × 88 columns\n",
        "*   **all_jobs_yrs_df**: all_jobs excluding jobs that did not have years of experience listed. 4696 rows × 88 columns\n",
        "*   **all_jobs_no_outliers_df:** numeric data of extrapolated from the job descriptions, outliers removed. 5569 rows × 88 columns\n",
        "*   **all_jobs_yrs_no_outliers_df**: ll_jobs excluding jobs that did not have years of experience listed, outliers removed. 4644 rows × 88 columns\n",
        "*   **categories_df:** numeric data of combined sums of the categories we extrapolated from the job descriptions. 4696 rows × 16 columns\n",
        "*   **yrs_exp_df**: categories excluding jobs that did not have years of experience listed. 1711 rows × 16 columns\n",
        "*   **cat_no_outliers_df:** numeric data of combined sums of the categories we extrapolated from the job descriptions, outliers removed. 5569 rows × 16 columns\n",
        "*   **yrs_exp_no_outliers_df**: categories excluding jobs that did not have years of experience listed, outliers removed. 4644 rows × 16 columns\n",
        "\n",
        "For performance comparison, each will be tested with target variable as:\n",
        "*    **Average Salary**\n",
        "*    **Log of Average Salary**"
      ]
    },
    {
      "cell_type": "markdown",
      "metadata": {
        "id": "7Kp17Hhp-Ml-"
      },
      "source": [
        "### **Import Created Databases**"
      ]
    },
    {
      "cell_type": "code",
      "metadata": {
        "colab": {
          "base_uri": "https://localhost:8080/"
        },
        "id": "oY7Usokm5TDy",
        "outputId": "b3414424-4465-4795-a158-55ff1f4a680c"
      },
      "source": [
        "all_jobs_df = pd.read_csv('https://raw.githubusercontent.com/ferrazzijk/Data-Industry-Salary-Prediction/main/Dataframes/all_jobs_df.csv?dl=0')\n",
        "all_jobs_no_outliers_df = pd.read_csv('https://raw.githubusercontent.com/ferrazzijk/Data-Industry-Salary-Prediction/main/Dataframes/all_jobs_no_outliers_df.csv?dl=0') \n",
        "categories_df = pd.read_csv('https://raw.githubusercontent.com/ferrazzijk/Data-Industry-Salary-Prediction/main/Dataframes/categories_df.csv?dl=0')\n",
        "yrs_exp_df = pd.read_csv('https://raw.githubusercontent.com/ferrazzijk/Data-Industry-Salary-Prediction/main/Dataframes/yrs_exp_df.csv?dl=0')\n",
        "cat_no_outliers_df = pd.read_csv('https://raw.githubusercontent.com/ferrazzijk/Data-Industry-Salary-Prediction/main/Dataframes/cat_no_outliers_df.csv?dl=0')\n",
        "yrs_exp_no_outliers_df = pd.read_csv('https://raw.githubusercontent.com/ferrazzijk/Data-Industry-Salary-Prediction/main/Dataframes/yrs_exp_no_outliers_df.csv?dl=0')\n",
        "\n",
        "dfs = [all_jobs_df, all_jobs_no_outliers_df, categories_df, yrs_exp_df, cat_no_outliers_df, yrs_exp_no_outliers_df]\n",
        "for df in dfs:\n",
        "  df.drop(columns=['Unnamed: 0'], inplace=True)\n",
        "  print(df.head())"
      ],
      "execution_count": null,
      "outputs": [
        {
          "output_type": "stream",
          "text": [
            "   industry  rank  search_city  search_job  ...  keras  neural  spark  tensorflow\n",
            "0         5   3.5            0           1  ...      0       0      1           0\n",
            "1        12   3.4            0           1  ...      0       0      0           0\n",
            "2         1   3.8            0           1  ...      0       0      0           0\n",
            "3         5   4.5            0           1  ...      0       0      0           0\n",
            "4         5   3.7            0           1  ...      0       0      0           0\n",
            "\n",
            "[5 rows x 88 columns]\n",
            "   industry  rank  search_city  search_job  ...  keras  neural  spark  tensorflow\n",
            "0         5   3.5            0           1  ...      0       0      1           0\n",
            "1        12   3.4            0           1  ...      0       0      0           0\n",
            "2         1   3.8            0           1  ...      0       0      0           0\n",
            "3         5   4.5            0           1  ...      0       0      0           0\n",
            "4         5   3.7            0           1  ...      0       0      0           0\n",
            "\n",
            "[5 rows x 88 columns]\n",
            "   industry  rank  ...  deep_learning_totals  log_avg_sal\n",
            "0         5   3.5  ...                     1    11.177467\n",
            "1        12   3.4  ...                     0    10.809748\n",
            "2         1   3.8  ...                     0    11.042938\n",
            "3         5   4.5  ...                     0    10.768506\n",
            "4         5   3.7  ...                     0    11.034906\n",
            "\n",
            "[5 rows x 16 columns]\n",
            "   industry  rank  ...  deep_learning_totals  log_avg_sal\n",
            "0         5   3.5  ...                     1    11.177467\n",
            "1        12   3.4  ...                     0    10.809748\n",
            "2         1   3.8  ...                     0    11.042938\n",
            "3         5   4.5  ...                     0    10.768506\n",
            "4         5   3.7  ...                     0    11.034906\n",
            "\n",
            "[5 rows x 16 columns]\n",
            "   industry  rank  ...  deep_learning_totals  log_avg_sal\n",
            "0         5   3.5  ...                     1    11.177467\n",
            "1        12   3.4  ...                     0    10.809748\n",
            "2         1   3.8  ...                     0    11.042938\n",
            "3         5   4.5  ...                     0    10.768506\n",
            "4         5   3.7  ...                     0    11.034906\n",
            "\n",
            "[5 rows x 16 columns]\n",
            "   industry  rank  ...  deep_learning_totals  log_avg_sal\n",
            "0         5   3.5  ...                     1    11.177467\n",
            "1        12   3.4  ...                     0    10.809748\n",
            "2         1   3.8  ...                     0    11.042938\n",
            "3         5   4.5  ...                     0    10.768506\n",
            "4         5   3.7  ...                     0    11.034906\n",
            "\n",
            "[5 rows x 16 columns]\n"
          ],
          "name": "stdout"
        }
      ]
    },
    {
      "cell_type": "markdown",
      "metadata": {
        "id": "2Jq2-zBbj0_E"
      },
      "source": [
        "### **Visualization of Target Variable**"
      ]
    },
    {
      "cell_type": "code",
      "metadata": {
        "colab": {
          "base_uri": "https://localhost:8080/",
          "height": 1000
        },
        "id": "iRmGTThNjtA5",
        "outputId": "56f1cde9-afe7-4448-c450-74f60b4f78e9"
      },
      "source": [
        "#visualize Categories Dataframe Average Salary\n",
        "plt.figure(figsize = (20,40))\n",
        "plt.subplot(421)\n",
        "sns.distplot(categories_df['avg_sal'], kde = False)\n",
        "plt.xlabel('Categories Dataframe Average Salary')\n",
        "plt.ylabel('Frequency')\n",
        "plt.title('Frequency of Categories Dataframe Average Salary')\n",
        "plt.xticks(rotation = 45)\n",
        "\n",
        "plt.subplot(422)\n",
        "#visualize Log of Categories Dataframe Average Salary\n",
        "sns.distplot(categories_df['log_avg_sal'], kde = False)\n",
        "plt.xlabel('Log of Categories Dataframe Average Salary')\n",
        "plt.ylabel('Frequency')\n",
        "plt.title('Frequency of Log of Average Salary')\n",
        "plt.xticks(rotation = 45)\n",
        "\n",
        "#visualize Years Experience Dataframe Average Salary\n",
        "plt.subplot(423)\n",
        "sns.distplot(yrs_exp_df['avg_sal'], kde = False)\n",
        "plt.xlabel('Years Experience Dataframe Average Salary')\n",
        "plt.ylabel('Frequency')\n",
        "plt.title('Frequency of Yrs Exp Dataframe Average Salary')\n",
        "plt.xticks(rotation = 45)\n",
        "\n",
        "#visualize Log of Years Experience Dataframe Average Salary\n",
        "plt.subplot(424)\n",
        "sns.distplot(yrs_exp_df['log_avg_sal'], kde = False)\n",
        "plt.xlabel('Log of Years Experience Dataframe Average Salary')\n",
        "plt.ylabel('Frequency')\n",
        "plt.title('Frequency of Log of Yrs Exp Dataframe Average Salary')\n",
        "plt.xticks(rotation = 45)\n",
        "\n",
        "#visualize Categories w/o Outliers Dataframe Average Salary\n",
        "plt.subplot(425)\n",
        "sns.distplot(cat_no_outliers_df['avg_sal'], kde = False)\n",
        "plt.xlabel('Categories Dataframe Average Salary')\n",
        "plt.ylabel('Frequency')\n",
        "plt.title('Frequency of Categories w/o Outliers Dataframe Average Salary')\n",
        "plt.xticks(rotation = 45)\n",
        "\n",
        "#visualize Log of Categories w/o Outliers Dataframe Average Salary\n",
        "plt.subplot(426)\n",
        "sns.distplot(cat_no_outliers_df['log_avg_sal'], kde = False)\n",
        "plt.xlabel('Log of Categories w/o Outliers Dataframe Average Salary')\n",
        "plt.ylabel('Frequency')\n",
        "plt.title('Frequency of Log of Average Salary')\n",
        "plt.xticks(rotation = 45)\n",
        "\n",
        "#visualize Years Experience w/o Outliers Dataframe Average Salary\n",
        "plt.subplot(427)\n",
        "sns.distplot(yrs_exp_no_outliers_df['avg_sal'], kde = False)\n",
        "plt.xlabel('Years Experience Dataframe Average Salary')\n",
        "plt.ylabel('Frequency')\n",
        "plt.title('Frequency of Years of Experience w/o Outliers Dataframe Average Salary')\n",
        "plt.xticks(rotation = 45)\n",
        "\n",
        "#visualize Log of Years Experience w/o Outliers Dataframe Average Salary\n",
        "plt.subplot(428)\n",
        "sns.distplot(yrs_exp_no_outliers_df['log_avg_sal'], kde = False)\n",
        "plt.xlabel('Log of Years Experience w/o Outliers Dataframe Average Salary')\n",
        "plt.ylabel('Frequency')\n",
        "plt.title('Frequency of Lof of Years of Experience Dataframe Average Salary')\n",
        "plt.xticks(rotation = 45)\n",
        "plt.show()"
      ],
      "execution_count": null,
      "outputs": [
        {
          "output_type": "display_data",
          "data": {
            "image/png": "[encoded data removed]",
            "text/plain": [
              "<Figure size 1440x2880 with 8 Axes>"
            ]
          },
          "metadata": {
            "tags": [],
            "needs_background": "light"
          }
        }
      ]
    },
    {
      "cell_type": "markdown",
      "metadata": {
        "id": "o_hX6EarCzil"
      },
      "source": [
        "## **Linear Regression**"
      ]
    },
    {
      "cell_type": "markdown",
      "metadata": {
        "id": "tvbkBM0SHTPw"
      },
      "source": [
        "### **categories_df**"
      ]
    },
    {
      "cell_type": "code",
      "metadata": {
        "id": "-Y31KvFtCzCi",
        "colab": {
          "base_uri": "https://localhost:8080/"
        },
        "outputId": "a7d76b1c-4498-4bd1-889e-50f2807793f1"
      },
      "source": [
        "#set features & target\n",
        "X = categories_df.drop(columns=['avg_sal', 'log_avg_sal'])\n",
        "y = categories_df['avg_sal']\n",
        "\n",
        "#split data into training & test sets\n",
        "X_train, X_test, y_train, y_test = train_test_split(X, y, test_size = 0.2, random_state = 43)\n",
        "\n",
        "#create instance of model\n",
        "categories_lr = LinearRegression()\n",
        "\n",
        "#fit model\n",
        "categories_lr.fit(X_train, y_train)\n",
        "\n",
        "#cross validate\n",
        "categories_lr_cv_scores = cross_val_score(categories_lr, X_train, y_train, cv = 5)\n",
        "\n",
        "#get scores\n",
        "print('Accuracy Scores for the 5 folds: ', categories_lr_cv_scores)\n",
        "print('Mean Cross Validation Score: {:.33f}'.format(np.mean(categories_lr_cv_scores)))"
      ],
      "execution_count": null,
      "outputs": [
        {
          "output_type": "stream",
          "text": [
            "Accuracy Scores for the 5 folds:  [0.47747096 0.4943998  0.44797259 0.44170988 0.44971746]\n",
            "Mean Cross Validation Score: 0.462254139085281567922436352091609\n"
          ],
          "name": "stdout"
        }
      ]
    },
    {
      "cell_type": "code",
      "metadata": {
        "id": "HxOcIdwrKlEh",
        "colab": {
          "base_uri": "https://localhost:8080/",
          "height": 108
        },
        "outputId": "1367b460-30b5-43f9-e389-6300b3d252bf"
      },
      "source": [
        "#generate predictions\n",
        "categories_lr_preds = categories_lr.predict(X_test)\n",
        "\n",
        "#get performance metrics\n",
        "categories_lr_rsquared_train = categories_lr.score(X_train, y_train)\n",
        "categories_lr_rsquared_test = categories_lr.score(X_test, y_test)\n",
        "categories_lr_mae = mean_absolute_error(y_test, categories_lr_preds)\n",
        "categories_lr_mse = mse(y_test, categories_lr_preds)\n",
        "categories_lr_rmse = rmse(y_test, categories_lr_preds)\n",
        "categories_lr_mape = np.mean(np.abs((y_test - categories_lr_preds)/y_test)*100)\n",
        "categories_lr_rmspe = (np.sqrt(np.mean(np.square((y_test - categories_lr_preds) / y_test)))) * 100\n",
        "categories_lr_model_name = 'Categories Linear Regression'\n",
        "\n",
        "#create easily readable display of performance metrics\n",
        "categories_lr_dictionary = {'Model': categories_lr_model_name,\n",
        "  'Training Set R Squared': categories_lr_rsquared_train, \n",
        "  'Test Set R Squared': categories_lr_rsquared_test, 'Mean Absolute Error': categories_lr_mae, \n",
        "  'Mean Sqaured Error': categories_lr_mse, 'Root Mean Squared Error': categories_lr_rmse,\n",
        "  'Root Mean Squared Percentage Error': categories_lr_rmspe,\n",
        "  'Mean Absolute Percentage Error': categories_lr_mape}\n",
        "\n",
        "categories_lr_df = pd.DataFrame(categories_lr_dictionary, index=[0])\n",
        "\n",
        "categories_lr_df"
      ],
      "execution_count": null,
      "outputs": [
        {
          "output_type": "execute_result",
          "data": {
            "text/html": [
              "<div>\n",
              "<style scoped>\n",
              "    .dataframe tbody tr th:only-of-type {\n",
              "        vertical-align: middle;\n",
              "    }\n",
              "\n",
              "    .dataframe tbody tr th {\n",
              "        vertical-align: top;\n",
              "    }\n",
              "\n",
              "    .dataframe thead th {\n",
              "        text-align: right;\n",
              "    }\n",
              "</style>\n",
              "<table border=\"1\" class=\"dataframe\">\n",
              "  <thead>\n",
              "    <tr style=\"text-align: right;\">\n",
              "      <th></th>\n",
              "      <th>Model</th>\n",
              "      <th>Training Set R Squared</th>\n",
              "      <th>Test Set R Squared</th>\n",
              "      <th>Mean Absolute Error</th>\n",
              "      <th>Mean Sqaured Error</th>\n",
              "      <th>Root Mean Squared Error</th>\n",
              "      <th>Root Mean Squared Percentage Error</th>\n",
              "      <th>Mean Absolute Percentage Error</th>\n",
              "    </tr>\n",
              "  </thead>\n",
              "  <tbody>\n",
              "    <tr>\n",
              "      <th>0</th>\n",
              "      <td>Categories Linear Regression</td>\n",
              "      <td>0.466434</td>\n",
              "      <td>0.495073</td>\n",
              "      <td>18351.913297</td>\n",
              "      <td>6.133575e+08</td>\n",
              "      <td>24766.055624</td>\n",
              "      <td>28.20096</td>\n",
              "      <td>20.51033</td>\n",
              "    </tr>\n",
              "  </tbody>\n",
              "</table>\n",
              "</div>"
            ],
            "text/plain": [
              "                          Model  ...  Mean Absolute Percentage Error\n",
              "0  Categories Linear Regression  ...                        20.51033\n",
              "\n",
              "[1 rows x 8 columns]"
            ]
          },
          "metadata": {
            "tags": []
          },
          "execution_count": 5
        }
      ]
    },
    {
      "cell_type": "markdown",
      "metadata": {
        "id": "2DPIixtPWLNb"
      },
      "source": [
        "### **yrs_exp_df**"
      ]
    },
    {
      "cell_type": "code",
      "metadata": {
        "id": "V7xcJz-lWLNb",
        "colab": {
          "base_uri": "https://localhost:8080/"
        },
        "outputId": "35b3d581-bf8c-4bfa-f9b0-8cd8f39efed9"
      },
      "source": [
        "#set features & target\n",
        "X= yrs_exp_df.drop(columns=['avg_sal', 'log_avg_sal'])\n",
        "y = yrs_exp_df['avg_sal']\n",
        "\n",
        "#split data into training & test sets\n",
        "X_train, X_test, y_train, y_test = train_test_split(X, y, test_size = 0.2, random_state = 43)\n",
        "\n",
        "#create instance of model\n",
        "yrs_exp_lr = LinearRegression()\n",
        "\n",
        "#fit model\n",
        "yrs_exp_lr.fit(X_train, y_train)\n",
        "\n",
        "#cross validate\n",
        "yrs_exp_lr_cv_scores = cross_val_score(yrs_exp_lr, X_train, y_train, cv = 5)\n",
        "\n",
        "#get scores\n",
        "print('Accuracy Scores for the 5 folds: ', yrs_exp_lr_cv_scores)\n",
        "print('Mean Cross Validation Score: {:.33f}'.format(np.mean(yrs_exp_lr_cv_scores)))"
      ],
      "execution_count": null,
      "outputs": [
        {
          "output_type": "stream",
          "text": [
            "Accuracy Scores for the 5 folds:  [0.44512548 0.49210364 0.51494067 0.46660633 0.49496809]\n",
            "Mean Cross Validation Score: 0.482748841300707387524937530542957\n"
          ],
          "name": "stdout"
        }
      ]
    },
    {
      "cell_type": "code",
      "metadata": {
        "id": "frvXJGQzWLNc",
        "colab": {
          "base_uri": "https://localhost:8080/",
          "height": 108
        },
        "outputId": "cfd4d8a7-f227-4cdc-b0e8-198780d20b30"
      },
      "source": [
        "#generate predictions\n",
        "yrs_exp_lr_preds = yrs_exp_lr.predict(X_test)\n",
        "\n",
        "#get performance metrics\n",
        "yrs_exp_lr_rsquared_train = yrs_exp_lr.score(X_train, y_train)\n",
        "yrs_exp_lr_rsquared_test = yrs_exp_lr.score(X_test, y_test)\n",
        "yrs_exp_lr_mae = mean_absolute_error(y_test, yrs_exp_lr_preds)\n",
        "yrs_exp_lr_mse = mse(y_test, yrs_exp_lr_preds)\n",
        "yrs_exp_lr_rmse = rmse(y_test, yrs_exp_lr_preds)\n",
        "yrs_exp_lr_mape = np.mean(np.abs((y_test - yrs_exp_lr_preds)/y_test)*100)\n",
        "yrs_exp_lr_rmspe = (np.sqrt(np.mean(np.square((y_test - yrs_exp_lr_preds) / y_test)))) * 100\n",
        "yrs_exp_model_name = 'Years of Experience Linear Regression'\n",
        "\n",
        "#create easily readable display of performance metrics\n",
        "yrs_exp_lr_dictionary = {'Model': yrs_exp_model_name,\n",
        "  'Training Set R Squared': yrs_exp_lr_rsquared_train, \n",
        "  'Test Set R Squared': yrs_exp_lr_rsquared_test, 'Mean Absolute Error': yrs_exp_lr_mae, \n",
        "  'Mean Sqaured Error': yrs_exp_lr_mse, 'Root Mean Squared Error': yrs_exp_lr_rmse,\n",
        "  'Root Mean Squared Percentage Error': yrs_exp_lr_rmspe,  \n",
        "  'Mean Absolute Percentage Error': yrs_exp_lr_mape}\n",
        "\n",
        "yrs_exp_lr_df = pd.DataFrame(yrs_exp_lr_dictionary, index=[0])\n",
        "\n",
        "yrs_exp_lr_df"
      ],
      "execution_count": null,
      "outputs": [
        {
          "output_type": "execute_result",
          "data": {
            "text/html": [
              "<div>\n",
              "<style scoped>\n",
              "    .dataframe tbody tr th:only-of-type {\n",
              "        vertical-align: middle;\n",
              "    }\n",
              "\n",
              "    .dataframe tbody tr th {\n",
              "        vertical-align: top;\n",
              "    }\n",
              "\n",
              "    .dataframe thead th {\n",
              "        text-align: right;\n",
              "    }\n",
              "</style>\n",
              "<table border=\"1\" class=\"dataframe\">\n",
              "  <thead>\n",
              "    <tr style=\"text-align: right;\">\n",
              "      <th></th>\n",
              "      <th>Model</th>\n",
              "      <th>Training Set R Squared</th>\n",
              "      <th>Test Set R Squared</th>\n",
              "      <th>Mean Absolute Error</th>\n",
              "      <th>Mean Sqaured Error</th>\n",
              "      <th>Root Mean Squared Error</th>\n",
              "      <th>Root Mean Squared Percentage Error</th>\n",
              "      <th>Mean Absolute Percentage Error</th>\n",
              "    </tr>\n",
              "  </thead>\n",
              "  <tbody>\n",
              "    <tr>\n",
              "      <th>0</th>\n",
              "      <td>Years of Experience Linear Regression</td>\n",
              "      <td>0.488129</td>\n",
              "      <td>0.510405</td>\n",
              "      <td>18185.446291</td>\n",
              "      <td>5.860383e+08</td>\n",
              "      <td>24208.228943</td>\n",
              "      <td>29.67586</td>\n",
              "      <td>21.273419</td>\n",
              "    </tr>\n",
              "  </tbody>\n",
              "</table>\n",
              "</div>"
            ],
            "text/plain": [
              "                                   Model  ...  Mean Absolute Percentage Error\n",
              "0  Years of Experience Linear Regression  ...                       21.273419\n",
              "\n",
              "[1 rows x 8 columns]"
            ]
          },
          "metadata": {
            "tags": []
          },
          "execution_count": 7
        }
      ]
    },
    {
      "cell_type": "markdown",
      "metadata": {
        "id": "5xpcLVIYoXp2"
      },
      "source": [
        "### **categories_df log(y)**"
      ]
    },
    {
      "cell_type": "code",
      "metadata": {
        "colab": {
          "base_uri": "https://localhost:8080/"
        },
        "id": "RlPuVJTXoXp3",
        "outputId": "420d3c89-3f70-43c2-df87-5a828050c8d6"
      },
      "source": [
        "#set features & target\n",
        "X = categories_df.drop(columns=['avg_sal', 'log_avg_sal'])\n",
        "y = categories_df['log_avg_sal']\n",
        "\n",
        "#split data into training & test sets\n",
        "X_train, X_test, y_train, y_test = train_test_split(X, y, test_size = 0.2, random_state = 43)\n",
        "\n",
        "#create instance of model\n",
        "log_categories_lr = LinearRegression()\n",
        "\n",
        "#fit model\n",
        "log_categories_lr.fit(X_train, y_train)\n",
        "\n",
        "#cross validate\n",
        "log_categories_lr_cv_scores = cross_val_score(log_categories_lr, X_train, y_train, cv = 5)\n",
        "\n",
        "#get scores\n",
        "print('Accuracy Scores for the 5 folds: ', log_categories_lr_cv_scores)\n",
        "print('Mean Cross Validation Score: {:.33f}'.format(np.mean(log_categories_lr_cv_scores)))"
      ],
      "execution_count": null,
      "outputs": [
        {
          "output_type": "stream",
          "text": [
            "Accuracy Scores for the 5 folds:  [0.48849635 0.50662567 0.45688914 0.4859955  0.46705575]\n",
            "Mean Cross Validation Score: 0.481012483187568951059631672251271\n"
          ],
          "name": "stdout"
        }
      ]
    },
    {
      "cell_type": "code",
      "metadata": {
        "colab": {
          "base_uri": "https://localhost:8080/",
          "height": 108
        },
        "id": "jlDl5NBHoXp4",
        "outputId": "04d33377-d323-4fab-96e3-d7b2e69bd35b"
      },
      "source": [
        "#generate predictions\n",
        "log_categories_lr_preds = log_categories_lr.predict(X_test)\n",
        "\n",
        "#get performance metrics\n",
        "log_categories_lr_rsquared_train = log_categories_lr.score(X_train, y_train)\n",
        "log_categories_lr_rsquared_test = log_categories_lr.score(X_test, y_test)\n",
        "log_categories_lr_mae = mean_absolute_error(y_test, log_categories_lr_preds)\n",
        "log_categories_lr_mse = mse(y_test, log_categories_lr_preds)\n",
        "log_categories_lr_rmse = rmse(y_test, log_categories_lr_preds)\n",
        "log_categories_lr_mape = np.mean(np.abs((y_test - log_categories_lr_preds)/y_test)*100)\n",
        "log_categories_lr_rmspe = (np.sqrt(np.mean(np.square((y_test - log_categories_lr_preds) / y_test)))) * 100\n",
        "log_categories_lr_model_name = 'Categories Linear Regression Log(y)'\n",
        "\n",
        "#create easily readable display of performance metrics\n",
        "log_categories_lr_dictionary = {'Model': log_categories_lr_model_name,\n",
        "  'Training Set R Squared': log_categories_lr_rsquared_train, \n",
        "  'Test Set R Squared': log_categories_lr_rsquared_test, 'Mean Absolute Error': log_categories_lr_mae, \n",
        "  'Mean Sqaured Error': log_categories_lr_mse, 'Root Mean Squared Error': log_categories_lr_rmse,\n",
        "  'Root Mean Squared Percentage Error': log_categories_lr_rmspe,\n",
        "  'Mean Absolute Percentage Error': log_categories_lr_mape}\n",
        "\n",
        "log_categories_lr_df = pd.DataFrame(log_categories_lr_dictionary, index=[0])\n",
        "\n",
        "log_categories_lr_df"
      ],
      "execution_count": null,
      "outputs": [
        {
          "output_type": "execute_result",
          "data": {
            "text/html": [
              "<div>\n",
              "<style scoped>\n",
              "    .dataframe tbody tr th:only-of-type {\n",
              "        vertical-align: middle;\n",
              "    }\n",
              "\n",
              "    .dataframe tbody tr th {\n",
              "        vertical-align: top;\n",
              "    }\n",
              "\n",
              "    .dataframe thead th {\n",
              "        text-align: right;\n",
              "    }\n",
              "</style>\n",
              "<table border=\"1\" class=\"dataframe\">\n",
              "  <thead>\n",
              "    <tr style=\"text-align: right;\">\n",
              "      <th></th>\n",
              "      <th>Model</th>\n",
              "      <th>Training Set R Squared</th>\n",
              "      <th>Test Set R Squared</th>\n",
              "      <th>Mean Absolute Error</th>\n",
              "      <th>Mean Sqaured Error</th>\n",
              "      <th>Root Mean Squared Error</th>\n",
              "      <th>Root Mean Squared Percentage Error</th>\n",
              "      <th>Mean Absolute Percentage Error</th>\n",
              "    </tr>\n",
              "  </thead>\n",
              "  <tbody>\n",
              "    <tr>\n",
              "      <th>0</th>\n",
              "      <td>Categories Linear Regression Log(y)</td>\n",
              "      <td>0.485597</td>\n",
              "      <td>0.510472</td>\n",
              "      <td>0.192234</td>\n",
              "      <td>0.063019</td>\n",
              "      <td>0.251036</td>\n",
              "      <td>2.204655</td>\n",
              "      <td>1.686736</td>\n",
              "    </tr>\n",
              "  </tbody>\n",
              "</table>\n",
              "</div>"
            ],
            "text/plain": [
              "                                 Model  ...  Mean Absolute Percentage Error\n",
              "0  Categories Linear Regression Log(y)  ...                        1.686736\n",
              "\n",
              "[1 rows x 8 columns]"
            ]
          },
          "metadata": {
            "tags": []
          },
          "execution_count": 9
        }
      ]
    },
    {
      "cell_type": "markdown",
      "metadata": {
        "id": "aetIVQsBoXp4"
      },
      "source": [
        "### **yrs_exp_df log(y)**"
      ]
    },
    {
      "cell_type": "code",
      "metadata": {
        "colab": {
          "base_uri": "https://localhost:8080/"
        },
        "id": "hxkAm2WroXp4",
        "outputId": "d547c583-7641-466c-afff-e56441a16f72"
      },
      "source": [
        "#set features & target\n",
        "X= yrs_exp_df.drop(columns=['avg_sal', 'log_avg_sal'])\n",
        "y = yrs_exp_df['log_avg_sal']\n",
        "\n",
        "#split data into training & test sets\n",
        "X_train, X_test, y_train, y_test = train_test_split(X, y, test_size = 0.2, random_state = 43)\n",
        "\n",
        "#create instance of model\n",
        "log_yrs_exp_lr = LinearRegression()\n",
        "\n",
        "#fit model\n",
        "log_yrs_exp_lr.fit(X_train, y_train)\n",
        "\n",
        "#cross validate\n",
        "log_yrs_exp_lr_cv_scores = cross_val_score(log_yrs_exp_lr, X_train, y_train, cv = 5)\n",
        "\n",
        "#get scores\n",
        "print('Accuracy Scores for the 5 folds: ', log_yrs_exp_lr_cv_scores)\n",
        "print('Mean Cross Validation Score: {:.33f}'.format(np.mean(log_yrs_exp_lr_cv_scores)))"
      ],
      "execution_count": null,
      "outputs": [
        {
          "output_type": "stream",
          "text": [
            "Accuracy Scores for the 5 folds:  [0.46642323 0.50349699 0.51884848 0.49696047 0.50718634]\n",
            "Mean Cross Validation Score: 0.498583104129361687206767328461865\n"
          ],
          "name": "stdout"
        }
      ]
    },
    {
      "cell_type": "code",
      "metadata": {
        "colab": {
          "base_uri": "https://localhost:8080/",
          "height": 108
        },
        "id": "z2xnx9o8oXp5",
        "outputId": "3c24a4ad-14b4-478a-f989-b9a761969feb"
      },
      "source": [
        "#generate predictions\n",
        "log_yrs_exp_lr_preds = log_yrs_exp_lr.predict(X_test)\n",
        "\n",
        "#get performance metrics\n",
        "log_yrs_exp_lr_rsquared_train = log_yrs_exp_lr.score(X_train, y_train)\n",
        "log_yrs_exp_lr_rsquared_test = log_yrs_exp_lr.score(X_test, y_test)\n",
        "log_yrs_exp_lr_mae = mean_absolute_error(y_test, log_yrs_exp_lr_preds)\n",
        "log_yrs_exp_lr_mse = mse(y_test, log_yrs_exp_lr_preds)\n",
        "log_yrs_exp_lr_rmse = rmse(y_test, log_yrs_exp_lr_preds)\n",
        "log_yrs_exp_lr_mape = np.mean(np.abs((y_test - log_yrs_exp_lr_preds)/y_test)*100)\n",
        "log_yrs_exp_lr_rmspe = (np.sqrt(np.mean(np.square((y_test - log_yrs_exp_lr_preds) / y_test)))) * 100\n",
        "yrs_exp_model_name = 'Years of Experience Linear Regression Log(y)'\n",
        "\n",
        "#create easily readable display of performance metrics\n",
        "log_yrs_exp_lr_dictionary = {'Model': yrs_exp_model_name,\n",
        "  'Training Set R Squared': log_yrs_exp_lr_rsquared_train, \n",
        "  'Test Set R Squared': log_yrs_exp_lr_rsquared_test, 'Mean Absolute Error': log_yrs_exp_lr_mae, \n",
        "  'Mean Sqaured Error': log_yrs_exp_lr_mse, 'Root Mean Squared Error': log_yrs_exp_lr_rmse,\n",
        "  'Root Mean Squared Percentage Error': log_yrs_exp_lr_rmspe,  \n",
        "  'Mean Absolute Percentage Error': log_yrs_exp_lr_mape}\n",
        "\n",
        "log_yrs_exp_lr_df = pd.DataFrame(log_yrs_exp_lr_dictionary, index=[0])\n",
        "\n",
        "log_yrs_exp_lr_df"
      ],
      "execution_count": null,
      "outputs": [
        {
          "output_type": "execute_result",
          "data": {
            "text/html": [
              "<div>\n",
              "<style scoped>\n",
              "    .dataframe tbody tr th:only-of-type {\n",
              "        vertical-align: middle;\n",
              "    }\n",
              "\n",
              "    .dataframe tbody tr th {\n",
              "        vertical-align: top;\n",
              "    }\n",
              "\n",
              "    .dataframe thead th {\n",
              "        text-align: right;\n",
              "    }\n",
              "</style>\n",
              "<table border=\"1\" class=\"dataframe\">\n",
              "  <thead>\n",
              "    <tr style=\"text-align: right;\">\n",
              "      <th></th>\n",
              "      <th>Model</th>\n",
              "      <th>Training Set R Squared</th>\n",
              "      <th>Test Set R Squared</th>\n",
              "      <th>Mean Absolute Error</th>\n",
              "      <th>Mean Sqaured Error</th>\n",
              "      <th>Root Mean Squared Error</th>\n",
              "      <th>Root Mean Squared Percentage Error</th>\n",
              "      <th>Mean Absolute Percentage Error</th>\n",
              "    </tr>\n",
              "  </thead>\n",
              "  <tbody>\n",
              "    <tr>\n",
              "      <th>0</th>\n",
              "      <td>Years of Experience Linear Regression Log(y)</td>\n",
              "      <td>0.504237</td>\n",
              "      <td>0.532635</td>\n",
              "      <td>0.191958</td>\n",
              "      <td>0.061039</td>\n",
              "      <td>0.24706</td>\n",
              "      <td>2.188861</td>\n",
              "      <td>1.69237</td>\n",
              "    </tr>\n",
              "  </tbody>\n",
              "</table>\n",
              "</div>"
            ],
            "text/plain": [
              "                                          Model  ...  Mean Absolute Percentage Error\n",
              "0  Years of Experience Linear Regression Log(y)  ...                         1.69237\n",
              "\n",
              "[1 rows x 8 columns]"
            ]
          },
          "metadata": {
            "tags": []
          },
          "execution_count": 11
        }
      ]
    },
    {
      "cell_type": "markdown",
      "metadata": {
        "id": "w6y74H9nEi3l"
      },
      "source": [
        "### **cat_no_outliers_df**"
      ]
    },
    {
      "cell_type": "code",
      "metadata": {
        "colab": {
          "base_uri": "https://localhost:8080/"
        },
        "id": "d-UonP4YEi3l",
        "outputId": "445a269b-5ab5-47d2-a82d-80e4951e5277"
      },
      "source": [
        "#set features & target\n",
        "X = cat_no_outliers_df.drop(columns=['avg_sal', 'log_avg_sal'])\n",
        "y = cat_no_outliers_df['avg_sal']\n",
        "\n",
        "#split data into training & test sets\n",
        "X_train, X_test, y_train, y_test = train_test_split(X, y, test_size = 0.2, random_state = 43)\n",
        "\n",
        "#create instance of model\n",
        "cat_no_outliers_lr = LinearRegression()\n",
        "\n",
        "#fit model\n",
        "cat_no_outliers_lr.fit(X_train, y_train)\n",
        "\n",
        "#cross validate\n",
        "cat_no_outliers_lr_cv_scores = cross_val_score(cat_no_outliers_lr, X_train, y_train, cv = 5)\n",
        "\n",
        "#get scores\n",
        "print('Accuracy Scores for the 5 folds: ', cat_no_outliers_lr_cv_scores)\n",
        "print('Mean Cross Validation Score: {:.33f}'.format(np.mean(cat_no_outliers_lr_cv_scores)))"
      ],
      "execution_count": null,
      "outputs": [
        {
          "output_type": "stream",
          "text": [
            "Accuracy Scores for the 5 folds:  [0.51211293 0.47390418 0.51173921 0.44263675 0.4754572 ]\n",
            "Mean Cross Validation Score: 0.483170055842179368976729847418028\n"
          ],
          "name": "stdout"
        }
      ]
    },
    {
      "cell_type": "code",
      "metadata": {
        "colab": {
          "base_uri": "https://localhost:8080/",
          "height": 108
        },
        "id": "ZmhXOVWKEi3m",
        "outputId": "da8d2b98-00b5-4612-a690-aef1d1292c8b"
      },
      "source": [
        "#generate predictions\n",
        "cat_no_outliers_lr_preds = cat_no_outliers_lr.predict(X_test)\n",
        "\n",
        "#get performance metrics\n",
        "cat_no_outliers_lr_rsquared_train = cat_no_outliers_lr.score(X_train, y_train)\n",
        "cat_no_outliers_lr_rsquared_test = cat_no_outliers_lr.score(X_test, y_test)\n",
        "cat_no_outliers_lr_mae = mean_absolute_error(y_test, cat_no_outliers_lr_preds)\n",
        "cat_no_outliers_lr_mse = mse(y_test, cat_no_outliers_lr_preds)\n",
        "cat_no_outliers_lr_rmse = rmse(y_test, cat_no_outliers_lr_preds)\n",
        "cat_no_outliers_lr_mape = np.mean(np.abs((y_test - cat_no_outliers_lr_preds)/y_test)*100)\n",
        "cat_no_outliers_lr_rmspe = (np.sqrt(np.mean(np.square((y_test - cat_no_outliers_lr_preds) / y_test)))) * 100\n",
        "cat_no_outliers_lr_model_name = 'Categories w/o Outliers Linear Regression'\n",
        "\n",
        "#create easily readable display of performance metrics\n",
        "cat_no_outliers_lr_dictionary = {'Model': cat_no_outliers_lr_model_name,\n",
        "  'Training Set R Squared': cat_no_outliers_lr_rsquared_train, \n",
        "  'Test Set R Squared': cat_no_outliers_lr_rsquared_test, 'Mean Absolute Error': cat_no_outliers_lr_mae, \n",
        "  'Mean Sqaured Error': cat_no_outliers_lr_mse, 'Root Mean Squared Error': cat_no_outliers_lr_rmse,\n",
        "  'Root Mean Squared Percentage Error': cat_no_outliers_lr_rmspe,\n",
        "  'Mean Absolute Percentage Error': cat_no_outliers_lr_mape}\n",
        "\n",
        "cat_no_outliers_lr_df = pd.DataFrame(cat_no_outliers_lr_dictionary, index=[0])\n",
        "\n",
        "cat_no_outliers_lr_df"
      ],
      "execution_count": null,
      "outputs": [
        {
          "output_type": "execute_result",
          "data": {
            "text/html": [
              "<div>\n",
              "<style scoped>\n",
              "    .dataframe tbody tr th:only-of-type {\n",
              "        vertical-align: middle;\n",
              "    }\n",
              "\n",
              "    .dataframe tbody tr th {\n",
              "        vertical-align: top;\n",
              "    }\n",
              "\n",
              "    .dataframe thead th {\n",
              "        text-align: right;\n",
              "    }\n",
              "</style>\n",
              "<table border=\"1\" class=\"dataframe\">\n",
              "  <thead>\n",
              "    <tr style=\"text-align: right;\">\n",
              "      <th></th>\n",
              "      <th>Model</th>\n",
              "      <th>Training Set R Squared</th>\n",
              "      <th>Test Set R Squared</th>\n",
              "      <th>Mean Absolute Error</th>\n",
              "      <th>Mean Sqaured Error</th>\n",
              "      <th>Root Mean Squared Error</th>\n",
              "      <th>Root Mean Squared Percentage Error</th>\n",
              "      <th>Mean Absolute Percentage Error</th>\n",
              "    </tr>\n",
              "  </thead>\n",
              "  <tbody>\n",
              "    <tr>\n",
              "      <th>0</th>\n",
              "      <td>Categories w/o Outliers Linear Regression</td>\n",
              "      <td>0.489295</td>\n",
              "      <td>0.479863</td>\n",
              "      <td>18051.183778</td>\n",
              "      <td>5.362629e+08</td>\n",
              "      <td>23157.350694</td>\n",
              "      <td>28.103161</td>\n",
              "      <td>20.874016</td>\n",
              "    </tr>\n",
              "  </tbody>\n",
              "</table>\n",
              "</div>"
            ],
            "text/plain": [
              "                                       Model  ...  Mean Absolute Percentage Error\n",
              "0  Categories w/o Outliers Linear Regression  ...                       20.874016\n",
              "\n",
              "[1 rows x 8 columns]"
            ]
          },
          "metadata": {
            "tags": []
          },
          "execution_count": 13
        }
      ]
    },
    {
      "cell_type": "markdown",
      "metadata": {
        "id": "up8wjSo6FXRb"
      },
      "source": [
        "### **yrs_exp_no_outliers_df**"
      ]
    },
    {
      "cell_type": "code",
      "metadata": {
        "colab": {
          "base_uri": "https://localhost:8080/"
        },
        "id": "mUL-xngnFXRc",
        "outputId": "19b67190-4d46-4e24-8b13-228f188eb079"
      },
      "source": [
        "#set features & target\n",
        "X = yrs_exp_no_outliers_df.drop(columns=['avg_sal', 'log_avg_sal'])\n",
        "y = yrs_exp_no_outliers_df['avg_sal']\n",
        "\n",
        "#split data into training & test sets\n",
        "X_train, X_test, y_train, y_test = train_test_split(X, y, test_size = 0.2, random_state = 43)\n",
        "\n",
        "#create instance of model\n",
        "yrs_exp_no_outliers_lr = LinearRegression()\n",
        "\n",
        "#fit model\n",
        "yrs_exp_no_outliers_lr.fit(X_train, y_train)\n",
        "\n",
        "#cross validate\n",
        "yrs_exp_no_outliers_lr_cv_scores = cross_val_score(yrs_exp_no_outliers_lr, X_train, y_train, cv = 5)\n",
        "\n",
        "#get scores\n",
        "print('Accuracy Scores for the 5 folds: ', yrs_exp_no_outliers_lr_cv_scores)\n",
        "print('Mean Cross Validation Score: {:.33f}'.format(np.mean(yrs_exp_no_outliers_lr_cv_scores)))"
      ],
      "execution_count": null,
      "outputs": [
        {
          "output_type": "stream",
          "text": [
            "Accuracy Scores for the 5 folds:  [0.51501906 0.541912   0.49844206 0.41408851 0.52705894]\n",
            "Mean Cross Validation Score: 0.499304115670645753954914880523575\n"
          ],
          "name": "stdout"
        }
      ]
    },
    {
      "cell_type": "code",
      "metadata": {
        "colab": {
          "base_uri": "https://localhost:8080/",
          "height": 108
        },
        "id": "ijC0Uw3cFXRd",
        "outputId": "daa9111f-3cb8-4aba-b1bb-f7dfbf5e32c9"
      },
      "source": [
        "#generate predictions\n",
        "yrs_exp_no_outliers_lr_preds = yrs_exp_no_outliers_lr.predict(X_test)\n",
        "\n",
        "#get performance metrics\n",
        "yrs_exp_no_outliers_lr_rsquared_train = yrs_exp_no_outliers_lr.score(X_train, y_train)\n",
        "yrs_exp_no_outliers_lr_rsquared_test = yrs_exp_no_outliers_lr.score(X_test, y_test)\n",
        "yrs_exp_no_outliers_lr_mae = mean_absolute_error(y_test, yrs_exp_no_outliers_lr_preds)\n",
        "yrs_exp_no_outliers_lr_mse = mse(y_test, yrs_exp_no_outliers_lr_preds)\n",
        "yrs_exp_no_outliers_lr_rmse = rmse(y_test, yrs_exp_no_outliers_lr_preds)\n",
        "yrs_exp_no_outliers_lr_mape = np.mean(np.abs((y_test - yrs_exp_no_outliers_lr_preds)/y_test)*100)\n",
        "yrs_exp_no_outliers_lr_rmspe = (np.sqrt(np.mean(np.square((y_test - yrs_exp_no_outliers_lr_preds) / y_test)))) * 100\n",
        "yrs_exp_no_outliers_lr_model_name = 'Years of Experience w/o Outliers Linear Regression'\n",
        "\n",
        "#create easily readable display of performance metrics\n",
        "yrs_exp_no_outliers_lr_dictionary = {'Model': yrs_exp_no_outliers_lr_model_name,\n",
        "  'Training Set R Squared': yrs_exp_no_outliers_lr_rsquared_train, \n",
        "  'Test Set R Squared': yrs_exp_no_outliers_lr_rsquared_test, 'Mean Absolute Error': yrs_exp_no_outliers_lr_mae, \n",
        "  'Mean Sqaured Error': yrs_exp_no_outliers_lr_mse, 'Root Mean Squared Error': yrs_exp_no_outliers_lr_rmse,\n",
        "  'Root Mean Squared Percentage Error': yrs_exp_no_outliers_lr_rmspe,\n",
        "  'Mean Absolute Percentage Error': yrs_exp_no_outliers_lr_mape}\n",
        "\n",
        "yrs_exp_no_outliers_lr_df = pd.DataFrame(yrs_exp_no_outliers_lr_dictionary, index=[0])\n",
        "\n",
        "yrs_exp_no_outliers_lr_df"
      ],
      "execution_count": null,
      "outputs": [
        {
          "output_type": "execute_result",
          "data": {
            "text/html": [
              "<div>\n",
              "<style scoped>\n",
              "    .dataframe tbody tr th:only-of-type {\n",
              "        vertical-align: middle;\n",
              "    }\n",
              "\n",
              "    .dataframe tbody tr th {\n",
              "        vertical-align: top;\n",
              "    }\n",
              "\n",
              "    .dataframe thead th {\n",
              "        text-align: right;\n",
              "    }\n",
              "</style>\n",
              "<table border=\"1\" class=\"dataframe\">\n",
              "  <thead>\n",
              "    <tr style=\"text-align: right;\">\n",
              "      <th></th>\n",
              "      <th>Model</th>\n",
              "      <th>Training Set R Squared</th>\n",
              "      <th>Test Set R Squared</th>\n",
              "      <th>Mean Absolute Error</th>\n",
              "      <th>Mean Sqaured Error</th>\n",
              "      <th>Root Mean Squared Error</th>\n",
              "      <th>Root Mean Squared Percentage Error</th>\n",
              "      <th>Mean Absolute Percentage Error</th>\n",
              "    </tr>\n",
              "  </thead>\n",
              "  <tbody>\n",
              "    <tr>\n",
              "      <th>0</th>\n",
              "      <td>Years of Experience w/o Outliers Linear Regres...</td>\n",
              "      <td>0.508561</td>\n",
              "      <td>0.491078</td>\n",
              "      <td>17141.075357</td>\n",
              "      <td>4.849097e+08</td>\n",
              "      <td>22020.664173</td>\n",
              "      <td>27.642001</td>\n",
              "      <td>19.863938</td>\n",
              "    </tr>\n",
              "  </tbody>\n",
              "</table>\n",
              "</div>"
            ],
            "text/plain": [
              "                                               Model  ...  Mean Absolute Percentage Error\n",
              "0  Years of Experience w/o Outliers Linear Regres...  ...                       19.863938\n",
              "\n",
              "[1 rows x 8 columns]"
            ]
          },
          "metadata": {
            "tags": []
          },
          "execution_count": 15
        }
      ]
    },
    {
      "cell_type": "markdown",
      "metadata": {
        "id": "NJ7peEgxGLcr"
      },
      "source": [
        "### **cat_no_outliers_df log(y)**"
      ]
    },
    {
      "cell_type": "code",
      "metadata": {
        "colab": {
          "base_uri": "https://localhost:8080/"
        },
        "id": "RKxy18V2GLct",
        "outputId": "9f0686ed-c106-475b-e4f6-1d0e362a8e14"
      },
      "source": [
        "#set features & target\n",
        "X = cat_no_outliers_df.drop(columns=['avg_sal', 'log_avg_sal'])\n",
        "y = cat_no_outliers_df['log_avg_sal']\n",
        "\n",
        "#split data into training & test sets\n",
        "X_train, X_test, y_train, y_test = train_test_split(X, y, test_size = 0.2, random_state = 43)\n",
        "\n",
        "#create instance of model\n",
        "log_cat_no_outliers_lr = LinearRegression()\n",
        "\n",
        "#fit model\n",
        "log_cat_no_outliers_lr.fit(X_train, y_train)\n",
        "\n",
        "#cross validate\n",
        "log_cat_no_outliers_lr_cv_scores = cross_val_score(log_cat_no_outliers_lr, X_train, y_train, cv = 5)\n",
        "\n",
        "#get scores\n",
        "print('Accuracy Scores for the 5 folds: ', log_cat_no_outliers_lr_cv_scores)\n",
        "print('Mean Cross Validation Score: {:.33f}'.format(np.mean(log_cat_no_outliers_lr_cv_scores)))"
      ],
      "execution_count": null,
      "outputs": [
        {
          "output_type": "stream",
          "text": [
            "Accuracy Scores for the 5 folds:  [0.50528471 0.4692603  0.50977702 0.45155866 0.48088241]\n",
            "Mean Cross Validation Score: 0.483352621611728594519519219829817\n"
          ],
          "name": "stdout"
        }
      ]
    },
    {
      "cell_type": "code",
      "metadata": {
        "colab": {
          "base_uri": "https://localhost:8080/",
          "height": 108
        },
        "id": "fAKvMdzpGLcu",
        "outputId": "49875873-1b0a-484c-e071-f40e2a3ddda5"
      },
      "source": [
        "#generate predictions\n",
        "log_cat_no_outliers_lr_preds = log_cat_no_outliers_lr.predict(X_test)\n",
        "\n",
        "#get performance metrics\n",
        "log_cat_no_outliers_lr_rsquared_train = log_cat_no_outliers_lr.score(X_train, y_train)\n",
        "log_cat_no_outliers_lr_rsquared_test = log_cat_no_outliers_lr.score(X_test, y_test)\n",
        "log_cat_no_outliers_lr_mae = mean_absolute_error(y_test, log_cat_no_outliers_lr_preds)\n",
        "log_cat_no_outliers_lr_mse = mse(y_test, log_cat_no_outliers_lr_preds)\n",
        "log_cat_no_outliers_lr_rmse = rmse(y_test, log_cat_no_outliers_lr_preds)\n",
        "log_cat_no_outliers_lr_mape = np.mean(np.abs((y_test - log_cat_no_outliers_lr_preds)/y_test)*100)\n",
        "log_cat_no_outliers_lr_rmspe = (np.sqrt(np.mean(np.square((y_test - log_cat_no_outliers_lr_preds) / y_test)))) * 100\n",
        "log_cat_no_outliers_lr_model_name = 'Categories w/o Outliers Linear Regression Log(y)'\n",
        "\n",
        "#create easily readable display of performance metrics\n",
        "log_cat_no_outliers_lr_dictionary = {'Model': log_cat_no_outliers_lr_model_name,\n",
        "  'Training Set R Squared': log_cat_no_outliers_lr_rsquared_train, \n",
        "  'Test Set R Squared': log_cat_no_outliers_lr_rsquared_test, 'Mean Absolute Error': log_cat_no_outliers_lr_mae, \n",
        "  'Mean Sqaured Error': log_cat_no_outliers_lr_mse, 'Root Mean Squared Error': log_cat_no_outliers_lr_rmse,\n",
        "  'Root Mean Squared Percentage Error': log_cat_no_outliers_lr_rmspe,\n",
        "  'Mean Absolute Percentage Error': log_cat_no_outliers_lr_mape}\n",
        "\n",
        "log_cat_no_outliers_lr_df = pd.DataFrame(log_cat_no_outliers_lr_dictionary, index=[0])\n",
        "\n",
        "log_cat_no_outliers_lr_df"
      ],
      "execution_count": null,
      "outputs": [
        {
          "output_type": "execute_result",
          "data": {
            "text/html": [
              "<div>\n",
              "<style scoped>\n",
              "    .dataframe tbody tr th:only-of-type {\n",
              "        vertical-align: middle;\n",
              "    }\n",
              "\n",
              "    .dataframe tbody tr th {\n",
              "        vertical-align: top;\n",
              "    }\n",
              "\n",
              "    .dataframe thead th {\n",
              "        text-align: right;\n",
              "    }\n",
              "</style>\n",
              "<table border=\"1\" class=\"dataframe\">\n",
              "  <thead>\n",
              "    <tr style=\"text-align: right;\">\n",
              "      <th></th>\n",
              "      <th>Model</th>\n",
              "      <th>Training Set R Squared</th>\n",
              "      <th>Test Set R Squared</th>\n",
              "      <th>Mean Absolute Error</th>\n",
              "      <th>Mean Sqaured Error</th>\n",
              "      <th>Root Mean Squared Error</th>\n",
              "      <th>Root Mean Squared Percentage Error</th>\n",
              "      <th>Mean Absolute Percentage Error</th>\n",
              "    </tr>\n",
              "  </thead>\n",
              "  <tbody>\n",
              "    <tr>\n",
              "      <th>0</th>\n",
              "      <td>Categories w/o Outliers Linear Regression Log(y)</td>\n",
              "      <td>0.489235</td>\n",
              "      <td>0.485</td>\n",
              "      <td>0.19456</td>\n",
              "      <td>0.060979</td>\n",
              "      <td>0.246939</td>\n",
              "      <td>2.178272</td>\n",
              "      <td>1.711419</td>\n",
              "    </tr>\n",
              "  </tbody>\n",
              "</table>\n",
              "</div>"
            ],
            "text/plain": [
              "                                              Model  ...  Mean Absolute Percentage Error\n",
              "0  Categories w/o Outliers Linear Regression Log(y)  ...                        1.711419\n",
              "\n",
              "[1 rows x 8 columns]"
            ]
          },
          "metadata": {
            "tags": []
          },
          "execution_count": 17
        }
      ]
    },
    {
      "cell_type": "markdown",
      "metadata": {
        "id": "NrFHxTd3GLcu"
      },
      "source": [
        "### **yrs_exp_no_outliers_df**"
      ]
    },
    {
      "cell_type": "code",
      "metadata": {
        "colab": {
          "base_uri": "https://localhost:8080/"
        },
        "id": "KPXj2UkUGLcv",
        "outputId": "e6ca9a72-27de-4ebc-e10a-85459bdcfe43"
      },
      "source": [
        "#set features & target\n",
        "X = yrs_exp_no_outliers_df.drop(columns=['avg_sal', 'log_avg_sal'])\n",
        "y = yrs_exp_no_outliers_df['log_avg_sal']\n",
        "\n",
        "#split data into training & test sets\n",
        "X_train, X_test, y_train, y_test = train_test_split(X, y, test_size = 0.2, random_state = 43)\n",
        "\n",
        "#create instance of model\n",
        "log_yrs_exp_no_outliers_lr = LinearRegression()\n",
        "\n",
        "#fit model\n",
        "log_yrs_exp_no_outliers_lr.fit(X_train, y_train)\n",
        "\n",
        "#cross validate\n",
        "log_yrs_exp_no_outliers_lr_cv_scores = cross_val_score(log_yrs_exp_no_outliers_lr, X_train, y_train, cv = 5)\n",
        "\n",
        "#get scores\n",
        "print('Accuracy Scores for the 5 folds: ', log_yrs_exp_no_outliers_lr_cv_scores)\n",
        "print('Mean Cross Validation Score: {:.33f}'.format(np.mean(log_yrs_exp_no_outliers_lr_cv_scores)))"
      ],
      "execution_count": null,
      "outputs": [
        {
          "output_type": "stream",
          "text": [
            "Accuracy Scores for the 5 folds:  [0.52017454 0.54613591 0.49518816 0.41289742 0.51657891]\n",
            "Mean Cross Validation Score: 0.498194986165364395169774525129469\n"
          ],
          "name": "stdout"
        }
      ]
    },
    {
      "cell_type": "code",
      "metadata": {
        "colab": {
          "base_uri": "https://localhost:8080/",
          "height": 108
        },
        "id": "iorrstewGLcv",
        "outputId": "a0f16d34-cd90-405f-85a6-3a7719508be9"
      },
      "source": [
        "#generate predictions\n",
        "log_yrs_exp_no_outliers_lr_preds = log_yrs_exp_no_outliers_lr.predict(X_test)\n",
        "\n",
        "#get performance metrics\n",
        "log_yrs_exp_no_outliers_lr_rsquared_train = log_yrs_exp_no_outliers_lr.score(X_train, y_train)\n",
        "log_yrs_exp_no_outliers_lr_rsquared_test = log_yrs_exp_no_outliers_lr.score(X_test, y_test)\n",
        "log_yrs_exp_no_outliers_lr_mae = mean_absolute_error(y_test, log_yrs_exp_no_outliers_lr_preds)\n",
        "log_yrs_exp_no_outliers_lr_mse = mse(y_test, log_yrs_exp_no_outliers_lr_preds)\n",
        "log_yrs_exp_no_outliers_lr_rmse = rmse(y_test, log_yrs_exp_no_outliers_lr_preds)\n",
        "log_yrs_exp_no_outliers_lr_mape = np.mean(np.abs((y_test - log_yrs_exp_no_outliers_lr_preds)/y_test)*100)\n",
        "log_yrs_exp_no_outliers_lr_rmspe = (np.sqrt(np.mean(np.square((y_test - log_yrs_exp_no_outliers_lr_preds) / y_test)))) * 100\n",
        "log_yrs_exp_no_outliers_lr_model_name = 'Years of Experience w/o Outliers Linear Regression Log(y)'\n",
        "\n",
        "#create easily readable display of performance metrics\n",
        "log_yrs_exp_no_outliers_lr_dictionary = {'Model': log_yrs_exp_no_outliers_lr_model_name,\n",
        "  'Training Set R Squared': log_yrs_exp_no_outliers_lr_rsquared_train, \n",
        "  'Test Set R Squared': log_yrs_exp_no_outliers_lr_rsquared_test, 'Mean Absolute Error': log_yrs_exp_no_outliers_lr_mae, \n",
        "  'Mean Sqaured Error': log_yrs_exp_no_outliers_lr_mse, 'Root Mean Squared Error': log_yrs_exp_no_outliers_lr_rmse,\n",
        "  'Root Mean Squared Percentage Error': log_yrs_exp_no_outliers_lr_rmspe,\n",
        "  'Mean Absolute Percentage Error': log_yrs_exp_no_outliers_lr_mape}\n",
        "\n",
        "log_yrs_exp_no_outliers_lr_df = pd.DataFrame(log_yrs_exp_no_outliers_lr_dictionary, index=[0])\n",
        "\n",
        "log_yrs_exp_no_outliers_lr_df"
      ],
      "execution_count": null,
      "outputs": [
        {
          "output_type": "execute_result",
          "data": {
            "text/html": [
              "<div>\n",
              "<style scoped>\n",
              "    .dataframe tbody tr th:only-of-type {\n",
              "        vertical-align: middle;\n",
              "    }\n",
              "\n",
              "    .dataframe tbody tr th {\n",
              "        vertical-align: top;\n",
              "    }\n",
              "\n",
              "    .dataframe thead th {\n",
              "        text-align: right;\n",
              "    }\n",
              "</style>\n",
              "<table border=\"1\" class=\"dataframe\">\n",
              "  <thead>\n",
              "    <tr style=\"text-align: right;\">\n",
              "      <th></th>\n",
              "      <th>Model</th>\n",
              "      <th>Training Set R Squared</th>\n",
              "      <th>Test Set R Squared</th>\n",
              "      <th>Mean Absolute Error</th>\n",
              "      <th>Mean Sqaured Error</th>\n",
              "      <th>Root Mean Squared Error</th>\n",
              "      <th>Root Mean Squared Percentage Error</th>\n",
              "      <th>Mean Absolute Percentage Error</th>\n",
              "    </tr>\n",
              "  </thead>\n",
              "  <tbody>\n",
              "    <tr>\n",
              "      <th>0</th>\n",
              "      <td>Years of Experience w/o Outliers Linear Regres...</td>\n",
              "      <td>0.507328</td>\n",
              "      <td>0.495107</td>\n",
              "      <td>0.184104</td>\n",
              "      <td>0.055574</td>\n",
              "      <td>0.235741</td>\n",
              "      <td>2.083967</td>\n",
              "      <td>1.619615</td>\n",
              "    </tr>\n",
              "  </tbody>\n",
              "</table>\n",
              "</div>"
            ],
            "text/plain": [
              "                                               Model  ...  Mean Absolute Percentage Error\n",
              "0  Years of Experience w/o Outliers Linear Regres...  ...                        1.619615\n",
              "\n",
              "[1 rows x 8 columns]"
            ]
          },
          "metadata": {
            "tags": []
          },
          "execution_count": 19
        }
      ]
    },
    {
      "cell_type": "markdown",
      "metadata": {
        "id": "gR2ZM1ch-FUS"
      },
      "source": [
        "## **Ridge Regression**"
      ]
    },
    {
      "cell_type": "markdown",
      "metadata": {
        "id": "D8Jdw20S-FUS"
      },
      "source": [
        "### **categories_df**"
      ]
    },
    {
      "cell_type": "code",
      "metadata": {
        "colab": {
          "base_uri": "https://localhost:8080/"
        },
        "id": "yBBPVVlB3bjK",
        "outputId": "653db9ca-9201-4e07-d3e7-1248990f9561"
      },
      "source": [
        "#set features & target\n",
        "X = categories_df.drop(columns=['avg_sal', 'log_avg_sal'])\n",
        "y = categories_df['avg_sal']\n",
        "\n",
        "#split data into training & test sets\n",
        "X_train, X_test, y_train, y_test = train_test_split(X, y, test_size = 0.2, random_state = 43)\n",
        "\n",
        "#Use grid search to find best hyperparameters\n",
        "# defining parameter range \n",
        "param_grid = {'alpha': [0.001, 0.01, 0.1, 1, 10, 100, 1000]} \n",
        "\n",
        "categories_ridge_grid = GridSearchCV(Ridge(), param_grid)\n",
        "\n",
        "# fitting the model for grid search \n",
        "categories_ridge_grid.fit(X_train, y_train) \n",
        "# print best parameter after tuning \n",
        "print(categories_ridge_grid.best_params_)\n",
        "\n",
        "# print how our model looks after hyper-parameter tuning \n",
        "print(categories_ridge_grid.best_estimator_)"
      ],
      "execution_count": null,
      "outputs": [
        {
          "output_type": "stream",
          "text": [
            "{'alpha': 10}\n",
            "Ridge(alpha=10, copy_X=True, fit_intercept=True, max_iter=None, normalize=False,\n",
            "      random_state=None, solver='auto', tol=0.001)\n"
          ],
          "name": "stdout"
        }
      ]
    },
    {
      "cell_type": "code",
      "metadata": {
        "colab": {
          "base_uri": "https://localhost:8080/"
        },
        "id": "BdbgdUxn3bjL",
        "outputId": "d513b77a-e6c3-47a6-dc08-675e3aaf50b2"
      },
      "source": [
        "#set model with ideal hyperparameters from above\n",
        "categories_ridge = categories_ridge_grid.best_estimator_\n",
        "categories_ridge.fit(X_train, y_train)\n",
        "\n",
        "#cross validate\n",
        "categories_ridge_scores = cross_val_score(categories_ridge, X_train, y_train, cv = 5)\n",
        "\n",
        "print('Accuracy Scores for the 5 folds: ', categories_ridge_scores)\n",
        "print('Mean Cross Validation Score: {:.33f}'.format(np.mean(categories_ridge_scores)))"
      ],
      "execution_count": null,
      "outputs": [
        {
          "output_type": "stream",
          "text": [
            "Accuracy Scores for the 5 folds:  [0.4776661  0.4942717  0.44816994 0.44156013 0.44966117]\n",
            "Mean Cross Validation Score: 0.462265809739932975741538712100009\n"
          ],
          "name": "stdout"
        }
      ]
    },
    {
      "cell_type": "code",
      "metadata": {
        "colab": {
          "base_uri": "https://localhost:8080/",
          "height": 108
        },
        "id": "OrKcqSZq3bjM",
        "outputId": "45b94a72-f359-438b-b8ab-ddb2d64a3e3d"
      },
      "source": [
        "#generate predictions\n",
        "categories_ridge_preds = categories_ridge.predict(X_test)\n",
        "\n",
        "#more performance metrics\n",
        "categories_ridge_rsquared_train = categories_ridge.score(X_train, y_train)\n",
        "categories_ridge_rsquared_test = categories_ridge.score(X_test, y_test)\n",
        "categories_ridge_mae = mean_absolute_error(y_test, categories_ridge_preds)\n",
        "categories_ridge_mse = mse(y_test, categories_ridge_preds)\n",
        "categories_ridge_rmse = rmse(y_test, categories_ridge_preds)\n",
        "categories_ridge_mape = np.mean(np.abs((y_test - categories_ridge_preds)/y_test)*100)\n",
        "categories_ridge_rmspe = (np.sqrt(np.mean(np.square((y_test - categories_ridge_preds) / y_test)))) * 100\n",
        "categories_ridge_model_name = 'Categories Ridge Regression'\n",
        "\n",
        "#create easily readable display of performance metrics\n",
        "categories_ridge_dictionary = {'Model': categories_ridge_model_name,\n",
        "  'Training Set R Squared': categories_ridge_rsquared_train, \n",
        "  'Test Set R Squared': categories_ridge_rsquared_test, 'Mean Absolute Error': categories_ridge_mae, \n",
        "  'Mean Sqaured Error': categories_ridge_mse, 'Root Mean Squared Error': categories_ridge_rmse,\n",
        "  'Root Mean Squared Percentage Error': categories_ridge_rmspe,\n",
        "  'Mean Absolute Percentage Error': categories_ridge_mape}\n",
        "\n",
        "categories_ridge_df = pd.DataFrame(categories_ridge_dictionary, index=[0])\n",
        "\n",
        "categories_ridge_df"
      ],
      "execution_count": null,
      "outputs": [
        {
          "output_type": "execute_result",
          "data": {
            "text/html": [
              "<div>\n",
              "<style scoped>\n",
              "    .dataframe tbody tr th:only-of-type {\n",
              "        vertical-align: middle;\n",
              "    }\n",
              "\n",
              "    .dataframe tbody tr th {\n",
              "        vertical-align: top;\n",
              "    }\n",
              "\n",
              "    .dataframe thead th {\n",
              "        text-align: right;\n",
              "    }\n",
              "</style>\n",
              "<table border=\"1\" class=\"dataframe\">\n",
              "  <thead>\n",
              "    <tr style=\"text-align: right;\">\n",
              "      <th></th>\n",
              "      <th>Model</th>\n",
              "      <th>Training Set R Squared</th>\n",
              "      <th>Test Set R Squared</th>\n",
              "      <th>Mean Absolute Error</th>\n",
              "      <th>Mean Sqaured Error</th>\n",
              "      <th>Root Mean Squared Error</th>\n",
              "      <th>Root Mean Squared Percentage Error</th>\n",
              "      <th>Mean Absolute Percentage Error</th>\n",
              "    </tr>\n",
              "  </thead>\n",
              "  <tbody>\n",
              "    <tr>\n",
              "      <th>0</th>\n",
              "      <td>Categories Ridge Regression</td>\n",
              "      <td>0.466422</td>\n",
              "      <td>0.495013</td>\n",
              "      <td>18360.500359</td>\n",
              "      <td>6.134306e+08</td>\n",
              "      <td>24767.530763</td>\n",
              "      <td>28.207731</td>\n",
              "      <td>20.52118</td>\n",
              "    </tr>\n",
              "  </tbody>\n",
              "</table>\n",
              "</div>"
            ],
            "text/plain": [
              "                         Model  ...  Mean Absolute Percentage Error\n",
              "0  Categories Ridge Regression  ...                        20.52118\n",
              "\n",
              "[1 rows x 8 columns]"
            ]
          },
          "metadata": {
            "tags": []
          },
          "execution_count": 23
        }
      ]
    },
    {
      "cell_type": "markdown",
      "metadata": {
        "id": "V0LhJM_D-FUT"
      },
      "source": [
        "### **yrs_exp_df**"
      ]
    },
    {
      "cell_type": "code",
      "metadata": {
        "colab": {
          "base_uri": "https://localhost:8080/"
        },
        "id": "7-2Yt4Bl4HRW",
        "outputId": "4b81dccd-9f2b-4676-c342-b1c5ce211f7f"
      },
      "source": [
        "#set features & target\n",
        "X = yrs_exp_df.drop(columns=['avg_sal', 'log_avg_sal'])\n",
        "y = yrs_exp_df['avg_sal']\n",
        "\n",
        "#split data into training & test sets\n",
        "X_train, X_test, y_train, y_test = train_test_split(X, y, test_size = 0.2, random_state = 43)\n",
        "\n",
        "#Use grid search to find best hyperparameters\n",
        "# defining parameter range \n",
        "param_grid = {'alpha': [0.001, 0.01, 0.1, 1, 10, 100, 1000]} \n",
        "\n",
        "yrs_exp_ridge_grid = GridSearchCV(Ridge(), param_grid)\n",
        "\n",
        "# fitting the model for grid search \n",
        "yrs_exp_ridge_grid.fit(X_train, y_train) \n",
        "# print best parameter after tuning \n",
        "print(yrs_exp_ridge_grid.best_params_)\n",
        "\n",
        "# print how our model looks after hyper-parameter tuning \n",
        "print(yrs_exp_ridge_grid.best_estimator_)"
      ],
      "execution_count": null,
      "outputs": [
        {
          "output_type": "stream",
          "text": [
            "{'alpha': 10}\n",
            "Ridge(alpha=10, copy_X=True, fit_intercept=True, max_iter=None, normalize=False,\n",
            "      random_state=None, solver='auto', tol=0.001)\n"
          ],
          "name": "stdout"
        }
      ]
    },
    {
      "cell_type": "code",
      "metadata": {
        "colab": {
          "base_uri": "https://localhost:8080/"
        },
        "id": "S3Ts3zj34HRW",
        "outputId": "514c3dd2-2db8-4026-da2f-97eec28d92ef"
      },
      "source": [
        "#set model with ideal hyperparameters from above\n",
        "yrs_exp_ridge = yrs_exp_ridge_grid.best_estimator_\n",
        "\n",
        "yrs_exp_ridge.fit(X_train, y_train)\n",
        "\n",
        "#cross validate\n",
        "yrs_exp_ridge_scores = cross_val_score(yrs_exp_ridge, X_train, y_train, cv = 5)\n",
        "\n",
        "print('Accuracy Scores for the 5 folds: ', yrs_exp_ridge_scores)\n",
        "print('Mean Cross Validation Score: {:.33f}'.format(np.mean(yrs_exp_ridge_scores)))"
      ],
      "execution_count": null,
      "outputs": [
        {
          "output_type": "stream",
          "text": [
            "Accuracy Scores for the 5 folds:  [0.44475502 0.49231733 0.51539705 0.46665331 0.49469927]\n",
            "Mean Cross Validation Score: 0.482764397338892758959616458014352\n"
          ],
          "name": "stdout"
        }
      ]
    },
    {
      "cell_type": "code",
      "metadata": {
        "colab": {
          "base_uri": "https://localhost:8080/",
          "height": 108
        },
        "id": "JscpxUQ-4HRX",
        "outputId": "1bb96d37-c562-420d-b59f-4bf2dcfdfef1"
      },
      "source": [
        "#generate predictions\n",
        "yrs_exp_ridge_preds = yrs_exp_ridge.predict(X_test)\n",
        "\n",
        "#more performance metrics\n",
        "yrs_exp_ridge_rsquared_train = yrs_exp_ridge.score(X_train, y_train)\n",
        "yrs_exp_ridge_rsquared_test = yrs_exp_ridge.score(X_test, y_test)\n",
        "yrs_exp_ridge_mae = mean_absolute_error(y_test, yrs_exp_ridge_preds)\n",
        "yrs_exp_ridge_mse = mse(y_test, yrs_exp_ridge_preds)\n",
        "yrs_exp_ridge_rmse = rmse(y_test, yrs_exp_ridge_preds)\n",
        "yrs_exp_ridge_mape = np.mean(np.abs((y_test - yrs_exp_ridge_preds)/y_test)*100)\n",
        "yrs_exp_ridge_rmspe = (np.sqrt(np.mean(np.square((y_test - yrs_exp_ridge_preds) / y_test)))) * 100\n",
        "yrs_exp_model_name = 'Years of Experience Ridge Regression'\n",
        "\n",
        "#create easily readable display of performance metrics\n",
        "yrs_exp_ridge_dictionary = {'Model': yrs_exp_model_name, \n",
        "  'Training Set R Squared': yrs_exp_ridge_rsquared_train, \n",
        "  'Test Set R Squared': yrs_exp_ridge_rsquared_test, 'Mean Absolute Error': yrs_exp_ridge_mae, \n",
        "  'Mean Sqaured Error': yrs_exp_ridge_mse, 'Root Mean Squared Error': yrs_exp_ridge_rmse,\n",
        "  'Root Mean Squared Percentage Error': yrs_exp_ridge_rmspe,\n",
        "  'Mean Absolute Percentage Error': yrs_exp_ridge_mape}\n",
        "\n",
        "yrs_exp_ridge_df = pd.DataFrame(yrs_exp_ridge_dictionary, index=[0])\n",
        "\n",
        "yrs_exp_ridge_df"
      ],
      "execution_count": null,
      "outputs": [
        {
          "output_type": "execute_result",
          "data": {
            "text/html": [
              "<div>\n",
              "<style scoped>\n",
              "    .dataframe tbody tr th:only-of-type {\n",
              "        vertical-align: middle;\n",
              "    }\n",
              "\n",
              "    .dataframe tbody tr th {\n",
              "        vertical-align: top;\n",
              "    }\n",
              "\n",
              "    .dataframe thead th {\n",
              "        text-align: right;\n",
              "    }\n",
              "</style>\n",
              "<table border=\"1\" class=\"dataframe\">\n",
              "  <thead>\n",
              "    <tr style=\"text-align: right;\">\n",
              "      <th></th>\n",
              "      <th>Model</th>\n",
              "      <th>Training Set R Squared</th>\n",
              "      <th>Test Set R Squared</th>\n",
              "      <th>Mean Absolute Error</th>\n",
              "      <th>Mean Sqaured Error</th>\n",
              "      <th>Root Mean Squared Error</th>\n",
              "      <th>Root Mean Squared Percentage Error</th>\n",
              "      <th>Mean Absolute Percentage Error</th>\n",
              "    </tr>\n",
              "  </thead>\n",
              "  <tbody>\n",
              "    <tr>\n",
              "      <th>0</th>\n",
              "      <td>Years of Experience Ridge Regression</td>\n",
              "      <td>0.488114</td>\n",
              "      <td>0.5103</td>\n",
              "      <td>18194.34841</td>\n",
              "      <td>5.861640e+08</td>\n",
              "      <td>24210.824751</td>\n",
              "      <td>29.682176</td>\n",
              "      <td>21.286802</td>\n",
              "    </tr>\n",
              "  </tbody>\n",
              "</table>\n",
              "</div>"
            ],
            "text/plain": [
              "                                  Model  ...  Mean Absolute Percentage Error\n",
              "0  Years of Experience Ridge Regression  ...                       21.286802\n",
              "\n",
              "[1 rows x 8 columns]"
            ]
          },
          "metadata": {
            "tags": []
          },
          "execution_count": 26
        }
      ]
    },
    {
      "cell_type": "markdown",
      "metadata": {
        "id": "ieMIVNTRpKPa"
      },
      "source": [
        "### **categories_df log(y)**"
      ]
    },
    {
      "cell_type": "code",
      "metadata": {
        "colab": {
          "base_uri": "https://localhost:8080/"
        },
        "id": "Ut-CcTytpKPa",
        "outputId": "eeb3156d-6530-484d-e165-b02c2271d4d9"
      },
      "source": [
        "#set features & target\n",
        "X = categories_df.drop(columns=['avg_sal', 'log_avg_sal'])\n",
        "y = categories_df['log_avg_sal']\n",
        "\n",
        "#split data into training & test sets\n",
        "X_train, X_test, y_train, y_test = train_test_split(X, y, test_size = 0.2, random_state = 43)\n",
        "\n",
        "#Use grid search to find best hyperparameters\n",
        "# defining parameter range \n",
        "param_grid = {'alpha': [0.001, 0.01, 0.1, 1, 10, 100, 1000]} \n",
        "\n",
        "log_categories_ridge_grid = GridSearchCV(Ridge(), param_grid)\n",
        "\n",
        "# fitting the model for grid search \n",
        "log_categories_ridge_grid.fit(X_train, y_train) \n",
        "# print best parameter after tuning \n",
        "print(log_categories_ridge_grid.best_params_)\n",
        "\n",
        "# print how our model looks after hyper-parameter tuning \n",
        "print(log_categories_ridge_grid.best_estimator_)"
      ],
      "execution_count": null,
      "outputs": [
        {
          "output_type": "stream",
          "text": [
            "{'alpha': 10}\n",
            "Ridge(alpha=10, copy_X=True, fit_intercept=True, max_iter=None, normalize=False,\n",
            "      random_state=None, solver='auto', tol=0.001)\n"
          ],
          "name": "stdout"
        }
      ]
    },
    {
      "cell_type": "code",
      "metadata": {
        "colab": {
          "base_uri": "https://localhost:8080/"
        },
        "id": "0av6f1xLpKPb",
        "outputId": "3c579ffa-e0a6-44dd-c090-b54a214657bf"
      },
      "source": [
        "#set model with ideal hyperparameters from above\n",
        "log_categories_ridge = log_categories_ridge_grid.best_estimator_\n",
        "\n",
        "log_categories_ridge.fit(X_train, y_train)\n",
        "\n",
        "#cross validate\n",
        "log_categories_ridge_scores = cross_val_score(log_categories_ridge, X_train, y_train, cv = 5)\n",
        "\n",
        "print('Accuracy Scores for the 5 folds: ', log_categories_ridge_scores)\n",
        "print('Mean Cross Validation Score: {:.33f}'.format(np.mean(log_categories_ridge_scores)))"
      ],
      "execution_count": null,
      "outputs": [
        {
          "output_type": "stream",
          "text": [
            "Accuracy Scores for the 5 folds:  [0.48860835 0.5065069  0.45696896 0.48598761 0.46701077]\n",
            "Mean Cross Validation Score: 0.481016517701274015639256731446949\n"
          ],
          "name": "stdout"
        }
      ]
    },
    {
      "cell_type": "code",
      "metadata": {
        "colab": {
          "base_uri": "https://localhost:8080/",
          "height": 108
        },
        "id": "cu4yHeS9pKPc",
        "outputId": "b2a980ce-cd6e-47f1-8f2c-443643bb1265"
      },
      "source": [
        "#generate predictions\n",
        "log_categories_ridge_preds = log_categories_ridge.predict(X_test)\n",
        "\n",
        "#more performance metrics\n",
        "log_categories_ridge_rsquared_train = log_categories_ridge.score(X_train, y_train)\n",
        "log_categories_ridge_rsquared_test = log_categories_ridge.score(X_test, y_test)\n",
        "log_categories_ridge_mae = mean_absolute_error(y_test, log_categories_ridge_preds)\n",
        "log_categories_ridge_mse = mse(y_test, log_categories_ridge_preds)\n",
        "log_categories_ridge_rmse = rmse(y_test, log_categories_ridge_preds)\n",
        "log_categories_ridge_mape = np.mean(np.abs((y_test - log_categories_ridge_preds)/y_test)*100)\n",
        "log_categories_ridge_rmspe = (np.sqrt(np.mean(np.square((y_test - log_categories_ridge_preds) / y_test)))) * 100\n",
        "log_categories_ridge_model_name = 'Categories Ridge Regression Log(y)'\n",
        "\n",
        "#create easily readable display of performance metrics\n",
        "log_categories_ridge_dictionary = {'Model': log_categories_ridge_model_name,\n",
        "  'Training Set R Squared': log_categories_ridge_rsquared_train, \n",
        "  'Test Set R Squared': log_categories_ridge_rsquared_test, 'Mean Absolute Error': log_categories_ridge_mae, \n",
        "  'Mean Sqaured Error': log_categories_ridge_mse, 'Root Mean Squared Error': log_categories_ridge_rmse,\n",
        "  'Root Mean Squared Percentage Error': log_categories_ridge_rmspe,\n",
        "  'Mean Absolute Percentage Error': log_categories_ridge_mape}\n",
        "\n",
        "log_categories_ridge_df = pd.DataFrame(log_categories_ridge_dictionary, index=[0])\n",
        "\n",
        "log_categories_ridge_df"
      ],
      "execution_count": null,
      "outputs": [
        {
          "output_type": "execute_result",
          "data": {
            "text/html": [
              "<div>\n",
              "<style scoped>\n",
              "    .dataframe tbody tr th:only-of-type {\n",
              "        vertical-align: middle;\n",
              "    }\n",
              "\n",
              "    .dataframe tbody tr th {\n",
              "        vertical-align: top;\n",
              "    }\n",
              "\n",
              "    .dataframe thead th {\n",
              "        text-align: right;\n",
              "    }\n",
              "</style>\n",
              "<table border=\"1\" class=\"dataframe\">\n",
              "  <thead>\n",
              "    <tr style=\"text-align: right;\">\n",
              "      <th></th>\n",
              "      <th>Model</th>\n",
              "      <th>Training Set R Squared</th>\n",
              "      <th>Test Set R Squared</th>\n",
              "      <th>Mean Absolute Error</th>\n",
              "      <th>Mean Sqaured Error</th>\n",
              "      <th>Root Mean Squared Error</th>\n",
              "      <th>Root Mean Squared Percentage Error</th>\n",
              "      <th>Mean Absolute Percentage Error</th>\n",
              "    </tr>\n",
              "  </thead>\n",
              "  <tbody>\n",
              "    <tr>\n",
              "      <th>0</th>\n",
              "      <td>Categories Ridge Regression Log(y)</td>\n",
              "      <td>0.485586</td>\n",
              "      <td>0.5104</td>\n",
              "      <td>0.192337</td>\n",
              "      <td>0.063028</td>\n",
              "      <td>0.251054</td>\n",
              "      <td>2.204853</td>\n",
              "      <td>1.687635</td>\n",
              "    </tr>\n",
              "  </tbody>\n",
              "</table>\n",
              "</div>"
            ],
            "text/plain": [
              "                                Model  ...  Mean Absolute Percentage Error\n",
              "0  Categories Ridge Regression Log(y)  ...                        1.687635\n",
              "\n",
              "[1 rows x 8 columns]"
            ]
          },
          "metadata": {
            "tags": []
          },
          "execution_count": 29
        }
      ]
    },
    {
      "cell_type": "markdown",
      "metadata": {
        "id": "FG0tt8DMpKPc"
      },
      "source": [
        "### **yrs_exp_df log(y)**"
      ]
    },
    {
      "cell_type": "code",
      "metadata": {
        "colab": {
          "base_uri": "https://localhost:8080/"
        },
        "id": "PAaldymypKPd",
        "outputId": "ced75e0d-e9ca-4816-b671-d02733fdeaff"
      },
      "source": [
        "#set features & target\n",
        "X = yrs_exp_df.drop(columns=['avg_sal', 'log_avg_sal'])\n",
        "y = yrs_exp_df['log_avg_sal']\n",
        "\n",
        "#split data into training & test sets\n",
        "X_train, X_test, y_train, y_test = train_test_split(X, y, test_size = 0.2, random_state = 43)\n",
        "\n",
        "#Use grid search to find best hyperparameters\n",
        "# defining parameter range \n",
        "param_grid = {'alpha': [0.001, 0.01, 0.1, 1, 10, 100, 1000]} \n",
        "\n",
        "log_yrs_exp_ridge_grid = GridSearchCV(Ridge(), param_grid)\n",
        "\n",
        "# fitting the model for grid search \n",
        "log_yrs_exp_ridge_grid.fit(X_train, y_train) \n",
        "# print best parameter after tuning \n",
        "print(log_yrs_exp_ridge_grid.best_params_)\n",
        "\n",
        "# print how our model looks after hyper-parameter tuning \n",
        "print(log_yrs_exp_ridge_grid.best_estimator_)"
      ],
      "execution_count": null,
      "outputs": [
        {
          "output_type": "stream",
          "text": [
            "{'alpha': 10}\n",
            "Ridge(alpha=10, copy_X=True, fit_intercept=True, max_iter=None, normalize=False,\n",
            "      random_state=None, solver='auto', tol=0.001)\n"
          ],
          "name": "stdout"
        }
      ]
    },
    {
      "cell_type": "code",
      "metadata": {
        "colab": {
          "base_uri": "https://localhost:8080/"
        },
        "id": "ECbRkTPHpKPd",
        "outputId": "880bb35f-cd4d-4ed4-e669-b385f6a607d0"
      },
      "source": [
        "#set model with ideal hyperparameters from above\n",
        "log_yrs_exp_ridge = log_yrs_exp_ridge_grid.best_estimator_\n",
        "\n",
        "log_yrs_exp_ridge.fit(X_train, y_train)\n",
        "\n",
        "#cross validate\n",
        "log_yrs_exp_ridge_scores = cross_val_score(log_yrs_exp_ridge, X_train, y_train, cv = 5)\n",
        "\n",
        "print('Accuracy Scores for the 5 folds: ', log_yrs_exp_ridge_scores)\n",
        "print('Mean Cross Validation Score: {:.33f}'.format(np.mean(log_yrs_exp_ridge_scores)))"
      ],
      "execution_count": null,
      "outputs": [
        {
          "output_type": "stream",
          "text": [
            "Accuracy Scores for the 5 folds:  [0.46618349 0.50363206 0.51910558 0.49703304 0.50697796]\n",
            "Mean Cross Validation Score: 0.498586424279094331257766725684633\n"
          ],
          "name": "stdout"
        }
      ]
    },
    {
      "cell_type": "code",
      "metadata": {
        "colab": {
          "base_uri": "https://localhost:8080/",
          "height": 108
        },
        "id": "RfPLZdkCpKPd",
        "outputId": "d35dc0b5-5d1b-43a2-d60d-1d506cf97e21"
      },
      "source": [
        "#generate predictions\n",
        "log_yrs_exp_ridge_preds = log_yrs_exp_ridge.predict(X_test)\n",
        "\n",
        "#more performance metrics\n",
        "log_yrs_exp_ridge_rsquared_train = log_yrs_exp_ridge.score(X_train, y_train)\n",
        "log_yrs_exp_ridge_rsquared_test = log_yrs_exp_ridge.score(X_test, y_test)\n",
        "log_yrs_exp_ridge_mae = mean_absolute_error(y_test, log_yrs_exp_ridge_preds)\n",
        "log_yrs_exp_ridge_mse = mse(y_test, log_yrs_exp_ridge_preds)\n",
        "log_yrs_exp_ridge_rmse = rmse(y_test, log_yrs_exp_ridge_preds)\n",
        "log_yrs_exp_ridge_mape = np.mean(np.abs((y_test - log_yrs_exp_ridge_preds)/y_test)*100)\n",
        "log_yrs_exp_ridge_rmspe = (np.sqrt(np.mean(np.square((y_test - log_yrs_exp_ridge_preds) / y_test)))) * 100\n",
        "yrs_exp_model_name = 'Years of Experience Ridge Regression Log(y)'\n",
        "\n",
        "#create easily readable display of performance metrics\n",
        "log_yrs_exp_ridge_dictionary = {'Model': yrs_exp_model_name, \n",
        "  'Training Set R Squared': log_yrs_exp_ridge_rsquared_train, \n",
        "  'Test Set R Squared': log_yrs_exp_ridge_rsquared_test, 'Mean Absolute Error': log_yrs_exp_ridge_mae, \n",
        "  'Mean Sqaured Error': log_yrs_exp_ridge_mse, 'Root Mean Squared Error': log_yrs_exp_ridge_rmse,\n",
        "  'Root Mean Squared Percentage Error': log_yrs_exp_ridge_rmspe,\n",
        "  'Mean Absolute Percentage Error': log_yrs_exp_ridge_mape}\n",
        "\n",
        "log_yrs_exp_ridge_df = pd.DataFrame(log_yrs_exp_ridge_dictionary, index=[0])\n",
        "\n",
        "log_yrs_exp_ridge_df"
      ],
      "execution_count": null,
      "outputs": [
        {
          "output_type": "execute_result",
          "data": {
            "text/html": [
              "<div>\n",
              "<style scoped>\n",
              "    .dataframe tbody tr th:only-of-type {\n",
              "        vertical-align: middle;\n",
              "    }\n",
              "\n",
              "    .dataframe tbody tr th {\n",
              "        vertical-align: top;\n",
              "    }\n",
              "\n",
              "    .dataframe thead th {\n",
              "        text-align: right;\n",
              "    }\n",
              "</style>\n",
              "<table border=\"1\" class=\"dataframe\">\n",
              "  <thead>\n",
              "    <tr style=\"text-align: right;\">\n",
              "      <th></th>\n",
              "      <th>Model</th>\n",
              "      <th>Training Set R Squared</th>\n",
              "      <th>Test Set R Squared</th>\n",
              "      <th>Mean Absolute Error</th>\n",
              "      <th>Mean Sqaured Error</th>\n",
              "      <th>Root Mean Squared Error</th>\n",
              "      <th>Root Mean Squared Percentage Error</th>\n",
              "      <th>Mean Absolute Percentage Error</th>\n",
              "    </tr>\n",
              "  </thead>\n",
              "  <tbody>\n",
              "    <tr>\n",
              "      <th>0</th>\n",
              "      <td>Years of Experience Ridge Regression Log(y)</td>\n",
              "      <td>0.504222</td>\n",
              "      <td>0.532431</td>\n",
              "      <td>0.192055</td>\n",
              "      <td>0.061065</td>\n",
              "      <td>0.247114</td>\n",
              "      <td>2.189369</td>\n",
              "      <td>1.693248</td>\n",
              "    </tr>\n",
              "  </tbody>\n",
              "</table>\n",
              "</div>"
            ],
            "text/plain": [
              "                                         Model  ...  Mean Absolute Percentage Error\n",
              "0  Years of Experience Ridge Regression Log(y)  ...                        1.693248\n",
              "\n",
              "[1 rows x 8 columns]"
            ]
          },
          "metadata": {
            "tags": []
          },
          "execution_count": 32
        }
      ]
    },
    {
      "cell_type": "markdown",
      "metadata": {
        "id": "GHD6HADzIcM7"
      },
      "source": [
        "### **cat_no_outliers_df**"
      ]
    },
    {
      "cell_type": "code",
      "metadata": {
        "colab": {
          "base_uri": "https://localhost:8080/"
        },
        "id": "AIZOcEU0IcM8",
        "outputId": "f930129a-7faf-42b2-97c4-c9e592dce409"
      },
      "source": [
        "#set features & target\n",
        "X = cat_no_outliers_df.drop(columns=['avg_sal', 'log_avg_sal'])\n",
        "y = cat_no_outliers_df['avg_sal']\n",
        "\n",
        "#split data into training & test sets\n",
        "X_train, X_test, y_train, y_test = train_test_split(X, y, test_size = 0.2, random_state = 43)\n",
        "\n",
        "#Use grid search to find best hyperparameters\n",
        "# defining parameter range \n",
        "param_grid = {'alpha': [0.001, 0.01, 0.1, 1, 10, 100, 1000]} \n",
        "\n",
        "cat_no_outliers_grid = GridSearchCV(Ridge(), param_grid)\n",
        "\n",
        "# fitting the model for grid search \n",
        "cat_no_outliers_grid.fit(X_train, y_train) \n",
        "# print best parameter after tuning \n",
        "print(cat_no_outliers_grid.best_params_)\n",
        "\n",
        "# print how our model looks after hyper-parameter tuning \n",
        "print(cat_no_outliers_grid.best_estimator_)"
      ],
      "execution_count": null,
      "outputs": [
        {
          "output_type": "stream",
          "text": [
            "{'alpha': 10}\n",
            "Ridge(alpha=10, copy_X=True, fit_intercept=True, max_iter=None, normalize=False,\n",
            "      random_state=None, solver='auto', tol=0.001)\n"
          ],
          "name": "stdout"
        }
      ]
    },
    {
      "cell_type": "code",
      "metadata": {
        "colab": {
          "base_uri": "https://localhost:8080/"
        },
        "id": "oQbd8PEDIcM9",
        "outputId": "1718c95e-56f2-4b0e-cf2d-0da4fa3107eb"
      },
      "source": [
        "#set model with ideal hyperparameters from above\n",
        "cat_no_outliers = cat_no_outliers_grid.best_estimator_\n",
        "\n",
        "cat_no_outliers.fit(X_train, y_train)\n",
        "\n",
        "#cross validate\n",
        "cat_no_outliers_scores = cross_val_score(cat_no_outliers, X_train, y_train, cv = 5)\n",
        "\n",
        "print('Accuracy Scores for the 5 folds: ', cat_no_outliers_scores)\n",
        "print('Mean Cross Validation Score: {:.33f}'.format(np.mean(cat_no_outliers_scores)))"
      ],
      "execution_count": null,
      "outputs": [
        {
          "output_type": "stream",
          "text": [
            "Accuracy Scores for the 5 folds:  [0.51189088 0.47412232 0.51201943 0.44274479 0.47511534]\n",
            "Mean Cross Validation Score: 0.483178553581845804387739917729050\n"
          ],
          "name": "stdout"
        }
      ]
    },
    {
      "cell_type": "code",
      "metadata": {
        "colab": {
          "base_uri": "https://localhost:8080/",
          "height": 108
        },
        "id": "nunBDsXzIcM-",
        "outputId": "a898aafe-a9dd-4353-dc12-7f002d56530f"
      },
      "source": [
        "#generate predictions\n",
        "cat_no_outliers_preds = cat_no_outliers.predict(X_test)\n",
        "\n",
        "#more performance metrics\n",
        "cat_no_outliers_rsquared_train = cat_no_outliers.score(X_train, y_train)\n",
        "cat_no_outliers_rsquared_test = cat_no_outliers.score(X_test, y_test)\n",
        "cat_no_outliers_mae = mean_absolute_error(y_test, cat_no_outliers_preds)\n",
        "cat_no_outliers_mse = mse(y_test, cat_no_outliers_preds)\n",
        "cat_no_outliers_rmse = rmse(y_test, cat_no_outliers_preds)\n",
        "cat_no_outliers_mape = np.mean(np.abs((y_test - cat_no_outliers_preds)/y_test)*100)\n",
        "cat_no_outliers_rmspe = (np.sqrt(np.mean(np.square((y_test - cat_no_outliers_preds) / y_test)))) * 100\n",
        "cat_no_outliers_model_name = 'Categories w/o Outliers Ridge Regression'\n",
        "\n",
        "#create easily readable display of performance metrics\n",
        "cat_no_outliers_dictionary = {'Model': cat_no_outliers_model_name,\n",
        "  'Training Set R Squared': cat_no_outliers_rsquared_train, \n",
        "  'Test Set R Squared': cat_no_outliers_rsquared_test, 'Mean Absolute Error': cat_no_outliers_mae, \n",
        "  'Mean Sqaured Error': cat_no_outliers_mse, 'Root Mean Squared Error': cat_no_outliers_rmse,\n",
        "  'Root Mean Squared Percentage Error': cat_no_outliers_rmspe,\n",
        "  'Mean Absolute Percentage Error': cat_no_outliers_mape}\n",
        "\n",
        "cat_no_outliers_ridge_df = pd.DataFrame(cat_no_outliers_dictionary, index=[0])\n",
        "\n",
        "cat_no_outliers_ridge_df"
      ],
      "execution_count": null,
      "outputs": [
        {
          "output_type": "execute_result",
          "data": {
            "text/html": [
              "<div>\n",
              "<style scoped>\n",
              "    .dataframe tbody tr th:only-of-type {\n",
              "        vertical-align: middle;\n",
              "    }\n",
              "\n",
              "    .dataframe tbody tr th {\n",
              "        vertical-align: top;\n",
              "    }\n",
              "\n",
              "    .dataframe thead th {\n",
              "        text-align: right;\n",
              "    }\n",
              "</style>\n",
              "<table border=\"1\" class=\"dataframe\">\n",
              "  <thead>\n",
              "    <tr style=\"text-align: right;\">\n",
              "      <th></th>\n",
              "      <th>Model</th>\n",
              "      <th>Training Set R Squared</th>\n",
              "      <th>Test Set R Squared</th>\n",
              "      <th>Mean Absolute Error</th>\n",
              "      <th>Mean Sqaured Error</th>\n",
              "      <th>Root Mean Squared Error</th>\n",
              "      <th>Root Mean Squared Percentage Error</th>\n",
              "      <th>Mean Absolute Percentage Error</th>\n",
              "    </tr>\n",
              "  </thead>\n",
              "  <tbody>\n",
              "    <tr>\n",
              "      <th>0</th>\n",
              "      <td>Categories w/o Outliers Ridge Regression</td>\n",
              "      <td>0.489282</td>\n",
              "      <td>0.480019</td>\n",
              "      <td>18056.671638</td>\n",
              "      <td>5.361027e+08</td>\n",
              "      <td>23153.890718</td>\n",
              "      <td>28.106676</td>\n",
              "      <td>20.883302</td>\n",
              "    </tr>\n",
              "  </tbody>\n",
              "</table>\n",
              "</div>"
            ],
            "text/plain": [
              "                                      Model  ...  Mean Absolute Percentage Error\n",
              "0  Categories w/o Outliers Ridge Regression  ...                       20.883302\n",
              "\n",
              "[1 rows x 8 columns]"
            ]
          },
          "metadata": {
            "tags": []
          },
          "execution_count": 35
        }
      ]
    },
    {
      "cell_type": "markdown",
      "metadata": {
        "id": "gWt1DQDtIcM-"
      },
      "source": [
        "### **yrs_exp_no_outliers_df**"
      ]
    },
    {
      "cell_type": "code",
      "metadata": {
        "colab": {
          "base_uri": "https://localhost:8080/"
        },
        "id": "12kTW9OcIcM-",
        "outputId": "c97b0161-1e94-42d8-d61e-9285e136ba2f"
      },
      "source": [
        "#set features & target\n",
        "X = yrs_exp_no_outliers_df.drop(columns=['avg_sal', 'log_avg_sal'])\n",
        "y = yrs_exp_no_outliers_df['avg_sal']\n",
        "\n",
        "#split data into training & test sets\n",
        "X_train, X_test, y_train, y_test = train_test_split(X, y, test_size = 0.2, random_state = 43)\n",
        "\n",
        "#Use grid search to find best hyperparameters\n",
        "# defining parameter range \n",
        "param_grid = {'alpha': [0.001, 0.01, 0.1, 1, 10, 100, 1000]} \n",
        "\n",
        "yrs_exp_no_outliers_ridge_grid = GridSearchCV(Ridge(), param_grid)\n",
        "\n",
        "# fitting the model for grid search \n",
        "yrs_exp_no_outliers_ridge_grid.fit(X_train, y_train) \n",
        "# print best parameter after tuning \n",
        "print(yrs_exp_no_outliers_ridge_grid.best_params_)\n",
        "\n",
        "# print how our model looks after hyper-parameter tuning \n",
        "print(yrs_exp_no_outliers_ridge_grid.best_estimator_)"
      ],
      "execution_count": null,
      "outputs": [
        {
          "output_type": "stream",
          "text": [
            "{'alpha': 10}\n",
            "Ridge(alpha=10, copy_X=True, fit_intercept=True, max_iter=None, normalize=False,\n",
            "      random_state=None, solver='auto', tol=0.001)\n"
          ],
          "name": "stdout"
        }
      ]
    },
    {
      "cell_type": "code",
      "metadata": {
        "colab": {
          "base_uri": "https://localhost:8080/"
        },
        "id": "u0IJ1jkJIcM_",
        "outputId": "dcf75199-7d18-4782-ad22-567d8a82f727"
      },
      "source": [
        "#set model with ideal hyperparameters from above\n",
        "yrs_exp_no_outliers_ridge = yrs_exp_no_outliers_ridge_grid.best_estimator_\n",
        "\n",
        "yrs_exp_no_outliers_ridge.fit(X_train, y_train)\n",
        "\n",
        "#cross validate\n",
        "yrs_exp_no_outliers_ridge_scores = cross_val_score(yrs_exp_no_outliers_ridge, X_train, y_train, cv = 5)\n",
        "\n",
        "print('Accuracy Scores for the 5 folds: ', yrs_exp_no_outliers_ridge_scores)\n",
        "print('Mean Cross Validation Score: {:.33f}'.format(np.mean(yrs_exp_no_outliers_ridge_scores)))"
      ],
      "execution_count": null,
      "outputs": [
        {
          "output_type": "stream",
          "text": [
            "Accuracy Scores for the 5 folds:  [0.51518535 0.54144099 0.49856186 0.41428261 0.52722069]\n",
            "Mean Cross Validation Score: 0.499338301370455373007217758640763\n"
          ],
          "name": "stdout"
        }
      ]
    },
    {
      "cell_type": "code",
      "metadata": {
        "colab": {
          "base_uri": "https://localhost:8080/",
          "height": 108
        },
        "id": "_VkiwoE3IcM_",
        "outputId": "327da90d-991a-41a4-c688-acf7badb5ff8"
      },
      "source": [
        "#generate predictions\n",
        "yrs_exp_no_outliers_ridge_preds = yrs_exp_no_outliers_ridge.predict(X_test)\n",
        "\n",
        "#more performance metrics\n",
        "yrs_exp_no_outliers_ridge_rsquared_train = yrs_exp_no_outliers_ridge.score(X_train, y_train)\n",
        "yrs_exp_no_outliers_ridge_rsquared_test = yrs_exp_no_outliers_ridge.score(X_test, y_test)\n",
        "yrs_exp_no_outliers_ridge_mae = mean_absolute_error(y_test, yrs_exp_no_outliers_ridge_preds)\n",
        "yrs_exp_no_outliers_ridge_mse = mse(y_test, yrs_exp_no_outliers_ridge_preds)\n",
        "yrs_exp_no_outliers_ridge_rmse = rmse(y_test, yrs_exp_no_outliers_ridge_preds)\n",
        "yrs_exp_no_outliers_ridge_mape = np.mean(np.abs((y_test - yrs_exp_no_outliers_ridge_preds)/y_test)*100)\n",
        "yrs_exp_no_outliers_ridge_rmspe = (np.sqrt(np.mean(np.square((y_test - yrs_exp_no_outliers_ridge_preds) / y_test)))) * 100\n",
        "yrs_exp_model_name = 'Years of Experience w/o Outliers Ridge Regression'\n",
        "\n",
        "#create easily readable display of performance metrics\n",
        "yrs_exp_no_outliers_ridge_dictionary = {'Model': yrs_exp_model_name, \n",
        "  'Training Set R Squared': yrs_exp_no_outliers_ridge_rsquared_train, \n",
        "  'Test Set R Squared': yrs_exp_no_outliers_ridge_rsquared_test, 'Mean Absolute Error': yrs_exp_no_outliers_ridge_mae, \n",
        "  'Mean Sqaured Error': yrs_exp_no_outliers_ridge_mse, 'Root Mean Squared Error': yrs_exp_no_outliers_ridge_rmse,\n",
        "  'Root Mean Squared Percentage Error': yrs_exp_no_outliers_ridge_rmspe,\n",
        "  'Mean Absolute Percentage Error': yrs_exp_no_outliers_ridge_mape}\n",
        "\n",
        "yrs_exp_no_outliers_ridge_df = pd.DataFrame(yrs_exp_no_outliers_ridge_dictionary, index=[0])\n",
        "\n",
        "yrs_exp_no_outliers_ridge_df"
      ],
      "execution_count": null,
      "outputs": [
        {
          "output_type": "execute_result",
          "data": {
            "text/html": [
              "<div>\n",
              "<style scoped>\n",
              "    .dataframe tbody tr th:only-of-type {\n",
              "        vertical-align: middle;\n",
              "    }\n",
              "\n",
              "    .dataframe tbody tr th {\n",
              "        vertical-align: top;\n",
              "    }\n",
              "\n",
              "    .dataframe thead th {\n",
              "        text-align: right;\n",
              "    }\n",
              "</style>\n",
              "<table border=\"1\" class=\"dataframe\">\n",
              "  <thead>\n",
              "    <tr style=\"text-align: right;\">\n",
              "      <th></th>\n",
              "      <th>Model</th>\n",
              "      <th>Training Set R Squared</th>\n",
              "      <th>Test Set R Squared</th>\n",
              "      <th>Mean Absolute Error</th>\n",
              "      <th>Mean Sqaured Error</th>\n",
              "      <th>Root Mean Squared Error</th>\n",
              "      <th>Root Mean Squared Percentage Error</th>\n",
              "      <th>Mean Absolute Percentage Error</th>\n",
              "    </tr>\n",
              "  </thead>\n",
              "  <tbody>\n",
              "    <tr>\n",
              "      <th>0</th>\n",
              "      <td>Years of Experience w/o Outliers Ridge Regression</td>\n",
              "      <td>0.508547</td>\n",
              "      <td>0.490758</td>\n",
              "      <td>17148.652945</td>\n",
              "      <td>4.852152e+08</td>\n",
              "      <td>22027.601253</td>\n",
              "      <td>27.651506</td>\n",
              "      <td>19.872649</td>\n",
              "    </tr>\n",
              "  </tbody>\n",
              "</table>\n",
              "</div>"
            ],
            "text/plain": [
              "                                               Model  ...  Mean Absolute Percentage Error\n",
              "0  Years of Experience w/o Outliers Ridge Regression  ...                       19.872649\n",
              "\n",
              "[1 rows x 8 columns]"
            ]
          },
          "metadata": {
            "tags": []
          },
          "execution_count": 38
        }
      ]
    },
    {
      "cell_type": "markdown",
      "metadata": {
        "id": "nYXOxQvRIcNA"
      },
      "source": [
        "### **categories_df log(y)**"
      ]
    },
    {
      "cell_type": "code",
      "metadata": {
        "colab": {
          "base_uri": "https://localhost:8080/"
        },
        "id": "iRUTUdCLIcNA",
        "outputId": "6092eedf-1eaa-47a2-f087-0a4a4d3a944d"
      },
      "source": [
        "#set features & target\n",
        "X = cat_no_outliers_df.drop(columns=['avg_sal', 'log_avg_sal'])\n",
        "y = cat_no_outliers_df['log_avg_sal']\n",
        "\n",
        "#split data into training & test sets\n",
        "X_train, X_test, y_train, y_test = train_test_split(X, y, test_size = 0.2, random_state = 43)\n",
        "\n",
        "#Use grid search to find best hyperparameters\n",
        "# defining parameter range \n",
        "param_grid = {'alpha': [0.001, 0.01, 0.1, 1, 10, 100, 1000]} \n",
        "\n",
        "log_cat_no_outliers_grid = GridSearchCV(Ridge(), param_grid)\n",
        "\n",
        "# fitting the model for grid search \n",
        "log_cat_no_outliers_grid.fit(X_train, y_train) \n",
        "# print best parameter after tuning \n",
        "print(log_cat_no_outliers_grid.best_params_)\n",
        "\n",
        "# print how our model looks after hyper-parameter tuning \n",
        "print(log_cat_no_outliers_grid.best_estimator_)"
      ],
      "execution_count": null,
      "outputs": [
        {
          "output_type": "stream",
          "text": [
            "{'alpha': 10}\n",
            "Ridge(alpha=10, copy_X=True, fit_intercept=True, max_iter=None, normalize=False,\n",
            "      random_state=None, solver='auto', tol=0.001)\n"
          ],
          "name": "stdout"
        }
      ]
    },
    {
      "cell_type": "code",
      "metadata": {
        "colab": {
          "base_uri": "https://localhost:8080/"
        },
        "id": "ZF2Whs_WIcNA",
        "outputId": "c1ed3f63-933a-40e3-b747-639cd9fe5cc8"
      },
      "source": [
        "#set model with ideal hyperparameters from above\n",
        "log_cat_no_outliers = log_cat_no_outliers_grid.best_estimator_\n",
        "\n",
        "log_cat_no_outliers.fit(X_train, y_train)\n",
        "\n",
        "#cross validate\n",
        "log_cat_no_outliers_scores = cross_val_score(log_cat_no_outliers, X_train, y_train, cv = 5)\n",
        "\n",
        "print('Accuracy Scores for the 5 folds: ', log_cat_no_outliers_scores)\n",
        "print('Mean Cross Validation Score: {:.33f}'.format(np.mean(log_cat_no_outliers_scores)))"
      ],
      "execution_count": null,
      "outputs": [
        {
          "output_type": "stream",
          "text": [
            "Accuracy Scores for the 5 folds:  [0.50507696 0.46955191 0.50997433 0.45167541 0.48052557]\n",
            "Mean Cross Validation Score: 0.483360834080352907982103261019802\n"
          ],
          "name": "stdout"
        }
      ]
    },
    {
      "cell_type": "code",
      "metadata": {
        "colab": {
          "base_uri": "https://localhost:8080/",
          "height": 108
        },
        "id": "OkwB5KqdIcNB",
        "outputId": "b233f0a2-14ec-4d39-8d61-3326872f9c05"
      },
      "source": [
        "#generate predictions\n",
        "log_cat_no_outliers_preds = log_cat_no_outliers.predict(X_test)\n",
        "\n",
        "#more performance metrics\n",
        "log_cat_no_outliers_rsquared_train = log_cat_no_outliers.score(X_train, y_train)\n",
        "log_cat_no_outliers_rsquared_test = log_cat_no_outliers.score(X_test, y_test)\n",
        "log_cat_no_outliers_mae = mean_absolute_error(y_test, log_cat_no_outliers_preds)\n",
        "log_cat_no_outliers_mse = mse(y_test, log_cat_no_outliers_preds)\n",
        "log_cat_no_outliers_rmse = rmse(y_test, log_cat_no_outliers_preds)\n",
        "log_cat_no_outliers_mape = np.mean(np.abs((y_test - log_cat_no_outliers_preds)/y_test)*100)\n",
        "log_cat_no_outliers_rmspe = (np.sqrt(np.mean(np.square((y_test - log_cat_no_outliers_preds) / y_test)))) * 100\n",
        "log_cat_no_outliers_model_name = 'Categories w/o Outliers Ridge Regression Log(y)'\n",
        "\n",
        "#create easily readable display of performance metrics\n",
        "log_cat_no_outliers_dictionary = {'Model': log_cat_no_outliers_model_name,\n",
        "  'Training Set R Squared': log_cat_no_outliers_rsquared_train, \n",
        "  'Test Set R Squared': log_cat_no_outliers_rsquared_test, 'Mean Absolute Error': log_cat_no_outliers_mae, \n",
        "  'Mean Sqaured Error': log_cat_no_outliers_mse, 'Root Mean Squared Error': log_cat_no_outliers_rmse,\n",
        "  'Root Mean Squared Percentage Error': log_cat_no_outliers_rmspe,\n",
        "  'Mean Absolute Percentage Error': log_cat_no_outliers_mape}\n",
        "\n",
        "log_cat_no_outliers_ridge_df = pd.DataFrame(log_cat_no_outliers_dictionary, index=[0])\n",
        "\n",
        "log_cat_no_outliers_ridge_df"
      ],
      "execution_count": null,
      "outputs": [
        {
          "output_type": "execute_result",
          "data": {
            "text/html": [
              "<div>\n",
              "<style scoped>\n",
              "    .dataframe tbody tr th:only-of-type {\n",
              "        vertical-align: middle;\n",
              "    }\n",
              "\n",
              "    .dataframe tbody tr th {\n",
              "        vertical-align: top;\n",
              "    }\n",
              "\n",
              "    .dataframe thead th {\n",
              "        text-align: right;\n",
              "    }\n",
              "</style>\n",
              "<table border=\"1\" class=\"dataframe\">\n",
              "  <thead>\n",
              "    <tr style=\"text-align: right;\">\n",
              "      <th></th>\n",
              "      <th>Model</th>\n",
              "      <th>Training Set R Squared</th>\n",
              "      <th>Test Set R Squared</th>\n",
              "      <th>Mean Absolute Error</th>\n",
              "      <th>Mean Sqaured Error</th>\n",
              "      <th>Root Mean Squared Error</th>\n",
              "      <th>Root Mean Squared Percentage Error</th>\n",
              "      <th>Mean Absolute Percentage Error</th>\n",
              "    </tr>\n",
              "  </thead>\n",
              "  <tbody>\n",
              "    <tr>\n",
              "      <th>0</th>\n",
              "      <td>Categories w/o Outliers Ridge Regression Log(y)</td>\n",
              "      <td>0.489223</td>\n",
              "      <td>0.48511</td>\n",
              "      <td>0.194608</td>\n",
              "      <td>0.060966</td>\n",
              "      <td>0.246913</td>\n",
              "      <td>2.178094</td>\n",
              "      <td>1.711852</td>\n",
              "    </tr>\n",
              "  </tbody>\n",
              "</table>\n",
              "</div>"
            ],
            "text/plain": [
              "                                             Model  ...  Mean Absolute Percentage Error\n",
              "0  Categories w/o Outliers Ridge Regression Log(y)  ...                        1.711852\n",
              "\n",
              "[1 rows x 8 columns]"
            ]
          },
          "metadata": {
            "tags": []
          },
          "execution_count": 41
        }
      ]
    },
    {
      "cell_type": "markdown",
      "metadata": {
        "id": "GHdUaBvcIcNB"
      },
      "source": [
        "### **yrs_exp_no_outliers_df log(y)**"
      ]
    },
    {
      "cell_type": "code",
      "metadata": {
        "colab": {
          "base_uri": "https://localhost:8080/"
        },
        "id": "cK7_jDl8IcNB",
        "outputId": "98b216e6-784a-4986-91f3-1cff7b29b14f"
      },
      "source": [
        "#set features & target\n",
        "X = yrs_exp_no_outliers_df.drop(columns=['avg_sal', 'log_avg_sal'])\n",
        "y = yrs_exp_no_outliers_df['log_avg_sal']\n",
        "\n",
        "#split data into training & test sets\n",
        "X_train, X_test, y_train, y_test = train_test_split(X, y, test_size = 0.2, random_state = 43)\n",
        "\n",
        "#Use grid search to find best hyperparameters\n",
        "# defining parameter range \n",
        "param_grid = {'alpha': [0.001, 0.01, 0.1, 1, 10, 100, 1000]} \n",
        "\n",
        "log_yrs_exp_no_outliers_ridge_grid = GridSearchCV(Ridge(), param_grid)\n",
        "\n",
        "# fitting the model for grid search \n",
        "log_yrs_exp_no_outliers_ridge_grid.fit(X_train, y_train) \n",
        "# print best parameter after tuning \n",
        "print(log_yrs_exp_no_outliers_ridge_grid.best_params_)\n",
        "\n",
        "# print how our model looks after hyper-parameter tuning \n",
        "print(log_yrs_exp_no_outliers_ridge_grid.best_estimator_)"
      ],
      "execution_count": null,
      "outputs": [
        {
          "output_type": "stream",
          "text": [
            "{'alpha': 10}\n",
            "Ridge(alpha=10, copy_X=True, fit_intercept=True, max_iter=None, normalize=False,\n",
            "      random_state=None, solver='auto', tol=0.001)\n"
          ],
          "name": "stdout"
        }
      ]
    },
    {
      "cell_type": "code",
      "metadata": {
        "colab": {
          "base_uri": "https://localhost:8080/"
        },
        "id": "lotAUOkaIcNC",
        "outputId": "6e347177-9dad-4238-9871-bf5ad444fb9f"
      },
      "source": [
        "#set model with ideal hyperparameters from above\n",
        "log_yrs_exp_no_outliers_ridge = log_yrs_exp_no_outliers_ridge_grid.best_estimator_\n",
        "\n",
        "log_yrs_exp_no_outliers_ridge.fit(X_train, y_train)\n",
        "\n",
        "#cross validate\n",
        "log_yrs_exp_no_outliers_ridge_scores = cross_val_score(log_yrs_exp_no_outliers_ridge, X_train, y_train, cv = 5)\n",
        "\n",
        "print('Accuracy Scores for the 5 folds: ', log_yrs_exp_no_outliers_ridge_scores)\n",
        "print('Mean Cross Validation Score: {:.33f}'.format(np.mean(log_yrs_exp_no_outliers_ridge_scores)))"
      ],
      "execution_count": null,
      "outputs": [
        {
          "output_type": "stream",
          "text": [
            "Accuracy Scores for the 5 folds:  [0.52040351 0.54574142 0.49517959 0.41312769 0.51671085]\n",
            "Mean Cross Validation Score: 0.498232612886854275835446514975047\n"
          ],
          "name": "stdout"
        }
      ]
    },
    {
      "cell_type": "code",
      "metadata": {
        "colab": {
          "base_uri": "https://localhost:8080/",
          "height": 108
        },
        "id": "iVnudvrOIcNC",
        "outputId": "fde7630e-9ff4-443b-e8bd-bec38087d998"
      },
      "source": [
        "#generate predictions\n",
        "log_yrs_exp_no_outliers_ridge_preds = log_yrs_exp_no_outliers_ridge.predict(X_test)\n",
        "\n",
        "#more performance metrics\n",
        "log_yrs_exp_no_outliers_ridge_rsquared_train = log_yrs_exp_no_outliers_ridge.score(X_train, y_train)\n",
        "log_yrs_exp_no_outliers_ridge_rsquared_test = log_yrs_exp_no_outliers_ridge.score(X_test, y_test)\n",
        "log_yrs_exp_no_outliers_ridge_mae = mean_absolute_error(y_test, log_yrs_exp_no_outliers_ridge_preds)\n",
        "log_yrs_exp_no_outliers_ridge_mse = mse(y_test, log_yrs_exp_no_outliers_ridge_preds)\n",
        "log_yrs_exp_no_outliers_ridge_rmse = rmse(y_test, log_yrs_exp_no_outliers_ridge_preds)\n",
        "log_yrs_exp_no_outliers_ridge_mape = np.mean(np.abs((y_test - log_yrs_exp_no_outliers_ridge_preds)/y_test)*100)\n",
        "log_yrs_exp_no_outliers_ridge_rmspe = (np.sqrt(np.mean(np.square((y_test - log_yrs_exp_no_outliers_ridge_preds) / y_test)))) * 100\n",
        "yrs_exp_model_name = 'Years of Experience w/o Outliers Ridge Regression Log(y)'\n",
        "\n",
        "#create easily readable display of performance metrics\n",
        "log_yrs_exp_no_outliers_ridge_dictionary = {'Model': yrs_exp_model_name, \n",
        "  'Training Set R Squared': log_yrs_exp_no_outliers_ridge_rsquared_train, \n",
        "  'Test Set R Squared': log_yrs_exp_no_outliers_ridge_rsquared_test, 'Mean Absolute Error': log_yrs_exp_no_outliers_ridge_mae, \n",
        "  'Mean Sqaured Error': log_yrs_exp_no_outliers_ridge_mse, 'Root Mean Squared Error': log_yrs_exp_no_outliers_ridge_rmse,\n",
        "  'Root Mean Squared Percentage Error': log_yrs_exp_no_outliers_ridge_rmspe,\n",
        "  'Mean Absolute Percentage Error': log_yrs_exp_no_outliers_ridge_mape}\n",
        "\n",
        "log_yrs_exp_no_outliers_ridge_df = pd.DataFrame(log_yrs_exp_no_outliers_ridge_dictionary, index=[0])\n",
        "\n",
        "log_yrs_exp_no_outliers_ridge_df"
      ],
      "execution_count": null,
      "outputs": [
        {
          "output_type": "execute_result",
          "data": {
            "text/html": [
              "<div>\n",
              "<style scoped>\n",
              "    .dataframe tbody tr th:only-of-type {\n",
              "        vertical-align: middle;\n",
              "    }\n",
              "\n",
              "    .dataframe tbody tr th {\n",
              "        vertical-align: top;\n",
              "    }\n",
              "\n",
              "    .dataframe thead th {\n",
              "        text-align: right;\n",
              "    }\n",
              "</style>\n",
              "<table border=\"1\" class=\"dataframe\">\n",
              "  <thead>\n",
              "    <tr style=\"text-align: right;\">\n",
              "      <th></th>\n",
              "      <th>Model</th>\n",
              "      <th>Training Set R Squared</th>\n",
              "      <th>Test Set R Squared</th>\n",
              "      <th>Mean Absolute Error</th>\n",
              "      <th>Mean Sqaured Error</th>\n",
              "      <th>Root Mean Squared Error</th>\n",
              "      <th>Root Mean Squared Percentage Error</th>\n",
              "      <th>Mean Absolute Percentage Error</th>\n",
              "    </tr>\n",
              "  </thead>\n",
              "  <tbody>\n",
              "    <tr>\n",
              "      <th>0</th>\n",
              "      <td>Years of Experience w/o Outliers Ridge Regress...</td>\n",
              "      <td>0.507314</td>\n",
              "      <td>0.494772</td>\n",
              "      <td>0.184258</td>\n",
              "      <td>0.055611</td>\n",
              "      <td>0.235819</td>\n",
              "      <td>2.084662</td>\n",
              "      <td>1.620957</td>\n",
              "    </tr>\n",
              "  </tbody>\n",
              "</table>\n",
              "</div>"
            ],
            "text/plain": [
              "                                               Model  ...  Mean Absolute Percentage Error\n",
              "0  Years of Experience w/o Outliers Ridge Regress...  ...                        1.620957\n",
              "\n",
              "[1 rows x 8 columns]"
            ]
          },
          "metadata": {
            "tags": []
          },
          "execution_count": 44
        }
      ]
    },
    {
      "cell_type": "markdown",
      "metadata": {
        "id": "omB6i_qoB98c"
      },
      "source": [
        "## **Lasso Regression**"
      ]
    },
    {
      "cell_type": "markdown",
      "metadata": {
        "id": "HlIgcu3AC9Qu"
      },
      "source": [
        "### **categories_df**"
      ]
    },
    {
      "cell_type": "code",
      "metadata": {
        "colab": {
          "base_uri": "https://localhost:8080/"
        },
        "id": "Xsk1fYq72TxT",
        "outputId": "4f52ff73-9a94-4899-8195-61a223d935b3"
      },
      "source": [
        "#set features & target\n",
        "X = categories_df.drop(columns=['avg_sal', 'log_avg_sal'])\n",
        "y = categories_df['avg_sal']\n",
        "\n",
        "#split data into training & test sets\n",
        "X_train, X_test, y_train, y_test = train_test_split(X, y, test_size = 0.2, random_state = 43)\n",
        "\n",
        "#Use grid search to find best hyperparameters\n",
        "# defining parameter range \n",
        "param_grid = {'alpha': [0.001, 0.01, 0.1, 1, 10, 100, 1000]} \n",
        "\n",
        "categories_lasso_grid = GridSearchCV(Lasso(), param_grid)\n",
        "\n",
        "# fitting the model for grid search \n",
        "categories_lasso_grid.fit(X_train, y_train) \n",
        "# print best parameter after tuning \n",
        "print(categories_lasso_grid.best_params_)\n",
        "\n",
        "# print how our model looks after hyper-parameter tuning \n",
        "print(categories_lasso_grid.best_estimator_)"
      ],
      "execution_count": null,
      "outputs": [
        {
          "output_type": "stream",
          "text": [
            "{'alpha': 10}\n",
            "Lasso(alpha=10, copy_X=True, fit_intercept=True, max_iter=1000, normalize=False,\n",
            "      positive=False, precompute=False, random_state=None, selection='cyclic',\n",
            "      tol=0.0001, warm_start=False)\n"
          ],
          "name": "stdout"
        }
      ]
    },
    {
      "cell_type": "code",
      "metadata": {
        "colab": {
          "base_uri": "https://localhost:8080/"
        },
        "id": "60suz-Ka2TxV",
        "outputId": "992fc74d-adbd-4943-f615-8d108cae918f"
      },
      "source": [
        "#set model with ideal hyperparameters from above\n",
        "categories_lasso = categories_lasso_grid.best_estimator_\n",
        "\n",
        "categories_lasso.fit(X_train, y_train)\n",
        "\n",
        "#cross validate\n",
        "categories_lasso_scores = cross_val_score(categories_lasso, X_train, y_train, cv = 5)\n",
        "\n",
        "print('Accuracy Scores for the 5 folds: ', categories_lasso_scores)\n",
        "print('Mean Cross Validation Score: {:.33f}'.format(np.mean(categories_lasso_scores)))"
      ],
      "execution_count": null,
      "outputs": [
        {
          "output_type": "stream",
          "text": [
            "Accuracy Scores for the 5 folds:  [0.47751945 0.4943551  0.44804392 0.44167804 0.44969855]\n",
            "Mean Cross Validation Score: 0.462259012050176720798333462880692\n"
          ],
          "name": "stdout"
        }
      ]
    },
    {
      "cell_type": "code",
      "metadata": {
        "colab": {
          "base_uri": "https://localhost:8080/",
          "height": 108
        },
        "id": "mVQmeJf02TxV",
        "outputId": "49bc0366-e445-48d1-adbe-3f8ff9022873"
      },
      "source": [
        "#generate predictions\n",
        "categories_lasso_preds = categories_lasso.predict(X_test)\n",
        "\n",
        "#more performance metrics\n",
        "categories_lasso_rsquared_train = categories_lasso.score(X_train, y_train)\n",
        "categories_lasso_rsquared_test = categories_lasso.score(X_test, y_test)\n",
        "categories_lasso_mae = mean_absolute_error(y_test, categories_lasso_preds)\n",
        "categories_lasso_mse = mse(y_test, categories_lasso_preds)\n",
        "categories_lasso_rmse = rmse(y_test, categories_lasso_preds)\n",
        "categories_lasso_mape = np.mean(np.abs((y_test - categories_lasso_preds)/y_test)*100)\n",
        "categories_lasso_rmspe = (np.sqrt(np.mean(np.square((y_test - categories_lasso_preds) / y_test)))) * 100\n",
        "categories_lasso_model_name = 'Categories Lasso Regression'\n",
        "\n",
        "#create easily readable display of performance metrics\n",
        "categories_lasso_dictionary = {'Model': categories_lasso_model_name,\n",
        "  'Training Set R Squared': categories_lasso_rsquared_train, \n",
        "  'Test Set R Squared': categories_lasso_rsquared_test, 'Mean Absolute Error': categories_lasso_mae, \n",
        "  'Mean Sqaured Error': categories_lasso_mse, 'Root Mean Squared Error': categories_lasso_rmse,\n",
        "  'Root Mean Squared Percentage Error': categories_lasso_rmspe,\n",
        "  'Mean Absolute Percentage Error': categories_lasso_mape}\n",
        "\n",
        "categories_lasso_df = pd.DataFrame(categories_lasso_dictionary, index=[0])\n",
        "\n",
        "categories_lasso_df"
      ],
      "execution_count": null,
      "outputs": [
        {
          "output_type": "execute_result",
          "data": {
            "text/html": [
              "<div>\n",
              "<style scoped>\n",
              "    .dataframe tbody tr th:only-of-type {\n",
              "        vertical-align: middle;\n",
              "    }\n",
              "\n",
              "    .dataframe tbody tr th {\n",
              "        vertical-align: top;\n",
              "    }\n",
              "\n",
              "    .dataframe thead th {\n",
              "        text-align: right;\n",
              "    }\n",
              "</style>\n",
              "<table border=\"1\" class=\"dataframe\">\n",
              "  <thead>\n",
              "    <tr style=\"text-align: right;\">\n",
              "      <th></th>\n",
              "      <th>Model</th>\n",
              "      <th>Training Set R Squared</th>\n",
              "      <th>Test Set R Squared</th>\n",
              "      <th>Mean Absolute Error</th>\n",
              "      <th>Mean Sqaured Error</th>\n",
              "      <th>Root Mean Squared Error</th>\n",
              "      <th>Root Mean Squared Percentage Error</th>\n",
              "      <th>Mean Absolute Percentage Error</th>\n",
              "    </tr>\n",
              "  </thead>\n",
              "  <tbody>\n",
              "    <tr>\n",
              "      <th>0</th>\n",
              "      <td>Categories Lasso Regression</td>\n",
              "      <td>0.466432</td>\n",
              "      <td>0.495</td>\n",
              "      <td>18354.51741</td>\n",
              "      <td>6.134465e+08</td>\n",
              "      <td>24767.85199</td>\n",
              "      <td>28.2058</td>\n",
              "      <td>20.514172</td>\n",
              "    </tr>\n",
              "  </tbody>\n",
              "</table>\n",
              "</div>"
            ],
            "text/plain": [
              "                         Model  ...  Mean Absolute Percentage Error\n",
              "0  Categories Lasso Regression  ...                       20.514172\n",
              "\n",
              "[1 rows x 8 columns]"
            ]
          },
          "metadata": {
            "tags": []
          },
          "execution_count": 47
        }
      ]
    },
    {
      "cell_type": "markdown",
      "metadata": {
        "id": "m-uwi-qpC9Qw"
      },
      "source": [
        "### **yrs_exp_df**"
      ]
    },
    {
      "cell_type": "code",
      "metadata": {
        "colab": {
          "base_uri": "https://localhost:8080/"
        },
        "id": "4jRRzzqn2-DP",
        "outputId": "eb730210-694d-4e00-d444-7d65f640e94a"
      },
      "source": [
        "#set features & target\n",
        "X = yrs_exp_df.drop(columns=['avg_sal', 'log_avg_sal'])\n",
        "y = yrs_exp_df['avg_sal']\n",
        "\n",
        "#split data into training & test sets\n",
        "X_train, X_test, y_train, y_test = train_test_split(X, y, test_size = 0.2, random_state = 43)\n",
        "\n",
        "#Use grid search to find best hyperparameters\n",
        "# defining parameter range \n",
        "param_grid = {'alpha': [0.001, 0.01, 0.1, 1, 10, 100, 1000]} \n",
        "\n",
        "yrs_exp_lasso_grid = GridSearchCV(Lasso(), param_grid)\n",
        "\n",
        "# fitting the model for grid search \n",
        "yrs_exp_lasso_grid.fit(X_train, y_train) \n",
        "# print best parameter after tuning \n",
        "print(yrs_exp_lasso_grid.best_params_)\n",
        "\n",
        "# print how our model looks after hyper-parameter tuning \n",
        "print(yrs_exp_lasso_grid.best_estimator_)"
      ],
      "execution_count": null,
      "outputs": [
        {
          "output_type": "stream",
          "text": [
            "{'alpha': 100}\n",
            "Lasso(alpha=100, copy_X=True, fit_intercept=True, max_iter=1000,\n",
            "      normalize=False, positive=False, precompute=False, random_state=None,\n",
            "      selection='cyclic', tol=0.0001, warm_start=False)\n"
          ],
          "name": "stdout"
        }
      ]
    },
    {
      "cell_type": "code",
      "metadata": {
        "colab": {
          "base_uri": "https://localhost:8080/"
        },
        "id": "IANw83Cb2-DQ",
        "outputId": "37dbd6ad-8fb3-4511-bd68-60585f770c0d"
      },
      "source": [
        "#set model with ideal hyperparameters from above\n",
        "yrs_exp_lasso = yrs_exp_lasso_grid.best_estimator_\n",
        "\n",
        "yrs_exp_lasso.fit(X_train, y_train)\n",
        "\n",
        "#cross validate\n",
        "yrs_exp_lasso_scores = cross_val_score(yrs_exp_lasso, X_train, y_train, cv = 5)\n",
        "\n",
        "print('Accuracy Scores for the 5 folds: ', yrs_exp_lasso_scores)\n",
        "print('Mean Cross Validation Score: {:.33f}'.format(np.mean(yrs_exp_lasso_scores)))"
      ],
      "execution_count": null,
      "outputs": [
        {
          "output_type": "stream",
          "text": [
            "Accuracy Scores for the 5 folds:  [0.44522017 0.49223604 0.51648503 0.46603231 0.4941231 ]\n",
            "Mean Cross Validation Score: 0.482819330508343802499382491077995\n"
          ],
          "name": "stdout"
        }
      ]
    },
    {
      "cell_type": "code",
      "metadata": {
        "colab": {
          "base_uri": "https://localhost:8080/",
          "height": 108
        },
        "id": "k8kbBSIp2-DQ",
        "outputId": "b08d112f-ec84-4fd3-b3e5-77ba0dcf0ed6"
      },
      "source": [
        "#generate predictions\n",
        "yrs_exp_lasso_preds = yrs_exp_lasso.predict(X_test)\n",
        "\n",
        "#more performance metrics\n",
        "yrs_exp_lasso_rsquared_train = yrs_exp_lasso.score(X_train, y_train)\n",
        "yrs_exp_lasso_rsquared_test = yrs_exp_lasso.score(X_test, y_test)\n",
        "yrs_exp_lasso_mae = mean_absolute_error(y_test, yrs_exp_lasso_preds)\n",
        "yrs_exp_lasso_mse = mse(y_test, yrs_exp_lasso_preds)\n",
        "yrs_exp_lasso_rmse = rmse(y_test, yrs_exp_lasso_preds)\n",
        "yrs_exp_lasso_mape = np.mean(np.abs((y_test - yrs_exp_lasso_preds)/y_test)*100)\n",
        "yrs_exp_lasso_rmspe = (np.sqrt(np.mean(np.square((y_test - yrs_exp_lasso_preds) / y_test)))) * 100\n",
        "yrs_exp_lasso_model_name = 'Years of Experience Lasso Regression'\n",
        "\n",
        "#create easily readable display of performance metrics\n",
        "yrs_exp_lasso_dictionary = {'Model': yrs_exp_lasso_model_name,\n",
        "  'Training Set R Squared': yrs_exp_lasso_rsquared_train, \n",
        "  'Test Set R Squared': yrs_exp_lasso_rsquared_test, 'Mean Absolute Error': yrs_exp_lasso_mae, \n",
        "  'Mean Sqaured Error': yrs_exp_lasso_mse, 'Root Mean Squared Error': yrs_exp_lasso_rmse,\n",
        "  'Root Mean Squared Percentage Error': yrs_exp_lasso_rmspe,\n",
        "  'Mean Absolute Percentage Error': yrs_exp_lasso_mape}\n",
        "\n",
        "yrs_exp_lasso_df = pd.DataFrame(yrs_exp_lasso_dictionary, index=[0])\n",
        "\n",
        "yrs_exp_lasso_df"
      ],
      "execution_count": null,
      "outputs": [
        {
          "output_type": "execute_result",
          "data": {
            "text/html": [
              "<div>\n",
              "<style scoped>\n",
              "    .dataframe tbody tr th:only-of-type {\n",
              "        vertical-align: middle;\n",
              "    }\n",
              "\n",
              "    .dataframe tbody tr th {\n",
              "        vertical-align: top;\n",
              "    }\n",
              "\n",
              "    .dataframe thead th {\n",
              "        text-align: right;\n",
              "    }\n",
              "</style>\n",
              "<table border=\"1\" class=\"dataframe\">\n",
              "  <thead>\n",
              "    <tr style=\"text-align: right;\">\n",
              "      <th></th>\n",
              "      <th>Model</th>\n",
              "      <th>Training Set R Squared</th>\n",
              "      <th>Test Set R Squared</th>\n",
              "      <th>Mean Absolute Error</th>\n",
              "      <th>Mean Sqaured Error</th>\n",
              "      <th>Root Mean Squared Error</th>\n",
              "      <th>Root Mean Squared Percentage Error</th>\n",
              "      <th>Mean Absolute Percentage Error</th>\n",
              "    </tr>\n",
              "  </thead>\n",
              "  <tbody>\n",
              "    <tr>\n",
              "      <th>0</th>\n",
              "      <td>Years of Experience Lasso Regression</td>\n",
              "      <td>0.487998</td>\n",
              "      <td>0.50946</td>\n",
              "      <td>18217.519465</td>\n",
              "      <td>5.871700e+08</td>\n",
              "      <td>24231.591669</td>\n",
              "      <td>29.735449</td>\n",
              "      <td>21.329407</td>\n",
              "    </tr>\n",
              "  </tbody>\n",
              "</table>\n",
              "</div>"
            ],
            "text/plain": [
              "                                  Model  ...  Mean Absolute Percentage Error\n",
              "0  Years of Experience Lasso Regression  ...                       21.329407\n",
              "\n",
              "[1 rows x 8 columns]"
            ]
          },
          "metadata": {
            "tags": []
          },
          "execution_count": 51
        }
      ]
    },
    {
      "cell_type": "markdown",
      "metadata": {
        "id": "QG7YpwsGqL2R"
      },
      "source": [
        "### **categories_df log(y)**"
      ]
    },
    {
      "cell_type": "code",
      "metadata": {
        "colab": {
          "base_uri": "https://localhost:8080/"
        },
        "id": "6fsAo3hAqL2S",
        "outputId": "0f05f2f6-7577-4120-cfd6-0b35a8c341e0"
      },
      "source": [
        "#set features & target\n",
        "X = categories_df.drop(columns=['avg_sal', 'log_avg_sal'])\n",
        "y = categories_df['log_avg_sal']\n",
        "\n",
        "#split data into training & test sets\n",
        "X_train, X_test, y_train, y_test = train_test_split(X, y, test_size = 0.2, random_state = 43)\n",
        "\n",
        "#Use grid search to find best hyperparameters\n",
        "# defining parameter range \n",
        "param_grid = {'alpha': [0.001, 0.01, 0.1, 1, 10, 100, 1000]} \n",
        "\n",
        "log_categories_lasso_grid = GridSearchCV(Lasso(), param_grid)\n",
        "\n",
        "# fitting the model for grid search \n",
        "log_categories_lasso_grid.fit(X_train, y_train) \n",
        "# print best parameter after tuning \n",
        "print(log_categories_lasso_grid.best_params_)\n",
        "\n",
        "# print how our model looks after hyper-parameter tuning \n",
        "print(log_categories_lasso_grid.best_estimator_)"
      ],
      "execution_count": null,
      "outputs": [
        {
          "output_type": "stream",
          "text": [
            "{'alpha': 0.001}\n",
            "Lasso(alpha=0.001, copy_X=True, fit_intercept=True, max_iter=1000,\n",
            "      normalize=False, positive=False, precompute=False, random_state=None,\n",
            "      selection='cyclic', tol=0.0001, warm_start=False)\n"
          ],
          "name": "stdout"
        }
      ]
    },
    {
      "cell_type": "code",
      "metadata": {
        "colab": {
          "base_uri": "https://localhost:8080/"
        },
        "id": "8BJDECcnqL2T",
        "outputId": "429e4e18-8357-42db-865a-0e4ed5c51d38"
      },
      "source": [
        "#set model with ideal hyperparameters from above\n",
        "log_categories_lasso = log_categories_lasso_grid.best_estimator_\n",
        "\n",
        "log_categories_lasso.fit(X_train, y_train)\n",
        "\n",
        "#cross validate\n",
        "log_categories_lasso_scores = cross_val_score(log_categories_lasso, X_train, y_train, cv = 5)\n",
        "\n",
        "print('Accuracy Scores for the 5 folds: ', log_categories_lasso_scores)\n",
        "print('Mean Cross Validation Score: {:.33f}'.format(np.mean(log_categories_lasso_scores)))"
      ],
      "execution_count": null,
      "outputs": [
        {
          "output_type": "stream",
          "text": [
            "Accuracy Scores for the 5 folds:  [0.48864411 0.50637902 0.45686513 0.4856603  0.46719275]\n",
            "Mean Cross Validation Score: 0.480948262469245269024042954697507\n"
          ],
          "name": "stdout"
        }
      ]
    },
    {
      "cell_type": "code",
      "metadata": {
        "colab": {
          "base_uri": "https://localhost:8080/",
          "height": 108
        },
        "id": "JDJCkTuEqL2T",
        "outputId": "8e5b79e4-4a91-45ff-a277-8afb6ae2a520"
      },
      "source": [
        "#generate predictions\n",
        "log_categories_lasso_preds = log_categories_lasso.predict(X_test)\n",
        "\n",
        "#more performance metrics\n",
        "log_categories_lasso_rsquared_train = log_categories_lasso.score(X_train, y_train)\n",
        "log_categories_lasso_rsquared_test = log_categories_lasso.score(X_test, y_test)\n",
        "log_categories_lasso_mae = mean_absolute_error(y_test, log_categories_lasso_preds)\n",
        "log_categories_lasso_mse = mse(y_test, log_categories_lasso_preds)\n",
        "log_categories_lasso_rmse = rmse(y_test, log_categories_lasso_preds)\n",
        "log_categories_lasso_mape = np.mean(np.abs((y_test - log_categories_lasso_preds)/y_test)*100)\n",
        "log_categories_lasso_rmspe = (np.sqrt(np.mean(np.square((y_test - log_categories_lasso_preds) / y_test)))) * 100\n",
        "log_categories_lasso_model_name = 'Categories Lasso Regression Log(y)'\n",
        "\n",
        "#create easily readable display of performance metrics\n",
        "log_categories_lasso_dictionary = {'Model': log_categories_lasso_model_name,\n",
        "  'Training Set R Squared': log_categories_lasso_rsquared_train, \n",
        "  'Test Set R Squared': log_categories_lasso_rsquared_test, 'Mean Absolute Error': log_categories_lasso_mae, \n",
        "  'Mean Sqaured Error': log_categories_lasso_mse, 'Root Mean Squared Error': log_categories_lasso_rmse,\n",
        "  'Root Mean Squared Percentage Error': log_categories_lasso_rmspe,\n",
        "  'Mean Absolute Percentage Error': log_categories_lasso_mape}\n",
        "\n",
        "log_categories_lasso_df = pd.DataFrame(log_categories_lasso_dictionary, index=[0])\n",
        "\n",
        "log_categories_lasso_df"
      ],
      "execution_count": null,
      "outputs": [
        {
          "output_type": "execute_result",
          "data": {
            "text/html": [
              "<div>\n",
              "<style scoped>\n",
              "    .dataframe tbody tr th:only-of-type {\n",
              "        vertical-align: middle;\n",
              "    }\n",
              "\n",
              "    .dataframe tbody tr th {\n",
              "        vertical-align: top;\n",
              "    }\n",
              "\n",
              "    .dataframe thead th {\n",
              "        text-align: right;\n",
              "    }\n",
              "</style>\n",
              "<table border=\"1\" class=\"dataframe\">\n",
              "  <thead>\n",
              "    <tr style=\"text-align: right;\">\n",
              "      <th></th>\n",
              "      <th>Model</th>\n",
              "      <th>Training Set R Squared</th>\n",
              "      <th>Test Set R Squared</th>\n",
              "      <th>Mean Absolute Error</th>\n",
              "      <th>Mean Sqaured Error</th>\n",
              "      <th>Root Mean Squared Error</th>\n",
              "      <th>Root Mean Squared Percentage Error</th>\n",
              "      <th>Mean Absolute Percentage Error</th>\n",
              "    </tr>\n",
              "  </thead>\n",
              "  <tbody>\n",
              "    <tr>\n",
              "      <th>0</th>\n",
              "      <td>Categories Lasso Regression Log(y)</td>\n",
              "      <td>0.485471</td>\n",
              "      <td>0.50955</td>\n",
              "      <td>0.192642</td>\n",
              "      <td>0.063138</td>\n",
              "      <td>0.251272</td>\n",
              "      <td>2.206864</td>\n",
              "      <td>1.690324</td>\n",
              "    </tr>\n",
              "  </tbody>\n",
              "</table>\n",
              "</div>"
            ],
            "text/plain": [
              "                                Model  ...  Mean Absolute Percentage Error\n",
              "0  Categories Lasso Regression Log(y)  ...                        1.690324\n",
              "\n",
              "[1 rows x 8 columns]"
            ]
          },
          "metadata": {
            "tags": []
          },
          "execution_count": 54
        }
      ]
    },
    {
      "cell_type": "markdown",
      "metadata": {
        "id": "48fdTxfTqL2T"
      },
      "source": [
        "### **yrs_exp_df log(y)**"
      ]
    },
    {
      "cell_type": "code",
      "metadata": {
        "colab": {
          "base_uri": "https://localhost:8080/"
        },
        "id": "RPccOTUiqL2U",
        "outputId": "76d75032-a4bc-433c-f088-c2048f144050"
      },
      "source": [
        "#set features & target\n",
        "X = yrs_exp_df.drop(columns=['avg_sal', 'log_avg_sal'])\n",
        "y = yrs_exp_df['log_avg_sal']\n",
        "\n",
        "#split data into training & test sets\n",
        "X_train, X_test, y_train, y_test = train_test_split(X, y, test_size = 0.2, random_state = 43)\n",
        "\n",
        "#Use grid search to find best hyperparameters\n",
        "# defining parameter range \n",
        "param_grid = {'alpha': [0.001, 0.01, 0.1, 1, 10, 100, 1000]} \n",
        "\n",
        "log_yrs_exp_lasso_grid = GridSearchCV(Lasso(), param_grid)\n",
        "\n",
        "# fitting the model for grid search \n",
        "log_yrs_exp_lasso_grid.fit(X_train, y_train) \n",
        "# print best parameter after tuning \n",
        "print(log_yrs_exp_lasso_grid.best_params_)\n",
        "\n",
        "# print how our model looks after hyper-parameter tuning \n",
        "print(log_yrs_exp_lasso_grid.best_estimator_)"
      ],
      "execution_count": null,
      "outputs": [
        {
          "output_type": "stream",
          "text": [
            "{'alpha': 0.001}\n",
            "Lasso(alpha=0.001, copy_X=True, fit_intercept=True, max_iter=1000,\n",
            "      normalize=False, positive=False, precompute=False, random_state=None,\n",
            "      selection='cyclic', tol=0.0001, warm_start=False)\n"
          ],
          "name": "stdout"
        }
      ]
    },
    {
      "cell_type": "code",
      "metadata": {
        "colab": {
          "base_uri": "https://localhost:8080/"
        },
        "id": "OvehleW4qL2U",
        "outputId": "388a3aba-6296-4a17-c8f8-1040e70c5b12"
      },
      "source": [
        "#set model with ideal hyperparameters from above\n",
        "log_yrs_exp_lasso = log_yrs_exp_lasso_grid.best_estimator_\n",
        "\n",
        "log_yrs_exp_lasso.fit(X_train, y_train)\n",
        "\n",
        "#cross validate\n",
        "log_yrs_exp_lasso_scores = cross_val_score(log_yrs_exp_lasso, X_train, y_train, cv = 5)\n",
        "\n",
        "print('Accuracy Scores for the 5 folds: ', log_yrs_exp_lasso_scores)\n",
        "print('Mean Cross Validation Score: {:.33f}'.format(np.mean(log_yrs_exp_lasso_scores)))"
      ],
      "execution_count": null,
      "outputs": [
        {
          "output_type": "stream",
          "text": [
            "Accuracy Scores for the 5 folds:  [0.46671243 0.50347104 0.51971776 0.49691406 0.50663737]\n",
            "Mean Cross Validation Score: 0.498690532580628897996177784079919\n"
          ],
          "name": "stdout"
        }
      ]
    },
    {
      "cell_type": "code",
      "metadata": {
        "colab": {
          "base_uri": "https://localhost:8080/",
          "height": 108
        },
        "id": "JKVrv0DRqL2U",
        "outputId": "70e50a52-5004-4f10-bc31-fdb03c9772ff"
      },
      "source": [
        "#generate predictions\n",
        "log_yrs_exp_lasso_preds = log_yrs_exp_lasso.predict(X_test)\n",
        "\n",
        "#more performance metrics\n",
        "log_yrs_exp_lasso_rsquared_train = log_yrs_exp_lasso.score(X_train, y_train)\n",
        "log_yrs_exp_lasso_rsquared_test = log_yrs_exp_lasso.score(X_test, y_test)\n",
        "log_yrs_exp_lasso_mae = mean_absolute_error(y_test, log_yrs_exp_lasso_preds)\n",
        "log_yrs_exp_lasso_mse = mse(y_test, log_yrs_exp_lasso_preds)\n",
        "log_yrs_exp_lasso_rmse = rmse(y_test, log_yrs_exp_lasso_preds)\n",
        "log_yrs_exp_lasso_mape = np.mean(np.abs((y_test - log_yrs_exp_lasso_preds)/y_test)*100)\n",
        "log_yrs_exp_lasso_rmspe = (np.sqrt(np.mean(np.square((y_test - log_yrs_exp_lasso_preds) / y_test)))) * 100\n",
        "log_yrs_exp_lasso_model_name = 'Years of Experience Lasso Regression Log(y)'\n",
        "\n",
        "#create easily readable display of performance metrics\n",
        "log_yrs_exp_lasso_dictionary = {'Model': log_yrs_exp_lasso_model_name,\n",
        "  'Training Set R Squared': log_yrs_exp_lasso_rsquared_train, \n",
        "  'Test Set R Squared': log_yrs_exp_lasso_rsquared_test, 'Mean Absolute Error': log_yrs_exp_lasso_mae, \n",
        "  'Mean Sqaured Error': log_yrs_exp_lasso_mse, 'Root Mean Squared Error': log_yrs_exp_lasso_rmse,\n",
        "  'Root Mean Squared Percentage Error': log_yrs_exp_lasso_rmspe,\n",
        "  'Mean Absolute Percentage Error': log_yrs_exp_lasso_mape}\n",
        "\n",
        "log_yrs_exp_lasso_df = pd.DataFrame(log_yrs_exp_lasso_dictionary, index=[0])\n",
        "\n",
        "log_yrs_exp_lasso_df"
      ],
      "execution_count": null,
      "outputs": [
        {
          "output_type": "execute_result",
          "data": {
            "text/html": [
              "<div>\n",
              "<style scoped>\n",
              "    .dataframe tbody tr th:only-of-type {\n",
              "        vertical-align: middle;\n",
              "    }\n",
              "\n",
              "    .dataframe tbody tr th {\n",
              "        vertical-align: top;\n",
              "    }\n",
              "\n",
              "    .dataframe thead th {\n",
              "        text-align: right;\n",
              "    }\n",
              "</style>\n",
              "<table border=\"1\" class=\"dataframe\">\n",
              "  <thead>\n",
              "    <tr style=\"text-align: right;\">\n",
              "      <th></th>\n",
              "      <th>Model</th>\n",
              "      <th>Training Set R Squared</th>\n",
              "      <th>Test Set R Squared</th>\n",
              "      <th>Mean Absolute Error</th>\n",
              "      <th>Mean Sqaured Error</th>\n",
              "      <th>Root Mean Squared Error</th>\n",
              "      <th>Root Mean Squared Percentage Error</th>\n",
              "      <th>Mean Absolute Percentage Error</th>\n",
              "    </tr>\n",
              "  </thead>\n",
              "  <tbody>\n",
              "    <tr>\n",
              "      <th>0</th>\n",
              "      <td>Years of Experience Lasso Regression Log(y)</td>\n",
              "      <td>0.50412</td>\n",
              "      <td>0.531388</td>\n",
              "      <td>0.192374</td>\n",
              "      <td>0.061202</td>\n",
              "      <td>0.24739</td>\n",
              "      <td>2.191956</td>\n",
              "      <td>1.69612</td>\n",
              "    </tr>\n",
              "  </tbody>\n",
              "</table>\n",
              "</div>"
            ],
            "text/plain": [
              "                                         Model  ...  Mean Absolute Percentage Error\n",
              "0  Years of Experience Lasso Regression Log(y)  ...                         1.69612\n",
              "\n",
              "[1 rows x 8 columns]"
            ]
          },
          "metadata": {
            "tags": []
          },
          "execution_count": 57
        }
      ]
    },
    {
      "cell_type": "markdown",
      "metadata": {
        "id": "JSJVmnSQKEsy"
      },
      "source": [
        "### **cat_no_outliers_df**"
      ]
    },
    {
      "cell_type": "code",
      "metadata": {
        "colab": {
          "base_uri": "https://localhost:8080/"
        },
        "id": "2v6T6EEmKEs0",
        "outputId": "e33863a1-c95e-474f-8637-1b4cf735391a"
      },
      "source": [
        "#set features & target\n",
        "X = cat_no_outliers_df.drop(columns=['avg_sal', 'log_avg_sal'])\n",
        "y = cat_no_outliers_df['avg_sal']\n",
        "\n",
        "#split data into training & test sets\n",
        "X_train, X_test, y_train, y_test = train_test_split(X, y, test_size = 0.2, random_state = 43)\n",
        "\n",
        "#Use grid search to find best hyperparameters\n",
        "# defining parameter range \n",
        "param_grid = {'alpha': [0.001, 0.01, 0.1, 1, 10, 100, 1000]} \n",
        "\n",
        "cat_no_outliers_lasso_grid = GridSearchCV(Lasso(), param_grid)\n",
        "\n",
        "# fitting the model for grid search \n",
        "cat_no_outliers_lasso_grid.fit(X_train, y_train) \n",
        "# print best parameter after tuning \n",
        "print(cat_no_outliers_lasso_grid.best_params_)\n",
        "\n",
        "# print how our model looks after hyper-parameter tuning \n",
        "print(cat_no_outliers_lasso_grid.best_estimator_)"
      ],
      "execution_count": null,
      "outputs": [
        {
          "output_type": "stream",
          "text": [
            "{'alpha': 10}\n",
            "Lasso(alpha=10, copy_X=True, fit_intercept=True, max_iter=1000, normalize=False,\n",
            "      positive=False, precompute=False, random_state=None, selection='cyclic',\n",
            "      tol=0.0001, warm_start=False)\n"
          ],
          "name": "stdout"
        }
      ]
    },
    {
      "cell_type": "code",
      "metadata": {
        "colab": {
          "base_uri": "https://localhost:8080/"
        },
        "id": "UGX_2pASKEs1",
        "outputId": "03289134-6f20-4dee-ddcd-178e62f0baf1"
      },
      "source": [
        "#set model with ideal hyperparameters from above\n",
        "cat_no_outliers_lasso = cat_no_outliers_lasso_grid.best_estimator_\n",
        "\n",
        "cat_no_outliers_lasso.fit(X_train, y_train)\n",
        "\n",
        "#cross validate\n",
        "cat_no_outliers_lasso_scores = cross_val_score(cat_no_outliers_lasso, X_train, y_train, cv = 5)\n",
        "\n",
        "print('Accuracy Scores for the 5 folds: ', cat_no_outliers_lasso_scores)\n",
        "print('Mean Cross Validation Score: {:.33f}'.format(np.mean(cat_no_outliers_lasso_scores)))"
      ],
      "execution_count": null,
      "outputs": [
        {
          "output_type": "stream",
          "text": [
            "Accuracy Scores for the 5 folds:  [0.51206834 0.47399502 0.5117516  0.4426934  0.47537343]\n",
            "Mean Cross Validation Score: 0.483176359208829175884147844044492\n"
          ],
          "name": "stdout"
        }
      ]
    },
    {
      "cell_type": "code",
      "metadata": {
        "colab": {
          "base_uri": "https://localhost:8080/",
          "height": 108
        },
        "id": "tPLFAymiKEs1",
        "outputId": "dcb77440-4a6c-4023-8719-25141259c28e"
      },
      "source": [
        "#generate predictions\n",
        "cat_no_outliers_lasso_preds = cat_no_outliers_lasso.predict(X_test)\n",
        "\n",
        "#more performance metrics\n",
        "cat_no_outliers_lasso_rsquared_train = cat_no_outliers_lasso.score(X_train, y_train)\n",
        "cat_no_outliers_lasso_rsquared_test = cat_no_outliers_lasso.score(X_test, y_test)\n",
        "cat_no_outliers_lasso_mae = mean_absolute_error(y_test, cat_no_outliers_lasso_preds)\n",
        "cat_no_outliers_lasso_mse = mse(y_test, cat_no_outliers_lasso_preds)\n",
        "cat_no_outliers_lasso_rmse = rmse(y_test, cat_no_outliers_lasso_preds)\n",
        "cat_no_outliers_lasso_mape = np.mean(np.abs((y_test - cat_no_outliers_lasso_preds)/y_test)*100)\n",
        "cat_no_outliers_lasso_rmspe = (np.sqrt(np.mean(np.square((y_test - cat_no_outliers_lasso_preds) / y_test)))) * 100\n",
        "cat_no_outliers_lasso_model_name = 'Categories Lasso Regression'\n",
        "\n",
        "#create easily readable display of performance metrics\n",
        "cat_no_outliers_lasso_dictionary = {'Model': cat_no_outliers_lasso_model_name,\n",
        "  'Training Set R Squared': cat_no_outliers_lasso_rsquared_train, \n",
        "  'Test Set R Squared': cat_no_outliers_lasso_rsquared_test, 'Mean Absolute Error': cat_no_outliers_lasso_mae, \n",
        "  'Mean Sqaured Error': cat_no_outliers_lasso_mse, 'Root Mean Squared Error': cat_no_outliers_lasso_rmse,\n",
        "  'Root Mean Squared Percentage Error': cat_no_outliers_lasso_rmspe,\n",
        "  'Mean Absolute Percentage Error': cat_no_outliers_lasso_mape}\n",
        "\n",
        "cat_no_outliers_lasso_df = pd.DataFrame(cat_no_outliers_lasso_dictionary, index=[0])\n",
        "\n",
        "cat_no_outliers_lasso_df"
      ],
      "execution_count": null,
      "outputs": [
        {
          "output_type": "execute_result",
          "data": {
            "text/html": [
              "<div>\n",
              "<style scoped>\n",
              "    .dataframe tbody tr th:only-of-type {\n",
              "        vertical-align: middle;\n",
              "    }\n",
              "\n",
              "    .dataframe tbody tr th {\n",
              "        vertical-align: top;\n",
              "    }\n",
              "\n",
              "    .dataframe thead th {\n",
              "        text-align: right;\n",
              "    }\n",
              "</style>\n",
              "<table border=\"1\" class=\"dataframe\">\n",
              "  <thead>\n",
              "    <tr style=\"text-align: right;\">\n",
              "      <th></th>\n",
              "      <th>Model</th>\n",
              "      <th>Training Set R Squared</th>\n",
              "      <th>Test Set R Squared</th>\n",
              "      <th>Mean Absolute Error</th>\n",
              "      <th>Mean Sqaured Error</th>\n",
              "      <th>Root Mean Squared Error</th>\n",
              "      <th>Root Mean Squared Percentage Error</th>\n",
              "      <th>Mean Absolute Percentage Error</th>\n",
              "    </tr>\n",
              "  </thead>\n",
              "  <tbody>\n",
              "    <tr>\n",
              "      <th>0</th>\n",
              "      <td>Categories Lasso Regression</td>\n",
              "      <td>0.489294</td>\n",
              "      <td>0.479888</td>\n",
              "      <td>18052.14943</td>\n",
              "      <td>5.362368e+08</td>\n",
              "      <td>23156.788158</td>\n",
              "      <td>28.10584</td>\n",
              "      <td>20.876866</td>\n",
              "    </tr>\n",
              "  </tbody>\n",
              "</table>\n",
              "</div>"
            ],
            "text/plain": [
              "                         Model  ...  Mean Absolute Percentage Error\n",
              "0  Categories Lasso Regression  ...                       20.876866\n",
              "\n",
              "[1 rows x 8 columns]"
            ]
          },
          "metadata": {
            "tags": []
          },
          "execution_count": 60
        }
      ]
    },
    {
      "cell_type": "markdown",
      "metadata": {
        "id": "-J900aL8KEs2"
      },
      "source": [
        "### **yrs_exp_no_outliers_df**"
      ]
    },
    {
      "cell_type": "code",
      "metadata": {
        "colab": {
          "base_uri": "https://localhost:8080/"
        },
        "id": "cJbKC2reKEs2",
        "outputId": "9b880599-e385-45a0-dcbe-58e60ff08400"
      },
      "source": [
        "#set features & target\n",
        "X = yrs_exp_no_outliers_df.drop(columns=['avg_sal', 'log_avg_sal'])\n",
        "y = yrs_exp_no_outliers_df['avg_sal']\n",
        "\n",
        "#split data into training & test sets\n",
        "X_train, X_test, y_train, y_test = train_test_split(X, y, test_size = 0.2, random_state = 43)\n",
        "\n",
        "#Use grid search to find best hyperparameters\n",
        "# defining parameter range \n",
        "param_grid = {'alpha': [0.001, 0.01, 0.1, 1, 10, 100, 1000]} \n",
        "\n",
        "yrs_exp_lasso_grid = GridSearchCV(Lasso(), param_grid)\n",
        "\n",
        "# fitting the model for grid search \n",
        "yrs_exp_lasso_grid.fit(X_train, y_train) \n",
        "# print best parameter after tuning \n",
        "print(yrs_exp_lasso_grid.best_params_)\n",
        "\n",
        "# print how our model looks after hyper-parameter tuning \n",
        "print(yrs_exp_lasso_grid.best_estimator_)"
      ],
      "execution_count": null,
      "outputs": [
        {
          "output_type": "stream",
          "text": [
            "{'alpha': 100}\n",
            "Lasso(alpha=100, copy_X=True, fit_intercept=True, max_iter=1000,\n",
            "      normalize=False, positive=False, precompute=False, random_state=None,\n",
            "      selection='cyclic', tol=0.0001, warm_start=False)\n"
          ],
          "name": "stdout"
        }
      ]
    },
    {
      "cell_type": "code",
      "metadata": {
        "colab": {
          "base_uri": "https://localhost:8080/"
        },
        "id": "7LJ1mTeAKEs3",
        "outputId": "9522e722-31f5-48ae-a8ae-97618bb77213"
      },
      "source": [
        "#set model with ideal hyperparameters from above\n",
        "yrs_exp_lasso = yrs_exp_lasso_grid.best_estimator_\n",
        "\n",
        "yrs_exp_lasso.fit(X_train, y_train)\n",
        "\n",
        "#cross validate\n",
        "yrs_exp_lasso_scores = cross_val_score(yrs_exp_lasso, X_train, y_train, cv = 5)\n",
        "\n",
        "print('Accuracy Scores for the 5 folds: ', yrs_exp_lasso_scores)\n",
        "print('Mean Cross Validation Score: {:.33f}'.format(np.mean(yrs_exp_lasso_scores)))"
      ],
      "execution_count": null,
      "outputs": [
        {
          "output_type": "stream",
          "text": [
            "Accuracy Scores for the 5 folds:  [0.51489283 0.54155075 0.49975569 0.41541561 0.52708854]\n",
            "Mean Cross Validation Score: 0.499740684474939023118622571928427\n"
          ],
          "name": "stdout"
        }
      ]
    },
    {
      "cell_type": "code",
      "metadata": {
        "colab": {
          "base_uri": "https://localhost:8080/",
          "height": 108
        },
        "id": "afuB5MiNKEs3",
        "outputId": "4d5da9c4-a25f-4e7d-dcc8-cbc5b06909e1"
      },
      "source": [
        "#generate predictions\n",
        "yrs_exp_lasso_preds = yrs_exp_lasso.predict(X_test)\n",
        "\n",
        "#more performance metrics\n",
        "yrs_exp_lasso_rsquared_train = yrs_exp_lasso.score(X_train, y_train)\n",
        "yrs_exp_lasso_rsquared_test = yrs_exp_lasso.score(X_test, y_test)\n",
        "yrs_exp_lasso_mae = mean_absolute_error(y_test, yrs_exp_lasso_preds)\n",
        "yrs_exp_lasso_mse = mse(y_test, yrs_exp_lasso_preds)\n",
        "yrs_exp_lasso_rmse = rmse(y_test, yrs_exp_lasso_preds)\n",
        "yrs_exp_lasso_mape = np.mean(np.abs((y_test - yrs_exp_lasso_preds)/y_test)*100)\n",
        "yrs_exp_lasso_rmspe = (np.sqrt(np.mean(np.square((y_test - yrs_exp_lasso_preds) / y_test)))) * 100\n",
        "yrs_exp_lasso_model_name = 'Years of Experience w/o Outliers Lasso Regression'\n",
        "\n",
        "#create easily readable display of performance metrics\n",
        "yrs_exp_lasso_dictionary = {'Model': yrs_exp_lasso_model_name,\n",
        "  'Training Set R Squared': yrs_exp_lasso_rsquared_train, \n",
        "  'Test Set R Squared': yrs_exp_lasso_rsquared_test, 'Mean Absolute Error': yrs_exp_lasso_mae, \n",
        "  'Mean Sqaured Error': yrs_exp_lasso_mse, 'Root Mean Squared Error': yrs_exp_lasso_rmse,\n",
        "  'Root Mean Squared Percentage Error': yrs_exp_lasso_rmspe,\n",
        "  'Mean Absolute Percentage Error': yrs_exp_lasso_mape}\n",
        "\n",
        "yrs_exp_no_outliers_lasso_df = pd.DataFrame(yrs_exp_lasso_dictionary, index=[0])\n",
        "\n",
        "yrs_exp_no_outliers_lasso_df"
      ],
      "execution_count": null,
      "outputs": [
        {
          "output_type": "execute_result",
          "data": {
            "text/html": [
              "<div>\n",
              "<style scoped>\n",
              "    .dataframe tbody tr th:only-of-type {\n",
              "        vertical-align: middle;\n",
              "    }\n",
              "\n",
              "    .dataframe tbody tr th {\n",
              "        vertical-align: top;\n",
              "    }\n",
              "\n",
              "    .dataframe thead th {\n",
              "        text-align: right;\n",
              "    }\n",
              "</style>\n",
              "<table border=\"1\" class=\"dataframe\">\n",
              "  <thead>\n",
              "    <tr style=\"text-align: right;\">\n",
              "      <th></th>\n",
              "      <th>Model</th>\n",
              "      <th>Training Set R Squared</th>\n",
              "      <th>Test Set R Squared</th>\n",
              "      <th>Mean Absolute Error</th>\n",
              "      <th>Mean Sqaured Error</th>\n",
              "      <th>Root Mean Squared Error</th>\n",
              "      <th>Root Mean Squared Percentage Error</th>\n",
              "      <th>Mean Absolute Percentage Error</th>\n",
              "    </tr>\n",
              "  </thead>\n",
              "  <tbody>\n",
              "    <tr>\n",
              "      <th>0</th>\n",
              "      <td>Years of Experience w/o Outliers Lasso Regression</td>\n",
              "      <td>0.508418</td>\n",
              "      <td>0.490746</td>\n",
              "      <td>17154.781138</td>\n",
              "      <td>4.852268e+08</td>\n",
              "      <td>22027.864867</td>\n",
              "      <td>27.680899</td>\n",
              "      <td>19.89162</td>\n",
              "    </tr>\n",
              "  </tbody>\n",
              "</table>\n",
              "</div>"
            ],
            "text/plain": [
              "                                               Model  ...  Mean Absolute Percentage Error\n",
              "0  Years of Experience w/o Outliers Lasso Regression  ...                        19.89162\n",
              "\n",
              "[1 rows x 8 columns]"
            ]
          },
          "metadata": {
            "tags": []
          },
          "execution_count": 63
        }
      ]
    },
    {
      "cell_type": "markdown",
      "metadata": {
        "id": "9eWhywmnKEs3"
      },
      "source": [
        "### **cat_no_outliers_df  log(y)**"
      ]
    },
    {
      "cell_type": "code",
      "metadata": {
        "colab": {
          "base_uri": "https://localhost:8080/"
        },
        "id": "HKDHDNP_KEs4",
        "outputId": "08dde0c8-34d1-466f-f86a-33f793236091"
      },
      "source": [
        "#set features & target\n",
        "X = cat_no_outliers_df.drop(columns=['avg_sal', 'log_avg_sal'])\n",
        "y = cat_no_outliers_df['log_avg_sal']\n",
        "\n",
        "#split data into training & test sets\n",
        "X_train, X_test, y_train, y_test = train_test_split(X, y, test_size = 0.2, random_state = 43)\n",
        "\n",
        "#Use grid search to find best hyperparameters\n",
        "# defining parameter range \n",
        "param_grid = {'alpha': [0.001, 0.01, 0.1, 1, 10, 100, 1000]} \n",
        "\n",
        "log_cat_no_outliers_lasso_grid = GridSearchCV(Lasso(), param_grid)\n",
        "\n",
        "# fitting the model for grid search \n",
        "log_cat_no_outliers_lasso_grid.fit(X_train, y_train) \n",
        "# print best parameter after tuning \n",
        "print(log_cat_no_outliers_lasso_grid.best_params_)\n",
        "\n",
        "# print how our model looks after hyper-parameter tuning \n",
        "print(log_cat_no_outliers_lasso_grid.best_estimator_)"
      ],
      "execution_count": null,
      "outputs": [
        {
          "output_type": "stream",
          "text": [
            "{'alpha': 0.001}\n",
            "Lasso(alpha=0.001, copy_X=True, fit_intercept=True, max_iter=1000,\n",
            "      normalize=False, positive=False, precompute=False, random_state=None,\n",
            "      selection='cyclic', tol=0.0001, warm_start=False)\n"
          ],
          "name": "stdout"
        }
      ]
    },
    {
      "cell_type": "code",
      "metadata": {
        "colab": {
          "base_uri": "https://localhost:8080/"
        },
        "id": "jWbqHZslKEs4",
        "outputId": "980e6310-5633-4bd5-ac45-d20d30b7cfa2"
      },
      "source": [
        "#set model with ideal hyperparameters from above\n",
        "log_cat_no_outliers_lasso = log_cat_no_outliers_lasso_grid.best_estimator_\n",
        "\n",
        "log_cat_no_outliers_lasso.fit(X_train, y_train)\n",
        "\n",
        "#cross validate\n",
        "log_cat_no_outliers_lasso_scores = cross_val_score(log_cat_no_outliers_lasso, X_train, y_train, cv = 5)\n",
        "\n",
        "print('Accuracy Scores for the 5 folds: ', log_cat_no_outliers_lasso_scores)\n",
        "print('Mean Cross Validation Score: {:.33f}'.format(np.mean(log_cat_no_outliers_lasso_scores)))"
      ],
      "execution_count": null,
      "outputs": [
        {
          "output_type": "stream",
          "text": [
            "Accuracy Scores for the 5 folds:  [0.50469795 0.47026876 0.50938194 0.45177165 0.48017855]\n",
            "Mean Cross Validation Score: 0.483259767487846603195578154554823\n"
          ],
          "name": "stdout"
        }
      ]
    },
    {
      "cell_type": "code",
      "metadata": {
        "colab": {
          "base_uri": "https://localhost:8080/",
          "height": 108
        },
        "id": "opqmZxCyKEs4",
        "outputId": "92313179-8280-4b69-e63c-b946137376ba"
      },
      "source": [
        "#generate predictions\n",
        "log_cat_no_outliers_lasso_preds = log_cat_no_outliers_lasso.predict(X_test)\n",
        "\n",
        "#more performance metrics\n",
        "log_cat_no_outliers_lasso_rsquared_train = log_cat_no_outliers_lasso.score(X_train, y_train)\n",
        "log_cat_no_outliers_lasso_rsquared_test = log_cat_no_outliers_lasso.score(X_test, y_test)\n",
        "log_cat_no_outliers_lasso_mae = mean_absolute_error(y_test, log_cat_no_outliers_lasso_preds)\n",
        "log_cat_no_outliers_lasso_mse = mse(y_test, log_cat_no_outliers_lasso_preds)\n",
        "log_cat_no_outliers_lasso_rmse = rmse(y_test, log_cat_no_outliers_lasso_preds)\n",
        "log_cat_no_outliers_lasso_mape = np.mean(np.abs((y_test - log_cat_no_outliers_lasso_preds)/y_test)*100)\n",
        "log_cat_no_outliers_lasso_rmspe = (np.sqrt(np.mean(np.square((y_test - log_cat_no_outliers_lasso_preds) / y_test)))) * 100\n",
        "log_cat_no_outliers_lasso_model_name = 'Categories w/o Outliers Lasso Regression Log(y)'\n",
        "\n",
        "#create easily readable display of performance metrics\n",
        "log_cat_no_outliers_lasso_dictionary = {'Model': log_cat_no_outliers_lasso_model_name,\n",
        "  'Training Set R Squared': log_cat_no_outliers_lasso_rsquared_train, \n",
        "  'Test Set R Squared': log_cat_no_outliers_lasso_rsquared_test, 'Mean Absolute Error': log_cat_no_outliers_lasso_mae, \n",
        "  'Mean Sqaured Error': log_cat_no_outliers_lasso_mse, 'Root Mean Squared Error': log_cat_no_outliers_lasso_rmse,\n",
        "  'Root Mean Squared Percentage Error': log_cat_no_outliers_lasso_rmspe,\n",
        "  'Mean Absolute Percentage Error': log_cat_no_outliers_lasso_mape}\n",
        "\n",
        "log_cat_no_outliers_lasso_df = pd.DataFrame(log_cat_no_outliers_lasso_dictionary, index=[0])\n",
        "\n",
        "log_cat_no_outliers_lasso_df"
      ],
      "execution_count": null,
      "outputs": [
        {
          "output_type": "execute_result",
          "data": {
            "text/html": [
              "<div>\n",
              "<style scoped>\n",
              "    .dataframe tbody tr th:only-of-type {\n",
              "        vertical-align: middle;\n",
              "    }\n",
              "\n",
              "    .dataframe tbody tr th {\n",
              "        vertical-align: top;\n",
              "    }\n",
              "\n",
              "    .dataframe thead th {\n",
              "        text-align: right;\n",
              "    }\n",
              "</style>\n",
              "<table border=\"1\" class=\"dataframe\">\n",
              "  <thead>\n",
              "    <tr style=\"text-align: right;\">\n",
              "      <th></th>\n",
              "      <th>Model</th>\n",
              "      <th>Training Set R Squared</th>\n",
              "      <th>Test Set R Squared</th>\n",
              "      <th>Mean Absolute Error</th>\n",
              "      <th>Mean Sqaured Error</th>\n",
              "      <th>Root Mean Squared Error</th>\n",
              "      <th>Root Mean Squared Percentage Error</th>\n",
              "      <th>Mean Absolute Percentage Error</th>\n",
              "    </tr>\n",
              "  </thead>\n",
              "  <tbody>\n",
              "    <tr>\n",
              "      <th>0</th>\n",
              "      <td>Categories w/o Outliers Lasso Regression Log(y)</td>\n",
              "      <td>0.489101</td>\n",
              "      <td>0.485056</td>\n",
              "      <td>0.194682</td>\n",
              "      <td>0.060972</td>\n",
              "      <td>0.246926</td>\n",
              "      <td>2.178354</td>\n",
              "      <td>1.712565</td>\n",
              "    </tr>\n",
              "  </tbody>\n",
              "</table>\n",
              "</div>"
            ],
            "text/plain": [
              "                                             Model  ...  Mean Absolute Percentage Error\n",
              "0  Categories w/o Outliers Lasso Regression Log(y)  ...                        1.712565\n",
              "\n",
              "[1 rows x 8 columns]"
            ]
          },
          "metadata": {
            "tags": []
          },
          "execution_count": 66
        }
      ]
    },
    {
      "cell_type": "markdown",
      "metadata": {
        "id": "zB8hw0sMKEs5"
      },
      "source": [
        "### **yrs_exp_no_outliers_df log(y)**"
      ]
    },
    {
      "cell_type": "code",
      "metadata": {
        "colab": {
          "base_uri": "https://localhost:8080/"
        },
        "id": "jtaugZ7VKEs5",
        "outputId": "80efc79d-f128-436f-9df3-689007545272"
      },
      "source": [
        "#set features & target\n",
        "X = yrs_exp_no_outliers_df.drop(columns=['avg_sal', 'log_avg_sal'])\n",
        "y = yrs_exp_no_outliers_df['log_avg_sal']\n",
        "\n",
        "#split data into training & test sets\n",
        "X_train, X_test, y_train, y_test = train_test_split(X, y, test_size = 0.2, random_state = 43)\n",
        "\n",
        "#Use grid search to find best hyperparameters\n",
        "# defining parameter range \n",
        "param_grid = {'alpha': [0.001, 0.01, 0.1, 1, 10, 100, 1000]} \n",
        "\n",
        "log_yrs_exp_no_outliers_lasso_grid = GridSearchCV(Lasso(), param_grid)\n",
        "\n",
        "# fitting the model for grid search \n",
        "log_yrs_exp_no_outliers_lasso_grid.fit(X_train, y_train) \n",
        "# print best parameter after tuning \n",
        "print(log_yrs_exp_no_outliers_lasso_grid.best_params_)\n",
        "\n",
        "# print how our model looks after hyper-parameter tuning \n",
        "print(log_yrs_exp_no_outliers_lasso_grid.best_estimator_)"
      ],
      "execution_count": null,
      "outputs": [
        {
          "output_type": "stream",
          "text": [
            "{'alpha': 0.001}\n",
            "Lasso(alpha=0.001, copy_X=True, fit_intercept=True, max_iter=1000,\n",
            "      normalize=False, positive=False, precompute=False, random_state=None,\n",
            "      selection='cyclic', tol=0.0001, warm_start=False)\n"
          ],
          "name": "stdout"
        }
      ]
    },
    {
      "cell_type": "code",
      "metadata": {
        "colab": {
          "base_uri": "https://localhost:8080/"
        },
        "id": "MYXbWWGLKEs5",
        "outputId": "3d0da7ed-df73-4f25-83d7-27d60d1e1beb"
      },
      "source": [
        "#set model with ideal hyperparameters from above\n",
        "log_yrs_exp_no_outliers_lasso = log_yrs_exp_no_outliers_lasso_grid.best_estimator_\n",
        "\n",
        "log_yrs_exp_no_outliers_lasso.fit(X_train, y_train)\n",
        "\n",
        "#cross validate\n",
        "log_yrs_exp_no_outliers_lasso_scores = cross_val_score(log_yrs_exp_no_outliers_lasso, X_train, y_train, cv = 5)\n",
        "\n",
        "print('Accuracy Scores for the 5 folds: ', log_yrs_exp_no_outliers_lasso_scores)\n",
        "print('Mean Cross Validation Score: {:.33f}'.format(np.mean(log_yrs_exp_no_outliers_lasso_scores)))"
      ],
      "execution_count": null,
      "outputs": [
        {
          "output_type": "stream",
          "text": [
            "Accuracy Scores for the 5 folds:  [0.52002742 0.54600587 0.49611888 0.41404275 0.51674422]\n",
            "Mean Cross Validation Score: 0.498587826076183848744705073841033\n"
          ],
          "name": "stdout"
        }
      ]
    },
    {
      "cell_type": "code",
      "metadata": {
        "colab": {
          "base_uri": "https://localhost:8080/",
          "height": 108
        },
        "id": "Ja_YQtIMKEs5",
        "outputId": "619eac4f-f2ef-44c5-c1c1-c55e39fbe2e7"
      },
      "source": [
        "#generate predictions\n",
        "log_yrs_exp_no_outliers_lasso_preds = log_yrs_exp_no_outliers_lasso.predict(X_test)\n",
        "\n",
        "#more performance metrics\n",
        "log_yrs_exp_no_outliers_lasso_rsquared_train = log_yrs_exp_no_outliers_lasso.score(X_train, y_train)\n",
        "log_yrs_exp_no_outliers_lasso_rsquared_test = log_yrs_exp_no_outliers_lasso.score(X_test, y_test)\n",
        "log_yrs_exp_no_outliers_lasso_mae = mean_absolute_error(y_test, log_yrs_exp_no_outliers_lasso_preds)\n",
        "log_yrs_exp_no_outliers_lasso_mse = mse(y_test, log_yrs_exp_no_outliers_lasso_preds)\n",
        "log_yrs_exp_no_outliers_lasso_rmse = rmse(y_test, log_yrs_exp_no_outliers_lasso_preds)\n",
        "log_yrs_exp_no_outliers_lasso_mape = np.mean(np.abs((y_test - log_yrs_exp_no_outliers_lasso_preds)/y_test)*100)\n",
        "log_yrs_exp_no_outliers_lasso_rmspe = (np.sqrt(np.mean(np.square((y_test - log_yrs_exp_no_outliers_lasso_preds) / y_test)))) * 100\n",
        "log_yrs_exp_no_outliers_lasso_model_name = 'Years of Experience w/o Outliers Lasso Regression Log(y)'\n",
        "\n",
        "#create easily readable display of performance metrics\n",
        "log_yrs_exp_no_outliers_lasso_dictionary = {'Model': log_yrs_exp_no_outliers_lasso_model_name,\n",
        "  'Training Set R Squared': log_yrs_exp_no_outliers_lasso_rsquared_train, \n",
        "  'Test Set R Squared': log_yrs_exp_no_outliers_lasso_rsquared_test, 'Mean Absolute Error': log_yrs_exp_no_outliers_lasso_mae, \n",
        "  'Mean Sqaured Error': log_yrs_exp_no_outliers_lasso_mse, 'Root Mean Squared Error': log_yrs_exp_no_outliers_lasso_rmse,\n",
        "  'Root Mean Squared Percentage Error': log_yrs_exp_no_outliers_lasso_rmspe,\n",
        "  'Mean Absolute Percentage Error': log_yrs_exp_no_outliers_lasso_mape}\n",
        "\n",
        "log_yrs_exp_no_outliers_lasso_df = pd.DataFrame(log_yrs_exp_no_outliers_lasso_dictionary, index=[0])\n",
        "\n",
        "log_yrs_exp_no_outliers_lasso_df"
      ],
      "execution_count": null,
      "outputs": [
        {
          "output_type": "execute_result",
          "data": {
            "text/html": [
              "<div>\n",
              "<style scoped>\n",
              "    .dataframe tbody tr th:only-of-type {\n",
              "        vertical-align: middle;\n",
              "    }\n",
              "\n",
              "    .dataframe tbody tr th {\n",
              "        vertical-align: top;\n",
              "    }\n",
              "\n",
              "    .dataframe thead th {\n",
              "        text-align: right;\n",
              "    }\n",
              "</style>\n",
              "<table border=\"1\" class=\"dataframe\">\n",
              "  <thead>\n",
              "    <tr style=\"text-align: right;\">\n",
              "      <th></th>\n",
              "      <th>Model</th>\n",
              "      <th>Training Set R Squared</th>\n",
              "      <th>Test Set R Squared</th>\n",
              "      <th>Mean Absolute Error</th>\n",
              "      <th>Mean Sqaured Error</th>\n",
              "      <th>Root Mean Squared Error</th>\n",
              "      <th>Root Mean Squared Percentage Error</th>\n",
              "      <th>Mean Absolute Percentage Error</th>\n",
              "    </tr>\n",
              "  </thead>\n",
              "  <tbody>\n",
              "    <tr>\n",
              "      <th>0</th>\n",
              "      <td>Years of Experience w/o Outliers Lasso Regress...</td>\n",
              "      <td>0.50719</td>\n",
              "      <td>0.494458</td>\n",
              "      <td>0.184438</td>\n",
              "      <td>0.055645</td>\n",
              "      <td>0.235892</td>\n",
              "      <td>2.085472</td>\n",
              "      <td>1.622597</td>\n",
              "    </tr>\n",
              "  </tbody>\n",
              "</table>\n",
              "</div>"
            ],
            "text/plain": [
              "                                               Model  ...  Mean Absolute Percentage Error\n",
              "0  Years of Experience w/o Outliers Lasso Regress...  ...                        1.622597\n",
              "\n",
              "[1 rows x 8 columns]"
            ]
          },
          "metadata": {
            "tags": []
          },
          "execution_count": 69
        }
      ]
    },
    {
      "cell_type": "markdown",
      "metadata": {
        "id": "8-_bt-OoDtka"
      },
      "source": [
        "## **ElasticNet Regression**"
      ]
    },
    {
      "cell_type": "markdown",
      "metadata": {
        "id": "0jNNJU-vDtkb"
      },
      "source": [
        "### **categories_df**"
      ]
    },
    {
      "cell_type": "code",
      "metadata": {
        "colab": {
          "base_uri": "https://localhost:8080/"
        },
        "id": "kVdro0pYDtkc",
        "outputId": "781c6442-10a1-4336-e06c-adf382316ad4"
      },
      "source": [
        "#set features & target\n",
        "X = categories_df.drop(columns=['avg_sal', 'log_avg_sal'])\n",
        "y = categories_df['avg_sal']\n",
        "\n",
        "#split data into training & test sets\n",
        "X_train, X_test, y_train, y_test = train_test_split(X, y, test_size = 0.2, random_state = 43)\n",
        "\n",
        "#Use grid search to find best hyperparameters\n",
        "# defining parameter range \n",
        "param_grid = {'alpha': [0.001, 0.01, 0.1, 1, 10, 100, 1000],  \n",
        "              'l1_ratio': [0, 0.1, 0.2, 0.3, 0.4, 0.5, 0.6, 0.7, 0.8, 0.9, 1]} \n",
        "\n",
        "categories_enet_grid = GridSearchCV(ElasticNet(), param_grid, scoring='r2', \n",
        "                                    verbose=1, n_jobs=-1)\n",
        "\n",
        "# fitting the model for grid search \n",
        "categories_enet_grid.fit(X_train, y_train) \n",
        "# print best parameter after tuning \n",
        "print(categories_enet_grid.best_params_)\n",
        "\n",
        "# print how our model looks after hyper-parameter tuning \n",
        "print(categories_enet_grid.best_estimator_)"
      ],
      "execution_count": null,
      "outputs": [
        {
          "output_type": "stream",
          "text": [
            "Fitting 5 folds for each of 77 candidates, totalling 385 fits\n"
          ],
          "name": "stdout"
        },
        {
          "output_type": "stream",
          "text": [
            "[Parallel(n_jobs=-1)]: Using backend LokyBackend with 2 concurrent workers.\n",
            "[Parallel(n_jobs=-1)]: Done 330 tasks      | elapsed:    4.3s\n"
          ],
          "name": "stderr"
        },
        {
          "output_type": "stream",
          "text": [
            "{'alpha': 0.01, 'l1_ratio': 0.8}\n",
            "ElasticNet(alpha=0.01, copy_X=True, fit_intercept=True, l1_ratio=0.8,\n",
            "           max_iter=1000, normalize=False, positive=False, precompute=False,\n",
            "           random_state=None, selection='cyclic', tol=0.0001, warm_start=False)\n"
          ],
          "name": "stdout"
        },
        {
          "output_type": "stream",
          "text": [
            "[Parallel(n_jobs=-1)]: Done 385 out of 385 | elapsed:    4.9s finished\n"
          ],
          "name": "stderr"
        }
      ]
    },
    {
      "cell_type": "code",
      "metadata": {
        "colab": {
          "base_uri": "https://localhost:8080/"
        },
        "id": "xgPrwWteDtkb",
        "outputId": "b2b89f81-d13a-41ba-bde2-e61f0d128024"
      },
      "source": [
        "#set model with ideal hyperparameters from above\n",
        "categories_enet = categories_enet_grid.best_estimator_\n",
        "\n",
        "categories_enet.fit(X_train, y_train)\n",
        "\n",
        "#cross validate\n",
        "categories_enet_scores = cross_val_score(categories_enet, X_train, y_train, cv = 5)\n",
        "\n",
        "print('Accuracy Scores for the 5 folds: ', categories_enet_scores)\n",
        "print('Mean Cross Validation Score: {:.33f}'.format(np.mean(categories_enet_scores)))"
      ],
      "execution_count": null,
      "outputs": [
        {
          "output_type": "stream",
          "text": [
            "Accuracy Scores for the 5 folds:  [0.47761583 0.49431089 0.44811925 0.44160489 0.44967998]\n",
            "Mean Cross Validation Score: 0.462266168513489561497920021793107\n"
          ],
          "name": "stdout"
        }
      ]
    },
    {
      "cell_type": "code",
      "metadata": {
        "colab": {
          "base_uri": "https://localhost:8080/",
          "height": 108
        },
        "id": "RWNAeKSXzKye",
        "outputId": "42932c64-2000-4a88-b91a-aa3d38e21216"
      },
      "source": [
        "#generate predictions\n",
        "categories_enet_preds = categories_enet.predict(X_test)\n",
        "\n",
        "#more performance metrics\n",
        "categories_enet_rsquared_train = categories_enet.score(X_train, y_train)\n",
        "categories_enet_rsquared_test = categories_enet.score(X_test, y_test)\n",
        "categories_enet_mae = mean_absolute_error(y_test, categories_enet_preds)\n",
        "categories_enet_mse = mse(y_test, categories_enet_preds)\n",
        "categories_enet_rmse = rmse(y_test, categories_enet_preds)\n",
        "categories_enet_mape = np.mean(np.abs((y_test - categories_enet_preds)/y_test)*100)\n",
        "categories_enet_rmspe = (np.sqrt(np.mean(np.square((y_test - categories_enet_preds) / y_test)))) * 100\n",
        "categories_enet_model_name = 'Categories Elastic Net Regression'\n",
        "\n",
        "#create easily readable display of performance metrics\n",
        "categories_enet_dictionary = {'Model': categories_enet_model_name,\n",
        "  'Training Set R Squared': categories_enet_rsquared_train, \n",
        "  'Test Set R Squared': categories_enet_rsquared_test, 'Mean Absolute Error': categories_enet_mae, \n",
        "  'Mean Sqaured Error': categories_enet_mse, 'Root Mean Squared Error': categories_enet_rmse,\n",
        "  'Root Mean Squared Percentage Error': categories_enet_rmspe,\n",
        "  'Mean Absolute Percentage Error': categories_enet_mape}\n",
        "\n",
        "categories_enet_df = pd.DataFrame(categories_enet_dictionary, index=[0])\n",
        "\n",
        "categories_enet_df"
      ],
      "execution_count": null,
      "outputs": [
        {
          "output_type": "execute_result",
          "data": {
            "text/html": [
              "<div>\n",
              "<style scoped>\n",
              "    .dataframe tbody tr th:only-of-type {\n",
              "        vertical-align: middle;\n",
              "    }\n",
              "\n",
              "    .dataframe tbody tr th {\n",
              "        vertical-align: top;\n",
              "    }\n",
              "\n",
              "    .dataframe thead th {\n",
              "        text-align: right;\n",
              "    }\n",
              "</style>\n",
              "<table border=\"1\" class=\"dataframe\">\n",
              "  <thead>\n",
              "    <tr style=\"text-align: right;\">\n",
              "      <th></th>\n",
              "      <th>Model</th>\n",
              "      <th>Training Set R Squared</th>\n",
              "      <th>Test Set R Squared</th>\n",
              "      <th>Mean Absolute Error</th>\n",
              "      <th>Mean Sqaured Error</th>\n",
              "      <th>Root Mean Squared Error</th>\n",
              "      <th>Root Mean Squared Percentage Error</th>\n",
              "      <th>Mean Absolute Percentage Error</th>\n",
              "    </tr>\n",
              "  </thead>\n",
              "  <tbody>\n",
              "    <tr>\n",
              "      <th>0</th>\n",
              "      <td>Categories Elastic Net Regression</td>\n",
              "      <td>0.466424</td>\n",
              "      <td>0.49502</td>\n",
              "      <td>18359.574444</td>\n",
              "      <td>6.134222e+08</td>\n",
              "      <td>24767.361468</td>\n",
              "      <td>28.207043</td>\n",
              "      <td>20.520029</td>\n",
              "    </tr>\n",
              "  </tbody>\n",
              "</table>\n",
              "</div>"
            ],
            "text/plain": [
              "                               Model  ...  Mean Absolute Percentage Error\n",
              "0  Categories Elastic Net Regression  ...                       20.520029\n",
              "\n",
              "[1 rows x 8 columns]"
            ]
          },
          "metadata": {
            "tags": []
          },
          "execution_count": 72
        }
      ]
    },
    {
      "cell_type": "markdown",
      "metadata": {
        "id": "8QjQ65aeDtkd"
      },
      "source": [
        "### **yrs_exp_df**"
      ]
    },
    {
      "cell_type": "code",
      "metadata": {
        "colab": {
          "base_uri": "https://localhost:8080/"
        },
        "id": "BdB12u0w1qg9",
        "outputId": "f2f377c2-8a0d-4cde-e71e-82fb8eca077e"
      },
      "source": [
        "#set features & target\n",
        "X= yrs_exp_df.drop(columns=['avg_sal', 'log_avg_sal'])\n",
        "y = yrs_exp_df['avg_sal']\n",
        "\n",
        "#split data into training & test sets\n",
        "X_train, X_test, y_train, y_test = train_test_split(X, y, test_size = 0.2, random_state = 43)\n",
        "\n",
        "#Use grid search to find best hyperparameters\n",
        "# defining parameter range \n",
        "param_grid = {'alpha': [0.001, 0.01, 0.1, 1, 10, 100, 1000],  \n",
        "              'l1_ratio': [0, 0.1, 0.2, 0.3, 0.4, 0.5, 0.6, 0.7, 0.8, 0.9, 1]} \n",
        "\n",
        "yrs_exp_enet_grid = GridSearchCV(ElasticNet(), param_grid, scoring='r2', \n",
        "                                    verbose=1, n_jobs=-1)\n",
        "\n",
        "# fitting the model for grid search \n",
        "yrs_exp_enet_grid.fit(X_train, y_train) \n",
        "# print best parameter after tuning \n",
        "print(yrs_exp_enet_grid.best_params_)\n",
        "\n",
        "# print how our model looks after hyper-parameter tuning \n",
        "print(yrs_exp_enet_grid.best_estimator_)"
      ],
      "execution_count": null,
      "outputs": [
        {
          "output_type": "stream",
          "text": [
            "Fitting 5 folds for each of 77 candidates, totalling 385 fits\n"
          ],
          "name": "stdout"
        },
        {
          "output_type": "stream",
          "text": [
            "[Parallel(n_jobs=-1)]: Using backend LokyBackend with 2 concurrent workers.\n"
          ],
          "name": "stderr"
        },
        {
          "output_type": "stream",
          "text": [
            "{'alpha': 100, 'l1_ratio': 1}\n",
            "ElasticNet(alpha=100, copy_X=True, fit_intercept=True, l1_ratio=1,\n",
            "           max_iter=1000, normalize=False, positive=False, precompute=False,\n",
            "           random_state=None, selection='cyclic', tol=0.0001, warm_start=False)\n"
          ],
          "name": "stdout"
        },
        {
          "output_type": "stream",
          "text": [
            "[Parallel(n_jobs=-1)]: Done 385 out of 385 | elapsed:    3.1s finished\n"
          ],
          "name": "stderr"
        }
      ]
    },
    {
      "cell_type": "code",
      "metadata": {
        "colab": {
          "base_uri": "https://localhost:8080/"
        },
        "id": "aUfbMuZ11qg-",
        "outputId": "4b501536-1d77-4ec1-e518-cc7f8209ef81"
      },
      "source": [
        "#set model with ideal hyperparameters from above\n",
        "yrs_exp_enet = yrs_exp_enet_grid.best_estimator_\n",
        "\n",
        "yrs_exp_enet.fit(X_train, y_train)\n",
        "\n",
        "#cross validate\n",
        "yrs_exp_enet_scores = cross_val_score(yrs_exp_enet, X_train, y_train, cv = 5)\n",
        "\n",
        "print('Accuracy Scores for the 5 folds: ', yrs_exp_enet_scores)\n",
        "print('Mean Cross Validation Score: {:.33f}'.format(np.mean(yrs_exp_enet_scores)))"
      ],
      "execution_count": null,
      "outputs": [
        {
          "output_type": "stream",
          "text": [
            "Accuracy Scores for the 5 folds:  [0.44522017 0.49223604 0.51648503 0.46603231 0.4941231 ]\n",
            "Mean Cross Validation Score: 0.482819330508343802499382491077995\n"
          ],
          "name": "stdout"
        }
      ]
    },
    {
      "cell_type": "code",
      "metadata": {
        "colab": {
          "base_uri": "https://localhost:8080/",
          "height": 108
        },
        "id": "ombDEmTz1qg-",
        "outputId": "bf8177c5-350c-471a-d414-816e86197820"
      },
      "source": [
        "#generate predictions\n",
        "yrs_exp_enet_preds = yrs_exp_enet.predict(X_test)\n",
        "\n",
        "#more performance metrics\n",
        "yrs_exp_enet_rsquared_train = yrs_exp_enet.score(X_train, y_train)\n",
        "yrs_exp_enet_rsquared_test = yrs_exp_enet.score(X_test, y_test)\n",
        "yrs_exp_enet_mae = mean_absolute_error(y_test, yrs_exp_enet_preds)\n",
        "yrs_exp_enet_mse = mse(y_test, yrs_exp_enet_preds)\n",
        "yrs_exp_enet_rmse = rmse(y_test, yrs_exp_enet_preds)\n",
        "yrs_exp_enet_mape = np.mean(np.abs((y_test - yrs_exp_enet_preds)/y_test)*100)\n",
        "yrs_exp_enet_rmspe = (np.sqrt(np.mean(np.square((y_test - yrs_exp_enet_preds) / y_test)))) * 100\n",
        "yrs_exp_enet_model_name = 'Years of Experience Elastic Net Regression'\n",
        "\n",
        "#create easily readable display of performance metrics\n",
        "yrs_exp_enet_dictionary = {'Model': yrs_exp_enet_model_name,\n",
        "  'Training Set R Squared': yrs_exp_enet_rsquared_train, \n",
        "  'Test Set R Squared': yrs_exp_enet_rsquared_test, 'Mean Absolute Error': yrs_exp_enet_mae, \n",
        "  'Mean Sqaured Error': yrs_exp_enet_mse, 'Root Mean Squared Error': yrs_exp_enet_rmse,\n",
        "  'Root Mean Squared Percentage Error': yrs_exp_enet_rmspe,\n",
        "  'Mean Absolute Percentage Error': yrs_exp_enet_mape}\n",
        "\n",
        "yrs_exp_enet_df = pd.DataFrame(yrs_exp_enet_dictionary, index=[0])\n",
        "\n",
        "yrs_exp_enet_df"
      ],
      "execution_count": null,
      "outputs": [
        {
          "output_type": "execute_result",
          "data": {
            "text/html": [
              "<div>\n",
              "<style scoped>\n",
              "    .dataframe tbody tr th:only-of-type {\n",
              "        vertical-align: middle;\n",
              "    }\n",
              "\n",
              "    .dataframe tbody tr th {\n",
              "        vertical-align: top;\n",
              "    }\n",
              "\n",
              "    .dataframe thead th {\n",
              "        text-align: right;\n",
              "    }\n",
              "</style>\n",
              "<table border=\"1\" class=\"dataframe\">\n",
              "  <thead>\n",
              "    <tr style=\"text-align: right;\">\n",
              "      <th></th>\n",
              "      <th>Model</th>\n",
              "      <th>Training Set R Squared</th>\n",
              "      <th>Test Set R Squared</th>\n",
              "      <th>Mean Absolute Error</th>\n",
              "      <th>Mean Sqaured Error</th>\n",
              "      <th>Root Mean Squared Error</th>\n",
              "      <th>Root Mean Squared Percentage Error</th>\n",
              "      <th>Mean Absolute Percentage Error</th>\n",
              "    </tr>\n",
              "  </thead>\n",
              "  <tbody>\n",
              "    <tr>\n",
              "      <th>0</th>\n",
              "      <td>Years of Experience Elastic Net Regression</td>\n",
              "      <td>0.487998</td>\n",
              "      <td>0.50946</td>\n",
              "      <td>18217.519465</td>\n",
              "      <td>5.871700e+08</td>\n",
              "      <td>24231.591669</td>\n",
              "      <td>29.735449</td>\n",
              "      <td>21.329407</td>\n",
              "    </tr>\n",
              "  </tbody>\n",
              "</table>\n",
              "</div>"
            ],
            "text/plain": [
              "                                        Model  ...  Mean Absolute Percentage Error\n",
              "0  Years of Experience Elastic Net Regression  ...                       21.329407\n",
              "\n",
              "[1 rows x 8 columns]"
            ]
          },
          "metadata": {
            "tags": []
          },
          "execution_count": 75
        }
      ]
    },
    {
      "cell_type": "markdown",
      "metadata": {
        "id": "P7rFs5zuqseL"
      },
      "source": [
        "### **categories_df log(y)**"
      ]
    },
    {
      "cell_type": "code",
      "metadata": {
        "colab": {
          "base_uri": "https://localhost:8080/"
        },
        "id": "0X8blmQRqseM",
        "outputId": "7c76b5fc-4c25-4db4-89bd-f3762e428814"
      },
      "source": [
        "#set features & target\n",
        "X = categories_df.drop(columns=['avg_sal', 'log_avg_sal'])\n",
        "y = categories_df['log_avg_sal']\n",
        "\n",
        "#split data into training & test sets\n",
        "X_train, X_test, y_train, y_test = train_test_split(X, y, test_size = 0.2, random_state = 43)\n",
        "\n",
        "#Use grid search to find best hyperparameters\n",
        "# defining parameter range \n",
        "param_grid = {'alpha': [0.001, 0.01, 0.1, 1, 10, 100, 1000],  \n",
        "              'l1_ratio': [0, 0.1, 0.2, 0.3, 0.4, 0.5, 0.6, 0.7, 0.8, 0.9, 1]} \n",
        "\n",
        "log_categories_enet_grid = GridSearchCV(ElasticNet(), param_grid, scoring='r2', \n",
        "                                    verbose=1, n_jobs=-1)\n",
        "\n",
        "# fitting the model for grid search \n",
        "log_categories_enet_grid.fit(X_train, y_train) \n",
        "# print best parameter after tuning \n",
        "print(log_categories_enet_grid.best_params_)\n",
        "\n",
        "# print how our model looks after hyper-parameter tuning \n",
        "print(log_categories_enet_grid.best_estimator_)"
      ],
      "execution_count": null,
      "outputs": [
        {
          "output_type": "stream",
          "text": [
            "Fitting 5 folds for each of 77 candidates, totalling 385 fits\n"
          ],
          "name": "stdout"
        },
        {
          "output_type": "stream",
          "text": [
            "[Parallel(n_jobs=-1)]: Using backend LokyBackend with 2 concurrent workers.\n"
          ],
          "name": "stderr"
        },
        {
          "output_type": "stream",
          "text": [
            "{'alpha': 0.001, 'l1_ratio': 0}\n",
            "ElasticNet(alpha=0.001, copy_X=True, fit_intercept=True, l1_ratio=0,\n",
            "           max_iter=1000, normalize=False, positive=False, precompute=False,\n",
            "           random_state=None, selection='cyclic', tol=0.0001, warm_start=False)\n"
          ],
          "name": "stdout"
        },
        {
          "output_type": "stream",
          "text": [
            "[Parallel(n_jobs=-1)]: Done 385 out of 385 | elapsed:    3.3s finished\n"
          ],
          "name": "stderr"
        }
      ]
    },
    {
      "cell_type": "code",
      "metadata": {
        "colab": {
          "base_uri": "https://localhost:8080/"
        },
        "id": "SrNaRCveqseN",
        "outputId": "9ef46587-befa-4695-bf11-cfb4fab0330f"
      },
      "source": [
        "#set model with ideal hyperparameters from above\n",
        "log_categories_enet = log_categories_enet_grid.best_estimator_\n",
        "\n",
        "log_categories_enet.fit(X_train, y_train)\n",
        "\n",
        "#cross validate\n",
        "log_categories_enet_scores = cross_val_score(log_categories_enet, X_train, y_train, cv = 5)\n",
        "\n",
        "print('Accuracy Scores for the 5 folds: ', log_categories_enet_scores)\n",
        "print('Mean Cross Validation Score: {:.33f}'.format(np.mean(log_categories_enet_scores)))"
      ],
      "execution_count": null,
      "outputs": [
        {
          "output_type": "stream",
          "text": [
            "Accuracy Scores for the 5 folds:  [0.48854101 0.50658691 0.45692225 0.48599704 0.46704316]\n",
            "Mean Cross Validation Score: 0.481018076186499665691798099942389\n"
          ],
          "name": "stdout"
        }
      ]
    },
    {
      "cell_type": "code",
      "metadata": {
        "colab": {
          "base_uri": "https://localhost:8080/",
          "height": 108
        },
        "id": "Ztko4hd1qseN",
        "outputId": "14477ca0-d4a6-44b7-8636-69063fb313a8"
      },
      "source": [
        "#generate predictions\n",
        "log_categories_enet_preds = log_categories_enet.predict(X_test)\n",
        "\n",
        "#more performance metrics\n",
        "log_categories_enet_rsquared_train = log_categories_enet.score(X_train, y_train)\n",
        "log_categories_enet_rsquared_test = log_categories_enet.score(X_test, y_test)\n",
        "log_categories_enet_mae = mean_absolute_error(y_test, log_categories_enet_preds)\n",
        "log_categories_enet_mse = mse(y_test, log_categories_enet_preds)\n",
        "log_categories_enet_rmse = rmse(y_test, log_categories_enet_preds)\n",
        "log_categories_enet_mape = np.mean(np.abs((y_test - log_categories_enet_preds)/y_test)*100)\n",
        "log_categories_enet_rmspe = (np.sqrt(np.mean(np.square((y_test - log_categories_enet_preds) / y_test)))) * 100\n",
        "log_categories_enet_model_name = 'Categories Elastic Net Regression Log(y)'\n",
        "\n",
        "#create easily readable display of performance metrics\n",
        "log_categories_enet_dictionary = {'Model': log_categories_enet_model_name,\n",
        "  'Training Set R Squared': log_categories_enet_rsquared_train, \n",
        "  'Test Set R Squared': log_categories_enet_rsquared_test, 'Mean Absolute Error': log_categories_enet_mae, \n",
        "  'Mean Sqaured Error': log_categories_enet_mse, 'Root Mean Squared Error': log_categories_enet_rmse,\n",
        "  'Root Mean Squared Percentage Error': log_categories_enet_rmspe,\n",
        "  'Mean Absolute Percentage Error': log_categories_enet_mape}\n",
        "\n",
        "log_categories_enet_df = pd.DataFrame(log_categories_enet_dictionary, index=[0])\n",
        "\n",
        "log_categories_enet_df"
      ],
      "execution_count": null,
      "outputs": [
        {
          "output_type": "execute_result",
          "data": {
            "text/html": [
              "<div>\n",
              "<style scoped>\n",
              "    .dataframe tbody tr th:only-of-type {\n",
              "        vertical-align: middle;\n",
              "    }\n",
              "\n",
              "    .dataframe tbody tr th {\n",
              "        vertical-align: top;\n",
              "    }\n",
              "\n",
              "    .dataframe thead th {\n",
              "        text-align: right;\n",
              "    }\n",
              "</style>\n",
              "<table border=\"1\" class=\"dataframe\">\n",
              "  <thead>\n",
              "    <tr style=\"text-align: right;\">\n",
              "      <th></th>\n",
              "      <th>Model</th>\n",
              "      <th>Training Set R Squared</th>\n",
              "      <th>Test Set R Squared</th>\n",
              "      <th>Mean Absolute Error</th>\n",
              "      <th>Mean Sqaured Error</th>\n",
              "      <th>Root Mean Squared Error</th>\n",
              "      <th>Root Mean Squared Percentage Error</th>\n",
              "      <th>Mean Absolute Percentage Error</th>\n",
              "    </tr>\n",
              "  </thead>\n",
              "  <tbody>\n",
              "    <tr>\n",
              "      <th>0</th>\n",
              "      <td>Categories Elastic Net Regression Log(y)</td>\n",
              "      <td>0.485595</td>\n",
              "      <td>0.510443</td>\n",
              "      <td>0.19228</td>\n",
              "      <td>0.063023</td>\n",
              "      <td>0.251043</td>\n",
              "      <td>2.204739</td>\n",
              "      <td>1.687135</td>\n",
              "    </tr>\n",
              "  </tbody>\n",
              "</table>\n",
              "</div>"
            ],
            "text/plain": [
              "                                      Model  ...  Mean Absolute Percentage Error\n",
              "0  Categories Elastic Net Regression Log(y)  ...                        1.687135\n",
              "\n",
              "[1 rows x 8 columns]"
            ]
          },
          "metadata": {
            "tags": []
          },
          "execution_count": 78
        }
      ]
    },
    {
      "cell_type": "markdown",
      "metadata": {
        "id": "0J-IbV15qseN"
      },
      "source": [
        "### **yrs_exp_df log(y)**"
      ]
    },
    {
      "cell_type": "code",
      "metadata": {
        "colab": {
          "base_uri": "https://localhost:8080/"
        },
        "id": "pmTF_5bMqseO",
        "outputId": "50c5aee7-a2b2-4b71-c1e6-58b4eb9c03f2"
      },
      "source": [
        "#set features & target\n",
        "X= yrs_exp_df.drop(columns=['avg_sal', 'log_avg_sal'])\n",
        "y = yrs_exp_df['log_avg_sal']\n",
        "\n",
        "#split data into training & test sets\n",
        "X_train, X_test, y_train, y_test = train_test_split(X, y, test_size = 0.2, random_state = 43)\n",
        "\n",
        "#Use grid search to find best hyperparameters\n",
        "# defining parameter range \n",
        "param_grid = {'alpha': [0.001, 0.01, 0.1, 1, 10, 100, 1000],  \n",
        "              'l1_ratio': [0, 0.1, 0.2, 0.3, 0.4, 0.5, 0.6, 0.7, 0.8, 0.9, 1]} \n",
        "\n",
        "log_yrs_exp_enet_grid = GridSearchCV(ElasticNet(), param_grid, scoring='r2', \n",
        "                                    verbose=1, n_jobs=-1)\n",
        "\n",
        "# fitting the model for grid search \n",
        "log_yrs_exp_enet_grid.fit(X_train, y_train) \n",
        "# print best parameter after tuning \n",
        "print(log_yrs_exp_enet_grid.best_params_)\n",
        "\n",
        "# print how our model looks after hyper-parameter tuning \n",
        "print(log_yrs_exp_enet_grid.best_estimator_)"
      ],
      "execution_count": null,
      "outputs": [
        {
          "output_type": "stream",
          "text": [
            "Fitting 5 folds for each of 77 candidates, totalling 385 fits\n"
          ],
          "name": "stdout"
        },
        {
          "output_type": "stream",
          "text": [
            "[Parallel(n_jobs=-1)]: Using backend LokyBackend with 2 concurrent workers.\n"
          ],
          "name": "stderr"
        },
        {
          "output_type": "stream",
          "text": [
            "{'alpha': 0.001, 'l1_ratio': 1}\n",
            "ElasticNet(alpha=0.001, copy_X=True, fit_intercept=True, l1_ratio=1,\n",
            "           max_iter=1000, normalize=False, positive=False, precompute=False,\n",
            "           random_state=None, selection='cyclic', tol=0.0001, warm_start=False)\n"
          ],
          "name": "stdout"
        },
        {
          "output_type": "stream",
          "text": [
            "[Parallel(n_jobs=-1)]: Done 385 out of 385 | elapsed:    2.8s finished\n"
          ],
          "name": "stderr"
        }
      ]
    },
    {
      "cell_type": "code",
      "metadata": {
        "colab": {
          "base_uri": "https://localhost:8080/"
        },
        "id": "T2oV5ydFqseO",
        "outputId": "2e20e703-0ba4-4843-840a-0cbb2812b702"
      },
      "source": [
        "#set model with ideal hyperparameters from above\n",
        "log_yrs_exp_enet = log_yrs_exp_enet_grid.best_estimator_\n",
        "\n",
        "log_yrs_exp_enet.fit(X_train, y_train)\n",
        "\n",
        "#cross validate\n",
        "log_yrs_exp_enet_scores = cross_val_score(log_yrs_exp_enet, X_train, y_train, cv = 5)\n",
        "\n",
        "print('Accuracy Scores for the 5 folds: ', log_yrs_exp_enet_scores)\n",
        "print('Mean Cross Validation Score: {:.33f}'.format(np.mean(log_yrs_exp_enet_scores)))"
      ],
      "execution_count": null,
      "outputs": [
        {
          "output_type": "stream",
          "text": [
            "Accuracy Scores for the 5 folds:  [0.46671243 0.50347104 0.51971776 0.49691406 0.50663737]\n",
            "Mean Cross Validation Score: 0.498690532580628897996177784079919\n"
          ],
          "name": "stdout"
        }
      ]
    },
    {
      "cell_type": "code",
      "metadata": {
        "colab": {
          "base_uri": "https://localhost:8080/",
          "height": 108
        },
        "id": "TmCRUFZlqseP",
        "outputId": "c09ff3e8-e483-493e-a6a8-7a68d6110b8c"
      },
      "source": [
        "#generate predictions\n",
        "log_yrs_exp_enet_preds = log_yrs_exp_enet.predict(X_test)\n",
        "\n",
        "#more performance metrics\n",
        "log_yrs_exp_enet_rsquared_train = log_yrs_exp_enet.score(X_train, y_train)\n",
        "log_yrs_exp_enet_rsquared_test = log_yrs_exp_enet.score(X_test, y_test)\n",
        "log_yrs_exp_enet_mae = mean_absolute_error(y_test, log_yrs_exp_enet_preds)\n",
        "log_yrs_exp_enet_mse = mse(y_test, log_yrs_exp_enet_preds)\n",
        "log_yrs_exp_enet_rmse = rmse(y_test, log_yrs_exp_enet_preds)\n",
        "log_yrs_exp_enet_mape = np.mean(np.abs((y_test - log_yrs_exp_enet_preds)/y_test)*100)\n",
        "log_yrs_exp_enet_rmspe = (np.sqrt(np.mean(np.square((y_test - log_yrs_exp_enet_preds) / y_test)))) * 100\n",
        "log_yrs_exp_enet_model_name = 'Years of Experience Elastic Net Regression Log(y)'\n",
        "\n",
        "#create easily readable display of performance metrics\n",
        "log_yrs_exp_enet_dictionary = {'Model': log_yrs_exp_enet_model_name,\n",
        "  'Training Set R Squared': log_yrs_exp_enet_rsquared_train, \n",
        "  'Test Set R Squared': log_yrs_exp_enet_rsquared_test, 'Mean Absolute Error': log_yrs_exp_enet_mae, \n",
        "  'Mean Sqaured Error': log_yrs_exp_enet_mse, 'Root Mean Squared Error': log_yrs_exp_enet_rmse,\n",
        "  'Root Mean Squared Percentage Error': log_yrs_exp_enet_rmspe,\n",
        "  'Mean Absolute Percentage Error': log_yrs_exp_enet_mape}\n",
        "\n",
        "log_yrs_exp_enet_df = pd.DataFrame(log_yrs_exp_enet_dictionary, index=[0])\n",
        "\n",
        "log_yrs_exp_enet_df"
      ],
      "execution_count": null,
      "outputs": [
        {
          "output_type": "execute_result",
          "data": {
            "text/html": [
              "<div>\n",
              "<style scoped>\n",
              "    .dataframe tbody tr th:only-of-type {\n",
              "        vertical-align: middle;\n",
              "    }\n",
              "\n",
              "    .dataframe tbody tr th {\n",
              "        vertical-align: top;\n",
              "    }\n",
              "\n",
              "    .dataframe thead th {\n",
              "        text-align: right;\n",
              "    }\n",
              "</style>\n",
              "<table border=\"1\" class=\"dataframe\">\n",
              "  <thead>\n",
              "    <tr style=\"text-align: right;\">\n",
              "      <th></th>\n",
              "      <th>Model</th>\n",
              "      <th>Training Set R Squared</th>\n",
              "      <th>Test Set R Squared</th>\n",
              "      <th>Mean Absolute Error</th>\n",
              "      <th>Mean Sqaured Error</th>\n",
              "      <th>Root Mean Squared Error</th>\n",
              "      <th>Root Mean Squared Percentage Error</th>\n",
              "      <th>Mean Absolute Percentage Error</th>\n",
              "    </tr>\n",
              "  </thead>\n",
              "  <tbody>\n",
              "    <tr>\n",
              "      <th>0</th>\n",
              "      <td>Years of Experience Elastic Net Regression Log(y)</td>\n",
              "      <td>0.50412</td>\n",
              "      <td>0.531388</td>\n",
              "      <td>0.192374</td>\n",
              "      <td>0.061202</td>\n",
              "      <td>0.24739</td>\n",
              "      <td>2.191956</td>\n",
              "      <td>1.69612</td>\n",
              "    </tr>\n",
              "  </tbody>\n",
              "</table>\n",
              "</div>"
            ],
            "text/plain": [
              "                                               Model  ...  Mean Absolute Percentage Error\n",
              "0  Years of Experience Elastic Net Regression Log(y)  ...                         1.69612\n",
              "\n",
              "[1 rows x 8 columns]"
            ]
          },
          "metadata": {
            "tags": []
          },
          "execution_count": 81
        }
      ]
    },
    {
      "cell_type": "markdown",
      "metadata": {
        "id": "OIkK-l00Mp3g"
      },
      "source": [
        "### **cat_no_outliers_df**"
      ]
    },
    {
      "cell_type": "code",
      "metadata": {
        "colab": {
          "base_uri": "https://localhost:8080/"
        },
        "id": "boX3OwONMp3g",
        "outputId": "ee113680-8ebc-45e4-b3d8-f86773fe7986"
      },
      "source": [
        "#set features & target\n",
        "X = cat_no_outliers_df.drop(columns=['avg_sal', 'log_avg_sal'])\n",
        "y = cat_no_outliers_df['avg_sal']\n",
        "\n",
        "#split data into training & test sets\n",
        "X_train, X_test, y_train, y_test = train_test_split(X, y, test_size = 0.2, random_state = 43)\n",
        "\n",
        "#Use grid search to find best hyperparameters\n",
        "# defining parameter range \n",
        "param_grid = {'alpha': [0.001, 0.01, 0.1, 1, 10, 100, 1000],  \n",
        "              'l1_ratio': [0, 0.1, 0.2, 0.3, 0.4, 0.5, 0.6, 0.7, 0.8, 0.9, 1]} \n",
        "\n",
        "cat_no_outliers_enet_grid = GridSearchCV(ElasticNet(), param_grid, scoring='r2', \n",
        "                                    verbose=1, n_jobs=-1)\n",
        "\n",
        "# fitting the model for grid search \n",
        "cat_no_outliers_enet_grid.fit(X_train, y_train) \n",
        "# print best parameter after tuning \n",
        "print(cat_no_outliers_enet_grid.best_params_)\n",
        "\n",
        "# print how our model looks after hyper-parameter tuning \n",
        "print(cat_no_outliers_enet_grid.best_estimator_)"
      ],
      "execution_count": null,
      "outputs": [
        {
          "output_type": "stream",
          "text": [
            "[Parallel(n_jobs=-1)]: Using backend LokyBackend with 2 concurrent workers.\n"
          ],
          "name": "stderr"
        },
        {
          "output_type": "stream",
          "text": [
            "Fitting 5 folds for each of 77 candidates, totalling 385 fits\n",
            "{'alpha': 0.01, 'l1_ratio': 0.8}\n",
            "ElasticNet(alpha=0.01, copy_X=True, fit_intercept=True, l1_ratio=0.8,\n",
            "           max_iter=1000, normalize=False, positive=False, precompute=False,\n",
            "           random_state=None, selection='cyclic', tol=0.0001, warm_start=False)\n"
          ],
          "name": "stdout"
        },
        {
          "output_type": "stream",
          "text": [
            "[Parallel(n_jobs=-1)]: Done 385 out of 385 | elapsed:    3.4s finished\n"
          ],
          "name": "stderr"
        }
      ]
    },
    {
      "cell_type": "code",
      "metadata": {
        "colab": {
          "base_uri": "https://localhost:8080/"
        },
        "id": "hVzQzs7OMp3h",
        "outputId": "6ede3625-d5c8-4b40-a542-047c7b732b5f"
      },
      "source": [
        "#set model with ideal hyperparameters from above\n",
        "cat_no_outliers_enet = cat_no_outliers_enet_grid.best_estimator_\n",
        "\n",
        "cat_no_outliers_enet.fit(X_train, y_train)\n",
        "\n",
        "#cross validate\n",
        "cat_no_outliers_enet_scores = cross_val_score(cat_no_outliers_enet, X_train, y_train, cv = 5)\n",
        "\n",
        "print('Accuracy Scores for the 5 folds: ', cat_no_outliers_enet_scores)\n",
        "print('Mean Cross Validation Score: {:.33f}'.format(np.mean(cat_no_outliers_enet_scores)))"
      ],
      "execution_count": null,
      "outputs": [
        {
          "output_type": "stream",
          "text": [
            "Accuracy Scores for the 5 folds:  [0.51195739 0.47406527 0.51194436 0.44271766 0.47521637]\n",
            "Mean Cross Validation Score: 0.483180210812954424870468983499450\n"
          ],
          "name": "stdout"
        }
      ]
    },
    {
      "cell_type": "code",
      "metadata": {
        "colab": {
          "base_uri": "https://localhost:8080/",
          "height": 108
        },
        "id": "8yQvRxGlMp3i",
        "outputId": "dc11ddbe-969a-403d-cd94-8649876b3da0"
      },
      "source": [
        "#generate predictions\n",
        "cat_no_outliers_enet_preds = cat_no_outliers_enet.predict(X_test)\n",
        "\n",
        "#more performance metrics\n",
        "cat_no_outliers_enet_rsquared_train = cat_no_outliers_enet.score(X_train, y_train)\n",
        "cat_no_outliers_enet_rsquared_test = cat_no_outliers_enet.score(X_test, y_test)\n",
        "cat_no_outliers_enet_mae = mean_absolute_error(y_test, cat_no_outliers_enet_preds)\n",
        "cat_no_outliers_enet_mse = mse(y_test, cat_no_outliers_enet_preds)\n",
        "cat_no_outliers_enet_rmse = rmse(y_test, cat_no_outliers_enet_preds)\n",
        "cat_no_outliers_enet_mape = np.mean(np.abs((y_test - cat_no_outliers_enet_preds)/y_test)*100)\n",
        "cat_no_outliers_enet_rmspe = (np.sqrt(np.mean(np.square((y_test - cat_no_outliers_enet_preds) / y_test)))) * 100\n",
        "cat_no_outliers_enet_model_name = 'Categories w/o Outliers Elastic Net Regression'\n",
        "\n",
        "#create easily readable display of performance metrics\n",
        "cat_no_outliers_enet_dictionary = {'Model': cat_no_outliers_enet_model_name,\n",
        "  'Training Set R Squared': cat_no_outliers_enet_rsquared_train, \n",
        "  'Test Set R Squared': cat_no_outliers_enet_rsquared_test, 'Mean Absolute Error': cat_no_outliers_enet_mae, \n",
        "  'Mean Sqaured Error': cat_no_outliers_enet_mse, 'Root Mean Squared Error': cat_no_outliers_enet_rmse,\n",
        "  'Root Mean Squared Percentage Error': cat_no_outliers_enet_rmspe,\n",
        "  'Mean Absolute Percentage Error': cat_no_outliers_enet_mape}\n",
        "\n",
        "cat_no_outliers_enet_df = pd.DataFrame(cat_no_outliers_enet_dictionary, index=[0])\n",
        "\n",
        "cat_no_outliers_enet_df"
      ],
      "execution_count": null,
      "outputs": [
        {
          "output_type": "execute_result",
          "data": {
            "text/html": [
              "<div>\n",
              "<style scoped>\n",
              "    .dataframe tbody tr th:only-of-type {\n",
              "        vertical-align: middle;\n",
              "    }\n",
              "\n",
              "    .dataframe tbody tr th {\n",
              "        vertical-align: top;\n",
              "    }\n",
              "\n",
              "    .dataframe thead th {\n",
              "        text-align: right;\n",
              "    }\n",
              "</style>\n",
              "<table border=\"1\" class=\"dataframe\">\n",
              "  <thead>\n",
              "    <tr style=\"text-align: right;\">\n",
              "      <th></th>\n",
              "      <th>Model</th>\n",
              "      <th>Training Set R Squared</th>\n",
              "      <th>Test Set R Squared</th>\n",
              "      <th>Mean Absolute Error</th>\n",
              "      <th>Mean Sqaured Error</th>\n",
              "      <th>Root Mean Squared Error</th>\n",
              "      <th>Root Mean Squared Percentage Error</th>\n",
              "      <th>Mean Absolute Percentage Error</th>\n",
              "    </tr>\n",
              "  </thead>\n",
              "  <tbody>\n",
              "    <tr>\n",
              "      <th>0</th>\n",
              "      <td>Categories w/o Outliers Elastic Net Regression</td>\n",
              "      <td>0.489285</td>\n",
              "      <td>0.480003</td>\n",
              "      <td>18056.046379</td>\n",
              "      <td>5.361186e+08</td>\n",
              "      <td>23154.235235</td>\n",
              "      <td>28.10627</td>\n",
              "      <td>20.882271</td>\n",
              "    </tr>\n",
              "  </tbody>\n",
              "</table>\n",
              "</div>"
            ],
            "text/plain": [
              "                                            Model  ...  Mean Absolute Percentage Error\n",
              "0  Categories w/o Outliers Elastic Net Regression  ...                       20.882271\n",
              "\n",
              "[1 rows x 8 columns]"
            ]
          },
          "metadata": {
            "tags": []
          },
          "execution_count": 84
        }
      ]
    },
    {
      "cell_type": "markdown",
      "metadata": {
        "id": "qBLww02SMp3i"
      },
      "source": [
        "### **yrs_exp_no_outliers_df**"
      ]
    },
    {
      "cell_type": "code",
      "metadata": {
        "colab": {
          "base_uri": "https://localhost:8080/"
        },
        "id": "FItyU-Q2Mp3j",
        "outputId": "25105be6-c677-41bd-da87-4aa04e2fed81"
      },
      "source": [
        "#set features & target\n",
        "X= yrs_exp_no_outliers_df.drop(columns=['avg_sal', 'log_avg_sal'])\n",
        "y = yrs_exp_no_outliers_df['avg_sal']\n",
        "\n",
        "#split data into training & test sets\n",
        "X_train, X_test, y_train, y_test = train_test_split(X, y, test_size = 0.2, random_state = 43)\n",
        "\n",
        "#Use grid search to find best hyperparameters\n",
        "# defining parameter range \n",
        "param_grid = {'alpha': [0.001, 0.01, 0.1, 1, 10, 100, 1000],  \n",
        "              'l1_ratio': [0, 0.1, 0.2, 0.3, 0.4, 0.5, 0.6, 0.7, 0.8, 0.9, 1]} \n",
        "\n",
        "yrs_exp_no_outliers_enet_grid = GridSearchCV(ElasticNet(), param_grid, scoring='r2', \n",
        "                                    verbose=1, n_jobs=-1)\n",
        "\n",
        "# fitting the model for grid search \n",
        "yrs_exp_no_outliers_enet_grid.fit(X_train, y_train) \n",
        "# print best parameter after tuning \n",
        "print(yrs_exp_no_outliers_enet_grid.best_params_)\n",
        "\n",
        "# print how our model looks after hyper-parameter tuning \n",
        "print(yrs_exp_no_outliers_enet_grid.best_estimator_)"
      ],
      "execution_count": null,
      "outputs": [
        {
          "output_type": "stream",
          "text": [
            "Fitting 5 folds for each of 77 candidates, totalling 385 fits\n"
          ],
          "name": "stdout"
        },
        {
          "output_type": "stream",
          "text": [
            "[Parallel(n_jobs=-1)]: Using backend LokyBackend with 2 concurrent workers.\n"
          ],
          "name": "stderr"
        },
        {
          "output_type": "stream",
          "text": [
            "{'alpha': 100, 'l1_ratio': 1}\n",
            "ElasticNet(alpha=100, copy_X=True, fit_intercept=True, l1_ratio=1,\n",
            "           max_iter=1000, normalize=False, positive=False, precompute=False,\n",
            "           random_state=None, selection='cyclic', tol=0.0001, warm_start=False)\n"
          ],
          "name": "stdout"
        },
        {
          "output_type": "stream",
          "text": [
            "[Parallel(n_jobs=-1)]: Done 385 out of 385 | elapsed:    3.0s finished\n"
          ],
          "name": "stderr"
        }
      ]
    },
    {
      "cell_type": "code",
      "metadata": {
        "colab": {
          "base_uri": "https://localhost:8080/"
        },
        "id": "8k5VVQ0MMp3j",
        "outputId": "de85428c-1988-4480-ca8b-568559cb6c45"
      },
      "source": [
        "#set model with ideal hyperparameters from above\n",
        "yrs_exp_no_outliers_enet = yrs_exp_no_outliers_enet_grid.best_estimator_\n",
        "\n",
        "yrs_exp_no_outliers_enet.fit(X_train, y_train)\n",
        "\n",
        "#cross validate\n",
        "yrs_exp_no_outliers_enet_scores = cross_val_score(yrs_exp_no_outliers_enet, X_train, y_train, cv = 5)\n",
        "\n",
        "print('Accuracy Scores for the 5 folds: ', yrs_exp_no_outliers_enet_scores)\n",
        "print('Mean Cross Validation Score: {:.33f}'.format(np.mean(yrs_exp_no_outliers_enet_scores)))"
      ],
      "execution_count": null,
      "outputs": [
        {
          "output_type": "stream",
          "text": [
            "Accuracy Scores for the 5 folds:  [0.51489283 0.54155075 0.49975569 0.41541561 0.52708854]\n",
            "Mean Cross Validation Score: 0.499740684474939023118622571928427\n"
          ],
          "name": "stdout"
        }
      ]
    },
    {
      "cell_type": "code",
      "metadata": {
        "colab": {
          "base_uri": "https://localhost:8080/",
          "height": 108
        },
        "id": "uVDxHNxbMp3j",
        "outputId": "c8db1702-cab2-42ca-e388-f06c9e5ee5e4"
      },
      "source": [
        "#generate predictions\n",
        "yrs_exp_no_outliers_enet_preds = yrs_exp_no_outliers_enet.predict(X_test)\n",
        "\n",
        "#more performance metrics\n",
        "yrs_exp_no_outliers_enet_rsquared_train = yrs_exp_no_outliers_enet.score(X_train, y_train)\n",
        "yrs_exp_no_outliers_enet_rsquared_test = yrs_exp_no_outliers_enet.score(X_test, y_test)\n",
        "yrs_exp_no_outliers_enet_mae = mean_absolute_error(y_test, yrs_exp_no_outliers_enet_preds)\n",
        "yrs_exp_no_outliers_enet_mse = mse(y_test, yrs_exp_no_outliers_enet_preds)\n",
        "yrs_exp_no_outliers_enet_rmse = rmse(y_test, yrs_exp_no_outliers_enet_preds)\n",
        "yrs_exp_no_outliers_enet_mape = np.mean(np.abs((y_test - yrs_exp_no_outliers_enet_preds)/y_test)*100)\n",
        "yrs_exp_no_outliers_enet_rmspe = (np.sqrt(np.mean(np.square((y_test - yrs_exp_no_outliers_enet_preds) / y_test)))) * 100\n",
        "yrs_exp_no_outliers_enet_model_name = 'Years of Experience w/o Outliers Elastic Net Regression'\n",
        "\n",
        "#create easily readable display of performance metrics\n",
        "yrs_exp_no_outliers_enet_dictionary = {'Model': yrs_exp_no_outliers_enet_model_name,\n",
        "  'Training Set R Squared': yrs_exp_no_outliers_enet_rsquared_train, \n",
        "  'Test Set R Squared': yrs_exp_no_outliers_enet_rsquared_test, 'Mean Absolute Error': yrs_exp_no_outliers_enet_mae, \n",
        "  'Mean Sqaured Error': yrs_exp_no_outliers_enet_mse, 'Root Mean Squared Error': yrs_exp_no_outliers_enet_rmse,\n",
        "  'Root Mean Squared Percentage Error': yrs_exp_no_outliers_enet_rmspe,\n",
        "  'Mean Absolute Percentage Error': yrs_exp_no_outliers_enet_mape}\n",
        "\n",
        "yrs_exp_no_outliers_enet_df = pd.DataFrame(yrs_exp_no_outliers_enet_dictionary, index=[0])\n",
        "\n",
        "yrs_exp_no_outliers_enet_df"
      ],
      "execution_count": null,
      "outputs": [
        {
          "output_type": "execute_result",
          "data": {
            "text/html": [
              "<div>\n",
              "<style scoped>\n",
              "    .dataframe tbody tr th:only-of-type {\n",
              "        vertical-align: middle;\n",
              "    }\n",
              "\n",
              "    .dataframe tbody tr th {\n",
              "        vertical-align: top;\n",
              "    }\n",
              "\n",
              "    .dataframe thead th {\n",
              "        text-align: right;\n",
              "    }\n",
              "</style>\n",
              "<table border=\"1\" class=\"dataframe\">\n",
              "  <thead>\n",
              "    <tr style=\"text-align: right;\">\n",
              "      <th></th>\n",
              "      <th>Model</th>\n",
              "      <th>Training Set R Squared</th>\n",
              "      <th>Test Set R Squared</th>\n",
              "      <th>Mean Absolute Error</th>\n",
              "      <th>Mean Sqaured Error</th>\n",
              "      <th>Root Mean Squared Error</th>\n",
              "      <th>Root Mean Squared Percentage Error</th>\n",
              "      <th>Mean Absolute Percentage Error</th>\n",
              "    </tr>\n",
              "  </thead>\n",
              "  <tbody>\n",
              "    <tr>\n",
              "      <th>0</th>\n",
              "      <td>Years of Experience w/o Outliers Elastic Net R...</td>\n",
              "      <td>0.508418</td>\n",
              "      <td>0.490746</td>\n",
              "      <td>17154.781138</td>\n",
              "      <td>4.852268e+08</td>\n",
              "      <td>22027.864867</td>\n",
              "      <td>27.680899</td>\n",
              "      <td>19.89162</td>\n",
              "    </tr>\n",
              "  </tbody>\n",
              "</table>\n",
              "</div>"
            ],
            "text/plain": [
              "                                               Model  ...  Mean Absolute Percentage Error\n",
              "0  Years of Experience w/o Outliers Elastic Net R...  ...                        19.89162\n",
              "\n",
              "[1 rows x 8 columns]"
            ]
          },
          "metadata": {
            "tags": []
          },
          "execution_count": 87
        }
      ]
    },
    {
      "cell_type": "markdown",
      "metadata": {
        "id": "_r41Au2nMp3k"
      },
      "source": [
        "### **cat_no_outliers_df log(y)**"
      ]
    },
    {
      "cell_type": "code",
      "metadata": {
        "colab": {
          "base_uri": "https://localhost:8080/"
        },
        "id": "5uu3Bvk-Mp3k",
        "outputId": "c75ee2ef-2db7-406d-ca2c-bcae18fe1d30"
      },
      "source": [
        "#set features & target\n",
        "X = cat_no_outliers_df.drop(columns=['avg_sal', 'log_avg_sal'])\n",
        "y = cat_no_outliers_df['log_avg_sal']\n",
        "\n",
        "#split data into training & test sets\n",
        "X_train, X_test, y_train, y_test = train_test_split(X, y, test_size = 0.2, random_state = 43)\n",
        "\n",
        "#Use grid search to find best hyperparameters\n",
        "# defining parameter range \n",
        "param_grid = {'alpha': [0.001, 0.01, 0.1, 1, 10, 100, 1000],  \n",
        "              'l1_ratio': [0, 0.1, 0.2, 0.3, 0.4, 0.5, 0.6, 0.7, 0.8, 0.9, 1]} \n",
        "\n",
        "log_cat_no_outliers_enet_grid = GridSearchCV(ElasticNet(), param_grid, scoring='r2', \n",
        "                                    verbose=1, n_jobs=-1)\n",
        "\n",
        "# fitting the model for grid search \n",
        "log_cat_no_outliers_enet_grid.fit(X_train, y_train) \n",
        "# print best parameter after tuning \n",
        "print(log_cat_no_outliers_enet_grid.best_params_)\n",
        "\n",
        "# print how our model looks after hyper-parameter tuning \n",
        "print(log_cat_no_outliers_enet_grid.best_estimator_)"
      ],
      "execution_count": null,
      "outputs": [
        {
          "output_type": "stream",
          "text": [
            "Fitting 5 folds for each of 77 candidates, totalling 385 fits\n"
          ],
          "name": "stdout"
        },
        {
          "output_type": "stream",
          "text": [
            "[Parallel(n_jobs=-1)]: Using backend LokyBackend with 2 concurrent workers.\n"
          ],
          "name": "stderr"
        },
        {
          "output_type": "stream",
          "text": [
            "{'alpha': 0.001, 'l1_ratio': 0}\n",
            "ElasticNet(alpha=0.001, copy_X=True, fit_intercept=True, l1_ratio=0,\n",
            "           max_iter=1000, normalize=False, positive=False, precompute=False,\n",
            "           random_state=None, selection='cyclic', tol=0.0001, warm_start=False)\n"
          ],
          "name": "stdout"
        },
        {
          "output_type": "stream",
          "text": [
            "[Parallel(n_jobs=-1)]: Done 385 out of 385 | elapsed:    3.2s finished\n"
          ],
          "name": "stderr"
        }
      ]
    },
    {
      "cell_type": "code",
      "metadata": {
        "colab": {
          "base_uri": "https://localhost:8080/"
        },
        "id": "vkr3tDcjMp3k",
        "outputId": "1cdd8626-1e25-429a-bbfa-0838204e9e7e"
      },
      "source": [
        "#set model with ideal hyperparameters from above\n",
        "log_cat_no_outliers_enet = log_cat_no_outliers_enet_grid.best_estimator_\n",
        "\n",
        "log_cat_no_outliers_enet.fit(X_train, y_train)\n",
        "\n",
        "#cross validate\n",
        "log_cat_no_outliers_enet_scores = cross_val_score(log_cat_no_outliers_enet, X_train, y_train, cv = 5)\n",
        "\n",
        "print('Accuracy Scores for the 5 folds: ', log_cat_no_outliers_enet_scores)\n",
        "print('Mean Cross Validation Score: {:.33f}'.format(np.mean(log_cat_no_outliers_enet_scores)))"
      ],
      "execution_count": null,
      "outputs": [
        {
          "output_type": "stream",
          "text": [
            "Accuracy Scores for the 5 folds:  [0.50521366 0.46937074 0.5098528  0.45160464 0.48075835]\n",
            "Mean Cross Validation Score: 0.483360039132562424590844329941319\n"
          ],
          "name": "stdout"
        }
      ]
    },
    {
      "cell_type": "code",
      "metadata": {
        "colab": {
          "base_uri": "https://localhost:8080/",
          "height": 108
        },
        "id": "jdyB96KSMp3l",
        "outputId": "e77dc71d-f5a2-43aa-a744-189f814d44d1"
      },
      "source": [
        "#generate predictions\n",
        "log_cat_no_outliers_enet_preds = log_cat_no_outliers_enet.predict(X_test)\n",
        "\n",
        "#more performance metrics\n",
        "log_cat_no_outliers_enet_rsquared_train = log_cat_no_outliers_enet.score(X_train, y_train)\n",
        "log_cat_no_outliers_enet_rsquared_test = log_cat_no_outliers_enet.score(X_test, y_test)\n",
        "log_cat_no_outliers_enet_mae = mean_absolute_error(y_test, log_cat_no_outliers_enet_preds)\n",
        "log_cat_no_outliers_enet_mse = mse(y_test, log_cat_no_outliers_enet_preds)\n",
        "log_cat_no_outliers_enet_rmse = rmse(y_test, log_cat_no_outliers_enet_preds)\n",
        "log_cat_no_outliers_enet_mape = np.mean(np.abs((y_test - log_cat_no_outliers_enet_preds)/y_test)*100)\n",
        "log_cat_no_outliers_enet_rmspe = (np.sqrt(np.mean(np.square((y_test - log_cat_no_outliers_enet_preds) / y_test)))) * 100\n",
        "log_cat_no_outliers_enet_model_name = 'Categories w/o Outliers Elastic Net Regression Log(y)'\n",
        "\n",
        "#create easily readable display of performance metrics\n",
        "log_cat_no_outliers_enet_dictionary = {'Model': log_cat_no_outliers_enet_model_name,\n",
        "  'Training Set R Squared': log_cat_no_outliers_enet_rsquared_train, \n",
        "  'Test Set R Squared': log_cat_no_outliers_enet_rsquared_test, 'Mean Absolute Error': log_cat_no_outliers_enet_mae, \n",
        "  'Mean Sqaured Error': log_cat_no_outliers_enet_mse, 'Root Mean Squared Error': log_cat_no_outliers_enet_rmse,\n",
        "  'Root Mean Squared Percentage Error': log_cat_no_outliers_enet_rmspe,\n",
        "  'Mean Absolute Percentage Error': log_cat_no_outliers_enet_mape}\n",
        "\n",
        "log_cat_no_outliers_enet_df = pd.DataFrame(log_cat_no_outliers_enet_dictionary, index=[0])\n",
        "\n",
        "log_cat_no_outliers_enet_df"
      ],
      "execution_count": null,
      "outputs": [
        {
          "output_type": "execute_result",
          "data": {
            "text/html": [
              "<div>\n",
              "<style scoped>\n",
              "    .dataframe tbody tr th:only-of-type {\n",
              "        vertical-align: middle;\n",
              "    }\n",
              "\n",
              "    .dataframe tbody tr th {\n",
              "        vertical-align: top;\n",
              "    }\n",
              "\n",
              "    .dataframe thead th {\n",
              "        text-align: right;\n",
              "    }\n",
              "</style>\n",
              "<table border=\"1\" class=\"dataframe\">\n",
              "  <thead>\n",
              "    <tr style=\"text-align: right;\">\n",
              "      <th></th>\n",
              "      <th>Model</th>\n",
              "      <th>Training Set R Squared</th>\n",
              "      <th>Test Set R Squared</th>\n",
              "      <th>Mean Absolute Error</th>\n",
              "      <th>Mean Sqaured Error</th>\n",
              "      <th>Root Mean Squared Error</th>\n",
              "      <th>Root Mean Squared Percentage Error</th>\n",
              "      <th>Mean Absolute Percentage Error</th>\n",
              "    </tr>\n",
              "  </thead>\n",
              "  <tbody>\n",
              "    <tr>\n",
              "      <th>0</th>\n",
              "      <td>Categories w/o Outliers Elastic Net Regression...</td>\n",
              "      <td>0.489233</td>\n",
              "      <td>0.485053</td>\n",
              "      <td>0.194581</td>\n",
              "      <td>0.060973</td>\n",
              "      <td>0.246927</td>\n",
              "      <td>2.178186</td>\n",
              "      <td>1.711609</td>\n",
              "    </tr>\n",
              "  </tbody>\n",
              "</table>\n",
              "</div>"
            ],
            "text/plain": [
              "                                               Model  ...  Mean Absolute Percentage Error\n",
              "0  Categories w/o Outliers Elastic Net Regression...  ...                        1.711609\n",
              "\n",
              "[1 rows x 8 columns]"
            ]
          },
          "metadata": {
            "tags": []
          },
          "execution_count": 90
        }
      ]
    },
    {
      "cell_type": "markdown",
      "metadata": {
        "id": "twgulTDwMp3l"
      },
      "source": [
        "### **yrs_exp_no_outliers_df log(y)**"
      ]
    },
    {
      "cell_type": "code",
      "metadata": {
        "colab": {
          "base_uri": "https://localhost:8080/"
        },
        "id": "3ZCADyRIMp3l",
        "outputId": "aa347296-f8e3-49ff-b392-08c954188f94"
      },
      "source": [
        "#set features & target\n",
        "X= yrs_exp_no_outliers_df.drop(columns=['avg_sal', 'log_avg_sal'])\n",
        "y = yrs_exp_no_outliers_df['log_avg_sal']\n",
        "\n",
        "#split data into training & test sets\n",
        "X_train, X_test, y_train, y_test = train_test_split(X, y, test_size = 0.2, random_state = 43)\n",
        "\n",
        "#Use grid search to find best hyperparameters\n",
        "# defining parameter range \n",
        "param_grid = {'alpha': [0.001, 0.01, 0.1, 1, 10, 100, 1000],  \n",
        "              'l1_ratio': [0, 0.1, 0.2, 0.3, 0.4, 0.5, 0.6, 0.7, 0.8, 0.9, 1]} \n",
        "\n",
        "log_yrs_exp_no_outliers_enet_grid = GridSearchCV(ElasticNet(), param_grid, scoring='r2', \n",
        "                                    verbose=1, n_jobs=-1)\n",
        "\n",
        "# fitting the model for grid search \n",
        "log_yrs_exp_no_outliers_enet_grid.fit(X_train, y_train) \n",
        "# print best parameter after tuning \n",
        "print(log_yrs_exp_no_outliers_enet_grid.best_params_)\n",
        "\n",
        "# print how our model looks after hyper-parameter tuning \n",
        "print(log_yrs_exp_no_outliers_enet_grid.best_estimator_)"
      ],
      "execution_count": null,
      "outputs": [
        {
          "output_type": "stream",
          "text": [
            "Fitting 5 folds for each of 77 candidates, totalling 385 fits\n"
          ],
          "name": "stdout"
        },
        {
          "output_type": "stream",
          "text": [
            "[Parallel(n_jobs=-1)]: Using backend LokyBackend with 2 concurrent workers.\n"
          ],
          "name": "stderr"
        },
        {
          "output_type": "stream",
          "text": [
            "{'alpha': 0.001, 'l1_ratio': 1}\n",
            "ElasticNet(alpha=0.001, copy_X=True, fit_intercept=True, l1_ratio=1,\n",
            "           max_iter=1000, normalize=False, positive=False, precompute=False,\n",
            "           random_state=None, selection='cyclic', tol=0.0001, warm_start=False)\n"
          ],
          "name": "stdout"
        },
        {
          "output_type": "stream",
          "text": [
            "[Parallel(n_jobs=-1)]: Done 385 out of 385 | elapsed:    2.8s finished\n"
          ],
          "name": "stderr"
        }
      ]
    },
    {
      "cell_type": "code",
      "metadata": {
        "colab": {
          "base_uri": "https://localhost:8080/"
        },
        "id": "QWgSNLVwMp3l",
        "outputId": "e99e2ef7-80c4-44f5-abdb-0c78b0300291"
      },
      "source": [
        "#set model with ideal hyperparameters from above\n",
        "log_yrs_exp_no_outliers_enet = log_yrs_exp_no_outliers_enet_grid.best_estimator_\n",
        "\n",
        "log_yrs_exp_no_outliers_enet.fit(X_train, y_train)\n",
        "\n",
        "#cross validate\n",
        "log_yrs_exp_no_outliers_enet_scores = cross_val_score(log_yrs_exp_no_outliers_enet, X_train, y_train, cv = 5)\n",
        "\n",
        "print('Accuracy Scores for the 5 folds: ', log_yrs_exp_no_outliers_enet_scores)\n",
        "print('Mean Cross Validation Score: {:.33f}'.format(np.mean(log_yrs_exp_no_outliers_enet_scores)))"
      ],
      "execution_count": null,
      "outputs": [
        {
          "output_type": "stream",
          "text": [
            "Accuracy Scores for the 5 folds:  [0.52002742 0.54600587 0.49611888 0.41404275 0.51674422]\n",
            "Mean Cross Validation Score: 0.498587826076183848744705073841033\n"
          ],
          "name": "stdout"
        }
      ]
    },
    {
      "cell_type": "code",
      "metadata": {
        "colab": {
          "base_uri": "https://localhost:8080/",
          "height": 108
        },
        "id": "Nv2w98UTMp3m",
        "outputId": "a0ec3171-1366-48a6-ef05-82afaf8f613e"
      },
      "source": [
        "#generate predictions\n",
        "log_yrs_exp_no_outliers_enet_preds = log_yrs_exp_no_outliers_enet.predict(X_test)\n",
        "\n",
        "#more performance metrics\n",
        "log_yrs_exp_no_outliers_enet_rsquared_train = log_yrs_exp_no_outliers_enet.score(X_train, y_train)\n",
        "log_yrs_exp_no_outliers_enet_rsquared_test = log_yrs_exp_no_outliers_enet.score(X_test, y_test)\n",
        "log_yrs_exp_no_outliers_enet_mae = mean_absolute_error(y_test, log_yrs_exp_no_outliers_enet_preds)\n",
        "log_yrs_exp_no_outliers_enet_mse = mse(y_test, log_yrs_exp_no_outliers_enet_preds)\n",
        "log_yrs_exp_no_outliers_enet_rmse = rmse(y_test, log_yrs_exp_no_outliers_enet_preds)\n",
        "log_yrs_exp_no_outliers_enet_mape = np.mean(np.abs((y_test - log_yrs_exp_no_outliers_enet_preds)/y_test)*100)\n",
        "log_yrs_exp_no_outliers_enet_rmspe = (np.sqrt(np.mean(np.square((y_test - log_yrs_exp_no_outliers_enet_preds) / y_test)))) * 100\n",
        "log_yrs_exp_no_outliers_enet_model_name = 'Years of Experience Elastic Net Regression Log(y)'\n",
        "\n",
        "#create easily readable display of performance metrics\n",
        "log_yrs_exp_no_outliers_enet_dictionary = {'Model': log_yrs_exp_no_outliers_enet_model_name,\n",
        "  'Training Set R Squared': log_yrs_exp_no_outliers_enet_rsquared_train, \n",
        "  'Test Set R Squared': log_yrs_exp_no_outliers_enet_rsquared_test, 'Mean Absolute Error': log_yrs_exp_no_outliers_enet_mae, \n",
        "  'Mean Sqaured Error': log_yrs_exp_no_outliers_enet_mse, 'Root Mean Squared Error': log_yrs_exp_no_outliers_enet_rmse,\n",
        "  'Root Mean Squared Percentage Error': log_yrs_exp_no_outliers_enet_rmspe,\n",
        "  'Mean Absolute Percentage Error': log_yrs_exp_no_outliers_enet_mape}\n",
        "\n",
        "log_yrs_exp_no_outliers_enet_df = pd.DataFrame(log_yrs_exp_no_outliers_enet_dictionary, index=[0])\n",
        "\n",
        "log_yrs_exp_no_outliers_enet_df"
      ],
      "execution_count": null,
      "outputs": [
        {
          "output_type": "execute_result",
          "data": {
            "text/html": [
              "<div>\n",
              "<style scoped>\n",
              "    .dataframe tbody tr th:only-of-type {\n",
              "        vertical-align: middle;\n",
              "    }\n",
              "\n",
              "    .dataframe tbody tr th {\n",
              "        vertical-align: top;\n",
              "    }\n",
              "\n",
              "    .dataframe thead th {\n",
              "        text-align: right;\n",
              "    }\n",
              "</style>\n",
              "<table border=\"1\" class=\"dataframe\">\n",
              "  <thead>\n",
              "    <tr style=\"text-align: right;\">\n",
              "      <th></th>\n",
              "      <th>Model</th>\n",
              "      <th>Training Set R Squared</th>\n",
              "      <th>Test Set R Squared</th>\n",
              "      <th>Mean Absolute Error</th>\n",
              "      <th>Mean Sqaured Error</th>\n",
              "      <th>Root Mean Squared Error</th>\n",
              "      <th>Root Mean Squared Percentage Error</th>\n",
              "      <th>Mean Absolute Percentage Error</th>\n",
              "    </tr>\n",
              "  </thead>\n",
              "  <tbody>\n",
              "    <tr>\n",
              "      <th>0</th>\n",
              "      <td>Years of Experience Elastic Net Regression Log(y)</td>\n",
              "      <td>0.50719</td>\n",
              "      <td>0.494458</td>\n",
              "      <td>0.184438</td>\n",
              "      <td>0.055645</td>\n",
              "      <td>0.235892</td>\n",
              "      <td>2.085472</td>\n",
              "      <td>1.622597</td>\n",
              "    </tr>\n",
              "  </tbody>\n",
              "</table>\n",
              "</div>"
            ],
            "text/plain": [
              "                                               Model  ...  Mean Absolute Percentage Error\n",
              "0  Years of Experience Elastic Net Regression Log(y)  ...                        1.622597\n",
              "\n",
              "[1 rows x 8 columns]"
            ]
          },
          "metadata": {
            "tags": []
          },
          "execution_count": 93
        }
      ]
    },
    {
      "cell_type": "markdown",
      "metadata": {
        "id": "5V11UMmctTgf"
      },
      "source": [
        "## **K Nearest Neighbors**"
      ]
    },
    {
      "cell_type": "markdown",
      "metadata": {
        "id": "OAcix0BwtTgf"
      },
      "source": [
        "### **categories_df**"
      ]
    },
    {
      "cell_type": "code",
      "metadata": {
        "colab": {
          "base_uri": "https://localhost:8080/"
        },
        "id": "Zgh3Aod-tTgf",
        "outputId": "51e26a51-1820-4a13-dafd-f0d1e1079c2e"
      },
      "source": [
        "#set features & target\n",
        "X = categories_df.drop(columns=['avg_sal', 'log_avg_sal'])\n",
        "y = categories_df['avg_sal']\n",
        "\n",
        "#split data into training & test sets\n",
        "X_train, X_test, y_train, y_test = train_test_split(X, y, test_size = 0.2, random_state = 43)\n",
        "\n",
        "#Use grid search to find best hyperparameters\n",
        "# defining parameter range \n",
        "param_grid = {'n_neighbors': [2, 4, 6, 8, 10, 12, 15],  \n",
        "              'weights': ['uniform', 'distance'], \n",
        "              'metric': ['euclidean', 'manhattan']}  \n",
        "  \n",
        "categories_knn_grid = GridSearchCV(KNeighborsRegressor(), param_grid, refit = True, verbose=1) \n",
        "  \n",
        "# fitting the model for grid search \n",
        "categories_knn_grid.fit(X_train, y_train) \n",
        "# print best parameter after tuning \n",
        "print(categories_knn_grid.best_params_) \n",
        "  \n",
        "# print how our model looks after hyper-parameter tuning \n",
        "print(categories_knn_grid.best_estimator_) "
      ],
      "execution_count": null,
      "outputs": [
        {
          "output_type": "stream",
          "text": [
            "Fitting 5 folds for each of 28 candidates, totalling 140 fits\n"
          ],
          "name": "stdout"
        },
        {
          "output_type": "stream",
          "text": [
            "[Parallel(n_jobs=1)]: Using backend SequentialBackend with 1 concurrent workers.\n"
          ],
          "name": "stderr"
        },
        {
          "output_type": "stream",
          "text": [
            "{'metric': 'manhattan', 'n_neighbors': 15, 'weights': 'distance'}\n",
            "KNeighborsRegressor(algorithm='auto', leaf_size=30, metric='manhattan',\n",
            "                    metric_params=None, n_jobs=None, n_neighbors=15, p=2,\n",
            "                    weights='distance')\n"
          ],
          "name": "stdout"
        },
        {
          "output_type": "stream",
          "text": [
            "[Parallel(n_jobs=1)]: Done 140 out of 140 | elapsed:    8.4s finished\n"
          ],
          "name": "stderr"
        }
      ]
    },
    {
      "cell_type": "code",
      "metadata": {
        "colab": {
          "base_uri": "https://localhost:8080/"
        },
        "id": "RFKGMghnuNit",
        "outputId": "1cc81e39-6d0c-4bc0-f992-a44b660b53fb"
      },
      "source": [
        "#validate best value for k\n",
        "rmse_val = [] #to store rmse values for different k\n",
        "for K in range (20):\n",
        "  K = K+1\n",
        "  model = KNeighborsRegressor(algorithm='auto', leaf_size=30, metric='manhattan',\n",
        "                    metric_params=None, n_jobs=None, n_neighbors=K, p=2,\n",
        "                    weights='distance')\n",
        "  model.fit(X_train, y_train) #fit the model\n",
        "  preds = model.predict(X_test) #make predictions on test set\n",
        "  error = rmse(y_test, preds) #calculate rmse\n",
        "  rmse_val.append(error) #store rmse values\n",
        "  print('RMSe Value for K= ', K, 'is ', error)"
      ],
      "execution_count": null,
      "outputs": [
        {
          "output_type": "stream",
          "text": [
            "RMSe Value for K=  1 is  29316.186237473048\n",
            "RMSe Value for K=  2 is  26633.746147255322\n",
            "RMSe Value for K=  3 is  25255.206678022467\n",
            "RMSe Value for K=  4 is  24503.749783774216\n",
            "RMSe Value for K=  5 is  24419.616744230552\n",
            "RMSe Value for K=  6 is  24225.64056078926\n",
            "RMSe Value for K=  7 is  23962.056825681688\n",
            "RMSe Value for K=  8 is  23924.634731667964\n",
            "RMSe Value for K=  9 is  23762.90121911971\n",
            "RMSe Value for K=  10 is  23698.398563122108\n",
            "RMSe Value for K=  11 is  23730.5976388609\n",
            "RMSe Value for K=  12 is  23700.783719549563\n",
            "RMSe Value for K=  13 is  23683.05390052798\n",
            "RMSe Value for K=  14 is  23765.933607784278\n",
            "RMSe Value for K=  15 is  23802.65282452179\n",
            "RMSe Value for K=  16 is  23809.6731761747\n",
            "RMSe Value for K=  17 is  23874.554185229095\n",
            "RMSe Value for K=  18 is  23899.653774176408\n",
            "RMSe Value for K=  19 is  23929.494787295673\n",
            "RMSe Value for K=  20 is  23943.102635704334\n"
          ],
          "name": "stdout"
        }
      ]
    },
    {
      "cell_type": "code",
      "metadata": {
        "colab": {
          "base_uri": "https://localhost:8080/",
          "height": 281
        },
        "id": "dETLSQO_vNr9",
        "outputId": "6243e93e-43b3-432c-9314-e9d379c9f6cf"
      },
      "source": [
        "#plotting the rmse values (y) against k values (x)\n",
        "curve = pd.DataFrame(rmse_val) #elbow curve \n",
        "curve.plot()"
      ],
      "execution_count": null,
      "outputs": [
        {
          "output_type": "execute_result",
          "data": {
            "text/plain": [
              "<matplotlib.axes._subplots.AxesSubplot at 0x7fb91a4e8210>"
            ]
          },
          "metadata": {
            "tags": []
          },
          "execution_count": 96
        },
        {
          "output_type": "display_data",
          "data": {
            "image/png": "[encoded data removed]",
            "text/plain": [
              "<Figure size 432x288 with 1 Axes>"
            ]
          },
          "metadata": {
            "tags": [],
            "needs_background": "light"
          }
        }
      ]
    },
    {
      "cell_type": "code",
      "metadata": {
        "id": "pEnkcx6ZFHrt",
        "colab": {
          "base_uri": "https://localhost:8080/"
        },
        "outputId": "dffc18ef-2f04-4ce5-8b3d-a52f199f9071"
      },
      "source": [
        "#set model with ideal hyperparameters from above\n",
        "categories_knn = categories_knn_grid.best_estimator_\n",
        "\n",
        "categories_knn.fit(X_train, y_train)\n",
        "\n",
        "#cross validate\n",
        "categories_knn_scores = cross_val_score(categories_knn, X_train, y_train, cv = 5)\n",
        "\n",
        "print('Accuracy Scores for the 5 folds: ', categories_knn_scores)\n",
        "print('Mean Cross Validation Score: {:.33f}'.format(np.mean(categories_knn_scores)))"
      ],
      "execution_count": null,
      "outputs": [
        {
          "output_type": "stream",
          "text": [
            "Accuracy Scores for the 5 folds:  [0.54522813 0.47488432 0.46654871 0.47307815 0.46457745]\n",
            "Mean Cross Validation Score: 0.484863351991733360080161219229922\n"
          ],
          "name": "stdout"
        }
      ]
    },
    {
      "cell_type": "code",
      "metadata": {
        "id": "bBlnYFrzFaZk",
        "colab": {
          "base_uri": "https://localhost:8080/",
          "height": 108
        },
        "outputId": "2b42fe6d-a556-46bf-de4a-ae1646a78466"
      },
      "source": [
        "#generate predictions\n",
        "categories_knn_preds = categories_knn.predict(X_test)\n",
        "\n",
        "#more performance metrics\n",
        "categories_knn_rsquared_train = categories_knn.score(X_train, y_train)\n",
        "categories_knn_rsquared_test = categories_knn.score(X_test, y_test)\n",
        "categories_knn_mae = mean_absolute_error(y_test, categories_knn_preds)\n",
        "categories_knn_mse = mse(y_test, categories_knn_preds)\n",
        "categories_knn_rmse = rmse(y_test, categories_knn_preds)\n",
        "categories_knn_mape = np.mean(np.abs((y_test - categories_knn_preds)/y_test)*100)\n",
        "categories_knn_rmspe = (np.sqrt(np.mean(np.square((y_test - categories_knn_preds) / y_test)))) * 100\n",
        "categories_knn_model_name = 'Categories KNN'\n",
        "\n",
        "#create easily readable display of performance metrics\n",
        "categories_knn_dictionary = {'Model': categories_knn_model_name,\n",
        "  'Training Set R Squared': categories_knn_rsquared_train, \n",
        "  'Test Set R Squared': categories_knn_rsquared_test, 'Mean Absolute Error': categories_knn_mae, \n",
        "  'Mean Sqaured Error': categories_knn_mse, 'Root Mean Squared Error': categories_knn_rmse,\n",
        "  'Root Mean Squared Percentage Error': categories_knn_rmspe,\n",
        "  'Mean Absolute Percentage Error': categories_knn_mape}\n",
        "\n",
        "categories_knn_df = pd.DataFrame(categories_knn_dictionary, index=[0])\n",
        "\n",
        "categories_knn_df"
      ],
      "execution_count": null,
      "outputs": [
        {
          "output_type": "execute_result",
          "data": {
            "text/html": [
              "<div>\n",
              "<style scoped>\n",
              "    .dataframe tbody tr th:only-of-type {\n",
              "        vertical-align: middle;\n",
              "    }\n",
              "\n",
              "    .dataframe tbody tr th {\n",
              "        vertical-align: top;\n",
              "    }\n",
              "\n",
              "    .dataframe thead th {\n",
              "        text-align: right;\n",
              "    }\n",
              "</style>\n",
              "<table border=\"1\" class=\"dataframe\">\n",
              "  <thead>\n",
              "    <tr style=\"text-align: right;\">\n",
              "      <th></th>\n",
              "      <th>Model</th>\n",
              "      <th>Training Set R Squared</th>\n",
              "      <th>Test Set R Squared</th>\n",
              "      <th>Mean Absolute Error</th>\n",
              "      <th>Mean Sqaured Error</th>\n",
              "      <th>Root Mean Squared Error</th>\n",
              "      <th>Root Mean Squared Percentage Error</th>\n",
              "      <th>Mean Absolute Percentage Error</th>\n",
              "    </tr>\n",
              "  </thead>\n",
              "  <tbody>\n",
              "    <tr>\n",
              "      <th>0</th>\n",
              "      <td>Categories KNN</td>\n",
              "      <td>0.977943</td>\n",
              "      <td>0.533593</td>\n",
              "      <td>16822.530302</td>\n",
              "      <td>5.665663e+08</td>\n",
              "      <td>23802.652825</td>\n",
              "      <td>25.766713</td>\n",
              "      <td>18.303869</td>\n",
              "    </tr>\n",
              "  </tbody>\n",
              "</table>\n",
              "</div>"
            ],
            "text/plain": [
              "            Model  ...  Mean Absolute Percentage Error\n",
              "0  Categories KNN  ...                       18.303869\n",
              "\n",
              "[1 rows x 8 columns]"
            ]
          },
          "metadata": {
            "tags": []
          },
          "execution_count": 98
        }
      ]
    },
    {
      "cell_type": "markdown",
      "metadata": {
        "id": "AWOMlbLNtTgg"
      },
      "source": [
        "### **yrs_exp_df**"
      ]
    },
    {
      "cell_type": "code",
      "metadata": {
        "colab": {
          "base_uri": "https://localhost:8080/"
        },
        "id": "W56BCRcFx-cK",
        "outputId": "c5d6e45d-c0b3-4b41-c49a-33cc124078ba"
      },
      "source": [
        "#set features & target\n",
        "X = yrs_exp_df.drop(columns=['avg_sal', 'log_avg_sal'])\n",
        "y = yrs_exp_df['avg_sal']\n",
        "\n",
        "#split data into training & test sets\n",
        "X_train, X_test, y_train, y_test = train_test_split(X, y, test_size = 0.2, random_state = 43)\n",
        "\n",
        "#Use grid search to find best hyperparameters\n",
        "# defining parameter range \n",
        "param_grid = {'n_neighbors': [2, 4, 6, 8, 10, 12, 15],  \n",
        "              'weights': ['uniform', 'distance'], \n",
        "              'metric': ['euclidean', 'manhattan']}  \n",
        "  \n",
        "years_exp_knn_grid = GridSearchCV(KNeighborsRegressor(), param_grid, refit = True, verbose=1) \n",
        "  \n",
        "# fitting the model for grid search \n",
        "years_exp_knn_grid.fit(X_train, y_train) \n",
        "# print best parameter after tuning \n",
        "print(years_exp_knn_grid.best_params_) \n",
        "  \n",
        "# print how our model looks after hyper-parameter tuning \n",
        "print(years_exp_knn_grid.best_estimator_) "
      ],
      "execution_count": null,
      "outputs": [
        {
          "output_type": "stream",
          "text": [
            "Fitting 5 folds for each of 28 candidates, totalling 140 fits\n"
          ],
          "name": "stdout"
        },
        {
          "output_type": "stream",
          "text": [
            "[Parallel(n_jobs=1)]: Using backend SequentialBackend with 1 concurrent workers.\n"
          ],
          "name": "stderr"
        },
        {
          "output_type": "stream",
          "text": [
            "{'metric': 'manhattan', 'n_neighbors': 15, 'weights': 'distance'}\n",
            "KNeighborsRegressor(algorithm='auto', leaf_size=30, metric='manhattan',\n",
            "                    metric_params=None, n_jobs=None, n_neighbors=15, p=2,\n",
            "                    weights='distance')\n"
          ],
          "name": "stdout"
        },
        {
          "output_type": "stream",
          "text": [
            "[Parallel(n_jobs=1)]: Done 140 out of 140 | elapsed:    6.5s finished\n"
          ],
          "name": "stderr"
        }
      ]
    },
    {
      "cell_type": "code",
      "metadata": {
        "colab": {
          "base_uri": "https://localhost:8080/"
        },
        "id": "KNE0CpTLx-cL",
        "outputId": "48e378b5-296a-499b-fb0a-e65a6dbb6648"
      },
      "source": [
        "#validate best value for k\n",
        "rmse_val = [] #to store rmse values for different k\n",
        "for K in range (20):\n",
        "  K = K+1\n",
        "  model = KNeighborsRegressor(algorithm='auto', leaf_size=30, metric='manhattan',\n",
        "                    metric_params=None, n_jobs=None, n_neighbors=K, p=2,\n",
        "                    weights='distance')\n",
        "  model.fit(X_train, y_train) #fit the model\n",
        "  preds = model.predict(X_test) #make predictions on test set\n",
        "  error = rmse(y_test, preds) #calculate rmse\n",
        "  rmse_val.append(error) #store rmse values\n",
        "  print('RMSe Value for K= ', K, 'is ', error)"
      ],
      "execution_count": null,
      "outputs": [
        {
          "output_type": "stream",
          "text": [
            "RMSe Value for K=  1 is  30937.95266163579\n",
            "RMSe Value for K=  2 is  27734.775009939556\n",
            "RMSe Value for K=  3 is  26825.673109067833\n",
            "RMSe Value for K=  4 is  25784.698778513746\n",
            "RMSe Value for K=  5 is  25157.789850066303\n",
            "RMSe Value for K=  6 is  25004.952450787474\n",
            "RMSe Value for K=  7 is  24797.110427150434\n",
            "RMSe Value for K=  8 is  24755.188943832374\n",
            "RMSe Value for K=  9 is  24692.522288480537\n",
            "RMSe Value for K=  10 is  24577.489338468702\n",
            "RMSe Value for K=  11 is  24492.56287942315\n",
            "RMSe Value for K=  12 is  24523.38229000008\n",
            "RMSe Value for K=  13 is  24463.331577778416\n",
            "RMSe Value for K=  14 is  24423.39301197661\n",
            "RMSe Value for K=  15 is  24376.43106812038\n",
            "RMSe Value for K=  16 is  24306.578901057157\n",
            "RMSe Value for K=  17 is  24306.951866328964\n",
            "RMSe Value for K=  18 is  24240.02731762952\n",
            "RMSe Value for K=  19 is  24209.090661961054\n",
            "RMSe Value for K=  20 is  24218.885687325972\n"
          ],
          "name": "stdout"
        }
      ]
    },
    {
      "cell_type": "code",
      "metadata": {
        "colab": {
          "base_uri": "https://localhost:8080/",
          "height": 281
        },
        "id": "5WY8SD6ux-cL",
        "outputId": "bd11ba07-ba99-4720-ad08-2cdfcb145f03"
      },
      "source": [
        "#plotting the rmse values (y) against k values (x)\n",
        "curve = pd.DataFrame(rmse_val) #elbow curve \n",
        "curve.plot()"
      ],
      "execution_count": null,
      "outputs": [
        {
          "output_type": "execute_result",
          "data": {
            "text/plain": [
              "<matplotlib.axes._subplots.AxesSubplot at 0x7fb927893350>"
            ]
          },
          "metadata": {
            "tags": []
          },
          "execution_count": 101
        },
        {
          "output_type": "display_data",
          "data": {
            "image/png": "[encoded data removed]",
            "text/plain": [
              "<Figure size 432x288 with 1 Axes>"
            ]
          },
          "metadata": {
            "tags": [],
            "needs_background": "light"
          }
        }
      ]
    },
    {
      "cell_type": "code",
      "metadata": {
        "colab": {
          "base_uri": "https://localhost:8080/"
        },
        "id": "BcM1Y9GPx-cL",
        "outputId": "5c60175f-a0d6-428a-cca3-683bfccceeef"
      },
      "source": [
        "#set model with ideal hyperparameters from above\n",
        "years_exp_knn = years_exp_knn_grid.best_estimator_\n",
        "\n",
        "years_exp_knn.fit(X_train, y_train)\n",
        "\n",
        "#cross validate\n",
        "years_exp_knn_scores = cross_val_score(years_exp_knn, X_train, y_train, cv = 5)\n",
        "\n",
        "print('Accuracy Scores for the 5 folds: ', years_exp_knn_scores)\n",
        "print('Mean Cross Validation Score: {:.33f}'.format(np.mean(years_exp_knn_scores)))"
      ],
      "execution_count": null,
      "outputs": [
        {
          "output_type": "stream",
          "text": [
            "Accuracy Scores for the 5 folds:  [0.48861811 0.50137513 0.50213189 0.46649042 0.50033745]\n",
            "Mean Cross Validation Score: 0.491790598521411215227061575205880\n"
          ],
          "name": "stdout"
        }
      ]
    },
    {
      "cell_type": "code",
      "metadata": {
        "colab": {
          "base_uri": "https://localhost:8080/",
          "height": 108
        },
        "id": "iFrjVsb0x-cM",
        "outputId": "6889ab2f-a65b-4729-8ba6-bb2a4f6c0f78"
      },
      "source": [
        "#generate predictions\n",
        "years_exp_knn_preds = years_exp_knn.predict(X_test)\n",
        "\n",
        "#more performance metrics\n",
        "years_exp_knn_rsquared_train = years_exp_knn.score(X_train, y_train)\n",
        "years_exp_knn_rsquared_test = years_exp_knn.score(X_test, y_test)\n",
        "years_exp_knn_mae = mean_absolute_error(y_test, years_exp_knn_preds)\n",
        "years_exp_knn_mse = mse(y_test, years_exp_knn_preds)\n",
        "years_exp_knn_rmse = rmse(y_test, years_exp_knn_preds)\n",
        "years_exp_knn_mape = np.mean(np.abs((y_test - years_exp_knn_preds)/y_test)*100)\n",
        "years_exp_knn_rmspe = (np.sqrt(np.mean(np.square((y_test - years_exp_knn_preds) / y_test)))) * 100\n",
        "years_exp_knn_model_name = 'Years of Experience KNN'\n",
        "\n",
        "#create easily readable display of performance metrics\n",
        "years_exp_knn_dictionary = {'Model': years_exp_knn_model_name,\n",
        "  'Training Set R Squared': years_exp_knn_rsquared_train, \n",
        "  'Test Set R Squared': years_exp_knn_rsquared_test, 'Mean Absolute Error': years_exp_knn_mae, \n",
        "  'Mean Sqaured Error': years_exp_knn_mse, 'Root Mean Squared Error': years_exp_knn_rmse,\n",
        "  'Root Mean Squared Percentage Error': years_exp_knn_rmspe,\n",
        "  'Mean Absolute Percentage Error': years_exp_knn_mape}\n",
        "\n",
        "years_exp_knn_df = pd.DataFrame(years_exp_knn_dictionary, index=[0])\n",
        "\n",
        "years_exp_knn_df"
      ],
      "execution_count": null,
      "outputs": [
        {
          "output_type": "execute_result",
          "data": {
            "text/html": [
              "<div>\n",
              "<style scoped>\n",
              "    .dataframe tbody tr th:only-of-type {\n",
              "        vertical-align: middle;\n",
              "    }\n",
              "\n",
              "    .dataframe tbody tr th {\n",
              "        vertical-align: top;\n",
              "    }\n",
              "\n",
              "    .dataframe thead th {\n",
              "        text-align: right;\n",
              "    }\n",
              "</style>\n",
              "<table border=\"1\" class=\"dataframe\">\n",
              "  <thead>\n",
              "    <tr style=\"text-align: right;\">\n",
              "      <th></th>\n",
              "      <th>Model</th>\n",
              "      <th>Training Set R Squared</th>\n",
              "      <th>Test Set R Squared</th>\n",
              "      <th>Mean Absolute Error</th>\n",
              "      <th>Mean Sqaured Error</th>\n",
              "      <th>Root Mean Squared Error</th>\n",
              "      <th>Root Mean Squared Percentage Error</th>\n",
              "      <th>Mean Absolute Percentage Error</th>\n",
              "    </tr>\n",
              "  </thead>\n",
              "  <tbody>\n",
              "    <tr>\n",
              "      <th>0</th>\n",
              "      <td>Years of Experience KNN</td>\n",
              "      <td>0.978523</td>\n",
              "      <td>0.503578</td>\n",
              "      <td>16974.645518</td>\n",
              "      <td>5.942104e+08</td>\n",
              "      <td>24376.431068</td>\n",
              "      <td>28.099777</td>\n",
              "      <td>19.401966</td>\n",
              "    </tr>\n",
              "  </tbody>\n",
              "</table>\n",
              "</div>"
            ],
            "text/plain": [
              "                     Model  ...  Mean Absolute Percentage Error\n",
              "0  Years of Experience KNN  ...                       19.401966\n",
              "\n",
              "[1 rows x 8 columns]"
            ]
          },
          "metadata": {
            "tags": []
          },
          "execution_count": 103
        }
      ]
    },
    {
      "cell_type": "markdown",
      "metadata": {
        "id": "-WfESyjZrRiJ"
      },
      "source": [
        "### **categories_df log(y)**"
      ]
    },
    {
      "cell_type": "code",
      "metadata": {
        "colab": {
          "base_uri": "https://localhost:8080/"
        },
        "id": "jt5ROZlwrRiK",
        "outputId": "f0ee425b-ad91-4258-e6bd-e2c2e3302a32"
      },
      "source": [
        "#set features & target\n",
        "X = categories_df.drop(columns=['avg_sal', 'log_avg_sal'])\n",
        "y = categories_df['log_avg_sal']\n",
        "\n",
        "#split data into training & test sets\n",
        "X_train, X_test, y_train, y_test = train_test_split(X, y, test_size = 0.2, random_state = 43)\n",
        "\n",
        "#Use grid search to find best hyperparameters\n",
        "# defining parameter range \n",
        "param_grid = {'n_neighbors': [2, 4, 6, 8, 10, 12, 15],  \n",
        "              'weights': ['uniform', 'distance'], \n",
        "              'metric': ['euclidean', 'manhattan']}  \n",
        "  \n",
        "log_categories_knn_grid = GridSearchCV(KNeighborsRegressor(), param_grid, refit = True, verbose=1) \n",
        "  \n",
        "# fitting the model for grid search \n",
        "log_categories_knn_grid.fit(X_train, y_train) \n",
        "# print best parameter after tuning \n",
        "print(log_categories_knn_grid.best_params_) \n",
        "  \n",
        "# print how our model looks after hyper-parameter tuning \n",
        "print(log_categories_knn_grid.best_estimator_) "
      ],
      "execution_count": null,
      "outputs": [
        {
          "output_type": "stream",
          "text": [
            "Fitting 5 folds for each of 28 candidates, totalling 140 fits\n"
          ],
          "name": "stdout"
        },
        {
          "output_type": "stream",
          "text": [
            "[Parallel(n_jobs=1)]: Using backend SequentialBackend with 1 concurrent workers.\n"
          ],
          "name": "stderr"
        },
        {
          "output_type": "stream",
          "text": [
            "{'metric': 'manhattan', 'n_neighbors': 15, 'weights': 'distance'}\n",
            "KNeighborsRegressor(algorithm='auto', leaf_size=30, metric='manhattan',\n",
            "                    metric_params=None, n_jobs=None, n_neighbors=15, p=2,\n",
            "                    weights='distance')\n"
          ],
          "name": "stdout"
        },
        {
          "output_type": "stream",
          "text": [
            "[Parallel(n_jobs=1)]: Done 140 out of 140 | elapsed:    8.3s finished\n"
          ],
          "name": "stderr"
        }
      ]
    },
    {
      "cell_type": "code",
      "metadata": {
        "colab": {
          "base_uri": "https://localhost:8080/"
        },
        "id": "5ekwZnQirRiM",
        "outputId": "e5a8cf8a-ce1b-4672-ee2d-3ad915bce8b1"
      },
      "source": [
        "#validate best value for k\n",
        "rmse_val = [] #to store rmse values for different k\n",
        "for K in range (20):\n",
        "  K = K+1\n",
        "  model = KNeighborsRegressor(algorithm='auto', leaf_size=30, metric='manhattan',\n",
        "                    metric_params=None, n_jobs=None, n_neighbors=K, p=2,\n",
        "                    weights='distance')\n",
        "  model.fit(X_train, y_train) #fit the model\n",
        "  preds = model.predict(X_test) #make predictions on test set\n",
        "  error = rmse(y_test, preds) #calculate rmse\n",
        "  rmse_val.append(error) #store rmse values\n",
        "  print('RMSe Value for K= ', K, 'is ', error)"
      ],
      "execution_count": null,
      "outputs": [
        {
          "output_type": "stream",
          "text": [
            "RMSe Value for K=  1 is  0.30388079572213483\n",
            "RMSe Value for K=  2 is  0.2705037103453972\n",
            "RMSe Value for K=  3 is  0.25934231633847477\n",
            "RMSe Value for K=  4 is  0.25136349531650287\n",
            "RMSe Value for K=  5 is  0.25014720139893104\n",
            "RMSe Value for K=  6 is  0.24712226856487493\n",
            "RMSe Value for K=  7 is  0.2444139341561265\n",
            "RMSe Value for K=  8 is  0.2434669804421659\n",
            "RMSe Value for K=  9 is  0.242025889433034\n",
            "RMSe Value for K=  10 is  0.24107284939846776\n",
            "RMSe Value for K=  11 is  0.24173330152375125\n",
            "RMSe Value for K=  12 is  0.24142429999253126\n",
            "RMSe Value for K=  13 is  0.24115650674956873\n",
            "RMSe Value for K=  14 is  0.2419986158490582\n",
            "RMSe Value for K=  15 is  0.24214723383059694\n",
            "RMSe Value for K=  16 is  0.24199461874764736\n",
            "RMSe Value for K=  17 is  0.24250514027415268\n",
            "RMSe Value for K=  18 is  0.2426947774688815\n",
            "RMSe Value for K=  19 is  0.24318306088793826\n",
            "RMSe Value for K=  20 is  0.2432008004498014\n"
          ],
          "name": "stdout"
        }
      ]
    },
    {
      "cell_type": "code",
      "metadata": {
        "colab": {
          "base_uri": "https://localhost:8080/",
          "height": 281
        },
        "id": "Ek84t9yHrRiM",
        "outputId": "c2321ef1-591d-44f9-b9cd-2ae834fc1454"
      },
      "source": [
        "#plotting the rmse values (y) against k values (x)\n",
        "curve = pd.DataFrame(rmse_val) #elbow curve \n",
        "curve.plot()"
      ],
      "execution_count": null,
      "outputs": [
        {
          "output_type": "execute_result",
          "data": {
            "text/plain": [
              "<matplotlib.axes._subplots.AxesSubplot at 0x7fb927838790>"
            ]
          },
          "metadata": {
            "tags": []
          },
          "execution_count": 106
        },
        {
          "output_type": "display_data",
          "data": {
            "image/png": "[encoded data removed]",
            "text/plain": [
              "<Figure size 432x288 with 1 Axes>"
            ]
          },
          "metadata": {
            "tags": [],
            "needs_background": "light"
          }
        }
      ]
    },
    {
      "cell_type": "code",
      "metadata": {
        "colab": {
          "base_uri": "https://localhost:8080/"
        },
        "id": "ypFaiZQZrRiM",
        "outputId": "9bea7ffa-4388-454f-dbe3-d93c83150ab5"
      },
      "source": [
        "#set model with ideal hyperparameters from above\n",
        "log_categories_knn = log_categories_knn_grid.best_estimator_\n",
        "\n",
        "log_categories_knn.fit(X_train, y_train)\n",
        "\n",
        "#cross validate\n",
        "log_categories_knn_scores = cross_val_score(log_categories_knn, X_train, y_train, cv = 5)\n",
        "\n",
        "print('Accuracy Scores for the 5 folds: ', log_categories_knn_scores)\n",
        "print('Mean Cross Validation Score: {:.33f}'.format(np.mean(log_categories_knn_scores)))"
      ],
      "execution_count": null,
      "outputs": [
        {
          "output_type": "stream",
          "text": [
            "Accuracy Scores for the 5 folds:  [0.54059199 0.50271556 0.50188783 0.51080935 0.48963551]\n",
            "Mean Cross Validation Score: 0.509128047268163408389796131814364\n"
          ],
          "name": "stdout"
        }
      ]
    },
    {
      "cell_type": "code",
      "metadata": {
        "colab": {
          "base_uri": "https://localhost:8080/",
          "height": 108
        },
        "id": "ITGMANZVrRiN",
        "outputId": "9ef19294-e809-4ad0-9bf1-8961ca9bdbf9"
      },
      "source": [
        "#generate predictions\n",
        "log_categories_knn_preds = log_categories_knn.predict(X_test)\n",
        "\n",
        "#more performance metrics\n",
        "log_categories_knn_rsquared_train = log_categories_knn.score(X_train, y_train)\n",
        "log_categories_knn_rsquared_test = log_categories_knn.score(X_test, y_test)\n",
        "log_categories_knn_mae = mean_absolute_error(y_test, log_categories_knn_preds)\n",
        "log_categories_knn_mse = mse(y_test, log_categories_knn_preds)\n",
        "log_categories_knn_rmse = rmse(y_test, log_categories_knn_preds)\n",
        "log_categories_knn_mape = np.mean(np.abs((y_test - log_categories_knn_preds)/y_test)*100)\n",
        "log_categories_knn_rmspe = (np.sqrt(np.mean(np.square((y_test - log_categories_knn_preds) / y_test)))) * 100\n",
        "log_categories_knn_model_name = 'Categories KNN Log(y)'\n",
        "\n",
        "#create easily readable display of performance metrics\n",
        "log_categories_knn_dictionary = {'Model': log_categories_knn_model_name,\n",
        "  'Training Set R Squared': log_categories_knn_rsquared_train, \n",
        "  'Test Set R Squared': log_categories_knn_rsquared_test, 'Mean Absolute Error': log_categories_knn_mae, \n",
        "  'Mean Sqaured Error': log_categories_knn_mse, 'Root Mean Squared Error': log_categories_knn_rmse,\n",
        "  'Root Mean Squared Percentage Error': log_categories_knn_rmspe,\n",
        "  'Mean Absolute Percentage Error': log_categories_knn_mape}\n",
        "\n",
        "log_categories_knn_df = pd.DataFrame(log_categories_knn_dictionary, index=[0])\n",
        "\n",
        "log_categories_knn_df"
      ],
      "execution_count": null,
      "outputs": [
        {
          "output_type": "execute_result",
          "data": {
            "text/html": [
              "<div>\n",
              "<style scoped>\n",
              "    .dataframe tbody tr th:only-of-type {\n",
              "        vertical-align: middle;\n",
              "    }\n",
              "\n",
              "    .dataframe tbody tr th {\n",
              "        vertical-align: top;\n",
              "    }\n",
              "\n",
              "    .dataframe thead th {\n",
              "        text-align: right;\n",
              "    }\n",
              "</style>\n",
              "<table border=\"1\" class=\"dataframe\">\n",
              "  <thead>\n",
              "    <tr style=\"text-align: right;\">\n",
              "      <th></th>\n",
              "      <th>Model</th>\n",
              "      <th>Training Set R Squared</th>\n",
              "      <th>Test Set R Squared</th>\n",
              "      <th>Mean Absolute Error</th>\n",
              "      <th>Mean Sqaured Error</th>\n",
              "      <th>Root Mean Squared Error</th>\n",
              "      <th>Root Mean Squared Percentage Error</th>\n",
              "      <th>Mean Absolute Percentage Error</th>\n",
              "    </tr>\n",
              "  </thead>\n",
              "  <tbody>\n",
              "    <tr>\n",
              "      <th>0</th>\n",
              "      <td>Categories KNN Log(y)</td>\n",
              "      <td>0.983326</td>\n",
              "      <td>0.544524</td>\n",
              "      <td>0.179539</td>\n",
              "      <td>0.058635</td>\n",
              "      <td>0.242147</td>\n",
              "      <td>2.119425</td>\n",
              "      <td>1.572387</td>\n",
              "    </tr>\n",
              "  </tbody>\n",
              "</table>\n",
              "</div>"
            ],
            "text/plain": [
              "                   Model  ...  Mean Absolute Percentage Error\n",
              "0  Categories KNN Log(y)  ...                        1.572387\n",
              "\n",
              "[1 rows x 8 columns]"
            ]
          },
          "metadata": {
            "tags": []
          },
          "execution_count": 109
        }
      ]
    },
    {
      "cell_type": "markdown",
      "metadata": {
        "id": "yC-qAifOrRiN"
      },
      "source": [
        "### **yrs_exp_df log(y)**"
      ]
    },
    {
      "cell_type": "code",
      "metadata": {
        "colab": {
          "base_uri": "https://localhost:8080/"
        },
        "id": "9osFWHtCrRiN",
        "outputId": "bb0cf639-0917-4767-9717-c81543cccc81"
      },
      "source": [
        "#set features & target\n",
        "X = yrs_exp_df.drop(columns=['avg_sal', 'log_avg_sal'])\n",
        "y = yrs_exp_df['log_avg_sal']\n",
        "\n",
        "#split data into training & test sets\n",
        "X_train, X_test, y_train, y_test = train_test_split(X, y, test_size = 0.2, random_state = 43)\n",
        "\n",
        "#Use grid search to find best hyperparameters\n",
        "# defining parameter range \n",
        "param_grid = {'n_neighbors': [2, 4, 6, 8, 10, 12, 15],  \n",
        "              'weights': ['uniform', 'distance'], \n",
        "              'metric': ['euclidean', 'manhattan']}  \n",
        "  \n",
        "log_years_exp_knn_grid = GridSearchCV(KNeighborsRegressor(), param_grid, refit = True, verbose=1) \n",
        "  \n",
        "# fitting the model for grid search \n",
        "log_years_exp_knn_grid.fit(X_train, y_train) \n",
        "# print best parameter after tuning \n",
        "print(log_years_exp_knn_grid.best_params_) \n",
        "  \n",
        "# print how our model looks after hyper-parameter tuning \n",
        "print(log_years_exp_knn_grid.best_estimator_) "
      ],
      "execution_count": null,
      "outputs": [
        {
          "output_type": "stream",
          "text": [
            "Fitting 5 folds for each of 28 candidates, totalling 140 fits\n"
          ],
          "name": "stdout"
        },
        {
          "output_type": "stream",
          "text": [
            "[Parallel(n_jobs=1)]: Using backend SequentialBackend with 1 concurrent workers.\n"
          ],
          "name": "stderr"
        },
        {
          "output_type": "stream",
          "text": [
            "{'metric': 'manhattan', 'n_neighbors': 15, 'weights': 'distance'}\n",
            "KNeighborsRegressor(algorithm='auto', leaf_size=30, metric='manhattan',\n",
            "                    metric_params=None, n_jobs=None, n_neighbors=15, p=2,\n",
            "                    weights='distance')\n"
          ],
          "name": "stdout"
        },
        {
          "output_type": "stream",
          "text": [
            "[Parallel(n_jobs=1)]: Done 140 out of 140 | elapsed:    6.5s finished\n"
          ],
          "name": "stderr"
        }
      ]
    },
    {
      "cell_type": "code",
      "metadata": {
        "colab": {
          "base_uri": "https://localhost:8080/"
        },
        "id": "Mq-Fxv3_rRiO",
        "outputId": "204da95e-5827-486f-84a5-b12619a13c9b"
      },
      "source": [
        "#validate best value for k\n",
        "rmse_val = [] #to store rmse values for different k\n",
        "for K in range (20):\n",
        "  K = K+1\n",
        "  model = KNeighborsRegressor(algorithm='auto', leaf_size=30, metric='manhattan',\n",
        "                    metric_params=None, n_jobs=None, n_neighbors=K, p=2,\n",
        "                    weights='distance')\n",
        "  model.fit(X_train, y_train) #fit the model\n",
        "  preds = model.predict(X_test) #make predictions on test set\n",
        "  error = rmse(y_test, preds) #calculate rmse\n",
        "  rmse_val.append(error) #store rmse values\n",
        "  print('RMSe Value for K= ', K, 'is ', error)"
      ],
      "execution_count": null,
      "outputs": [
        {
          "output_type": "stream",
          "text": [
            "RMSe Value for K=  1 is  0.3093014454390967\n",
            "RMSe Value for K=  2 is  0.2773179407292047\n",
            "RMSe Value for K=  3 is  0.2686480633594441\n",
            "RMSe Value for K=  4 is  0.2590134240542687\n",
            "RMSe Value for K=  5 is  0.25194359771637564\n",
            "RMSe Value for K=  6 is  0.250693310015244\n",
            "RMSe Value for K=  7 is  0.24858576297714285\n",
            "RMSe Value for K=  8 is  0.2482589259577399\n",
            "RMSe Value for K=  9 is  0.24735368814463307\n",
            "RMSe Value for K=  10 is  0.24632869129535329\n",
            "RMSe Value for K=  11 is  0.24598953223034045\n",
            "RMSe Value for K=  12 is  0.245673519256343\n",
            "RMSe Value for K=  13 is  0.24541335186095165\n",
            "RMSe Value for K=  14 is  0.24527124752203944\n",
            "RMSe Value for K=  15 is  0.24496286947695314\n",
            "RMSe Value for K=  16 is  0.24462488307543623\n",
            "RMSe Value for K=  17 is  0.24448231748057841\n",
            "RMSe Value for K=  18 is  0.24377369597853288\n",
            "RMSe Value for K=  19 is  0.24352767764133157\n",
            "RMSe Value for K=  20 is  0.24352144212969146\n"
          ],
          "name": "stdout"
        }
      ]
    },
    {
      "cell_type": "code",
      "metadata": {
        "colab": {
          "base_uri": "https://localhost:8080/",
          "height": 281
        },
        "id": "2YAdS3QErRiO",
        "outputId": "ba3b1e3d-6460-44e3-e82a-bc39e372adc7"
      },
      "source": [
        "#plotting the rmse values (y) against k values (x)\n",
        "curve = pd.DataFrame(rmse_val) #elbow curve \n",
        "curve.plot()"
      ],
      "execution_count": null,
      "outputs": [
        {
          "output_type": "execute_result",
          "data": {
            "text/plain": [
              "<matplotlib.axes._subplots.AxesSubplot at 0x7fb92786ba50>"
            ]
          },
          "metadata": {
            "tags": []
          },
          "execution_count": 112
        },
        {
          "output_type": "display_data",
          "data": {
            "image/png": "[encoded data removed]",
            "text/plain": [
              "<Figure size 432x288 with 1 Axes>"
            ]
          },
          "metadata": {
            "tags": [],
            "needs_background": "light"
          }
        }
      ]
    },
    {
      "cell_type": "code",
      "metadata": {
        "colab": {
          "base_uri": "https://localhost:8080/"
        },
        "id": "c4rTSPrHrRiO",
        "outputId": "09c2acaa-2965-47d4-b979-76d112fa27ac"
      },
      "source": [
        "#set model with ideal hyperparameters from above\n",
        "log_years_exp_knn = log_years_exp_knn_grid.best_estimator_\n",
        "\n",
        "log_years_exp_knn.fit(X_train, y_train)\n",
        "\n",
        "#cross validate\n",
        "log_years_exp_knn_scores = cross_val_score(log_years_exp_knn, X_train, y_train, cv = 5)\n",
        "\n",
        "print('Accuracy Scores for the 5 folds: ', log_years_exp_knn_scores)\n",
        "print('Mean Cross Validation Score: {:.33f}'.format(np.mean(log_years_exp_knn_scores)))"
      ],
      "execution_count": null,
      "outputs": [
        {
          "output_type": "stream",
          "text": [
            "Accuracy Scores for the 5 folds:  [0.51716862 0.52256182 0.52414213 0.50557845 0.52444583]\n",
            "Mean Cross Validation Score: 0.518779370569639852739385332824895\n"
          ],
          "name": "stdout"
        }
      ]
    },
    {
      "cell_type": "code",
      "metadata": {
        "colab": {
          "base_uri": "https://localhost:8080/",
          "height": 108
        },
        "id": "Dj1zegqHrRiP",
        "outputId": "51becf3b-cdfc-4909-b904-49bb331a310a"
      },
      "source": [
        "#generate predictions\n",
        "log_years_exp_knn_preds = log_years_exp_knn.predict(X_test)\n",
        "\n",
        "#more performance metrics\n",
        "log_years_exp_knn_rsquared_train = log_years_exp_knn.score(X_train, y_train)\n",
        "log_years_exp_knn_rsquared_test = log_years_exp_knn.score(X_test, y_test)\n",
        "log_years_exp_knn_mae = mean_absolute_error(y_test, log_years_exp_knn_preds)\n",
        "log_years_exp_knn_mse = mse(y_test, log_years_exp_knn_preds)\n",
        "log_years_exp_knn_rmse = rmse(y_test, log_years_exp_knn_preds)\n",
        "log_years_exp_knn_mape = np.mean(np.abs((y_test - log_years_exp_knn_preds)/y_test)*100)\n",
        "log_years_exp_knn_rmspe = (np.sqrt(np.mean(np.square((y_test - log_years_exp_knn_preds) / y_test)))) * 100\n",
        "log_years_exp_knn_model_name = 'Years of Experience KNN Log(y)'\n",
        "\n",
        "#create easily readable display of performance metrics\n",
        "log_years_exp_knn_dictionary = {'Model': log_years_exp_knn_model_name,\n",
        "  'Training Set R Squared': log_years_exp_knn_rsquared_train, \n",
        "  'Test Set R Squared': log_years_exp_knn_rsquared_test, 'Mean Absolute Error': log_years_exp_knn_mae, \n",
        "  'Mean Sqaured Error': log_years_exp_knn_mse, 'Root Mean Squared Error': log_years_exp_knn_rmse,\n",
        "  'Root Mean Squared Percentage Error': log_years_exp_knn_rmspe,\n",
        "  'Mean Absolute Percentage Error': log_years_exp_knn_mape}\n",
        "\n",
        "log_years_exp_knn_df = pd.DataFrame(log_years_exp_knn_dictionary, index=[0])\n",
        "\n",
        "log_years_exp_knn_df"
      ],
      "execution_count": null,
      "outputs": [
        {
          "output_type": "execute_result",
          "data": {
            "text/html": [
              "<div>\n",
              "<style scoped>\n",
              "    .dataframe tbody tr th:only-of-type {\n",
              "        vertical-align: middle;\n",
              "    }\n",
              "\n",
              "    .dataframe tbody tr th {\n",
              "        vertical-align: top;\n",
              "    }\n",
              "\n",
              "    .dataframe thead th {\n",
              "        text-align: right;\n",
              "    }\n",
              "</style>\n",
              "<table border=\"1\" class=\"dataframe\">\n",
              "  <thead>\n",
              "    <tr style=\"text-align: right;\">\n",
              "      <th></th>\n",
              "      <th>Model</th>\n",
              "      <th>Training Set R Squared</th>\n",
              "      <th>Test Set R Squared</th>\n",
              "      <th>Mean Absolute Error</th>\n",
              "      <th>Mean Sqaured Error</th>\n",
              "      <th>Root Mean Squared Error</th>\n",
              "      <th>Root Mean Squared Percentage Error</th>\n",
              "      <th>Mean Absolute Percentage Error</th>\n",
              "    </tr>\n",
              "  </thead>\n",
              "  <tbody>\n",
              "    <tr>\n",
              "      <th>0</th>\n",
              "      <td>Years of Experience KNN Log(y)</td>\n",
              "      <td>0.982898</td>\n",
              "      <td>0.540537</td>\n",
              "      <td>0.179638</td>\n",
              "      <td>0.060007</td>\n",
              "      <td>0.244963</td>\n",
              "      <td>2.15888</td>\n",
              "      <td>1.580723</td>\n",
              "    </tr>\n",
              "  </tbody>\n",
              "</table>\n",
              "</div>"
            ],
            "text/plain": [
              "                            Model  ...  Mean Absolute Percentage Error\n",
              "0  Years of Experience KNN Log(y)  ...                        1.580723\n",
              "\n",
              "[1 rows x 8 columns]"
            ]
          },
          "metadata": {
            "tags": []
          },
          "execution_count": 114
        }
      ]
    },
    {
      "cell_type": "markdown",
      "metadata": {
        "id": "wwBDlnikOJF8"
      },
      "source": [
        "### **cat_no_outliers_df**"
      ]
    },
    {
      "cell_type": "code",
      "metadata": {
        "colab": {
          "base_uri": "https://localhost:8080/"
        },
        "id": "H3GwXw21OJF9",
        "outputId": "8884f46b-4f28-4e4b-a2db-96ce114fc8c2"
      },
      "source": [
        "#set features & target\n",
        "X = cat_no_outliers_df.drop(columns=['avg_sal', 'log_avg_sal'])\n",
        "y = cat_no_outliers_df['avg_sal']\n",
        "\n",
        "#split data into training & test sets\n",
        "X_train, X_test, y_train, y_test = train_test_split(X, y, test_size = 0.2, random_state = 43)\n",
        "\n",
        "#Use grid search to find best hyperparameters\n",
        "# defining parameter range \n",
        "param_grid = {'n_neighbors': [2, 4, 6, 8, 10, 12, 15],  \n",
        "              'weights': ['uniform', 'distance'], \n",
        "              'metric': ['euclidean', 'manhattan']}  \n",
        "  \n",
        "cat_no_outliers_knn_grid = GridSearchCV(KNeighborsRegressor(), param_grid, refit = True, verbose=1) \n",
        "  \n",
        "# fitting the model for grid search \n",
        "cat_no_outliers_knn_grid.fit(X_train, y_train) \n",
        "# print best parameter after tuning \n",
        "print(cat_no_outliers_knn_grid.best_params_) \n",
        "  \n",
        "# print how our model looks after hyper-parameter tuning \n",
        "print(cat_no_outliers_knn_grid.best_estimator_) "
      ],
      "execution_count": null,
      "outputs": [
        {
          "output_type": "stream",
          "text": [
            "Fitting 5 folds for each of 28 candidates, totalling 140 fits\n"
          ],
          "name": "stdout"
        },
        {
          "output_type": "stream",
          "text": [
            "[Parallel(n_jobs=1)]: Using backend SequentialBackend with 1 concurrent workers.\n"
          ],
          "name": "stderr"
        },
        {
          "output_type": "stream",
          "text": [
            "{'metric': 'manhattan', 'n_neighbors': 15, 'weights': 'distance'}\n",
            "KNeighborsRegressor(algorithm='auto', leaf_size=30, metric='manhattan',\n",
            "                    metric_params=None, n_jobs=None, n_neighbors=15, p=2,\n",
            "                    weights='distance')\n"
          ],
          "name": "stdout"
        },
        {
          "output_type": "stream",
          "text": [
            "[Parallel(n_jobs=1)]: Done 140 out of 140 | elapsed:    8.1s finished\n"
          ],
          "name": "stderr"
        }
      ]
    },
    {
      "cell_type": "code",
      "metadata": {
        "colab": {
          "base_uri": "https://localhost:8080/"
        },
        "id": "N5KSZvawOJF9",
        "outputId": "f68468c1-b144-4a09-da9e-d784e954d28d"
      },
      "source": [
        "#validate best value for k\n",
        "rmse_val = [] #to store rmse values for different k\n",
        "for K in range (20):\n",
        "  K = K+1\n",
        "  model = KNeighborsRegressor(algorithm='auto', leaf_size=30, metric='manhattan',\n",
        "                    metric_params=None, n_jobs=None, n_neighbors=K, p=2,\n",
        "                    weights='distance')\n",
        "  model.fit(X_train, y_train) #fit the model\n",
        "  preds = model.predict(X_test) #make predictions on test set\n",
        "  error = rmse(y_test, preds) #calculate rmse\n",
        "  rmse_val.append(error) #store rmse values\n",
        "  print('RMSe Value for K= ', K, 'is ', error)"
      ],
      "execution_count": null,
      "outputs": [
        {
          "output_type": "stream",
          "text": [
            "RMSe Value for K=  1 is  27569.261562905125\n",
            "RMSe Value for K=  2 is  24461.194288095878\n",
            "RMSe Value for K=  3 is  23107.356763312328\n",
            "RMSe Value for K=  4 is  22660.74376118986\n",
            "RMSe Value for K=  5 is  22453.989197185416\n",
            "RMSe Value for K=  6 is  22339.203816491292\n",
            "RMSe Value for K=  7 is  22248.782424309666\n",
            "RMSe Value for K=  8 is  22232.28374215338\n",
            "RMSe Value for K=  9 is  22206.845950457562\n",
            "RMSe Value for K=  10 is  22183.080184191174\n",
            "RMSe Value for K=  11 is  22196.498032814678\n",
            "RMSe Value for K=  12 is  22089.862992723327\n",
            "RMSe Value for K=  13 is  22131.21321507652\n",
            "RMSe Value for K=  14 is  22119.933871124707\n",
            "RMSe Value for K=  15 is  22171.688410284132\n",
            "RMSe Value for K=  16 is  22206.964860217653\n",
            "RMSe Value for K=  17 is  22180.141461310286\n",
            "RMSe Value for K=  18 is  22165.438356173214\n",
            "RMSe Value for K=  19 is  22171.027106684065\n",
            "RMSe Value for K=  20 is  22121.5013146914\n"
          ],
          "name": "stdout"
        }
      ]
    },
    {
      "cell_type": "code",
      "metadata": {
        "colab": {
          "base_uri": "https://localhost:8080/",
          "height": 281
        },
        "id": "Tsk67MM1OJF-",
        "outputId": "df09b17e-9fbc-4ba9-d56e-13a1716bf0e0"
      },
      "source": [
        "#plotting the rmse values (y) against k values (x)\n",
        "curve = pd.DataFrame(rmse_val) #elbow curve \n",
        "curve.plot()"
      ],
      "execution_count": null,
      "outputs": [
        {
          "output_type": "execute_result",
          "data": {
            "text/plain": [
              "<matplotlib.axes._subplots.AxesSubplot at 0x7fb927d88590>"
            ]
          },
          "metadata": {
            "tags": []
          },
          "execution_count": 117
        },
        {
          "output_type": "display_data",
          "data": {
            "image/png": "[encoded data removed]",
            "text/plain": [
              "<Figure size 432x288 with 1 Axes>"
            ]
          },
          "metadata": {
            "tags": [],
            "needs_background": "light"
          }
        }
      ]
    },
    {
      "cell_type": "code",
      "metadata": {
        "colab": {
          "base_uri": "https://localhost:8080/"
        },
        "id": "S7N56sNiOJF-",
        "outputId": "edbc1b48-5b44-4951-939d-1ef59d5dd0b6"
      },
      "source": [
        "#set model with ideal hyperparameters from above\n",
        "cat_no_outliers_knn = cat_no_outliers_knn_grid.best_estimator_\n",
        "\n",
        "cat_no_outliers_knn.fit(X_train, y_train)\n",
        "\n",
        "#cross validate\n",
        "cat_no_outliers_knn_scores = cross_val_score(cat_no_outliers_knn, X_train, y_train, cv = 5)\n",
        "\n",
        "print('Accuracy Scores for the 5 folds: ', cat_no_outliers_knn_scores)\n",
        "print('Mean Cross Validation Score: {:.33f}'.format(np.mean(cat_no_outliers_knn_scores)))"
      ],
      "execution_count": null,
      "outputs": [
        {
          "output_type": "stream",
          "text": [
            "Accuracy Scores for the 5 folds:  [0.54668226 0.47760394 0.53774327 0.49424289 0.47362095]\n",
            "Mean Cross Validation Score: 0.505978663476588153002921899314970\n"
          ],
          "name": "stdout"
        }
      ]
    },
    {
      "cell_type": "code",
      "metadata": {
        "colab": {
          "base_uri": "https://localhost:8080/",
          "height": 108
        },
        "id": "RBuLetv_OJF_",
        "outputId": "68c56660-1422-4fa1-e3cf-2c9a704a5f8d"
      },
      "source": [
        "#generate predictions\n",
        "cat_no_outliers_knn_preds = cat_no_outliers_knn.predict(X_test)\n",
        "\n",
        "#more performance metrics\n",
        "cat_no_outliers_knn_rsquared_train = cat_no_outliers_knn.score(X_train, y_train)\n",
        "cat_no_outliers_knn_rsquared_test = cat_no_outliers_knn.score(X_test, y_test)\n",
        "cat_no_outliers_knn_mae = mean_absolute_error(y_test, cat_no_outliers_knn_preds)\n",
        "cat_no_outliers_knn_mse = mse(y_test, cat_no_outliers_knn_preds)\n",
        "cat_no_outliers_knn_rmse = rmse(y_test, cat_no_outliers_knn_preds)\n",
        "cat_no_outliers_knn_mape = np.mean(np.abs((y_test - cat_no_outliers_knn_preds)/y_test)*100)\n",
        "cat_no_outliers_knn_rmspe = (np.sqrt(np.mean(np.square((y_test - cat_no_outliers_knn_preds) / y_test)))) * 100\n",
        "cat_no_outliers_knn_model_name = 'Categories w/o Outliers KNN'\n",
        "\n",
        "#create easily readable display of performance metrics\n",
        "cat_no_outliers_knn_dictionary = {'Model': cat_no_outliers_knn_model_name,\n",
        "  'Training Set R Squared': cat_no_outliers_knn_rsquared_train, \n",
        "  'Test Set R Squared': cat_no_outliers_knn_rsquared_test, 'Mean Absolute Error': cat_no_outliers_knn_mae, \n",
        "  'Mean Sqaured Error': cat_no_outliers_knn_mse, 'Root Mean Squared Error': cat_no_outliers_knn_rmse,\n",
        "  'Root Mean Squared Percentage Error': cat_no_outliers_knn_rmspe,\n",
        "  'Mean Absolute Percentage Error': cat_no_outliers_knn_mape}\n",
        "\n",
        "cat_no_outliers_knn_df = pd.DataFrame(cat_no_outliers_knn_dictionary, index=[0])\n",
        "\n",
        "cat_no_outliers_knn_df"
      ],
      "execution_count": null,
      "outputs": [
        {
          "output_type": "execute_result",
          "data": {
            "text/html": [
              "<div>\n",
              "<style scoped>\n",
              "    .dataframe tbody tr th:only-of-type {\n",
              "        vertical-align: middle;\n",
              "    }\n",
              "\n",
              "    .dataframe tbody tr th {\n",
              "        vertical-align: top;\n",
              "    }\n",
              "\n",
              "    .dataframe thead th {\n",
              "        text-align: right;\n",
              "    }\n",
              "</style>\n",
              "<table border=\"1\" class=\"dataframe\">\n",
              "  <thead>\n",
              "    <tr style=\"text-align: right;\">\n",
              "      <th></th>\n",
              "      <th>Model</th>\n",
              "      <th>Training Set R Squared</th>\n",
              "      <th>Test Set R Squared</th>\n",
              "      <th>Mean Absolute Error</th>\n",
              "      <th>Mean Sqaured Error</th>\n",
              "      <th>Root Mean Squared Error</th>\n",
              "      <th>Root Mean Squared Percentage Error</th>\n",
              "      <th>Mean Absolute Percentage Error</th>\n",
              "    </tr>\n",
              "  </thead>\n",
              "  <tbody>\n",
              "    <tr>\n",
              "      <th>0</th>\n",
              "      <td>Categories w/o Outliers KNN</td>\n",
              "      <td>0.985148</td>\n",
              "      <td>0.523199</td>\n",
              "      <td>16354.864443</td>\n",
              "      <td>4.915838e+08</td>\n",
              "      <td>22171.68841</td>\n",
              "      <td>26.564941</td>\n",
              "      <td>18.755134</td>\n",
              "    </tr>\n",
              "  </tbody>\n",
              "</table>\n",
              "</div>"
            ],
            "text/plain": [
              "                         Model  ...  Mean Absolute Percentage Error\n",
              "0  Categories w/o Outliers KNN  ...                       18.755134\n",
              "\n",
              "[1 rows x 8 columns]"
            ]
          },
          "metadata": {
            "tags": []
          },
          "execution_count": 119
        }
      ]
    },
    {
      "cell_type": "markdown",
      "metadata": {
        "id": "47kRHyhPOJF_"
      },
      "source": [
        "### **yrs_exp_no_outliers_df**"
      ]
    },
    {
      "cell_type": "code",
      "metadata": {
        "colab": {
          "base_uri": "https://localhost:8080/"
        },
        "id": "nVrMrLiJOJF_",
        "outputId": "59bb30f6-ffbe-4c98-b93c-5401a67c0caf"
      },
      "source": [
        "#set features & target\n",
        "X = yrs_exp_no_outliers_df.drop(columns=['avg_sal', 'log_avg_sal'])\n",
        "y = yrs_exp_no_outliers_df['avg_sal']\n",
        "\n",
        "#split data into training & test sets\n",
        "X_train, X_test, y_train, y_test = train_test_split(X, y, test_size = 0.2, random_state = 43)\n",
        "\n",
        "#Use grid search to find best hyperparameters\n",
        "# defining parameter range \n",
        "param_grid = {'n_neighbors': [2, 4, 6, 8, 10, 12, 15],  \n",
        "              'weights': ['uniform', 'distance'], \n",
        "              'metric': ['euclidean', 'manhattan']}  \n",
        "  \n",
        "years_exp_no_outliers_knn_grid = GridSearchCV(KNeighborsRegressor(), param_grid, refit = True, verbose=1) \n",
        "  \n",
        "# fitting the model for grid search \n",
        "years_exp_no_outliers_knn_grid.fit(X_train, y_train) \n",
        "# print best parameter after tuning \n",
        "print(years_exp_no_outliers_knn_grid.best_params_) \n",
        "  \n",
        "# print how our model looks after hyper-parameter tuning \n",
        "print(years_exp_no_outliers_knn_grid.best_estimator_) "
      ],
      "execution_count": null,
      "outputs": [
        {
          "output_type": "stream",
          "text": [
            "Fitting 5 folds for each of 28 candidates, totalling 140 fits\n"
          ],
          "name": "stdout"
        },
        {
          "output_type": "stream",
          "text": [
            "[Parallel(n_jobs=1)]: Using backend SequentialBackend with 1 concurrent workers.\n"
          ],
          "name": "stderr"
        },
        {
          "output_type": "stream",
          "text": [
            "{'metric': 'manhattan', 'n_neighbors': 15, 'weights': 'distance'}\n",
            "KNeighborsRegressor(algorithm='auto', leaf_size=30, metric='manhattan',\n",
            "                    metric_params=None, n_jobs=None, n_neighbors=15, p=2,\n",
            "                    weights='distance')\n"
          ],
          "name": "stdout"
        },
        {
          "output_type": "stream",
          "text": [
            "[Parallel(n_jobs=1)]: Done 140 out of 140 | elapsed:    6.3s finished\n"
          ],
          "name": "stderr"
        }
      ]
    },
    {
      "cell_type": "code",
      "metadata": {
        "colab": {
          "base_uri": "https://localhost:8080/"
        },
        "id": "ZdFYpw7HOJGA",
        "outputId": "f533726d-c9d1-4c70-b7d8-93c5b807b50d"
      },
      "source": [
        "#validate best value for k\n",
        "rmse_val = [] #to store rmse values for different k\n",
        "for K in range (20):\n",
        "  K = K+1\n",
        "  model = KNeighborsRegressor(algorithm='auto', leaf_size=30, metric='manhattan',\n",
        "                    metric_params=None, n_jobs=None, n_neighbors=K, p=2,\n",
        "                    weights='distance')\n",
        "  model.fit(X_train, y_train) #fit the model\n",
        "  preds = model.predict(X_test) #make predictions on test set\n",
        "  error = rmse(y_test, preds) #calculate rmse\n",
        "  rmse_val.append(error) #store rmse values\n",
        "  print('RMSe Value for K= ', K, 'is ', error)"
      ],
      "execution_count": null,
      "outputs": [
        {
          "output_type": "stream",
          "text": [
            "RMSe Value for K=  1 is  28885.20298631841\n",
            "RMSe Value for K=  2 is  25230.602640165238\n",
            "RMSe Value for K=  3 is  23853.87064598843\n",
            "RMSe Value for K=  4 is  23216.72241649365\n",
            "RMSe Value for K=  5 is  22901.822174909372\n",
            "RMSe Value for K=  6 is  22723.404085757582\n",
            "RMSe Value for K=  7 is  22438.824929457565\n",
            "RMSe Value for K=  8 is  22439.058056855403\n",
            "RMSe Value for K=  9 is  22228.238943005814\n",
            "RMSe Value for K=  10 is  22093.412990561766\n",
            "RMSe Value for K=  11 is  22106.26501807345\n",
            "RMSe Value for K=  12 is  22090.309161643854\n",
            "RMSe Value for K=  13 is  22124.245974723966\n",
            "RMSe Value for K=  14 is  22076.742821567565\n",
            "RMSe Value for K=  15 is  22116.67332065157\n",
            "RMSe Value for K=  16 is  22040.530338652225\n",
            "RMSe Value for K=  17 is  22080.451587025756\n",
            "RMSe Value for K=  18 is  22042.96299259739\n",
            "RMSe Value for K=  19 is  22012.804791090002\n",
            "RMSe Value for K=  20 is  21997.174496612002\n"
          ],
          "name": "stdout"
        }
      ]
    },
    {
      "cell_type": "code",
      "metadata": {
        "colab": {
          "base_uri": "https://localhost:8080/",
          "height": 281
        },
        "id": "T5njMSk3OJGA",
        "outputId": "f590fad5-6f55-43e4-9007-faf2f19dc3e6"
      },
      "source": [
        "#plotting the rmse values (y) against k values (x)\n",
        "curve = pd.DataFrame(rmse_val) #elbow curve \n",
        "curve.plot()"
      ],
      "execution_count": null,
      "outputs": [
        {
          "output_type": "execute_result",
          "data": {
            "text/plain": [
              "<matplotlib.axes._subplots.AxesSubplot at 0x7fb92838dad0>"
            ]
          },
          "metadata": {
            "tags": []
          },
          "execution_count": 122
        },
        {
          "output_type": "display_data",
          "data": {
            "image/png": "[encoded data removed]",
            "text/plain": [
              "<Figure size 432x288 with 1 Axes>"
            ]
          },
          "metadata": {
            "tags": [],
            "needs_background": "light"
          }
        }
      ]
    },
    {
      "cell_type": "code",
      "metadata": {
        "colab": {
          "base_uri": "https://localhost:8080/"
        },
        "id": "OL-z9MTaOJGA",
        "outputId": "5d055f93-b50c-435e-d26f-4b0100345314"
      },
      "source": [
        "#set model with ideal hyperparameters from above\n",
        "years_exp_no_outliers_knn = years_exp_no_outliers_knn_grid.best_estimator_\n",
        "\n",
        "years_exp_no_outliers_knn.fit(X_train, y_train)\n",
        "\n",
        "#cross validate\n",
        "years_exp_no_outliers_knn_scores = cross_val_score(years_exp_no_outliers_knn, X_train, y_train, cv = 5)\n",
        "\n",
        "print('Accuracy Scores for the 5 folds: ', years_exp_no_outliers_knn_scores)\n",
        "print('Mean Cross Validation Score: {:.33f}'.format(np.mean(years_exp_no_outliers_knn_scores)))"
      ],
      "execution_count": null,
      "outputs": [
        {
          "output_type": "stream",
          "text": [
            "Accuracy Scores for the 5 folds:  [0.53051502 0.53560168 0.56595458 0.46175927 0.55019136]\n",
            "Mean Cross Validation Score: 0.528804380537997165134811439202167\n"
          ],
          "name": "stdout"
        }
      ]
    },
    {
      "cell_type": "code",
      "metadata": {
        "colab": {
          "base_uri": "https://localhost:8080/",
          "height": 108
        },
        "id": "BoS5sHQnOJGA",
        "outputId": "74f4a5f5-65e7-4f94-8c0c-f44bb329de8e"
      },
      "source": [
        "#generate predictions\n",
        "years_exp_no_outliers_knn_preds = years_exp_no_outliers_knn.predict(X_test)\n",
        "\n",
        "#more performance metrics\n",
        "years_exp_no_outliers_knn_rsquared_train = years_exp_no_outliers_knn.score(X_train, y_train)\n",
        "years_exp_no_outliers_knn_rsquared_test = years_exp_no_outliers_knn.score(X_test, y_test)\n",
        "years_exp_no_outliers_knn_mae = mean_absolute_error(y_test, years_exp_no_outliers_knn_preds)\n",
        "years_exp_no_outliers_knn_mse = mse(y_test, years_exp_no_outliers_knn_preds)\n",
        "years_exp_no_outliers_knn_rmse = rmse(y_test, years_exp_no_outliers_knn_preds)\n",
        "years_exp_no_outliers_knn_mape = np.mean(np.abs((y_test - years_exp_no_outliers_knn_preds)/y_test)*100)\n",
        "years_exp_no_outliers_knn_rmspe = (np.sqrt(np.mean(np.square((y_test - years_exp_no_outliers_knn_preds) / y_test)))) * 100\n",
        "years_exp_no_outliers_knn_model_name = 'Years of Experience w/o Outliers KNN'\n",
        "\n",
        "#create easily readable display of performance metrics\n",
        "years_exp_no_outliers_knn_dictionary = {'Model': years_exp_no_outliers_knn_model_name,\n",
        "  'Training Set R Squared': years_exp_no_outliers_knn_rsquared_train, \n",
        "  'Test Set R Squared': years_exp_no_outliers_knn_rsquared_test, 'Mean Absolute Error': years_exp_no_outliers_knn_mae, \n",
        "  'Mean Sqaured Error': years_exp_no_outliers_knn_mse, 'Root Mean Squared Error': years_exp_no_outliers_knn_rmse,\n",
        "  'Root Mean Squared Percentage Error': years_exp_no_outliers_knn_rmspe,\n",
        "  'Mean Absolute Percentage Error': years_exp_no_outliers_knn_mape}\n",
        "\n",
        "years_exp_no_outliers_knn_df = pd.DataFrame(years_exp_no_outliers_knn_dictionary, index=[0])\n",
        "\n",
        "years_exp_no_outliers_knn_df"
      ],
      "execution_count": null,
      "outputs": [
        {
          "output_type": "execute_result",
          "data": {
            "text/html": [
              "<div>\n",
              "<style scoped>\n",
              "    .dataframe tbody tr th:only-of-type {\n",
              "        vertical-align: middle;\n",
              "    }\n",
              "\n",
              "    .dataframe tbody tr th {\n",
              "        vertical-align: top;\n",
              "    }\n",
              "\n",
              "    .dataframe thead th {\n",
              "        text-align: right;\n",
              "    }\n",
              "</style>\n",
              "<table border=\"1\" class=\"dataframe\">\n",
              "  <thead>\n",
              "    <tr style=\"text-align: right;\">\n",
              "      <th></th>\n",
              "      <th>Model</th>\n",
              "      <th>Training Set R Squared</th>\n",
              "      <th>Test Set R Squared</th>\n",
              "      <th>Mean Absolute Error</th>\n",
              "      <th>Mean Sqaured Error</th>\n",
              "      <th>Root Mean Squared Error</th>\n",
              "      <th>Root Mean Squared Percentage Error</th>\n",
              "      <th>Mean Absolute Percentage Error</th>\n",
              "    </tr>\n",
              "  </thead>\n",
              "  <tbody>\n",
              "    <tr>\n",
              "      <th>0</th>\n",
              "      <td>Years of Experience w/o Outliers KNN</td>\n",
              "      <td>0.985112</td>\n",
              "      <td>0.486631</td>\n",
              "      <td>15898.365136</td>\n",
              "      <td>4.891472e+08</td>\n",
              "      <td>22116.673321</td>\n",
              "      <td>25.145015</td>\n",
              "      <td>17.773036</td>\n",
              "    </tr>\n",
              "  </tbody>\n",
              "</table>\n",
              "</div>"
            ],
            "text/plain": [
              "                                  Model  ...  Mean Absolute Percentage Error\n",
              "0  Years of Experience w/o Outliers KNN  ...                       17.773036\n",
              "\n",
              "[1 rows x 8 columns]"
            ]
          },
          "metadata": {
            "tags": []
          },
          "execution_count": 124
        }
      ]
    },
    {
      "cell_type": "markdown",
      "metadata": {
        "id": "YpiXWCYSOJGB"
      },
      "source": [
        "### **cat_no_outliers_df log(y)**"
      ]
    },
    {
      "cell_type": "code",
      "metadata": {
        "colab": {
          "base_uri": "https://localhost:8080/"
        },
        "id": "MCyHT8KnOJGB",
        "outputId": "25a0ed1b-bb46-47d9-b8f5-ade12905ba17"
      },
      "source": [
        "#set features & target\n",
        "X = cat_no_outliers_df.drop(columns=['avg_sal', 'log_avg_sal'])\n",
        "y = cat_no_outliers_df['log_avg_sal']\n",
        "\n",
        "#split data into training & test sets\n",
        "X_train, X_test, y_train, y_test = train_test_split(X, y, test_size = 0.2, random_state = 43)\n",
        "\n",
        "#Use grid search to find best hyperparameters\n",
        "# defining parameter range \n",
        "param_grid = {'n_neighbors': [2, 4, 6, 8, 10, 12, 15],  \n",
        "              'weights': ['uniform', 'distance'], \n",
        "              'metric': ['euclidean', 'manhattan']}  \n",
        "  \n",
        "log_cat_no_outliers_knn_grid = GridSearchCV(KNeighborsRegressor(), param_grid, refit = True, verbose=1) \n",
        "  \n",
        "# fitting the model for grid search \n",
        "log_cat_no_outliers_knn_grid.fit(X_train, y_train) \n",
        "# print best parameter after tuning \n",
        "print(log_cat_no_outliers_knn_grid.best_params_) \n",
        "  \n",
        "# print how our model looks after hyper-parameter tuning \n",
        "print(log_cat_no_outliers_knn_grid.best_estimator_) "
      ],
      "execution_count": null,
      "outputs": [
        {
          "output_type": "stream",
          "text": [
            "Fitting 5 folds for each of 28 candidates, totalling 140 fits\n"
          ],
          "name": "stdout"
        },
        {
          "output_type": "stream",
          "text": [
            "[Parallel(n_jobs=1)]: Using backend SequentialBackend with 1 concurrent workers.\n"
          ],
          "name": "stderr"
        },
        {
          "output_type": "stream",
          "text": [
            "{'metric': 'manhattan', 'n_neighbors': 15, 'weights': 'distance'}\n",
            "KNeighborsRegressor(algorithm='auto', leaf_size=30, metric='manhattan',\n",
            "                    metric_params=None, n_jobs=None, n_neighbors=15, p=2,\n",
            "                    weights='distance')\n"
          ],
          "name": "stdout"
        },
        {
          "output_type": "stream",
          "text": [
            "[Parallel(n_jobs=1)]: Done 140 out of 140 | elapsed:    8.4s finished\n"
          ],
          "name": "stderr"
        }
      ]
    },
    {
      "cell_type": "code",
      "metadata": {
        "colab": {
          "base_uri": "https://localhost:8080/"
        },
        "id": "j2JSIK3cOJGB",
        "outputId": "f72e57c0-c221-403e-bdc3-155104ae4885"
      },
      "source": [
        "#validate best value for k\n",
        "rmse_val = [] #to store rmse values for different k\n",
        "for K in range (20):\n",
        "  K = K+1\n",
        "  model = KNeighborsRegressor(algorithm='auto', leaf_size=30, metric='manhattan',\n",
        "                    metric_params=None, n_jobs=None, n_neighbors=K, p=2,\n",
        "                    weights='distance')\n",
        "  model.fit(X_train, y_train) #fit the model\n",
        "  preds = model.predict(X_test) #make predictions on test set\n",
        "  error = rmse(y_test, preds) #calculate rmse\n",
        "  rmse_val.append(error) #store rmse values\n",
        "  print('RMSe Value for K= ', K, 'is ', error)"
      ],
      "execution_count": null,
      "outputs": [
        {
          "output_type": "stream",
          "text": [
            "RMSe Value for K=  1 is  0.30534326769824566\n",
            "RMSe Value for K=  2 is  0.26747015857531875\n",
            "RMSe Value for K=  3 is  0.2513476133559291\n",
            "RMSe Value for K=  4 is  0.24570198507642013\n",
            "RMSe Value for K=  5 is  0.2433796013393878\n",
            "RMSe Value for K=  6 is  0.24166225429150656\n",
            "RMSe Value for K=  7 is  0.24075831292815483\n",
            "RMSe Value for K=  8 is  0.24047979260858546\n",
            "RMSe Value for K=  9 is  0.23986932441921527\n",
            "RMSe Value for K=  10 is  0.23948694037912102\n",
            "RMSe Value for K=  11 is  0.2395048843469539\n",
            "RMSe Value for K=  12 is  0.23890123658945106\n",
            "RMSe Value for K=  13 is  0.2393033407670956\n",
            "RMSe Value for K=  14 is  0.2390597232697915\n",
            "RMSe Value for K=  15 is  0.23950943249900344\n",
            "RMSe Value for K=  16 is  0.2399857198089177\n",
            "RMSe Value for K=  17 is  0.23987851085627496\n",
            "RMSe Value for K=  18 is  0.23962692059141402\n",
            "RMSe Value for K=  19 is  0.23952281438169076\n",
            "RMSe Value for K=  20 is  0.23896100046688334\n"
          ],
          "name": "stdout"
        }
      ]
    },
    {
      "cell_type": "code",
      "metadata": {
        "colab": {
          "base_uri": "https://localhost:8080/",
          "height": 281
        },
        "id": "6N3qMDjZOJGC",
        "outputId": "8220c1c1-eff8-45f8-ee0b-2b8f7b070add"
      },
      "source": [
        "#plotting the rmse values (y) against k values (x)\n",
        "curve = pd.DataFrame(rmse_val) #elbow curve \n",
        "curve.plot()"
      ],
      "execution_count": null,
      "outputs": [
        {
          "output_type": "execute_result",
          "data": {
            "text/plain": [
              "<matplotlib.axes._subplots.AxesSubplot at 0x7fb92809b910>"
            ]
          },
          "metadata": {
            "tags": []
          },
          "execution_count": 131
        },
        {
          "output_type": "display_data",
          "data": {
            "image/png": "[encoded data removed]",
            "text/plain": [
              "<Figure size 432x288 with 1 Axes>"
            ]
          },
          "metadata": {
            "tags": [],
            "needs_background": "light"
          }
        }
      ]
    },
    {
      "cell_type": "code",
      "metadata": {
        "colab": {
          "base_uri": "https://localhost:8080/"
        },
        "id": "n6-zzsogOJGC",
        "outputId": "658c4b26-8c3e-4cda-e65c-5a0d6d9d4310"
      },
      "source": [
        "#set model with ideal hyperparameters from above\n",
        "log_cat_no_outliers_knn = log_cat_no_outliers_knn_grid.best_estimator_\n",
        "\n",
        "log_cat_no_outliers_knn.fit(X_train, y_train)\n",
        "\n",
        "#cross validate\n",
        "log_cat_no_outliers_knn_scores = cross_val_score(log_cat_no_outliers_knn, X_train, y_train, cv = 5)\n",
        "\n",
        "print('Accuracy Scores for the 5 folds: ', log_cat_no_outliers_knn_scores)\n",
        "print('Mean Cross Validation Score: {:.33f}'.format(np.mean(log_cat_no_outliers_knn_scores)))"
      ],
      "execution_count": null,
      "outputs": [
        {
          "output_type": "stream",
          "text": [
            "Accuracy Scores for the 5 folds:  [0.54927783 0.47782989 0.53870858 0.50797221 0.4947759 ]\n",
            "Mean Cross Validation Score: 0.513712882993474839743441862083273\n"
          ],
          "name": "stdout"
        }
      ]
    },
    {
      "cell_type": "code",
      "metadata": {
        "colab": {
          "base_uri": "https://localhost:8080/",
          "height": 108
        },
        "id": "eZGLRvgbOJGC",
        "outputId": "fe32177a-681c-4725-f8d8-74da061b98c9"
      },
      "source": [
        "#generate predictions\n",
        "log_cat_no_outliers_knn_preds = log_cat_no_outliers_knn.predict(X_test)\n",
        "\n",
        "#more performance metrics\n",
        "log_cat_no_outliers_knn_rsquared_train = log_cat_no_outliers_knn.score(X_train, y_train)\n",
        "log_cat_no_outliers_knn_rsquared_test = log_cat_no_outliers_knn.score(X_test, y_test)\n",
        "log_cat_no_outliers_knn_mae = mean_absolute_error(y_test, log_cat_no_outliers_knn_preds)\n",
        "log_cat_no_outliers_knn_mse = mse(y_test, log_cat_no_outliers_knn_preds)\n",
        "log_cat_no_outliers_knn_rmse = rmse(y_test, log_cat_no_outliers_knn_preds)\n",
        "log_cat_no_outliers_knn_mape = np.mean(np.abs((y_test - log_cat_no_outliers_knn_preds)/y_test)*100)\n",
        "log_cat_no_outliers_knn_rmspe = (np.sqrt(np.mean(np.square((y_test - log_cat_no_outliers_knn_preds) / y_test)))) * 100\n",
        "log_cat_no_outliers_knn_model_name = 'Categories w/o Outliers KNN Log(y)'\n",
        "\n",
        "#create easily readable display of performance metrics\n",
        "log_cat_no_outliers_knn_dictionary = {'Model': log_cat_no_outliers_knn_model_name,\n",
        "  'Training Set R Squared': log_cat_no_outliers_knn_rsquared_train, \n",
        "  'Test Set R Squared': log_cat_no_outliers_knn_rsquared_test, 'Mean Absolute Error': log_cat_no_outliers_knn_mae, \n",
        "  'Mean Sqaured Error': log_cat_no_outliers_knn_mse, 'Root Mean Squared Error': log_cat_no_outliers_knn_rmse,\n",
        "  'Root Mean Squared Percentage Error': log_cat_no_outliers_knn_rmspe,\n",
        "  'Mean Absolute Percentage Error': log_cat_no_outliers_knn_mape}\n",
        "\n",
        "log_cat_no_outliers_knn_df = pd.DataFrame(log_cat_no_outliers_knn_dictionary, index=[0])\n",
        "\n",
        "log_cat_no_outliers_knn_df"
      ],
      "execution_count": null,
      "outputs": [
        {
          "output_type": "execute_result",
          "data": {
            "text/html": [
              "<div>\n",
              "<style scoped>\n",
              "    .dataframe tbody tr th:only-of-type {\n",
              "        vertical-align: middle;\n",
              "    }\n",
              "\n",
              "    .dataframe tbody tr th {\n",
              "        vertical-align: top;\n",
              "    }\n",
              "\n",
              "    .dataframe thead th {\n",
              "        text-align: right;\n",
              "    }\n",
              "</style>\n",
              "<table border=\"1\" class=\"dataframe\">\n",
              "  <thead>\n",
              "    <tr style=\"text-align: right;\">\n",
              "      <th></th>\n",
              "      <th>Model</th>\n",
              "      <th>Training Set R Squared</th>\n",
              "      <th>Test Set R Squared</th>\n",
              "      <th>Mean Absolute Error</th>\n",
              "      <th>Mean Sqaured Error</th>\n",
              "      <th>Root Mean Squared Error</th>\n",
              "      <th>Root Mean Squared Percentage Error</th>\n",
              "      <th>Mean Absolute Percentage Error</th>\n",
              "    </tr>\n",
              "  </thead>\n",
              "  <tbody>\n",
              "    <tr>\n",
              "      <th>0</th>\n",
              "      <td>Categories w/o Outliers KNN Log(y)</td>\n",
              "      <td>0.986566</td>\n",
              "      <td>0.515524</td>\n",
              "      <td>0.179869</td>\n",
              "      <td>0.057365</td>\n",
              "      <td>0.239509</td>\n",
              "      <td>2.111973</td>\n",
              "      <td>1.581618</td>\n",
              "    </tr>\n",
              "  </tbody>\n",
              "</table>\n",
              "</div>"
            ],
            "text/plain": [
              "                                Model  ...  Mean Absolute Percentage Error\n",
              "0  Categories w/o Outliers KNN Log(y)  ...                        1.581618\n",
              "\n",
              "[1 rows x 8 columns]"
            ]
          },
          "metadata": {
            "tags": []
          },
          "execution_count": 134
        }
      ]
    },
    {
      "cell_type": "markdown",
      "metadata": {
        "id": "Odc-rKaXOJGD"
      },
      "source": [
        "### **yrs_exp_no_outliers_df log(y)**"
      ]
    },
    {
      "cell_type": "code",
      "metadata": {
        "colab": {
          "base_uri": "https://localhost:8080/"
        },
        "id": "nP82Qkr2OJGD",
        "outputId": "44e34d8d-3402-47cf-8ab7-39ff7c691687"
      },
      "source": [
        "#set features & target\n",
        "X = yrs_exp_no_outliers_df.drop(columns=['avg_sal', 'log_avg_sal'])\n",
        "y = yrs_exp_no_outliers_df['log_avg_sal']\n",
        "\n",
        "#split data into training & test sets\n",
        "X_train, X_test, y_train, y_test = train_test_split(X, y, test_size = 0.2, random_state = 43)\n",
        "\n",
        "#Use grid search to find best hyperparameters\n",
        "# defining parameter range \n",
        "param_grid = {'n_neighbors': [2, 4, 6, 8, 10, 12, 15],  \n",
        "              'weights': ['uniform', 'distance'], \n",
        "              'metric': ['euclidean', 'manhattan']}  \n",
        "  \n",
        "log_years_exp_no_outliers_knn_grid = GridSearchCV(KNeighborsRegressor(), param_grid, refit = True, verbose=1) \n",
        "  \n",
        "# fitting the model for grid search \n",
        "log_years_exp_no_outliers_knn_grid.fit(X_train, y_train) \n",
        "# print best parameter after tuning \n",
        "print(log_years_exp_no_outliers_knn_grid.best_params_) \n",
        "  \n",
        "# print how our model looks after hyper-parameter tuning \n",
        "print(log_years_exp_no_outliers_knn_grid.best_estimator_) "
      ],
      "execution_count": null,
      "outputs": [
        {
          "output_type": "stream",
          "text": [
            "Fitting 5 folds for each of 28 candidates, totalling 140 fits\n"
          ],
          "name": "stdout"
        },
        {
          "output_type": "stream",
          "text": [
            "[Parallel(n_jobs=1)]: Using backend SequentialBackend with 1 concurrent workers.\n"
          ],
          "name": "stderr"
        },
        {
          "output_type": "stream",
          "text": [
            "{'metric': 'manhattan', 'n_neighbors': 15, 'weights': 'distance'}\n",
            "KNeighborsRegressor(algorithm='auto', leaf_size=30, metric='manhattan',\n",
            "                    metric_params=None, n_jobs=None, n_neighbors=15, p=2,\n",
            "                    weights='distance')\n"
          ],
          "name": "stdout"
        },
        {
          "output_type": "stream",
          "text": [
            "[Parallel(n_jobs=1)]: Done 140 out of 140 | elapsed:    6.3s finished\n"
          ],
          "name": "stderr"
        }
      ]
    },
    {
      "cell_type": "code",
      "metadata": {
        "colab": {
          "base_uri": "https://localhost:8080/"
        },
        "id": "q-0czH_nOJGD",
        "outputId": "9d332306-e783-450a-a925-c600388c8e36"
      },
      "source": [
        "#validate best value for k\n",
        "rmse_val = [] #to store rmse values for different k\n",
        "for K in range (20):\n",
        "  K = K+1\n",
        "  model = KNeighborsRegressor(algorithm='auto', leaf_size=30, metric='manhattan',\n",
        "                    metric_params=None, n_jobs=None, n_neighbors=K, p=2,\n",
        "                    weights='distance')\n",
        "  model.fit(X_train, y_train) #fit the model\n",
        "  preds = model.predict(X_test) #make predictions on test set\n",
        "  error = rmse(y_test, preds) #calculate rmse\n",
        "  rmse_val.append(error) #store rmse values\n",
        "  print('RMSe Value for K= ', K, 'is ', error)"
      ],
      "execution_count": null,
      "outputs": [
        {
          "output_type": "stream",
          "text": [
            "RMSe Value for K=  1 is  0.3081856948124604\n",
            "RMSe Value for K=  2 is  0.2664576199561255\n",
            "RMSe Value for K=  3 is  0.2516058894889153\n",
            "RMSe Value for K=  4 is  0.24446545737383735\n",
            "RMSe Value for K=  5 is  0.24108903358373554\n",
            "RMSe Value for K=  6 is  0.23860339421849075\n",
            "RMSe Value for K=  7 is  0.23573357707254003\n",
            "RMSe Value for K=  8 is  0.23542076215939334\n",
            "RMSe Value for K=  9 is  0.23277933194365447\n",
            "RMSe Value for K=  10 is  0.2315887816702676\n",
            "RMSe Value for K=  11 is  0.2316311893348695\n",
            "RMSe Value for K=  12 is  0.23144802993844013\n",
            "RMSe Value for K=  13 is  0.23211587029407432\n",
            "RMSe Value for K=  14 is  0.23212113211245422\n",
            "RMSe Value for K=  15 is  0.23225714568737724\n",
            "RMSe Value for K=  16 is  0.23132363047000404\n",
            "RMSe Value for K=  17 is  0.23159534709564059\n",
            "RMSe Value for K=  18 is  0.23142173935189725\n",
            "RMSe Value for K=  19 is  0.23108237531922196\n",
            "RMSe Value for K=  20 is  0.2311535538336075\n"
          ],
          "name": "stdout"
        }
      ]
    },
    {
      "cell_type": "code",
      "metadata": {
        "colab": {
          "base_uri": "https://localhost:8080/",
          "height": 281
        },
        "id": "4MW93I7rOJGD",
        "outputId": "fd7d833f-a029-4780-e283-dee2d5d897a6"
      },
      "source": [
        "#plotting the rmse values (y) against k values (x)\n",
        "curve = pd.DataFrame(rmse_val) #elbow curve \n",
        "curve.plot()"
      ],
      "execution_count": null,
      "outputs": [
        {
          "output_type": "execute_result",
          "data": {
            "text/plain": [
              "<matplotlib.axes._subplots.AxesSubplot at 0x7fb9280263d0>"
            ]
          },
          "metadata": {
            "tags": []
          },
          "execution_count": 137
        },
        {
          "output_type": "display_data",
          "data": {
            "image/png": "[encoded data removed]",
            "text/plain": [
              "<Figure size 432x288 with 1 Axes>"
            ]
          },
          "metadata": {
            "tags": [],
            "needs_background": "light"
          }
        }
      ]
    },
    {
      "cell_type": "code",
      "metadata": {
        "colab": {
          "base_uri": "https://localhost:8080/"
        },
        "id": "9VRFCeSaOJGD",
        "outputId": "c3f197b0-c932-45ba-c917-62dc4631f266"
      },
      "source": [
        "#set model with ideal hyperparameters from above\n",
        "log_years_exp_no_outliers_knn = log_years_exp_no_outliers_knn_grid.best_estimator_\n",
        "\n",
        "log_years_exp_no_outliers_knn.fit(X_train, y_train)\n",
        "\n",
        "#cross validate\n",
        "log_years_exp_no_outliers_knn_scores = cross_val_score(log_years_exp_no_outliers_knn, X_train, y_train, cv = 5)\n",
        "\n",
        "print('Accuracy Scores for the 5 folds: ', log_years_exp_no_outliers_knn_scores)\n",
        "print('Mean Cross Validation Score: {:.33f}'.format(np.mean(log_years_exp_no_outliers_knn_scores)))"
      ],
      "execution_count": null,
      "outputs": [
        {
          "output_type": "stream",
          "text": [
            "Accuracy Scores for the 5 folds:  [0.55329555 0.54169125 0.5583451  0.45227548 0.54512341]\n",
            "Mean Cross Validation Score: 0.530146158292698621572469619422918\n"
          ],
          "name": "stdout"
        }
      ]
    },
    {
      "cell_type": "code",
      "metadata": {
        "colab": {
          "base_uri": "https://localhost:8080/",
          "height": 108
        },
        "id": "2vbNeSsqOJGE",
        "outputId": "09b1d3b8-7a04-4ba3-b3d4-a41d4f7c9846"
      },
      "source": [
        "#generate predictions\n",
        "log_years_exp_no_outliers_knn_preds = log_years_exp_no_outliers_knn.predict(X_test)\n",
        "\n",
        "#more performance metrics\n",
        "log_years_exp_no_outliers_knn_rsquared_train = log_years_exp_no_outliers_knn.score(X_train, y_train)\n",
        "log_years_exp_no_outliers_knn_rsquared_test = log_years_exp_no_outliers_knn.score(X_test, y_test)\n",
        "log_years_exp_no_outliers_knn_mae = mean_absolute_error(y_test, log_years_exp_no_outliers_knn_preds)\n",
        "log_years_exp_no_outliers_knn_mse = mse(y_test, log_years_exp_no_outliers_knn_preds)\n",
        "log_years_exp_no_outliers_knn_rmse = rmse(y_test, log_years_exp_no_outliers_knn_preds)\n",
        "log_years_exp_no_outliers_knn_mape = np.mean(np.abs((y_test - log_years_exp_no_outliers_knn_preds)/y_test)*100)\n",
        "log_years_exp_no_outliers_knn_rmspe = (np.sqrt(np.mean(np.square((y_test - log_years_exp_no_outliers_knn_preds) / y_test)))) * 100\n",
        "log_years_exp_no_outliers_knn_model_name = 'Years of Experience w/o Outliers KNN Log(y)'\n",
        "\n",
        "#create easily readable display of performance metrics\n",
        "log_years_exp_no_outliers_knn_dictionary = {'Model': log_years_exp_no_outliers_knn_model_name,\n",
        "  'Training Set R Squared': log_years_exp_no_outliers_knn_rsquared_train, \n",
        "  'Test Set R Squared': log_years_exp_no_outliers_knn_rsquared_test, 'Mean Absolute Error': log_years_exp_no_outliers_knn_mae, \n",
        "  'Mean Sqaured Error': log_years_exp_no_outliers_knn_mse, 'Root Mean Squared Error': log_years_exp_no_outliers_knn_rmse,\n",
        "  'Root Mean Squared Percentage Error': log_years_exp_no_outliers_knn_rmspe,\n",
        "  'Mean Absolute Percentage Error': log_years_exp_no_outliers_knn_mape}\n",
        "\n",
        "log_years_exp_no_outliers_knn_df = pd.DataFrame(log_years_exp_no_outliers_knn_dictionary, index=[0])\n",
        "\n",
        "log_years_exp_no_outliers_knn_df"
      ],
      "execution_count": null,
      "outputs": [
        {
          "output_type": "execute_result",
          "data": {
            "text/html": [
              "<div>\n",
              "<style scoped>\n",
              "    .dataframe tbody tr th:only-of-type {\n",
              "        vertical-align: middle;\n",
              "    }\n",
              "\n",
              "    .dataframe tbody tr th {\n",
              "        vertical-align: top;\n",
              "    }\n",
              "\n",
              "    .dataframe thead th {\n",
              "        text-align: right;\n",
              "    }\n",
              "</style>\n",
              "<table border=\"1\" class=\"dataframe\">\n",
              "  <thead>\n",
              "    <tr style=\"text-align: right;\">\n",
              "      <th></th>\n",
              "      <th>Model</th>\n",
              "      <th>Training Set R Squared</th>\n",
              "      <th>Test Set R Squared</th>\n",
              "      <th>Mean Absolute Error</th>\n",
              "      <th>Mean Sqaured Error</th>\n",
              "      <th>Root Mean Squared Error</th>\n",
              "      <th>Root Mean Squared Percentage Error</th>\n",
              "      <th>Mean Absolute Percentage Error</th>\n",
              "    </tr>\n",
              "  </thead>\n",
              "  <tbody>\n",
              "    <tr>\n",
              "      <th>0</th>\n",
              "      <td>Years of Experience w/o Outliers KNN Log(y)</td>\n",
              "      <td>0.986039</td>\n",
              "      <td>0.509919</td>\n",
              "      <td>0.170876</td>\n",
              "      <td>0.053943</td>\n",
              "      <td>0.232257</td>\n",
              "      <td>2.037645</td>\n",
              "      <td>1.499177</td>\n",
              "    </tr>\n",
              "  </tbody>\n",
              "</table>\n",
              "</div>"
            ],
            "text/plain": [
              "                                         Model  ...  Mean Absolute Percentage Error\n",
              "0  Years of Experience w/o Outliers KNN Log(y)  ...                        1.499177\n",
              "\n",
              "[1 rows x 8 columns]"
            ]
          },
          "metadata": {
            "tags": []
          },
          "execution_count": 139
        }
      ]
    },
    {
      "cell_type": "markdown",
      "metadata": {
        "id": "OKBhxU1EzEbV"
      },
      "source": [
        "## **Random Forest**"
      ]
    },
    {
      "cell_type": "markdown",
      "metadata": {
        "id": "lPenY3e2zEbW"
      },
      "source": [
        "### **categories_df**"
      ]
    },
    {
      "cell_type": "code",
      "metadata": {
        "id": "llzXORN7zEbW"
      },
      "source": [
        "#set features & target\n",
        "X = categories_df.drop(columns=['avg_sal', 'log_avg_sal'])\n",
        "y = categories_df['avg_sal']\n",
        "\n",
        "#split data into training & test sets\n",
        "X_train, X_test, y_train, y_test = train_test_split(X, y, test_size = 0.2, random_state = 43)\n",
        "\n",
        "# #Use grid search to find best hyperparameters\n",
        "# # defining parameter range \n",
        "# param_grid = {'bootstrap': [True, False],\n",
        "#  'max_depth': [10, 20, 30, 40, 50, None],\n",
        "#  'max_features': ['auto', 'sqrt'],\n",
        "#  'min_samples_leaf': [1, 2, 4],\n",
        "#  'min_samples_split': [2, 5, 10],\n",
        "#  'n_estimators': [0,20,40,60,80,100,120,140,160,180,200],\n",
        "#  'random_state': [43]}  \n",
        "  \n",
        "# categories_rf_grid = GridSearchCV(RandomForestRegressor(), param_grid, refit = True, verbose=1)\n",
        "# # fitting the model for grid search \n",
        "# categories_rf_grid.fit(X_train, y_train) \n",
        "# # print best parameter after tuning \n",
        "# print(categories_rf_grid.best_params_) \n",
        "  \n",
        "# # print how our model looks after hyper-parameter tuning \n",
        "# print(categories_rf_grid.best_estimator_) "
      ],
      "execution_count": null,
      "outputs": []
    },
    {
      "cell_type": "code",
      "metadata": {
        "colab": {
          "base_uri": "https://localhost:8080/"
        },
        "id": "nnr4rs1VzEbX",
        "outputId": "cb6e697e-2b81-43fb-93d7-dab9ea8c7383"
      },
      "source": [
        "#set model with ideal hyperparameters from above\n",
        "categories_rf = RandomForestRegressor(bootstrap=False, ccp_alpha=0.0, criterion='mse',\n",
        "                      max_depth=20, max_features='sqrt', max_leaf_nodes=None,\n",
        "                      max_samples=None, min_impurity_decrease=0.0,\n",
        "                      min_impurity_split=None, min_samples_leaf=1,\n",
        "                      min_samples_split=2, min_weight_fraction_leaf=0.0,\n",
        "                      n_estimators=200, n_jobs=None, oob_score=False,\n",
        "                      random_state=43, verbose=0, warm_start=False)\n",
        "\n",
        "categories_rf.fit(X_train, y_train)\n",
        "\n",
        "#cross validate\n",
        "categories_rf_scores = cross_val_score(categories_rf, X_train, y_train, cv = 5)\n",
        "\n",
        "print('Accuracy Scores for the 5 folds: ', categories_rf_scores)\n",
        "print('Mean Cross Validation Score: {:.33f}'.format(np.mean(categories_rf_scores)))"
      ],
      "execution_count": null,
      "outputs": [
        {
          "output_type": "stream",
          "text": [
            "Accuracy Scores for the 5 folds:  [0.59101061 0.55864704 0.53172513 0.53614832 0.53279307]\n",
            "Mean Cross Validation Score: 0.550064833577618039761603085935349\n"
          ],
          "name": "stdout"
        }
      ]
    },
    {
      "cell_type": "code",
      "metadata": {
        "colab": {
          "base_uri": "https://localhost:8080/",
          "height": 108
        },
        "id": "jQ9irJEVzEbX",
        "outputId": "fefd574b-0971-49b3-f789-4a9964cce4b9"
      },
      "source": [
        "#generate predictions\n",
        "categories_rf_preds = categories_rf.predict(X_test)\n",
        "\n",
        "#more performance metrics\n",
        "categories_rf_rsquared_train = categories_rf.score(X_train, y_train)\n",
        "categories_rf_rsquared_test = categories_rf.score(X_test, y_test)\n",
        "categories_rf_mae = mean_absolute_error(y_test, categories_rf_preds)\n",
        "categories_rf_mse = mse(y_test, categories_rf_preds)\n",
        "categories_rf_rmse = rmse(y_test, categories_rf_preds)\n",
        "categories_rf_mape = np.mean(np.abs((y_test - categories_rf_preds)/y_test)*100)\n",
        "categories_rf_rmspe = (np.sqrt(np.mean(np.square((y_test - categories_rf_preds) / y_test)))) * 100\n",
        "categories_rf_model_name = 'Categories Random Forest'\n",
        "\n",
        "#create easily readable display of performance metrics\n",
        "categories_rf_dictionary = {'Model': categories_rf_model_name,\n",
        "  'Training Set R Squared': categories_rf_rsquared_train, \n",
        "  'Test Set R Squared': categories_rf_rsquared_test, 'Mean Absolute Error': categories_rf_mae, \n",
        "  'Mean Sqaured Error': categories_rf_mse, 'Root Mean Squared Error': categories_rf_rmse,\n",
        "  'Root Mean Squared Percentage Error': categories_rf_rmspe,\n",
        "  'Mean Absolute Percentage Error': categories_rf_mape}\n",
        "\n",
        "categories_rf_df = pd.DataFrame(categories_rf_dictionary, index=[0])\n",
        "\n",
        "categories_rf_df"
      ],
      "execution_count": null,
      "outputs": [
        {
          "output_type": "execute_result",
          "data": {
            "text/html": [
              "<div>\n",
              "<style scoped>\n",
              "    .dataframe tbody tr th:only-of-type {\n",
              "        vertical-align: middle;\n",
              "    }\n",
              "\n",
              "    .dataframe tbody tr th {\n",
              "        vertical-align: top;\n",
              "    }\n",
              "\n",
              "    .dataframe thead th {\n",
              "        text-align: right;\n",
              "    }\n",
              "</style>\n",
              "<table border=\"1\" class=\"dataframe\">\n",
              "  <thead>\n",
              "    <tr style=\"text-align: right;\">\n",
              "      <th></th>\n",
              "      <th>Model</th>\n",
              "      <th>Training Set R Squared</th>\n",
              "      <th>Test Set R Squared</th>\n",
              "      <th>Mean Absolute Error</th>\n",
              "      <th>Mean Sqaured Error</th>\n",
              "      <th>Root Mean Squared Error</th>\n",
              "      <th>Root Mean Squared Percentage Error</th>\n",
              "      <th>Mean Absolute Percentage Error</th>\n",
              "    </tr>\n",
              "  </thead>\n",
              "  <tbody>\n",
              "    <tr>\n",
              "      <th>0</th>\n",
              "      <td>Categories Random Forest</td>\n",
              "      <td>0.975766</td>\n",
              "      <td>0.600387</td>\n",
              "      <td>15367.506564</td>\n",
              "      <td>4.854282e+08</td>\n",
              "      <td>22032.436267</td>\n",
              "      <td>24.454074</td>\n",
              "      <td>16.955073</td>\n",
              "    </tr>\n",
              "  </tbody>\n",
              "</table>\n",
              "</div>"
            ],
            "text/plain": [
              "                      Model  ...  Mean Absolute Percentage Error\n",
              "0  Categories Random Forest  ...                       16.955073\n",
              "\n",
              "[1 rows x 8 columns]"
            ]
          },
          "metadata": {
            "tags": []
          },
          "execution_count": 142
        }
      ]
    },
    {
      "cell_type": "markdown",
      "metadata": {
        "id": "0cWZ2_hwzEbY"
      },
      "source": [
        "### **yrs_exp_df**"
      ]
    },
    {
      "cell_type": "code",
      "metadata": {
        "id": "PmUwiWyyzEbY"
      },
      "source": [
        "#set features & target\n",
        "X = yrs_exp_df.drop(columns=['avg_sal', 'log_avg_sal'])\n",
        "y = yrs_exp_df['avg_sal']\n",
        "\n",
        "#split data into training & test sets\n",
        "X_train, X_test, y_train, y_test = train_test_split(X, y, test_size = 0.2, random_state = 43)\n",
        "\n",
        "# #Use grid search to find best hyperparameters\n",
        "# # defining parameter range \n",
        "# param_grid = {'bootstrap': [True, False],\n",
        "#  'max_depth': [10, 20, 30, 40, 50, None],\n",
        "#  'max_features': ['auto', 'sqrt'],\n",
        "#  'min_samples_leaf': [1, 2, 4],\n",
        "#  'min_samples_split': [2, 5, 10],\n",
        "#  'n_estimators': [0,20,40,60,80,100,120,140,160,180,200],\n",
        "#  'random_state': [52]}  \n",
        "  \n",
        "# yrs_exp_rf_grid = GridSearchCV(RandomForestRegressor(), param_grid, refit = True, verbose=1)\n",
        "# # fitting the model for grid search \n",
        "# yrs_exp_rf_grid.fit(X_train, y_train) \n",
        "# # print best parameter after tuning \n",
        "# print(yrs_exp_rf_grid.best_params_) \n",
        "  \n",
        "# # print how our model looks after hyper-parameter tuning \n",
        "# print(yrs_exp_rf_grid.best_estimator_) "
      ],
      "execution_count": null,
      "outputs": []
    },
    {
      "cell_type": "code",
      "metadata": {
        "colab": {
          "base_uri": "https://localhost:8080/"
        },
        "id": "g-cRq1WGzEbY",
        "outputId": "991fd837-4558-4fdf-9a10-94a0acfe536e"
      },
      "source": [
        "#set model with ideal hyperparameters from above\n",
        "yrs_exp_rf = RandomForestRegressor(bootstrap=False, ccp_alpha=0.0, criterion='mse',\n",
        "                      max_depth=20, max_features='sqrt', max_leaf_nodes=None,\n",
        "                      max_samples=None, min_impurity_decrease=0.0,\n",
        "                      min_impurity_split=None, min_samples_leaf=1,\n",
        "                      min_samples_split=2, min_weight_fraction_leaf=0.0,\n",
        "                      n_estimators=200, n_jobs=None, oob_score=False,\n",
        "                      random_state=52, verbose=0, warm_start=False)\n",
        "yrs_exp_rf.fit(X_train, y_train)\n",
        "\n",
        "#cross validate\n",
        "yrs_exp_rf_scores = cross_val_score(yrs_exp_rf, X_train, y_train, cv = 5)\n",
        "\n",
        "print('Accuracy Scores for the 5 folds: ', yrs_exp_rf_scores)\n",
        "print('Mean Cross Validation Score: {:.33f}'.format(np.mean(yrs_exp_rf_scores)))"
      ],
      "execution_count": null,
      "outputs": [
        {
          "output_type": "stream",
          "text": [
            "Accuracy Scores for the 5 folds:  [0.56326352 0.55535181 0.54953527 0.52099859 0.5469704 ]\n",
            "Mean Cross Validation Score: 0.547223918568492395664293326262850\n"
          ],
          "name": "stdout"
        }
      ]
    },
    {
      "cell_type": "code",
      "metadata": {
        "colab": {
          "base_uri": "https://localhost:8080/",
          "height": 108
        },
        "id": "MUA9SZ3azEbZ",
        "outputId": "8669ac0d-28b4-4f64-de3c-11131857917a"
      },
      "source": [
        "#generate predictions\n",
        "yrs_exp_rf_preds = yrs_exp_rf.predict(X_test)\n",
        "\n",
        "#more performance metrics\n",
        "yrs_exp_rf_rsquared_train = yrs_exp_rf.score(X_train, y_train)\n",
        "yrs_exp_rf_rsquared_test = yrs_exp_rf.score(X_test, y_test)\n",
        "yrs_exp_rf_mae = mean_absolute_error(y_test, yrs_exp_rf_preds)\n",
        "yrs_exp_rf_mse = mse(y_test, yrs_exp_rf_preds)\n",
        "yrs_exp_rf_rmse = rmse(y_test, yrs_exp_rf_preds)\n",
        "yrs_exp_rf_mape = np.mean(np.abs((y_test - yrs_exp_rf_preds)/y_test)*100)\n",
        "yrs_exp_rf_rmspe = (np.sqrt(np.mean(np.square((y_test - yrs_exp_rf_preds) / y_test)))) * 100\n",
        "yrs_exp_rf_model_name = 'Years of Experience Random Forest'\n",
        "\n",
        "#create easily readable display of performance metrics\n",
        "yrs_exp_rf_dictionary = {'Model': yrs_exp_rf_model_name,\n",
        "  'Training Set R Squared': yrs_exp_rf_rsquared_train, \n",
        "  'Test Set R Squared': yrs_exp_rf_rsquared_test, 'Mean Absolute Error': yrs_exp_rf_mae, \n",
        "  'Mean Sqaured Error': yrs_exp_rf_mse, 'Root Mean Squared Error': yrs_exp_rf_rmse,\n",
        "  'Root Mean Squared Percentage Error': yrs_exp_rf_rmspe,\n",
        "  'Mean Absolute Percentage Error': yrs_exp_rf_mape}\n",
        "\n",
        "yrs_exp_rf_df = pd.DataFrame(yrs_exp_rf_dictionary, index=[0])\n",
        "\n",
        "yrs_exp_rf_df"
      ],
      "execution_count": null,
      "outputs": [
        {
          "output_type": "execute_result",
          "data": {
            "text/html": [
              "<div>\n",
              "<style scoped>\n",
              "    .dataframe tbody tr th:only-of-type {\n",
              "        vertical-align: middle;\n",
              "    }\n",
              "\n",
              "    .dataframe tbody tr th {\n",
              "        vertical-align: top;\n",
              "    }\n",
              "\n",
              "    .dataframe thead th {\n",
              "        text-align: right;\n",
              "    }\n",
              "</style>\n",
              "<table border=\"1\" class=\"dataframe\">\n",
              "  <thead>\n",
              "    <tr style=\"text-align: right;\">\n",
              "      <th></th>\n",
              "      <th>Model</th>\n",
              "      <th>Training Set R Squared</th>\n",
              "      <th>Test Set R Squared</th>\n",
              "      <th>Mean Absolute Error</th>\n",
              "      <th>Mean Sqaured Error</th>\n",
              "      <th>Root Mean Squared Error</th>\n",
              "      <th>Root Mean Squared Percentage Error</th>\n",
              "      <th>Mean Absolute Percentage Error</th>\n",
              "    </tr>\n",
              "  </thead>\n",
              "  <tbody>\n",
              "    <tr>\n",
              "      <th>0</th>\n",
              "      <td>Years of Experience Random Forest</td>\n",
              "      <td>0.976494</td>\n",
              "      <td>0.563798</td>\n",
              "      <td>15528.813267</td>\n",
              "      <td>5.221279e+08</td>\n",
              "      <td>22850.119105</td>\n",
              "      <td>26.742774</td>\n",
              "      <td>17.923973</td>\n",
              "    </tr>\n",
              "  </tbody>\n",
              "</table>\n",
              "</div>"
            ],
            "text/plain": [
              "                               Model  ...  Mean Absolute Percentage Error\n",
              "0  Years of Experience Random Forest  ...                       17.923973\n",
              "\n",
              "[1 rows x 8 columns]"
            ]
          },
          "metadata": {
            "tags": []
          },
          "execution_count": 145
        }
      ]
    },
    {
      "cell_type": "markdown",
      "metadata": {
        "id": "QbYm5SEdryms"
      },
      "source": [
        "### **categories_df log(y)**"
      ]
    },
    {
      "cell_type": "code",
      "metadata": {
        "id": "XyHP-NQRrymu"
      },
      "source": [
        "#set features & target\n",
        "X = categories_df.drop(columns=['avg_sal', 'log_avg_sal'])\n",
        "y = categories_df['log_avg_sal']\n",
        "\n",
        "#split data into training & test sets\n",
        "X_train, X_test, y_train, y_test = train_test_split(X, y, test_size = 0.2, random_state = 43)\n",
        "\n",
        "# #Use grid search to find best hyperparameters\n",
        "# # defining parameter range \n",
        "# param_grid = {'bootstrap': [True, False],\n",
        "#  'max_depth': [10, 20, 30, 40, 50, None],\n",
        "#  'max_features': ['auto', 'sqrt'],\n",
        "#  'min_samples_leaf': [1, 2, 4],\n",
        "#  'min_samples_split': [2, 5, 10],\n",
        "#  'n_estimators': [0,20,40,60,80,100,120,140,160,180,200],\n",
        "#  'random_state': [52]}  \n",
        "  \n",
        "# log_categories_rf_grid = GridSearchCV(RandomForestRegressor(), param_grid, refit = True, verbose=1)\n",
        "# # fitting the model for grid search \n",
        "# log_categories_rf_grid.fit(X_train, y_train) \n",
        "# # print best parameter after tuning \n",
        "# print(log_categories_rf_grid.best_params_) \n",
        "  \n",
        "# # print how our model looks after hyper-parameter tuning \n",
        "# print(log_categories_rf_grid.best_estimator_) "
      ],
      "execution_count": null,
      "outputs": []
    },
    {
      "cell_type": "code",
      "metadata": {
        "colab": {
          "base_uri": "https://localhost:8080/"
        },
        "id": "sDiV1rRVrymv",
        "outputId": "36d60607-c2cd-4e98-ba71-c7a3b82761c0"
      },
      "source": [
        "#set model with ideal hyperparameters from above\n",
        "log_categories_rf = RandomForestRegressor(bootstrap=False, ccp_alpha=0.0, criterion='mse',\n",
        "                      max_depth=30, max_features='sqrt', max_leaf_nodes=None,\n",
        "                      max_samples=None, min_impurity_decrease=0.0,\n",
        "                      min_impurity_split=None, min_samples_leaf=2,\n",
        "                      min_samples_split=2, min_weight_fraction_leaf=0.0,\n",
        "                      n_estimators=200, n_jobs=None, oob_score=False,\n",
        "                      random_state=52, verbose=0, warm_start=False)\n",
        "\n",
        "log_categories_rf.fit(X_train, y_train)\n",
        "\n",
        "#cross validate\n",
        "log_categories_rf_scores = cross_val_score(log_categories_rf, X_train, y_train, cv = 5)\n",
        "\n",
        "print('Accuracy Scores for the 5 folds: ', log_categories_rf_scores)\n",
        "print('Mean Cross Validation Score: {:.33f}'.format(np.mean(log_categories_rf_scores)))"
      ],
      "execution_count": null,
      "outputs": [
        {
          "output_type": "stream",
          "text": [
            "Accuracy Scores for the 5 folds:  [0.59808189 0.59889316 0.58398849 0.59035832 0.58068849]\n",
            "Mean Cross Validation Score: 0.590402070493077357760114409757080\n"
          ],
          "name": "stdout"
        }
      ]
    },
    {
      "cell_type": "code",
      "metadata": {
        "colab": {
          "base_uri": "https://localhost:8080/",
          "height": 108
        },
        "id": "3H5jrPKarymv",
        "outputId": "3a1d098e-1d02-41cc-a3ba-d193c8327d30"
      },
      "source": [
        "#generate predictions\n",
        "log_categories_rf_preds = log_categories_rf.predict(X_test)\n",
        "\n",
        "#more performance metrics\n",
        "log_categories_rf_rsquared_train = log_categories_rf.score(X_train, y_train)\n",
        "log_categories_rf_rsquared_test = log_categories_rf.score(X_test, y_test)\n",
        "log_categories_rf_mae = mean_absolute_error(y_test, log_categories_rf_preds)\n",
        "log_categories_rf_mse = mse(y_test, log_categories_rf_preds)\n",
        "log_categories_rf_rmse = rmse(y_test, log_categories_rf_preds)\n",
        "log_categories_rf_mape = np.mean(np.abs((y_test - log_categories_rf_preds)/y_test)*100)\n",
        "log_categories_rf_rmspe = (np.sqrt(np.mean(np.square((y_test - log_categories_rf_preds) / y_test)))) * 100\n",
        "log_categories_rf_model_name = 'Categories Random Forest Log(y)'\n",
        "\n",
        "#create easily readable display of performance metrics\n",
        "log_categories_rf_dictionary = {'Model': log_categories_rf_model_name,\n",
        "  'Training Set R Squared': log_categories_rf_rsquared_train, \n",
        "  'Test Set R Squared': log_categories_rf_rsquared_test, 'Mean Absolute Error': log_categories_rf_mae, \n",
        "  'Mean Sqaured Error': log_categories_rf_mse, 'Root Mean Squared Error': log_categories_rf_rmse,\n",
        "  'Root Mean Squared Percentage Error': log_categories_rf_rmspe,\n",
        "  'Mean Absolute Percentage Error': log_categories_rf_mape}\n",
        "\n",
        "log_categories_rf_df = pd.DataFrame(log_categories_rf_dictionary, index=[0])\n",
        "\n",
        "log_categories_rf_df"
      ],
      "execution_count": null,
      "outputs": [
        {
          "output_type": "execute_result",
          "data": {
            "text/html": [
              "<div>\n",
              "<style scoped>\n",
              "    .dataframe tbody tr th:only-of-type {\n",
              "        vertical-align: middle;\n",
              "    }\n",
              "\n",
              "    .dataframe tbody tr th {\n",
              "        vertical-align: top;\n",
              "    }\n",
              "\n",
              "    .dataframe thead th {\n",
              "        text-align: right;\n",
              "    }\n",
              "</style>\n",
              "<table border=\"1\" class=\"dataframe\">\n",
              "  <thead>\n",
              "    <tr style=\"text-align: right;\">\n",
              "      <th></th>\n",
              "      <th>Model</th>\n",
              "      <th>Training Set R Squared</th>\n",
              "      <th>Test Set R Squared</th>\n",
              "      <th>Mean Absolute Error</th>\n",
              "      <th>Mean Sqaured Error</th>\n",
              "      <th>Root Mean Squared Error</th>\n",
              "      <th>Root Mean Squared Percentage Error</th>\n",
              "      <th>Mean Absolute Percentage Error</th>\n",
              "    </tr>\n",
              "  </thead>\n",
              "  <tbody>\n",
              "    <tr>\n",
              "      <th>0</th>\n",
              "      <td>Categories Random Forest Log(y)</td>\n",
              "      <td>0.910878</td>\n",
              "      <td>0.627317</td>\n",
              "      <td>0.162308</td>\n",
              "      <td>0.047977</td>\n",
              "      <td>0.219036</td>\n",
              "      <td>1.923583</td>\n",
              "      <td>1.424258</td>\n",
              "    </tr>\n",
              "  </tbody>\n",
              "</table>\n",
              "</div>"
            ],
            "text/plain": [
              "                             Model  ...  Mean Absolute Percentage Error\n",
              "0  Categories Random Forest Log(y)  ...                        1.424258\n",
              "\n",
              "[1 rows x 8 columns]"
            ]
          },
          "metadata": {
            "tags": []
          },
          "execution_count": 148
        }
      ]
    },
    {
      "cell_type": "markdown",
      "metadata": {
        "id": "6FMYXisdrymw"
      },
      "source": [
        "### **yrs_exp_df log(y)**"
      ]
    },
    {
      "cell_type": "code",
      "metadata": {
        "id": "_mjjgAq2rymw"
      },
      "source": [
        "#set features & target\n",
        "X = yrs_exp_df.drop(columns=['avg_sal', 'log_avg_sal'])\n",
        "y = yrs_exp_df['log_avg_sal']\n",
        "\n",
        "#split data into training & test sets\n",
        "X_train, X_test, y_train, y_test = train_test_split(X, y, test_size = 0.2, random_state = 43)\n",
        "\n",
        "# #Use grid search to find best hyperparameters\n",
        "# # defining parameter range \n",
        "# param_grid = {'bootstrap': [True, False],\n",
        "#  'max_depth': [10, 20, 30, 40, 50, None],\n",
        "#  'max_features': ['auto', 'sqrt'],\n",
        "#  'min_samples_leaf': [1, 2, 4],\n",
        "#  'min_samples_split': [2, 5, 10],\n",
        "#  'n_estimators': [0,20,40,60,80,100,120,140,160,180,200],\n",
        "#  'random_state': [52]}  \n",
        "  \n",
        "# log_yrs_exp_rf_grid = GridSearchCV(RandomForestRegressor(), param_grid, refit = True, verbose=1)\n",
        "# # fitting the model for grid search \n",
        "# log_yrs_exp_rf_grid.fit(X_train, y_train) \n",
        "# # print best parameter after tuning \n",
        "# print(log_yrs_exp_rf_grid.best_params_) \n",
        "  \n",
        "# # print how our model looks after hyper-parameter tuning \n",
        "# print(log_yrs_exp_rf_grid.best_estimator_) "
      ],
      "execution_count": null,
      "outputs": []
    },
    {
      "cell_type": "code",
      "metadata": {
        "colab": {
          "base_uri": "https://localhost:8080/"
        },
        "id": "iHzBaPRnrymw",
        "outputId": "50b09598-ce56-46bc-dfbd-a40f05fe65d3"
      },
      "source": [
        "#set model with ideal hyperparameters from above\n",
        "log_yrs_exp_rf = RandomForestRegressor(bootstrap=False, ccp_alpha=0.0, criterion='mse',\n",
        "                      max_depth=30, max_features='sqrt', max_leaf_nodes=None,\n",
        "                      max_samples=None, min_impurity_decrease=0.0,\n",
        "                      min_impurity_split=None, min_samples_leaf=1,\n",
        "                      min_samples_split=2, min_weight_fraction_leaf=0.0,\n",
        "                      n_estimators=200, n_jobs=None, oob_score=False,\n",
        "                      random_state=52, verbose=0, warm_start=False)\n",
        "log_yrs_exp_rf.fit(X_train, y_train)\n",
        "\n",
        "#cross validate\n",
        "log_yrs_exp_rf_scores = cross_val_score(log_yrs_exp_rf, X_train, y_train, cv = 5)\n",
        "\n",
        "print('Accuracy Scores for the 5 folds: ', log_yrs_exp_rf_scores)\n",
        "print('Mean Cross Validation Score: {:.33f}'.format(np.mean(log_yrs_exp_rf_scores)))"
      ],
      "execution_count": null,
      "outputs": [
        {
          "output_type": "stream",
          "text": [
            "Accuracy Scores for the 5 folds:  [0.58116732 0.58564282 0.57043867 0.56234231 0.57538141]\n",
            "Mean Cross Validation Score: 0.574994506864646148791564428393031\n"
          ],
          "name": "stdout"
        }
      ]
    },
    {
      "cell_type": "code",
      "metadata": {
        "colab": {
          "base_uri": "https://localhost:8080/",
          "height": 108
        },
        "id": "8XM4wDk2rymx",
        "outputId": "b0179ae1-9651-4f7b-f199-22e2bf162c93"
      },
      "source": [
        "#generate predictions\n",
        "log_yrs_exp_rf_preds = log_yrs_exp_rf.predict(X_test)\n",
        "\n",
        "#more performance metrics\n",
        "log_yrs_exp_rf_rsquared_train = log_yrs_exp_rf.score(X_train, y_train)\n",
        "log_yrs_exp_rf_rsquared_test = log_yrs_exp_rf.score(X_test, y_test)\n",
        "log_yrs_exp_rf_mae = mean_absolute_error(y_test, log_yrs_exp_rf_preds)\n",
        "log_yrs_exp_rf_mse = mse(y_test, log_yrs_exp_rf_preds)\n",
        "log_yrs_exp_rf_rmse = rmse(y_test, log_yrs_exp_rf_preds)\n",
        "log_yrs_exp_rf_mape = np.mean(np.abs((y_test - log_yrs_exp_rf_preds)/y_test)*100)\n",
        "log_yrs_exp_rf_rmspe = (np.sqrt(np.mean(np.square((y_test - log_yrs_exp_rf_preds) / y_test)))) * 100\n",
        "log_yrs_exp_rf_model_name = 'Years of Experience Random Forest Log(y)'\n",
        "\n",
        "#create easily readable display of performance metrics\n",
        "log_yrs_exp_rf_dictionary = {'Model': log_yrs_exp_rf_model_name,\n",
        "  'Training Set R Squared': log_yrs_exp_rf_rsquared_train, \n",
        "  'Test Set R Squared': log_yrs_exp_rf_rsquared_test, 'Mean Absolute Error': log_yrs_exp_rf_mae, \n",
        "  'Mean Sqaured Error': log_yrs_exp_rf_mse, 'Root Mean Squared Error': log_yrs_exp_rf_rmse,\n",
        "  'Root Mean Squared Percentage Error': log_yrs_exp_rf_rmspe,\n",
        "  'Mean Absolute Percentage Error': log_yrs_exp_rf_mape}\n",
        "\n",
        "log_yrs_exp_rf_df = pd.DataFrame(log_yrs_exp_rf_dictionary, index=[0])\n",
        "\n",
        "log_yrs_exp_rf_df"
      ],
      "execution_count": null,
      "outputs": [
        {
          "output_type": "execute_result",
          "data": {
            "text/html": [
              "<div>\n",
              "<style scoped>\n",
              "    .dataframe tbody tr th:only-of-type {\n",
              "        vertical-align: middle;\n",
              "    }\n",
              "\n",
              "    .dataframe tbody tr th {\n",
              "        vertical-align: top;\n",
              "    }\n",
              "\n",
              "    .dataframe thead th {\n",
              "        text-align: right;\n",
              "    }\n",
              "</style>\n",
              "<table border=\"1\" class=\"dataframe\">\n",
              "  <thead>\n",
              "    <tr style=\"text-align: right;\">\n",
              "      <th></th>\n",
              "      <th>Model</th>\n",
              "      <th>Training Set R Squared</th>\n",
              "      <th>Test Set R Squared</th>\n",
              "      <th>Mean Absolute Error</th>\n",
              "      <th>Mean Sqaured Error</th>\n",
              "      <th>Root Mean Squared Error</th>\n",
              "      <th>Root Mean Squared Percentage Error</th>\n",
              "      <th>Mean Absolute Percentage Error</th>\n",
              "    </tr>\n",
              "  </thead>\n",
              "  <tbody>\n",
              "    <tr>\n",
              "      <th>0</th>\n",
              "      <td>Years of Experience Random Forest Log(y)</td>\n",
              "      <td>0.982898</td>\n",
              "      <td>0.59653</td>\n",
              "      <td>0.164299</td>\n",
              "      <td>0.052694</td>\n",
              "      <td>0.229552</td>\n",
              "      <td>2.025203</td>\n",
              "      <td>1.447082</td>\n",
              "    </tr>\n",
              "  </tbody>\n",
              "</table>\n",
              "</div>"
            ],
            "text/plain": [
              "                                      Model  ...  Mean Absolute Percentage Error\n",
              "0  Years of Experience Random Forest Log(y)  ...                        1.447082\n",
              "\n",
              "[1 rows x 8 columns]"
            ]
          },
          "metadata": {
            "tags": []
          },
          "execution_count": 151
        }
      ]
    },
    {
      "cell_type": "markdown",
      "metadata": {
        "id": "MrFdPqdePbnu"
      },
      "source": [
        "### **cat_no_outliers_df**"
      ]
    },
    {
      "cell_type": "code",
      "metadata": {
        "id": "Urk_j0e6Pbnu"
      },
      "source": [
        "#set features & target\n",
        "X = cat_no_outliers_df.drop(columns=['avg_sal', 'log_avg_sal'])\n",
        "y = cat_no_outliers_df['avg_sal']\n",
        "\n",
        "#split data into training & test sets\n",
        "X_train, X_test, y_train, y_test = train_test_split(X, y, test_size = 0.2, random_state = 43)\n",
        "\n",
        "# #Use grid search to find best hyperparameters\n",
        "# # defining parameter range \n",
        "# param_grid = {'bootstrap': [True, False],\n",
        "#  'max_depth': [10, 20, 30, 40, 50, None],\n",
        "#  'max_features': ['auto', 'sqrt'],\n",
        "#  'min_samples_leaf': [1, 2, 4],\n",
        "#  'min_samples_split': [2, 5, 10],\n",
        "#  'n_estimators': [0,20,40,60,80,100,120,140,160,180,200],\n",
        "#  'random_state': [43]}  \n",
        "  \n",
        "# cat_no_outliers_rf_grid = GridSearchCV(RandomForestRegressor(), param_grid, refit = True, verbose=1)\n",
        "# # fitting the model for grid search \n",
        "# cat_no_outliers_rf_grid.fit(X_train, y_train) \n",
        "# # print best parameter after tuning \n",
        "# print(cat_no_outliers_rf_grid.best_params_) \n",
        "  \n",
        "# # print how our model looks after hyper-parameter tuning \n",
        "# print(cat_no_outliers_rf_grid.best_estimator_) "
      ],
      "execution_count": null,
      "outputs": []
    },
    {
      "cell_type": "code",
      "metadata": {
        "colab": {
          "base_uri": "https://localhost:8080/"
        },
        "id": "RZbN2qDrPbnv",
        "outputId": "39ddc692-63d2-4044-dbef-78adc1b901d9"
      },
      "source": [
        "#set model with ideal hyperparameters from above\n",
        "cat_no_outliers_rf = RandomForestRegressor(bootstrap=False, ccp_alpha=0.0, criterion='mse',\n",
        "                      max_depth=30, max_features='sqrt', max_leaf_nodes=None,\n",
        "                      max_samples=None, min_impurity_decrease=0.0,\n",
        "                      min_impurity_split=None, min_samples_leaf=1,\n",
        "                      min_samples_split=5, min_weight_fraction_leaf=0.0,\n",
        "                      n_estimators=140, n_jobs=None, oob_score=False,\n",
        "                      random_state=43, verbose=0, warm_start=False)\n",
        "\n",
        "cat_no_outliers_rf.fit(X_train, y_train)\n",
        "\n",
        "#cross validate\n",
        "cat_no_outliers_rf_scores = cross_val_score(cat_no_outliers_rf, X_train, y_train, cv = 5)\n",
        "\n",
        "print('Accuracy Scores for the 5 folds: ', cat_no_outliers_rf_scores)\n",
        "print('Mean Cross Validation Score: {:.33f}'.format(np.mean(cat_no_outliers_rf_scores)))"
      ],
      "execution_count": null,
      "outputs": [
        {
          "output_type": "stream",
          "text": [
            "Accuracy Scores for the 5 folds:  [0.61527494 0.56027747 0.61861105 0.57585689 0.56824822]\n",
            "Mean Cross Validation Score: 0.587653713761681628646726949227741\n"
          ],
          "name": "stdout"
        }
      ]
    },
    {
      "cell_type": "code",
      "metadata": {
        "colab": {
          "base_uri": "https://localhost:8080/",
          "height": 108
        },
        "id": "YlSQD1IBPbnv",
        "outputId": "1cfa99bb-9042-4740-dc6f-9b2024924b78"
      },
      "source": [
        "#generate predictions\n",
        "cat_no_outliers_rf_preds = cat_no_outliers_rf.predict(X_test)\n",
        "\n",
        "#more performance metrics\n",
        "cat_no_outliers_rf_rsquared_train = cat_no_outliers_rf.score(X_train, y_train)\n",
        "cat_no_outliers_rf_rsquared_test = cat_no_outliers_rf.score(X_test, y_test)\n",
        "cat_no_outliers_rf_mae = mean_absolute_error(y_test, cat_no_outliers_rf_preds)\n",
        "cat_no_outliers_rf_mse = mse(y_test, cat_no_outliers_rf_preds)\n",
        "cat_no_outliers_rf_rmse = rmse(y_test, cat_no_outliers_rf_preds)\n",
        "cat_no_outliers_rf_mape = np.mean(np.abs((y_test - cat_no_outliers_rf_preds)/y_test)*100)\n",
        "cat_no_outliers_rf_rmspe = (np.sqrt(np.mean(np.square((y_test - cat_no_outliers_rf_preds) / y_test)))) * 100\n",
        "cat_no_outliers_rf_model_name = 'Categories w/o Outliers Random Forest'\n",
        "\n",
        "#create easily readable display of performance metrics\n",
        "cat_no_outliers_rf_dictionary = {'Model': cat_no_outliers_rf_model_name,\n",
        "  'Training Set R Squared': cat_no_outliers_rf_rsquared_train, \n",
        "  'Test Set R Squared': cat_no_outliers_rf_rsquared_test, 'Mean Absolute Error': cat_no_outliers_rf_mae, \n",
        "  'Mean Sqaured Error': cat_no_outliers_rf_mse, 'Root Mean Squared Error': cat_no_outliers_rf_rmse,\n",
        "  'Root Mean Squared Percentage Error': cat_no_outliers_rf_rmspe,\n",
        "  'Mean Absolute Percentage Error': cat_no_outliers_rf_mape}\n",
        "\n",
        "cat_no_outliers_rf_df = pd.DataFrame(cat_no_outliers_rf_dictionary, index=[0])\n",
        "\n",
        "cat_no_outliers_rf_df"
      ],
      "execution_count": null,
      "outputs": [
        {
          "output_type": "execute_result",
          "data": {
            "text/html": [
              "<div>\n",
              "<style scoped>\n",
              "    .dataframe tbody tr th:only-of-type {\n",
              "        vertical-align: middle;\n",
              "    }\n",
              "\n",
              "    .dataframe tbody tr th {\n",
              "        vertical-align: top;\n",
              "    }\n",
              "\n",
              "    .dataframe thead th {\n",
              "        text-align: right;\n",
              "    }\n",
              "</style>\n",
              "<table border=\"1\" class=\"dataframe\">\n",
              "  <thead>\n",
              "    <tr style=\"text-align: right;\">\n",
              "      <th></th>\n",
              "      <th>Model</th>\n",
              "      <th>Training Set R Squared</th>\n",
              "      <th>Test Set R Squared</th>\n",
              "      <th>Mean Absolute Error</th>\n",
              "      <th>Mean Sqaured Error</th>\n",
              "      <th>Root Mean Squared Error</th>\n",
              "      <th>Root Mean Squared Percentage Error</th>\n",
              "      <th>Mean Absolute Percentage Error</th>\n",
              "    </tr>\n",
              "  </thead>\n",
              "  <tbody>\n",
              "    <tr>\n",
              "      <th>0</th>\n",
              "      <td>Categories w/o Outliers Random Forest</td>\n",
              "      <td>0.944975</td>\n",
              "      <td>0.617602</td>\n",
              "      <td>14767.855231</td>\n",
              "      <td>3.942534e+08</td>\n",
              "      <td>19855.816434</td>\n",
              "      <td>24.318608</td>\n",
              "      <td>17.173618</td>\n",
              "    </tr>\n",
              "  </tbody>\n",
              "</table>\n",
              "</div>"
            ],
            "text/plain": [
              "                                   Model  ...  Mean Absolute Percentage Error\n",
              "0  Categories w/o Outliers Random Forest  ...                       17.173618\n",
              "\n",
              "[1 rows x 8 columns]"
            ]
          },
          "metadata": {
            "tags": []
          },
          "execution_count": 154
        }
      ]
    },
    {
      "cell_type": "markdown",
      "metadata": {
        "id": "YP2VLqhcPbnw"
      },
      "source": [
        "### **yrs_exp_no_outliers_df**"
      ]
    },
    {
      "cell_type": "code",
      "metadata": {
        "id": "8icJGmnqPbnw"
      },
      "source": [
        "#set features & target\n",
        "X = yrs_exp_no_outliers_df.drop(columns=['avg_sal', 'log_avg_sal'])\n",
        "y = yrs_exp_no_outliers_df['avg_sal']\n",
        "\n",
        "#split data into training & test sets\n",
        "X_train, X_test, y_train, y_test = train_test_split(X, y, test_size = 0.2, random_state = 43)\n",
        "\n",
        "# #Use grid search to find best hyperparameters\n",
        "# # defining parameter range \n",
        "# param_grid = {'bootstrap': [True, False],\n",
        "#  'max_depth': [10, 20, 30, 40, 50, None],\n",
        "#  'max_features': ['auto', 'sqrt'],\n",
        "#  'min_samples_leaf': [1, 2, 4],\n",
        "#  'min_samples_split': [2, 5, 10],\n",
        "#  'n_estimators': [0,20,40,60,80,100,120,140,160,180,200],\n",
        "#  'random_state': [52]}  \n",
        "  \n",
        "# yrs_exp_no_outliers_rf_grid = GridSearchCV(RandomForestRegressor(), param_grid, refit = True, verbose=1)\n",
        "# # fitting the model for grid search \n",
        "# yrs_exp_no_outliers_rf_grid.fit(X_train, y_train) \n",
        "# # print best parameter after tuning \n",
        "# print(yrs_exp_no_outliers_rf_grid.best_params_) \n",
        "  \n",
        "# # print how our model looks after hyper-parameter tuning \n",
        "# print(yrs_exp_no_outliers_rf_grid.best_estimator_) "
      ],
      "execution_count": null,
      "outputs": []
    },
    {
      "cell_type": "code",
      "metadata": {
        "colab": {
          "base_uri": "https://localhost:8080/"
        },
        "id": "Jmyr59TIPbnx",
        "outputId": "3fbfe841-94d8-4b40-aa41-91f496f7886e"
      },
      "source": [
        "#set model with ideal hyperparameters from above\n",
        "yrs_exp_no_outliers_rf = RandomForestRegressor(bootstrap=False, ccp_alpha=0.0, criterion='mse',\n",
        "                      max_depth=20, max_features='sqrt', max_leaf_nodes=None,\n",
        "                      max_samples=None, min_impurity_decrease=0.0,\n",
        "                      min_impurity_split=None, min_samples_leaf=1,\n",
        "                      min_samples_split=5, min_weight_fraction_leaf=0.0,\n",
        "                      n_estimators=160, n_jobs=None, oob_score=False,\n",
        "                      random_state=52, verbose=0, warm_start=False)\n",
        "yrs_exp_no_outliers_rf.fit(X_train, y_train)\n",
        "\n",
        "#cross validate\n",
        "yrs_exp_no_outliers_rf_scores = cross_val_score(yrs_exp_no_outliers_rf, X_train, y_train, cv = 5)\n",
        "\n",
        "print('Accuracy Scores for the 5 folds: ', yrs_exp_no_outliers_rf_scores)\n",
        "print('Mean Cross Validation Score: {:.33f}'.format(np.mean(yrs_exp_no_outliers_rf_scores)))"
      ],
      "execution_count": null,
      "outputs": [
        {
          "output_type": "stream",
          "text": [
            "Accuracy Scores for the 5 folds:  [0.60428856 0.6173108  0.6162906  0.53740843 0.61364344]\n",
            "Mean Cross Validation Score: 0.597788364618446088627479184651747\n"
          ],
          "name": "stdout"
        }
      ]
    },
    {
      "cell_type": "code",
      "metadata": {
        "colab": {
          "base_uri": "https://localhost:8080/",
          "height": 108
        },
        "id": "KPyUDyXtPbnx",
        "outputId": "7142544f-e0ac-416c-8296-497560a39d27"
      },
      "source": [
        "#generate predictions\n",
        "yrs_exp_no_outliers_rf_preds = yrs_exp_no_outliers_rf.predict(X_test)\n",
        "\n",
        "#more performance metrics\n",
        "yrs_exp_no_outliers_rf_rsquared_train = yrs_exp_no_outliers_rf.score(X_train, y_train)\n",
        "yrs_exp_no_outliers_rf_rsquared_test = yrs_exp_no_outliers_rf.score(X_test, y_test)\n",
        "yrs_exp_no_outliers_rf_mae = mean_absolute_error(y_test, yrs_exp_no_outliers_rf_preds)\n",
        "yrs_exp_no_outliers_rf_mse = mse(y_test, yrs_exp_no_outliers_rf_preds)\n",
        "yrs_exp_no_outliers_rf_rmse = rmse(y_test, yrs_exp_no_outliers_rf_preds)\n",
        "yrs_exp_no_outliers_rf_mape = np.mean(np.abs((y_test - yrs_exp_no_outliers_rf_preds)/y_test)*100)\n",
        "yrs_exp_no_outliers_rf_rmspe = (np.sqrt(np.mean(np.square((y_test - yrs_exp_no_outliers_rf_preds) / y_test)))) * 100\n",
        "yrs_exp_no_outliers_rf_model_name = 'Years of Experience w/o Outliers Random Forest'\n",
        "\n",
        "#create easily readable display of performance metrics\n",
        "yrs_exp_no_outliers_rf_dictionary = {'Model': yrs_exp_no_outliers_rf_model_name,\n",
        "  'Training Set R Squared': yrs_exp_no_outliers_rf_rsquared_train, \n",
        "  'Test Set R Squared': yrs_exp_no_outliers_rf_rsquared_test, 'Mean Absolute Error': yrs_exp_no_outliers_rf_mae, \n",
        "  'Mean Sqaured Error': yrs_exp_no_outliers_rf_mse, 'Root Mean Squared Error': yrs_exp_no_outliers_rf_rmse,\n",
        "  'Root Mean Squared Percentage Error': yrs_exp_no_outliers_rf_rmspe,\n",
        "  'Mean Absolute Percentage Error': yrs_exp_no_outliers_rf_mape}\n",
        "\n",
        "yrs_exp_no_outliers_rf_df = pd.DataFrame(yrs_exp_no_outliers_rf_dictionary, index=[0])\n",
        "\n",
        "yrs_exp_no_outliers_rf_df"
      ],
      "execution_count": null,
      "outputs": [
        {
          "output_type": "execute_result",
          "data": {
            "text/html": [
              "<div>\n",
              "<style scoped>\n",
              "    .dataframe tbody tr th:only-of-type {\n",
              "        vertical-align: middle;\n",
              "    }\n",
              "\n",
              "    .dataframe tbody tr th {\n",
              "        vertical-align: top;\n",
              "    }\n",
              "\n",
              "    .dataframe thead th {\n",
              "        text-align: right;\n",
              "    }\n",
              "</style>\n",
              "<table border=\"1\" class=\"dataframe\">\n",
              "  <thead>\n",
              "    <tr style=\"text-align: right;\">\n",
              "      <th></th>\n",
              "      <th>Model</th>\n",
              "      <th>Training Set R Squared</th>\n",
              "      <th>Test Set R Squared</th>\n",
              "      <th>Mean Absolute Error</th>\n",
              "      <th>Mean Sqaured Error</th>\n",
              "      <th>Root Mean Squared Error</th>\n",
              "      <th>Root Mean Squared Percentage Error</th>\n",
              "      <th>Mean Absolute Percentage Error</th>\n",
              "    </tr>\n",
              "  </thead>\n",
              "  <tbody>\n",
              "    <tr>\n",
              "      <th>0</th>\n",
              "      <td>Years of Experience w/o Outliers Random Forest</td>\n",
              "      <td>0.944127</td>\n",
              "      <td>0.586782</td>\n",
              "      <td>14437.372001</td>\n",
              "      <td>3.937217e+08</td>\n",
              "      <td>19842.421851</td>\n",
              "      <td>23.810016</td>\n",
              "      <td>16.476445</td>\n",
              "    </tr>\n",
              "  </tbody>\n",
              "</table>\n",
              "</div>"
            ],
            "text/plain": [
              "                                            Model  ...  Mean Absolute Percentage Error\n",
              "0  Years of Experience w/o Outliers Random Forest  ...                       16.476445\n",
              "\n",
              "[1 rows x 8 columns]"
            ]
          },
          "metadata": {
            "tags": []
          },
          "execution_count": 157
        }
      ]
    },
    {
      "cell_type": "markdown",
      "metadata": {
        "id": "TPf8cywuPbnx"
      },
      "source": [
        "### **cat_no_outliers_df log(y)**"
      ]
    },
    {
      "cell_type": "code",
      "metadata": {
        "id": "OTLNWFB4Pbny"
      },
      "source": [
        "#set features & target\n",
        "X = cat_no_outliers_df.drop(columns=['avg_sal', 'log_avg_sal'])\n",
        "y = cat_no_outliers_df['log_avg_sal']\n",
        "\n",
        "#split data into training & test sets\n",
        "X_train, X_test, y_train, y_test = train_test_split(X, y, test_size = 0.2, random_state = 43)\n",
        "\n",
        "# #Use grid search to find best hyperparameters\n",
        "# # defining parameter range \n",
        "# param_grid = {'bootstrap': [True, False],\n",
        "#  'max_depth': [10, 20, 30, 40, 50, None],\n",
        "#  'max_features': ['auto', 'sqrt'],\n",
        "#  'min_samples_leaf': [1, 2, 4],\n",
        "#  'min_samples_split': [2, 5, 10],\n",
        "#  'n_estimators': [0,20,40,60,80,100,120,140,160,180,200],\n",
        "#  'random_state': [52]}  \n",
        "  \n",
        "# log_cat_no_outliers_rf_grid = GridSearchCV(RandomForestRegressor(), param_grid, refit = True, verbose=1)\n",
        "# # fitting the model for grid search \n",
        "# log_cat_no_outliers_rf_grid.fit(X_train, y_train) \n",
        "# # print best parameter after tuning \n",
        "# print(log_cat_no_outliers_rf_grid.best_params_) \n",
        "  \n",
        "# # print how our model looks after hyper-parameter tuning \n",
        "# print(log_cat_no_outliers_rf_grid.best_estimator_) "
      ],
      "execution_count": null,
      "outputs": []
    },
    {
      "cell_type": "code",
      "metadata": {
        "colab": {
          "base_uri": "https://localhost:8080/"
        },
        "id": "x9Zp0617Pbny",
        "outputId": "873accf0-3173-4384-c4f7-dcec71f24e8f"
      },
      "source": [
        "#set model with ideal hyperparameters from above\n",
        "log_cat_no_outliers_rf = RandomForestRegressor(bootstrap=False, ccp_alpha=0.0, criterion='mse',\n",
        "                      max_depth=30, max_features='sqrt', max_leaf_nodes=None,\n",
        "                      max_samples=None, min_impurity_decrease=0.0,\n",
        "                      min_impurity_split=None, min_samples_leaf=2,\n",
        "                      min_samples_split=2, min_weight_fraction_leaf=0.0,\n",
        "                      n_estimators=200, n_jobs=None, oob_score=False,\n",
        "                      random_state=52, verbose=0, warm_start=False)\n",
        "\n",
        "log_cat_no_outliers_rf.fit(X_train, y_train)\n",
        "\n",
        "#cross validate\n",
        "log_cat_no_outliers_rf_scores = cross_val_score(log_cat_no_outliers_rf, X_train, y_train, cv = 5)\n",
        "\n",
        "print('Accuracy Scores for the 5 folds: ', log_cat_no_outliers_rf_scores)\n",
        "print('Mean Cross Validation Score: {:.33f}'.format(np.mean(log_cat_no_outliers_rf_scores)))"
      ],
      "execution_count": null,
      "outputs": [
        {
          "output_type": "stream",
          "text": [
            "Accuracy Scores for the 5 folds:  [0.61805971 0.56241378 0.62166109 0.5829554  0.57846804]\n",
            "Mean Cross Validation Score: 0.592711603275977716442923792783404\n"
          ],
          "name": "stdout"
        }
      ]
    },
    {
      "cell_type": "code",
      "metadata": {
        "colab": {
          "base_uri": "https://localhost:8080/",
          "height": 108
        },
        "id": "dsLftD9iPbny",
        "outputId": "114e0584-5b7b-493e-9bb0-3521b403da0b"
      },
      "source": [
        "#generate predictions\n",
        "log_cat_no_outliers_rf_preds = log_cat_no_outliers_rf.predict(X_test)\n",
        "\n",
        "#more performance metrics\n",
        "log_cat_no_outliers_rf_rsquared_train = log_cat_no_outliers_rf.score(X_train, y_train)\n",
        "log_cat_no_outliers_rf_rsquared_test = log_cat_no_outliers_rf.score(X_test, y_test)\n",
        "log_cat_no_outliers_rf_mae = mean_absolute_error(y_test, log_cat_no_outliers_rf_preds)\n",
        "log_cat_no_outliers_rf_mse = mse(y_test, log_cat_no_outliers_rf_preds)\n",
        "log_cat_no_outliers_rf_rmse = rmse(y_test, log_cat_no_outliers_rf_preds)\n",
        "log_cat_no_outliers_rf_mape = np.mean(np.abs((y_test - log_cat_no_outliers_rf_preds)/y_test)*100)\n",
        "log_cat_no_outliers_rf_rmspe = (np.sqrt(np.mean(np.square((y_test - log_cat_no_outliers_rf_preds) / y_test)))) * 100\n",
        "log_cat_no_outliers_rf_model_name = 'Categories w/o Outliers Random Forest Log(y)'\n",
        "\n",
        "#create easily readable display of performance metrics\n",
        "log_cat_no_outliers_rf_dictionary = {'Model': log_cat_no_outliers_rf_model_name,\n",
        "  'Training Set R Squared': log_cat_no_outliers_rf_rsquared_train, \n",
        "  'Test Set R Squared': log_cat_no_outliers_rf_rsquared_test, 'Mean Absolute Error': log_cat_no_outliers_rf_mae, \n",
        "  'Mean Sqaured Error': log_cat_no_outliers_rf_mse, 'Root Mean Squared Error': log_cat_no_outliers_rf_rmse,\n",
        "  'Root Mean Squared Percentage Error': log_cat_no_outliers_rf_rmspe,\n",
        "  'Mean Absolute Percentage Error': log_cat_no_outliers_rf_mape}\n",
        "\n",
        "log_cat_no_outliers_rf_df = pd.DataFrame(log_cat_no_outliers_rf_dictionary, index=[0])\n",
        "\n",
        "log_cat_no_outliers_rf_df"
      ],
      "execution_count": null,
      "outputs": [
        {
          "output_type": "execute_result",
          "data": {
            "text/html": [
              "<div>\n",
              "<style scoped>\n",
              "    .dataframe tbody tr th:only-of-type {\n",
              "        vertical-align: middle;\n",
              "    }\n",
              "\n",
              "    .dataframe tbody tr th {\n",
              "        vertical-align: top;\n",
              "    }\n",
              "\n",
              "    .dataframe thead th {\n",
              "        text-align: right;\n",
              "    }\n",
              "</style>\n",
              "<table border=\"1\" class=\"dataframe\">\n",
              "  <thead>\n",
              "    <tr style=\"text-align: right;\">\n",
              "      <th></th>\n",
              "      <th>Model</th>\n",
              "      <th>Training Set R Squared</th>\n",
              "      <th>Test Set R Squared</th>\n",
              "      <th>Mean Absolute Error</th>\n",
              "      <th>Mean Sqaured Error</th>\n",
              "      <th>Root Mean Squared Error</th>\n",
              "      <th>Root Mean Squared Percentage Error</th>\n",
              "      <th>Mean Absolute Percentage Error</th>\n",
              "    </tr>\n",
              "  </thead>\n",
              "  <tbody>\n",
              "    <tr>\n",
              "      <th>0</th>\n",
              "      <td>Categories w/o Outliers Random Forest Log(y)</td>\n",
              "      <td>0.911795</td>\n",
              "      <td>0.610747</td>\n",
              "      <td>0.162665</td>\n",
              "      <td>0.04609</td>\n",
              "      <td>0.214685</td>\n",
              "      <td>1.896699</td>\n",
              "      <td>1.432243</td>\n",
              "    </tr>\n",
              "  </tbody>\n",
              "</table>\n",
              "</div>"
            ],
            "text/plain": [
              "                                          Model  ...  Mean Absolute Percentage Error\n",
              "0  Categories w/o Outliers Random Forest Log(y)  ...                        1.432243\n",
              "\n",
              "[1 rows x 8 columns]"
            ]
          },
          "metadata": {
            "tags": []
          },
          "execution_count": 160
        }
      ]
    },
    {
      "cell_type": "markdown",
      "metadata": {
        "id": "4B88gzB2Pbny"
      },
      "source": [
        "### **yrs_exp_no_outliers_df log(y)**"
      ]
    },
    {
      "cell_type": "code",
      "metadata": {
        "id": "uig96lBoPbnz"
      },
      "source": [
        "#set features & target\n",
        "X = yrs_exp_no_outliers_df.drop(columns=['avg_sal', 'log_avg_sal'])\n",
        "y = yrs_exp_no_outliers_df['log_avg_sal']\n",
        "\n",
        "#split data into training & test sets\n",
        "X_train, X_test, y_train, y_test = train_test_split(X, y, test_size = 0.2, random_state = 43)\n",
        "\n",
        "# #Use grid search to find best hyperparameters\n",
        "# # defining parameter range \n",
        "# param_grid = {'bootstrap': [True, False],\n",
        "#  'max_depth': [10, 20, 30, 40, 50, None],\n",
        "#  'max_features': ['auto', 'sqrt'],\n",
        "#  'min_samples_leaf': [1, 2, 4],\n",
        "#  'min_samples_split': [2, 5, 10],\n",
        "#  'n_estimators': [0,20,40,60,80,100,120,140,160,180,200],\n",
        "#  'random_state': [52]}  \n",
        "  \n",
        "# log_yrs_exp_no_outliers_rf_grid = GridSearchCV(RandomForestRegressor(), param_grid, refit = True, verbose=1)\n",
        "# # fitting the model for grid search \n",
        "# log_yrs_exp_no_outliers_rf_grid.fit(X_train, y_train) \n",
        "# # print best parameter after tuning \n",
        "# print(log_yrs_exp_no_outliers_rf_grid.best_params_) \n",
        "  \n",
        "# # print how our model looks after hyper-parameter tuning \n",
        "# print(log_yrs_exp_no_outliers_rf_grid.best_estimator_) "
      ],
      "execution_count": null,
      "outputs": []
    },
    {
      "cell_type": "code",
      "metadata": {
        "colab": {
          "base_uri": "https://localhost:8080/"
        },
        "id": "vErrx5QAPbnz",
        "outputId": "f7ee2370-bef7-4483-b9a7-c0d509ca0679"
      },
      "source": [
        "#set model with ideal hyperparameters from above\n",
        "log_yrs_exp_no_outliers_rf = RandomForestRegressor(bootstrap=False, ccp_alpha=0.0, criterion='mse',\n",
        "                      max_depth=30, max_features='sqrt', max_leaf_nodes=None,\n",
        "                      max_samples=None, min_impurity_decrease=0.0,\n",
        "                      min_impurity_split=None, min_samples_leaf=2,\n",
        "                      min_samples_split=5, min_weight_fraction_leaf=0.0,\n",
        "                      n_estimators=200, n_jobs=None, oob_score=False,\n",
        "                      random_state=52, verbose=0, warm_start=False)\n",
        "log_yrs_exp_no_outliers_rf.fit(X_train, y_train)\n",
        "\n",
        "#cross validate\n",
        "log_yrs_exp_no_outliers_rf_scores = cross_val_score(log_yrs_exp_no_outliers_rf, X_train, y_train, cv = 5)\n",
        "\n",
        "print('Accuracy Scores for the 5 folds: ', log_yrs_exp_no_outliers_rf_scores)\n",
        "print('Mean Cross Validation Score: {:.33f}'.format(np.mean(log_yrs_exp_no_outliers_rf_scores)))"
      ],
      "execution_count": null,
      "outputs": [
        {
          "output_type": "stream",
          "text": [
            "Accuracy Scores for the 5 folds:  [0.61227019 0.62600853 0.6108376  0.53659466 0.61247421]\n",
            "Mean Cross Validation Score: 0.599637038968862889909416935552144\n"
          ],
          "name": "stdout"
        }
      ]
    },
    {
      "cell_type": "code",
      "metadata": {
        "colab": {
          "base_uri": "https://localhost:8080/",
          "height": 108
        },
        "id": "S1jh_UX0Pbnz",
        "outputId": "4a91d142-d1a1-44bf-e69d-e834f8937498"
      },
      "source": [
        "#generate predictions\n",
        "log_yrs_exp_no_outliers_rf_preds = log_yrs_exp_no_outliers_rf.predict(X_test)\n",
        "\n",
        "#more performance metrics\n",
        "log_yrs_exp_no_outliers_rf_rsquared_train = log_yrs_exp_no_outliers_rf.score(X_train, y_train)\n",
        "log_yrs_exp_no_outliers_rf_rsquared_test = log_yrs_exp_no_outliers_rf.score(X_test, y_test)\n",
        "log_yrs_exp_no_outliers_rf_mae = mean_absolute_error(y_test, log_yrs_exp_no_outliers_rf_preds)\n",
        "log_yrs_exp_no_outliers_rf_mse = mse(y_test, log_yrs_exp_no_outliers_rf_preds)\n",
        "log_yrs_exp_no_outliers_rf_rmse = rmse(y_test, log_yrs_exp_no_outliers_rf_preds)\n",
        "log_yrs_exp_no_outliers_rf_mape = np.mean(np.abs((y_test - log_yrs_exp_no_outliers_rf_preds)/y_test)*100)\n",
        "log_yrs_exp_no_outliers_rf_rmspe = (np.sqrt(np.mean(np.square((y_test - log_yrs_exp_no_outliers_rf_preds) / y_test)))) * 100\n",
        "log_yrs_exp_no_outliers_rf_model_name = 'Years of Experience w/o Outliers Random Forest Log(y)'\n",
        "\n",
        "#create easily readable display of performance metrics\n",
        "log_yrs_exp_no_outliers_rf_dictionary = {'Model': log_yrs_exp_no_outliers_rf_model_name,\n",
        "  'Training Set R Squared': log_yrs_exp_no_outliers_rf_rsquared_train, \n",
        "  'Test Set R Squared': log_yrs_exp_no_outliers_rf_rsquared_test, 'Mean Absolute Error': log_yrs_exp_no_outliers_rf_mae, \n",
        "  'Mean Sqaured Error': log_yrs_exp_no_outliers_rf_mse, 'Root Mean Squared Error': log_yrs_exp_no_outliers_rf_rmse,\n",
        "  'Root Mean Squared Percentage Error': log_yrs_exp_no_outliers_rf_rmspe,\n",
        "  'Mean Absolute Percentage Error': log_yrs_exp_no_outliers_rf_mape}\n",
        "\n",
        "log_yrs_exp_no_outliers_rf_df = pd.DataFrame(log_yrs_exp_no_outliers_rf_dictionary, index=[0])\n",
        "\n",
        "log_yrs_exp_no_outliers_rf_df"
      ],
      "execution_count": null,
      "outputs": [
        {
          "output_type": "execute_result",
          "data": {
            "text/html": [
              "<div>\n",
              "<style scoped>\n",
              "    .dataframe tbody tr th:only-of-type {\n",
              "        vertical-align: middle;\n",
              "    }\n",
              "\n",
              "    .dataframe tbody tr th {\n",
              "        vertical-align: top;\n",
              "    }\n",
              "\n",
              "    .dataframe thead th {\n",
              "        text-align: right;\n",
              "    }\n",
              "</style>\n",
              "<table border=\"1\" class=\"dataframe\">\n",
              "  <thead>\n",
              "    <tr style=\"text-align: right;\">\n",
              "      <th></th>\n",
              "      <th>Model</th>\n",
              "      <th>Training Set R Squared</th>\n",
              "      <th>Test Set R Squared</th>\n",
              "      <th>Mean Absolute Error</th>\n",
              "      <th>Mean Sqaured Error</th>\n",
              "      <th>Root Mean Squared Error</th>\n",
              "      <th>Root Mean Squared Percentage Error</th>\n",
              "      <th>Mean Absolute Percentage Error</th>\n",
              "    </tr>\n",
              "  </thead>\n",
              "  <tbody>\n",
              "    <tr>\n",
              "      <th>0</th>\n",
              "      <td>Years of Experience w/o Outliers Random Forest...</td>\n",
              "      <td>0.904975</td>\n",
              "      <td>0.602326</td>\n",
              "      <td>0.157093</td>\n",
              "      <td>0.043772</td>\n",
              "      <td>0.209218</td>\n",
              "      <td>1.845988</td>\n",
              "      <td>1.381207</td>\n",
              "    </tr>\n",
              "  </tbody>\n",
              "</table>\n",
              "</div>"
            ],
            "text/plain": [
              "                                               Model  ...  Mean Absolute Percentage Error\n",
              "0  Years of Experience w/o Outliers Random Forest...  ...                        1.381207\n",
              "\n",
              "[1 rows x 8 columns]"
            ]
          },
          "metadata": {
            "tags": []
          },
          "execution_count": 163
        }
      ]
    },
    {
      "cell_type": "markdown",
      "metadata": {
        "id": "S5yuWJtzR5lO"
      },
      "source": [
        "## **Support Vector Machine**"
      ]
    },
    {
      "cell_type": "markdown",
      "metadata": {
        "id": "YZM7Ys5xR5lP"
      },
      "source": [
        "### **categories_df**"
      ]
    },
    {
      "cell_type": "code",
      "metadata": {
        "colab": {
          "base_uri": "https://localhost:8080/"
        },
        "id": "E-UHZjaUR5lP",
        "outputId": "b588ba9f-800b-4b19-96f6-50517d27031c"
      },
      "source": [
        "#set features & target\n",
        "X = categories_df.drop(columns=['avg_sal', 'log_avg_sal'])\n",
        "y = categories_df['avg_sal']\n",
        "\n",
        "#split data into training & test sets\n",
        "X_train, X_test, y_train, y_test = train_test_split(X, y, test_size = 0.2, random_state = 43)\n",
        "\n",
        "#Use grid search to find best hyperparameters\n",
        "# defining parameter range \n",
        "param_grid = {'C': [0.001, 0.01, 0.1, 1, 10],\n",
        " 'gamma': [0.001, 0.01, 0.1, 1]\n",
        "} \n",
        "  \n",
        "categories_svm_grid = GridSearchCV(svm.SVR(kernel='rbf'), param_grid)\n",
        "# fitting the model for grid search \n",
        "categories_svm_grid.fit(X_train, y_train) \n",
        "# print best parameter after tuning \n",
        "print(categories_svm_grid.best_params_) \n",
        "  \n",
        "# print how our model looks after hyper-parameter tuning \n",
        "print(categories_svm_grid.best_estimator_) "
      ],
      "execution_count": null,
      "outputs": [
        {
          "output_type": "stream",
          "text": [
            "{'C': 10, 'gamma': 0.01}\n",
            "SVR(C=10, cache_size=200, coef0=0.0, degree=3, epsilon=0.1, gamma=0.01,\n",
            "    kernel='rbf', max_iter=-1, shrinking=True, tol=0.001, verbose=False)\n"
          ],
          "name": "stdout"
        }
      ]
    },
    {
      "cell_type": "code",
      "metadata": {
        "colab": {
          "base_uri": "https://localhost:8080/"
        },
        "id": "r7buSw3uR5lQ",
        "outputId": "524a4933-c384-4fb0-9274-c708c502d03c"
      },
      "source": [
        "#set model with ideal hyperparameters from above\n",
        "categories_svm = categories_svm_grid.best_estimator_\n",
        "\n",
        "categories_svm.fit(X_train, y_train)\n",
        "\n",
        "#cross validate\n",
        "categories_svm_scores = cross_val_score(categories_svm, X_train, y_train, cv = 5)\n",
        "\n",
        "print('Accuracy Scores for the 5 folds: ', categories_svm_scores)\n",
        "print('Mean Cross Validation Score: {:.33f}'.format(np.mean(categories_svm_scores)))"
      ],
      "execution_count": null,
      "outputs": [
        {
          "output_type": "stream",
          "text": [
            "Accuracy Scores for the 5 folds:  [ 0.00410202 -0.01421361  0.0094185  -0.02941012 -0.01103282]\n",
            "Mean Cross Validation Score: -0.008227204881794847324272268451750\n"
          ],
          "name": "stdout"
        }
      ]
    },
    {
      "cell_type": "code",
      "metadata": {
        "colab": {
          "base_uri": "https://localhost:8080/",
          "height": 108
        },
        "id": "WXG7IuEOR5lR",
        "outputId": "cfe2b209-746c-4add-cc08-dd85cf63f054"
      },
      "source": [
        "#generate predictions\n",
        "categories_svm_preds = categories_svm.predict(X_test)\n",
        "\n",
        "#more performance metrics\n",
        "categories_svm_rsquared_train = categories_svm.score(X_train, y_train)\n",
        "categories_svm_rsquared_test = categories_svm.score(X_test, y_test)\n",
        "categories_svm_mae = mean_absolute_error(y_test, categories_svm_preds)\n",
        "categories_svm_mse = mse(y_test, categories_svm_preds)\n",
        "categories_svm_rmse = rmse(y_test, categories_svm_preds)\n",
        "categories_svm_mape = np.mean(np.abs((y_test - categories_svm_preds)/y_test)*100)\n",
        "categories_svm_rmspe = (np.sqrt(np.mean(np.square((y_test - categories_svm_preds) / y_test)))) * 100\n",
        "categories_svm_model_name = 'Categories SVM'\n",
        "\n",
        "#create easily readable display of performance metrics\n",
        "categories_svm_dictionary = {'Model': categories_svm_model_name,\n",
        "  'Training Set R Squared': categories_svm_rsquared_train, \n",
        "  'Test Set R Squared': categories_svm_rsquared_test, 'Mean Absolute Error': categories_svm_mae, \n",
        "  'Mean Sqaured Error': categories_svm_mse, 'Root Mean Squared Error': categories_svm_rmse,\n",
        "  'Root Mean Squared Percentage Error': categories_svm_rmspe,\n",
        "  'Mean Absolute Percentage Error': categories_svm_mape}\n",
        "\n",
        "categories_svm_df = pd.DataFrame(categories_svm_dictionary, index=[0])\n",
        "\n",
        "categories_svm_df"
      ],
      "execution_count": null,
      "outputs": [
        {
          "output_type": "execute_result",
          "data": {
            "text/html": [
              "<div>\n",
              "<style scoped>\n",
              "    .dataframe tbody tr th:only-of-type {\n",
              "        vertical-align: middle;\n",
              "    }\n",
              "\n",
              "    .dataframe tbody tr th {\n",
              "        vertical-align: top;\n",
              "    }\n",
              "\n",
              "    .dataframe thead th {\n",
              "        text-align: right;\n",
              "    }\n",
              "</style>\n",
              "<table border=\"1\" class=\"dataframe\">\n",
              "  <thead>\n",
              "    <tr style=\"text-align: right;\">\n",
              "      <th></th>\n",
              "      <th>Model</th>\n",
              "      <th>Training Set R Squared</th>\n",
              "      <th>Test Set R Squared</th>\n",
              "      <th>Mean Absolute Error</th>\n",
              "      <th>Mean Sqaured Error</th>\n",
              "      <th>Root Mean Squared Error</th>\n",
              "      <th>Root Mean Squared Percentage Error</th>\n",
              "      <th>Mean Absolute Percentage Error</th>\n",
              "    </tr>\n",
              "  </thead>\n",
              "  <tbody>\n",
              "    <tr>\n",
              "      <th>0</th>\n",
              "      <td>Categories SVM</td>\n",
              "      <td>-0.001405</td>\n",
              "      <td>-0.012302</td>\n",
              "      <td>27366.191869</td>\n",
              "      <td>1.229689e+09</td>\n",
              "      <td>35066.915675</td>\n",
              "      <td>37.668476</td>\n",
              "      <td>29.70274</td>\n",
              "    </tr>\n",
              "  </tbody>\n",
              "</table>\n",
              "</div>"
            ],
            "text/plain": [
              "            Model  ...  Mean Absolute Percentage Error\n",
              "0  Categories SVM  ...                        29.70274\n",
              "\n",
              "[1 rows x 8 columns]"
            ]
          },
          "metadata": {
            "tags": []
          },
          "execution_count": 167
        }
      ]
    },
    {
      "cell_type": "markdown",
      "metadata": {
        "id": "7aNLLbq5R5lS"
      },
      "source": [
        "### **yrs_exp_df**"
      ]
    },
    {
      "cell_type": "code",
      "metadata": {
        "id": "OPOKG8kqR5lS",
        "colab": {
          "base_uri": "https://localhost:8080/"
        },
        "outputId": "2fbc0c02-c210-48a4-99d9-7b73bc7f70c5"
      },
      "source": [
        "#set features & target\n",
        "X = yrs_exp_df.drop(columns=['avg_sal', 'log_avg_sal'])\n",
        "y = yrs_exp_df['avg_sal']\n",
        "\n",
        "#split data into training & test sets\n",
        "X_train, X_test, y_train, y_test = train_test_split(X, y, test_size = 0.2, random_state = 43)\n",
        "\n",
        "#Use grid search to find best hyperparameters\n",
        "# defining parameter range \n",
        "param_grid = {'C': [0.001, 0.01, 0.1, 1, 10],\n",
        " 'gamma': [0.001, 0.01, 0.1, 1]\n",
        "} \n",
        "  \n",
        "yrs_exp_svm_grid = GridSearchCV(svm.SVR(kernel='rbf'), param_grid)\n",
        "# fitting the model for grid search \n",
        "yrs_exp_svm_grid.fit(X_train, y_train) \n",
        "# print best parameter after tuning \n",
        "print(yrs_exp_svm_grid.best_params_) \n",
        "  \n",
        "# print how our model looks after hyper-parameter tuning \n",
        "print(yrs_exp_svm_grid.best_estimator_)  "
      ],
      "execution_count": null,
      "outputs": [
        {
          "output_type": "stream",
          "text": [
            "{'C': 10, 'gamma': 0.01}\n",
            "SVR(C=10, cache_size=200, coef0=0.0, degree=3, epsilon=0.1, gamma=0.01,\n",
            "    kernel='rbf', max_iter=-1, shrinking=True, tol=0.001, verbose=False)\n"
          ],
          "name": "stdout"
        }
      ]
    },
    {
      "cell_type": "code",
      "metadata": {
        "colab": {
          "base_uri": "https://localhost:8080/"
        },
        "id": "z5E6Kz8ZR5lS",
        "outputId": "c75ec348-e5b4-411c-b7e0-cd7f19ed8b64"
      },
      "source": [
        "#set model with ideal hyperparameters from above\n",
        "yrs_exp_svm = yrs_exp_svm_grid.best_estimator_\n",
        "\n",
        "yrs_exp_svm.fit(X_train, y_train)\n",
        "\n",
        "#cross validate\n",
        "yrs_exp_svm_scores = cross_val_score(yrs_exp_svm, X_train, y_train, cv = 5)\n",
        "\n",
        "print('Accuracy Scores for the 5 folds: ', yrs_exp_svm_scores)\n",
        "print('Mean Cross Validation Score: {:.33f}'.format(np.mean(yrs_exp_svm_scores)))"
      ],
      "execution_count": null,
      "outputs": [
        {
          "output_type": "stream",
          "text": [
            "Accuracy Scores for the 5 folds:  [-0.02807345  0.00095264  0.01374131 -0.02376575 -0.00369812]\n",
            "Mean Cross Validation Score: -0.008168674852056500776398273444556\n"
          ],
          "name": "stdout"
        }
      ]
    },
    {
      "cell_type": "code",
      "metadata": {
        "colab": {
          "base_uri": "https://localhost:8080/",
          "height": 108
        },
        "id": "fOvN8gHKR5lT",
        "outputId": "110aa129-23a9-4526-9292-48d883bf0bda"
      },
      "source": [
        "#generate predictions\n",
        "yrs_exp_svm_preds = yrs_exp_svm.predict(X_test)\n",
        "\n",
        "#more performance metrics\n",
        "yrs_exp_svm_rsquared_train = yrs_exp_svm.score(X_train, y_train)\n",
        "yrs_exp_svm_rsquared_test = yrs_exp_svm.score(X_test, y_test)\n",
        "yrs_exp_svm_mae = mean_absolute_error(y_test, yrs_exp_svm_preds)\n",
        "yrs_exp_svm_mse = mse(y_test, yrs_exp_svm_preds)\n",
        "yrs_exp_svm_rmse = rmse(y_test, yrs_exp_svm_preds)\n",
        "yrs_exp_svm_mape = np.mean(np.abs((y_test - yrs_exp_svm_preds)/y_test)*100)\n",
        "yrs_exp_svm_rmspe = (np.sqrt(np.mean(np.square((y_test - yrs_exp_svm_preds) / y_test)))) * 100\n",
        "yrs_exp_svm_model_name = 'Years of Experience SVM'\n",
        "\n",
        "#create easily readable display of performance metrics\n",
        "yrs_exp_svm_dictionary = {'Model': yrs_exp_svm_model_name,\n",
        "  'Training Set R Squared': yrs_exp_svm_rsquared_train, \n",
        "  'Test Set R Squared': yrs_exp_svm_rsquared_test, 'Mean Absolute Error': yrs_exp_svm_mae, \n",
        "  'Mean Sqaured Error': yrs_exp_svm_mse, 'Root Mean Squared Error': yrs_exp_svm_rmse,\n",
        "  'Root Mean Squared Percentage Error': yrs_exp_svm_rmspe,\n",
        "  'Mean Absolute Percentage Error': yrs_exp_svm_mape}\n",
        "\n",
        "yrs_exp_svm_df = pd.DataFrame(yrs_exp_svm_dictionary, index=[0])\n",
        "\n",
        "yrs_exp_svm_df"
      ],
      "execution_count": null,
      "outputs": [
        {
          "output_type": "execute_result",
          "data": {
            "text/html": [
              "<div>\n",
              "<style scoped>\n",
              "    .dataframe tbody tr th:only-of-type {\n",
              "        vertical-align: middle;\n",
              "    }\n",
              "\n",
              "    .dataframe tbody tr th {\n",
              "        vertical-align: top;\n",
              "    }\n",
              "\n",
              "    .dataframe thead th {\n",
              "        text-align: right;\n",
              "    }\n",
              "</style>\n",
              "<table border=\"1\" class=\"dataframe\">\n",
              "  <thead>\n",
              "    <tr style=\"text-align: right;\">\n",
              "      <th></th>\n",
              "      <th>Model</th>\n",
              "      <th>Training Set R Squared</th>\n",
              "      <th>Test Set R Squared</th>\n",
              "      <th>Mean Absolute Error</th>\n",
              "      <th>Mean Sqaured Error</th>\n",
              "      <th>Root Mean Squared Error</th>\n",
              "      <th>Root Mean Squared Percentage Error</th>\n",
              "      <th>Mean Absolute Percentage Error</th>\n",
              "    </tr>\n",
              "  </thead>\n",
              "  <tbody>\n",
              "    <tr>\n",
              "      <th>0</th>\n",
              "      <td>Years of Experience SVM</td>\n",
              "      <td>-0.002256</td>\n",
              "      <td>0.006884</td>\n",
              "      <td>26856.201708</td>\n",
              "      <td>1.188746e+09</td>\n",
              "      <td>34478.202152</td>\n",
              "      <td>39.247782</td>\n",
              "      <td>30.510856</td>\n",
              "    </tr>\n",
              "  </tbody>\n",
              "</table>\n",
              "</div>"
            ],
            "text/plain": [
              "                     Model  ...  Mean Absolute Percentage Error\n",
              "0  Years of Experience SVM  ...                       30.510856\n",
              "\n",
              "[1 rows x 8 columns]"
            ]
          },
          "metadata": {
            "tags": []
          },
          "execution_count": 170
        }
      ]
    },
    {
      "cell_type": "markdown",
      "metadata": {
        "id": "VUuvxds2vVVH"
      },
      "source": [
        "### **categories_df log(y)**"
      ]
    },
    {
      "cell_type": "code",
      "metadata": {
        "colab": {
          "base_uri": "https://localhost:8080/"
        },
        "id": "w7iuM5w1vVVL",
        "outputId": "14387986-7811-45ba-fd3a-d2bd85a5d48b"
      },
      "source": [
        "#set features & target\n",
        "X = categories_df.drop(columns=['avg_sal', 'log_avg_sal'])\n",
        "y = categories_df['log_avg_sal']\n",
        "\n",
        "#split data into training & test sets\n",
        "X_train, X_test, y_train, y_test = train_test_split(X, y, test_size = 0.2, random_state = 43)\n",
        "\n",
        "#Use grid search to find best hyperparameters\n",
        "# defining parameter range \n",
        "param_grid = {'C': [0.001, 0.01, 0.1, 1, 10],\n",
        " 'gamma': [0.001, 0.01, 0.1, 1]\n",
        "} \n",
        "  \n",
        "log_categories_svm_grid = GridSearchCV(svm.SVR(kernel='rbf'), param_grid)\n",
        "# fitting the model for grid search \n",
        "log_categories_svm_grid.fit(X_train, y_train) \n",
        "# print best parameter after tuning \n",
        "print(log_categories_svm_grid.best_params_) \n",
        "  \n",
        "# print how our model looks after hyper-parameter tuning \n",
        "print(log_categories_svm_grid.best_estimator_) "
      ],
      "execution_count": null,
      "outputs": [
        {
          "output_type": "stream",
          "text": [
            "{'C': 1, 'gamma': 0.01}\n",
            "SVR(C=1, cache_size=200, coef0=0.0, degree=3, epsilon=0.1, gamma=0.01,\n",
            "    kernel='rbf', max_iter=-1, shrinking=True, tol=0.001, verbose=False)\n"
          ],
          "name": "stdout"
        }
      ]
    },
    {
      "cell_type": "code",
      "metadata": {
        "colab": {
          "base_uri": "https://localhost:8080/"
        },
        "id": "o1uGlqKGvVVO",
        "outputId": "95ce03b2-49be-46f3-afb3-fd39bab160be"
      },
      "source": [
        "#set model with ideal hyperparameters from above\n",
        "log_categories_svm = log_categories_svm_grid.best_estimator_\n",
        "\n",
        "\n",
        "log_categories_svm.fit(X_train, y_train)\n",
        "\n",
        "#cross validate\n",
        "log_categories_svm_scores = cross_val_score(log_categories_svm, X_train, y_train, cv = 5)\n",
        "\n",
        "print('Accuracy Scores for the 5 folds: ', log_categories_svm_scores)\n",
        "print('Mean Cross Validation Score: {:.33f}'.format(np.mean(log_categories_svm_scores)))"
      ],
      "execution_count": null,
      "outputs": [
        {
          "output_type": "stream",
          "text": [
            "Accuracy Scores for the 5 folds:  [0.53506103 0.53949392 0.51016296 0.5397658  0.53353468]\n",
            "Mean Cross Validation Score: 0.531603679228343839469062004354782\n"
          ],
          "name": "stdout"
        }
      ]
    },
    {
      "cell_type": "code",
      "metadata": {
        "colab": {
          "base_uri": "https://localhost:8080/",
          "height": 108
        },
        "id": "zFWPijB1vVVO",
        "outputId": "7072c0b0-60b5-48b8-9875-f106ba6f2bf1"
      },
      "source": [
        "#generate predictions\n",
        "log_categories_svm_preds = log_categories_svm.predict(X_test)\n",
        "\n",
        "#more performance metrics\n",
        "log_categories_svm_rsquared_train = log_categories_svm.score(X_train, y_train)\n",
        "log_categories_svm_rsquared_test = log_categories_svm.score(X_test, y_test)\n",
        "log_categories_svm_mae = mean_absolute_error(y_test, log_categories_svm_preds)\n",
        "log_categories_svm_mse = mse(y_test, log_categories_svm_preds)\n",
        "log_categories_svm_rmse = rmse(y_test, log_categories_svm_preds)\n",
        "log_categories_svm_mape = np.mean(np.abs((y_test - log_categories_svm_preds)/y_test)*100)\n",
        "log_categories_svm_rmspe = (np.sqrt(np.mean(np.square((y_test - log_categories_svm_preds) / y_test)))) * 100\n",
        "log_categories_svm_model_name = 'Categories SVM Log(y)'\n",
        "\n",
        "#create easily readable display of performance metrics\n",
        "log_categories_svm_dictionary = {'Model': log_categories_svm_model_name,\n",
        "  'Training Set R Squared': log_categories_svm_rsquared_train, \n",
        "  'Test Set R Squared': log_categories_svm_rsquared_test, 'Mean Absolute Error': log_categories_svm_mae, \n",
        "  'Mean Sqaured Error': log_categories_svm_mse, 'Root Mean Squared Error': log_categories_svm_rmse,\n",
        "  'Root Mean Squared Percentage Error': log_categories_svm_rmspe,\n",
        "  'Mean Absolute Percentage Error': log_categories_svm_mape}\n",
        "\n",
        "log_categories_svm_df = pd.DataFrame(log_categories_svm_dictionary, index=[0])\n",
        "\n",
        "log_categories_svm_df"
      ],
      "execution_count": null,
      "outputs": [
        {
          "output_type": "execute_result",
          "data": {
            "text/html": [
              "<div>\n",
              "<style scoped>\n",
              "    .dataframe tbody tr th:only-of-type {\n",
              "        vertical-align: middle;\n",
              "    }\n",
              "\n",
              "    .dataframe tbody tr th {\n",
              "        vertical-align: top;\n",
              "    }\n",
              "\n",
              "    .dataframe thead th {\n",
              "        text-align: right;\n",
              "    }\n",
              "</style>\n",
              "<table border=\"1\" class=\"dataframe\">\n",
              "  <thead>\n",
              "    <tr style=\"text-align: right;\">\n",
              "      <th></th>\n",
              "      <th>Model</th>\n",
              "      <th>Training Set R Squared</th>\n",
              "      <th>Test Set R Squared</th>\n",
              "      <th>Mean Absolute Error</th>\n",
              "      <th>Mean Sqaured Error</th>\n",
              "      <th>Root Mean Squared Error</th>\n",
              "      <th>Root Mean Squared Percentage Error</th>\n",
              "      <th>Mean Absolute Percentage Error</th>\n",
              "    </tr>\n",
              "  </thead>\n",
              "  <tbody>\n",
              "    <tr>\n",
              "      <th>0</th>\n",
              "      <td>Categories SVM Log(y)</td>\n",
              "      <td>0.580485</td>\n",
              "      <td>0.574954</td>\n",
              "      <td>0.179829</td>\n",
              "      <td>0.054718</td>\n",
              "      <td>0.233919</td>\n",
              "      <td>2.061605</td>\n",
              "      <td>1.579479</td>\n",
              "    </tr>\n",
              "  </tbody>\n",
              "</table>\n",
              "</div>"
            ],
            "text/plain": [
              "                   Model  ...  Mean Absolute Percentage Error\n",
              "0  Categories SVM Log(y)  ...                        1.579479\n",
              "\n",
              "[1 rows x 8 columns]"
            ]
          },
          "metadata": {
            "tags": []
          },
          "execution_count": 173
        }
      ]
    },
    {
      "cell_type": "markdown",
      "metadata": {
        "id": "sEZBCr9kvVVP"
      },
      "source": [
        "### **yrs_exp_df log(y)**"
      ]
    },
    {
      "cell_type": "code",
      "metadata": {
        "colab": {
          "base_uri": "https://localhost:8080/"
        },
        "id": "arneeW-bvVVP",
        "outputId": "fdb7a76b-4adb-4e6d-f5cc-74783cc2fb7d"
      },
      "source": [
        "#set features & target\n",
        "X = yrs_exp_df.drop(columns=['avg_sal', 'log_avg_sal'])\n",
        "y = yrs_exp_df['log_avg_sal']\n",
        "\n",
        "#split data into training & test sets\n",
        "X_train, X_test, y_train, y_test = train_test_split(X, y, test_size = 0.2, random_state = 43)\n",
        "\n",
        "#Use grid search to find best hyperparameters\n",
        "# defining parameter range \n",
        "param_grid = {'C': [0.001, 0.01, 0.1, 1, 10],\n",
        " 'gamma': [0.001, 0.01, 0.1, 1]\n",
        "} \n",
        "  \n",
        "log_yrs_exp_svm_grid = GridSearchCV(svm.SVR(kernel='rbf'), param_grid)\n",
        "# fitting the model for grid search \n",
        "log_yrs_exp_svm_grid.fit(X_train, y_train) \n",
        "# print best parameter after tuning \n",
        "print(log_yrs_exp_svm_grid.best_params_) \n",
        "  \n",
        "# print how our model looks after hyper-parameter tuning \n",
        "print(log_yrs_exp_svm_grid.best_estimator_)  "
      ],
      "execution_count": null,
      "outputs": [
        {
          "output_type": "stream",
          "text": [
            "{'C': 1, 'gamma': 0.01}\n",
            "SVR(C=1, cache_size=200, coef0=0.0, degree=3, epsilon=0.1, gamma=0.01,\n",
            "    kernel='rbf', max_iter=-1, shrinking=True, tol=0.001, verbose=False)\n"
          ],
          "name": "stdout"
        }
      ]
    },
    {
      "cell_type": "code",
      "metadata": {
        "colab": {
          "base_uri": "https://localhost:8080/"
        },
        "id": "taUOOZ01vVVP",
        "outputId": "45438f09-c497-406a-8434-a543e4e838c0"
      },
      "source": [
        "#set model with ideal hyperparameters from above\n",
        "log_yrs_exp_svm = log_yrs_exp_svm_grid.best_estimator_\n",
        "\n",
        "log_yrs_exp_svm.fit(X_train, y_train)\n",
        "\n",
        "#cross validate\n",
        "log_yrs_exp_svm_scores = cross_val_score(log_yrs_exp_svm, X_train, y_train, cv = 5)\n",
        "\n",
        "print('Accuracy Scores for the 5 folds: ', log_yrs_exp_svm_scores)\n",
        "print('Mean Cross Validation Score: {:.33f}'.format(np.mean(log_yrs_exp_svm_scores)))"
      ],
      "execution_count": null,
      "outputs": [
        {
          "output_type": "stream",
          "text": [
            "Accuracy Scores for the 5 folds:  [0.52982877 0.53625518 0.55921781 0.52243878 0.55099   ]\n",
            "Mean Cross Validation Score: 0.539746107207133229977102928387467\n"
          ],
          "name": "stdout"
        }
      ]
    },
    {
      "cell_type": "code",
      "metadata": {
        "colab": {
          "base_uri": "https://localhost:8080/",
          "height": 108
        },
        "id": "5ox-586YvVVQ",
        "outputId": "ef0bf858-e36c-4c5d-eaee-819d58ec730f"
      },
      "source": [
        "#generate predictions\n",
        "log_yrs_exp_svm_preds = log_yrs_exp_svm.predict(X_test)\n",
        "\n",
        "#more performance metrics\n",
        "log_yrs_exp_svm_rsquared_train = log_yrs_exp_svm.score(X_train, y_train)\n",
        "log_yrs_exp_svm_rsquared_test = log_yrs_exp_svm.score(X_test, y_test)\n",
        "log_yrs_exp_svm_mae = mean_absolute_error(y_test, log_yrs_exp_svm_preds)\n",
        "log_yrs_exp_svm_mse = mse(y_test, log_yrs_exp_svm_preds)\n",
        "log_yrs_exp_svm_rmse = rmse(y_test, log_yrs_exp_svm_preds)\n",
        "log_yrs_exp_svm_mape = np.mean(np.abs((y_test - log_yrs_exp_svm_preds)/y_test)*100)\n",
        "log_yrs_exp_svm_rmspe = (np.sqrt(np.mean(np.square((y_test - log_yrs_exp_svm_preds) / y_test)))) * 100\n",
        "log_yrs_exp_svm_model_name = 'Years of Experience SVM Log(y)'\n",
        "\n",
        "#create easily readable display of performance metrics\n",
        "log_yrs_exp_svm_dictionary = {'Model': log_yrs_exp_svm_model_name,\n",
        "  'Training Set R Squared': log_yrs_exp_svm_rsquared_train, \n",
        "  'Test Set R Squared': log_yrs_exp_svm_rsquared_test, 'Mean Absolute Error': log_yrs_exp_svm_mae, \n",
        "  'Mean Sqaured Error': log_yrs_exp_svm_mse, 'Root Mean Squared Error': log_yrs_exp_svm_rmse,\n",
        "  'Root Mean Squared Percentage Error': log_yrs_exp_svm_rmspe,\n",
        "  'Mean Absolute Percentage Error': log_yrs_exp_svm_mape}\n",
        "\n",
        "log_yrs_exp_svm_df = pd.DataFrame(log_yrs_exp_svm_dictionary, index=[0])\n",
        "\n",
        "log_yrs_exp_svm_df"
      ],
      "execution_count": null,
      "outputs": [
        {
          "output_type": "execute_result",
          "data": {
            "text/html": [
              "<div>\n",
              "<style scoped>\n",
              "    .dataframe tbody tr th:only-of-type {\n",
              "        vertical-align: middle;\n",
              "    }\n",
              "\n",
              "    .dataframe tbody tr th {\n",
              "        vertical-align: top;\n",
              "    }\n",
              "\n",
              "    .dataframe thead th {\n",
              "        text-align: right;\n",
              "    }\n",
              "</style>\n",
              "<table border=\"1\" class=\"dataframe\">\n",
              "  <thead>\n",
              "    <tr style=\"text-align: right;\">\n",
              "      <th></th>\n",
              "      <th>Model</th>\n",
              "      <th>Training Set R Squared</th>\n",
              "      <th>Test Set R Squared</th>\n",
              "      <th>Mean Absolute Error</th>\n",
              "      <th>Mean Sqaured Error</th>\n",
              "      <th>Root Mean Squared Error</th>\n",
              "      <th>Root Mean Squared Percentage Error</th>\n",
              "      <th>Mean Absolute Percentage Error</th>\n",
              "    </tr>\n",
              "  </thead>\n",
              "  <tbody>\n",
              "    <tr>\n",
              "      <th>0</th>\n",
              "      <td>Years of Experience SVM Log(y)</td>\n",
              "      <td>0.591758</td>\n",
              "      <td>0.581838</td>\n",
              "      <td>0.177128</td>\n",
              "      <td>0.054613</td>\n",
              "      <td>0.233694</td>\n",
              "      <td>2.065633</td>\n",
              "      <td>1.560814</td>\n",
              "    </tr>\n",
              "  </tbody>\n",
              "</table>\n",
              "</div>"
            ],
            "text/plain": [
              "                            Model  ...  Mean Absolute Percentage Error\n",
              "0  Years of Experience SVM Log(y)  ...                        1.560814\n",
              "\n",
              "[1 rows x 8 columns]"
            ]
          },
          "metadata": {
            "tags": []
          },
          "execution_count": 176
        }
      ]
    },
    {
      "cell_type": "markdown",
      "metadata": {
        "id": "mKGI07ipQ3cG"
      },
      "source": [
        "### **cat_no_outliers_df**"
      ]
    },
    {
      "cell_type": "code",
      "metadata": {
        "colab": {
          "base_uri": "https://localhost:8080/"
        },
        "id": "m2nEnrtJQ3cG",
        "outputId": "a163bc1f-b56f-499a-faba-857989995502"
      },
      "source": [
        "#set features & target\n",
        "X = cat_no_outliers_df.drop(columns=['avg_sal', 'log_avg_sal'])\n",
        "y = cat_no_outliers_df['avg_sal']\n",
        "\n",
        "#split data into training & test sets\n",
        "X_train, X_test, y_train, y_test = train_test_split(X, y, test_size = 0.2, random_state = 43)\n",
        "\n",
        "#Use grid search to find best hyperparameters\n",
        "# defining parameter range \n",
        "param_grid = {'C': [0.001, 0.01, 0.1, 1, 10],\n",
        " 'gamma': [0.001, 0.01, 0.1, 1]\n",
        "} \n",
        "  \n",
        "cat_no_outliers_svm_grid = GridSearchCV(svm.SVR(kernel='rbf'), param_grid)\n",
        "# fitting the model for grid search \n",
        "cat_no_outliers_svm_grid.fit(X_train, y_train) \n",
        "# print best parameter after tuning \n",
        "print(cat_no_outliers_svm_grid.best_params_) \n",
        "  \n",
        "# print how our model looks after hyper-parameter tuning \n",
        "print(cat_no_outliers_svm_grid.best_estimator_) "
      ],
      "execution_count": null,
      "outputs": [
        {
          "output_type": "stream",
          "text": [
            "{'C': 10, 'gamma': 0.01}\n",
            "SVR(C=10, cache_size=200, coef0=0.0, degree=3, epsilon=0.1, gamma=0.01,\n",
            "    kernel='rbf', max_iter=-1, shrinking=True, tol=0.001, verbose=False)\n"
          ],
          "name": "stdout"
        }
      ]
    },
    {
      "cell_type": "code",
      "metadata": {
        "colab": {
          "base_uri": "https://localhost:8080/"
        },
        "id": "3dsEEEXtQ3cH",
        "outputId": "98daa72b-85cc-41aa-9994-fab67a12b249"
      },
      "source": [
        "#set model with ideal hyperparameters from above\n",
        "cat_no_outliers_svm = cat_no_outliers_svm_grid.best_estimator_\n",
        "\n",
        "cat_no_outliers_svm.fit(X_train, y_train)\n",
        "\n",
        "#cross validate\n",
        "cat_no_outliers_svm_scores = cross_val_score(cat_no_outliers_svm, X_train, y_train, cv = 5)\n",
        "\n",
        "print('Accuracy Scores for the 5 folds: ', cat_no_outliers_svm_scores)\n",
        "print('Mean Cross Validation Score: {:.33f}'.format(np.mean(cat_no_outliers_svm_scores)))"
      ],
      "execution_count": null,
      "outputs": [
        {
          "output_type": "stream",
          "text": [
            "Accuracy Scores for the 5 folds:  [-0.00247775 -0.0326317   0.0097676   0.00815561  0.00307685]\n",
            "Mean Cross Validation Score: -0.002821878126106369590736511199225\n"
          ],
          "name": "stdout"
        }
      ]
    },
    {
      "cell_type": "code",
      "metadata": {
        "colab": {
          "base_uri": "https://localhost:8080/",
          "height": 108
        },
        "id": "OzUBmtsoQ3cH",
        "outputId": "29b63ed5-181d-4671-d9c0-9ae4f6109039"
      },
      "source": [
        "#generate predictions\n",
        "cat_no_outliers_svm_preds = cat_no_outliers_svm.predict(X_test)\n",
        "\n",
        "#more performance metrics\n",
        "cat_no_outliers_svm_rsquared_train = cat_no_outliers_svm.score(X_train, y_train)\n",
        "cat_no_outliers_svm_rsquared_test = cat_no_outliers_svm.score(X_test, y_test)\n",
        "cat_no_outliers_svm_mae = mean_absolute_error(y_test, cat_no_outliers_svm_preds)\n",
        "cat_no_outliers_svm_mse = mse(y_test, cat_no_outliers_svm_preds)\n",
        "cat_no_outliers_svm_rmse = rmse(y_test, cat_no_outliers_svm_preds)\n",
        "cat_no_outliers_svm_mape = np.mean(np.abs((y_test - cat_no_outliers_svm_preds)/y_test)*100)\n",
        "cat_no_outliers_svm_rmspe = (np.sqrt(np.mean(np.square((y_test - cat_no_outliers_svm_preds) / y_test)))) * 100\n",
        "cat_no_outliers_svm_model_name = 'Categories w/o Outliers SVM'\n",
        "\n",
        "#create easily readable display of performance metrics\n",
        "cat_no_outliers_svm_dictionary = {'Model': cat_no_outliers_svm_model_name,\n",
        "  'Training Set R Squared': cat_no_outliers_svm_rsquared_train, \n",
        "  'Test Set R Squared': cat_no_outliers_svm_rsquared_test, 'Mean Absolute Error': cat_no_outliers_svm_mae, \n",
        "  'Mean Sqaured Error': cat_no_outliers_svm_mse, 'Root Mean Squared Error': cat_no_outliers_svm_rmse,\n",
        "  'Root Mean Squared Percentage Error': cat_no_outliers_svm_rmspe,\n",
        "  'Mean Absolute Percentage Error': cat_no_outliers_svm_mape}\n",
        "\n",
        "cat_no_outliers_svm_df = pd.DataFrame(cat_no_outliers_svm_dictionary, index=[0])\n",
        "\n",
        "cat_no_outliers_svm_df"
      ],
      "execution_count": null,
      "outputs": [
        {
          "output_type": "execute_result",
          "data": {
            "text/html": [
              "<div>\n",
              "<style scoped>\n",
              "    .dataframe tbody tr th:only-of-type {\n",
              "        vertical-align: middle;\n",
              "    }\n",
              "\n",
              "    .dataframe tbody tr th {\n",
              "        vertical-align: top;\n",
              "    }\n",
              "\n",
              "    .dataframe thead th {\n",
              "        text-align: right;\n",
              "    }\n",
              "</style>\n",
              "<table border=\"1\" class=\"dataframe\">\n",
              "  <thead>\n",
              "    <tr style=\"text-align: right;\">\n",
              "      <th></th>\n",
              "      <th>Model</th>\n",
              "      <th>Training Set R Squared</th>\n",
              "      <th>Test Set R Squared</th>\n",
              "      <th>Mean Absolute Error</th>\n",
              "      <th>Mean Sqaured Error</th>\n",
              "      <th>Root Mean Squared Error</th>\n",
              "      <th>Root Mean Squared Percentage Error</th>\n",
              "      <th>Mean Absolute Percentage Error</th>\n",
              "    </tr>\n",
              "  </thead>\n",
              "  <tbody>\n",
              "    <tr>\n",
              "      <th>0</th>\n",
              "      <td>Categories w/o Outliers SVM</td>\n",
              "      <td>0.005037</td>\n",
              "      <td>0.0043</td>\n",
              "      <td>25862.78921</td>\n",
              "      <td>1.026570e+09</td>\n",
              "      <td>32040.133921</td>\n",
              "      <td>36.661546</td>\n",
              "      <td>29.194231</td>\n",
              "    </tr>\n",
              "  </tbody>\n",
              "</table>\n",
              "</div>"
            ],
            "text/plain": [
              "                         Model  ...  Mean Absolute Percentage Error\n",
              "0  Categories w/o Outliers SVM  ...                       29.194231\n",
              "\n",
              "[1 rows x 8 columns]"
            ]
          },
          "metadata": {
            "tags": []
          },
          "execution_count": 179
        }
      ]
    },
    {
      "cell_type": "markdown",
      "metadata": {
        "id": "iSEpHsHJQ3cI"
      },
      "source": [
        "### **yrs_exp_no_outliers_df**"
      ]
    },
    {
      "cell_type": "code",
      "metadata": {
        "colab": {
          "base_uri": "https://localhost:8080/"
        },
        "id": "h3Kpq2c9Q3cI",
        "outputId": "3530221a-9c78-4264-bf4f-4e04776ed67a"
      },
      "source": [
        "#set features & target\n",
        "X = yrs_exp_no_outliers_df.drop(columns=['avg_sal', 'log_avg_sal'])\n",
        "y = yrs_exp_no_outliers_df['avg_sal']\n",
        "\n",
        "#split data into training & test sets\n",
        "X_train, X_test, y_train, y_test = train_test_split(X, y, test_size = 0.2, random_state = 43)\n",
        "\n",
        "#Use grid search to find best hyperparameters\n",
        "# defining parameter range \n",
        "param_grid = {'C': [0.001, 0.01, 0.1, 1, 10],\n",
        " 'gamma': [0.001, 0.01, 0.1, 1]\n",
        "} \n",
        "  \n",
        "yrs_exp_no_outliers_svm_grid = GridSearchCV(svm.SVR(kernel='rbf'), param_grid)\n",
        "# fitting the model for grid search \n",
        "yrs_exp_no_outliers_svm_grid.fit(X_train, y_train) \n",
        "# print best parameter after tuning \n",
        "print(yrs_exp_no_outliers_svm_grid.best_params_) \n",
        "  \n",
        "# print how our model looks after hyper-parameter tuning \n",
        "print(yrs_exp_no_outliers_svm_grid.best_estimator_)  "
      ],
      "execution_count": null,
      "outputs": [
        {
          "output_type": "stream",
          "text": [
            "{'C': 10, 'gamma': 0.01}\n",
            "SVR(C=10, cache_size=200, coef0=0.0, degree=3, epsilon=0.1, gamma=0.01,\n",
            "    kernel='rbf', max_iter=-1, shrinking=True, tol=0.001, verbose=False)\n"
          ],
          "name": "stdout"
        }
      ]
    },
    {
      "cell_type": "code",
      "metadata": {
        "colab": {
          "base_uri": "https://localhost:8080/"
        },
        "id": "zkbgpzigQ3cI",
        "outputId": "304e00ee-b49c-4612-84c2-467f0eff89f3"
      },
      "source": [
        "#set model with ideal hyperparameters from above\n",
        "yrs_exp_no_outliers_svm = yrs_exp_no_outliers_svm_grid.best_estimator_\n",
        "\n",
        "yrs_exp_no_outliers_svm.fit(X_train, y_train)\n",
        "\n",
        "#cross validate\n",
        "yrs_exp_no_outliers_svm_scores = cross_val_score(yrs_exp_no_outliers_svm, X_train, y_train, cv = 5)\n",
        "\n",
        "print('Accuracy Scores for the 5 folds: ', yrs_exp_no_outliers_svm_scores)\n",
        "print('Mean Cross Validation Score: {:.33f}'.format(np.mean(yrs_exp_no_outliers_svm_scores)))"
      ],
      "execution_count": null,
      "outputs": [
        {
          "output_type": "stream",
          "text": [
            "Accuracy Scores for the 5 folds:  [-0.03716124 -0.02224782  0.01701964 -0.00661814  0.01733006]\n",
            "Mean Cross Validation Score: -0.006335501724768310798097115110750\n"
          ],
          "name": "stdout"
        }
      ]
    },
    {
      "cell_type": "code",
      "metadata": {
        "colab": {
          "base_uri": "https://localhost:8080/",
          "height": 108
        },
        "id": "dU5HUQx4Q3cJ",
        "outputId": "eb43ea6c-1f8c-428f-ecbe-4cb5ce79417e"
      },
      "source": [
        "#generate predictions\n",
        "yrs_exp_no_outliers_svm_preds = yrs_exp_no_outliers_svm.predict(X_test)\n",
        "\n",
        "#more performance metrics\n",
        "yrs_exp_no_outliers_svm_rsquared_train = yrs_exp_no_outliers_svm.score(X_train, y_train)\n",
        "yrs_exp_no_outliers_svm_rsquared_test = yrs_exp_no_outliers_svm.score(X_test, y_test)\n",
        "yrs_exp_no_outliers_svm_mae = mean_absolute_error(y_test, yrs_exp_no_outliers_svm_preds)\n",
        "yrs_exp_no_outliers_svm_mse = mse(y_test, yrs_exp_no_outliers_svm_preds)\n",
        "yrs_exp_no_outliers_svm_rmse = rmse(y_test, yrs_exp_no_outliers_svm_preds)\n",
        "yrs_exp_no_outliers_svm_mape = np.mean(np.abs((y_test - yrs_exp_no_outliers_svm_preds)/y_test)*100)\n",
        "yrs_exp_no_outliers_svm_rmspe = (np.sqrt(np.mean(np.square((y_test - yrs_exp_no_outliers_svm_preds) / y_test)))) * 100\n",
        "yrs_exp_no_outliers_svm_model_name = 'Years of Experience w/o Outliers SVM'\n",
        "\n",
        "#create easily readable display of performance metrics\n",
        "yrs_exp_no_outliers_svm_dictionary = {'Model': yrs_exp_no_outliers_svm_model_name,\n",
        "  'Training Set R Squared': yrs_exp_no_outliers_svm_rsquared_train, \n",
        "  'Test Set R Squared': yrs_exp_no_outliers_svm_rsquared_test, 'Mean Absolute Error': yrs_exp_no_outliers_svm_mae, \n",
        "  'Mean Sqaured Error': yrs_exp_no_outliers_svm_mse, 'Root Mean Squared Error': yrs_exp_no_outliers_svm_rmse,\n",
        "  'Root Mean Squared Percentage Error': yrs_exp_no_outliers_svm_rmspe,\n",
        "  'Mean Absolute Percentage Error': yrs_exp_no_outliers_svm_mape}\n",
        "\n",
        "yrs_exp_no_outliers_svm_df = pd.DataFrame(yrs_exp_no_outliers_svm_dictionary, index=[0])\n",
        "\n",
        "yrs_exp_no_outliers_svm_df"
      ],
      "execution_count": null,
      "outputs": [
        {
          "output_type": "execute_result",
          "data": {
            "text/html": [
              "<div>\n",
              "<style scoped>\n",
              "    .dataframe tbody tr th:only-of-type {\n",
              "        vertical-align: middle;\n",
              "    }\n",
              "\n",
              "    .dataframe tbody tr th {\n",
              "        vertical-align: top;\n",
              "    }\n",
              "\n",
              "    .dataframe thead th {\n",
              "        text-align: right;\n",
              "    }\n",
              "</style>\n",
              "<table border=\"1\" class=\"dataframe\">\n",
              "  <thead>\n",
              "    <tr style=\"text-align: right;\">\n",
              "      <th></th>\n",
              "      <th>Model</th>\n",
              "      <th>Training Set R Squared</th>\n",
              "      <th>Test Set R Squared</th>\n",
              "      <th>Mean Absolute Error</th>\n",
              "      <th>Mean Sqaured Error</th>\n",
              "      <th>Root Mean Squared Error</th>\n",
              "      <th>Root Mean Squared Percentage Error</th>\n",
              "      <th>Mean Absolute Percentage Error</th>\n",
              "    </tr>\n",
              "  </thead>\n",
              "  <tbody>\n",
              "    <tr>\n",
              "      <th>0</th>\n",
              "      <td>Years of Experience w/o Outliers SVM</td>\n",
              "      <td>0.002433</td>\n",
              "      <td>-0.018597</td>\n",
              "      <td>24904.949246</td>\n",
              "      <td>9.705372e+08</td>\n",
              "      <td>31153.446497</td>\n",
              "      <td>34.902355</td>\n",
              "      <td>27.592085</td>\n",
              "    </tr>\n",
              "  </tbody>\n",
              "</table>\n",
              "</div>"
            ],
            "text/plain": [
              "                                  Model  ...  Mean Absolute Percentage Error\n",
              "0  Years of Experience w/o Outliers SVM  ...                       27.592085\n",
              "\n",
              "[1 rows x 8 columns]"
            ]
          },
          "metadata": {
            "tags": []
          },
          "execution_count": 182
        }
      ]
    },
    {
      "cell_type": "markdown",
      "metadata": {
        "id": "4rpcV2KSQ3cJ"
      },
      "source": [
        "### **cat_no_outliers_df log(y)**"
      ]
    },
    {
      "cell_type": "code",
      "metadata": {
        "colab": {
          "base_uri": "https://localhost:8080/"
        },
        "id": "dvUbtG1hQ3cJ",
        "outputId": "d9634ba5-9a09-4b0b-eb84-05e79098b3a7"
      },
      "source": [
        "#set features & target\n",
        "X = cat_no_outliers_df.drop(columns=['avg_sal', 'log_avg_sal'])\n",
        "y = cat_no_outliers_df['log_avg_sal']\n",
        "\n",
        "#split data into training & test sets\n",
        "X_train, X_test, y_train, y_test = train_test_split(X, y, test_size = 0.2, random_state = 43)\n",
        "\n",
        "#Use grid search to find best hyperparameters\n",
        "# defining parameter range \n",
        "param_grid = {'C': [0.001, 0.01, 0.1, 1, 10],\n",
        " 'gamma': [0.001, 0.01, 0.1, 1]\n",
        "} \n",
        "  \n",
        "log_cat_no_outliers_svm_grid = GridSearchCV(svm.SVR(kernel='rbf'), param_grid)\n",
        "# fitting the model for grid search \n",
        "log_cat_no_outliers_svm_grid.fit(X_train, y_train) \n",
        "# print best parameter after tuning \n",
        "print(log_cat_no_outliers_svm_grid.best_params_) \n",
        "  \n",
        "# print how our model looks after hyper-parameter tuning \n",
        "print(log_cat_no_outliers_svm_grid.best_estimator_) "
      ],
      "execution_count": null,
      "outputs": [
        {
          "output_type": "stream",
          "text": [
            "{'C': 1, 'gamma': 0.01}\n",
            "SVR(C=1, cache_size=200, coef0=0.0, degree=3, epsilon=0.1, gamma=0.01,\n",
            "    kernel='rbf', max_iter=-1, shrinking=True, tol=0.001, verbose=False)\n"
          ],
          "name": "stdout"
        }
      ]
    },
    {
      "cell_type": "code",
      "metadata": {
        "colab": {
          "base_uri": "https://localhost:8080/"
        },
        "id": "k80NrxjLQ3cK",
        "outputId": "6a6b00f5-35b9-41e4-90d9-7427e8b7a286"
      },
      "source": [
        "#set model with ideal hyperparameters from above\n",
        "log_cat_no_outliers_svm = log_cat_no_outliers_svm_grid.best_estimator_\n",
        "\n",
        "log_cat_no_outliers_svm.fit(X_train, y_train)\n",
        "\n",
        "#cross validate\n",
        "log_cat_no_outliers_svm_scores = cross_val_score(log_cat_no_outliers_svm, X_train, y_train, cv = 5)\n",
        "\n",
        "print('Accuracy Scores for the 5 folds: ', log_cat_no_outliers_svm_scores)\n",
        "print('Mean Cross Validation Score: {:.33f}'.format(np.mean(log_cat_no_outliers_svm_scores)))"
      ],
      "execution_count": null,
      "outputs": [
        {
          "output_type": "stream",
          "text": [
            "Accuracy Scores for the 5 folds:  [0.54489445 0.50320894 0.57458886 0.51412254 0.53775435]\n",
            "Mean Cross Validation Score: 0.534913828740095853575553519476671\n"
          ],
          "name": "stdout"
        }
      ]
    },
    {
      "cell_type": "code",
      "metadata": {
        "colab": {
          "base_uri": "https://localhost:8080/",
          "height": 108
        },
        "id": "I8S0YM9YQ3cK",
        "outputId": "6688308b-1023-4231-e593-dd166fae94ef"
      },
      "source": [
        "#generate predictions\n",
        "log_cat_no_outliers_svm_preds = log_cat_no_outliers_svm.predict(X_test)\n",
        "\n",
        "#more performance metrics\n",
        "log_cat_no_outliers_svm_rsquared_train = log_cat_no_outliers_svm.score(X_train, y_train)\n",
        "log_cat_no_outliers_svm_rsquared_test = log_cat_no_outliers_svm.score(X_test, y_test)\n",
        "log_cat_no_outliers_svm_mae = mean_absolute_error(y_test, log_cat_no_outliers_svm_preds)\n",
        "log_cat_no_outliers_svm_mse = mse(y_test, log_cat_no_outliers_svm_preds)\n",
        "log_cat_no_outliers_svm_rmse = rmse(y_test, log_cat_no_outliers_svm_preds)\n",
        "log_cat_no_outliers_svm_mape = np.mean(np.abs((y_test - log_cat_no_outliers_svm_preds)/y_test)*100)\n",
        "log_cat_no_outliers_svm_rmspe = (np.sqrt(np.mean(np.square((y_test - log_cat_no_outliers_svm_preds) / y_test)))) * 100\n",
        "log_cat_no_outliers_svm_model_name = 'Categories w/o OUtliers SVM Log(y)'\n",
        "\n",
        "#create easily readable display of performance metrics\n",
        "log_cat_no_outliers_svm_dictionary = {'Model': log_cat_no_outliers_svm_model_name,\n",
        "  'Training Set R Squared': log_cat_no_outliers_svm_rsquared_train, \n",
        "  'Test Set R Squared': log_cat_no_outliers_svm_rsquared_test, 'Mean Absolute Error': log_cat_no_outliers_svm_mae, \n",
        "  'Mean Sqaured Error': log_cat_no_outliers_svm_mse, 'Root Mean Squared Error': log_cat_no_outliers_svm_rmse,\n",
        "  'Root Mean Squared Percentage Error': log_cat_no_outliers_svm_rmspe,\n",
        "  'Mean Absolute Percentage Error': log_cat_no_outliers_svm_mape}\n",
        "\n",
        "log_cat_no_outliers_svm_df = pd.DataFrame(log_cat_no_outliers_svm_dictionary, index=[0])\n",
        "\n",
        "log_cat_no_outliers_svm_df"
      ],
      "execution_count": null,
      "outputs": [
        {
          "output_type": "execute_result",
          "data": {
            "text/html": [
              "<div>\n",
              "<style scoped>\n",
              "    .dataframe tbody tr th:only-of-type {\n",
              "        vertical-align: middle;\n",
              "    }\n",
              "\n",
              "    .dataframe tbody tr th {\n",
              "        vertical-align: top;\n",
              "    }\n",
              "\n",
              "    .dataframe thead th {\n",
              "        text-align: right;\n",
              "    }\n",
              "</style>\n",
              "<table border=\"1\" class=\"dataframe\">\n",
              "  <thead>\n",
              "    <tr style=\"text-align: right;\">\n",
              "      <th></th>\n",
              "      <th>Model</th>\n",
              "      <th>Training Set R Squared</th>\n",
              "      <th>Test Set R Squared</th>\n",
              "      <th>Mean Absolute Error</th>\n",
              "      <th>Mean Sqaured Error</th>\n",
              "      <th>Root Mean Squared Error</th>\n",
              "      <th>Root Mean Squared Percentage Error</th>\n",
              "      <th>Mean Absolute Percentage Error</th>\n",
              "    </tr>\n",
              "  </thead>\n",
              "  <tbody>\n",
              "    <tr>\n",
              "      <th>0</th>\n",
              "      <td>Categories w/o OUtliers SVM Log(y)</td>\n",
              "      <td>0.585692</td>\n",
              "      <td>0.537148</td>\n",
              "      <td>0.182023</td>\n",
              "      <td>0.054804</td>\n",
              "      <td>0.234103</td>\n",
              "      <td>2.068048</td>\n",
              "      <td>1.601874</td>\n",
              "    </tr>\n",
              "  </tbody>\n",
              "</table>\n",
              "</div>"
            ],
            "text/plain": [
              "                                Model  ...  Mean Absolute Percentage Error\n",
              "0  Categories w/o OUtliers SVM Log(y)  ...                        1.601874\n",
              "\n",
              "[1 rows x 8 columns]"
            ]
          },
          "metadata": {
            "tags": []
          },
          "execution_count": 185
        }
      ]
    },
    {
      "cell_type": "markdown",
      "metadata": {
        "id": "jhW9ZoKeQ3cK"
      },
      "source": [
        "### **yrs_exp_no_outliers_df log(y)**"
      ]
    },
    {
      "cell_type": "code",
      "metadata": {
        "colab": {
          "base_uri": "https://localhost:8080/"
        },
        "id": "Ph088rVUQ3cK",
        "outputId": "5aa130ec-878b-4c2a-ff13-71295c7e2966"
      },
      "source": [
        "#set features & target\n",
        "X = yrs_exp_no_outliers_df.drop(columns=['avg_sal', 'log_avg_sal'])\n",
        "y = yrs_exp_no_outliers_df['log_avg_sal']\n",
        "\n",
        "#split data into training & test sets\n",
        "X_train, X_test, y_train, y_test = train_test_split(X, y, test_size = 0.2, random_state = 43)\n",
        "\n",
        "#Use grid search to find best hyperparameters\n",
        "# defining parameter range \n",
        "param_grid = {'C': [0.001, 0.01, 0.1, 1, 10],\n",
        " 'gamma': [0.001, 0.01, 0.1, 1]\n",
        "} \n",
        "  \n",
        "log_yrs_exp_no_outliers_svm_grid = GridSearchCV(svm.SVR(kernel='rbf'), param_grid)\n",
        "# fitting the model for grid search \n",
        "log_yrs_exp_no_outliers_svm_grid.fit(X_train, y_train) \n",
        "# print best parameter after tuning \n",
        "print(log_yrs_exp_no_outliers_svm_grid.best_params_) \n",
        "  \n",
        "# print how our model looks after hyper-parameter tuning \n",
        "print(log_yrs_exp_no_outliers_svm_grid.best_estimator_)  "
      ],
      "execution_count": null,
      "outputs": [
        {
          "output_type": "stream",
          "text": [
            "{'C': 1, 'gamma': 0.01}\n",
            "SVR(C=1, cache_size=200, coef0=0.0, degree=3, epsilon=0.1, gamma=0.01,\n",
            "    kernel='rbf', max_iter=-1, shrinking=True, tol=0.001, verbose=False)\n"
          ],
          "name": "stdout"
        }
      ]
    },
    {
      "cell_type": "code",
      "metadata": {
        "id": "xbFB9WFoQ3cL"
      },
      "source": [
        "#set model with ideal hyperparameters from above\n",
        "log_yrs_exp_no_outliers_svm = log_yrs_exp_no_outliers_svm_grid.best_estimator_\n",
        "\n",
        "log_yrs_exp_no_outliers_svm.fit(X_train, y_train)\n",
        "\n",
        "#cross validate\n",
        "log_yrs_exp_no_outliers_svm_scores = cross_val_score(log_yrs_exp_no_outliers_svm, X_train, y_train, cv = 5)\n",
        "\n",
        "print('Accuracy Scores for the 5 folds: ', log_yrs_exp_no_outliers_svm_scores)\n",
        "print('Mean Cross Validation Score: {:.33f}'.format(np.mean(log_yrs_exp_no_outliers_svm_scores)))"
      ],
      "execution_count": null,
      "outputs": []
    },
    {
      "cell_type": "code",
      "metadata": {
        "id": "3J7gHPVxQ3cL"
      },
      "source": [
        "#generate predictions\n",
        "log_yrs_exp_no_outliers_svm_preds = log_yrs_exp_no_outliers_svm.predict(X_test)\n",
        "\n",
        "#more performance metrics\n",
        "log_yrs_exp_no_outliers_svm_rsquared_train = log_yrs_exp_no_outliers_svm.score(X_train, y_train)\n",
        "log_yrs_exp_no_outliers_svm_rsquared_test = log_yrs_exp_no_outliers_svm.score(X_test, y_test)\n",
        "log_yrs_exp_no_outliers_svm_mae = mean_absolute_error(y_test, log_yrs_exp_no_outliers_svm_preds)\n",
        "log_yrs_exp_no_outliers_svm_mse = mse(y_test, log_yrs_exp_no_outliers_svm_preds)\n",
        "log_yrs_exp_no_outliers_svm_rmse = rmse(y_test, log_yrs_exp_no_outliers_svm_preds)\n",
        "log_yrs_exp_no_outliers_svm_mape = np.mean(np.abs((y_test - log_yrs_exp_no_outliers_svm_preds)/y_test)*100)\n",
        "log_yrs_exp_no_outliers_svm_rmspe = (np.sqrt(np.mean(np.square((y_test - log_yrs_exp_no_outliers_svm_preds) / y_test)))) * 100\n",
        "log_yrs_exp_no_outliers_svm_model_name = 'Years of Experience w/o Outliers SVM Log(y)'\n",
        "\n",
        "#create easily readable display of performance metrics\n",
        "log_yrs_exp_no_outliers_svm_dictionary = {'Model': log_yrs_exp_no_outliers_svm_model_name,\n",
        "  'Training Set R Squared': log_yrs_exp_no_outliers_svm_rsquared_train, \n",
        "  'Test Set R Squared': log_yrs_exp_no_outliers_svm_rsquared_test, 'Mean Absolute Error': log_yrs_exp_no_outliers_svm_mae, \n",
        "  'Mean Sqaured Error': log_yrs_exp_no_outliers_svm_mse, 'Root Mean Squared Error': log_yrs_exp_no_outliers_svm_rmse,\n",
        "  'Root Mean Squared Percentage Error': log_yrs_exp_no_outliers_svm_rmspe,\n",
        "  'Mean Absolute Percentage Error': log_yrs_exp_no_outliers_svm_mape}\n",
        "\n",
        "log_yrs_exp_no_outliers_svm_df = pd.DataFrame(log_yrs_exp_no_outliers_svm_dictionary, index=[0])\n",
        "\n",
        "log_yrs_exp_no_outliers_svm_df"
      ],
      "execution_count": null,
      "outputs": []
    },
    {
      "cell_type": "markdown",
      "metadata": {
        "id": "WOQqx7DOZhPa"
      },
      "source": [
        "## **XGBoost**"
      ]
    },
    {
      "cell_type": "markdown",
      "metadata": {
        "id": "LpvBjUitZhPa"
      },
      "source": [
        "### **categories_df**"
      ]
    },
    {
      "cell_type": "code",
      "metadata": {
        "colab": {
          "base_uri": "https://localhost:8080/"
        },
        "id": "Yger6Y1SZhPa",
        "outputId": "c81477bc-d77c-4832-f47c-8ed15804dd04"
      },
      "source": [
        "#set features & target\n",
        "X = categories_df.drop(columns=['avg_sal', 'log_avg_sal'])\n",
        "y = categories_df['avg_sal']\n",
        "\n",
        "#split data into training & test sets\n",
        "X_train, X_test, y_train, y_test = train_test_split(X, y, test_size = 0.2, random_state = 43)\n",
        "\n",
        "#Use grid search to find best hyperparameters\n",
        "# defining parameter range \n",
        "param_grid = {'nthread':[4], #when use hyperthread, xgboost may become slower\n",
        "              'objective':['reg:linear'],\n",
        "              'learning_rate': [.03, 0.05, .07], #so called `eta` value\n",
        "              'max_depth': [5, 6, 7],\n",
        "              'min_child_weight': [4],\n",
        "              'silent': [1],\n",
        "              'subsample': [0.7],\n",
        "              'colsample_bytree': [0.7],\n",
        "              'n_estimators': [500]}\n",
        "  \n",
        "categories_xgb_grid = GridSearchCV(XGBRegressor(), param_grid,  cv = 5,\n",
        "                        n_jobs = 5, verbose=True)\n",
        "# fitting the model for grid search \n",
        "categories_xgb_grid.fit(X_train, y_train) \n",
        "# print best parameter after tuning \n",
        "print(categories_xgb_grid.best_params_) \n",
        "  \n",
        "# print how our model looks after hyper-parameter tuning \n",
        "print(categories_xgb_grid.best_estimator_) "
      ],
      "execution_count": null,
      "outputs": [
        {
          "output_type": "stream",
          "text": [
            "Fitting 5 folds for each of 9 candidates, totalling 45 fits\n"
          ],
          "name": "stdout"
        },
        {
          "output_type": "stream",
          "text": [
            "[Parallel(n_jobs=5)]: Using backend LokyBackend with 5 concurrent workers.\n",
            "[Parallel(n_jobs=5)]: Done  45 out of  45 | elapsed:  1.8min finished\n"
          ],
          "name": "stderr"
        },
        {
          "output_type": "stream",
          "text": [
            "{'colsample_bytree': 0.7, 'learning_rate': 0.03, 'max_depth': 6, 'min_child_weight': 4, 'n_estimators': 500, 'nthread': 4, 'objective': 'reg:linear', 'silent': 1, 'subsample': 0.7}\n",
            "XGBRegressor(base_score=0.5, booster='gbtree', colsample_bylevel=1,\n",
            "             colsample_bynode=1, colsample_bytree=0.7, gamma=0,\n",
            "             importance_type='gain', learning_rate=0.03, max_delta_step=0,\n",
            "             max_depth=6, min_child_weight=4, missing=None, n_estimators=500,\n",
            "             n_jobs=1, nthread=4, objective='reg:linear', random_state=0,\n",
            "             reg_alpha=0, reg_lambda=1, scale_pos_weight=1, seed=None, silent=1,\n",
            "             subsample=0.7, verbosity=1)\n"
          ],
          "name": "stdout"
        }
      ]
    },
    {
      "cell_type": "code",
      "metadata": {
        "colab": {
          "base_uri": "https://localhost:8080/"
        },
        "id": "a63bm8N2ZhPb",
        "outputId": "499225f3-3430-4e86-da27-7bf472aad150"
      },
      "source": [
        "#set model with ideal hyperparameters from above\n",
        "categories_xgb = categories_xgb_grid.best_estimator_\n",
        "\n",
        "categories_xgb.fit(X_train, y_train)\n",
        "\n",
        "#cross validate\n",
        "categories_xgb_scores = cross_val_score(categories_xgb, X_train, y_train, cv = 5)\n",
        "\n",
        "print('Accuracy Scores for the 5 folds: ', categories_xgb_scores)\n",
        "print('Mean Cross Validation Score: {:.33f}'.format(np.mean(categories_xgb_scores)))"
      ],
      "execution_count": null,
      "outputs": [
        {
          "output_type": "stream",
          "text": [
            "Accuracy Scores for the 5 folds:  [0.59684666 0.57695488 0.55227868 0.54801748 0.56620106]\n",
            "Mean Cross Validation Score: 0.568059752166836906539515439362731\n"
          ],
          "name": "stdout"
        }
      ]
    },
    {
      "cell_type": "code",
      "metadata": {
        "colab": {
          "base_uri": "https://localhost:8080/",
          "height": 108
        },
        "id": "bWrL72SvZhPb",
        "outputId": "79a0a1cf-0fc6-4b98-f4b8-f889b85ae136"
      },
      "source": [
        "#generate predictions\n",
        "categories_xgb_preds = categories_xgb.predict(X_test)\n",
        "\n",
        "#more performance metrics\n",
        "categories_xgb_rsquared_train = categories_xgb.score(X_train, y_train)\n",
        "categories_xgb_rsquared_test = categories_xgb.score(X_test, y_test)\n",
        "categories_xgb_mae = mean_absolute_error(y_test, categories_xgb_preds)\n",
        "categories_xgb_mse = mse(y_test, categories_xgb_preds)\n",
        "categories_xgb_rmse = rmse(y_test, categories_xgb_preds)\n",
        "categories_xgb_mape = np.mean(np.abs((y_test - categories_xgb_preds)/y_test)*100)\n",
        "categories_xgb_rmspe = (np.sqrt(np.mean(np.square((y_test - categories_xgb_preds) / y_test)))) * 100\n",
        "categories_xgb_model_name = 'Categories XGBoost'\n",
        "\n",
        "#create easily readable display of performance metrics\n",
        "categories_xgb_dictionary = {'Model': categories_xgb_model_name,\n",
        "  'Training Set R Squared': categories_xgb_rsquared_train, \n",
        "  'Test Set R Squared': categories_xgb_rsquared_test, 'Mean Absolute Error': categories_xgb_mae, \n",
        "  'Mean Sqaured Error': categories_xgb_mse, 'Root Mean Squared Error': categories_xgb_rmse,\n",
        "  'Root Mean Squared Percentage Error': categories_xgb_rmspe,\n",
        "  'Mean Absolute Percentage Error': categories_xgb_mape}\n",
        "\n",
        "categories_xgb_df = pd.DataFrame(categories_xgb_dictionary, index=[0])\n",
        "\n",
        "categories_xgb_df"
      ],
      "execution_count": null,
      "outputs": [
        {
          "output_type": "execute_result",
          "data": {
            "text/html": [
              "<div>\n",
              "<style scoped>\n",
              "    .dataframe tbody tr th:only-of-type {\n",
              "        vertical-align: middle;\n",
              "    }\n",
              "\n",
              "    .dataframe tbody tr th {\n",
              "        vertical-align: top;\n",
              "    }\n",
              "\n",
              "    .dataframe thead th {\n",
              "        text-align: right;\n",
              "    }\n",
              "</style>\n",
              "<table border=\"1\" class=\"dataframe\">\n",
              "  <thead>\n",
              "    <tr style=\"text-align: right;\">\n",
              "      <th></th>\n",
              "      <th>Model</th>\n",
              "      <th>Training Set R Squared</th>\n",
              "      <th>Test Set R Squared</th>\n",
              "      <th>Mean Absolute Error</th>\n",
              "      <th>Mean Sqaured Error</th>\n",
              "      <th>Root Mean Squared Error</th>\n",
              "      <th>Root Mean Squared Percentage Error</th>\n",
              "      <th>Mean Absolute Percentage Error</th>\n",
              "    </tr>\n",
              "  </thead>\n",
              "  <tbody>\n",
              "    <tr>\n",
              "      <th>0</th>\n",
              "      <td>Categories XGBoost</td>\n",
              "      <td>0.799806</td>\n",
              "      <td>0.627167</td>\n",
              "      <td>15371.966216</td>\n",
              "      <td>4.528971e+08</td>\n",
              "      <td>21281.379568</td>\n",
              "      <td>23.83938</td>\n",
              "      <td>16.973033</td>\n",
              "    </tr>\n",
              "  </tbody>\n",
              "</table>\n",
              "</div>"
            ],
            "text/plain": [
              "                Model  ...  Mean Absolute Percentage Error\n",
              "0  Categories XGBoost  ...                       16.973033\n",
              "\n",
              "[1 rows x 8 columns]"
            ]
          },
          "metadata": {
            "tags": []
          },
          "execution_count": 191
        }
      ]
    },
    {
      "cell_type": "markdown",
      "metadata": {
        "id": "zG16wEawbIrx"
      },
      "source": [
        "### **yrs_exp_df**"
      ]
    },
    {
      "cell_type": "code",
      "metadata": {
        "colab": {
          "base_uri": "https://localhost:8080/"
        },
        "id": "CVvX3-OpbIrx",
        "outputId": "7fad1948-c48c-432c-b4bc-d129b872fa12"
      },
      "source": [
        "#set features & target\n",
        "X = yrs_exp_df.drop(columns=['avg_sal', 'log_avg_sal'])\n",
        "y = yrs_exp_df['avg_sal']\n",
        "\n",
        "#split data into training & test sets\n",
        "X_train, X_test, y_train, y_test = train_test_split(X, y, test_size = 0.2, random_state = 43)\n",
        "\n",
        "#Use grid search to find best hyperparameters\n",
        "# defining parameter range \n",
        "param_grid = {'nthread':[4], #when use hyperthread, xgboost may become slower\n",
        "              'objective':['reg:linear'],\n",
        "              'learning_rate': [.03, 0.05, .07], #so called `eta` value\n",
        "              'max_depth': [5, 6, 7],\n",
        "              'min_child_weight': [4],\n",
        "              'silent': [1],\n",
        "              'subsample': [0.7],\n",
        "              'colsample_bytree': [0.7],\n",
        "              'n_estimators': [500]}\n",
        "  \n",
        "yrs_exp_xgb_grid = GridSearchCV(XGBRegressor(), param_grid,  cv = 5,\n",
        "                        n_jobs = 5, verbose=True)\n",
        "# fitting the model for grid search \n",
        "yrs_exp_xgb_grid.fit(X_train, y_train) \n",
        "# print best parameter after tuning \n",
        "print(yrs_exp_xgb_grid.best_params_) \n",
        "  \n",
        "# print how our model looks after hyper-parameter tuning \n",
        "print(yrs_exp_xgb_grid.best_estimator_) "
      ],
      "execution_count": null,
      "outputs": [
        {
          "output_type": "stream",
          "text": [
            "Fitting 5 folds for each of 9 candidates, totalling 45 fits\n"
          ],
          "name": "stdout"
        },
        {
          "output_type": "stream",
          "text": [
            "[Parallel(n_jobs=5)]: Using backend LokyBackend with 5 concurrent workers.\n",
            "[Parallel(n_jobs=5)]: Done  45 out of  45 | elapsed:  1.5min finished\n"
          ],
          "name": "stderr"
        },
        {
          "output_type": "stream",
          "text": [
            "{'colsample_bytree': 0.7, 'learning_rate': 0.03, 'max_depth': 5, 'min_child_weight': 4, 'n_estimators': 500, 'nthread': 4, 'objective': 'reg:linear', 'silent': 1, 'subsample': 0.7}\n",
            "XGBRegressor(base_score=0.5, booster='gbtree', colsample_bylevel=1,\n",
            "             colsample_bynode=1, colsample_bytree=0.7, gamma=0,\n",
            "             importance_type='gain', learning_rate=0.03, max_delta_step=0,\n",
            "             max_depth=5, min_child_weight=4, missing=None, n_estimators=500,\n",
            "             n_jobs=1, nthread=4, objective='reg:linear', random_state=0,\n",
            "             reg_alpha=0, reg_lambda=1, scale_pos_weight=1, seed=None, silent=1,\n",
            "             subsample=0.7, verbosity=1)\n"
          ],
          "name": "stdout"
        }
      ]
    },
    {
      "cell_type": "code",
      "metadata": {
        "colab": {
          "base_uri": "https://localhost:8080/"
        },
        "id": "Y6ubewDObIry",
        "outputId": "8465e79a-6e5b-4e97-b41e-8fd8ae4b4852"
      },
      "source": [
        "#set model with ideal hyperparameters from above\n",
        "yrs_exp_xgb = yrs_exp_xgb_grid.best_estimator_\n",
        "\n",
        "yrs_exp_xgb.fit(X_train, y_train)\n",
        "\n",
        "#cross validate\n",
        "yrs_exp_xgb_scores = cross_val_score(yrs_exp_xgb, X_train, y_train, cv = 5)\n",
        "\n",
        "print('Accuracy Scores for the 5 folds: ', yrs_exp_xgb_scores)\n",
        "print('Mean Cross Validation Score: {:.33f}'.format(np.mean(yrs_exp_xgb_scores)))"
      ],
      "execution_count": null,
      "outputs": [
        {
          "output_type": "stream",
          "text": [
            "Accuracy Scores for the 5 folds:  [0.54418974 0.59623614 0.60566342 0.51235233 0.5921911 ]\n",
            "Mean Cross Validation Score: 0.570126546373402320888601479964564\n"
          ],
          "name": "stdout"
        }
      ]
    },
    {
      "cell_type": "code",
      "metadata": {
        "colab": {
          "base_uri": "https://localhost:8080/",
          "height": 108
        },
        "id": "u63sE-mcbIry",
        "outputId": "976848ab-7f31-4515-9748-acbfa90e0e31"
      },
      "source": [
        "#generate predictions\n",
        "yrs_exp_xgb_preds = yrs_exp_xgb.predict(X_test)\n",
        "\n",
        "#more performance metrics\n",
        "yrs_exp_xgb_rsquared_train = yrs_exp_xgb.score(X_train, y_train)\n",
        "yrs_exp_xgb_rsquared_test = yrs_exp_xgb.score(X_test, y_test)\n",
        "yrs_exp_xgb_mae = mean_absolute_error(y_test, yrs_exp_xgb_preds)\n",
        "yrs_exp_xgb_mse = mse(y_test, yrs_exp_xgb_preds)\n",
        "yrs_exp_xgb_rmse = rmse(y_test, yrs_exp_xgb_preds)\n",
        "yrs_exp_xgb_mape = np.mean(np.abs((y_test - yrs_exp_xgb_preds)/y_test)*100)\n",
        "yrs_exp_xgb_rmspe = (np.sqrt(np.mean(np.square((y_test - yrs_exp_xgb_preds) / y_test)))) * 100\n",
        "yrs_exp_xgb_model_name = 'Years of Experience XGBoost'\n",
        "\n",
        "#create easily readable display of performance metrics\n",
        "yrs_exp_xgb_dictionary = {'Model': yrs_exp_xgb_model_name,\n",
        "  'Training Set R Squared': yrs_exp_xgb_rsquared_train, \n",
        "  'Test Set R Squared': yrs_exp_xgb_rsquared_test, 'Mean Absolute Error': yrs_exp_xgb_mae, \n",
        "  'Mean Sqaured Error': yrs_exp_xgb_mse, 'Root Mean Squared Error': yrs_exp_xgb_rmse,\n",
        "  'Root Mean Squared Percentage Error': yrs_exp_xgb_rmspe,\n",
        "  'Mean Absolute Percentage Error': yrs_exp_xgb_mape}\n",
        "\n",
        "yrs_exp_xgb_df = pd.DataFrame(yrs_exp_xgb_dictionary, index=[0])\n",
        "\n",
        "yrs_exp_xgb_df"
      ],
      "execution_count": null,
      "outputs": [
        {
          "output_type": "execute_result",
          "data": {
            "text/html": [
              "<div>\n",
              "<style scoped>\n",
              "    .dataframe tbody tr th:only-of-type {\n",
              "        vertical-align: middle;\n",
              "    }\n",
              "\n",
              "    .dataframe tbody tr th {\n",
              "        vertical-align: top;\n",
              "    }\n",
              "\n",
              "    .dataframe thead th {\n",
              "        text-align: right;\n",
              "    }\n",
              "</style>\n",
              "<table border=\"1\" class=\"dataframe\">\n",
              "  <thead>\n",
              "    <tr style=\"text-align: right;\">\n",
              "      <th></th>\n",
              "      <th>Model</th>\n",
              "      <th>Training Set R Squared</th>\n",
              "      <th>Test Set R Squared</th>\n",
              "      <th>Mean Absolute Error</th>\n",
              "      <th>Mean Sqaured Error</th>\n",
              "      <th>Root Mean Squared Error</th>\n",
              "      <th>Root Mean Squared Percentage Error</th>\n",
              "      <th>Mean Absolute Percentage Error</th>\n",
              "    </tr>\n",
              "  </thead>\n",
              "  <tbody>\n",
              "    <tr>\n",
              "      <th>0</th>\n",
              "      <td>Years of Experience XGBoost</td>\n",
              "      <td>0.761039</td>\n",
              "      <td>0.582932</td>\n",
              "      <td>15865.900848</td>\n",
              "      <td>4.992252e+08</td>\n",
              "      <td>22343.347228</td>\n",
              "      <td>25.899069</td>\n",
              "      <td>18.185604</td>\n",
              "    </tr>\n",
              "  </tbody>\n",
              "</table>\n",
              "</div>"
            ],
            "text/plain": [
              "                         Model  ...  Mean Absolute Percentage Error\n",
              "0  Years of Experience XGBoost  ...                       18.185604\n",
              "\n",
              "[1 rows x 8 columns]"
            ]
          },
          "metadata": {
            "tags": []
          },
          "execution_count": 195
        }
      ]
    },
    {
      "cell_type": "markdown",
      "metadata": {
        "id": "4nW2P0fawB5N"
      },
      "source": [
        "### **categories_df log(y)**"
      ]
    },
    {
      "cell_type": "code",
      "metadata": {
        "colab": {
          "base_uri": "https://localhost:8080/"
        },
        "id": "E1IxBCJ6wB5O",
        "outputId": "7bd95742-c8f5-45ce-8c21-da8ae949ec6b"
      },
      "source": [
        "#set features & target\n",
        "X = categories_df.drop(columns=['avg_sal', 'log_avg_sal'])\n",
        "y = categories_df['log_avg_sal']\n",
        "\n",
        "#split data into training & test sets\n",
        "X_train, X_test, y_train, y_test = train_test_split(X, y, test_size = 0.2, random_state = 43)\n",
        "\n",
        "#Use grid search to find best hyperparameters\n",
        "# defining parameter range \n",
        "param_grid = {'nthread':[4], #when use hyperthread, xgboost may become slower\n",
        "              'objective':['reg:linear'],\n",
        "              'learning_rate': [.03, 0.05, .07], #so called `eta` value\n",
        "              'max_depth': [5, 6, 7],\n",
        "              'min_child_weight': [4],\n",
        "              'silent': [1],\n",
        "              'subsample': [0.7],\n",
        "              'colsample_bytree': [0.7],\n",
        "              'n_estimators': [500]}\n",
        "  \n",
        "log_categories_xgb_grid = GridSearchCV(XGBRegressor(), param_grid,  cv = 5,\n",
        "                        n_jobs = 5, verbose=True)\n",
        "# fitting the model for grid search \n",
        "log_categories_xgb_grid.fit(X_train, y_train) \n",
        "# print best parameter after tuning \n",
        "print(log_categories_xgb_grid.best_params_) \n",
        "  \n",
        "# print how our model looks after hyper-parameter tuning \n",
        "print(log_categories_xgb_grid.best_estimator_) "
      ],
      "execution_count": null,
      "outputs": [
        {
          "output_type": "stream",
          "text": [
            "Fitting 5 folds for each of 9 candidates, totalling 45 fits\n"
          ],
          "name": "stdout"
        },
        {
          "output_type": "stream",
          "text": [
            "[Parallel(n_jobs=5)]: Using backend LokyBackend with 5 concurrent workers.\n",
            "[Parallel(n_jobs=5)]: Done  45 out of  45 | elapsed:  1.6min finished\n"
          ],
          "name": "stderr"
        },
        {
          "output_type": "stream",
          "text": [
            "{'colsample_bytree': 0.7, 'learning_rate': 0.03, 'max_depth': 7, 'min_child_weight': 4, 'n_estimators': 500, 'nthread': 4, 'objective': 'reg:linear', 'silent': 1, 'subsample': 0.7}\n",
            "XGBRegressor(base_score=0.5, booster='gbtree', colsample_bylevel=1,\n",
            "             colsample_bynode=1, colsample_bytree=0.7, gamma=0,\n",
            "             importance_type='gain', learning_rate=0.03, max_delta_step=0,\n",
            "             max_depth=7, min_child_weight=4, missing=None, n_estimators=500,\n",
            "             n_jobs=1, nthread=4, objective='reg:linear', random_state=0,\n",
            "             reg_alpha=0, reg_lambda=1, scale_pos_weight=1, seed=None, silent=1,\n",
            "             subsample=0.7, verbosity=1)\n"
          ],
          "name": "stdout"
        }
      ]
    },
    {
      "cell_type": "code",
      "metadata": {
        "colab": {
          "base_uri": "https://localhost:8080/"
        },
        "id": "_lcUXb9MwB5P",
        "outputId": "04ab63bb-0f95-488d-f4f7-df3729e3f635"
      },
      "source": [
        "#set model with ideal hyperparameters from above\n",
        "log_categories_xgb = log_categories_xgb_grid.best_estimator_\n",
        "\n",
        "log_categories_xgb.fit(X_train, y_train)\n",
        "\n",
        "#cross validate\n",
        "log_categories_xgb_scores = cross_val_score(log_categories_xgb, X_train, y_train, cv = 5)\n",
        "\n",
        "print('Accuracy Scores for the 5 folds: ', log_categories_xgb_scores)\n",
        "print('Mean Cross Validation Score: {:.33f}'.format(np.mean(log_categories_xgb_scores)))"
      ],
      "execution_count": null,
      "outputs": [
        {
          "output_type": "stream",
          "text": [
            "Accuracy Scores for the 5 folds:  [0.60842935 0.59469078 0.58112786 0.60109667 0.57888172]\n",
            "Mean Cross Validation Score: 0.592845276864210513068087493593339\n"
          ],
          "name": "stdout"
        }
      ]
    },
    {
      "cell_type": "code",
      "metadata": {
        "colab": {
          "base_uri": "https://localhost:8080/",
          "height": 108
        },
        "id": "15mMtz4wwB5Q",
        "outputId": "ddb3e0cf-6b04-4a4e-871b-9c09444747c5"
      },
      "source": [
        "#generate predictions\n",
        "log_categories_xgb_preds = log_categories_xgb.predict(X_test)\n",
        "\n",
        "#more performance metrics\n",
        "log_categories_xgb_rsquared_train = log_categories_xgb.score(X_train, y_train)\n",
        "log_categories_xgb_rsquared_test = log_categories_xgb.score(X_test, y_test)\n",
        "log_categories_xgb_mae = mean_absolute_error(y_test, log_categories_xgb_preds)\n",
        "log_categories_xgb_mse = mse(y_test, log_categories_xgb_preds)\n",
        "log_categories_xgb_rmse = rmse(y_test, log_categories_xgb_preds)\n",
        "log_categories_xgb_mape = np.mean(np.abs((y_test - log_categories_xgb_preds)/y_test)*100)\n",
        "log_categories_xgb_rmspe = (np.sqrt(np.mean(np.square((y_test - log_categories_xgb_preds) / y_test)))) * 100\n",
        "log_categories_xgb_model_name = 'Categories XGBoost Log(y)'\n",
        "\n",
        "#create easily readable display of performance metrics\n",
        "log_categories_xgb_dictionary = {'Model': log_categories_xgb_model_name,\n",
        "  'Training Set R Squared': log_categories_xgb_rsquared_train, \n",
        "  'Test Set R Squared': log_categories_xgb_rsquared_test, 'Mean Absolute Error': log_categories_xgb_mae, \n",
        "  'Mean Sqaured Error': log_categories_xgb_mse, 'Root Mean Squared Error': log_categories_xgb_rmse,\n",
        "  'Root Mean Squared Percentage Error': log_categories_xgb_rmspe,\n",
        "  'Mean Absolute Percentage Error': log_categories_xgb_mape}\n",
        "\n",
        "log_categories_xgb_df = pd.DataFrame(log_categories_xgb_dictionary, index=[0])\n",
        "\n",
        "log_categories_xgb_df"
      ],
      "execution_count": null,
      "outputs": [
        {
          "output_type": "execute_result",
          "data": {
            "text/html": [
              "<div>\n",
              "<style scoped>\n",
              "    .dataframe tbody tr th:only-of-type {\n",
              "        vertical-align: middle;\n",
              "    }\n",
              "\n",
              "    .dataframe tbody tr th {\n",
              "        vertical-align: top;\n",
              "    }\n",
              "\n",
              "    .dataframe thead th {\n",
              "        text-align: right;\n",
              "    }\n",
              "</style>\n",
              "<table border=\"1\" class=\"dataframe\">\n",
              "  <thead>\n",
              "    <tr style=\"text-align: right;\">\n",
              "      <th></th>\n",
              "      <th>Model</th>\n",
              "      <th>Training Set R Squared</th>\n",
              "      <th>Test Set R Squared</th>\n",
              "      <th>Mean Absolute Error</th>\n",
              "      <th>Mean Sqaured Error</th>\n",
              "      <th>Root Mean Squared Error</th>\n",
              "      <th>Root Mean Squared Percentage Error</th>\n",
              "      <th>Mean Absolute Percentage Error</th>\n",
              "    </tr>\n",
              "  </thead>\n",
              "  <tbody>\n",
              "    <tr>\n",
              "      <th>0</th>\n",
              "      <td>Categories XGBoost Log(y)</td>\n",
              "      <td>0.829443</td>\n",
              "      <td>0.637737</td>\n",
              "      <td>0.161249</td>\n",
              "      <td>0.046636</td>\n",
              "      <td>0.215953</td>\n",
              "      <td>1.897039</td>\n",
              "      <td>1.415203</td>\n",
              "    </tr>\n",
              "  </tbody>\n",
              "</table>\n",
              "</div>"
            ],
            "text/plain": [
              "                       Model  ...  Mean Absolute Percentage Error\n",
              "0  Categories XGBoost Log(y)  ...                        1.415203\n",
              "\n",
              "[1 rows x 8 columns]"
            ]
          },
          "metadata": {
            "tags": []
          },
          "execution_count": 198
        }
      ]
    },
    {
      "cell_type": "markdown",
      "metadata": {
        "id": "qGb5wzJAwB5Q"
      },
      "source": [
        "### **yrs_exp_df log(y)**"
      ]
    },
    {
      "cell_type": "code",
      "metadata": {
        "colab": {
          "base_uri": "https://localhost:8080/"
        },
        "id": "Tfdlq21NwB5R",
        "outputId": "586cb7ea-6885-4e5a-d6cf-af1513456e82"
      },
      "source": [
        "#set features & target\n",
        "X = yrs_exp_df.drop(columns=['avg_sal', 'log_avg_sal'])\n",
        "y = yrs_exp_df['log_avg_sal']\n",
        "\n",
        "#split data into training & test sets\n",
        "X_train, X_test, y_train, y_test = train_test_split(X, y, test_size = 0.2, random_state = 43)\n",
        "\n",
        "#Use grid search to find best hyperparameters\n",
        "# defining parameter range \n",
        "param_grid = {'nthread':[4], #when use hyperthread, xgboost may become slower\n",
        "              'objective':['reg:linear'],\n",
        "              'learning_rate': [.03, 0.05, .07], #so called `eta` value\n",
        "              'max_depth': [5, 6, 7],\n",
        "              'min_child_weight': [4],\n",
        "              'silent': [1],\n",
        "              'subsample': [0.7],\n",
        "              'colsample_bytree': [0.7],\n",
        "              'n_estimators': [500]}\n",
        "  \n",
        "log_yrs_exp_xgb_grid = GridSearchCV(XGBRegressor(), param_grid,  cv = 5,\n",
        "                        n_jobs = 5, verbose=True)\n",
        "# fitting the model for grid search \n",
        "log_yrs_exp_xgb_grid.fit(X_train, y_train) \n",
        "# print best parameter after tuning \n",
        "print(log_yrs_exp_xgb_grid.best_params_) \n",
        "  \n",
        "# print how our model looks after hyper-parameter tuning \n",
        "print(log_yrs_exp_xgb_grid.best_estimator_) "
      ],
      "execution_count": null,
      "outputs": [
        {
          "output_type": "stream",
          "text": [
            "Fitting 5 folds for each of 9 candidates, totalling 45 fits\n"
          ],
          "name": "stdout"
        },
        {
          "output_type": "stream",
          "text": [
            "[Parallel(n_jobs=5)]: Using backend LokyBackend with 5 concurrent workers.\n",
            "[Parallel(n_jobs=5)]: Done  45 out of  45 | elapsed:  1.4min finished\n"
          ],
          "name": "stderr"
        },
        {
          "output_type": "stream",
          "text": [
            "{'colsample_bytree': 0.7, 'learning_rate': 0.03, 'max_depth': 6, 'min_child_weight': 4, 'n_estimators': 500, 'nthread': 4, 'objective': 'reg:linear', 'silent': 1, 'subsample': 0.7}\n",
            "XGBRegressor(base_score=0.5, booster='gbtree', colsample_bylevel=1,\n",
            "             colsample_bynode=1, colsample_bytree=0.7, gamma=0,\n",
            "             importance_type='gain', learning_rate=0.03, max_delta_step=0,\n",
            "             max_depth=6, min_child_weight=4, missing=None, n_estimators=500,\n",
            "             n_jobs=1, nthread=4, objective='reg:linear', random_state=0,\n",
            "             reg_alpha=0, reg_lambda=1, scale_pos_weight=1, seed=None, silent=1,\n",
            "             subsample=0.7, verbosity=1)\n"
          ],
          "name": "stdout"
        }
      ]
    },
    {
      "cell_type": "code",
      "metadata": {
        "colab": {
          "base_uri": "https://localhost:8080/"
        },
        "id": "KHmWdIEZwB5R",
        "outputId": "b238eaee-ddd4-4f62-d562-26b331bbf06e"
      },
      "source": [
        "#set model with ideal hyperparameters from above\n",
        "log_yrs_exp_xgb = log_yrs_exp_xgb_grid.best_estimator_\n",
        "\n",
        "log_yrs_exp_xgb.fit(X_train, y_train)\n",
        "\n",
        "#cross validate\n",
        "log_yrs_exp_xgb_scores = cross_val_score(log_yrs_exp_xgb, X_train, y_train, cv = 5)\n",
        "\n",
        "print('Accuracy Scores for the 5 folds: ', log_yrs_exp_xgb_scores)\n",
        "print('Mean Cross Validation Score: {:.33f}'.format(np.mean(log_yrs_exp_xgb_scores)))"
      ],
      "execution_count": null,
      "outputs": [
        {
          "output_type": "stream",
          "text": [
            "Accuracy Scores for the 5 folds:  [0.58693083 0.60670003 0.60307772 0.54933787 0.59826072]\n",
            "Mean Cross Validation Score: 0.588861434709168185541727780218935\n"
          ],
          "name": "stdout"
        }
      ]
    },
    {
      "cell_type": "code",
      "metadata": {
        "colab": {
          "base_uri": "https://localhost:8080/",
          "height": 108
        },
        "id": "KKvO4TDPwB5R",
        "outputId": "c3e3395c-ed86-498f-c9b5-efd31a9866b2"
      },
      "source": [
        "#generate predictions\n",
        "log_yrs_exp_xgb_preds = log_yrs_exp_xgb.predict(X_test)\n",
        "\n",
        "#more performance metrics\n",
        "log_yrs_exp_xgb_rsquared_train = log_yrs_exp_xgb.score(X_train, y_train)\n",
        "log_yrs_exp_xgb_rsquared_test = log_yrs_exp_xgb.score(X_test, y_test)\n",
        "log_yrs_exp_xgb_mae = mean_absolute_error(y_test, log_yrs_exp_xgb_preds)\n",
        "log_yrs_exp_xgb_mse = mse(y_test, log_yrs_exp_xgb_preds)\n",
        "log_yrs_exp_xgb_rmse = rmse(y_test, log_yrs_exp_xgb_preds)\n",
        "log_yrs_exp_xgb_mape = np.mean(np.abs((y_test - log_yrs_exp_xgb_preds)/y_test)*100)\n",
        "log_yrs_exp_xgb_rmspe = (np.sqrt(np.mean(np.square((y_test - log_yrs_exp_xgb_preds) / y_test)))) * 100\n",
        "log_yrs_exp_xgb_model_name = 'Years of Experience XGBoost Log(y)'\n",
        "\n",
        "#create easily readable display of performance metrics\n",
        "log_yrs_exp_xgb_dictionary = {'Model': log_yrs_exp_xgb_model_name,\n",
        "  'Training Set R Squared': log_yrs_exp_xgb_rsquared_train, \n",
        "  'Test Set R Squared': log_yrs_exp_xgb_rsquared_test, 'Mean Absolute Error': log_yrs_exp_xgb_mae, \n",
        "  'Mean Sqaured Error': log_yrs_exp_xgb_mse, 'Root Mean Squared Error': log_yrs_exp_xgb_rmse,\n",
        "  'Root Mean Squared Percentage Error': log_yrs_exp_xgb_rmspe,\n",
        "  'Mean Absolute Percentage Error': log_yrs_exp_xgb_mape}\n",
        "\n",
        "log_yrs_exp_xgb_df = pd.DataFrame(log_yrs_exp_xgb_dictionary, index=[0])\n",
        "\n",
        "log_yrs_exp_xgb_df"
      ],
      "execution_count": null,
      "outputs": [
        {
          "output_type": "execute_result",
          "data": {
            "text/html": [
              "<div>\n",
              "<style scoped>\n",
              "    .dataframe tbody tr th:only-of-type {\n",
              "        vertical-align: middle;\n",
              "    }\n",
              "\n",
              "    .dataframe tbody tr th {\n",
              "        vertical-align: top;\n",
              "    }\n",
              "\n",
              "    .dataframe thead th {\n",
              "        text-align: right;\n",
              "    }\n",
              "</style>\n",
              "<table border=\"1\" class=\"dataframe\">\n",
              "  <thead>\n",
              "    <tr style=\"text-align: right;\">\n",
              "      <th></th>\n",
              "      <th>Model</th>\n",
              "      <th>Training Set R Squared</th>\n",
              "      <th>Test Set R Squared</th>\n",
              "      <th>Mean Absolute Error</th>\n",
              "      <th>Mean Sqaured Error</th>\n",
              "      <th>Root Mean Squared Error</th>\n",
              "      <th>Root Mean Squared Percentage Error</th>\n",
              "      <th>Mean Absolute Percentage Error</th>\n",
              "    </tr>\n",
              "  </thead>\n",
              "  <tbody>\n",
              "    <tr>\n",
              "      <th>0</th>\n",
              "      <td>Years of Experience XGBoost Log(y)</td>\n",
              "      <td>0.78712</td>\n",
              "      <td>0.632083</td>\n",
              "      <td>0.164491</td>\n",
              "      <td>0.048051</td>\n",
              "      <td>0.219204</td>\n",
              "      <td>1.93731</td>\n",
              "      <td>1.44916</td>\n",
              "    </tr>\n",
              "  </tbody>\n",
              "</table>\n",
              "</div>"
            ],
            "text/plain": [
              "                                Model  ...  Mean Absolute Percentage Error\n",
              "0  Years of Experience XGBoost Log(y)  ...                         1.44916\n",
              "\n",
              "[1 rows x 8 columns]"
            ]
          },
          "metadata": {
            "tags": []
          },
          "execution_count": 201
        }
      ]
    },
    {
      "cell_type": "markdown",
      "metadata": {
        "id": "Dj2EWrHaHbHe"
      },
      "source": [
        "### **cat_no_outliers_df**"
      ]
    },
    {
      "cell_type": "code",
      "metadata": {
        "colab": {
          "base_uri": "https://localhost:8080/"
        },
        "id": "ksMklrlUHbHf",
        "outputId": "2857263c-004e-42fe-a3b2-f49edef7d5b1"
      },
      "source": [
        "#set features & target\n",
        "X = cat_no_outliers_df.drop(columns=['avg_sal', 'log_avg_sal'])\n",
        "y = cat_no_outliers_df['avg_sal']\n",
        "\n",
        "#split data into training & test sets\n",
        "X_train, X_test, y_train, y_test = train_test_split(X, y, test_size = 0.2, random_state = 43)\n",
        "\n",
        "#Use grid search to find best hyperparameters\n",
        "# defining parameter range \n",
        "param_grid = {'nthread':[4], #when use hyperthread, xgboost may become slower\n",
        "              'objective':['reg:linear'],\n",
        "              'learning_rate': [.03, 0.05, .07], #so called `eta` value\n",
        "              'max_depth': [5, 6, 7],\n",
        "              'min_child_weight': [4],\n",
        "              'silent': [1],\n",
        "              'subsample': [0.7],\n",
        "              'colsample_bytree': [0.7],\n",
        "              'n_estimators': [500]}\n",
        "  \n",
        "cat_no_outliers_xgb_grid = GridSearchCV(XGBRegressor(), param_grid,  cv = 5,\n",
        "                        n_jobs = 5, verbose=True)\n",
        "# fitting the model for grid search \n",
        "cat_no_outliers_xgb_grid.fit(X_train, y_train) \n",
        "# print best parameter after tuning \n",
        "print(cat_no_outliers_xgb_grid.best_params_) \n",
        "  \n",
        "# print how our model looks after hyper-parameter tuning \n",
        "print(cat_no_outliers_xgb_grid.best_estimator_) "
      ],
      "execution_count": null,
      "outputs": [
        {
          "output_type": "stream",
          "text": [
            "Fitting 5 folds for each of 9 candidates, totalling 45 fits\n"
          ],
          "name": "stdout"
        },
        {
          "output_type": "stream",
          "text": [
            "[Parallel(n_jobs=5)]: Using backend LokyBackend with 5 concurrent workers.\n",
            "[Parallel(n_jobs=5)]: Done  45 out of  45 | elapsed:  1.7min finished\n"
          ],
          "name": "stderr"
        },
        {
          "output_type": "stream",
          "text": [
            "{'colsample_bytree': 0.7, 'learning_rate': 0.03, 'max_depth': 6, 'min_child_weight': 4, 'n_estimators': 500, 'nthread': 4, 'objective': 'reg:linear', 'silent': 1, 'subsample': 0.7}\n",
            "XGBRegressor(base_score=0.5, booster='gbtree', colsample_bylevel=1,\n",
            "             colsample_bynode=1, colsample_bytree=0.7, gamma=0,\n",
            "             importance_type='gain', learning_rate=0.03, max_delta_step=0,\n",
            "             max_depth=6, min_child_weight=4, missing=None, n_estimators=500,\n",
            "             n_jobs=1, nthread=4, objective='reg:linear', random_state=0,\n",
            "             reg_alpha=0, reg_lambda=1, scale_pos_weight=1, seed=None, silent=1,\n",
            "             subsample=0.7, verbosity=1)\n"
          ],
          "name": "stdout"
        }
      ]
    },
    {
      "cell_type": "code",
      "metadata": {
        "colab": {
          "base_uri": "https://localhost:8080/"
        },
        "id": "pE2jIJQEHbHg",
        "outputId": "c8765ae3-7a08-4bde-e86c-dff7407cf5f7"
      },
      "source": [
        "#set model with ideal hyperparameters from above\n",
        "cat_no_outliers_xgb = cat_no_outliers_xgb_grid.best_estimator_\n",
        "\n",
        "cat_no_outliers_xgb.fit(X_train, y_train)\n",
        "\n",
        "#cross validate\n",
        "cat_no_outliers_xgb_scores = cross_val_score(cat_no_outliers_xgb, X_train, y_train, cv = 5)\n",
        "\n",
        "print('Accuracy Scores for the 5 folds: ', cat_no_outliers_xgb_scores)\n",
        "print('Mean Cross Validation Score: {:.33f}'.format(np.mean(cat_no_outliers_xgb_scores)))"
      ],
      "execution_count": null,
      "outputs": [
        {
          "output_type": "stream",
          "text": [
            "Accuracy Scores for the 5 folds:  [0.62495315 0.57338585 0.62250294 0.5842727  0.58144181]\n",
            "Mean Cross Validation Score: 0.597311288372154858272722321999026\n"
          ],
          "name": "stdout"
        }
      ]
    },
    {
      "cell_type": "code",
      "metadata": {
        "colab": {
          "base_uri": "https://localhost:8080/",
          "height": 108
        },
        "id": "ZLQMDBiTHbHg",
        "outputId": "84d31421-24c6-431e-cb5b-17ccb821b762"
      },
      "source": [
        "#generate predictions\n",
        "cat_no_outliers_xgb_preds = cat_no_outliers_xgb.predict(X_test)\n",
        "\n",
        "#more performance metrics\n",
        "cat_no_outliers_xgb_rsquared_train = cat_no_outliers_xgb.score(X_train, y_train)\n",
        "cat_no_outliers_xgb_rsquared_test = cat_no_outliers_xgb.score(X_test, y_test)\n",
        "cat_no_outliers_xgb_mae = mean_absolute_error(y_test, cat_no_outliers_xgb_preds)\n",
        "cat_no_outliers_xgb_mse = mse(y_test, cat_no_outliers_xgb_preds)\n",
        "cat_no_outliers_xgb_rmse = rmse(y_test, cat_no_outliers_xgb_preds)\n",
        "cat_no_outliers_xgb_mape = np.mean(np.abs((y_test - cat_no_outliers_xgb_preds)/y_test)*100)\n",
        "cat_no_outliers_xgb_rmspe = (np.sqrt(np.mean(np.square((y_test - cat_no_outliers_xgb_preds) / y_test)))) * 100\n",
        "cat_no_outliers_xgb_model_name = 'Categories w/o Outliers XGBoost'\n",
        "\n",
        "#create easily readable display of performance metrics\n",
        "cat_no_outliers_xgb_dictionary = {'Model': cat_no_outliers_xgb_model_name,\n",
        "  'Training Set R Squared': cat_no_outliers_xgb_rsquared_train, \n",
        "  'Test Set R Squared': cat_no_outliers_xgb_rsquared_test, 'Mean Absolute Error': cat_no_outliers_xgb_mae, \n",
        "  'Mean Sqaured Error': cat_no_outliers_xgb_mse, 'Root Mean Squared Error': cat_no_outliers_xgb_rmse,\n",
        "  'Root Mean Squared Percentage Error': cat_no_outliers_xgb_rmspe,\n",
        "  'Mean Absolute Percentage Error': cat_no_outliers_xgb_mape}\n",
        "\n",
        "cat_no_outliers_xgb_df = pd.DataFrame(cat_no_outliers_xgb_dictionary, index=[0])\n",
        "\n",
        "cat_no_outliers_xgb_df"
      ],
      "execution_count": null,
      "outputs": [
        {
          "output_type": "execute_result",
          "data": {
            "text/html": [
              "<div>\n",
              "<style scoped>\n",
              "    .dataframe tbody tr th:only-of-type {\n",
              "        vertical-align: middle;\n",
              "    }\n",
              "\n",
              "    .dataframe tbody tr th {\n",
              "        vertical-align: top;\n",
              "    }\n",
              "\n",
              "    .dataframe thead th {\n",
              "        text-align: right;\n",
              "    }\n",
              "</style>\n",
              "<table border=\"1\" class=\"dataframe\">\n",
              "  <thead>\n",
              "    <tr style=\"text-align: right;\">\n",
              "      <th></th>\n",
              "      <th>Model</th>\n",
              "      <th>Training Set R Squared</th>\n",
              "      <th>Test Set R Squared</th>\n",
              "      <th>Mean Absolute Error</th>\n",
              "      <th>Mean Sqaured Error</th>\n",
              "      <th>Root Mean Squared Error</th>\n",
              "      <th>Root Mean Squared Percentage Error</th>\n",
              "      <th>Mean Absolute Percentage Error</th>\n",
              "    </tr>\n",
              "  </thead>\n",
              "  <tbody>\n",
              "    <tr>\n",
              "      <th>0</th>\n",
              "      <td>Categories w/o Outliers XGBoost</td>\n",
              "      <td>0.805165</td>\n",
              "      <td>0.616601</td>\n",
              "      <td>14815.27315</td>\n",
              "      <td>3.952853e+08</td>\n",
              "      <td>19881.782115</td>\n",
              "      <td>23.644056</td>\n",
              "      <td>17.061746</td>\n",
              "    </tr>\n",
              "  </tbody>\n",
              "</table>\n",
              "</div>"
            ],
            "text/plain": [
              "                             Model  ...  Mean Absolute Percentage Error\n",
              "0  Categories w/o Outliers XGBoost  ...                       17.061746\n",
              "\n",
              "[1 rows x 8 columns]"
            ]
          },
          "metadata": {
            "tags": []
          },
          "execution_count": 204
        }
      ]
    },
    {
      "cell_type": "markdown",
      "metadata": {
        "id": "MrUFitv7HbHh"
      },
      "source": [
        "### **yrs_exp_no_outliers_df**"
      ]
    },
    {
      "cell_type": "code",
      "metadata": {
        "colab": {
          "base_uri": "https://localhost:8080/"
        },
        "id": "k8WKaF9iHbHh",
        "outputId": "83afd5ff-b875-4f44-8c0c-66c9e707429e"
      },
      "source": [
        "#set features & target\n",
        "X = yrs_exp_no_outliers_df.drop(columns=['avg_sal', 'log_avg_sal'])\n",
        "y = yrs_exp_no_outliers_df['avg_sal']\n",
        "\n",
        "#split data into training & test sets\n",
        "X_train, X_test, y_train, y_test = train_test_split(X, y, test_size = 0.2, random_state = 43)\n",
        "\n",
        "#Use grid search to find best hyperparameters\n",
        "# defining parameter range \n",
        "param_grid = {'nthread':[4], #when use hyperthread, xgboost may become slower\n",
        "              'objective':['reg:linear'],\n",
        "              'learning_rate': [.03, 0.05, .07], #so called `eta` value\n",
        "              'max_depth': [5, 6, 7],\n",
        "              'min_child_weight': [4],\n",
        "              'silent': [1],\n",
        "              'subsample': [0.7],\n",
        "              'colsample_bytree': [0.7],\n",
        "              'n_estimators': [500]}\n",
        "  \n",
        "yrs_exp_no_outliers_xgb_grid = GridSearchCV(XGBRegressor(), param_grid,  cv = 5,\n",
        "                        n_jobs = 5, verbose=True)\n",
        "# fitting the model for grid search \n",
        "yrs_exp_no_outliers_xgb_grid.fit(X_train, y_train) \n",
        "# print best parameter after tuning \n",
        "print(yrs_exp_no_outliers_xgb_grid.best_params_) \n",
        "  \n",
        "# print how our model looks after hyper-parameter tuning \n",
        "print(yrs_exp_no_outliers_xgb_grid.best_estimator_) "
      ],
      "execution_count": null,
      "outputs": [
        {
          "output_type": "stream",
          "text": [
            "Fitting 5 folds for each of 9 candidates, totalling 45 fits\n"
          ],
          "name": "stdout"
        },
        {
          "output_type": "stream",
          "text": [
            "[Parallel(n_jobs=5)]: Using backend LokyBackend with 5 concurrent workers.\n",
            "[Parallel(n_jobs=5)]: Done  45 out of  45 | elapsed:  1.5min finished\n"
          ],
          "name": "stderr"
        },
        {
          "output_type": "stream",
          "text": [
            "{'colsample_bytree': 0.7, 'learning_rate': 0.03, 'max_depth': 6, 'min_child_weight': 4, 'n_estimators': 500, 'nthread': 4, 'objective': 'reg:linear', 'silent': 1, 'subsample': 0.7}\n",
            "XGBRegressor(base_score=0.5, booster='gbtree', colsample_bylevel=1,\n",
            "             colsample_bynode=1, colsample_bytree=0.7, gamma=0,\n",
            "             importance_type='gain', learning_rate=0.03, max_delta_step=0,\n",
            "             max_depth=6, min_child_weight=4, missing=None, n_estimators=500,\n",
            "             n_jobs=1, nthread=4, objective='reg:linear', random_state=0,\n",
            "             reg_alpha=0, reg_lambda=1, scale_pos_weight=1, seed=None, silent=1,\n",
            "             subsample=0.7, verbosity=1)\n"
          ],
          "name": "stdout"
        }
      ]
    },
    {
      "cell_type": "code",
      "metadata": {
        "colab": {
          "base_uri": "https://localhost:8080/"
        },
        "id": "Qoohl2WvHbHi",
        "outputId": "add4e33b-5cfd-4a62-e19f-fa8489b10380"
      },
      "source": [
        "#set model with ideal hyperparameters from above\n",
        "yrs_exp_no_outliers_xgb = yrs_exp_no_outliers_xgb_grid.best_estimator_\n",
        "\n",
        "yrs_exp_no_outliers_xgb.fit(X_train, y_train)\n",
        "\n",
        "#cross validate\n",
        "yrs_exp_no_outliers_xgb_scores = cross_val_score(yrs_exp_no_outliers_xgb, X_train, y_train, cv = 5)\n",
        "\n",
        "print('Accuracy Scores for the 5 folds: ', yrs_exp_no_outliers_xgb_scores)\n",
        "print('Mean Cross Validation Score: {:.33f}'.format(np.mean(yrs_exp_no_outliers_xgb_scores)))"
      ],
      "execution_count": null,
      "outputs": [
        {
          "output_type": "stream",
          "text": [
            "Accuracy Scores for the 5 folds:  [0.61769836 0.63135111 0.60761395 0.51750732 0.60862086]\n",
            "Mean Cross Validation Score: 0.596558321568837035542287594580557\n"
          ],
          "name": "stdout"
        }
      ]
    },
    {
      "cell_type": "code",
      "metadata": {
        "colab": {
          "base_uri": "https://localhost:8080/",
          "height": 108
        },
        "id": "Kug1bvepHbHi",
        "outputId": "b034ecd6-c647-4566-a9c9-e113b1fd0e82"
      },
      "source": [
        "#generate predictions\n",
        "yrs_exp_no_outliers_xgb_preds = yrs_exp_no_outliers_xgb.predict(X_test)\n",
        "\n",
        "#more performance metrics\n",
        "yrs_exp_no_outliers_xgb_rsquared_train = yrs_exp_no_outliers_xgb.score(X_train, y_train)\n",
        "yrs_exp_no_outliers_xgb_rsquared_test = yrs_exp_no_outliers_xgb.score(X_test, y_test)\n",
        "yrs_exp_no_outliers_xgb_mae = mean_absolute_error(y_test, yrs_exp_no_outliers_xgb_preds)\n",
        "yrs_exp_no_outliers_xgb_mse = mse(y_test, yrs_exp_no_outliers_xgb_preds)\n",
        "yrs_exp_no_outliers_xgb_rmse = rmse(y_test, yrs_exp_no_outliers_xgb_preds)\n",
        "yrs_exp_no_outliers_xgb_mape = np.mean(np.abs((y_test - yrs_exp_no_outliers_xgb_preds)/y_test)*100)\n",
        "yrs_exp_no_outliers_xgb_rmspe = (np.sqrt(np.mean(np.square((y_test - yrs_exp_no_outliers_xgb_preds) / y_test)))) * 100\n",
        "yrs_exp_no_outliers_xgb_model_name = 'Years of Experience w/o Outliers XGBoost'\n",
        "\n",
        "#create easily readable display of performance metrics\n",
        "yrs_exp_no_outliers_xgb_dictionary = {'Model': yrs_exp_no_outliers_xgb_model_name,\n",
        "  'Training Set R Squared': yrs_exp_no_outliers_xgb_rsquared_train, \n",
        "  'Test Set R Squared': yrs_exp_no_outliers_xgb_rsquared_test, 'Mean Absolute Error': yrs_exp_no_outliers_xgb_mae, \n",
        "  'Mean Sqaured Error': yrs_exp_no_outliers_xgb_mse, 'Root Mean Squared Error': yrs_exp_no_outliers_xgb_rmse,\n",
        "  'Root Mean Squared Percentage Error': yrs_exp_no_outliers_xgb_rmspe,\n",
        "  'Mean Absolute Percentage Error': yrs_exp_no_outliers_xgb_mape}\n",
        "\n",
        "yrs_exp_no_outliers_xgb_df = pd.DataFrame(yrs_exp_no_outliers_xgb_dictionary, index=[0])\n",
        "\n",
        "yrs_exp_no_outliers_xgb_df"
      ],
      "execution_count": null,
      "outputs": [
        {
          "output_type": "execute_result",
          "data": {
            "text/html": [
              "<div>\n",
              "<style scoped>\n",
              "    .dataframe tbody tr th:only-of-type {\n",
              "        vertical-align: middle;\n",
              "    }\n",
              "\n",
              "    .dataframe tbody tr th {\n",
              "        vertical-align: top;\n",
              "    }\n",
              "\n",
              "    .dataframe thead th {\n",
              "        text-align: right;\n",
              "    }\n",
              "</style>\n",
              "<table border=\"1\" class=\"dataframe\">\n",
              "  <thead>\n",
              "    <tr style=\"text-align: right;\">\n",
              "      <th></th>\n",
              "      <th>Model</th>\n",
              "      <th>Training Set R Squared</th>\n",
              "      <th>Test Set R Squared</th>\n",
              "      <th>Mean Absolute Error</th>\n",
              "      <th>Mean Sqaured Error</th>\n",
              "      <th>Root Mean Squared Error</th>\n",
              "      <th>Root Mean Squared Percentage Error</th>\n",
              "      <th>Mean Absolute Percentage Error</th>\n",
              "    </tr>\n",
              "  </thead>\n",
              "  <tbody>\n",
              "    <tr>\n",
              "      <th>0</th>\n",
              "      <td>Years of Experience w/o Outliers XGBoost</td>\n",
              "      <td>0.82604</td>\n",
              "      <td>0.584467</td>\n",
              "      <td>14788.758107</td>\n",
              "      <td>3.959270e+08</td>\n",
              "      <td>19897.913369</td>\n",
              "      <td>24.049189</td>\n",
              "      <td>16.915013</td>\n",
              "    </tr>\n",
              "  </tbody>\n",
              "</table>\n",
              "</div>"
            ],
            "text/plain": [
              "                                      Model  ...  Mean Absolute Percentage Error\n",
              "0  Years of Experience w/o Outliers XGBoost  ...                       16.915013\n",
              "\n",
              "[1 rows x 8 columns]"
            ]
          },
          "metadata": {
            "tags": []
          },
          "execution_count": 207
        }
      ]
    },
    {
      "cell_type": "markdown",
      "metadata": {
        "id": "M50-DKT2HbHj"
      },
      "source": [
        "### **cat_no_outliers_df log(y)**"
      ]
    },
    {
      "cell_type": "code",
      "metadata": {
        "colab": {
          "base_uri": "https://localhost:8080/"
        },
        "id": "1nJbUPGRHbHj",
        "outputId": "b819ea12-c1a0-44b8-c9ed-27afe9fc9082"
      },
      "source": [
        "#set features & target\n",
        "X = cat_no_outliers_df.drop(columns=['avg_sal', 'log_avg_sal'])\n",
        "y = cat_no_outliers_df['log_avg_sal']\n",
        "\n",
        "#split data into training & test sets\n",
        "X_train, X_test, y_train, y_test = train_test_split(X, y, test_size = 0.2, random_state = 43)\n",
        "\n",
        "#Use grid search to find best hyperparameters\n",
        "# defining parameter range \n",
        "param_grid = {'nthread':[4], #when use hyperthread, xgboost may become slower\n",
        "              'objective':['reg:linear'],\n",
        "              'learning_rate': [.03, 0.05, .07], #so called `eta` value\n",
        "              'max_depth': [5, 6, 7],\n",
        "              'min_child_weight': [4],\n",
        "              'silent': [1],\n",
        "              'subsample': [0.7],\n",
        "              'colsample_bytree': [0.7],\n",
        "              'n_estimators': [500]}\n",
        "  \n",
        "log_cat_no_outliers_xgb_grid = GridSearchCV(XGBRegressor(), param_grid,  cv = 5,\n",
        "                        n_jobs = 5, verbose=True)\n",
        "# fitting the model for grid search \n",
        "log_cat_no_outliers_xgb_grid.fit(X_train, y_train) \n",
        "# print best parameter after tuning \n",
        "print(log_cat_no_outliers_xgb_grid.best_params_) \n",
        "  \n",
        "# print how our model looks after hyper-parameter tuning \n",
        "print(log_cat_no_outliers_xgb_grid.best_estimator_) "
      ],
      "execution_count": null,
      "outputs": [
        {
          "output_type": "stream",
          "text": [
            "Fitting 5 folds for each of 9 candidates, totalling 45 fits\n"
          ],
          "name": "stdout"
        },
        {
          "output_type": "stream",
          "text": [
            "[Parallel(n_jobs=5)]: Using backend LokyBackend with 5 concurrent workers.\n",
            "[Parallel(n_jobs=5)]: Done  45 out of  45 | elapsed:  1.5min finished\n"
          ],
          "name": "stderr"
        },
        {
          "output_type": "stream",
          "text": [
            "{'colsample_bytree': 0.7, 'learning_rate': 0.03, 'max_depth': 7, 'min_child_weight': 4, 'n_estimators': 500, 'nthread': 4, 'objective': 'reg:linear', 'silent': 1, 'subsample': 0.7}\n",
            "XGBRegressor(base_score=0.5, booster='gbtree', colsample_bylevel=1,\n",
            "             colsample_bynode=1, colsample_bytree=0.7, gamma=0,\n",
            "             importance_type='gain', learning_rate=0.03, max_delta_step=0,\n",
            "             max_depth=7, min_child_weight=4, missing=None, n_estimators=500,\n",
            "             n_jobs=1, nthread=4, objective='reg:linear', random_state=0,\n",
            "             reg_alpha=0, reg_lambda=1, scale_pos_weight=1, seed=None, silent=1,\n",
            "             subsample=0.7, verbosity=1)\n"
          ],
          "name": "stdout"
        }
      ]
    },
    {
      "cell_type": "code",
      "metadata": {
        "colab": {
          "base_uri": "https://localhost:8080/"
        },
        "id": "Fp7qNvLwHbHk",
        "outputId": "ba7ebe72-1f46-4517-df40-b41fb6b5207f"
      },
      "source": [
        "#set model with ideal hyperparameters from above\n",
        "log_cat_no_outliers_xgb = log_cat_no_outliers_xgb_grid.best_estimator_\n",
        "\n",
        "log_cat_no_outliers_xgb.fit(X_train, y_train)\n",
        "\n",
        "#cross validate\n",
        "log_cat_no_outliers_xgb_scores = cross_val_score(log_cat_no_outliers_xgb, X_train, y_train, cv = 5)\n",
        "\n",
        "print('Accuracy Scores for the 5 folds: ', log_cat_no_outliers_xgb_scores)\n",
        "print('Mean Cross Validation Score: {:.33f}'.format(np.mean(log_cat_no_outliers_xgb_scores)))"
      ],
      "execution_count": null,
      "outputs": [
        {
          "output_type": "stream",
          "text": [
            "Accuracy Scores for the 5 folds:  [0.61788467 0.56432781 0.63034193 0.58809676 0.58444772]\n",
            "Mean Cross Validation Score: 0.597019779329632904740776666585589\n"
          ],
          "name": "stdout"
        }
      ]
    },
    {
      "cell_type": "code",
      "metadata": {
        "colab": {
          "base_uri": "https://localhost:8080/",
          "height": 108
        },
        "id": "hdBaREr4HbHk",
        "outputId": "5df22823-7d98-477c-97a7-0d136b2a7c8a"
      },
      "source": [
        "#generate predictions\n",
        "log_cat_no_outliers_xgb_preds = log_cat_no_outliers_xgb.predict(X_test)\n",
        "\n",
        "#more performance metrics\n",
        "log_cat_no_outliers_xgb_rsquared_train = log_cat_no_outliers_xgb.score(X_train, y_train)\n",
        "log_cat_no_outliers_xgb_rsquared_test = log_cat_no_outliers_xgb.score(X_test, y_test)\n",
        "log_cat_no_outliers_xgb_mae = mean_absolute_error(y_test, log_cat_no_outliers_xgb_preds)\n",
        "log_cat_no_outliers_xgb_mse = mse(y_test, log_cat_no_outliers_xgb_preds)\n",
        "log_cat_no_outliers_xgb_rmse = rmse(y_test, log_cat_no_outliers_xgb_preds)\n",
        "log_cat_no_outliers_xgb_mape = np.mean(np.abs((y_test - log_cat_no_outliers_xgb_preds)/y_test)*100)\n",
        "log_cat_no_outliers_xgb_rmspe = (np.sqrt(np.mean(np.square((y_test - log_cat_no_outliers_xgb_preds) / y_test)))) * 100\n",
        "log_cat_no_outliers_xgb_model_name = 'Categories w/o Outliers XGBoost Log(y)'\n",
        "\n",
        "#create easily readable display of performance metrics\n",
        "log_cat_no_outliers_xgb_dictionary = {'Model': log_cat_no_outliers_xgb_model_name,\n",
        "  'Training Set R Squared': log_cat_no_outliers_xgb_rsquared_train, \n",
        "  'Test Set R Squared': log_cat_no_outliers_xgb_rsquared_test, 'Mean Absolute Error': log_cat_no_outliers_xgb_mae, \n",
        "  'Mean Sqaured Error': log_cat_no_outliers_xgb_mse, 'Root Mean Squared Error': log_cat_no_outliers_xgb_rmse,\n",
        "  'Root Mean Squared Percentage Error': log_cat_no_outliers_xgb_rmspe,\n",
        "  'Mean Absolute Percentage Error': log_cat_no_outliers_xgb_mape}\n",
        "\n",
        "log_cat_no_outliers_xgb_df = pd.DataFrame(log_cat_no_outliers_xgb_dictionary, index=[0])\n",
        "\n",
        "log_cat_no_outliers_xgb_df"
      ],
      "execution_count": null,
      "outputs": [
        {
          "output_type": "execute_result",
          "data": {
            "text/html": [
              "<div>\n",
              "<style scoped>\n",
              "    .dataframe tbody tr th:only-of-type {\n",
              "        vertical-align: middle;\n",
              "    }\n",
              "\n",
              "    .dataframe tbody tr th {\n",
              "        vertical-align: top;\n",
              "    }\n",
              "\n",
              "    .dataframe thead th {\n",
              "        text-align: right;\n",
              "    }\n",
              "</style>\n",
              "<table border=\"1\" class=\"dataframe\">\n",
              "  <thead>\n",
              "    <tr style=\"text-align: right;\">\n",
              "      <th></th>\n",
              "      <th>Model</th>\n",
              "      <th>Training Set R Squared</th>\n",
              "      <th>Test Set R Squared</th>\n",
              "      <th>Mean Absolute Error</th>\n",
              "      <th>Mean Sqaured Error</th>\n",
              "      <th>Root Mean Squared Error</th>\n",
              "      <th>Root Mean Squared Percentage Error</th>\n",
              "      <th>Mean Absolute Percentage Error</th>\n",
              "    </tr>\n",
              "  </thead>\n",
              "  <tbody>\n",
              "    <tr>\n",
              "      <th>0</th>\n",
              "      <td>Categories w/o Outliers XGBoost Log(y)</td>\n",
              "      <td>0.83035</td>\n",
              "      <td>0.618948</td>\n",
              "      <td>0.159886</td>\n",
              "      <td>0.045119</td>\n",
              "      <td>0.212412</td>\n",
              "      <td>1.87561</td>\n",
              "      <td>1.407731</td>\n",
              "    </tr>\n",
              "  </tbody>\n",
              "</table>\n",
              "</div>"
            ],
            "text/plain": [
              "                                    Model  ...  Mean Absolute Percentage Error\n",
              "0  Categories w/o Outliers XGBoost Log(y)  ...                        1.407731\n",
              "\n",
              "[1 rows x 8 columns]"
            ]
          },
          "metadata": {
            "tags": []
          },
          "execution_count": 210
        }
      ]
    },
    {
      "cell_type": "markdown",
      "metadata": {
        "id": "8M4lOifGHbHl"
      },
      "source": [
        "### **yrs_exp_no_outliers_df log(y)**"
      ]
    },
    {
      "cell_type": "code",
      "metadata": {
        "colab": {
          "base_uri": "https://localhost:8080/"
        },
        "id": "IIOK45QUHbHl",
        "outputId": "e0334b8f-17db-4b15-cd3e-e6fafd153f35"
      },
      "source": [
        "#set features & target\n",
        "X = yrs_exp_no_outliers_df.drop(columns=['avg_sal', 'log_avg_sal'])\n",
        "y = yrs_exp_no_outliers_df['log_avg_sal']\n",
        "\n",
        "#split data into training & test sets\n",
        "X_train, X_test, y_train, y_test = train_test_split(X, y, test_size = 0.2, random_state = 43)\n",
        "\n",
        "#Use grid search to find best hyperparameters\n",
        "# defining parameter range \n",
        "param_grid = {'nthread':[4], #when use hyperthread, xgboost may become slower\n",
        "              'objective':['reg:linear'],\n",
        "              'learning_rate': [.03, 0.05, .07], #so called `eta` value\n",
        "              'max_depth': [5, 6, 7],\n",
        "              'min_child_weight': [4],\n",
        "              'silent': [1],\n",
        "              'subsample': [0.7],\n",
        "              'colsample_bytree': [0.7],\n",
        "              'n_estimators': [500]}\n",
        "  \n",
        "log_yrs_exp_no_outliers_xgb_grid = GridSearchCV(XGBRegressor(), param_grid,  cv = 5,\n",
        "                        n_jobs = 5, verbose=True)\n",
        "# fitting the model for grid search \n",
        "log_yrs_exp_no_outliers_xgb_grid.fit(X_train, y_train) \n",
        "# print best parameter after tuning \n",
        "print(log_yrs_exp_no_outliers_xgb_grid.best_params_) \n",
        "  \n",
        "# print how our model looks after hyper-parameter tuning \n",
        "print(log_yrs_exp_no_outliers_xgb_grid.best_estimator_) "
      ],
      "execution_count": null,
      "outputs": [
        {
          "output_type": "stream",
          "text": [
            "Fitting 5 folds for each of 9 candidates, totalling 45 fits\n"
          ],
          "name": "stdout"
        },
        {
          "output_type": "stream",
          "text": [
            "[Parallel(n_jobs=5)]: Using backend LokyBackend with 5 concurrent workers.\n",
            "[Parallel(n_jobs=5)]: Done  45 out of  45 | elapsed:  1.4min finished\n"
          ],
          "name": "stderr"
        },
        {
          "output_type": "stream",
          "text": [
            "{'colsample_bytree': 0.7, 'learning_rate': 0.03, 'max_depth': 6, 'min_child_weight': 4, 'n_estimators': 500, 'nthread': 4, 'objective': 'reg:linear', 'silent': 1, 'subsample': 0.7}\n",
            "XGBRegressor(base_score=0.5, booster='gbtree', colsample_bylevel=1,\n",
            "             colsample_bynode=1, colsample_bytree=0.7, gamma=0,\n",
            "             importance_type='gain', learning_rate=0.03, max_delta_step=0,\n",
            "             max_depth=6, min_child_weight=4, missing=None, n_estimators=500,\n",
            "             n_jobs=1, nthread=4, objective='reg:linear', random_state=0,\n",
            "             reg_alpha=0, reg_lambda=1, scale_pos_weight=1, seed=None, silent=1,\n",
            "             subsample=0.7, verbosity=1)\n"
          ],
          "name": "stdout"
        }
      ]
    },
    {
      "cell_type": "code",
      "metadata": {
        "colab": {
          "base_uri": "https://localhost:8080/"
        },
        "id": "5-MOthtLHbHl",
        "outputId": "f3ef51af-65cc-40fd-898f-b1d5096b8415"
      },
      "source": [
        "#set model with ideal hyperparameters from above\n",
        "log_yrs_exp_no_outliers_xgb = log_yrs_exp_no_outliers_xgb_grid.best_estimator_\n",
        "\n",
        "log_yrs_exp_no_outliers_xgb.fit(X_train, y_train)\n",
        "\n",
        "#cross validate\n",
        "log_yrs_exp_no_outliers_xgb_scores = cross_val_score(log_yrs_exp_no_outliers_xgb, X_train, y_train, cv = 5)\n",
        "\n",
        "print('Accuracy Scores for the 5 folds: ', log_yrs_exp_no_outliers_xgb_scores)\n",
        "print('Mean Cross Validation Score: {:.33f}'.format(np.mean(log_yrs_exp_no_outliers_xgb_scores)))"
      ],
      "execution_count": null,
      "outputs": [
        {
          "output_type": "stream",
          "text": [
            "Accuracy Scores for the 5 folds:  [0.63802401 0.63433432 0.60336311 0.52121736 0.61153395]\n",
            "Mean Cross Validation Score: 0.601694550599476185581693243875634\n"
          ],
          "name": "stdout"
        }
      ]
    },
    {
      "cell_type": "code",
      "metadata": {
        "colab": {
          "base_uri": "https://localhost:8080/",
          "height": 108
        },
        "id": "j9s1efiGHbHm",
        "outputId": "5b45468d-b7b6-4874-e70b-155527af1cf9"
      },
      "source": [
        "#generate predictions\n",
        "log_yrs_exp_no_outliers_xgb_preds = log_yrs_exp_no_outliers_xgb.predict(X_test)\n",
        "\n",
        "#more performance metrics\n",
        "log_yrs_exp_no_outliers_xgb_rsquared_train = log_yrs_exp_no_outliers_xgb.score(X_train, y_train)\n",
        "log_yrs_exp_no_outliers_xgb_rsquared_test = log_yrs_exp_no_outliers_xgb.score(X_test, y_test)\n",
        "log_yrs_exp_no_outliers_xgb_mae = mean_absolute_error(y_test, log_yrs_exp_no_outliers_xgb_preds)\n",
        "log_yrs_exp_no_outliers_xgb_mse = mse(y_test, log_yrs_exp_no_outliers_xgb_preds)\n",
        "log_yrs_exp_no_outliers_xgb_rmse = rmse(y_test, log_yrs_exp_no_outliers_xgb_preds)\n",
        "log_yrs_exp_no_outliers_xgb_mape = np.mean(np.abs((y_test - log_yrs_exp_no_outliers_xgb_preds)/y_test)*100)\n",
        "log_yrs_exp_no_outliers_xgb_rmspe = (np.sqrt(np.mean(np.square((y_test - log_yrs_exp_no_outliers_xgb_preds) / y_test)))) * 100\n",
        "log_yrs_exp_no_outliers_xgb_model_name = 'Years of Experience w/o Outliers XGBoost Log(y)'\n",
        "\n",
        "#create easily readable display of performance metrics\n",
        "log_yrs_exp_no_outliers_xgb_dictionary = {'Model': log_yrs_exp_no_outliers_xgb_model_name,\n",
        "  'Training Set R Squared': log_yrs_exp_no_outliers_xgb_rsquared_train, \n",
        "  'Test Set R Squared': log_yrs_exp_no_outliers_xgb_rsquared_test, 'Mean Absolute Error': log_yrs_exp_no_outliers_xgb_mae, \n",
        "  'Mean Sqaured Error': log_yrs_exp_no_outliers_xgb_mse, 'Root Mean Squared Error': log_yrs_exp_no_outliers_xgb_rmse,\n",
        "  'Root Mean Squared Percentage Error': log_yrs_exp_no_outliers_xgb_rmspe,\n",
        "  'Mean Absolute Percentage Error': log_yrs_exp_no_outliers_xgb_mape}\n",
        "\n",
        "log_yrs_exp_no_outliers_xgb_df = pd.DataFrame(log_yrs_exp_no_outliers_xgb_dictionary, index=[0])\n",
        "\n",
        "log_yrs_exp_no_outliers_xgb_df"
      ],
      "execution_count": null,
      "outputs": [
        {
          "output_type": "execute_result",
          "data": {
            "text/html": [
              "<div>\n",
              "<style scoped>\n",
              "    .dataframe tbody tr th:only-of-type {\n",
              "        vertical-align: middle;\n",
              "    }\n",
              "\n",
              "    .dataframe tbody tr th {\n",
              "        vertical-align: top;\n",
              "    }\n",
              "\n",
              "    .dataframe thead th {\n",
              "        text-align: right;\n",
              "    }\n",
              "</style>\n",
              "<table border=\"1\" class=\"dataframe\">\n",
              "  <thead>\n",
              "    <tr style=\"text-align: right;\">\n",
              "      <th></th>\n",
              "      <th>Model</th>\n",
              "      <th>Training Set R Squared</th>\n",
              "      <th>Test Set R Squared</th>\n",
              "      <th>Mean Absolute Error</th>\n",
              "      <th>Mean Sqaured Error</th>\n",
              "      <th>Root Mean Squared Error</th>\n",
              "      <th>Root Mean Squared Percentage Error</th>\n",
              "      <th>Mean Absolute Percentage Error</th>\n",
              "    </tr>\n",
              "  </thead>\n",
              "  <tbody>\n",
              "    <tr>\n",
              "      <th>0</th>\n",
              "      <td>Years of Experience w/o Outliers XGBoost Log(y)</td>\n",
              "      <td>0.794642</td>\n",
              "      <td>0.594065</td>\n",
              "      <td>0.159736</td>\n",
              "      <td>0.044681</td>\n",
              "      <td>0.21138</td>\n",
              "      <td>1.867047</td>\n",
              "      <td>1.405353</td>\n",
              "    </tr>\n",
              "  </tbody>\n",
              "</table>\n",
              "</div>"
            ],
            "text/plain": [
              "                                             Model  ...  Mean Absolute Percentage Error\n",
              "0  Years of Experience w/o Outliers XGBoost Log(y)  ...                        1.405353\n",
              "\n",
              "[1 rows x 8 columns]"
            ]
          },
          "metadata": {
            "tags": []
          },
          "execution_count": 213
        }
      ]
    },
    {
      "cell_type": "markdown",
      "metadata": {
        "id": "qCA4Vd9d7YfZ"
      },
      "source": [
        "# **Model Comparison**"
      ]
    },
    {
      "cell_type": "markdown",
      "metadata": {
        "id": "2SkULHj3Hv55"
      },
      "source": [
        "### **Categories & Years of Experience Model Results**"
      ]
    },
    {
      "cell_type": "code",
      "metadata": {
        "colab": {
          "base_uri": "https://localhost:8080/",
          "height": 1000
        },
        "id": "ZTNsQyQ37fbh",
        "outputId": "8b97545e-9a48-4023-9673-e9e448f07f54"
      },
      "source": [
        "results_list = [\n",
        "categories_lr_df, yrs_exp_lr_df, cat_no_outliers_lr_df, \n",
        "yrs_exp_no_outliers_lr_df, \n",
        "\n",
        "categories_ridge_df, yrs_exp_ridge_df, cat_no_outliers_ridge_df, \n",
        "yrs_exp_no_outliers_ridge_df, \n",
        "\n",
        "\n",
        "categories_lasso_df, yrs_exp_lasso_df, cat_no_outliers_lasso_df, \n",
        "yrs_exp_no_outliers_lasso_df, \n",
        " \n",
        "\n",
        "categories_enet_df, yrs_exp_enet_df, cat_no_outliers_enet_df, \n",
        "yrs_exp_no_outliers_enet_df, \n",
        "\n",
        "\n",
        "categories_knn_df, years_exp_knn_df, cat_no_outliers_knn_df, \n",
        "years_exp_knn_df, \n",
        "\n",
        "\n",
        "categories_rf_df, yrs_exp_rf_df, cat_no_outliers_rf_df, \n",
        "yrs_exp_no_outliers_rf_df, \n",
        "\n",
        "\n",
        "categories_svm_df, yrs_exp_svm_df,  cat_no_outliers_svm_df, \n",
        "yrs_exp_no_outliers_svm_df, \n",
        " \n",
        "\n",
        "categories_xgb_df, yrs_exp_xgb_df, cat_no_outliers_xgb_df, \n",
        "yrs_exp_no_outliers_xgb_df, \n",
        "]\n",
        "\n",
        "cat_results_df = pd.concat(results_list)\n",
        "cat_results_df.reset_index(inplace=True)\n",
        "cat_results_df.drop(columns=['index'], inplace=True)\n",
        "\n",
        "cat_results_df"
      ],
      "execution_count": null,
      "outputs": [
        {
          "output_type": "execute_result",
          "data": {
            "text/html": [
              "<div>\n",
              "<style scoped>\n",
              "    .dataframe tbody tr th:only-of-type {\n",
              "        vertical-align: middle;\n",
              "    }\n",
              "\n",
              "    .dataframe tbody tr th {\n",
              "        vertical-align: top;\n",
              "    }\n",
              "\n",
              "    .dataframe thead th {\n",
              "        text-align: right;\n",
              "    }\n",
              "</style>\n",
              "<table border=\"1\" class=\"dataframe\">\n",
              "  <thead>\n",
              "    <tr style=\"text-align: right;\">\n",
              "      <th></th>\n",
              "      <th>Model</th>\n",
              "      <th>Training Set R Squared</th>\n",
              "      <th>Test Set R Squared</th>\n",
              "      <th>Mean Absolute Error</th>\n",
              "      <th>Mean Sqaured Error</th>\n",
              "      <th>Root Mean Squared Error</th>\n",
              "      <th>Root Mean Squared Percentage Error</th>\n",
              "      <th>Mean Absolute Percentage Error</th>\n",
              "    </tr>\n",
              "  </thead>\n",
              "  <tbody>\n",
              "    <tr>\n",
              "      <th>0</th>\n",
              "      <td>Categories Linear Regression</td>\n",
              "      <td>0.466434</td>\n",
              "      <td>0.495073</td>\n",
              "      <td>18351.913297</td>\n",
              "      <td>6.133575e+08</td>\n",
              "      <td>24766.055624</td>\n",
              "      <td>28.200960</td>\n",
              "      <td>20.510330</td>\n",
              "    </tr>\n",
              "    <tr>\n",
              "      <th>1</th>\n",
              "      <td>Years of Experience Linear Regression</td>\n",
              "      <td>0.488129</td>\n",
              "      <td>0.510405</td>\n",
              "      <td>18185.446291</td>\n",
              "      <td>5.860383e+08</td>\n",
              "      <td>24208.228943</td>\n",
              "      <td>29.675860</td>\n",
              "      <td>21.273419</td>\n",
              "    </tr>\n",
              "    <tr>\n",
              "      <th>2</th>\n",
              "      <td>Categories w/o Outliers Linear Regression</td>\n",
              "      <td>0.489295</td>\n",
              "      <td>0.479863</td>\n",
              "      <td>18051.183778</td>\n",
              "      <td>5.362629e+08</td>\n",
              "      <td>23157.350694</td>\n",
              "      <td>28.103161</td>\n",
              "      <td>20.874016</td>\n",
              "    </tr>\n",
              "    <tr>\n",
              "      <th>3</th>\n",
              "      <td>Years of Experience w/o Outliers Linear Regres...</td>\n",
              "      <td>0.508561</td>\n",
              "      <td>0.491078</td>\n",
              "      <td>17141.075357</td>\n",
              "      <td>4.849097e+08</td>\n",
              "      <td>22020.664173</td>\n",
              "      <td>27.642001</td>\n",
              "      <td>19.863938</td>\n",
              "    </tr>\n",
              "    <tr>\n",
              "      <th>4</th>\n",
              "      <td>Categories Ridge Regression</td>\n",
              "      <td>0.466422</td>\n",
              "      <td>0.495013</td>\n",
              "      <td>18360.500359</td>\n",
              "      <td>6.134306e+08</td>\n",
              "      <td>24767.530763</td>\n",
              "      <td>28.207731</td>\n",
              "      <td>20.521180</td>\n",
              "    </tr>\n",
              "    <tr>\n",
              "      <th>5</th>\n",
              "      <td>Years of Experience Ridge Regression</td>\n",
              "      <td>0.488114</td>\n",
              "      <td>0.510300</td>\n",
              "      <td>18194.348410</td>\n",
              "      <td>5.861640e+08</td>\n",
              "      <td>24210.824751</td>\n",
              "      <td>29.682176</td>\n",
              "      <td>21.286802</td>\n",
              "    </tr>\n",
              "    <tr>\n",
              "      <th>6</th>\n",
              "      <td>Categories w/o Outliers Ridge Regression</td>\n",
              "      <td>0.489282</td>\n",
              "      <td>0.480019</td>\n",
              "      <td>18056.671638</td>\n",
              "      <td>5.361027e+08</td>\n",
              "      <td>23153.890718</td>\n",
              "      <td>28.106676</td>\n",
              "      <td>20.883302</td>\n",
              "    </tr>\n",
              "    <tr>\n",
              "      <th>7</th>\n",
              "      <td>Years of Experience w/o Outliers Ridge Regression</td>\n",
              "      <td>0.508547</td>\n",
              "      <td>0.490758</td>\n",
              "      <td>17148.652945</td>\n",
              "      <td>4.852152e+08</td>\n",
              "      <td>22027.601253</td>\n",
              "      <td>27.651506</td>\n",
              "      <td>19.872649</td>\n",
              "    </tr>\n",
              "    <tr>\n",
              "      <th>8</th>\n",
              "      <td>Categories Lasso Regression</td>\n",
              "      <td>0.466432</td>\n",
              "      <td>0.495000</td>\n",
              "      <td>18354.517410</td>\n",
              "      <td>6.134465e+08</td>\n",
              "      <td>24767.851990</td>\n",
              "      <td>28.205800</td>\n",
              "      <td>20.514172</td>\n",
              "    </tr>\n",
              "    <tr>\n",
              "      <th>9</th>\n",
              "      <td>Years of Experience Lasso Regression</td>\n",
              "      <td>0.487998</td>\n",
              "      <td>0.509460</td>\n",
              "      <td>18217.519465</td>\n",
              "      <td>5.871700e+08</td>\n",
              "      <td>24231.591669</td>\n",
              "      <td>29.735449</td>\n",
              "      <td>21.329407</td>\n",
              "    </tr>\n",
              "    <tr>\n",
              "      <th>10</th>\n",
              "      <td>Categories Lasso Regression</td>\n",
              "      <td>0.489294</td>\n",
              "      <td>0.479888</td>\n",
              "      <td>18052.149430</td>\n",
              "      <td>5.362368e+08</td>\n",
              "      <td>23156.788158</td>\n",
              "      <td>28.105840</td>\n",
              "      <td>20.876866</td>\n",
              "    </tr>\n",
              "    <tr>\n",
              "      <th>11</th>\n",
              "      <td>Years of Experience w/o Outliers Lasso Regression</td>\n",
              "      <td>0.508418</td>\n",
              "      <td>0.490746</td>\n",
              "      <td>17154.781138</td>\n",
              "      <td>4.852268e+08</td>\n",
              "      <td>22027.864867</td>\n",
              "      <td>27.680899</td>\n",
              "      <td>19.891620</td>\n",
              "    </tr>\n",
              "    <tr>\n",
              "      <th>12</th>\n",
              "      <td>Categories Elastic Net Regression</td>\n",
              "      <td>0.466424</td>\n",
              "      <td>0.495020</td>\n",
              "      <td>18359.574444</td>\n",
              "      <td>6.134222e+08</td>\n",
              "      <td>24767.361468</td>\n",
              "      <td>28.207043</td>\n",
              "      <td>20.520029</td>\n",
              "    </tr>\n",
              "    <tr>\n",
              "      <th>13</th>\n",
              "      <td>Years of Experience Elastic Net Regression</td>\n",
              "      <td>0.487998</td>\n",
              "      <td>0.509460</td>\n",
              "      <td>18217.519465</td>\n",
              "      <td>5.871700e+08</td>\n",
              "      <td>24231.591669</td>\n",
              "      <td>29.735449</td>\n",
              "      <td>21.329407</td>\n",
              "    </tr>\n",
              "    <tr>\n",
              "      <th>14</th>\n",
              "      <td>Categories w/o Outliers Elastic Net Regression</td>\n",
              "      <td>0.489285</td>\n",
              "      <td>0.480003</td>\n",
              "      <td>18056.046379</td>\n",
              "      <td>5.361186e+08</td>\n",
              "      <td>23154.235235</td>\n",
              "      <td>28.106270</td>\n",
              "      <td>20.882271</td>\n",
              "    </tr>\n",
              "    <tr>\n",
              "      <th>15</th>\n",
              "      <td>Years of Experience w/o Outliers Elastic Net R...</td>\n",
              "      <td>0.508418</td>\n",
              "      <td>0.490746</td>\n",
              "      <td>17154.781138</td>\n",
              "      <td>4.852268e+08</td>\n",
              "      <td>22027.864867</td>\n",
              "      <td>27.680899</td>\n",
              "      <td>19.891620</td>\n",
              "    </tr>\n",
              "    <tr>\n",
              "      <th>16</th>\n",
              "      <td>Categories KNN</td>\n",
              "      <td>0.977943</td>\n",
              "      <td>0.533593</td>\n",
              "      <td>16822.530302</td>\n",
              "      <td>5.665663e+08</td>\n",
              "      <td>23802.652825</td>\n",
              "      <td>25.766713</td>\n",
              "      <td>18.303869</td>\n",
              "    </tr>\n",
              "    <tr>\n",
              "      <th>17</th>\n",
              "      <td>Years of Experience KNN</td>\n",
              "      <td>0.978523</td>\n",
              "      <td>0.503578</td>\n",
              "      <td>16974.645518</td>\n",
              "      <td>5.942104e+08</td>\n",
              "      <td>24376.431068</td>\n",
              "      <td>28.099777</td>\n",
              "      <td>19.401966</td>\n",
              "    </tr>\n",
              "    <tr>\n",
              "      <th>18</th>\n",
              "      <td>Categories w/o Outliers KNN</td>\n",
              "      <td>0.985148</td>\n",
              "      <td>0.523199</td>\n",
              "      <td>16354.864443</td>\n",
              "      <td>4.915838e+08</td>\n",
              "      <td>22171.688410</td>\n",
              "      <td>26.564941</td>\n",
              "      <td>18.755134</td>\n",
              "    </tr>\n",
              "    <tr>\n",
              "      <th>19</th>\n",
              "      <td>Years of Experience KNN</td>\n",
              "      <td>0.978523</td>\n",
              "      <td>0.503578</td>\n",
              "      <td>16974.645518</td>\n",
              "      <td>5.942104e+08</td>\n",
              "      <td>24376.431068</td>\n",
              "      <td>28.099777</td>\n",
              "      <td>19.401966</td>\n",
              "    </tr>\n",
              "    <tr>\n",
              "      <th>20</th>\n",
              "      <td>Categories Random Forest</td>\n",
              "      <td>0.975766</td>\n",
              "      <td>0.600387</td>\n",
              "      <td>15367.506564</td>\n",
              "      <td>4.854282e+08</td>\n",
              "      <td>22032.436267</td>\n",
              "      <td>24.454074</td>\n",
              "      <td>16.955073</td>\n",
              "    </tr>\n",
              "    <tr>\n",
              "      <th>21</th>\n",
              "      <td>Years of Experience Random Forest</td>\n",
              "      <td>0.976494</td>\n",
              "      <td>0.563798</td>\n",
              "      <td>15528.813267</td>\n",
              "      <td>5.221279e+08</td>\n",
              "      <td>22850.119105</td>\n",
              "      <td>26.742774</td>\n",
              "      <td>17.923973</td>\n",
              "    </tr>\n",
              "    <tr>\n",
              "      <th>22</th>\n",
              "      <td>Categories w/o Outliers Random Forest</td>\n",
              "      <td>0.944975</td>\n",
              "      <td>0.617602</td>\n",
              "      <td>14767.855231</td>\n",
              "      <td>3.942534e+08</td>\n",
              "      <td>19855.816434</td>\n",
              "      <td>24.318608</td>\n",
              "      <td>17.173618</td>\n",
              "    </tr>\n",
              "    <tr>\n",
              "      <th>23</th>\n",
              "      <td>Years of Experience w/o Outliers Random Forest</td>\n",
              "      <td>0.944127</td>\n",
              "      <td>0.586782</td>\n",
              "      <td>14437.372001</td>\n",
              "      <td>3.937217e+08</td>\n",
              "      <td>19842.421851</td>\n",
              "      <td>23.810016</td>\n",
              "      <td>16.476445</td>\n",
              "    </tr>\n",
              "    <tr>\n",
              "      <th>24</th>\n",
              "      <td>Categories SVM</td>\n",
              "      <td>-0.001405</td>\n",
              "      <td>-0.012302</td>\n",
              "      <td>27366.191869</td>\n",
              "      <td>1.229689e+09</td>\n",
              "      <td>35066.915675</td>\n",
              "      <td>37.668476</td>\n",
              "      <td>29.702740</td>\n",
              "    </tr>\n",
              "    <tr>\n",
              "      <th>25</th>\n",
              "      <td>Years of Experience SVM</td>\n",
              "      <td>-0.002256</td>\n",
              "      <td>0.006884</td>\n",
              "      <td>26856.201708</td>\n",
              "      <td>1.188746e+09</td>\n",
              "      <td>34478.202152</td>\n",
              "      <td>39.247782</td>\n",
              "      <td>30.510856</td>\n",
              "    </tr>\n",
              "    <tr>\n",
              "      <th>26</th>\n",
              "      <td>Categories w/o Outliers SVM</td>\n",
              "      <td>0.005037</td>\n",
              "      <td>0.004300</td>\n",
              "      <td>25862.789210</td>\n",
              "      <td>1.026570e+09</td>\n",
              "      <td>32040.133921</td>\n",
              "      <td>36.661546</td>\n",
              "      <td>29.194231</td>\n",
              "    </tr>\n",
              "    <tr>\n",
              "      <th>27</th>\n",
              "      <td>Years of Experience w/o Outliers SVM</td>\n",
              "      <td>0.002433</td>\n",
              "      <td>-0.018597</td>\n",
              "      <td>24904.949246</td>\n",
              "      <td>9.705372e+08</td>\n",
              "      <td>31153.446497</td>\n",
              "      <td>34.902355</td>\n",
              "      <td>27.592085</td>\n",
              "    </tr>\n",
              "    <tr>\n",
              "      <th>28</th>\n",
              "      <td>Categories XGBoost</td>\n",
              "      <td>0.799806</td>\n",
              "      <td>0.627167</td>\n",
              "      <td>15371.966216</td>\n",
              "      <td>4.528971e+08</td>\n",
              "      <td>21281.379568</td>\n",
              "      <td>23.839380</td>\n",
              "      <td>16.973033</td>\n",
              "    </tr>\n",
              "    <tr>\n",
              "      <th>29</th>\n",
              "      <td>Years of Experience XGBoost</td>\n",
              "      <td>0.761039</td>\n",
              "      <td>0.582932</td>\n",
              "      <td>15865.900848</td>\n",
              "      <td>4.992252e+08</td>\n",
              "      <td>22343.347228</td>\n",
              "      <td>25.899069</td>\n",
              "      <td>18.185604</td>\n",
              "    </tr>\n",
              "    <tr>\n",
              "      <th>30</th>\n",
              "      <td>Categories w/o Outliers XGBoost</td>\n",
              "      <td>0.805165</td>\n",
              "      <td>0.616601</td>\n",
              "      <td>14815.273150</td>\n",
              "      <td>3.952853e+08</td>\n",
              "      <td>19881.782115</td>\n",
              "      <td>23.644056</td>\n",
              "      <td>17.061746</td>\n",
              "    </tr>\n",
              "    <tr>\n",
              "      <th>31</th>\n",
              "      <td>Years of Experience w/o Outliers XGBoost</td>\n",
              "      <td>0.826040</td>\n",
              "      <td>0.584467</td>\n",
              "      <td>14788.758107</td>\n",
              "      <td>3.959270e+08</td>\n",
              "      <td>19897.913369</td>\n",
              "      <td>24.049189</td>\n",
              "      <td>16.915013</td>\n",
              "    </tr>\n",
              "  </tbody>\n",
              "</table>\n",
              "</div>"
            ],
            "text/plain": [
              "                                                Model  ...  Mean Absolute Percentage Error\n",
              "0                        Categories Linear Regression  ...                       20.510330\n",
              "1               Years of Experience Linear Regression  ...                       21.273419\n",
              "2           Categories w/o Outliers Linear Regression  ...                       20.874016\n",
              "3   Years of Experience w/o Outliers Linear Regres...  ...                       19.863938\n",
              "4                         Categories Ridge Regression  ...                       20.521180\n",
              "5                Years of Experience Ridge Regression  ...                       21.286802\n",
              "6            Categories w/o Outliers Ridge Regression  ...                       20.883302\n",
              "7   Years of Experience w/o Outliers Ridge Regression  ...                       19.872649\n",
              "8                         Categories Lasso Regression  ...                       20.514172\n",
              "9                Years of Experience Lasso Regression  ...                       21.329407\n",
              "10                        Categories Lasso Regression  ...                       20.876866\n",
              "11  Years of Experience w/o Outliers Lasso Regression  ...                       19.891620\n",
              "12                  Categories Elastic Net Regression  ...                       20.520029\n",
              "13         Years of Experience Elastic Net Regression  ...                       21.329407\n",
              "14     Categories w/o Outliers Elastic Net Regression  ...                       20.882271\n",
              "15  Years of Experience w/o Outliers Elastic Net R...  ...                       19.891620\n",
              "16                                     Categories KNN  ...                       18.303869\n",
              "17                            Years of Experience KNN  ...                       19.401966\n",
              "18                        Categories w/o Outliers KNN  ...                       18.755134\n",
              "19                            Years of Experience KNN  ...                       19.401966\n",
              "20                           Categories Random Forest  ...                       16.955073\n",
              "21                  Years of Experience Random Forest  ...                       17.923973\n",
              "22              Categories w/o Outliers Random Forest  ...                       17.173618\n",
              "23     Years of Experience w/o Outliers Random Forest  ...                       16.476445\n",
              "24                                     Categories SVM  ...                       29.702740\n",
              "25                            Years of Experience SVM  ...                       30.510856\n",
              "26                        Categories w/o Outliers SVM  ...                       29.194231\n",
              "27               Years of Experience w/o Outliers SVM  ...                       27.592085\n",
              "28                                 Categories XGBoost  ...                       16.973033\n",
              "29                        Years of Experience XGBoost  ...                       18.185604\n",
              "30                    Categories w/o Outliers XGBoost  ...                       17.061746\n",
              "31           Years of Experience w/o Outliers XGBoost  ...                       16.915013\n",
              "\n",
              "[32 rows x 8 columns]"
            ]
          },
          "metadata": {
            "tags": []
          },
          "execution_count": 214
        }
      ]
    },
    {
      "cell_type": "code",
      "metadata": {
        "id": "VfalLjGNv7HF"
      },
      "source": [
        "cat_results_df.to_csv('cat_results_df.csv')"
      ],
      "execution_count": null,
      "outputs": []
    },
    {
      "cell_type": "markdown",
      "metadata": {
        "id": "CUZX43nIpAJM"
      },
      "source": [
        "### **Log(y) Categories & Years of Experience Model Results**"
      ]
    },
    {
      "cell_type": "code",
      "metadata": {
        "id": "QuhdXI02pEDd",
        "colab": {
          "base_uri": "https://localhost:8080/",
          "height": 1000
        },
        "outputId": "43e1091c-3405-4183-8f95-5bdd9200b3e1"
      },
      "source": [
        "logy_results_list = [\n",
        "                     \n",
        "log_categories_lr_df, log_yrs_exp_lr_df, log_cat_no_outliers_lr_df, \n",
        "log_yrs_exp_no_outliers_lr_df, \n",
        "\n",
        "log_categories_ridge_df, log_yrs_exp_ridge_df, log_cat_no_outliers_ridge_df,\n",
        "log_yrs_exp_no_outliers_ridge_df, \n",
        "\n",
        "log_categories_lasso_df, log_yrs_exp_lasso_df, log_cat_no_outliers_lasso_df, \n",
        "log_yrs_exp_no_outliers_lasso_df,   \n",
        "\n",
        "log_categories_enet_df, log_yrs_exp_enet_df, log_cat_no_outliers_enet_df, \n",
        "log_yrs_exp_no_outliers_enet_df,\n",
        "\n",
        "log_categories_knn_df, log_years_exp_knn_df, log_cat_no_outliers_knn_df, \n",
        "log_years_exp_knn_df, \n",
        "\n",
        "log_categories_rf_df, log_yrs_exp_rf_df, log_cat_no_outliers_rf_df, \n",
        "log_yrs_exp_no_outliers_rf_df,\n",
        "\n",
        "log_categories_svm_df, log_yrs_exp_svm_df, log_cat_no_outliers_svm_df, \n",
        "log_yrs_exp_no_outliers_svm_df,\n",
        "\n",
        "log_categories_xgb_df, log_yrs_exp_xgb_df,  log_cat_no_outliers_xgb_df, \n",
        "log_yrs_exp_no_outliers_xgb_df\n",
        "]\n",
        "\n",
        "cat_logy_results_df = pd.concat(logy_results_list)\n",
        "cat_logy_results_df.reset_index(inplace=True)\n",
        "cat_logy_results_df.drop(columns=['index'], inplace=True)\n",
        "cat_logy_results_df"
      ],
      "execution_count": null,
      "outputs": [
        {
          "output_type": "execute_result",
          "data": {
            "text/html": [
              "<div>\n",
              "<style scoped>\n",
              "    .dataframe tbody tr th:only-of-type {\n",
              "        vertical-align: middle;\n",
              "    }\n",
              "\n",
              "    .dataframe tbody tr th {\n",
              "        vertical-align: top;\n",
              "    }\n",
              "\n",
              "    .dataframe thead th {\n",
              "        text-align: right;\n",
              "    }\n",
              "</style>\n",
              "<table border=\"1\" class=\"dataframe\">\n",
              "  <thead>\n",
              "    <tr style=\"text-align: right;\">\n",
              "      <th></th>\n",
              "      <th>Model</th>\n",
              "      <th>Training Set R Squared</th>\n",
              "      <th>Test Set R Squared</th>\n",
              "      <th>Mean Absolute Error</th>\n",
              "      <th>Mean Sqaured Error</th>\n",
              "      <th>Root Mean Squared Error</th>\n",
              "      <th>Root Mean Squared Percentage Error</th>\n",
              "      <th>Mean Absolute Percentage Error</th>\n",
              "    </tr>\n",
              "  </thead>\n",
              "  <tbody>\n",
              "    <tr>\n",
              "      <th>0</th>\n",
              "      <td>Categories Linear Regression Log(y)</td>\n",
              "      <td>0.485597</td>\n",
              "      <td>0.510472</td>\n",
              "      <td>0.192234</td>\n",
              "      <td>0.063019</td>\n",
              "      <td>0.251036</td>\n",
              "      <td>2.204655</td>\n",
              "      <td>1.686736</td>\n",
              "    </tr>\n",
              "    <tr>\n",
              "      <th>1</th>\n",
              "      <td>Years of Experience Linear Regression Log(y)</td>\n",
              "      <td>0.504237</td>\n",
              "      <td>0.532635</td>\n",
              "      <td>0.191958</td>\n",
              "      <td>0.061039</td>\n",
              "      <td>0.247060</td>\n",
              "      <td>2.188861</td>\n",
              "      <td>1.692370</td>\n",
              "    </tr>\n",
              "    <tr>\n",
              "      <th>2</th>\n",
              "      <td>Categories w/o Outliers Linear Regression Log(y)</td>\n",
              "      <td>0.489235</td>\n",
              "      <td>0.485000</td>\n",
              "      <td>0.194560</td>\n",
              "      <td>0.060979</td>\n",
              "      <td>0.246939</td>\n",
              "      <td>2.178272</td>\n",
              "      <td>1.711419</td>\n",
              "    </tr>\n",
              "    <tr>\n",
              "      <th>3</th>\n",
              "      <td>Years of Experience w/o Outliers Linear Regres...</td>\n",
              "      <td>0.507328</td>\n",
              "      <td>0.495107</td>\n",
              "      <td>0.184104</td>\n",
              "      <td>0.055574</td>\n",
              "      <td>0.235741</td>\n",
              "      <td>2.083967</td>\n",
              "      <td>1.619615</td>\n",
              "    </tr>\n",
              "    <tr>\n",
              "      <th>4</th>\n",
              "      <td>Categories Ridge Regression Log(y)</td>\n",
              "      <td>0.485586</td>\n",
              "      <td>0.510400</td>\n",
              "      <td>0.192337</td>\n",
              "      <td>0.063028</td>\n",
              "      <td>0.251054</td>\n",
              "      <td>2.204853</td>\n",
              "      <td>1.687635</td>\n",
              "    </tr>\n",
              "    <tr>\n",
              "      <th>5</th>\n",
              "      <td>Years of Experience Ridge Regression Log(y)</td>\n",
              "      <td>0.504222</td>\n",
              "      <td>0.532431</td>\n",
              "      <td>0.192055</td>\n",
              "      <td>0.061065</td>\n",
              "      <td>0.247114</td>\n",
              "      <td>2.189369</td>\n",
              "      <td>1.693248</td>\n",
              "    </tr>\n",
              "    <tr>\n",
              "      <th>6</th>\n",
              "      <td>Categories w/o Outliers Ridge Regression Log(y)</td>\n",
              "      <td>0.489223</td>\n",
              "      <td>0.485110</td>\n",
              "      <td>0.194608</td>\n",
              "      <td>0.060966</td>\n",
              "      <td>0.246913</td>\n",
              "      <td>2.178094</td>\n",
              "      <td>1.711852</td>\n",
              "    </tr>\n",
              "    <tr>\n",
              "      <th>7</th>\n",
              "      <td>Years of Experience w/o Outliers Ridge Regress...</td>\n",
              "      <td>0.507314</td>\n",
              "      <td>0.494772</td>\n",
              "      <td>0.184258</td>\n",
              "      <td>0.055611</td>\n",
              "      <td>0.235819</td>\n",
              "      <td>2.084662</td>\n",
              "      <td>1.620957</td>\n",
              "    </tr>\n",
              "    <tr>\n",
              "      <th>8</th>\n",
              "      <td>Categories Lasso Regression Log(y)</td>\n",
              "      <td>0.485471</td>\n",
              "      <td>0.509550</td>\n",
              "      <td>0.192642</td>\n",
              "      <td>0.063138</td>\n",
              "      <td>0.251272</td>\n",
              "      <td>2.206864</td>\n",
              "      <td>1.690324</td>\n",
              "    </tr>\n",
              "    <tr>\n",
              "      <th>9</th>\n",
              "      <td>Years of Experience Lasso Regression Log(y)</td>\n",
              "      <td>0.504120</td>\n",
              "      <td>0.531388</td>\n",
              "      <td>0.192374</td>\n",
              "      <td>0.061202</td>\n",
              "      <td>0.247390</td>\n",
              "      <td>2.191956</td>\n",
              "      <td>1.696120</td>\n",
              "    </tr>\n",
              "    <tr>\n",
              "      <th>10</th>\n",
              "      <td>Categories w/o Outliers Lasso Regression Log(y)</td>\n",
              "      <td>0.489101</td>\n",
              "      <td>0.485056</td>\n",
              "      <td>0.194682</td>\n",
              "      <td>0.060972</td>\n",
              "      <td>0.246926</td>\n",
              "      <td>2.178354</td>\n",
              "      <td>1.712565</td>\n",
              "    </tr>\n",
              "    <tr>\n",
              "      <th>11</th>\n",
              "      <td>Years of Experience w/o Outliers Lasso Regress...</td>\n",
              "      <td>0.507190</td>\n",
              "      <td>0.494458</td>\n",
              "      <td>0.184438</td>\n",
              "      <td>0.055645</td>\n",
              "      <td>0.235892</td>\n",
              "      <td>2.085472</td>\n",
              "      <td>1.622597</td>\n",
              "    </tr>\n",
              "    <tr>\n",
              "      <th>12</th>\n",
              "      <td>Categories Elastic Net Regression Log(y)</td>\n",
              "      <td>0.485595</td>\n",
              "      <td>0.510443</td>\n",
              "      <td>0.192280</td>\n",
              "      <td>0.063023</td>\n",
              "      <td>0.251043</td>\n",
              "      <td>2.204739</td>\n",
              "      <td>1.687135</td>\n",
              "    </tr>\n",
              "    <tr>\n",
              "      <th>13</th>\n",
              "      <td>Years of Experience Elastic Net Regression Log(y)</td>\n",
              "      <td>0.504120</td>\n",
              "      <td>0.531388</td>\n",
              "      <td>0.192374</td>\n",
              "      <td>0.061202</td>\n",
              "      <td>0.247390</td>\n",
              "      <td>2.191956</td>\n",
              "      <td>1.696120</td>\n",
              "    </tr>\n",
              "    <tr>\n",
              "      <th>14</th>\n",
              "      <td>Categories w/o Outliers Elastic Net Regression...</td>\n",
              "      <td>0.489233</td>\n",
              "      <td>0.485053</td>\n",
              "      <td>0.194581</td>\n",
              "      <td>0.060973</td>\n",
              "      <td>0.246927</td>\n",
              "      <td>2.178186</td>\n",
              "      <td>1.711609</td>\n",
              "    </tr>\n",
              "    <tr>\n",
              "      <th>15</th>\n",
              "      <td>Years of Experience Elastic Net Regression Log(y)</td>\n",
              "      <td>0.507190</td>\n",
              "      <td>0.494458</td>\n",
              "      <td>0.184438</td>\n",
              "      <td>0.055645</td>\n",
              "      <td>0.235892</td>\n",
              "      <td>2.085472</td>\n",
              "      <td>1.622597</td>\n",
              "    </tr>\n",
              "    <tr>\n",
              "      <th>16</th>\n",
              "      <td>Categories KNN Log(y)</td>\n",
              "      <td>0.983326</td>\n",
              "      <td>0.544524</td>\n",
              "      <td>0.179539</td>\n",
              "      <td>0.058635</td>\n",
              "      <td>0.242147</td>\n",
              "      <td>2.119425</td>\n",
              "      <td>1.572387</td>\n",
              "    </tr>\n",
              "    <tr>\n",
              "      <th>17</th>\n",
              "      <td>Years of Experience KNN Log(y)</td>\n",
              "      <td>0.982898</td>\n",
              "      <td>0.540537</td>\n",
              "      <td>0.179638</td>\n",
              "      <td>0.060007</td>\n",
              "      <td>0.244963</td>\n",
              "      <td>2.158880</td>\n",
              "      <td>1.580723</td>\n",
              "    </tr>\n",
              "    <tr>\n",
              "      <th>18</th>\n",
              "      <td>Categories w/o Outliers KNN Log(y)</td>\n",
              "      <td>0.986566</td>\n",
              "      <td>0.515524</td>\n",
              "      <td>0.179869</td>\n",
              "      <td>0.057365</td>\n",
              "      <td>0.239509</td>\n",
              "      <td>2.111973</td>\n",
              "      <td>1.581618</td>\n",
              "    </tr>\n",
              "    <tr>\n",
              "      <th>19</th>\n",
              "      <td>Years of Experience KNN Log(y)</td>\n",
              "      <td>0.982898</td>\n",
              "      <td>0.540537</td>\n",
              "      <td>0.179638</td>\n",
              "      <td>0.060007</td>\n",
              "      <td>0.244963</td>\n",
              "      <td>2.158880</td>\n",
              "      <td>1.580723</td>\n",
              "    </tr>\n",
              "    <tr>\n",
              "      <th>20</th>\n",
              "      <td>Categories Random Forest Log(y)</td>\n",
              "      <td>0.910878</td>\n",
              "      <td>0.627317</td>\n",
              "      <td>0.162308</td>\n",
              "      <td>0.047977</td>\n",
              "      <td>0.219036</td>\n",
              "      <td>1.923583</td>\n",
              "      <td>1.424258</td>\n",
              "    </tr>\n",
              "    <tr>\n",
              "      <th>21</th>\n",
              "      <td>Years of Experience Random Forest Log(y)</td>\n",
              "      <td>0.982898</td>\n",
              "      <td>0.596530</td>\n",
              "      <td>0.164299</td>\n",
              "      <td>0.052694</td>\n",
              "      <td>0.229552</td>\n",
              "      <td>2.025203</td>\n",
              "      <td>1.447082</td>\n",
              "    </tr>\n",
              "    <tr>\n",
              "      <th>22</th>\n",
              "      <td>Categories w/o Outliers Random Forest Log(y)</td>\n",
              "      <td>0.911795</td>\n",
              "      <td>0.610747</td>\n",
              "      <td>0.162665</td>\n",
              "      <td>0.046090</td>\n",
              "      <td>0.214685</td>\n",
              "      <td>1.896699</td>\n",
              "      <td>1.432243</td>\n",
              "    </tr>\n",
              "    <tr>\n",
              "      <th>23</th>\n",
              "      <td>Years of Experience w/o Outliers Random Forest...</td>\n",
              "      <td>0.904975</td>\n",
              "      <td>0.602326</td>\n",
              "      <td>0.157093</td>\n",
              "      <td>0.043772</td>\n",
              "      <td>0.209218</td>\n",
              "      <td>1.845988</td>\n",
              "      <td>1.381207</td>\n",
              "    </tr>\n",
              "    <tr>\n",
              "      <th>24</th>\n",
              "      <td>Categories SVM Log(y)</td>\n",
              "      <td>0.580485</td>\n",
              "      <td>0.574954</td>\n",
              "      <td>0.179829</td>\n",
              "      <td>0.054718</td>\n",
              "      <td>0.233919</td>\n",
              "      <td>2.061605</td>\n",
              "      <td>1.579479</td>\n",
              "    </tr>\n",
              "    <tr>\n",
              "      <th>25</th>\n",
              "      <td>Years of Experience SVM Log(y)</td>\n",
              "      <td>0.591758</td>\n",
              "      <td>0.581838</td>\n",
              "      <td>0.177128</td>\n",
              "      <td>0.054613</td>\n",
              "      <td>0.233694</td>\n",
              "      <td>2.065633</td>\n",
              "      <td>1.560814</td>\n",
              "    </tr>\n",
              "    <tr>\n",
              "      <th>26</th>\n",
              "      <td>Categories w/o OUtliers SVM Log(y)</td>\n",
              "      <td>0.585692</td>\n",
              "      <td>0.537148</td>\n",
              "      <td>0.182023</td>\n",
              "      <td>0.054804</td>\n",
              "      <td>0.234103</td>\n",
              "      <td>2.068048</td>\n",
              "      <td>1.601874</td>\n",
              "    </tr>\n",
              "    <tr>\n",
              "      <th>27</th>\n",
              "      <td>Years of Experience w/o Outliers SVM Log(y)</td>\n",
              "      <td>0.600176</td>\n",
              "      <td>0.529780</td>\n",
              "      <td>0.176778</td>\n",
              "      <td>0.051757</td>\n",
              "      <td>0.227502</td>\n",
              "      <td>2.010264</td>\n",
              "      <td>1.554894</td>\n",
              "    </tr>\n",
              "    <tr>\n",
              "      <th>28</th>\n",
              "      <td>Categories XGBoost Log(y)</td>\n",
              "      <td>0.829443</td>\n",
              "      <td>0.637737</td>\n",
              "      <td>0.161249</td>\n",
              "      <td>0.046636</td>\n",
              "      <td>0.215953</td>\n",
              "      <td>1.897039</td>\n",
              "      <td>1.415203</td>\n",
              "    </tr>\n",
              "    <tr>\n",
              "      <th>29</th>\n",
              "      <td>Years of Experience XGBoost Log(y)</td>\n",
              "      <td>0.787120</td>\n",
              "      <td>0.632083</td>\n",
              "      <td>0.164491</td>\n",
              "      <td>0.048051</td>\n",
              "      <td>0.219204</td>\n",
              "      <td>1.937310</td>\n",
              "      <td>1.449160</td>\n",
              "    </tr>\n",
              "    <tr>\n",
              "      <th>30</th>\n",
              "      <td>Categories w/o Outliers XGBoost Log(y)</td>\n",
              "      <td>0.830350</td>\n",
              "      <td>0.618948</td>\n",
              "      <td>0.159886</td>\n",
              "      <td>0.045119</td>\n",
              "      <td>0.212412</td>\n",
              "      <td>1.875610</td>\n",
              "      <td>1.407731</td>\n",
              "    </tr>\n",
              "    <tr>\n",
              "      <th>31</th>\n",
              "      <td>Years of Experience w/o Outliers XGBoost Log(y)</td>\n",
              "      <td>0.794642</td>\n",
              "      <td>0.594065</td>\n",
              "      <td>0.159736</td>\n",
              "      <td>0.044681</td>\n",
              "      <td>0.211380</td>\n",
              "      <td>1.867047</td>\n",
              "      <td>1.405353</td>\n",
              "    </tr>\n",
              "  </tbody>\n",
              "</table>\n",
              "</div>"
            ],
            "text/plain": [
              "                                                Model  ...  Mean Absolute Percentage Error\n",
              "0                 Categories Linear Regression Log(y)  ...                        1.686736\n",
              "1        Years of Experience Linear Regression Log(y)  ...                        1.692370\n",
              "2    Categories w/o Outliers Linear Regression Log(y)  ...                        1.711419\n",
              "3   Years of Experience w/o Outliers Linear Regres...  ...                        1.619615\n",
              "4                  Categories Ridge Regression Log(y)  ...                        1.687635\n",
              "5         Years of Experience Ridge Regression Log(y)  ...                        1.693248\n",
              "6     Categories w/o Outliers Ridge Regression Log(y)  ...                        1.711852\n",
              "7   Years of Experience w/o Outliers Ridge Regress...  ...                        1.620957\n",
              "8                  Categories Lasso Regression Log(y)  ...                        1.690324\n",
              "9         Years of Experience Lasso Regression Log(y)  ...                        1.696120\n",
              "10    Categories w/o Outliers Lasso Regression Log(y)  ...                        1.712565\n",
              "11  Years of Experience w/o Outliers Lasso Regress...  ...                        1.622597\n",
              "12           Categories Elastic Net Regression Log(y)  ...                        1.687135\n",
              "13  Years of Experience Elastic Net Regression Log(y)  ...                        1.696120\n",
              "14  Categories w/o Outliers Elastic Net Regression...  ...                        1.711609\n",
              "15  Years of Experience Elastic Net Regression Log(y)  ...                        1.622597\n",
              "16                              Categories KNN Log(y)  ...                        1.572387\n",
              "17                     Years of Experience KNN Log(y)  ...                        1.580723\n",
              "18                 Categories w/o Outliers KNN Log(y)  ...                        1.581618\n",
              "19                     Years of Experience KNN Log(y)  ...                        1.580723\n",
              "20                    Categories Random Forest Log(y)  ...                        1.424258\n",
              "21           Years of Experience Random Forest Log(y)  ...                        1.447082\n",
              "22       Categories w/o Outliers Random Forest Log(y)  ...                        1.432243\n",
              "23  Years of Experience w/o Outliers Random Forest...  ...                        1.381207\n",
              "24                              Categories SVM Log(y)  ...                        1.579479\n",
              "25                     Years of Experience SVM Log(y)  ...                        1.560814\n",
              "26                 Categories w/o OUtliers SVM Log(y)  ...                        1.601874\n",
              "27        Years of Experience w/o Outliers SVM Log(y)  ...                        1.554894\n",
              "28                          Categories XGBoost Log(y)  ...                        1.415203\n",
              "29                 Years of Experience XGBoost Log(y)  ...                        1.449160\n",
              "30             Categories w/o Outliers XGBoost Log(y)  ...                        1.407731\n",
              "31    Years of Experience w/o Outliers XGBoost Log(y)  ...                        1.405353\n",
              "\n",
              "[32 rows x 8 columns]"
            ]
          },
          "metadata": {
            "tags": []
          },
          "execution_count": 216
        }
      ]
    },
    {
      "cell_type": "code",
      "metadata": {
        "id": "dQsQaSACpTS7"
      },
      "source": [
        "cat_logy_results_df.to_csv('cat_logy_results_df.csv')"
      ],
      "execution_count": null,
      "outputs": []
    },
    {
      "cell_type": "markdown",
      "metadata": {
        "id": "o6MTZIxhGF_T"
      },
      "source": [
        "### **NLP Model Results**\n",
        "\n",
        "A separate notebook containing exploration of NLP Bag of Words and TF-IDF models that were tested with XGBoost, since it was the best performing model. The time it takes to run these models is extensive and is therefore the reason a separate notebook was used. The results of these models can be seen below. \n",
        "\n",
        "To view this notebook, please click [here](https://https://colab.research.google.com/drive/1wEl-dw0npunSUZgS5qAFXapRA779HcLw?usp=sharing)"
      ]
    },
    {
      "cell_type": "code",
      "metadata": {
        "colab": {
          "base_uri": "https://localhost:8080/",
          "height": 211
        },
        "id": "mGpUngWkGkNZ",
        "outputId": "c089679c-935e-4693-cad4-4368f6cb7104"
      },
      "source": [
        "nlp_results = pd.read_csv('https://raw.githubusercontent.com/ferrazzijk/Data-Industry-Salary-Prediction/main/ScrapedDataCSVs/nlp_results.csv?dl=1')\n",
        "nlp_results.drop(columns=['Unnamed: 0'], inplace=True)\n",
        "nlp_results"
      ],
      "execution_count": null,
      "outputs": [
        {
          "output_type": "execute_result",
          "data": {
            "text/html": [
              "<div>\n",
              "<style scoped>\n",
              "    .dataframe tbody tr th:only-of-type {\n",
              "        vertical-align: middle;\n",
              "    }\n",
              "\n",
              "    .dataframe tbody tr th {\n",
              "        vertical-align: top;\n",
              "    }\n",
              "\n",
              "    .dataframe thead th {\n",
              "        text-align: right;\n",
              "    }\n",
              "</style>\n",
              "<table border=\"1\" class=\"dataframe\">\n",
              "  <thead>\n",
              "    <tr style=\"text-align: right;\">\n",
              "      <th></th>\n",
              "      <th>Model</th>\n",
              "      <th>Training Set R Squared</th>\n",
              "      <th>Test Set R Squared</th>\n",
              "      <th>Mean Absolute Error</th>\n",
              "      <th>Mean Sqaured Error</th>\n",
              "      <th>Root Mean Squared Error</th>\n",
              "      <th>Root Mean Squared Percent Error</th>\n",
              "      <th>Mean Absolute Percentage Error</th>\n",
              "    </tr>\n",
              "  </thead>\n",
              "  <tbody>\n",
              "    <tr>\n",
              "      <th>0</th>\n",
              "      <td>BOW XGBoost</td>\n",
              "      <td>0.936038</td>\n",
              "      <td>0.555584</td>\n",
              "      <td>16380.684031</td>\n",
              "      <td>4.831596e+08</td>\n",
              "      <td>21980.891747</td>\n",
              "      <td>26.844869</td>\n",
              "      <td>19.121423</td>\n",
              "    </tr>\n",
              "    <tr>\n",
              "      <th>1</th>\n",
              "      <td>BOW XGBoost log(y)</td>\n",
              "      <td>0.917346</td>\n",
              "      <td>0.540271</td>\n",
              "      <td>0.182553</td>\n",
              "      <td>5.626721e-02</td>\n",
              "      <td>0.237207</td>\n",
              "      <td>2.096247</td>\n",
              "      <td>1.607736</td>\n",
              "    </tr>\n",
              "    <tr>\n",
              "      <th>2</th>\n",
              "      <td>TF-IDF XGBoost</td>\n",
              "      <td>0.948596</td>\n",
              "      <td>0.519813</td>\n",
              "      <td>17301.342480</td>\n",
              "      <td>5.220486e+08</td>\n",
              "      <td>22848.382105</td>\n",
              "      <td>27.742474</td>\n",
              "      <td>20.288725</td>\n",
              "    </tr>\n",
              "    <tr>\n",
              "      <th>3</th>\n",
              "      <td>TF-IDF XGBoost log(y)</td>\n",
              "      <td>0.930190</td>\n",
              "      <td>0.528309</td>\n",
              "      <td>0.185821</td>\n",
              "      <td>5.773127e-02</td>\n",
              "      <td>0.240273</td>\n",
              "      <td>2.120011</td>\n",
              "      <td>1.636261</td>\n",
              "    </tr>\n",
              "  </tbody>\n",
              "</table>\n",
              "</div>"
            ],
            "text/plain": [
              "                   Model  ...  Mean Absolute Percentage Error\n",
              "0            BOW XGBoost  ...                       19.121423\n",
              "1     BOW XGBoost log(y)  ...                        1.607736\n",
              "2         TF-IDF XGBoost  ...                       20.288725\n",
              "3  TF-IDF XGBoost log(y)  ...                        1.636261\n",
              "\n",
              "[4 rows x 8 columns]"
            ]
          },
          "metadata": {
            "tags": []
          },
          "execution_count": 218
        }
      ]
    }
  ]
}