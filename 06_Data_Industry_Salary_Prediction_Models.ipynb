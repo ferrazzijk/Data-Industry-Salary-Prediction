{
  "nbformat": 4,
  "nbformat_minor": 0,
  "metadata": {
    "colab": {
      "name": "06 Data Industry Salary Prediction Models",
      "provenance": [],
      "collapsed_sections": [],
      "toc_visible": true,
      "mount_file_id": "1AyO8kZANyqWAacCn7Odrt5DhW9ZkAZEU",
      "authorship_tag": "ABX9TyNhOEMLYM8/aAuKj0nx/HUH",
      "include_colab_link": true
    },
    "kernelspec": {
      "name": "python3",
      "display_name": "Python 3"
    },
    "language_info": {
      "name": "python"
    }
  },
  "cells": [
    {
      "cell_type": "markdown",
      "metadata": {
        "id": "view-in-github",
        "colab_type": "text"
      },
      "source": [
        "<a href=\"https://colab.research.google.com/github/ferrazzijk/Data-Industry-Salary-Prediction/blob/main/06_Data_Industry_Salary_Prediction_Models.ipynb\" target=\"_parent\"><img src=\"https://colab.research.google.com/assets/colab-badge.svg\" alt=\"Open In Colab\"/></a>"
      ]
    },
    {
      "cell_type": "markdown",
      "metadata": {
        "id": "6oaI5gef7oe4"
      },
      "source": [
        "# **Introduction**\n",
        "\n",
        "The purpose of this project is to determine which data analysis skills are associated with higher salaries. We will use data scraped from [Glassdoor](https://www.glassdoor.com/member/home/index.htm). This file contains the model building and testing portions for the first 4 dataframes of the project. To view the scraping files of each role, please select the respective link in the Job Titles list. To view scraping exploration or the exploratory data analysis notebooks, please select the respective link from additional links.\n",
        "\n",
        "**Job Titles:**\n",
        "*   [Data Analyst](https://colab.research.google.com/drive/1AW0rNTs84Cq7GrJiDq86WWCisB4q6ZwO?usp=sharing)\n",
        "*   [Business Analyst](https://colab.research.google.com/drive/1I1lolzuZgoUZGBwAEP9hZNf7my8XItbz?usp=sharing)\n",
        "*   [Data Engineer](https://colab.research.google.com/drive/18HMhZXcv4xwxDUXGDauYEGdnDJLjNYxf?usp=sharing)\n",
        "*   [Data Scientist](https://colab.research.google.com/drive/1i8UQMiObiOKAyzlrAsFCBPitqIh90Y5O?usp=sharing)\n",
        "\n",
        "**Locations**\n",
        "*   Austin, TX\n",
        "*   Boston, MA\n",
        "*   Chicago, IL\n",
        "*   Colorado\n",
        "*   Los Angeles, CA\n",
        "*   New York City, NY\n",
        "*   San Francisco, CA\n",
        "*   Seattle, WA\n",
        "\n",
        "**Additional Links**\n",
        "*    [Scraping Exploration](https://colab.research.google.com/drive/1K1VMiRG_wzVm0wBSyBHoJJ77rSpZM-wf?usp=sharing)\n",
        "*    [Exploratory Data Analysis](https://colab.research.google.com/drive/1lDlqmcv6xav48C5uj2YLJwK5UJ3BNYET?usp=sharing)\n",
        "*    [Model Building & Testing Part 1](https://colab.research.google.com/drive/17wVHuX5pFcVi2V_r_11FdT1pVpzP8Dnw?usp=sharing)\n",
        "*    [Model Building & Testing Part 2](https://colab.research.google.com/drive/1AyO8kZANyqWAacCn7Odrt5DhW9ZkAZEU?usp=sharing)"
      ]
    },
    {
      "cell_type": "markdown",
      "metadata": {
        "id": "Chorb-BvzXyC"
      },
      "source": [
        "## **Set Environment**"
      ]
    },
    {
      "cell_type": "code",
      "metadata": {
        "id": "j9gKyJTaTkK-",
        "colab": {
          "base_uri": "https://localhost:8080/"
        },
        "outputId": "c0274fd1-de57-4868-f819-6a46a67da915"
      },
      "source": [
        "#set environment\n",
        "import collections\n",
        "import matplotlib.pyplot as plt\n",
        "import nltk\n",
        "import pandas as pd\n",
        "import numpy as np\n",
        "import matplotlib.pyplot as plt\n",
        "import re\n",
        "import requests\n",
        "import scipy.stats as stats\n",
        "import seaborn as sns\n",
        "import spacy\n",
        "import statsmodels.api as sm\n",
        "import string\n",
        "import textwrap\n",
        "\n",
        "from bs4 import BeautifulSoup as soup\n",
        "from collections import Counter\n",
        "from IPython.core.display import clear_output\n",
        "from nltk.corpus import stopwords\n",
        "from random import randint\n",
        "from sklearn import svm\n",
        "from sklearn.ensemble import RandomForestRegressor\n",
        "from sklearn.feature_extraction import text\n",
        "from sklearn.linear_model import LinearRegression, Ridge, Lasso, ElasticNet\n",
        "from sklearn.metrics import  classification_report, mean_absolute_error, precision_score, recall_score, f1_score, accuracy_score, confusion_matrix\n",
        "from sklearn.neighbors import KNeighborsRegressor, LocalOutlierFactor\n",
        "from sklearn.preprocessing import LabelEncoder, StandardScaler\n",
        "from sklearn.model_selection import train_test_split, cross_val_score, GridSearchCV\n",
        "from xgboost.sklearn import XGBRegressor\n",
        "from statsmodels.tools.eval_measures import mse, rmse\n",
        "from time import time, sleep\n",
        "from wordcloud import WordCloud\n",
        "\n",
        "nltk.download('stopwords')\n",
        "\n",
        "#ignore warnings\n",
        "import warnings\n",
        "warnings.filterwarnings(\"ignore\")"
      ],
      "execution_count": null,
      "outputs": [
        {
          "output_type": "stream",
          "text": [
            "/usr/local/lib/python3.7/dist-packages/statsmodels/tools/_testing.py:19: FutureWarning: pandas.util.testing is deprecated. Use the functions in the public API at pandas.testing instead.\n",
            "  import pandas.util.testing as tm\n"
          ],
          "name": "stderr"
        },
        {
          "output_type": "stream",
          "text": [
            "[nltk_data] Downloading package stopwords to /root/nltk_data...\n",
            "[nltk_data]   Unzipping corpora/stopwords.zip.\n"
          ],
          "name": "stdout"
        }
      ]
    },
    {
      "cell_type": "markdown",
      "metadata": {
        "id": "m9wm0W6JCuxi"
      },
      "source": [
        "# **Model Building & Testing**\n",
        "\n",
        "We have 8 Dataframe's to test models on (developed in EDA notebook). The first four will be tested in this notebook and the second four in another notebook.\n",
        "*   **all_jobs:** numeric data of extrapolated from the job descriptions. 5631 rows × 88 columns\n",
        "*   **all_jobs_yrs_df**: all_jobs excluding jobs that did not have years of experience listed. 4696 rows × 88 columns\n",
        "*   **all_jobs_no_outliers_df:** numeric data of extrapolated from the job descriptions, outliers removed. 5569 rows × 88 columns\n",
        "*   **all_jobs_yrs_no_outliers_df**: ll_jobs excluding jobs that did not have years of experience listed, outliers removed. 4644 rows × 88 columns\n",
        "*   **categories_df:** numeric data of combined sums of the categories we extrapolated from the job descriptions. 4696 rows × 16 columns\n",
        "*   **yrs_exp_df**: categories excluding jobs that did not have years of experience listed. 1711 rows × 16 columns\n",
        "*   **cat_no_outliers_df:** numeric data of combined sums of the categories we extrapolated from the job descriptions, outliers removed. 5569 rows × 16 columns\n",
        "*   **yrs_exp_no_outliers_df**: categories excluding jobs that did not have years of experience listed, outliers removed. 4644 rows × 16 columns\n",
        "\n",
        "For performance comparison, each will be tested with target variable as:\n",
        "*    **Average Salary**\n",
        "*    **Log of Average Salary**"
      ]
    },
    {
      "cell_type": "markdown",
      "metadata": {
        "id": "7Kp17Hhp-Ml-"
      },
      "source": [
        "### **Import Created Databases**"
      ]
    },
    {
      "cell_type": "code",
      "metadata": {
        "colab": {
          "base_uri": "https://localhost:8080/"
        },
        "id": "oY7Usokm5TDy",
        "outputId": "82a5e519-1ca9-4870-88fa-49745a4f7c45"
      },
      "source": [
        "all_jobs_df = pd.read_csv('https://raw.githubusercontent.com/ferrazzijk/Data-Industry-Salary-Prediction/main/Dataframes/all_jobs_df.csv?dl=0')\n",
        "all_jobs_yrs_df = pd.read_csv('https://raw.githubusercontent.com/ferrazzijk/Data-Industry-Salary-Prediction/main/Dataframes/all_jobs_yrs_df.csv?dl=0')\n",
        "all_jobs_no_outliers_df = pd.read_csv('https://raw.githubusercontent.com/ferrazzijk/Data-Industry-Salary-Prediction/main/Dataframes/all_jobs_no_outliers_df.csv?dl=0') \n",
        "all_jobs_yrs_no_outliers_df = pd.read_csv('https://raw.githubusercontent.com/ferrazzijk/Data-Industry-Salary-Prediction/main/Dataframes/all_jobs_yrs_no_outliers_df.csv?dl=0')\n",
        "\n",
        "#create a list of above dataframes\n",
        "dfs = [all_jobs_df, all_jobs_yrs_df, all_jobs_no_outliers_df, all_jobs_yrs_no_outliers_df]\n",
        "#drop the unnamed column that transfers in & min & max salary\n",
        "#add a log_sal column\n",
        "for df in dfs:\n",
        "  df.drop(columns=['Unnamed: 0', 'min_sal', 'max_sal'], inplace=True)\n",
        "  df['log_avg_sal'] = np.log1p(df['avg_sal'])\n",
        "  print(df.head())\n"
      ],
      "execution_count": null,
      "outputs": [
        {
          "output_type": "stream",
          "text": [
            "   industry  rank  search_city  ...  spark  tensorflow  log_avg_sal\n",
            "0         5   3.5            0  ...      1           0    11.177467\n",
            "1        12   3.4            0  ...      0           0    10.809748\n",
            "2         1   3.8            0  ...      0           0    11.042938\n",
            "3         5   4.5            0  ...      0           0    10.768506\n",
            "4         5   3.7            0  ...      0           0    11.034906\n",
            "\n",
            "[5 rows x 87 columns]\n",
            "   industry  rank  search_city  ...  spark  tensorflow  log_avg_sal\n",
            "0         5   3.5            0  ...      1           0    11.177467\n",
            "1        12   3.4            0  ...      0           0    10.809748\n",
            "2         1   3.8            0  ...      0           0    11.042938\n",
            "3         5   4.5            0  ...      0           0    10.768506\n",
            "4         5   3.7            0  ...      0           0    11.034906\n",
            "\n",
            "[5 rows x 87 columns]\n",
            "   industry  rank  search_city  ...  spark  tensorflow  log_avg_sal\n",
            "0         5   3.5            0  ...      1           0    11.177467\n",
            "1        12   3.4            0  ...      0           0    10.809748\n",
            "2         1   3.8            0  ...      0           0    11.042938\n",
            "3         5   4.5            0  ...      0           0    10.768506\n",
            "4         5   3.7            0  ...      0           0    11.034906\n",
            "\n",
            "[5 rows x 87 columns]\n",
            "   industry  rank  search_city  ...  spark  tensorflow  log_avg_sal\n",
            "0         5   3.5            0  ...      1           0    11.177467\n",
            "1        12   3.4            0  ...      0           0    10.809748\n",
            "2         1   3.8            0  ...      0           0    11.042938\n",
            "3         5   4.5            0  ...      0           0    10.768506\n",
            "4         5   3.7            0  ...      0           0    11.034906\n",
            "\n",
            "[5 rows x 87 columns]\n"
          ],
          "name": "stdout"
        }
      ]
    },
    {
      "cell_type": "markdown",
      "metadata": {
        "id": "2Jq2-zBbj0_E"
      },
      "source": [
        "### **Visualization of Target Variable**"
      ]
    },
    {
      "cell_type": "code",
      "metadata": {
        "colab": {
          "base_uri": "https://localhost:8080/",
          "height": 1000
        },
        "id": "iRmGTThNjtA5",
        "outputId": "dfaf6ea3-1d82-4415-95f1-ca6a578bfa4c"
      },
      "source": [
        "#visualize all_jobs Dataframe Average Salary\n",
        "plt.figure(figsize = (20,40))\n",
        "plt.subplot(421)\n",
        "sns.distplot(all_jobs_df['avg_sal'], kde = False)\n",
        "plt.xlabel('All Jobs Dataframe Average Salary')\n",
        "plt.ylabel('Frequency')\n",
        "plt.title('Frequency of All Jobs Dataframe Average Salary')\n",
        "plt.xticks(rotation = 45)\n",
        "\n",
        "plt.subplot(422)\n",
        "#visualize Log of All Jobs Dataframe Average Salary\n",
        "sns.distplot(all_jobs_df['log_avg_sal'], kde = False)\n",
        "plt.xlabel('Log of All Jobs Dataframe Average Salary')\n",
        "plt.ylabel('Frequency')\n",
        "plt.title('Frequency of Log of Average Salary')\n",
        "plt.xticks(rotation = 45)\n",
        "\n",
        "#visualize All Jobs Years Experience Dataframe Average Salary\n",
        "plt.subplot(423)\n",
        "sns.distplot(all_jobs_yrs_df['avg_sal'], kde = False)\n",
        "plt.xlabel('All Jobs Years Experience Dataframe Average Salary')\n",
        "plt.ylabel('Frequency')\n",
        "plt.title('Frequency of Yrs Exp Dataframe Average Salary')\n",
        "plt.xticks(rotation = 45)\n",
        "\n",
        "#visualize Log of All Jobs Years Experience Dataframe Average Salary\n",
        "plt.subplot(424)\n",
        "sns.distplot(all_jobs_yrs_df['log_avg_sal'], kde = False)\n",
        "plt.xlabel('Log of All Jobs Years Experience Dataframe Average Salary')\n",
        "plt.ylabel('Frequency')\n",
        "plt.title('Frequency of Log of Yrs Exp Dataframe Average Salary')\n",
        "plt.xticks(rotation = 45)\n",
        "\n",
        "#visualize All Jobs w/o Outliers Dataframe Average Salary\n",
        "plt.subplot(425)\n",
        "sns.distplot(all_jobs_no_outliers_df['avg_sal'], kde = False)\n",
        "plt.xlabel('All Jobs Dataframe Average Salary')\n",
        "plt.ylabel('Frequency')\n",
        "plt.title('Frequency of All Jobs w/o Outliers Dataframe Average Salary')\n",
        "plt.xticks(rotation = 45)\n",
        "\n",
        "#visualize Log of All Jobs w/o Outliers Dataframe Average Salary\n",
        "plt.subplot(426)\n",
        "sns.distplot(all_jobs_no_outliers_df['log_avg_sal'], kde = False)\n",
        "plt.xlabel('Log of All Jobs w/o Outliers Dataframe Average Salary')\n",
        "plt.ylabel('Frequency')\n",
        "plt.title('Frequency of Log of Average Salary')\n",
        "plt.xticks(rotation = 45)\n",
        "\n",
        "#visualize All Jobs Years Experience w/o Outliers Dataframe Average Salary\n",
        "plt.subplot(427)\n",
        "sns.distplot(all_jobs_yrs_no_outliers_df['avg_sal'], kde = False)\n",
        "plt.xlabel('Years Experience Dataframe Average Salary')\n",
        "plt.ylabel('Frequency')\n",
        "plt.title('Frequency of All Jobs Years of Experience w/o Outliers Dataframe Average Salary')\n",
        "plt.xticks(rotation = 45)\n",
        "\n",
        "#visualize Log of All Jobs Years Experience w/o Outliers Dataframe Average Salary\n",
        "plt.subplot(428)\n",
        "sns.distplot(all_jobs_yrs_no_outliers_df['log_avg_sal'], kde = False)\n",
        "plt.xlabel('Log of All Jobs Years Experience w/o Outliers Dataframe Average Salary')\n",
        "plt.ylabel('Frequency')\n",
        "plt.title('Frequency of Lof of Years of Experience Dataframe Average Salary')\n",
        "plt.xticks(rotation = 45)\n",
        "plt.show()"
      ],
      "execution_count": null,
      "outputs": [
        {
          "output_type": "display_data",
          "data": {
            "image/png": "[encoded data removed]",
            "text/plain": [
              "<Figure size 1440x2880 with 8 Axes>"
            ]
          },
          "metadata": {
            "tags": [],
            "needs_background": "light"
          }
        }
      ]
    },
    {
      "cell_type": "markdown",
      "metadata": {
        "id": "o_hX6EarCzil"
      },
      "source": [
        "## **Linear Regression**"
      ]
    },
    {
      "cell_type": "markdown",
      "metadata": {
        "id": "tvbkBM0SHTPw"
      },
      "source": [
        "### **all_jobs_df**"
      ]
    },
    {
      "cell_type": "code",
      "metadata": {
        "id": "-Y31KvFtCzCi",
        "colab": {
          "base_uri": "https://localhost:8080/"
        },
        "outputId": "4f548032-ac0e-4b27-fc52-ee30b5f28132"
      },
      "source": [
        "#set features & target\n",
        "X = all_jobs_df.drop(columns=['avg_sal', 'log_avg_sal'])\n",
        "y = all_jobs_df['avg_sal']\n",
        "\n",
        "#split data into training & test sets\n",
        "X_train, X_test, y_train, y_test = train_test_split(X, y, test_size = 0.2, random_state = 43)\n",
        "\n",
        "#create instance of model\n",
        "all_jobs_lr = LinearRegression()\n",
        "\n",
        "#fit model\n",
        "all_jobs_lr.fit(X_train, y_train)\n",
        "\n",
        "#cross validate\n",
        "all_jobs_lr_cv_scores = cross_val_score(all_jobs_lr, X_train, y_train, cv = 5)\n",
        "\n",
        "#get scores\n",
        "print('Accuracy Scores for the 5 folds: ', all_jobs_lr_cv_scores)\n",
        "print('Mean Cross Validation Score: {:.33f}'.format(np.mean(all_jobs_lr_cv_scores)))"
      ],
      "execution_count": null,
      "outputs": [
        {
          "output_type": "stream",
          "text": [
            "Accuracy Scores for the 5 folds:  [0.50858666 0.51992523 0.4562611  0.45509321 0.45782479]\n",
            "Mean Cross Validation Score: 0.479538198525829517659957446085173\n"
          ],
          "name": "stdout"
        }
      ]
    },
    {
      "cell_type": "code",
      "metadata": {
        "id": "HxOcIdwrKlEh",
        "colab": {
          "base_uri": "https://localhost:8080/",
          "height": 108
        },
        "outputId": "34b915e2-1876-4cc0-bd9d-9922a6985e21"
      },
      "source": [
        "#generate predictions\n",
        "all_jobs_lr_preds = all_jobs_lr.predict(X_test)\n",
        "\n",
        "#get performance metrics\n",
        "all_jobs_lr_rsquared_train = all_jobs_lr.score(X_train, y_train)\n",
        "all_jobs_lr_rsquared_test = all_jobs_lr.score(X_test, y_test)\n",
        "all_jobs_lr_mae = mean_absolute_error(y_test, all_jobs_lr_preds)\n",
        "all_jobs_lr_mse = mse(y_test, all_jobs_lr_preds)\n",
        "all_jobs_lr_rmse = rmse(y_test, all_jobs_lr_preds)\n",
        "all_jobs_lr_mape = np.mean(np.abs((y_test - all_jobs_lr_preds)/y_test)*100)\n",
        "all_jobs_lr_rmspe = (np.sqrt(np.mean(np.square((y_test - all_jobs_lr_preds) / y_test)))) * 100\n",
        "all_jobs_lr_model_name = 'All Jobs Linear Regression'\n",
        "\n",
        "#create easily readable display of performance metrics\n",
        "all_jobs_lr_dictionary = {'Model': all_jobs_lr_model_name,\n",
        "  'Training Set R Squared': all_jobs_lr_rsquared_train, \n",
        "  'Test Set R Squared': all_jobs_lr_rsquared_test, 'Mean Absolute Error': all_jobs_lr_mae, \n",
        "  'Mean Sqaured Error': all_jobs_lr_mse, 'Root Mean Squared Error': all_jobs_lr_rmse,\n",
        "  'Root Mean Squared Percentage Error': all_jobs_lr_rmspe,\n",
        "  'Mean Absolute Percentage Error': all_jobs_lr_mape}\n",
        "\n",
        "all_jobs_lr_df = pd.DataFrame(all_jobs_lr_dictionary, index=[0])\n",
        "\n",
        "all_jobs_lr_df"
      ],
      "execution_count": null,
      "outputs": [
        {
          "output_type": "execute_result",
          "data": {
            "text/html": [
              "<div>\n",
              "<style scoped>\n",
              "    .dataframe tbody tr th:only-of-type {\n",
              "        vertical-align: middle;\n",
              "    }\n",
              "\n",
              "    .dataframe tbody tr th {\n",
              "        vertical-align: top;\n",
              "    }\n",
              "\n",
              "    .dataframe thead th {\n",
              "        text-align: right;\n",
              "    }\n",
              "</style>\n",
              "<table border=\"1\" class=\"dataframe\">\n",
              "  <thead>\n",
              "    <tr style=\"text-align: right;\">\n",
              "      <th></th>\n",
              "      <th>Model</th>\n",
              "      <th>Training Set R Squared</th>\n",
              "      <th>Test Set R Squared</th>\n",
              "      <th>Mean Absolute Error</th>\n",
              "      <th>Mean Sqaured Error</th>\n",
              "      <th>Root Mean Squared Error</th>\n",
              "      <th>Root Mean Squared Percentage Error</th>\n",
              "      <th>Mean Absolute Percentage Error</th>\n",
              "    </tr>\n",
              "  </thead>\n",
              "  <tbody>\n",
              "    <tr>\n",
              "      <th>0</th>\n",
              "      <td>All Jobs Linear Regression</td>\n",
              "      <td>0.502239</td>\n",
              "      <td>0.515731</td>\n",
              "      <td>17951.945408</td>\n",
              "      <td>5.882632e+08</td>\n",
              "      <td>24254.137752</td>\n",
              "      <td>27.623236</td>\n",
              "      <td>20.039903</td>\n",
              "    </tr>\n",
              "  </tbody>\n",
              "</table>\n",
              "</div>"
            ],
            "text/plain": [
              "                        Model  ...  Mean Absolute Percentage Error\n",
              "0  All Jobs Linear Regression  ...                       20.039903\n",
              "\n",
              "[1 rows x 8 columns]"
            ]
          },
          "metadata": {
            "tags": []
          },
          "execution_count": 5
        }
      ]
    },
    {
      "cell_type": "markdown",
      "metadata": {
        "id": "2DPIixtPWLNb"
      },
      "source": [
        "### **all_jobs_yrs_df**"
      ]
    },
    {
      "cell_type": "code",
      "metadata": {
        "id": "V7xcJz-lWLNb",
        "colab": {
          "base_uri": "https://localhost:8080/"
        },
        "outputId": "644c0701-9723-4ca8-8707-abe99d97772f"
      },
      "source": [
        "#set features & target\n",
        "X= all_jobs_yrs_df.drop(columns=['avg_sal', 'log_avg_sal'])\n",
        "y = all_jobs_yrs_df['avg_sal']\n",
        "\n",
        "#split data into training & test sets\n",
        "X_train, X_test, y_train, y_test = train_test_split(X, y, test_size = 0.2, random_state = 43)\n",
        "\n",
        "#create instance of model\n",
        "all_jobs_yrs_lr = LinearRegression()\n",
        "\n",
        "#fit model\n",
        "all_jobs_yrs_lr.fit(X_train, y_train)\n",
        "\n",
        "#cross validate\n",
        "all_jobs_yrs_lr_cv_scores = cross_val_score(all_jobs_yrs_lr, X_train, y_train, cv = 5)\n",
        "\n",
        "#get scores\n",
        "print('Accuracy Scores for the 5 folds: ', all_jobs_yrs_lr_cv_scores)\n",
        "print('Mean Cross Validation Score: {:.33f}'.format(np.mean(all_jobs_yrs_lr_cv_scores)))"
      ],
      "execution_count": null,
      "outputs": [
        {
          "output_type": "stream",
          "text": [
            "Accuracy Scores for the 5 folds:  [0.48056785 0.49958488 0.55402741 0.48278579 0.52050669]\n",
            "Mean Cross Validation Score: 0.507494523233046779253641034301836\n"
          ],
          "name": "stdout"
        }
      ]
    },
    {
      "cell_type": "code",
      "metadata": {
        "id": "frvXJGQzWLNc",
        "colab": {
          "base_uri": "https://localhost:8080/",
          "height": 108
        },
        "outputId": "df1dac0b-6e71-44e8-dcbf-ce4698d536d8"
      },
      "source": [
        "#generate predictions\n",
        "all_jobs_yrs_lr_preds = all_jobs_yrs_lr.predict(X_test)\n",
        "\n",
        "#get performance metrics\n",
        "all_jobs_yrs_lr_rsquared_train = all_jobs_yrs_lr.score(X_train, y_train)\n",
        "all_jobs_yrs_lr_rsquared_test = all_jobs_yrs_lr.score(X_test, y_test)\n",
        "all_jobs_yrs_lr_mae = mean_absolute_error(y_test, all_jobs_yrs_lr_preds)\n",
        "all_jobs_yrs_lr_mse = mse(y_test, all_jobs_yrs_lr_preds)\n",
        "all_jobs_yrs_lr_rmse = rmse(y_test, all_jobs_yrs_lr_preds)\n",
        "all_jobs_yrs_lr_mape = np.mean(np.abs((y_test - all_jobs_yrs_lr_preds)/y_test)*100)\n",
        "all_jobs_yrs_lr_rmspe = (np.sqrt(np.mean(np.square((y_test - all_jobs_yrs_lr_preds) / y_test)))) * 100\n",
        "all_jobs_yrs_model_name = 'All Jobs Years of Experience Linear Regression'\n",
        "\n",
        "#create easily readable display of performance metrics\n",
        "all_jobs_yrs_lr_dictionary = {'Model': all_jobs_yrs_model_name,\n",
        "  'Training Set R Squared': all_jobs_yrs_lr_rsquared_train, \n",
        "  'Test Set R Squared': all_jobs_yrs_lr_rsquared_test, 'Mean Absolute Error': all_jobs_yrs_lr_mae, \n",
        "  'Mean Sqaured Error': all_jobs_yrs_lr_mse, 'Root Mean Squared Error': all_jobs_yrs_lr_rmse,\n",
        "  'Root Mean Squared Percentage Error': all_jobs_yrs_lr_rmspe,  \n",
        "  'Mean Absolute Percentage Error': all_jobs_yrs_lr_mape}\n",
        "\n",
        "all_jobs_yrs_lr_df = pd.DataFrame(all_jobs_yrs_lr_dictionary, index=[0])\n",
        "\n",
        "all_jobs_yrs_lr_df"
      ],
      "execution_count": null,
      "outputs": [
        {
          "output_type": "execute_result",
          "data": {
            "text/html": [
              "<div>\n",
              "<style scoped>\n",
              "    .dataframe tbody tr th:only-of-type {\n",
              "        vertical-align: middle;\n",
              "    }\n",
              "\n",
              "    .dataframe tbody tr th {\n",
              "        vertical-align: top;\n",
              "    }\n",
              "\n",
              "    .dataframe thead th {\n",
              "        text-align: right;\n",
              "    }\n",
              "</style>\n",
              "<table border=\"1\" class=\"dataframe\">\n",
              "  <thead>\n",
              "    <tr style=\"text-align: right;\">\n",
              "      <th></th>\n",
              "      <th>Model</th>\n",
              "      <th>Training Set R Squared</th>\n",
              "      <th>Test Set R Squared</th>\n",
              "      <th>Mean Absolute Error</th>\n",
              "      <th>Mean Sqaured Error</th>\n",
              "      <th>Root Mean Squared Error</th>\n",
              "      <th>Root Mean Squared Percentage Error</th>\n",
              "      <th>Mean Absolute Percentage Error</th>\n",
              "    </tr>\n",
              "  </thead>\n",
              "  <tbody>\n",
              "    <tr>\n",
              "      <th>0</th>\n",
              "      <td>All Jobs Years of Experience Linear Regression</td>\n",
              "      <td>0.532484</td>\n",
              "      <td>0.514905</td>\n",
              "      <td>17924.403684</td>\n",
              "      <td>5.806518e+08</td>\n",
              "      <td>24096.718223</td>\n",
              "      <td>29.026559</td>\n",
              "      <td>20.791367</td>\n",
              "    </tr>\n",
              "  </tbody>\n",
              "</table>\n",
              "</div>"
            ],
            "text/plain": [
              "                                            Model  ...  Mean Absolute Percentage Error\n",
              "0  All Jobs Years of Experience Linear Regression  ...                       20.791367\n",
              "\n",
              "[1 rows x 8 columns]"
            ]
          },
          "metadata": {
            "tags": []
          },
          "execution_count": 7
        }
      ]
    },
    {
      "cell_type": "markdown",
      "metadata": {
        "id": "5xpcLVIYoXp2"
      },
      "source": [
        "### **all_jobs_df log(y)**"
      ]
    },
    {
      "cell_type": "code",
      "metadata": {
        "colab": {
          "base_uri": "https://localhost:8080/"
        },
        "id": "RlPuVJTXoXp3",
        "outputId": "50fe5811-dc90-499b-c429-f072af1b6fa3"
      },
      "source": [
        "#set features & target\n",
        "X = all_jobs_df.drop(columns=['avg_sal', 'log_avg_sal'])\n",
        "y = all_jobs_df['log_avg_sal']\n",
        "\n",
        "#split data into training & test sets\n",
        "X_train, X_test, y_train, y_test = train_test_split(X, y, test_size = 0.2, random_state = 43)\n",
        "\n",
        "#create instance of model\n",
        "log_all_jobs_lr = LinearRegression()\n",
        "\n",
        "#fit model\n",
        "log_all_jobs_lr.fit(X_train, y_train)\n",
        "\n",
        "#cross validate\n",
        "log_all_jobs_lr_cv_scores = cross_val_score(log_all_jobs_lr, X_train, y_train, cv = 5)\n",
        "\n",
        "#get scores\n",
        "print('Accuracy Scores for the 5 folds: ', log_all_jobs_lr_cv_scores)\n",
        "print('Mean Cross Validation Score: {:.33f}'.format(np.mean(log_all_jobs_lr_cv_scores)))"
      ],
      "execution_count": null,
      "outputs": [
        {
          "output_type": "stream",
          "text": [
            "Accuracy Scores for the 5 folds:  [0.51477481 0.53187937 0.4631143  0.5017575  0.47841639]\n",
            "Mean Cross Validation Score: 0.497988473443452595024183437999454\n"
          ],
          "name": "stdout"
        }
      ]
    },
    {
      "cell_type": "code",
      "metadata": {
        "colab": {
          "base_uri": "https://localhost:8080/",
          "height": 108
        },
        "id": "jlDl5NBHoXp4",
        "outputId": "da815da3-d9f7-443f-9331-8464afacd881"
      },
      "source": [
        "#generate predictions\n",
        "log_all_jobs_lr_preds = log_all_jobs_lr.predict(X_test)\n",
        "\n",
        "#get performance metrics\n",
        "log_all_jobs_lr_rsquared_train = log_all_jobs_lr.score(X_train, y_train)\n",
        "log_all_jobs_lr_rsquared_test = log_all_jobs_lr.score(X_test, y_test)\n",
        "log_all_jobs_lr_mae = mean_absolute_error(y_test, log_all_jobs_lr_preds)\n",
        "log_all_jobs_lr_mse = mse(y_test, log_all_jobs_lr_preds)\n",
        "log_all_jobs_lr_rmse = rmse(y_test, log_all_jobs_lr_preds)\n",
        "log_all_jobs_lr_mape = np.mean(np.abs((y_test - log_all_jobs_lr_preds)/y_test)*100)\n",
        "log_all_jobs_lr_rmspe = (np.sqrt(np.mean(np.square((y_test - log_all_jobs_lr_preds) / y_test)))) * 100\n",
        "log_all_jobs_lr_model_name = 'All Jobs Linear Regression Log(y)'\n",
        "\n",
        "#create easily readable display of performance metrics\n",
        "log_all_jobs_lr_dictionary = {'Model': log_all_jobs_lr_model_name,\n",
        "  'Training Set R Squared': log_all_jobs_lr_rsquared_train, \n",
        "  'Test Set R Squared': log_all_jobs_lr_rsquared_test, 'Mean Absolute Error': log_all_jobs_lr_mae, \n",
        "  'Mean Sqaured Error': log_all_jobs_lr_mse, 'Root Mean Squared Error': log_all_jobs_lr_rmse,\n",
        "  'Root Mean Squared Percentage Error': log_all_jobs_lr_rmspe,\n",
        "  'Mean Absolute Percentage Error': log_all_jobs_lr_mape}\n",
        "\n",
        "log_all_jobs_lr_df = pd.DataFrame(log_all_jobs_lr_dictionary, index=[0])\n",
        "\n",
        "log_all_jobs_lr_df"
      ],
      "execution_count": null,
      "outputs": [
        {
          "output_type": "execute_result",
          "data": {
            "text/html": [
              "<div>\n",
              "<style scoped>\n",
              "    .dataframe tbody tr th:only-of-type {\n",
              "        vertical-align: middle;\n",
              "    }\n",
              "\n",
              "    .dataframe tbody tr th {\n",
              "        vertical-align: top;\n",
              "    }\n",
              "\n",
              "    .dataframe thead th {\n",
              "        text-align: right;\n",
              "    }\n",
              "</style>\n",
              "<table border=\"1\" class=\"dataframe\">\n",
              "  <thead>\n",
              "    <tr style=\"text-align: right;\">\n",
              "      <th></th>\n",
              "      <th>Model</th>\n",
              "      <th>Training Set R Squared</th>\n",
              "      <th>Test Set R Squared</th>\n",
              "      <th>Mean Absolute Error</th>\n",
              "      <th>Mean Sqaured Error</th>\n",
              "      <th>Root Mean Squared Error</th>\n",
              "      <th>Root Mean Squared Percentage Error</th>\n",
              "      <th>Mean Absolute Percentage Error</th>\n",
              "    </tr>\n",
              "  </thead>\n",
              "  <tbody>\n",
              "    <tr>\n",
              "      <th>0</th>\n",
              "      <td>All Jobs Linear Regression Log(y)</td>\n",
              "      <td>0.517595</td>\n",
              "      <td>0.526732</td>\n",
              "      <td>0.189131</td>\n",
              "      <td>0.060926</td>\n",
              "      <td>0.246831</td>\n",
              "      <td>2.168248</td>\n",
              "      <td>1.659797</td>\n",
              "    </tr>\n",
              "  </tbody>\n",
              "</table>\n",
              "</div>"
            ],
            "text/plain": [
              "                               Model  ...  Mean Absolute Percentage Error\n",
              "0  All Jobs Linear Regression Log(y)  ...                        1.659797\n",
              "\n",
              "[1 rows x 8 columns]"
            ]
          },
          "metadata": {
            "tags": []
          },
          "execution_count": 9
        }
      ]
    },
    {
      "cell_type": "markdown",
      "metadata": {
        "id": "aetIVQsBoXp4"
      },
      "source": [
        "### **all_jobs_yrs_df log(y)**"
      ]
    },
    {
      "cell_type": "code",
      "metadata": {
        "colab": {
          "base_uri": "https://localhost:8080/"
        },
        "id": "hxkAm2WroXp4",
        "outputId": "edc90410-23ba-4bfc-f68b-25c04d386c7e"
      },
      "source": [
        "#set features & target\n",
        "X= all_jobs_yrs_df.drop(columns=['avg_sal', 'log_avg_sal'])\n",
        "y = all_jobs_yrs_df['log_avg_sal']\n",
        "\n",
        "#split data into training & test sets\n",
        "X_train, X_test, y_train, y_test = train_test_split(X, y, test_size = 0.2, random_state = 43)\n",
        "\n",
        "#create instance of model\n",
        "log_all_jobs_yrs_lr = LinearRegression()\n",
        "\n",
        "#fit model\n",
        "log_all_jobs_yrs_lr.fit(X_train, y_train)\n",
        "\n",
        "#cross validate\n",
        "log_all_jobs_yrs_lr_cv_scores = cross_val_score(log_all_jobs_yrs_lr, X_train, y_train, cv = 5)\n",
        "\n",
        "#get scores\n",
        "print('Accuracy Scores for the 5 folds: ', log_all_jobs_yrs_lr_cv_scores)\n",
        "print('Mean Cross Validation Score: {:.33f}'.format(np.mean(log_all_jobs_yrs_lr_cv_scores)))"
      ],
      "execution_count": null,
      "outputs": [
        {
          "output_type": "stream",
          "text": [
            "Accuracy Scores for the 5 folds:  [0.50213683 0.50696984 0.54694365 0.51545166 0.53069484]\n",
            "Mean Cross Validation Score: 0.520439364544587723671043022477534\n"
          ],
          "name": "stdout"
        }
      ]
    },
    {
      "cell_type": "code",
      "metadata": {
        "colab": {
          "base_uri": "https://localhost:8080/",
          "height": 108
        },
        "id": "z2xnx9o8oXp5",
        "outputId": "af83bcd5-4db2-41a3-deba-c5345a0211f3"
      },
      "source": [
        "#generate predictions\n",
        "log_all_jobs_yrs_lr_preds = log_all_jobs_yrs_lr.predict(X_test)\n",
        "\n",
        "#get performance metrics\n",
        "log_all_jobs_yrs_lr_rsquared_train = log_all_jobs_yrs_lr.score(X_train, y_train)\n",
        "log_all_jobs_yrs_lr_rsquared_test = log_all_jobs_yrs_lr.score(X_test, y_test)\n",
        "log_all_jobs_yrs_lr_mae = mean_absolute_error(y_test, log_all_jobs_yrs_lr_preds)\n",
        "log_all_jobs_yrs_lr_mse = mse(y_test, log_all_jobs_yrs_lr_preds)\n",
        "log_all_jobs_yrs_lr_rmse = rmse(y_test, log_all_jobs_yrs_lr_preds)\n",
        "log_all_jobs_yrs_lr_mape = np.mean(np.abs((y_test - log_all_jobs_yrs_lr_preds)/y_test)*100)\n",
        "log_all_jobs_yrs_lr_rmspe = (np.sqrt(np.mean(np.square((y_test - log_all_jobs_yrs_lr_preds) / y_test)))) * 100\n",
        "all_jobs_yrs_model_name = 'All Jobs Years of Experience Linear Regression Log(y)'\n",
        "\n",
        "#create easily readable display of performance metrics\n",
        "log_all_jobs_yrs_lr_dictionary = {'Model': all_jobs_yrs_model_name,\n",
        "  'Training Set R Squared': log_all_jobs_yrs_lr_rsquared_train, \n",
        "  'Test Set R Squared': log_all_jobs_yrs_lr_rsquared_test, 'Mean Absolute Error': log_all_jobs_yrs_lr_mae, \n",
        "  'Mean Sqaured Error': log_all_jobs_yrs_lr_mse, 'Root Mean Squared Error': log_all_jobs_yrs_lr_rmse,\n",
        "  'Root Mean Squared Percentage Error': log_all_jobs_yrs_lr_rmspe,  \n",
        "  'Mean Absolute Percentage Error': log_all_jobs_yrs_lr_mape}\n",
        "\n",
        "log_all_jobs_yrs_lr_df = pd.DataFrame(log_all_jobs_yrs_lr_dictionary, index=[0])\n",
        "\n",
        "log_all_jobs_yrs_lr_df"
      ],
      "execution_count": null,
      "outputs": [
        {
          "output_type": "execute_result",
          "data": {
            "text/html": [
              "<div>\n",
              "<style scoped>\n",
              "    .dataframe tbody tr th:only-of-type {\n",
              "        vertical-align: middle;\n",
              "    }\n",
              "\n",
              "    .dataframe tbody tr th {\n",
              "        vertical-align: top;\n",
              "    }\n",
              "\n",
              "    .dataframe thead th {\n",
              "        text-align: right;\n",
              "    }\n",
              "</style>\n",
              "<table border=\"1\" class=\"dataframe\">\n",
              "  <thead>\n",
              "    <tr style=\"text-align: right;\">\n",
              "      <th></th>\n",
              "      <th>Model</th>\n",
              "      <th>Training Set R Squared</th>\n",
              "      <th>Test Set R Squared</th>\n",
              "      <th>Mean Absolute Error</th>\n",
              "      <th>Mean Sqaured Error</th>\n",
              "      <th>Root Mean Squared Error</th>\n",
              "      <th>Root Mean Squared Percentage Error</th>\n",
              "      <th>Mean Absolute Percentage Error</th>\n",
              "    </tr>\n",
              "  </thead>\n",
              "  <tbody>\n",
              "    <tr>\n",
              "      <th>0</th>\n",
              "      <td>All Jobs Years of Experience Linear Regression...</td>\n",
              "      <td>0.543033</td>\n",
              "      <td>0.540142</td>\n",
              "      <td>0.189097</td>\n",
              "      <td>0.060058</td>\n",
              "      <td>0.245068</td>\n",
              "      <td>2.168241</td>\n",
              "      <td>1.666271</td>\n",
              "    </tr>\n",
              "  </tbody>\n",
              "</table>\n",
              "</div>"
            ],
            "text/plain": [
              "                                               Model  ...  Mean Absolute Percentage Error\n",
              "0  All Jobs Years of Experience Linear Regression...  ...                        1.666271\n",
              "\n",
              "[1 rows x 8 columns]"
            ]
          },
          "metadata": {
            "tags": []
          },
          "execution_count": 11
        }
      ]
    },
    {
      "cell_type": "markdown",
      "metadata": {
        "id": "w6y74H9nEi3l"
      },
      "source": [
        "### **all_jobs_no_outliers_df**"
      ]
    },
    {
      "cell_type": "code",
      "metadata": {
        "colab": {
          "base_uri": "https://localhost:8080/"
        },
        "id": "d-UonP4YEi3l",
        "outputId": "c03c6eb7-a62b-4629-cc84-df3c254a815d"
      },
      "source": [
        "#set features & target\n",
        "X = all_jobs_no_outliers_df.drop(columns=['avg_sal', 'log_avg_sal'])\n",
        "y = all_jobs_no_outliers_df['avg_sal']\n",
        "\n",
        "#split data into training & test sets\n",
        "X_train, X_test, y_train, y_test = train_test_split(X, y, test_size = 0.2, random_state = 43)\n",
        "\n",
        "#create instance of model\n",
        "all_jobs_no_outliers_lr = LinearRegression()\n",
        "\n",
        "#fit model\n",
        "all_jobs_no_outliers_lr.fit(X_train, y_train)\n",
        "\n",
        "#cross validate\n",
        "all_jobs_no_outliers_lr_cv_scores = cross_val_score(all_jobs_no_outliers_lr, X_train, y_train, cv = 5)\n",
        "\n",
        "#get scores\n",
        "print('Accuracy Scores for the 5 folds: ', all_jobs_no_outliers_lr_cv_scores)\n",
        "print('Mean Cross Validation Score: {:.33f}'.format(np.mean(all_jobs_no_outliers_lr_cv_scores)))"
      ],
      "execution_count": null,
      "outputs": [
        {
          "output_type": "stream",
          "text": [
            "Accuracy Scores for the 5 folds:  [0.53103779 0.50283448 0.52454855 0.46802873 0.50765144]\n",
            "Mean Cross Validation Score: 0.506820197412478412601899435685482\n"
          ],
          "name": "stdout"
        }
      ]
    },
    {
      "cell_type": "code",
      "metadata": {
        "colab": {
          "base_uri": "https://localhost:8080/",
          "height": 108
        },
        "id": "ZmhXOVWKEi3m",
        "outputId": "d305deb0-062e-4fd0-847a-1dfee8291b5e"
      },
      "source": [
        "#generate predictions\n",
        "all_jobs_no_outliers_lr_preds = all_jobs_no_outliers_lr.predict(X_test)\n",
        "\n",
        "#get performance metrics\n",
        "all_jobs_no_outliers_lr_rsquared_train = all_jobs_no_outliers_lr.score(X_train, y_train)\n",
        "all_jobs_no_outliers_lr_rsquared_test = all_jobs_no_outliers_lr.score(X_test, y_test)\n",
        "all_jobs_no_outliers_lr_mae = mean_absolute_error(y_test, all_jobs_no_outliers_lr_preds)\n",
        "all_jobs_no_outliers_lr_mse = mse(y_test, all_jobs_no_outliers_lr_preds)\n",
        "all_jobs_no_outliers_lr_rmse = rmse(y_test, all_jobs_no_outliers_lr_preds)\n",
        "all_jobs_no_outliers_lr_mape = np.mean(np.abs((y_test - all_jobs_no_outliers_lr_preds)/y_test)*100)\n",
        "all_jobs_no_outliers_lr_rmspe = (np.sqrt(np.mean(np.square((y_test - all_jobs_no_outliers_lr_preds) / y_test)))) * 100\n",
        "all_jobs_no_outliers_lr_model_name = 'All Jobs w/o Outliers Linear Regression'\n",
        "\n",
        "#create easily readable display of performance metrics\n",
        "all_jobs_no_outliers_lr_dictionary = {'Model': all_jobs_no_outliers_lr_model_name,\n",
        "  'Training Set R Squared': all_jobs_no_outliers_lr_rsquared_train, \n",
        "  'Test Set R Squared': all_jobs_no_outliers_lr_rsquared_test, 'Mean Absolute Error': all_jobs_no_outliers_lr_mae, \n",
        "  'Mean Sqaured Error': all_jobs_no_outliers_lr_mse, 'Root Mean Squared Error': all_jobs_no_outliers_lr_rmse,\n",
        "  'Root Mean Squared Percentage Error': all_jobs_no_outliers_lr_rmspe,\n",
        "  'Mean Absolute Percentage Error': all_jobs_no_outliers_lr_mape}\n",
        "\n",
        "all_jobs_no_outliers_lr_df = pd.DataFrame(all_jobs_no_outliers_lr_dictionary, index=[0])\n",
        "\n",
        "all_jobs_no_outliers_lr_df"
      ],
      "execution_count": null,
      "outputs": [
        {
          "output_type": "execute_result",
          "data": {
            "text/html": [
              "<div>\n",
              "<style scoped>\n",
              "    .dataframe tbody tr th:only-of-type {\n",
              "        vertical-align: middle;\n",
              "    }\n",
              "\n",
              "    .dataframe tbody tr th {\n",
              "        vertical-align: top;\n",
              "    }\n",
              "\n",
              "    .dataframe thead th {\n",
              "        text-align: right;\n",
              "    }\n",
              "</style>\n",
              "<table border=\"1\" class=\"dataframe\">\n",
              "  <thead>\n",
              "    <tr style=\"text-align: right;\">\n",
              "      <th></th>\n",
              "      <th>Model</th>\n",
              "      <th>Training Set R Squared</th>\n",
              "      <th>Test Set R Squared</th>\n",
              "      <th>Mean Absolute Error</th>\n",
              "      <th>Mean Sqaured Error</th>\n",
              "      <th>Root Mean Squared Error</th>\n",
              "      <th>Root Mean Squared Percentage Error</th>\n",
              "      <th>Mean Absolute Percentage Error</th>\n",
              "    </tr>\n",
              "  </thead>\n",
              "  <tbody>\n",
              "    <tr>\n",
              "      <th>0</th>\n",
              "      <td>All Jobs w/o Outliers Linear Regression</td>\n",
              "      <td>0.527201</td>\n",
              "      <td>0.497683</td>\n",
              "      <td>17476.182556</td>\n",
              "      <td>5.178905e+08</td>\n",
              "      <td>22757.208557</td>\n",
              "      <td>27.51392</td>\n",
              "      <td>20.160372</td>\n",
              "    </tr>\n",
              "  </tbody>\n",
              "</table>\n",
              "</div>"
            ],
            "text/plain": [
              "                                     Model  ...  Mean Absolute Percentage Error\n",
              "0  All Jobs w/o Outliers Linear Regression  ...                       20.160372\n",
              "\n",
              "[1 rows x 8 columns]"
            ]
          },
          "metadata": {
            "tags": []
          },
          "execution_count": 13
        }
      ]
    },
    {
      "cell_type": "markdown",
      "metadata": {
        "id": "up8wjSo6FXRb"
      },
      "source": [
        "### **all_jobs_yrs_no_outliers_df**"
      ]
    },
    {
      "cell_type": "code",
      "metadata": {
        "colab": {
          "base_uri": "https://localhost:8080/"
        },
        "id": "mUL-xngnFXRc",
        "outputId": "03e8dc95-5fa7-47ed-e80a-6ea356a4026a"
      },
      "source": [
        "#set features & target\n",
        "X = all_jobs_yrs_no_outliers_df.drop(columns=['avg_sal', 'log_avg_sal'])\n",
        "y = all_jobs_yrs_no_outliers_df['avg_sal']\n",
        "\n",
        "#split data into training & test sets\n",
        "X_train, X_test, y_train, y_test = train_test_split(X, y, test_size = 0.2, random_state = 43)\n",
        "\n",
        "#create instance of model\n",
        "all_jobs_yrs_no_outliers_lr = LinearRegression()\n",
        "\n",
        "#fit model\n",
        "all_jobs_yrs_no_outliers_lr.fit(X_train, y_train)\n",
        "\n",
        "#cross validate\n",
        "all_jobs_yrs_no_outliers_lr_cv_scores = cross_val_score(all_jobs_yrs_no_outliers_lr, X_train, y_train, cv = 5)\n",
        "\n",
        "#get scores\n",
        "print('Accuracy Scores for the 5 folds: ', all_jobs_yrs_no_outliers_lr_cv_scores)\n",
        "print('Mean Cross Validation Score: {:.33f}'.format(np.mean(all_jobs_yrs_no_outliers_lr_cv_scores)))"
      ],
      "execution_count": null,
      "outputs": [
        {
          "output_type": "stream",
          "text": [
            "Accuracy Scores for the 5 folds:  [0.53501174 0.55487478 0.52125918 0.45106274 0.54461337]\n",
            "Mean Cross Validation Score: 0.521364361149269095463409939839039\n"
          ],
          "name": "stdout"
        }
      ]
    },
    {
      "cell_type": "code",
      "metadata": {
        "colab": {
          "base_uri": "https://localhost:8080/",
          "height": 108
        },
        "id": "ijC0Uw3cFXRd",
        "outputId": "bc0d33c0-23cd-44b4-f39d-da5058ebaed8"
      },
      "source": [
        "#generate predictions\n",
        "all_jobs_yrs_no_outliers_lr_preds = all_jobs_yrs_no_outliers_lr.predict(X_test)\n",
        "\n",
        "#get performance metrics\n",
        "all_jobs_yrs_no_outliers_lr_rsquared_train = all_jobs_yrs_no_outliers_lr.score(X_train, y_train)\n",
        "all_jobs_yrs_no_outliers_lr_rsquared_test = all_jobs_yrs_no_outliers_lr.score(X_test, y_test)\n",
        "all_jobs_yrs_no_outliers_lr_mae = mean_absolute_error(y_test, all_jobs_yrs_no_outliers_lr_preds)\n",
        "all_jobs_yrs_no_outliers_lr_mse = mse(y_test, all_jobs_yrs_no_outliers_lr_preds)\n",
        "all_jobs_yrs_no_outliers_lr_rmse = rmse(y_test, all_jobs_yrs_no_outliers_lr_preds)\n",
        "all_jobs_yrs_no_outliers_lr_mape = np.mean(np.abs((y_test - all_jobs_yrs_no_outliers_lr_preds)/y_test)*100)\n",
        "all_jobs_yrs_no_outliers_lr_rmspe = (np.sqrt(np.mean(np.square((y_test - all_jobs_yrs_no_outliers_lr_preds) / y_test)))) * 100\n",
        "all_jobs_yrs_no_outliers_lr_model_name = 'All Jobs Years of Experience w/o Outliers Linear Regression'\n",
        "\n",
        "#create easily readable display of performance metrics\n",
        "all_jobs_yrs_no_outliers_lr_dictionary = {'Model': all_jobs_yrs_no_outliers_lr_model_name,\n",
        "  'Training Set R Squared': all_jobs_yrs_no_outliers_lr_rsquared_train, \n",
        "  'Test Set R Squared': all_jobs_yrs_no_outliers_lr_rsquared_test, 'Mean Absolute Error': all_jobs_yrs_no_outliers_lr_mae, \n",
        "  'Mean Sqaured Error': all_jobs_yrs_no_outliers_lr_mse, 'Root Mean Squared Error': all_jobs_yrs_no_outliers_lr_rmse,\n",
        "  'Root Mean Squared Percentage Error': all_jobs_yrs_no_outliers_lr_rmspe,\n",
        "  'Mean Absolute Percentage Error': all_jobs_yrs_no_outliers_lr_mape}\n",
        "\n",
        "all_jobs_yrs_no_outliers_lr_df = pd.DataFrame(all_jobs_yrs_no_outliers_lr_dictionary, index=[0])\n",
        "\n",
        "all_jobs_yrs_no_outliers_lr_df"
      ],
      "execution_count": null,
      "outputs": [
        {
          "output_type": "execute_result",
          "data": {
            "text/html": [
              "<div>\n",
              "<style scoped>\n",
              "    .dataframe tbody tr th:only-of-type {\n",
              "        vertical-align: middle;\n",
              "    }\n",
              "\n",
              "    .dataframe tbody tr th {\n",
              "        vertical-align: top;\n",
              "    }\n",
              "\n",
              "    .dataframe thead th {\n",
              "        text-align: right;\n",
              "    }\n",
              "</style>\n",
              "<table border=\"1\" class=\"dataframe\">\n",
              "  <thead>\n",
              "    <tr style=\"text-align: right;\">\n",
              "      <th></th>\n",
              "      <th>Model</th>\n",
              "      <th>Training Set R Squared</th>\n",
              "      <th>Test Set R Squared</th>\n",
              "      <th>Mean Absolute Error</th>\n",
              "      <th>Mean Sqaured Error</th>\n",
              "      <th>Root Mean Squared Error</th>\n",
              "      <th>Root Mean Squared Percentage Error</th>\n",
              "      <th>Mean Absolute Percentage Error</th>\n",
              "    </tr>\n",
              "  </thead>\n",
              "  <tbody>\n",
              "    <tr>\n",
              "      <th>0</th>\n",
              "      <td>All Jobs Years of Experience w/o Outliers Line...</td>\n",
              "      <td>0.54981</td>\n",
              "      <td>0.506605</td>\n",
              "      <td>16730.401047</td>\n",
              "      <td>4.701160e+08</td>\n",
              "      <td>21682.158711</td>\n",
              "      <td>27.432156</td>\n",
              "      <td>19.317534</td>\n",
              "    </tr>\n",
              "  </tbody>\n",
              "</table>\n",
              "</div>"
            ],
            "text/plain": [
              "                                               Model  ...  Mean Absolute Percentage Error\n",
              "0  All Jobs Years of Experience w/o Outliers Line...  ...                       19.317534\n",
              "\n",
              "[1 rows x 8 columns]"
            ]
          },
          "metadata": {
            "tags": []
          },
          "execution_count": 15
        }
      ]
    },
    {
      "cell_type": "markdown",
      "metadata": {
        "id": "NJ7peEgxGLcr"
      },
      "source": [
        "### **all_jobs_no_outliers_df log(y)**"
      ]
    },
    {
      "cell_type": "code",
      "metadata": {
        "colab": {
          "base_uri": "https://localhost:8080/"
        },
        "id": "RKxy18V2GLct",
        "outputId": "ad6aaf2c-20ae-4ed7-80d1-b00d23ae87e7"
      },
      "source": [
        "#set features & target\n",
        "X = all_jobs_no_outliers_df.drop(columns=['avg_sal', 'log_avg_sal'])\n",
        "y = all_jobs_no_outliers_df['log_avg_sal']\n",
        "\n",
        "#split data into training & test sets\n",
        "X_train, X_test, y_train, y_test = train_test_split(X, y, test_size = 0.2, random_state = 43)\n",
        "\n",
        "#create instance of model\n",
        "log_all_jobs_no_outliers_lr = LinearRegression()\n",
        "\n",
        "#fit model\n",
        "log_all_jobs_no_outliers_lr.fit(X_train, y_train)\n",
        "\n",
        "#cross validate\n",
        "log_all_jobs_no_outliers_lr_cv_scores = cross_val_score(log_all_jobs_no_outliers_lr, X_train, y_train, cv = 5)\n",
        "\n",
        "#get scores\n",
        "print('Accuracy Scores for the 5 folds: ', log_all_jobs_no_outliers_lr_cv_scores)\n",
        "print('Mean Cross Validation Score: {:.33f}'.format(np.mean(log_all_jobs_no_outliers_lr_cv_scores)))"
      ],
      "execution_count": null,
      "outputs": [
        {
          "output_type": "stream",
          "text": [
            "Accuracy Scores for the 5 folds:  [0.52185014 0.49030444 0.52510087 0.47664702 0.50209155]\n",
            "Mean Cross Validation Score: 0.503198802787354848575773758057039\n"
          ],
          "name": "stdout"
        }
      ]
    },
    {
      "cell_type": "code",
      "metadata": {
        "colab": {
          "base_uri": "https://localhost:8080/",
          "height": 108
        },
        "id": "fAKvMdzpGLcu",
        "outputId": "4c81fa3b-0945-4a78-e520-be7f8a173c35"
      },
      "source": [
        "#generate predictions\n",
        "log_all_jobs_no_outliers_lr_preds = log_all_jobs_no_outliers_lr.predict(X_test)\n",
        "\n",
        "#get performance metrics\n",
        "log_all_jobs_no_outliers_lr_rsquared_train = log_all_jobs_no_outliers_lr.score(X_train, y_train)\n",
        "log_all_jobs_no_outliers_lr_rsquared_test = log_all_jobs_no_outliers_lr.score(X_test, y_test)\n",
        "log_all_jobs_no_outliers_lr_mae = mean_absolute_error(y_test, log_all_jobs_no_outliers_lr_preds)\n",
        "log_all_jobs_no_outliers_lr_mse = mse(y_test, log_all_jobs_no_outliers_lr_preds)\n",
        "log_all_jobs_no_outliers_lr_rmse = rmse(y_test, log_all_jobs_no_outliers_lr_preds)\n",
        "log_all_jobs_no_outliers_lr_mape = np.mean(np.abs((y_test - log_all_jobs_no_outliers_lr_preds)/y_test)*100)\n",
        "log_all_jobs_no_outliers_lr_rmspe = (np.sqrt(np.mean(np.square((y_test - log_all_jobs_no_outliers_lr_preds) / y_test)))) * 100\n",
        "log_all_jobs_no_outliers_lr_model_name = 'All Jobs w/o Outliers Linear Regression Log(y)'\n",
        "\n",
        "#create easily readable display of performance metrics\n",
        "log_all_jobs_no_outliers_lr_dictionary = {'Model': log_all_jobs_no_outliers_lr_model_name,\n",
        "  'Training Set R Squared': log_all_jobs_no_outliers_lr_rsquared_train, \n",
        "  'Test Set R Squared': log_all_jobs_no_outliers_lr_rsquared_test, 'Mean Absolute Error': log_all_jobs_no_outliers_lr_mae, \n",
        "  'Mean Sqaured Error': log_all_jobs_no_outliers_lr_mse, 'Root Mean Squared Error': log_all_jobs_no_outliers_lr_rmse,\n",
        "  'Root Mean Squared Percentage Error': log_all_jobs_no_outliers_lr_rmspe,\n",
        "  'Mean Absolute Percentage Error': log_all_jobs_no_outliers_lr_mape}\n",
        "\n",
        "log_all_jobs_no_outliers_lr_df = pd.DataFrame(log_all_jobs_no_outliers_lr_dictionary, index=[0])\n",
        "\n",
        "log_all_jobs_no_outliers_lr_df"
      ],
      "execution_count": null,
      "outputs": [
        {
          "output_type": "execute_result",
          "data": {
            "text/html": [
              "<div>\n",
              "<style scoped>\n",
              "    .dataframe tbody tr th:only-of-type {\n",
              "        vertical-align: middle;\n",
              "    }\n",
              "\n",
              "    .dataframe tbody tr th {\n",
              "        vertical-align: top;\n",
              "    }\n",
              "\n",
              "    .dataframe thead th {\n",
              "        text-align: right;\n",
              "    }\n",
              "</style>\n",
              "<table border=\"1\" class=\"dataframe\">\n",
              "  <thead>\n",
              "    <tr style=\"text-align: right;\">\n",
              "      <th></th>\n",
              "      <th>Model</th>\n",
              "      <th>Training Set R Squared</th>\n",
              "      <th>Test Set R Squared</th>\n",
              "      <th>Mean Absolute Error</th>\n",
              "      <th>Mean Sqaured Error</th>\n",
              "      <th>Root Mean Squared Error</th>\n",
              "      <th>Root Mean Squared Percentage Error</th>\n",
              "      <th>Mean Absolute Percentage Error</th>\n",
              "    </tr>\n",
              "  </thead>\n",
              "  <tbody>\n",
              "    <tr>\n",
              "      <th>0</th>\n",
              "      <td>All Jobs w/o Outliers Linear Regression Log(y)</td>\n",
              "      <td>0.522391</td>\n",
              "      <td>0.500464</td>\n",
              "      <td>0.188945</td>\n",
              "      <td>0.059148</td>\n",
              "      <td>0.243204</td>\n",
              "      <td>2.144348</td>\n",
              "      <td>1.661739</td>\n",
              "    </tr>\n",
              "  </tbody>\n",
              "</table>\n",
              "</div>"
            ],
            "text/plain": [
              "                                            Model  ...  Mean Absolute Percentage Error\n",
              "0  All Jobs w/o Outliers Linear Regression Log(y)  ...                        1.661739\n",
              "\n",
              "[1 rows x 8 columns]"
            ]
          },
          "metadata": {
            "tags": []
          },
          "execution_count": 17
        }
      ]
    },
    {
      "cell_type": "markdown",
      "metadata": {
        "id": "NrFHxTd3GLcu"
      },
      "source": [
        "### **all_jobs_yrs_no_outliers_df log(y)**"
      ]
    },
    {
      "cell_type": "code",
      "metadata": {
        "colab": {
          "base_uri": "https://localhost:8080/"
        },
        "id": "KPXj2UkUGLcv",
        "outputId": "ff6a3df8-4a65-4ab3-f93e-11c5d7e3b4b6"
      },
      "source": [
        "#set features & target\n",
        "X = all_jobs_yrs_no_outliers_df.drop(columns=['avg_sal', 'log_avg_sal'])\n",
        "y = all_jobs_yrs_no_outliers_df['log_avg_sal']\n",
        "\n",
        "#split data into training & test sets\n",
        "X_train, X_test, y_train, y_test = train_test_split(X, y, test_size = 0.2, random_state = 43)\n",
        "\n",
        "#create instance of model\n",
        "log_all_jobs_yrs_no_outliers_lr = LinearRegression()\n",
        "\n",
        "#fit model\n",
        "log_all_jobs_yrs_no_outliers_lr.fit(X_train, y_train)\n",
        "\n",
        "#cross validate\n",
        "log_all_jobs_yrs_no_outliers_lr_cv_scores = cross_val_score(log_all_jobs_yrs_no_outliers_lr, X_train, y_train, cv = 5)\n",
        "\n",
        "#get scores\n",
        "print('Accuracy Scores for the 5 folds: ', log_all_jobs_yrs_no_outliers_lr_cv_scores)\n",
        "print('Mean Cross Validation Score: {:.33f}'.format(np.mean(log_all_jobs_yrs_no_outliers_lr_cv_scores)))"
      ],
      "execution_count": null,
      "outputs": [
        {
          "output_type": "stream",
          "text": [
            "Accuracy Scores for the 5 folds:  [0.5416914  0.56000852 0.51363691 0.44718453 0.52981011]\n",
            "Mean Cross Validation Score: 0.518466294294426033317790825094562\n"
          ],
          "name": "stdout"
        }
      ]
    },
    {
      "cell_type": "code",
      "metadata": {
        "colab": {
          "base_uri": "https://localhost:8080/",
          "height": 108
        },
        "id": "iorrstewGLcv",
        "outputId": "068e9569-524a-44c4-e601-76d60973efe7"
      },
      "source": [
        "#generate predictions\n",
        "log_all_jobs_yrs_no_outliers_lr_preds = log_all_jobs_yrs_no_outliers_lr.predict(X_test)\n",
        "\n",
        "#get performance metrics\n",
        "log_all_jobs_yrs_no_outliers_lr_rsquared_train = log_all_jobs_yrs_no_outliers_lr.score(X_train, y_train)\n",
        "log_all_jobs_yrs_no_outliers_lr_rsquared_test = log_all_jobs_yrs_no_outliers_lr.score(X_test, y_test)\n",
        "log_all_jobs_yrs_no_outliers_lr_mae = mean_absolute_error(y_test, log_all_jobs_yrs_no_outliers_lr_preds)\n",
        "log_all_jobs_yrs_no_outliers_lr_mse = mse(y_test, log_all_jobs_yrs_no_outliers_lr_preds)\n",
        "log_all_jobs_yrs_no_outliers_lr_rmse = rmse(y_test, log_all_jobs_yrs_no_outliers_lr_preds)\n",
        "log_all_jobs_yrs_no_outliers_lr_mape = np.mean(np.abs((y_test - log_all_jobs_yrs_no_outliers_lr_preds)/y_test)*100)\n",
        "log_all_jobs_yrs_no_outliers_lr_rmspe = (np.sqrt(np.mean(np.square((y_test - log_all_jobs_yrs_no_outliers_lr_preds) / y_test)))) * 100\n",
        "log_all_jobs_yrs_no_outliers_lr_model_name = 'All Jobs Years of Experience w/o Outliers Linear Regression Log(y)'\n",
        "\n",
        "#create easily readable display of performance metrics\n",
        "log_all_jobs_yrs_no_outliers_lr_dictionary = {'Model': log_all_jobs_yrs_no_outliers_lr_model_name,\n",
        "  'Training Set R Squared': log_all_jobs_yrs_no_outliers_lr_rsquared_train, \n",
        "  'Test Set R Squared': log_all_jobs_yrs_no_outliers_lr_rsquared_test, 'Mean Absolute Error': log_all_jobs_yrs_no_outliers_lr_mae, \n",
        "  'Mean Sqaured Error': log_all_jobs_yrs_no_outliers_lr_mse, 'Root Mean Squared Error': log_all_jobs_yrs_no_outliers_lr_rmse,\n",
        "  'Root Mean Squared Percentage Error': log_all_jobs_yrs_no_outliers_lr_rmspe,\n",
        "  'Mean Absolute Percentage Error': log_all_jobs_yrs_no_outliers_lr_mape}\n",
        "\n",
        "log_all_jobs_yrs_no_outliers_lr_df = pd.DataFrame(log_all_jobs_yrs_no_outliers_lr_dictionary, index=[0])\n",
        "\n",
        "log_all_jobs_yrs_no_outliers_lr_df"
      ],
      "execution_count": null,
      "outputs": [
        {
          "output_type": "execute_result",
          "data": {
            "text/html": [
              "<div>\n",
              "<style scoped>\n",
              "    .dataframe tbody tr th:only-of-type {\n",
              "        vertical-align: middle;\n",
              "    }\n",
              "\n",
              "    .dataframe tbody tr th {\n",
              "        vertical-align: top;\n",
              "    }\n",
              "\n",
              "    .dataframe thead th {\n",
              "        text-align: right;\n",
              "    }\n",
              "</style>\n",
              "<table border=\"1\" class=\"dataframe\">\n",
              "  <thead>\n",
              "    <tr style=\"text-align: right;\">\n",
              "      <th></th>\n",
              "      <th>Model</th>\n",
              "      <th>Training Set R Squared</th>\n",
              "      <th>Test Set R Squared</th>\n",
              "      <th>Mean Absolute Error</th>\n",
              "      <th>Mean Sqaured Error</th>\n",
              "      <th>Root Mean Squared Error</th>\n",
              "      <th>Root Mean Squared Percentage Error</th>\n",
              "      <th>Mean Absolute Percentage Error</th>\n",
              "    </tr>\n",
              "  </thead>\n",
              "  <tbody>\n",
              "    <tr>\n",
              "      <th>0</th>\n",
              "      <td>All Jobs Years of Experience w/o Outliers Line...</td>\n",
              "      <td>0.544983</td>\n",
              "      <td>0.50464</td>\n",
              "      <td>0.181751</td>\n",
              "      <td>0.054524</td>\n",
              "      <td>0.233505</td>\n",
              "      <td>2.063824</td>\n",
              "      <td>1.598385</td>\n",
              "    </tr>\n",
              "  </tbody>\n",
              "</table>\n",
              "</div>"
            ],
            "text/plain": [
              "                                               Model  ...  Mean Absolute Percentage Error\n",
              "0  All Jobs Years of Experience w/o Outliers Line...  ...                        1.598385\n",
              "\n",
              "[1 rows x 8 columns]"
            ]
          },
          "metadata": {
            "tags": []
          },
          "execution_count": 19
        }
      ]
    },
    {
      "cell_type": "markdown",
      "metadata": {
        "id": "gR2ZM1ch-FUS"
      },
      "source": [
        "## **Ridge Regression**"
      ]
    },
    {
      "cell_type": "markdown",
      "metadata": {
        "id": "D8Jdw20S-FUS"
      },
      "source": [
        "### **all_jobs_df**"
      ]
    },
    {
      "cell_type": "code",
      "metadata": {
        "colab": {
          "base_uri": "https://localhost:8080/"
        },
        "id": "yBBPVVlB3bjK",
        "outputId": "c23fa176-e9de-4b42-f0d7-b448b9ee194d"
      },
      "source": [
        "#set features & target\n",
        "X = all_jobs_df.drop(columns=['avg_sal', 'log_avg_sal'])\n",
        "y = all_jobs_df['avg_sal']\n",
        "\n",
        "#split data into training & test sets\n",
        "X_train, X_test, y_train, y_test = train_test_split(X, y, test_size = 0.2, random_state = 43)\n",
        "\n",
        "#Use grid search to find best hyperparameters\n",
        "# defining parameter range \n",
        "param_grid = {'alpha': [0.001, 0.01, 0.1, 1, 10, 100, 1000]} \n",
        "\n",
        "all_jobs_ridge_grid = GridSearchCV(Ridge(), param_grid)\n",
        "\n",
        "# fitting the model for grid search \n",
        "all_jobs_ridge_grid.fit(X_train, y_train) \n",
        "# print best parameter after tuning \n",
        "print(all_jobs_ridge_grid.best_params_)\n",
        "\n",
        "# print how our model looks after hyper-parameter tuning \n",
        "print(all_jobs_ridge_grid.best_estimator_)"
      ],
      "execution_count": null,
      "outputs": [
        {
          "output_type": "stream",
          "text": [
            "{'alpha': 10}\n",
            "Ridge(alpha=10, copy_X=True, fit_intercept=True, max_iter=None, normalize=False,\n",
            "      random_state=None, solver='auto', tol=0.001)\n"
          ],
          "name": "stdout"
        }
      ]
    },
    {
      "cell_type": "code",
      "metadata": {
        "colab": {
          "base_uri": "https://localhost:8080/"
        },
        "id": "BdbgdUxn3bjL",
        "outputId": "02088e31-5d09-443a-c320-489b447ce9ca"
      },
      "source": [
        "#set model with ideal hyperparameters from above\n",
        "all_jobs_ridge = all_jobs_ridge_grid.best_estimator_\n",
        "\n",
        "all_jobs_ridge.fit(X_train, y_train)\n",
        "\n",
        "#cross validate\n",
        "all_jobs_ridge_scores = cross_val_score(all_jobs_ridge, X_train, y_train, cv = 5)\n",
        "\n",
        "print('Accuracy Scores for the 5 folds: ', all_jobs_ridge_scores)\n",
        "print('Mean Cross Validation Score: {:.33f}'.format(np.mean(all_jobs_ridge_scores)))"
      ],
      "execution_count": null,
      "outputs": [
        {
          "output_type": "stream",
          "text": [
            "Accuracy Scores for the 5 folds:  [0.50857838 0.52196343 0.45761889 0.45476986 0.46412615]\n",
            "Mean Cross Validation Score: 0.481411340028360723586331459955545\n"
          ],
          "name": "stdout"
        }
      ]
    },
    {
      "cell_type": "code",
      "metadata": {
        "colab": {
          "base_uri": "https://localhost:8080/",
          "height": 108
        },
        "id": "OrKcqSZq3bjM",
        "outputId": "ad24ae39-df76-4e09-9b53-bd3a5ebf4735"
      },
      "source": [
        "#generate predictions\n",
        "all_jobs_ridge_preds = all_jobs_ridge.predict(X_test)\n",
        "\n",
        "#more performance metrics\n",
        "all_jobs_ridge_rsquared_train = all_jobs_ridge.score(X_train, y_train)\n",
        "all_jobs_ridge_rsquared_test = all_jobs_ridge.score(X_test, y_test)\n",
        "all_jobs_ridge_mae = mean_absolute_error(y_test, all_jobs_ridge_preds)\n",
        "all_jobs_ridge_mse = mse(y_test, all_jobs_ridge_preds)\n",
        "all_jobs_ridge_rmse = rmse(y_test, all_jobs_ridge_preds)\n",
        "all_jobs_ridge_mape = np.mean(np.abs((y_test - all_jobs_ridge_preds)/y_test)*100)\n",
        "all_jobs_ridge_rmspe = (np.sqrt(np.mean(np.square((y_test - all_jobs_ridge_preds) / y_test)))) * 100\n",
        "all_jobs_ridge_model_name = 'All Jobs Ridge Regression'\n",
        "\n",
        "#create easily readable display of performance metrics\n",
        "all_jobs_ridge_dictionary = {'Model': all_jobs_ridge_model_name,\n",
        "  'Training Set R Squared': all_jobs_ridge_rsquared_train, \n",
        "  'Test Set R Squared': all_jobs_ridge_rsquared_test, 'Mean Absolute Error': all_jobs_ridge_mae, \n",
        "  'Mean Sqaured Error': all_jobs_ridge_mse, 'Root Mean Squared Error': all_jobs_ridge_rmse,\n",
        "  'Root Mean Squared Percentage Error': all_jobs_ridge_rmspe,\n",
        "  'Mean Absolute Percentage Error': all_jobs_ridge_mape}\n",
        "\n",
        "all_jobs_ridge_df = pd.DataFrame(all_jobs_ridge_dictionary, index=[0])\n",
        "\n",
        "all_jobs_ridge_df"
      ],
      "execution_count": null,
      "outputs": [
        {
          "output_type": "execute_result",
          "data": {
            "text/html": [
              "<div>\n",
              "<style scoped>\n",
              "    .dataframe tbody tr th:only-of-type {\n",
              "        vertical-align: middle;\n",
              "    }\n",
              "\n",
              "    .dataframe tbody tr th {\n",
              "        vertical-align: top;\n",
              "    }\n",
              "\n",
              "    .dataframe thead th {\n",
              "        text-align: right;\n",
              "    }\n",
              "</style>\n",
              "<table border=\"1\" class=\"dataframe\">\n",
              "  <thead>\n",
              "    <tr style=\"text-align: right;\">\n",
              "      <th></th>\n",
              "      <th>Model</th>\n",
              "      <th>Training Set R Squared</th>\n",
              "      <th>Test Set R Squared</th>\n",
              "      <th>Mean Absolute Error</th>\n",
              "      <th>Mean Sqaured Error</th>\n",
              "      <th>Root Mean Squared Error</th>\n",
              "      <th>Root Mean Squared Percentage Error</th>\n",
              "      <th>Mean Absolute Percentage Error</th>\n",
              "    </tr>\n",
              "  </thead>\n",
              "  <tbody>\n",
              "    <tr>\n",
              "      <th>0</th>\n",
              "      <td>All Jobs Ridge Regression</td>\n",
              "      <td>0.501529</td>\n",
              "      <td>0.516924</td>\n",
              "      <td>17950.280953</td>\n",
              "      <td>5.868147e+08</td>\n",
              "      <td>24224.257817</td>\n",
              "      <td>27.614161</td>\n",
              "      <td>20.045775</td>\n",
              "    </tr>\n",
              "  </tbody>\n",
              "</table>\n",
              "</div>"
            ],
            "text/plain": [
              "                       Model  ...  Mean Absolute Percentage Error\n",
              "0  All Jobs Ridge Regression  ...                       20.045775\n",
              "\n",
              "[1 rows x 8 columns]"
            ]
          },
          "metadata": {
            "tags": []
          },
          "execution_count": 22
        }
      ]
    },
    {
      "cell_type": "markdown",
      "metadata": {
        "id": "V0LhJM_D-FUT"
      },
      "source": [
        "### **all_jobs_yrs_df**"
      ]
    },
    {
      "cell_type": "code",
      "metadata": {
        "colab": {
          "base_uri": "https://localhost:8080/"
        },
        "id": "7-2Yt4Bl4HRW",
        "outputId": "c7191e6e-0371-45b0-b6b2-31cf793b2bd6"
      },
      "source": [
        "#set features & target\n",
        "X = all_jobs_yrs_df.drop(columns=['avg_sal', 'log_avg_sal'])\n",
        "y = all_jobs_yrs_df['avg_sal']\n",
        "\n",
        "#split data into training & test sets\n",
        "X_train, X_test, y_train, y_test = train_test_split(X, y, test_size = 0.2, random_state = 43)\n",
        "\n",
        "#Use grid search to find best hyperparameters\n",
        "# defining parameter range \n",
        "param_grid = {'alpha': [0.001, 0.01, 0.1, 1, 10, 100, 1000]} \n",
        "\n",
        "all_jobs_yrs_ridge_grid = GridSearchCV(Ridge(), param_grid)\n",
        "\n",
        "# fitting the model for grid search \n",
        "all_jobs_yrs_ridge_grid.fit(X_train, y_train) \n",
        "# print best parameter after tuning \n",
        "print(all_jobs_yrs_ridge_grid.best_params_)\n",
        "\n",
        "# print how our model looks after hyper-parameter tuning \n",
        "print(all_jobs_yrs_ridge_grid.best_estimator_)"
      ],
      "execution_count": null,
      "outputs": [
        {
          "output_type": "stream",
          "text": [
            "{'alpha': 10}\n",
            "Ridge(alpha=10, copy_X=True, fit_intercept=True, max_iter=None, normalize=False,\n",
            "      random_state=None, solver='auto', tol=0.001)\n"
          ],
          "name": "stdout"
        }
      ]
    },
    {
      "cell_type": "code",
      "metadata": {
        "colab": {
          "base_uri": "https://localhost:8080/"
        },
        "id": "S3Ts3zj34HRW",
        "outputId": "2378811f-5f60-4d80-dffe-3ce467b34d64"
      },
      "source": [
        "#set model with ideal hyperparameters from above\n",
        "all_jobs_yrs_ridge = all_jobs_yrs_ridge_grid.best_estimator_\n",
        "\n",
        "all_jobs_yrs_ridge.fit(X_train, y_train)\n",
        "\n",
        "#cross validate\n",
        "all_jobs_yrs_ridge_scores = cross_val_score(all_jobs_yrs_ridge, X_train, y_train, cv = 5)\n",
        "\n",
        "print('Accuracy Scores for the 5 folds: ', all_jobs_yrs_ridge_scores)\n",
        "print('Mean Cross Validation Score: {:.33f}'.format(np.mean(all_jobs_yrs_ridge_scores)))"
      ],
      "execution_count": null,
      "outputs": [
        {
          "output_type": "stream",
          "text": [
            "Accuracy Scores for the 5 folds:  [0.48131815 0.49994643 0.55850643 0.48638524 0.5228916 ]\n",
            "Mean Cross Validation Score: 0.509809567990207046506156984833069\n"
          ],
          "name": "stdout"
        }
      ]
    },
    {
      "cell_type": "code",
      "metadata": {
        "colab": {
          "base_uri": "https://localhost:8080/",
          "height": 108
        },
        "id": "JscpxUQ-4HRX",
        "outputId": "d2fe6068-56c4-4201-e964-f00080b78982"
      },
      "source": [
        "#generate predictions\n",
        "all_jobs_yrs_ridge_preds = all_jobs_yrs_ridge.predict(X_test)\n",
        "\n",
        "#more performance metrics\n",
        "all_jobs_yrs_ridge_rsquared_train = all_jobs_yrs_ridge.score(X_train, y_train)\n",
        "all_jobs_yrs_ridge_rsquared_test = all_jobs_yrs_ridge.score(X_test, y_test)\n",
        "all_jobs_yrs_ridge_mae = mean_absolute_error(y_test, all_jobs_yrs_ridge_preds)\n",
        "all_jobs_yrs_ridge_mse = mse(y_test, all_jobs_yrs_ridge_preds)\n",
        "all_jobs_yrs_ridge_rmse = rmse(y_test, all_jobs_yrs_ridge_preds)\n",
        "all_jobs_yrs_ridge_mape = np.mean(np.abs((y_test - all_jobs_yrs_ridge_preds)/y_test)*100)\n",
        "all_jobs_yrs_ridge_rmspe = (np.sqrt(np.mean(np.square((y_test - all_jobs_yrs_ridge_preds) / y_test)))) * 100\n",
        "all_jobs_yrs_model_name = 'All Jobs Years of Experience Ridge Regression'\n",
        "\n",
        "#create easily readable display of performance metrics\n",
        "all_jobs_yrs_ridge_dictionary = {'Model': all_jobs_yrs_model_name, \n",
        "  'Training Set R Squared': all_jobs_yrs_ridge_rsquared_train, \n",
        "  'Test Set R Squared': all_jobs_yrs_ridge_rsquared_test, 'Mean Absolute Error': all_jobs_yrs_ridge_mae, \n",
        "  'Mean Sqaured Error': all_jobs_yrs_ridge_mse, 'Root Mean Squared Error': all_jobs_yrs_ridge_rmse,\n",
        "  'Root Mean Squared Percentage Error': all_jobs_yrs_ridge_rmspe,\n",
        "  'Mean Absolute Percentage Error': all_jobs_yrs_ridge_mape}\n",
        "\n",
        "all_jobs_yrs_ridge_df = pd.DataFrame(all_jobs_yrs_ridge_dictionary, index=[0])\n",
        "\n",
        "all_jobs_yrs_ridge_df"
      ],
      "execution_count": null,
      "outputs": [
        {
          "output_type": "execute_result",
          "data": {
            "text/html": [
              "<div>\n",
              "<style scoped>\n",
              "    .dataframe tbody tr th:only-of-type {\n",
              "        vertical-align: middle;\n",
              "    }\n",
              "\n",
              "    .dataframe tbody tr th {\n",
              "        vertical-align: top;\n",
              "    }\n",
              "\n",
              "    .dataframe thead th {\n",
              "        text-align: right;\n",
              "    }\n",
              "</style>\n",
              "<table border=\"1\" class=\"dataframe\">\n",
              "  <thead>\n",
              "    <tr style=\"text-align: right;\">\n",
              "      <th></th>\n",
              "      <th>Model</th>\n",
              "      <th>Training Set R Squared</th>\n",
              "      <th>Test Set R Squared</th>\n",
              "      <th>Mean Absolute Error</th>\n",
              "      <th>Mean Sqaured Error</th>\n",
              "      <th>Root Mean Squared Error</th>\n",
              "      <th>Root Mean Squared Percentage Error</th>\n",
              "      <th>Mean Absolute Percentage Error</th>\n",
              "    </tr>\n",
              "  </thead>\n",
              "  <tbody>\n",
              "    <tr>\n",
              "      <th>0</th>\n",
              "      <td>All Jobs Years of Experience Ridge Regression</td>\n",
              "      <td>0.531356</td>\n",
              "      <td>0.518365</td>\n",
              "      <td>17878.89799</td>\n",
              "      <td>5.765101e+08</td>\n",
              "      <td>24010.623875</td>\n",
              "      <td>28.978791</td>\n",
              "      <td>20.759618</td>\n",
              "    </tr>\n",
              "  </tbody>\n",
              "</table>\n",
              "</div>"
            ],
            "text/plain": [
              "                                           Model  ...  Mean Absolute Percentage Error\n",
              "0  All Jobs Years of Experience Ridge Regression  ...                       20.759618\n",
              "\n",
              "[1 rows x 8 columns]"
            ]
          },
          "metadata": {
            "tags": []
          },
          "execution_count": 25
        }
      ]
    },
    {
      "cell_type": "markdown",
      "metadata": {
        "id": "ieMIVNTRpKPa"
      },
      "source": [
        "### **all_jobs_df log(y)**"
      ]
    },
    {
      "cell_type": "code",
      "metadata": {
        "colab": {
          "base_uri": "https://localhost:8080/"
        },
        "id": "Ut-CcTytpKPa",
        "outputId": "61ae9a30-605f-46b4-ccc1-11efc8b34bde"
      },
      "source": [
        "#set features & target\n",
        "X = all_jobs_df.drop(columns=['avg_sal', 'log_avg_sal'])\n",
        "y = all_jobs_df['log_avg_sal']\n",
        "\n",
        "#split data into training & test sets\n",
        "X_train, X_test, y_train, y_test = train_test_split(X, y, test_size = 0.2, random_state = 43)\n",
        "\n",
        "#Use grid search to find best hyperparameters\n",
        "# defining parameter range \n",
        "param_grid = {'alpha': [0.001, 0.01, 0.1, 1, 10, 100, 1000]} \n",
        "\n",
        "log_all_jobs_ridge_grid = GridSearchCV(Ridge(), param_grid)\n",
        "\n",
        "# fitting the model for grid search \n",
        "log_all_jobs_ridge_grid.fit(X_train, y_train) \n",
        "# print best parameter after tuning \n",
        "print(log_all_jobs_ridge_grid.best_params_)\n",
        "\n",
        "# print how our model looks after hyper-parameter tuning \n",
        "print(log_all_jobs_ridge_grid.best_estimator_)"
      ],
      "execution_count": null,
      "outputs": [
        {
          "output_type": "stream",
          "text": [
            "{'alpha': 10}\n",
            "Ridge(alpha=10, copy_X=True, fit_intercept=True, max_iter=None, normalize=False,\n",
            "      random_state=None, solver='auto', tol=0.001)\n"
          ],
          "name": "stdout"
        }
      ]
    },
    {
      "cell_type": "code",
      "metadata": {
        "colab": {
          "base_uri": "https://localhost:8080/"
        },
        "id": "0av6f1xLpKPb",
        "outputId": "fa1a7771-27e5-418d-ff9c-12594a1c3e1b"
      },
      "source": [
        "#set model with ideal hyperparameters from above\n",
        "log_all_jobs_ridge = log_all_jobs_ridge_grid.best_estimator_\n",
        "\n",
        "log_all_jobs_ridge.fit(X_train, y_train)\n",
        "\n",
        "#cross validate\n",
        "log_all_jobs_ridge_scores = cross_val_score(log_all_jobs_ridge, X_train, y_train, cv = 5)\n",
        "\n",
        "print('Accuracy Scores for the 5 folds: ', log_all_jobs_ridge_scores)\n",
        "print('Mean Cross Validation Score: {:.33f}'.format(np.mean(log_all_jobs_ridge_scores)))"
      ],
      "execution_count": null,
      "outputs": [
        {
          "output_type": "stream",
          "text": [
            "Accuracy Scores for the 5 folds:  [0.51488863 0.53223854 0.46498018 0.50152387 0.48436839]\n",
            "Mean Cross Validation Score: 0.499599921343014785612979267170886\n"
          ],
          "name": "stdout"
        }
      ]
    },
    {
      "cell_type": "code",
      "metadata": {
        "colab": {
          "base_uri": "https://localhost:8080/",
          "height": 108
        },
        "id": "cu4yHeS9pKPc",
        "outputId": "bcdac73e-526f-4dd7-c2ba-482ea9916654"
      },
      "source": [
        "#generate predictions\n",
        "log_all_jobs_ridge_preds = log_all_jobs_ridge.predict(X_test)\n",
        "\n",
        "#more performance metrics\n",
        "log_all_jobs_ridge_rsquared_train = log_all_jobs_ridge.score(X_train, y_train)\n",
        "log_all_jobs_ridge_rsquared_test = log_all_jobs_ridge.score(X_test, y_test)\n",
        "log_all_jobs_ridge_mae = mean_absolute_error(y_test, log_all_jobs_ridge_preds)\n",
        "log_all_jobs_ridge_mse = mse(y_test, log_all_jobs_ridge_preds)\n",
        "log_all_jobs_ridge_rmse = rmse(y_test, log_all_jobs_ridge_preds)\n",
        "log_all_jobs_ridge_mape = np.mean(np.abs((y_test - log_all_jobs_ridge_preds)/y_test)*100)\n",
        "log_all_jobs_ridge_rmspe = (np.sqrt(np.mean(np.square((y_test - log_all_jobs_ridge_preds) / y_test)))) * 100\n",
        "log_all_jobs_ridge_model_name = 'All Jobs Ridge Regression Log(y)'\n",
        "\n",
        "#create easily readable display of performance metrics\n",
        "log_all_jobs_ridge_dictionary = {'Model': log_all_jobs_ridge_model_name,\n",
        "  'Training Set R Squared': log_all_jobs_ridge_rsquared_train, \n",
        "  'Test Set R Squared': log_all_jobs_ridge_rsquared_test, 'Mean Absolute Error': log_all_jobs_ridge_mae, \n",
        "  'Mean Sqaured Error': log_all_jobs_ridge_mse, 'Root Mean Squared Error': log_all_jobs_ridge_rmse,\n",
        "  'Root Mean Squared Percentage Error': log_all_jobs_ridge_rmspe,\n",
        "  'Mean Absolute Percentage Error': log_all_jobs_ridge_mape}\n",
        "\n",
        "log_all_jobs_ridge_df = pd.DataFrame(log_all_jobs_ridge_dictionary, index=[0])\n",
        "\n",
        "log_all_jobs_ridge_df"
      ],
      "execution_count": null,
      "outputs": [
        {
          "output_type": "execute_result",
          "data": {
            "text/html": [
              "<div>\n",
              "<style scoped>\n",
              "    .dataframe tbody tr th:only-of-type {\n",
              "        vertical-align: middle;\n",
              "    }\n",
              "\n",
              "    .dataframe tbody tr th {\n",
              "        vertical-align: top;\n",
              "    }\n",
              "\n",
              "    .dataframe thead th {\n",
              "        text-align: right;\n",
              "    }\n",
              "</style>\n",
              "<table border=\"1\" class=\"dataframe\">\n",
              "  <thead>\n",
              "    <tr style=\"text-align: right;\">\n",
              "      <th></th>\n",
              "      <th>Model</th>\n",
              "      <th>Training Set R Squared</th>\n",
              "      <th>Test Set R Squared</th>\n",
              "      <th>Mean Absolute Error</th>\n",
              "      <th>Mean Sqaured Error</th>\n",
              "      <th>Root Mean Squared Error</th>\n",
              "      <th>Root Mean Squared Percentage Error</th>\n",
              "      <th>Mean Absolute Percentage Error</th>\n",
              "    </tr>\n",
              "  </thead>\n",
              "  <tbody>\n",
              "    <tr>\n",
              "      <th>0</th>\n",
              "      <td>All Jobs Ridge Regression Log(y)</td>\n",
              "      <td>0.516991</td>\n",
              "      <td>0.527871</td>\n",
              "      <td>0.189037</td>\n",
              "      <td>0.060779</td>\n",
              "      <td>0.246534</td>\n",
              "      <td>2.165821</td>\n",
              "      <td>1.65897</td>\n",
              "    </tr>\n",
              "  </tbody>\n",
              "</table>\n",
              "</div>"
            ],
            "text/plain": [
              "                              Model  ...  Mean Absolute Percentage Error\n",
              "0  All Jobs Ridge Regression Log(y)  ...                         1.65897\n",
              "\n",
              "[1 rows x 8 columns]"
            ]
          },
          "metadata": {
            "tags": []
          },
          "execution_count": 28
        }
      ]
    },
    {
      "cell_type": "markdown",
      "metadata": {
        "id": "FG0tt8DMpKPc"
      },
      "source": [
        "### **all_jobs_yrs_df log(y)**"
      ]
    },
    {
      "cell_type": "code",
      "metadata": {
        "colab": {
          "base_uri": "https://localhost:8080/"
        },
        "id": "PAaldymypKPd",
        "outputId": "988c0912-95b0-48f9-ca50-90c0a617dbd8"
      },
      "source": [
        "#set features & target\n",
        "X = all_jobs_yrs_df.drop(columns=['avg_sal', 'log_avg_sal'])\n",
        "y = all_jobs_yrs_df['log_avg_sal']\n",
        "\n",
        "#split data into training & test sets\n",
        "X_train, X_test, y_train, y_test = train_test_split(X, y, test_size = 0.2, random_state = 43)\n",
        "\n",
        "#Use grid search to find best hyperparameters\n",
        "# defining parameter range \n",
        "param_grid = {'alpha': [0.001, 0.01, 0.1, 1, 10, 100, 1000]} \n",
        "\n",
        "log_all_jobs_yrs_ridge_grid = GridSearchCV(Ridge(), param_grid)\n",
        "\n",
        "# fitting the model for grid search \n",
        "log_all_jobs_yrs_ridge_grid.fit(X_train, y_train) \n",
        "# print best parameter after tuning \n",
        "print(log_all_jobs_yrs_ridge_grid.best_params_)\n",
        "\n",
        "# print how our model looks after hyper-parameter tuning \n",
        "print(log_all_jobs_yrs_ridge_grid.best_estimator_)"
      ],
      "execution_count": null,
      "outputs": [
        {
          "output_type": "stream",
          "text": [
            "{'alpha': 10}\n",
            "Ridge(alpha=10, copy_X=True, fit_intercept=True, max_iter=None, normalize=False,\n",
            "      random_state=None, solver='auto', tol=0.001)\n"
          ],
          "name": "stdout"
        }
      ]
    },
    {
      "cell_type": "code",
      "metadata": {
        "colab": {
          "base_uri": "https://localhost:8080/"
        },
        "id": "ECbRkTPHpKPd",
        "outputId": "c98265dd-4498-48d3-b66f-ef18ab573ea2"
      },
      "source": [
        "#set model with ideal hyperparameters from above\n",
        "log_all_jobs_yrs_ridge = log_all_jobs_yrs_ridge_grid.best_estimator_\n",
        "\n",
        "log_all_jobs_yrs_ridge.fit(X_train, y_train)\n",
        "\n",
        "#cross validate\n",
        "log_all_jobs_yrs_ridge_scores = cross_val_score(log_all_jobs_yrs_ridge, X_train, y_train, cv = 5)\n",
        "\n",
        "print('Accuracy Scores for the 5 folds: ', log_all_jobs_yrs_ridge_scores)\n",
        "print('Mean Cross Validation Score: {:.33f}'.format(np.mean(log_all_jobs_yrs_ridge_scores)))"
      ],
      "execution_count": null,
      "outputs": [
        {
          "output_type": "stream",
          "text": [
            "Accuracy Scores for the 5 folds:  [0.5037119  0.50778786 0.55049443 0.51755391 0.53282981]\n",
            "Mean Cross Validation Score: 0.522475581263781685414926414523507\n"
          ],
          "name": "stdout"
        }
      ]
    },
    {
      "cell_type": "code",
      "metadata": {
        "colab": {
          "base_uri": "https://localhost:8080/",
          "height": 108
        },
        "id": "RfPLZdkCpKPd",
        "outputId": "4324fc39-41bc-4370-ba29-59036a44d2fc"
      },
      "source": [
        "#generate predictions\n",
        "log_all_jobs_yrs_ridge_preds = log_all_jobs_yrs_ridge.predict(X_test)\n",
        "\n",
        "#more performance metrics\n",
        "log_all_jobs_yrs_ridge_rsquared_train = log_all_jobs_yrs_ridge.score(X_train, y_train)\n",
        "log_all_jobs_yrs_ridge_rsquared_test = log_all_jobs_yrs_ridge.score(X_test, y_test)\n",
        "log_all_jobs_yrs_ridge_mae = mean_absolute_error(y_test, log_all_jobs_yrs_ridge_preds)\n",
        "log_all_jobs_yrs_ridge_mse = mse(y_test, log_all_jobs_yrs_ridge_preds)\n",
        "log_all_jobs_yrs_ridge_rmse = rmse(y_test, log_all_jobs_yrs_ridge_preds)\n",
        "log_all_jobs_yrs_ridge_mape = np.mean(np.abs((y_test - log_all_jobs_yrs_ridge_preds)/y_test)*100)\n",
        "log_all_jobs_yrs_ridge_rmspe = (np.sqrt(np.mean(np.square((y_test - log_all_jobs_yrs_ridge_preds) / y_test)))) * 100\n",
        "all_jobs_yrs_model_name = 'All Jobs Years of Experience Ridge Regression Log(y)'\n",
        "\n",
        "#create easily readable display of performance metrics\n",
        "log_all_jobs_yrs_ridge_dictionary = {'Model': all_jobs_yrs_model_name, \n",
        "  'Training Set R Squared': log_all_jobs_yrs_ridge_rsquared_train, \n",
        "  'Test Set R Squared': log_all_jobs_yrs_ridge_rsquared_test, 'Mean Absolute Error': log_all_jobs_yrs_ridge_mae, \n",
        "  'Mean Sqaured Error': log_all_jobs_yrs_ridge_mse, 'Root Mean Squared Error': log_all_jobs_yrs_ridge_rmse,\n",
        "  'Root Mean Squared Percentage Error': log_all_jobs_yrs_ridge_rmspe,\n",
        "  'Mean Absolute Percentage Error': log_all_jobs_yrs_ridge_mape}\n",
        "\n",
        "log_all_jobs_yrs_ridge_df = pd.DataFrame(log_all_jobs_yrs_ridge_dictionary, index=[0])\n",
        "\n",
        "log_all_jobs_yrs_ridge_df"
      ],
      "execution_count": null,
      "outputs": [
        {
          "output_type": "execute_result",
          "data": {
            "text/html": [
              "<div>\n",
              "<style scoped>\n",
              "    .dataframe tbody tr th:only-of-type {\n",
              "        vertical-align: middle;\n",
              "    }\n",
              "\n",
              "    .dataframe tbody tr th {\n",
              "        vertical-align: top;\n",
              "    }\n",
              "\n",
              "    .dataframe thead th {\n",
              "        text-align: right;\n",
              "    }\n",
              "</style>\n",
              "<table border=\"1\" class=\"dataframe\">\n",
              "  <thead>\n",
              "    <tr style=\"text-align: right;\">\n",
              "      <th></th>\n",
              "      <th>Model</th>\n",
              "      <th>Training Set R Squared</th>\n",
              "      <th>Test Set R Squared</th>\n",
              "      <th>Mean Absolute Error</th>\n",
              "      <th>Mean Sqaured Error</th>\n",
              "      <th>Root Mean Squared Error</th>\n",
              "      <th>Root Mean Squared Percentage Error</th>\n",
              "      <th>Mean Absolute Percentage Error</th>\n",
              "    </tr>\n",
              "  </thead>\n",
              "  <tbody>\n",
              "    <tr>\n",
              "      <th>0</th>\n",
              "      <td>All Jobs Years of Experience Ridge Regression ...</td>\n",
              "      <td>0.542101</td>\n",
              "      <td>0.543094</td>\n",
              "      <td>0.188552</td>\n",
              "      <td>0.059673</td>\n",
              "      <td>0.24428</td>\n",
              "      <td>2.161805</td>\n",
              "      <td>1.661682</td>\n",
              "    </tr>\n",
              "  </tbody>\n",
              "</table>\n",
              "</div>"
            ],
            "text/plain": [
              "                                               Model  ...  Mean Absolute Percentage Error\n",
              "0  All Jobs Years of Experience Ridge Regression ...  ...                        1.661682\n",
              "\n",
              "[1 rows x 8 columns]"
            ]
          },
          "metadata": {
            "tags": []
          },
          "execution_count": 31
        }
      ]
    },
    {
      "cell_type": "markdown",
      "metadata": {
        "id": "GHD6HADzIcM7"
      },
      "source": [
        "### **all_jobs_no_outliers_df**"
      ]
    },
    {
      "cell_type": "code",
      "metadata": {
        "colab": {
          "base_uri": "https://localhost:8080/"
        },
        "id": "AIZOcEU0IcM8",
        "outputId": "7dab9c41-3efc-4e2e-f01d-64b03d5baadf"
      },
      "source": [
        "#set features & target\n",
        "X = all_jobs_no_outliers_df.drop(columns=['avg_sal', 'log_avg_sal'])\n",
        "y = all_jobs_no_outliers_df['avg_sal']\n",
        "\n",
        "#split data into training & test sets\n",
        "X_train, X_test, y_train, y_test = train_test_split(X, y, test_size = 0.2, random_state = 43)\n",
        "\n",
        "#Use grid search to find best hyperparameters\n",
        "# defining parameter range \n",
        "param_grid = {'alpha': [0.001, 0.01, 0.1, 1, 10, 100, 1000]} \n",
        "\n",
        "all_jobs_no_outliers_grid = GridSearchCV(Ridge(), param_grid)\n",
        "\n",
        "# fitting the model for grid search \n",
        "all_jobs_no_outliers_grid.fit(X_train, y_train) \n",
        "# print best parameter after tuning \n",
        "print(all_jobs_no_outliers_grid.best_params_)\n",
        "\n",
        "# print how our model looks after hyper-parameter tuning \n",
        "print(all_jobs_no_outliers_grid.best_estimator_)"
      ],
      "execution_count": null,
      "outputs": [
        {
          "output_type": "stream",
          "text": [
            "{'alpha': 10}\n",
            "Ridge(alpha=10, copy_X=True, fit_intercept=True, max_iter=None, normalize=False,\n",
            "      random_state=None, solver='auto', tol=0.001)\n"
          ],
          "name": "stdout"
        }
      ]
    },
    {
      "cell_type": "code",
      "metadata": {
        "colab": {
          "base_uri": "https://localhost:8080/"
        },
        "id": "oQbd8PEDIcM9",
        "outputId": "5ad7ce03-e528-4764-d78b-2dd5d98b8a37"
      },
      "source": [
        "#set model with ideal hyperparameters from above\n",
        "all_jobs_no_outliers = all_jobs_no_outliers_grid.best_estimator_\n",
        "\n",
        "all_jobs_no_outliers.fit(X_train, y_train)\n",
        "\n",
        "#cross validate\n",
        "all_jobs_no_outliers_scores = cross_val_score(all_jobs_no_outliers, X_train, y_train, cv = 5)\n",
        "\n",
        "print('Accuracy Scores for the 5 folds: ', all_jobs_no_outliers_scores)\n",
        "print('Mean Cross Validation Score: {:.33f}'.format(np.mean(all_jobs_no_outliers_scores)))"
      ],
      "execution_count": null,
      "outputs": [
        {
          "output_type": "stream",
          "text": [
            "Accuracy Scores for the 5 folds:  [0.53157971 0.50400646 0.52925394 0.46995679 0.50927532]\n",
            "Mean Cross Validation Score: 0.508814445480376242869624547893181\n"
          ],
          "name": "stdout"
        }
      ]
    },
    {
      "cell_type": "code",
      "metadata": {
        "colab": {
          "base_uri": "https://localhost:8080/",
          "height": 108
        },
        "id": "nunBDsXzIcM-",
        "outputId": "5cb79644-ba87-43ce-d89c-51fed8352b97"
      },
      "source": [
        "#generate predictions\n",
        "all_jobs_no_outliers_preds = all_jobs_no_outliers.predict(X_test)\n",
        "\n",
        "#more performance metrics\n",
        "all_jobs_no_outliers_rsquared_train = all_jobs_no_outliers.score(X_train, y_train)\n",
        "all_jobs_no_outliers_rsquared_test = all_jobs_no_outliers.score(X_test, y_test)\n",
        "all_jobs_no_outliers_mae = mean_absolute_error(y_test, all_jobs_no_outliers_preds)\n",
        "all_jobs_no_outliers_mse = mse(y_test, all_jobs_no_outliers_preds)\n",
        "all_jobs_no_outliers_rmse = rmse(y_test, all_jobs_no_outliers_preds)\n",
        "all_jobs_no_outliers_mape = np.mean(np.abs((y_test - all_jobs_no_outliers_preds)/y_test)*100)\n",
        "all_jobs_no_outliers_rmspe = (np.sqrt(np.mean(np.square((y_test - all_jobs_no_outliers_preds) / y_test)))) * 100\n",
        "all_jobs_no_outliers_model_name = 'All Jobs w/o Outliers Ridge Regression'\n",
        "\n",
        "#create easily readable display of performance metrics\n",
        "all_jobs_no_outliers_dictionary = {'Model': all_jobs_no_outliers_model_name,\n",
        "  'Training Set R Squared': all_jobs_no_outliers_rsquared_train, \n",
        "  'Test Set R Squared': all_jobs_no_outliers_rsquared_test, 'Mean Absolute Error': all_jobs_no_outliers_mae, \n",
        "  'Mean Sqaured Error': all_jobs_no_outliers_mse, 'Root Mean Squared Error': all_jobs_no_outliers_rmse,\n",
        "  'Root Mean Squared Percentage Error': all_jobs_no_outliers_rmspe,\n",
        "  'Mean Absolute Percentage Error': all_jobs_no_outliers_mape}\n",
        "\n",
        "all_jobs_no_outliers_ridge_df = pd.DataFrame(all_jobs_no_outliers_dictionary, index=[0])\n",
        "\n",
        "all_jobs_no_outliers_ridge_df"
      ],
      "execution_count": null,
      "outputs": [
        {
          "output_type": "execute_result",
          "data": {
            "text/html": [
              "<div>\n",
              "<style scoped>\n",
              "    .dataframe tbody tr th:only-of-type {\n",
              "        vertical-align: middle;\n",
              "    }\n",
              "\n",
              "    .dataframe tbody tr th {\n",
              "        vertical-align: top;\n",
              "    }\n",
              "\n",
              "    .dataframe thead th {\n",
              "        text-align: right;\n",
              "    }\n",
              "</style>\n",
              "<table border=\"1\" class=\"dataframe\">\n",
              "  <thead>\n",
              "    <tr style=\"text-align: right;\">\n",
              "      <th></th>\n",
              "      <th>Model</th>\n",
              "      <th>Training Set R Squared</th>\n",
              "      <th>Test Set R Squared</th>\n",
              "      <th>Mean Absolute Error</th>\n",
              "      <th>Mean Sqaured Error</th>\n",
              "      <th>Root Mean Squared Error</th>\n",
              "      <th>Root Mean Squared Percentage Error</th>\n",
              "      <th>Mean Absolute Percentage Error</th>\n",
              "    </tr>\n",
              "  </thead>\n",
              "  <tbody>\n",
              "    <tr>\n",
              "      <th>0</th>\n",
              "      <td>All Jobs w/o Outliers Ridge Regression</td>\n",
              "      <td>0.526427</td>\n",
              "      <td>0.49902</td>\n",
              "      <td>17480.545495</td>\n",
              "      <td>5.165126e+08</td>\n",
              "      <td>22726.913037</td>\n",
              "      <td>27.514654</td>\n",
              "      <td>20.183595</td>\n",
              "    </tr>\n",
              "  </tbody>\n",
              "</table>\n",
              "</div>"
            ],
            "text/plain": [
              "                                    Model  ...  Mean Absolute Percentage Error\n",
              "0  All Jobs w/o Outliers Ridge Regression  ...                       20.183595\n",
              "\n",
              "[1 rows x 8 columns]"
            ]
          },
          "metadata": {
            "tags": []
          },
          "execution_count": 34
        }
      ]
    },
    {
      "cell_type": "markdown",
      "metadata": {
        "id": "gWt1DQDtIcM-"
      },
      "source": [
        "### **all_jobs_yrs_no_outliers_df**"
      ]
    },
    {
      "cell_type": "code",
      "metadata": {
        "colab": {
          "base_uri": "https://localhost:8080/"
        },
        "id": "12kTW9OcIcM-",
        "outputId": "5457e457-c1cf-4b51-e4b5-3f47ead8ad9a"
      },
      "source": [
        "#set features & target\n",
        "X = all_jobs_yrs_no_outliers_df.drop(columns=['avg_sal', 'log_avg_sal'])\n",
        "y = all_jobs_yrs_no_outliers_df['avg_sal']\n",
        "\n",
        "#split data into training & test sets\n",
        "X_train, X_test, y_train, y_test = train_test_split(X, y, test_size = 0.2, random_state = 43)\n",
        "\n",
        "#Use grid search to find best hyperparameters\n",
        "# defining parameter range \n",
        "param_grid = {'alpha': [0.001, 0.01, 0.1, 1, 10, 100, 1000]} \n",
        "\n",
        "all_jobs_yrs_no_outliers_ridge_grid = GridSearchCV(Ridge(), param_grid)\n",
        "\n",
        "# fitting the model for grid search \n",
        "all_jobs_yrs_no_outliers_ridge_grid.fit(X_train, y_train) \n",
        "# print best parameter after tuning \n",
        "print(all_jobs_yrs_no_outliers_ridge_grid.best_params_)\n",
        "\n",
        "# print how our model looks after hyper-parameter tuning \n",
        "print(all_jobs_no_outliers_grid.best_estimator_)"
      ],
      "execution_count": null,
      "outputs": [
        {
          "output_type": "stream",
          "text": [
            "{'alpha': 10}\n",
            "Ridge(alpha=10, copy_X=True, fit_intercept=True, max_iter=None, normalize=False,\n",
            "      random_state=None, solver='auto', tol=0.001)\n"
          ],
          "name": "stdout"
        }
      ]
    },
    {
      "cell_type": "code",
      "metadata": {
        "colab": {
          "base_uri": "https://localhost:8080/"
        },
        "id": "u0IJ1jkJIcM_",
        "outputId": "51ac49e8-e71a-4a52-9767-6716c0e813fc"
      },
      "source": [
        "#set model with ideal hyperparameters from above\n",
        "all_jobs_yrs_no_outliers_ridge = all_jobs_no_outliers_grid.best_estimator_\n",
        "\n",
        "all_jobs_yrs_no_outliers_ridge.fit(X_train, y_train)\n",
        "\n",
        "#cross validate\n",
        "all_jobs_yrs_no_outliers_ridge_scores = cross_val_score(all_jobs_yrs_no_outliers_ridge, X_train, y_train, cv = 5)\n",
        "\n",
        "print('Accuracy Scores for the 5 folds: ', all_jobs_yrs_no_outliers_ridge_scores)\n",
        "print('Mean Cross Validation Score: {:.33f}'.format(np.mean(all_jobs_yrs_no_outliers_ridge_scores)))"
      ],
      "execution_count": null,
      "outputs": [
        {
          "output_type": "stream",
          "text": [
            "Accuracy Scores for the 5 folds:  [0.53951435 0.5580239  0.52110381 0.4503316  0.54565079]\n",
            "Mean Cross Validation Score: 0.522924888268063492446913187450264\n"
          ],
          "name": "stdout"
        }
      ]
    },
    {
      "cell_type": "code",
      "metadata": {
        "colab": {
          "base_uri": "https://localhost:8080/",
          "height": 108
        },
        "id": "_VkiwoE3IcM_",
        "outputId": "81061457-3361-4438-c570-af8c56698b0a"
      },
      "source": [
        "#generate predictions\n",
        "all_jobs_yrs_no_outliers_ridge_preds = all_jobs_yrs_no_outliers_ridge.predict(X_test)\n",
        "\n",
        "#more performance metrics\n",
        "all_jobs_yrs_no_outliers_ridge_rsquared_train = all_jobs_yrs_no_outliers_ridge.score(X_train, y_train)\n",
        "all_jobs_yrs_no_outliers_ridge_rsquared_test = all_jobs_yrs_no_outliers_ridge.score(X_test, y_test)\n",
        "all_jobs_yrs_no_outliers_ridge_mae = mean_absolute_error(y_test, all_jobs_yrs_no_outliers_ridge_preds)\n",
        "all_jobs_yrs_no_outliers_ridge_mse = mse(y_test, all_jobs_yrs_no_outliers_ridge_preds)\n",
        "all_jobs_yrs_no_outliers_ridge_rmse = rmse(y_test, all_jobs_yrs_no_outliers_ridge_preds)\n",
        "all_jobs_yrs_no_outliers_ridge_mape = np.mean(np.abs((y_test - all_jobs_yrs_no_outliers_ridge_preds)/y_test)*100)\n",
        "all_jobs_yrs_no_outliers_ridge_rmspe = (np.sqrt(np.mean(np.square((y_test - all_jobs_yrs_no_outliers_ridge_preds) / y_test)))) * 100\n",
        "all_jobs_yrs_model_name = 'All Jobs Years of Experience w/o Outliers Ridge Regression'\n",
        "\n",
        "#create easily readable display of performance metrics\n",
        "all_jobs_yrs_no_outliers_ridge_dictionary = {'Model': all_jobs_yrs_model_name, \n",
        "  'Training Set R Squared': all_jobs_yrs_no_outliers_ridge_rsquared_train, \n",
        "  'Test Set R Squared': all_jobs_yrs_no_outliers_ridge_rsquared_test, 'Mean Absolute Error': all_jobs_yrs_no_outliers_ridge_mae, \n",
        "  'Mean Sqaured Error': all_jobs_yrs_no_outliers_ridge_mse, 'Root Mean Squared Error': all_jobs_yrs_no_outliers_ridge_rmse,\n",
        "  'Root Mean Squared Percentage Error': all_jobs_yrs_no_outliers_ridge_rmspe,\n",
        "  'Mean Absolute Percentage Error': all_jobs_yrs_no_outliers_ridge_mape}\n",
        "\n",
        "all_jobs_yrs_no_outliers_ridge_df = pd.DataFrame(all_jobs_yrs_no_outliers_ridge_dictionary, index=[0])\n",
        "\n",
        "all_jobs_yrs_no_outliers_ridge_df"
      ],
      "execution_count": null,
      "outputs": [
        {
          "output_type": "execute_result",
          "data": {
            "text/html": [
              "<div>\n",
              "<style scoped>\n",
              "    .dataframe tbody tr th:only-of-type {\n",
              "        vertical-align: middle;\n",
              "    }\n",
              "\n",
              "    .dataframe tbody tr th {\n",
              "        vertical-align: top;\n",
              "    }\n",
              "\n",
              "    .dataframe thead th {\n",
              "        text-align: right;\n",
              "    }\n",
              "</style>\n",
              "<table border=\"1\" class=\"dataframe\">\n",
              "  <thead>\n",
              "    <tr style=\"text-align: right;\">\n",
              "      <th></th>\n",
              "      <th>Model</th>\n",
              "      <th>Training Set R Squared</th>\n",
              "      <th>Test Set R Squared</th>\n",
              "      <th>Mean Absolute Error</th>\n",
              "      <th>Mean Sqaured Error</th>\n",
              "      <th>Root Mean Squared Error</th>\n",
              "      <th>Root Mean Squared Percentage Error</th>\n",
              "      <th>Mean Absolute Percentage Error</th>\n",
              "    </tr>\n",
              "  </thead>\n",
              "  <tbody>\n",
              "    <tr>\n",
              "      <th>0</th>\n",
              "      <td>All Jobs Years of Experience w/o Outliers Ridg...</td>\n",
              "      <td>0.54858</td>\n",
              "      <td>0.50881</td>\n",
              "      <td>16738.722431</td>\n",
              "      <td>4.680149e+08</td>\n",
              "      <td>21633.653135</td>\n",
              "      <td>27.34997</td>\n",
              "      <td>19.316556</td>\n",
              "    </tr>\n",
              "  </tbody>\n",
              "</table>\n",
              "</div>"
            ],
            "text/plain": [
              "                                               Model  ...  Mean Absolute Percentage Error\n",
              "0  All Jobs Years of Experience w/o Outliers Ridg...  ...                       19.316556\n",
              "\n",
              "[1 rows x 8 columns]"
            ]
          },
          "metadata": {
            "tags": []
          },
          "execution_count": 37
        }
      ]
    },
    {
      "cell_type": "markdown",
      "metadata": {
        "id": "nYXOxQvRIcNA"
      },
      "source": [
        "### **all_jobs_df log(y)**"
      ]
    },
    {
      "cell_type": "code",
      "metadata": {
        "colab": {
          "base_uri": "https://localhost:8080/"
        },
        "id": "iRUTUdCLIcNA",
        "outputId": "af37dd38-7c63-44f5-8b33-83b4fcce7c44"
      },
      "source": [
        "#set features & target\n",
        "X = all_jobs_no_outliers_df.drop(columns=['avg_sal', 'log_avg_sal'])\n",
        "y = all_jobs_no_outliers_df['log_avg_sal']\n",
        "\n",
        "#split data into training & test sets\n",
        "X_train, X_test, y_train, y_test = train_test_split(X, y, test_size = 0.2, random_state = 43)\n",
        "\n",
        "#Use grid search to find best hyperparameters\n",
        "# defining parameter range \n",
        "param_grid = {'alpha': [0.001, 0.01, 0.1, 1, 10, 100, 1000]} \n",
        "\n",
        "log_all_jobs_no_outliers_grid = GridSearchCV(Ridge(), param_grid)\n",
        "\n",
        "# fitting the model for grid search \n",
        "log_all_jobs_no_outliers_grid.fit(X_train, y_train) \n",
        "# print best parameter after tuning \n",
        "print(log_all_jobs_no_outliers_grid.best_params_)\n",
        "\n",
        "# print how our model looks after hyper-parameter tuning \n",
        "print(log_all_jobs_no_outliers_grid.best_estimator_)"
      ],
      "execution_count": null,
      "outputs": [
        {
          "output_type": "stream",
          "text": [
            "{'alpha': 10}\n",
            "Ridge(alpha=10, copy_X=True, fit_intercept=True, max_iter=None, normalize=False,\n",
            "      random_state=None, solver='auto', tol=0.001)\n"
          ],
          "name": "stdout"
        }
      ]
    },
    {
      "cell_type": "code",
      "metadata": {
        "colab": {
          "base_uri": "https://localhost:8080/"
        },
        "id": "ZF2Whs_WIcNA",
        "outputId": "b3b6c7b7-c6e5-46a1-fb16-b1d713616c97"
      },
      "source": [
        "#set model with ideal hyperparameters from above\n",
        "log_all_jobs_no_outliers = log_all_jobs_no_outliers_grid.best_estimator_\n",
        "\n",
        "log_all_jobs_no_outliers.fit(X_train, y_train)\n",
        "\n",
        "#cross validate\n",
        "log_all_jobs_no_outliers_scores = cross_val_score(log_all_jobs_no_outliers, X_train, y_train, cv = 5)\n",
        "\n",
        "print('Accuracy Scores for the 5 folds: ', log_all_jobs_no_outliers_scores)\n",
        "print('Mean Cross Validation Score: {:.33f}'.format(np.mean(log_all_jobs_no_outliers_scores)))"
      ],
      "execution_count": null,
      "outputs": [
        {
          "output_type": "stream",
          "text": [
            "Accuracy Scores for the 5 folds:  [0.52241144 0.49251396 0.52882295 0.47851444 0.50428332]\n",
            "Mean Cross Validation Score: 0.505309222867558860414760601997841\n"
          ],
          "name": "stdout"
        }
      ]
    },
    {
      "cell_type": "code",
      "metadata": {
        "colab": {
          "base_uri": "https://localhost:8080/",
          "height": 108
        },
        "id": "OkwB5KqdIcNB",
        "outputId": "8c98b5e0-65a4-494f-8253-0a46072a6a6d"
      },
      "source": [
        "#generate predictions\n",
        "log_all_jobs_no_outliers_preds = log_all_jobs_no_outliers.predict(X_test)\n",
        "\n",
        "#more performance metrics\n",
        "log_all_jobs_no_outliers_rsquared_train = log_all_jobs_no_outliers.score(X_train, y_train)\n",
        "log_all_jobs_no_outliers_rsquared_test = log_all_jobs_no_outliers.score(X_test, y_test)\n",
        "log_all_jobs_no_outliers_mae = mean_absolute_error(y_test, log_all_jobs_no_outliers_preds)\n",
        "log_all_jobs_no_outliers_mse = mse(y_test, log_all_jobs_no_outliers_preds)\n",
        "log_all_jobs_no_outliers_rmse = rmse(y_test, log_all_jobs_no_outliers_preds)\n",
        "log_all_jobs_no_outliers_mape = np.mean(np.abs((y_test - log_all_jobs_no_outliers_preds)/y_test)*100)\n",
        "log_all_jobs_no_outliers_rmspe = (np.sqrt(np.mean(np.square((y_test - log_all_jobs_no_outliers_preds) / y_test)))) * 100\n",
        "log_all_jobs_no_outliers_model_name = 'All Jobs w/o Outliers Ridge Regression Log(y)'\n",
        "\n",
        "#create easily readable display of performance metrics\n",
        "log_all_jobs_no_outliers_dictionary = {'Model': log_all_jobs_no_outliers_model_name,\n",
        "  'Training Set R Squared': log_all_jobs_no_outliers_rsquared_train, \n",
        "  'Test Set R Squared': log_all_jobs_no_outliers_rsquared_test, 'Mean Absolute Error': log_all_jobs_no_outliers_mae, \n",
        "  'Mean Sqaured Error': log_all_jobs_no_outliers_mse, 'Root Mean Squared Error': log_all_jobs_no_outliers_rmse,\n",
        "  'Root Mean Squared Percentage Error': log_all_jobs_no_outliers_rmspe,\n",
        "  'Mean Absolute Percentage Error': log_all_jobs_no_outliers_mape}\n",
        "\n",
        "log_all_jobs_no_outliers_ridge_df = pd.DataFrame(log_all_jobs_no_outliers_dictionary, index=[0])\n",
        "\n",
        "log_all_jobs_no_outliers_ridge_df"
      ],
      "execution_count": null,
      "outputs": [
        {
          "output_type": "execute_result",
          "data": {
            "text/html": [
              "<div>\n",
              "<style scoped>\n",
              "    .dataframe tbody tr th:only-of-type {\n",
              "        vertical-align: middle;\n",
              "    }\n",
              "\n",
              "    .dataframe tbody tr th {\n",
              "        vertical-align: top;\n",
              "    }\n",
              "\n",
              "    .dataframe thead th {\n",
              "        text-align: right;\n",
              "    }\n",
              "</style>\n",
              "<table border=\"1\" class=\"dataframe\">\n",
              "  <thead>\n",
              "    <tr style=\"text-align: right;\">\n",
              "      <th></th>\n",
              "      <th>Model</th>\n",
              "      <th>Training Set R Squared</th>\n",
              "      <th>Test Set R Squared</th>\n",
              "      <th>Mean Absolute Error</th>\n",
              "      <th>Mean Sqaured Error</th>\n",
              "      <th>Root Mean Squared Error</th>\n",
              "      <th>Root Mean Squared Percentage Error</th>\n",
              "      <th>Mean Absolute Percentage Error</th>\n",
              "    </tr>\n",
              "  </thead>\n",
              "  <tbody>\n",
              "    <tr>\n",
              "      <th>0</th>\n",
              "      <td>All Jobs w/o Outliers Ridge Regression Log(y)</td>\n",
              "      <td>0.521759</td>\n",
              "      <td>0.501373</td>\n",
              "      <td>0.188869</td>\n",
              "      <td>0.05904</td>\n",
              "      <td>0.242982</td>\n",
              "      <td>2.142707</td>\n",
              "      <td>1.661182</td>\n",
              "    </tr>\n",
              "  </tbody>\n",
              "</table>\n",
              "</div>"
            ],
            "text/plain": [
              "                                           Model  ...  Mean Absolute Percentage Error\n",
              "0  All Jobs w/o Outliers Ridge Regression Log(y)  ...                        1.661182\n",
              "\n",
              "[1 rows x 8 columns]"
            ]
          },
          "metadata": {
            "tags": []
          },
          "execution_count": 40
        }
      ]
    },
    {
      "cell_type": "markdown",
      "metadata": {
        "id": "GHdUaBvcIcNB"
      },
      "source": [
        "### **all_jobs_yrs_no_outliers_df log(y)**"
      ]
    },
    {
      "cell_type": "code",
      "metadata": {
        "colab": {
          "base_uri": "https://localhost:8080/"
        },
        "id": "cK7_jDl8IcNB",
        "outputId": "d923e629-92fa-48f6-8124-557ed5222eae"
      },
      "source": [
        "#set features & target\n",
        "X = all_jobs_yrs_no_outliers_df.drop(columns=['avg_sal', 'log_avg_sal'])\n",
        "y = all_jobs_yrs_no_outliers_df['log_avg_sal']\n",
        "\n",
        "#split data into training & test sets\n",
        "X_train, X_test, y_train, y_test = train_test_split(X, y, test_size = 0.2, random_state = 43)\n",
        "\n",
        "#Use grid search to find best hyperparameters\n",
        "# defining parameter range \n",
        "param_grid = {'alpha': [0.001, 0.01, 0.1, 1, 10, 100, 1000]} \n",
        "\n",
        "log_all_jobs_yrs_no_outliers_ridge_grid = GridSearchCV(Ridge(), param_grid)\n",
        "\n",
        "# fitting the model for grid search \n",
        "log_all_jobs_yrs_no_outliers_ridge_grid.fit(X_train, y_train) \n",
        "# print best parameter after tuning \n",
        "print(log_all_jobs_yrs_no_outliers_ridge_grid.best_params_)\n",
        "\n",
        "# print how our model looks after hyper-parameter tuning \n",
        "print(log_all_jobs_yrs_no_outliers_ridge_grid.best_estimator_)"
      ],
      "execution_count": null,
      "outputs": [
        {
          "output_type": "stream",
          "text": [
            "{'alpha': 10}\n",
            "Ridge(alpha=10, copy_X=True, fit_intercept=True, max_iter=None, normalize=False,\n",
            "      random_state=None, solver='auto', tol=0.001)\n"
          ],
          "name": "stdout"
        }
      ]
    },
    {
      "cell_type": "code",
      "metadata": {
        "colab": {
          "base_uri": "https://localhost:8080/"
        },
        "id": "lotAUOkaIcNC",
        "outputId": "680c8769-f728-4850-95a5-8f990490bf56"
      },
      "source": [
        "#set model with ideal hyperparameters from above\n",
        "log_all_jobs_yrs_no_outliers_ridge = log_all_jobs_yrs_no_outliers_ridge_grid.best_estimator_\n",
        "\n",
        "log_all_jobs_yrs_no_outliers_ridge.fit(X_train, y_train)\n",
        "\n",
        "#cross validate\n",
        "log_all_jobs_yrs_no_outliers_ridge_scores = cross_val_score(log_all_jobs_yrs_no_outliers_ridge, X_train, y_train, cv = 5)\n",
        "\n",
        "print('Accuracy Scores for the 5 folds: ', log_all_jobs_yrs_no_outliers_ridge_scores)\n",
        "print('Mean Cross Validation Score: {:.33f}'.format(np.mean(log_all_jobs_yrs_no_outliers_ridge_scores)))"
      ],
      "execution_count": null,
      "outputs": [
        {
          "output_type": "stream",
          "text": [
            "Accuracy Scores for the 5 folds:  [0.54496934 0.56256461 0.51277665 0.44691439 0.53175925]\n",
            "Mean Cross Validation Score: 0.519796848186316440276755201921333\n"
          ],
          "name": "stdout"
        }
      ]
    },
    {
      "cell_type": "code",
      "metadata": {
        "colab": {
          "base_uri": "https://localhost:8080/",
          "height": 108
        },
        "id": "iVnudvrOIcNC",
        "outputId": "c18ae539-87a1-4f5f-9fe0-3cdc10e64c82"
      },
      "source": [
        "#generate predictions\n",
        "log_all_jobs_yrs_no_outliers_ridge_preds = log_all_jobs_yrs_no_outliers_ridge.predict(X_test)\n",
        "\n",
        "#more performance metrics\n",
        "log_all_jobs_yrs_no_outliers_ridge_rsquared_train = log_all_jobs_yrs_no_outliers_ridge.score(X_train, y_train)\n",
        "log_all_jobs_yrs_no_outliers_ridge_rsquared_test = log_all_jobs_yrs_no_outliers_ridge.score(X_test, y_test)\n",
        "log_all_jobs_yrs_no_outliers_ridge_mae = mean_absolute_error(y_test, log_all_jobs_yrs_no_outliers_ridge_preds)\n",
        "log_all_jobs_yrs_no_outliers_ridge_mse = mse(y_test, log_all_jobs_yrs_no_outliers_ridge_preds)\n",
        "log_all_jobs_yrs_no_outliers_ridge_rmse = rmse(y_test, log_all_jobs_yrs_no_outliers_ridge_preds)\n",
        "log_all_jobs_yrs_no_outliers_ridge_mape = np.mean(np.abs((y_test - log_all_jobs_yrs_no_outliers_ridge_preds)/y_test)*100)\n",
        "log_all_jobs_yrs_no_outliers_ridge_rmspe = (np.sqrt(np.mean(np.square((y_test - log_all_jobs_yrs_no_outliers_ridge_preds) / y_test)))) * 100\n",
        "all_jobs_yrs_model_name = 'All Jobs Years of Experience w/o Outliers Ridge Regression Log(y)'\n",
        "\n",
        "#create easily readable display of performance metrics\n",
        "log_all_jobs_yrs_no_outliers_ridge_dictionary = {'Model': all_jobs_yrs_model_name, \n",
        "  'Training Set R Squared': log_all_jobs_yrs_no_outliers_ridge_rsquared_train, \n",
        "  'Test Set R Squared': log_all_jobs_yrs_no_outliers_ridge_rsquared_test, 'Mean Absolute Error': log_all_jobs_yrs_no_outliers_ridge_mae, \n",
        "  'Mean Sqaured Error': log_all_jobs_yrs_no_outliers_ridge_mse, 'Root Mean Squared Error': log_all_jobs_yrs_no_outliers_ridge_rmse,\n",
        "  'Root Mean Squared Percentage Error': log_all_jobs_yrs_no_outliers_ridge_rmspe,\n",
        "  'Mean Absolute Percentage Error': log_all_jobs_yrs_no_outliers_ridge_mape}\n",
        "\n",
        "log_all_jobs_yrs_no_outliers_ridge_df = pd.DataFrame(log_all_jobs_yrs_no_outliers_ridge_dictionary, index=[0])\n",
        "\n",
        "log_all_jobs_yrs_no_outliers_ridge_df"
      ],
      "execution_count": null,
      "outputs": [
        {
          "output_type": "execute_result",
          "data": {
            "text/html": [
              "<div>\n",
              "<style scoped>\n",
              "    .dataframe tbody tr th:only-of-type {\n",
              "        vertical-align: middle;\n",
              "    }\n",
              "\n",
              "    .dataframe tbody tr th {\n",
              "        vertical-align: top;\n",
              "    }\n",
              "\n",
              "    .dataframe thead th {\n",
              "        text-align: right;\n",
              "    }\n",
              "</style>\n",
              "<table border=\"1\" class=\"dataframe\">\n",
              "  <thead>\n",
              "    <tr style=\"text-align: right;\">\n",
              "      <th></th>\n",
              "      <th>Model</th>\n",
              "      <th>Training Set R Squared</th>\n",
              "      <th>Test Set R Squared</th>\n",
              "      <th>Mean Absolute Error</th>\n",
              "      <th>Mean Sqaured Error</th>\n",
              "      <th>Root Mean Squared Error</th>\n",
              "      <th>Root Mean Squared Percentage Error</th>\n",
              "      <th>Mean Absolute Percentage Error</th>\n",
              "    </tr>\n",
              "  </thead>\n",
              "  <tbody>\n",
              "    <tr>\n",
              "      <th>0</th>\n",
              "      <td>All Jobs Years of Experience w/o Outliers Ridg...</td>\n",
              "      <td>0.543941</td>\n",
              "      <td>0.507714</td>\n",
              "      <td>0.181246</td>\n",
              "      <td>0.054186</td>\n",
              "      <td>0.232779</td>\n",
              "      <td>2.057466</td>\n",
              "      <td>1.593967</td>\n",
              "    </tr>\n",
              "  </tbody>\n",
              "</table>\n",
              "</div>"
            ],
            "text/plain": [
              "                                               Model  ...  Mean Absolute Percentage Error\n",
              "0  All Jobs Years of Experience w/o Outliers Ridg...  ...                        1.593967\n",
              "\n",
              "[1 rows x 8 columns]"
            ]
          },
          "metadata": {
            "tags": []
          },
          "execution_count": 43
        }
      ]
    },
    {
      "cell_type": "markdown",
      "metadata": {
        "id": "omB6i_qoB98c"
      },
      "source": [
        "## **Lasso Regression**"
      ]
    },
    {
      "cell_type": "markdown",
      "metadata": {
        "id": "HlIgcu3AC9Qu"
      },
      "source": [
        "### **all_jobs_df**"
      ]
    },
    {
      "cell_type": "code",
      "metadata": {
        "colab": {
          "base_uri": "https://localhost:8080/"
        },
        "id": "Xsk1fYq72TxT",
        "outputId": "48d1fe75-fa67-4f96-ae87-94768d112a32"
      },
      "source": [
        "#set features & target\n",
        "X = all_jobs_df.drop(columns=['avg_sal', 'log_avg_sal'])\n",
        "y = all_jobs_df['avg_sal']\n",
        "\n",
        "#split data into training & test sets\n",
        "X_train, X_test, y_train, y_test = train_test_split(X, y, test_size = 0.2, random_state = 43)\n",
        "\n",
        "#Use grid search to find best hyperparameters\n",
        "# defining parameter range \n",
        "param_grid = {'alpha': [0.001, 0.01, 0.1, 1, 10, 100, 1000]} \n",
        "\n",
        "all_jobs_lasso_grid = GridSearchCV(Lasso(), param_grid)\n",
        "\n",
        "# fitting the model for grid search \n",
        "all_jobs_lasso_grid.fit(X_train, y_train) \n",
        "# print best parameter after tuning \n",
        "print(all_jobs_lasso_grid.best_params_)\n",
        "\n",
        "# print how our model looks after hyper-parameter tuning \n",
        "print(all_jobs_lasso_grid.best_estimator_)"
      ],
      "execution_count": null,
      "outputs": [
        {
          "output_type": "stream",
          "text": [
            "{'alpha': 100}\n",
            "Lasso(alpha=100, copy_X=True, fit_intercept=True, max_iter=1000,\n",
            "      normalize=False, positive=False, precompute=False, random_state=None,\n",
            "      selection='cyclic', tol=0.0001, warm_start=False)\n"
          ],
          "name": "stdout"
        }
      ]
    },
    {
      "cell_type": "code",
      "metadata": {
        "colab": {
          "base_uri": "https://localhost:8080/"
        },
        "id": "60suz-Ka2TxV",
        "outputId": "4c1d80f7-4f0e-4f9e-ba93-c7e2815eda04"
      },
      "source": [
        "#set model with ideal hyperparameters from above\n",
        "all_jobs_lasso = all_jobs_lasso_grid.best_estimator_\n",
        "\n",
        "all_jobs_lasso.fit(X_train, y_train)\n",
        "\n",
        "#cross validate\n",
        "all_jobs_lasso_scores = cross_val_score(all_jobs_lasso, X_train, y_train, cv = 5)\n",
        "\n",
        "print('Accuracy Scores for the 5 folds: ', all_jobs_lasso_scores)\n",
        "print('Mean Cross Validation Score: {:.33f}'.format(np.mean(all_jobs_lasso_scores)))"
      ],
      "execution_count": null,
      "outputs": [
        {
          "output_type": "stream",
          "text": [
            "Accuracy Scores for the 5 folds:  [0.50767393 0.51889165 0.46802211 0.45027722 0.4749876 ]\n",
            "Mean Cross Validation Score: 0.483970503253159045620179767865920\n"
          ],
          "name": "stdout"
        }
      ]
    },
    {
      "cell_type": "code",
      "metadata": {
        "colab": {
          "base_uri": "https://localhost:8080/",
          "height": 108
        },
        "id": "mVQmeJf02TxV",
        "outputId": "7e623a23-59f8-47c5-9d07-e1b288c6b446"
      },
      "source": [
        "#generate predictions\n",
        "all_jobs_lasso_preds = all_jobs_lasso.predict(X_test)\n",
        "\n",
        "#more performance metrics\n",
        "all_jobs_lasso_rsquared_train = all_jobs_lasso.score(X_train, y_train)\n",
        "all_jobs_lasso_rsquared_test = all_jobs_lasso.score(X_test, y_test)\n",
        "all_jobs_lasso_mae = mean_absolute_error(y_test, all_jobs_lasso_preds)\n",
        "all_jobs_lasso_mse = mse(y_test, all_jobs_lasso_preds)\n",
        "all_jobs_lasso_rmse = rmse(y_test, all_jobs_lasso_preds)\n",
        "all_jobs_lasso_mape = np.mean(np.abs((y_test - all_jobs_lasso_preds)/y_test)*100)\n",
        "all_jobs_lasso_rmspe = (np.sqrt(np.mean(np.square((y_test - all_jobs_lasso_preds) / y_test)))) * 100\n",
        "all_jobs_lasso_model_name = 'All Jobs Lasso Regression'\n",
        "\n",
        "#create easily readable display of performance metrics\n",
        "all_jobs_lasso_dictionary = {'Model': all_jobs_lasso_model_name,\n",
        "  'Training Set R Squared': all_jobs_lasso_rsquared_train, \n",
        "  'Test Set R Squared': all_jobs_lasso_rsquared_test, 'Mean Absolute Error': all_jobs_lasso_mae, \n",
        "  'Mean Sqaured Error': all_jobs_lasso_mse, 'Root Mean Squared Error': all_jobs_lasso_rmse,\n",
        "  'Root Mean Squared Percentage Error': all_jobs_lasso_rmspe,\n",
        "  'Mean Absolute Percentage Error': all_jobs_lasso_mape}\n",
        "\n",
        "all_jobs_lasso_df = pd.DataFrame(all_jobs_lasso_dictionary, index=[0])\n",
        "\n",
        "all_jobs_lasso_df"
      ],
      "execution_count": null,
      "outputs": [
        {
          "output_type": "execute_result",
          "data": {
            "text/html": [
              "<div>\n",
              "<style scoped>\n",
              "    .dataframe tbody tr th:only-of-type {\n",
              "        vertical-align: middle;\n",
              "    }\n",
              "\n",
              "    .dataframe tbody tr th {\n",
              "        vertical-align: top;\n",
              "    }\n",
              "\n",
              "    .dataframe thead th {\n",
              "        text-align: right;\n",
              "    }\n",
              "</style>\n",
              "<table border=\"1\" class=\"dataframe\">\n",
              "  <thead>\n",
              "    <tr style=\"text-align: right;\">\n",
              "      <th></th>\n",
              "      <th>Model</th>\n",
              "      <th>Training Set R Squared</th>\n",
              "      <th>Test Set R Squared</th>\n",
              "      <th>Mean Absolute Error</th>\n",
              "      <th>Mean Sqaured Error</th>\n",
              "      <th>Root Mean Squared Error</th>\n",
              "      <th>Root Mean Squared Percentage Error</th>\n",
              "      <th>Mean Absolute Percentage Error</th>\n",
              "    </tr>\n",
              "  </thead>\n",
              "  <tbody>\n",
              "    <tr>\n",
              "      <th>0</th>\n",
              "      <td>All Jobs Lasso Regression</td>\n",
              "      <td>0.494348</td>\n",
              "      <td>0.509676</td>\n",
              "      <td>18087.885487</td>\n",
              "      <td>5.956188e+08</td>\n",
              "      <td>24405.302526</td>\n",
              "      <td>27.80911</td>\n",
              "      <td>20.215122</td>\n",
              "    </tr>\n",
              "  </tbody>\n",
              "</table>\n",
              "</div>"
            ],
            "text/plain": [
              "                       Model  ...  Mean Absolute Percentage Error\n",
              "0  All Jobs Lasso Regression  ...                       20.215122\n",
              "\n",
              "[1 rows x 8 columns]"
            ]
          },
          "metadata": {
            "tags": []
          },
          "execution_count": 46
        }
      ]
    },
    {
      "cell_type": "markdown",
      "metadata": {
        "id": "m-uwi-qpC9Qw"
      },
      "source": [
        "### **all_jobs_yrs_df**"
      ]
    },
    {
      "cell_type": "code",
      "metadata": {
        "colab": {
          "base_uri": "https://localhost:8080/"
        },
        "id": "4jRRzzqn2-DP",
        "outputId": "5350a29d-3645-4706-98d0-9b5392aa196d"
      },
      "source": [
        "#set features & target\n",
        "X = all_jobs_yrs_df.drop(columns=['avg_sal', 'log_avg_sal'])\n",
        "y = all_jobs_yrs_df['avg_sal']\n",
        "\n",
        "#split data into training & test sets\n",
        "X_train, X_test, y_train, y_test = train_test_split(X, y, test_size = 0.2, random_state = 43)\n",
        "\n",
        "#Use grid search to find best hyperparameters\n",
        "# defining parameter range \n",
        "param_grid = {'alpha': [0.001, 0.01, 0.1, 1, 10, 100, 1000]} \n",
        "\n",
        "all_jobs_yrs_lasso_grid = GridSearchCV(Lasso(), param_grid)\n",
        "\n",
        "# fitting the model for grid search \n",
        "all_jobs_yrs_lasso_grid.fit(X_train, y_train) \n",
        "# print best parameter after tuning \n",
        "print(all_jobs_yrs_lasso_grid.best_params_)\n",
        "\n",
        "# print how our model looks after hyper-parameter tuning \n",
        "print(all_jobs_yrs_lasso_grid.best_estimator_)"
      ],
      "execution_count": null,
      "outputs": [
        {
          "output_type": "stream",
          "text": [
            "{'alpha': 10}\n",
            "Lasso(alpha=10, copy_X=True, fit_intercept=True, max_iter=1000, normalize=False,\n",
            "      positive=False, precompute=False, random_state=None, selection='cyclic',\n",
            "      tol=0.0001, warm_start=False)\n"
          ],
          "name": "stdout"
        }
      ]
    },
    {
      "cell_type": "code",
      "metadata": {
        "colab": {
          "base_uri": "https://localhost:8080/"
        },
        "id": "IANw83Cb2-DQ",
        "outputId": "f0752871-06da-44a2-ecc3-567714f4fa90"
      },
      "source": [
        "#set model with ideal hyperparameters from above\n",
        "all_jobs_yrs_lasso = all_jobs_yrs_lasso_grid.best_estimator_\n",
        "\n",
        "all_jobs_yrs_lasso.fit(X_train, y_train)\n",
        "\n",
        "#cross validate\n",
        "all_jobs_yrs_lasso_scores = cross_val_score(all_jobs_yrs_lasso, X_train, y_train, cv = 5)\n",
        "\n",
        "print('Accuracy Scores for the 5 folds: ', all_jobs_yrs_lasso_scores)\n",
        "print('Mean Cross Validation Score: {:.33f}'.format(np.mean(all_jobs_yrs_lasso_scores)))"
      ],
      "execution_count": null,
      "outputs": [
        {
          "output_type": "stream",
          "text": [
            "Accuracy Scores for the 5 folds:  [0.48123673 0.50091863 0.55588205 0.48430305 0.52172535]\n",
            "Mean Cross Validation Score: 0.508813163866693507486615999368951\n"
          ],
          "name": "stdout"
        }
      ]
    },
    {
      "cell_type": "code",
      "metadata": {
        "colab": {
          "base_uri": "https://localhost:8080/",
          "height": 108
        },
        "id": "k8kbBSIp2-DQ",
        "outputId": "090ce818-330b-4f3d-f3b3-de5e8b552d1d"
      },
      "source": [
        "#generate predictions\n",
        "all_jobs_yrs_lasso_preds = all_jobs_yrs_lasso.predict(X_test)\n",
        "\n",
        "#more performance metrics\n",
        "all_jobs_yrs_lasso_rsquared_train = all_jobs_yrs_lasso.score(X_train, y_train)\n",
        "all_jobs_yrs_lasso_rsquared_test = all_jobs_yrs_lasso.score(X_test, y_test)\n",
        "all_jobs_yrs_lasso_mae = mean_absolute_error(y_test, all_jobs_yrs_lasso_preds)\n",
        "all_jobs_yrs_lasso_mse = mse(y_test, all_jobs_yrs_lasso_preds)\n",
        "all_jobs_yrs_lasso_rmse = rmse(y_test, all_jobs_yrs_lasso_preds)\n",
        "all_jobs_yrs_lasso_mape = np.mean(np.abs((y_test - all_jobs_yrs_lasso_preds)/y_test)*100)\n",
        "all_jobs_yrs_lasso_rmspe = (np.sqrt(np.mean(np.square((y_test - all_jobs_yrs_lasso_preds) / y_test)))) * 100\n",
        "all_jobs_yrs_lasso_model_name = 'All Jobs Years of Experience Lasso Regression'\n",
        "\n",
        "#create easily readable display of performance metrics\n",
        "all_jobs_yrs_lasso_dictionary = {'Model': all_jobs_yrs_lasso_model_name,\n",
        "  'Training Set R Squared': all_jobs_yrs_lasso_rsquared_train, \n",
        "  'Test Set R Squared': all_jobs_yrs_lasso_rsquared_test, 'Mean Absolute Error': all_jobs_yrs_lasso_mae, \n",
        "  'Mean Sqaured Error': all_jobs_yrs_lasso_mse, 'Root Mean Squared Error': all_jobs_yrs_lasso_rmse,\n",
        "  'Root Mean Squared Percentage Error': all_jobs_yrs_lasso_rmspe,\n",
        "  'Mean Absolute Percentage Error': all_jobs_yrs_lasso_mape}\n",
        "\n",
        "all_jobs_yrs_lasso_df = pd.DataFrame(all_jobs_yrs_lasso_dictionary, index=[0])\n",
        "\n",
        "all_jobs_yrs_lasso_df"
      ],
      "execution_count": null,
      "outputs": [
        {
          "output_type": "execute_result",
          "data": {
            "text/html": [
              "<div>\n",
              "<style scoped>\n",
              "    .dataframe tbody tr th:only-of-type {\n",
              "        vertical-align: middle;\n",
              "    }\n",
              "\n",
              "    .dataframe tbody tr th {\n",
              "        vertical-align: top;\n",
              "    }\n",
              "\n",
              "    .dataframe thead th {\n",
              "        text-align: right;\n",
              "    }\n",
              "</style>\n",
              "<table border=\"1\" class=\"dataframe\">\n",
              "  <thead>\n",
              "    <tr style=\"text-align: right;\">\n",
              "      <th></th>\n",
              "      <th>Model</th>\n",
              "      <th>Training Set R Squared</th>\n",
              "      <th>Test Set R Squared</th>\n",
              "      <th>Mean Absolute Error</th>\n",
              "      <th>Mean Sqaured Error</th>\n",
              "      <th>Root Mean Squared Error</th>\n",
              "      <th>Root Mean Squared Percentage Error</th>\n",
              "      <th>Mean Absolute Percentage Error</th>\n",
              "    </tr>\n",
              "  </thead>\n",
              "  <tbody>\n",
              "    <tr>\n",
              "      <th>0</th>\n",
              "      <td>All Jobs Years of Experience Lasso Regression</td>\n",
              "      <td>0.531983</td>\n",
              "      <td>0.516896</td>\n",
              "      <td>17883.458416</td>\n",
              "      <td>5.782694e+08</td>\n",
              "      <td>24047.23321</td>\n",
              "      <td>28.988901</td>\n",
              "      <td>20.750267</td>\n",
              "    </tr>\n",
              "  </tbody>\n",
              "</table>\n",
              "</div>"
            ],
            "text/plain": [
              "                                           Model  ...  Mean Absolute Percentage Error\n",
              "0  All Jobs Years of Experience Lasso Regression  ...                       20.750267\n",
              "\n",
              "[1 rows x 8 columns]"
            ]
          },
          "metadata": {
            "tags": []
          },
          "execution_count": 49
        }
      ]
    },
    {
      "cell_type": "markdown",
      "metadata": {
        "id": "QG7YpwsGqL2R"
      },
      "source": [
        "### **all_jobs_df log(y)**"
      ]
    },
    {
      "cell_type": "code",
      "metadata": {
        "colab": {
          "base_uri": "https://localhost:8080/"
        },
        "id": "6fsAo3hAqL2S",
        "outputId": "ea3c1b0e-5fe6-4997-cbbb-bc5ab76e18c0"
      },
      "source": [
        "#set features & target\n",
        "X = all_jobs_df.drop(columns=['avg_sal', 'log_avg_sal'])\n",
        "y = all_jobs_df['log_avg_sal']\n",
        "\n",
        "#split data into training & test sets\n",
        "X_train, X_test, y_train, y_test = train_test_split(X, y, test_size = 0.2, random_state = 43)\n",
        "\n",
        "#Use grid search to find best hyperparameters\n",
        "# defining parameter range \n",
        "param_grid = {'alpha': [0.001, 0.01, 0.1, 1, 10, 100, 1000]} \n",
        "\n",
        "log_all_jobs_lasso_grid = GridSearchCV(Lasso(), param_grid)\n",
        "\n",
        "# fitting the model for grid search \n",
        "log_all_jobs_lasso_grid.fit(X_train, y_train) \n",
        "# print best parameter after tuning \n",
        "print(log_all_jobs_lasso_grid.best_params_)\n",
        "\n",
        "# print how our model looks after hyper-parameter tuning \n",
        "print(log_all_jobs_lasso_grid.best_estimator_)"
      ],
      "execution_count": null,
      "outputs": [
        {
          "output_type": "stream",
          "text": [
            "{'alpha': 0.001}\n",
            "Lasso(alpha=0.001, copy_X=True, fit_intercept=True, max_iter=1000,\n",
            "      normalize=False, positive=False, precompute=False, random_state=None,\n",
            "      selection='cyclic', tol=0.0001, warm_start=False)\n"
          ],
          "name": "stdout"
        }
      ]
    },
    {
      "cell_type": "code",
      "metadata": {
        "colab": {
          "base_uri": "https://localhost:8080/"
        },
        "id": "8BJDECcnqL2T",
        "outputId": "64d842fd-0568-4e26-bbef-1fe17594cde1"
      },
      "source": [
        "#set model with ideal hyperparameters from above\n",
        "log_all_jobs_lasso = log_all_jobs_lasso_grid.best_estimator_\n",
        "\n",
        "log_all_jobs_lasso.fit(X_train, y_train)\n",
        "\n",
        "#cross validate\n",
        "log_all_jobs_lasso_scores = cross_val_score(log_all_jobs_lasso, X_train, y_train, cv = 5)\n",
        "\n",
        "print('Accuracy Scores for the 5 folds: ', log_all_jobs_lasso_scores)\n",
        "print('Mean Cross Validation Score: {:.33f}'.format(np.mean(log_all_jobs_lasso_scores)))"
      ],
      "execution_count": null,
      "outputs": [
        {
          "output_type": "stream",
          "text": [
            "Accuracy Scores for the 5 folds:  [0.51305271 0.528744   0.47156971 0.49430037 0.49043116]\n",
            "Mean Cross Validation Score: 0.499619589082228476861757826554822\n"
          ],
          "name": "stdout"
        }
      ]
    },
    {
      "cell_type": "code",
      "metadata": {
        "colab": {
          "base_uri": "https://localhost:8080/",
          "height": 108
        },
        "id": "JDJCkTuEqL2T",
        "outputId": "9bd61a70-83d2-4fab-98e3-78528d906037"
      },
      "source": [
        "#generate predictions\n",
        "log_all_jobs_lasso_preds = log_all_jobs_lasso.predict(X_test)\n",
        "\n",
        "#more performance metrics\n",
        "log_all_jobs_lasso_rsquared_train = log_all_jobs_lasso.score(X_train, y_train)\n",
        "log_all_jobs_lasso_rsquared_test = log_all_jobs_lasso.score(X_test, y_test)\n",
        "log_all_jobs_lasso_mae = mean_absolute_error(y_test, log_all_jobs_lasso_preds)\n",
        "log_all_jobs_lasso_mse = mse(y_test, log_all_jobs_lasso_preds)\n",
        "log_all_jobs_lasso_rmse = rmse(y_test, log_all_jobs_lasso_preds)\n",
        "log_all_jobs_lasso_mape = np.mean(np.abs((y_test - log_all_jobs_lasso_preds)/y_test)*100)\n",
        "log_all_jobs_lasso_rmspe = (np.sqrt(np.mean(np.square((y_test - log_all_jobs_lasso_preds) / y_test)))) * 100\n",
        "log_all_jobs_lasso_model_name = 'All Jobs Lasso Regression Log(y)'\n",
        "\n",
        "#create easily readable display of performance metrics\n",
        "log_all_jobs_lasso_dictionary = {'Model': log_all_jobs_lasso_model_name,\n",
        "  'Training Set R Squared': log_all_jobs_lasso_rsquared_train, \n",
        "  'Test Set R Squared': log_all_jobs_lasso_rsquared_test, 'Mean Absolute Error': log_all_jobs_lasso_mae, \n",
        "  'Mean Sqaured Error': log_all_jobs_lasso_mse, 'Root Mean Squared Error': log_all_jobs_lasso_rmse,\n",
        "  'Root Mean Squared Percentage Error': log_all_jobs_lasso_rmspe,\n",
        "  'Mean Absolute Percentage Error': log_all_jobs_lasso_mape}\n",
        "\n",
        "log_all_jobs_lasso_df = pd.DataFrame(log_all_jobs_lasso_dictionary, index=[0])\n",
        "\n",
        "log_all_jobs_lasso_df"
      ],
      "execution_count": null,
      "outputs": [
        {
          "output_type": "execute_result",
          "data": {
            "text/html": [
              "<div>\n",
              "<style scoped>\n",
              "    .dataframe tbody tr th:only-of-type {\n",
              "        vertical-align: middle;\n",
              "    }\n",
              "\n",
              "    .dataframe tbody tr th {\n",
              "        vertical-align: top;\n",
              "    }\n",
              "\n",
              "    .dataframe thead th {\n",
              "        text-align: right;\n",
              "    }\n",
              "</style>\n",
              "<table border=\"1\" class=\"dataframe\">\n",
              "  <thead>\n",
              "    <tr style=\"text-align: right;\">\n",
              "      <th></th>\n",
              "      <th>Model</th>\n",
              "      <th>Training Set R Squared</th>\n",
              "      <th>Test Set R Squared</th>\n",
              "      <th>Mean Absolute Error</th>\n",
              "      <th>Mean Sqaured Error</th>\n",
              "      <th>Root Mean Squared Error</th>\n",
              "      <th>Root Mean Squared Percentage Error</th>\n",
              "      <th>Mean Absolute Percentage Error</th>\n",
              "    </tr>\n",
              "  </thead>\n",
              "  <tbody>\n",
              "    <tr>\n",
              "      <th>0</th>\n",
              "      <td>All Jobs Lasso Regression Log(y)</td>\n",
              "      <td>0.510044</td>\n",
              "      <td>0.522249</td>\n",
              "      <td>0.19021</td>\n",
              "      <td>0.061503</td>\n",
              "      <td>0.247998</td>\n",
              "      <td>2.178385</td>\n",
              "      <td>1.669189</td>\n",
              "    </tr>\n",
              "  </tbody>\n",
              "</table>\n",
              "</div>"
            ],
            "text/plain": [
              "                              Model  ...  Mean Absolute Percentage Error\n",
              "0  All Jobs Lasso Regression Log(y)  ...                        1.669189\n",
              "\n",
              "[1 rows x 8 columns]"
            ]
          },
          "metadata": {
            "tags": []
          },
          "execution_count": 52
        }
      ]
    },
    {
      "cell_type": "markdown",
      "metadata": {
        "id": "48fdTxfTqL2T"
      },
      "source": [
        "### **all_jobs_yrs_df log(y)**"
      ]
    },
    {
      "cell_type": "code",
      "metadata": {
        "colab": {
          "base_uri": "https://localhost:8080/"
        },
        "id": "RPccOTUiqL2U",
        "outputId": "3eae30b3-af6a-4bf5-9f44-388e8c249309"
      },
      "source": [
        "#set features & target\n",
        "X = all_jobs_yrs_df.drop(columns=['avg_sal', 'log_avg_sal'])\n",
        "y = all_jobs_yrs_df['log_avg_sal']\n",
        "\n",
        "#split data into training & test sets\n",
        "X_train, X_test, y_train, y_test = train_test_split(X, y, test_size = 0.2, random_state = 43)\n",
        "\n",
        "#Use grid search to find best hyperparameters\n",
        "# defining parameter range \n",
        "param_grid = {'alpha': [0.001, 0.01, 0.1, 1, 10, 100, 1000]} \n",
        "\n",
        "log_all_jobs_yrs_lasso_grid = GridSearchCV(Lasso(), param_grid)\n",
        "\n",
        "# fitting the model for grid search \n",
        "log_all_jobs_yrs_lasso_grid.fit(X_train, y_train) \n",
        "# print best parameter after tuning \n",
        "print(log_all_jobs_yrs_lasso_grid.best_params_)\n",
        "\n",
        "# print how our model looks after hyper-parameter tuning \n",
        "print(log_all_jobs_yrs_lasso_grid.best_estimator_)"
      ],
      "execution_count": null,
      "outputs": [
        {
          "output_type": "stream",
          "text": [
            "{'alpha': 0.001}\n",
            "Lasso(alpha=0.001, copy_X=True, fit_intercept=True, max_iter=1000,\n",
            "      normalize=False, positive=False, precompute=False, random_state=None,\n",
            "      selection='cyclic', tol=0.0001, warm_start=False)\n"
          ],
          "name": "stdout"
        }
      ]
    },
    {
      "cell_type": "code",
      "metadata": {
        "colab": {
          "base_uri": "https://localhost:8080/"
        },
        "id": "OvehleW4qL2U",
        "outputId": "da4bed73-4083-43fa-e622-ed28e89ee3e3"
      },
      "source": [
        "#set model with ideal hyperparameters from above\n",
        "log_all_jobs_yrs_lasso = log_all_jobs_yrs_lasso_grid.best_estimator_\n",
        "\n",
        "log_all_jobs_yrs_lasso.fit(X_train, y_train)\n",
        "\n",
        "#cross validate\n",
        "log_all_jobs_yrs_lasso_scores = cross_val_score(log_all_jobs_yrs_lasso, X_train, y_train, cv = 5)\n",
        "\n",
        "print('Accuracy Scores for the 5 folds: ', log_all_jobs_yrs_lasso_scores)\n",
        "print('Mean Cross Validation Score: {:.33f}'.format(np.mean(log_all_jobs_yrs_lasso_scores)))"
      ],
      "execution_count": null,
      "outputs": [
        {
          "output_type": "stream",
          "text": [
            "Accuracy Scores for the 5 folds:  [0.49827238 0.51385783 0.54637281 0.51545765 0.52480145]\n",
            "Mean Cross Validation Score: 0.519752424754377551074924213025952\n"
          ],
          "name": "stdout"
        }
      ]
    },
    {
      "cell_type": "code",
      "metadata": {
        "colab": {
          "base_uri": "https://localhost:8080/",
          "height": 108
        },
        "id": "JKVrv0DRqL2U",
        "outputId": "a3b01224-9ce4-4b43-dc75-1935d5bcc039"
      },
      "source": [
        "#generate predictions\n",
        "log_all_jobs_yrs_lasso_preds = log_all_jobs_yrs_lasso.predict(X_test)\n",
        "\n",
        "#more performance metrics\n",
        "log_all_jobs_yrs_lasso_rsquared_train = log_all_jobs_yrs_lasso.score(X_train, y_train)\n",
        "log_all_jobs_yrs_lasso_rsquared_test = log_all_jobs_yrs_lasso.score(X_test, y_test)\n",
        "log_all_jobs_yrs_lasso_mae = mean_absolute_error(y_test, log_all_jobs_yrs_lasso_preds)\n",
        "log_all_jobs_yrs_lasso_mse = mse(y_test, log_all_jobs_yrs_lasso_preds)\n",
        "log_all_jobs_yrs_lasso_rmse = rmse(y_test, log_all_jobs_yrs_lasso_preds)\n",
        "log_all_jobs_yrs_lasso_mape = np.mean(np.abs((y_test - log_all_jobs_yrs_lasso_preds)/y_test)*100)\n",
        "log_all_jobs_yrs_lasso_rmspe = (np.sqrt(np.mean(np.square((y_test - log_all_jobs_yrs_lasso_preds) / y_test)))) * 100\n",
        "log_all_jobs_yrs_lasso_model_name = 'All Jobs Years of Experience Lasso Regression Log(y)'\n",
        "\n",
        "#create easily readable display of performance metrics\n",
        "log_all_jobs_yrs_lasso_dictionary = {'Model': log_all_jobs_yrs_lasso_model_name,\n",
        "  'Training Set R Squared': log_all_jobs_yrs_lasso_rsquared_train, \n",
        "  'Test Set R Squared': log_all_jobs_yrs_lasso_rsquared_test, 'Mean Absolute Error': log_all_jobs_yrs_lasso_mae, \n",
        "  'Mean Sqaured Error': log_all_jobs_yrs_lasso_mse, 'Root Mean Squared Error': log_all_jobs_yrs_lasso_rmse,\n",
        "  'Root Mean Squared Percentage Error': log_all_jobs_yrs_lasso_rmspe,\n",
        "  'Mean Absolute Percentage Error': log_all_jobs_yrs_lasso_mape}\n",
        "\n",
        "log_all_jobs_yrs_lasso_df = pd.DataFrame(log_all_jobs_yrs_lasso_dictionary, index=[0])\n",
        "\n",
        "log_all_jobs_yrs_lasso_df"
      ],
      "execution_count": null,
      "outputs": [
        {
          "output_type": "execute_result",
          "data": {
            "text/html": [
              "<div>\n",
              "<style scoped>\n",
              "    .dataframe tbody tr th:only-of-type {\n",
              "        vertical-align: middle;\n",
              "    }\n",
              "\n",
              "    .dataframe tbody tr th {\n",
              "        vertical-align: top;\n",
              "    }\n",
              "\n",
              "    .dataframe thead th {\n",
              "        text-align: right;\n",
              "    }\n",
              "</style>\n",
              "<table border=\"1\" class=\"dataframe\">\n",
              "  <thead>\n",
              "    <tr style=\"text-align: right;\">\n",
              "      <th></th>\n",
              "      <th>Model</th>\n",
              "      <th>Training Set R Squared</th>\n",
              "      <th>Test Set R Squared</th>\n",
              "      <th>Mean Absolute Error</th>\n",
              "      <th>Mean Sqaured Error</th>\n",
              "      <th>Root Mean Squared Error</th>\n",
              "      <th>Root Mean Squared Percentage Error</th>\n",
              "      <th>Mean Absolute Percentage Error</th>\n",
              "    </tr>\n",
              "  </thead>\n",
              "  <tbody>\n",
              "    <tr>\n",
              "      <th>0</th>\n",
              "      <td>All Jobs Years of Experience Lasso Regression ...</td>\n",
              "      <td>0.532893</td>\n",
              "      <td>0.54408</td>\n",
              "      <td>0.188539</td>\n",
              "      <td>0.059544</td>\n",
              "      <td>0.244017</td>\n",
              "      <td>2.160719</td>\n",
              "      <td>1.662108</td>\n",
              "    </tr>\n",
              "  </tbody>\n",
              "</table>\n",
              "</div>"
            ],
            "text/plain": [
              "                                               Model  ...  Mean Absolute Percentage Error\n",
              "0  All Jobs Years of Experience Lasso Regression ...  ...                        1.662108\n",
              "\n",
              "[1 rows x 8 columns]"
            ]
          },
          "metadata": {
            "tags": []
          },
          "execution_count": 55
        }
      ]
    },
    {
      "cell_type": "markdown",
      "metadata": {
        "id": "JSJVmnSQKEsy"
      },
      "source": [
        "### **all_jobs_no_outliers_df**"
      ]
    },
    {
      "cell_type": "code",
      "metadata": {
        "colab": {
          "base_uri": "https://localhost:8080/"
        },
        "id": "2v6T6EEmKEs0",
        "outputId": "27546ec2-27e8-4544-b6a3-3cf409d0a89a"
      },
      "source": [
        "#set features & target\n",
        "X = all_jobs_no_outliers_df.drop(columns=['avg_sal', 'log_avg_sal'])\n",
        "y = all_jobs_no_outliers_df['avg_sal']\n",
        "\n",
        "#split data into training & test sets\n",
        "X_train, X_test, y_train, y_test = train_test_split(X, y, test_size = 0.2, random_state = 43)\n",
        "\n",
        "#Use grid search to find best hyperparameters\n",
        "# defining parameter range \n",
        "param_grid = {'alpha': [0.001, 0.01, 0.1, 1, 10, 100, 1000]} \n",
        "\n",
        "all_jobs_no_outliers_lasso_grid = GridSearchCV(Lasso(), param_grid)\n",
        "\n",
        "# fitting the model for grid search \n",
        "all_jobs_no_outliers_lasso_grid.fit(X_train, y_train) \n",
        "# print best parameter after tuning \n",
        "print(all_jobs_no_outliers_lasso_grid.best_params_)\n",
        "\n",
        "# print how our model looks after hyper-parameter tuning \n",
        "print(all_jobs_no_outliers_lasso_grid.best_estimator_)"
      ],
      "execution_count": null,
      "outputs": [
        {
          "output_type": "stream",
          "text": [
            "{'alpha': 10}\n",
            "Lasso(alpha=10, copy_X=True, fit_intercept=True, max_iter=1000, normalize=False,\n",
            "      positive=False, precompute=False, random_state=None, selection='cyclic',\n",
            "      tol=0.0001, warm_start=False)\n"
          ],
          "name": "stdout"
        }
      ]
    },
    {
      "cell_type": "code",
      "metadata": {
        "colab": {
          "base_uri": "https://localhost:8080/"
        },
        "id": "UGX_2pASKEs1",
        "outputId": "62598f74-43d8-49dc-8cfa-266be31f307d"
      },
      "source": [
        "#set model with ideal hyperparameters from above\n",
        "all_jobs_no_outliers_lasso = all_jobs_no_outliers_lasso_grid.best_estimator_\n",
        "\n",
        "all_jobs_no_outliers_lasso.fit(X_train, y_train)\n",
        "\n",
        "#cross validate\n",
        "all_jobs_no_outliers_lasso_scores = cross_val_score(all_jobs_no_outliers_lasso, X_train, y_train, cv = 5)\n",
        "\n",
        "print('Accuracy Scores for the 5 folds: ', all_jobs_no_outliers_lasso_scores)\n",
        "print('Mean Cross Validation Score: {:.33f}'.format(np.mean(all_jobs_no_outliers_lasso_scores)))"
      ],
      "execution_count": null,
      "outputs": [
        {
          "output_type": "stream",
          "text": [
            "Accuracy Scores for the 5 folds:  [0.53262258 0.50339221 0.52855327 0.46963311 0.51068134]\n",
            "Mean Cross Validation Score: 0.508976501583287221919249532220419\n"
          ],
          "name": "stdout"
        }
      ]
    },
    {
      "cell_type": "code",
      "metadata": {
        "colab": {
          "base_uri": "https://localhost:8080/",
          "height": 108
        },
        "id": "tPLFAymiKEs1",
        "outputId": "0a5c55e4-d2ee-4f95-bc1a-1f97b9224a23"
      },
      "source": [
        "#generate predictions\n",
        "all_jobs_no_outliers_lasso_preds = all_jobs_no_outliers_lasso.predict(X_test)\n",
        "\n",
        "#more performance metrics\n",
        "all_jobs_no_outliers_lasso_rsquared_train = all_jobs_no_outliers_lasso.score(X_train, y_train)\n",
        "all_jobs_no_outliers_lasso_rsquared_test = all_jobs_no_outliers_lasso.score(X_test, y_test)\n",
        "all_jobs_no_outliers_lasso_mae = mean_absolute_error(y_test, all_jobs_no_outliers_lasso_preds)\n",
        "all_jobs_no_outliers_lasso_mse = mse(y_test, all_jobs_no_outliers_lasso_preds)\n",
        "all_jobs_no_outliers_lasso_rmse = rmse(y_test, all_jobs_no_outliers_lasso_preds)\n",
        "all_jobs_no_outliers_lasso_mape = np.mean(np.abs((y_test - all_jobs_no_outliers_lasso_preds)/y_test)*100)\n",
        "all_jobs_no_outliers_lasso_rmspe = (np.sqrt(np.mean(np.square((y_test - all_jobs_no_outliers_lasso_preds) / y_test)))) * 100\n",
        "all_jobs_no_outliers_lasso_model_name = 'All Jobs Lasso Regression'\n",
        "\n",
        "#create easily readable display of performance metrics\n",
        "all_jobs_no_outliers_lasso_dictionary = {'Model': all_jobs_no_outliers_lasso_model_name,\n",
        "  'Training Set R Squared': all_jobs_no_outliers_lasso_rsquared_train, \n",
        "  'Test Set R Squared': all_jobs_no_outliers_lasso_rsquared_test, 'Mean Absolute Error': all_jobs_no_outliers_lasso_mae, \n",
        "  'Mean Sqaured Error': all_jobs_no_outliers_lasso_mse, 'Root Mean Squared Error': all_jobs_no_outliers_lasso_rmse,\n",
        "  'Root Mean Squared Percentage Error': all_jobs_no_outliers_lasso_rmspe,\n",
        "  'Mean Absolute Percentage Error': all_jobs_no_outliers_lasso_mape}\n",
        "\n",
        "all_jobs_no_outliers_lasso_df = pd.DataFrame(all_jobs_no_outliers_lasso_dictionary, index=[0])\n",
        "\n",
        "all_jobs_no_outliers_lasso_df"
      ],
      "execution_count": null,
      "outputs": [
        {
          "output_type": "execute_result",
          "data": {
            "text/html": [
              "<div>\n",
              "<style scoped>\n",
              "    .dataframe tbody tr th:only-of-type {\n",
              "        vertical-align: middle;\n",
              "    }\n",
              "\n",
              "    .dataframe tbody tr th {\n",
              "        vertical-align: top;\n",
              "    }\n",
              "\n",
              "    .dataframe thead th {\n",
              "        text-align: right;\n",
              "    }\n",
              "</style>\n",
              "<table border=\"1\" class=\"dataframe\">\n",
              "  <thead>\n",
              "    <tr style=\"text-align: right;\">\n",
              "      <th></th>\n",
              "      <th>Model</th>\n",
              "      <th>Training Set R Squared</th>\n",
              "      <th>Test Set R Squared</th>\n",
              "      <th>Mean Absolute Error</th>\n",
              "      <th>Mean Sqaured Error</th>\n",
              "      <th>Root Mean Squared Error</th>\n",
              "      <th>Root Mean Squared Percentage Error</th>\n",
              "      <th>Mean Absolute Percentage Error</th>\n",
              "    </tr>\n",
              "  </thead>\n",
              "  <tbody>\n",
              "    <tr>\n",
              "      <th>0</th>\n",
              "      <td>All Jobs Lasso Regression</td>\n",
              "      <td>0.52676</td>\n",
              "      <td>0.49897</td>\n",
              "      <td>17471.433328</td>\n",
              "      <td>5.165639e+08</td>\n",
              "      <td>22728.041422</td>\n",
              "      <td>27.509016</td>\n",
              "      <td>20.171853</td>\n",
              "    </tr>\n",
              "  </tbody>\n",
              "</table>\n",
              "</div>"
            ],
            "text/plain": [
              "                       Model  ...  Mean Absolute Percentage Error\n",
              "0  All Jobs Lasso Regression  ...                       20.171853\n",
              "\n",
              "[1 rows x 8 columns]"
            ]
          },
          "metadata": {
            "tags": []
          },
          "execution_count": 58
        }
      ]
    },
    {
      "cell_type": "markdown",
      "metadata": {
        "id": "-J900aL8KEs2"
      },
      "source": [
        "### **all_jobs_yrs_no_outliers_df**"
      ]
    },
    {
      "cell_type": "code",
      "metadata": {
        "colab": {
          "base_uri": "https://localhost:8080/"
        },
        "id": "cJbKC2reKEs2",
        "outputId": "c454bcf5-89b7-47d0-fd32-26f63b8ef24b"
      },
      "source": [
        "#set features & target\n",
        "X = all_jobs_yrs_no_outliers_df.drop(columns=['avg_sal', 'log_avg_sal'])\n",
        "y = all_jobs_yrs_no_outliers_df['avg_sal']\n",
        "\n",
        "#split data into training & test sets\n",
        "X_train, X_test, y_train, y_test = train_test_split(X, y, test_size = 0.2, random_state = 43)\n",
        "\n",
        "#Use grid search to find best hyperparameters\n",
        "# defining parameter range \n",
        "param_grid = {'alpha': [0.001, 0.01, 0.1, 1, 10, 100, 1000]} \n",
        "\n",
        "all_jobs_yrs_lasso_grid = GridSearchCV(Lasso(), param_grid)\n",
        "\n",
        "# fitting the model for grid search \n",
        "all_jobs_yrs_lasso_grid.fit(X_train, y_train) \n",
        "# print best parameter after tuning \n",
        "print(all_jobs_yrs_lasso_grid.best_params_)\n",
        "\n",
        "# print how our model looks after hyper-parameter tuning \n",
        "print(all_jobs_yrs_lasso_grid.best_estimator_)"
      ],
      "execution_count": null,
      "outputs": [
        {
          "output_type": "stream",
          "text": [
            "{'alpha': 10}\n",
            "Lasso(alpha=10, copy_X=True, fit_intercept=True, max_iter=1000, normalize=False,\n",
            "      positive=False, precompute=False, random_state=None, selection='cyclic',\n",
            "      tol=0.0001, warm_start=False)\n"
          ],
          "name": "stdout"
        }
      ]
    },
    {
      "cell_type": "code",
      "metadata": {
        "colab": {
          "base_uri": "https://localhost:8080/"
        },
        "id": "7LJ1mTeAKEs3",
        "outputId": "a529142d-6f1a-4863-86ff-0dd5c8652b3b"
      },
      "source": [
        "#set model with ideal hyperparameters from above\n",
        "all_jobs_yrs_lasso = all_jobs_yrs_lasso_grid.best_estimator_\n",
        "\n",
        "all_jobs_yrs_lasso.fit(X_train, y_train)\n",
        "\n",
        "#cross validate\n",
        "all_jobs_yrs_lasso_scores = cross_val_score(all_jobs_yrs_lasso, X_train, y_train, cv = 5)\n",
        "\n",
        "print('Accuracy Scores for the 5 folds: ', all_jobs_yrs_lasso_scores)\n",
        "print('Mean Cross Validation Score: {:.33f}'.format(np.mean(all_jobs_yrs_lasso_scores)))"
      ],
      "execution_count": null,
      "outputs": [
        {
          "output_type": "stream",
          "text": [
            "Accuracy Scores for the 5 folds:  [0.53736457 0.55681875 0.52199521 0.45132104 0.54560377]\n",
            "Mean Cross Validation Score: 0.522620669011675254012061486719176\n"
          ],
          "name": "stdout"
        }
      ]
    },
    {
      "cell_type": "code",
      "metadata": {
        "colab": {
          "base_uri": "https://localhost:8080/",
          "height": 108
        },
        "id": "afuB5MiNKEs3",
        "outputId": "0b2bfc1d-9b1a-436c-b948-d9d24a2486ca"
      },
      "source": [
        "#generate predictions\n",
        "all_jobs_yrs_lasso_preds = all_jobs_yrs_lasso.predict(X_test)\n",
        "\n",
        "#more performance metrics\n",
        "all_jobs_yrs_lasso_rsquared_train = all_jobs_yrs_lasso.score(X_train, y_train)\n",
        "all_jobs_yrs_lasso_rsquared_test = all_jobs_yrs_lasso.score(X_test, y_test)\n",
        "all_jobs_yrs_lasso_mae = mean_absolute_error(y_test, all_jobs_yrs_lasso_preds)\n",
        "all_jobs_yrs_lasso_mse = mse(y_test, all_jobs_yrs_lasso_preds)\n",
        "all_jobs_yrs_lasso_rmse = rmse(y_test, all_jobs_yrs_lasso_preds)\n",
        "all_jobs_yrs_lasso_mape = np.mean(np.abs((y_test - all_jobs_yrs_lasso_preds)/y_test)*100)\n",
        "all_jobs_yrs_lasso_rmspe = (np.sqrt(np.mean(np.square((y_test - all_jobs_yrs_lasso_preds) / y_test)))) * 100\n",
        "all_jobs_yrs_lasso_model_name = 'All Jobs Years of Experience w/o Outliers Lasso Regression'\n",
        "\n",
        "#create easily readable display of performance metrics\n",
        "all_jobs_yrs_lasso_dictionary = {'Model': all_jobs_yrs_lasso_model_name,\n",
        "  'Training Set R Squared': all_jobs_yrs_lasso_rsquared_train, \n",
        "  'Test Set R Squared': all_jobs_yrs_lasso_rsquared_test, 'Mean Absolute Error': all_jobs_yrs_lasso_mae, \n",
        "  'Mean Sqaured Error': all_jobs_yrs_lasso_mse, 'Root Mean Squared Error': all_jobs_yrs_lasso_rmse,\n",
        "  'Root Mean Squared Percentage Error': all_jobs_yrs_lasso_rmspe,\n",
        "  'Mean Absolute Percentage Error': all_jobs_yrs_lasso_mape}\n",
        "\n",
        "all_jobs_yrs_no_outliers_lasso_df = pd.DataFrame(all_jobs_yrs_lasso_dictionary, index=[0])\n",
        "\n",
        "all_jobs_yrs_no_outliers_lasso_df"
      ],
      "execution_count": null,
      "outputs": [
        {
          "output_type": "execute_result",
          "data": {
            "text/html": [
              "<div>\n",
              "<style scoped>\n",
              "    .dataframe tbody tr th:only-of-type {\n",
              "        vertical-align: middle;\n",
              "    }\n",
              "\n",
              "    .dataframe tbody tr th {\n",
              "        vertical-align: top;\n",
              "    }\n",
              "\n",
              "    .dataframe thead th {\n",
              "        text-align: right;\n",
              "    }\n",
              "</style>\n",
              "<table border=\"1\" class=\"dataframe\">\n",
              "  <thead>\n",
              "    <tr style=\"text-align: right;\">\n",
              "      <th></th>\n",
              "      <th>Model</th>\n",
              "      <th>Training Set R Squared</th>\n",
              "      <th>Test Set R Squared</th>\n",
              "      <th>Mean Absolute Error</th>\n",
              "      <th>Mean Sqaured Error</th>\n",
              "      <th>Root Mean Squared Error</th>\n",
              "      <th>Root Mean Squared Percentage Error</th>\n",
              "      <th>Mean Absolute Percentage Error</th>\n",
              "    </tr>\n",
              "  </thead>\n",
              "  <tbody>\n",
              "    <tr>\n",
              "      <th>0</th>\n",
              "      <td>All Jobs Years of Experience w/o Outliers Lass...</td>\n",
              "      <td>0.549205</td>\n",
              "      <td>0.508277</td>\n",
              "      <td>16724.840383</td>\n",
              "      <td>4.685221e+08</td>\n",
              "      <td>21645.370652</td>\n",
              "      <td>27.37789</td>\n",
              "      <td>19.31286</td>\n",
              "    </tr>\n",
              "  </tbody>\n",
              "</table>\n",
              "</div>"
            ],
            "text/plain": [
              "                                               Model  ...  Mean Absolute Percentage Error\n",
              "0  All Jobs Years of Experience w/o Outliers Lass...  ...                        19.31286\n",
              "\n",
              "[1 rows x 8 columns]"
            ]
          },
          "metadata": {
            "tags": []
          },
          "execution_count": 61
        }
      ]
    },
    {
      "cell_type": "markdown",
      "metadata": {
        "id": "9eWhywmnKEs3"
      },
      "source": [
        "### **all_jobs_no_outliers_df  log(y)**"
      ]
    },
    {
      "cell_type": "code",
      "metadata": {
        "colab": {
          "base_uri": "https://localhost:8080/"
        },
        "id": "HKDHDNP_KEs4",
        "outputId": "f70727ad-7b95-4345-f660-8c34f5d4e3da"
      },
      "source": [
        "#set features & target\n",
        "X = all_jobs_no_outliers_df.drop(columns=['avg_sal', 'log_avg_sal'])\n",
        "y = all_jobs_no_outliers_df['log_avg_sal']\n",
        "\n",
        "#split data into training & test sets\n",
        "X_train, X_test, y_train, y_test = train_test_split(X, y, test_size = 0.2, random_state = 43)\n",
        "\n",
        "#Use grid search to find best hyperparameters\n",
        "# defining parameter range \n",
        "param_grid = {'alpha': [0.001, 0.01, 0.1, 1, 10, 100, 1000]} \n",
        "\n",
        "log_all_jobs_no_outliers_lasso_grid = GridSearchCV(Lasso(), param_grid)\n",
        "\n",
        "# fitting the model for grid search \n",
        "log_all_jobs_no_outliers_lasso_grid.fit(X_train, y_train) \n",
        "# print best parameter after tuning \n",
        "print(log_all_jobs_no_outliers_lasso_grid.best_params_)\n",
        "\n",
        "# print how our model looks after hyper-parameter tuning \n",
        "print(log_all_jobs_no_outliers_lasso_grid.best_estimator_)"
      ],
      "execution_count": null,
      "outputs": [
        {
          "output_type": "stream",
          "text": [
            "{'alpha': 0.001}\n",
            "Lasso(alpha=0.001, copy_X=True, fit_intercept=True, max_iter=1000,\n",
            "      normalize=False, positive=False, precompute=False, random_state=None,\n",
            "      selection='cyclic', tol=0.0001, warm_start=False)\n"
          ],
          "name": "stdout"
        }
      ]
    },
    {
      "cell_type": "code",
      "metadata": {
        "colab": {
          "base_uri": "https://localhost:8080/"
        },
        "id": "jWbqHZslKEs4",
        "outputId": "652963d2-649c-40b5-816e-54e6acd454b2"
      },
      "source": [
        "#set model with ideal hyperparameters from above\n",
        "log_all_jobs_no_outliers_lasso = log_all_jobs_no_outliers_lasso_grid.best_estimator_\n",
        "\n",
        "log_all_jobs_no_outliers_lasso.fit(X_train, y_train)\n",
        "\n",
        "#cross validate\n",
        "log_all_jobs_no_outliers_lasso_scores = cross_val_score(log_all_jobs_no_outliers_lasso, X_train, y_train, cv = 5)\n",
        "\n",
        "print('Accuracy Scores for the 5 folds: ', log_all_jobs_no_outliers_lasso_scores)\n",
        "print('Mean Cross Validation Score: {:.33f}'.format(np.mean(log_all_jobs_no_outliers_lasso_scores)))"
      ],
      "execution_count": null,
      "outputs": [
        {
          "output_type": "stream",
          "text": [
            "Accuracy Scores for the 5 folds:  [0.52141464 0.49074811 0.53097685 0.47502659 0.49889392]\n",
            "Mean Cross Validation Score: 0.503412022922746782427338985144161\n"
          ],
          "name": "stdout"
        }
      ]
    },
    {
      "cell_type": "code",
      "metadata": {
        "colab": {
          "base_uri": "https://localhost:8080/",
          "height": 108
        },
        "id": "opqmZxCyKEs4",
        "outputId": "5602f140-e71b-47a4-f5b4-72d22481615e"
      },
      "source": [
        "#generate predictions\n",
        "log_all_jobs_no_outliers_lasso_preds = log_all_jobs_no_outliers_lasso.predict(X_test)\n",
        "\n",
        "#more performance metrics\n",
        "log_all_jobs_no_outliers_lasso_rsquared_train = log_all_jobs_no_outliers_lasso.score(X_train, y_train)\n",
        "log_all_jobs_no_outliers_lasso_rsquared_test = log_all_jobs_no_outliers_lasso.score(X_test, y_test)\n",
        "log_all_jobs_no_outliers_lasso_mae = mean_absolute_error(y_test, log_all_jobs_no_outliers_lasso_preds)\n",
        "log_all_jobs_no_outliers_lasso_mse = mse(y_test, log_all_jobs_no_outliers_lasso_preds)\n",
        "log_all_jobs_no_outliers_lasso_rmse = rmse(y_test, log_all_jobs_no_outliers_lasso_preds)\n",
        "log_all_jobs_no_outliers_lasso_mape = np.mean(np.abs((y_test - log_all_jobs_no_outliers_lasso_preds)/y_test)*100)\n",
        "log_all_jobs_no_outliers_lasso_rmspe = (np.sqrt(np.mean(np.square((y_test - log_all_jobs_no_outliers_lasso_preds) / y_test)))) * 100\n",
        "log_all_jobs_no_outliers_lasso_model_name = 'All Jobs w/o Outliers Lasso Regression Log(y)'\n",
        "\n",
        "#create easily readable display of performance metrics\n",
        "log_all_jobs_no_outliers_lasso_dictionary = {'Model': log_all_jobs_no_outliers_lasso_model_name,\n",
        "  'Training Set R Squared': log_all_jobs_no_outliers_lasso_rsquared_train, \n",
        "  'Test Set R Squared': log_all_jobs_no_outliers_lasso_rsquared_test, 'Mean Absolute Error': log_all_jobs_no_outliers_lasso_mae, \n",
        "  'Mean Sqaured Error': log_all_jobs_no_outliers_lasso_mse, 'Root Mean Squared Error': log_all_jobs_no_outliers_lasso_rmse,\n",
        "  'Root Mean Squared Percentage Error': log_all_jobs_no_outliers_lasso_rmspe,\n",
        "  'Mean Absolute Percentage Error': log_all_jobs_no_outliers_lasso_mape}\n",
        "\n",
        "log_all_jobs_no_outliers_lasso_df = pd.DataFrame(log_all_jobs_no_outliers_lasso_dictionary, index=[0])\n",
        "\n",
        "log_all_jobs_no_outliers_lasso_df"
      ],
      "execution_count": null,
      "outputs": [
        {
          "output_type": "execute_result",
          "data": {
            "text/html": [
              "<div>\n",
              "<style scoped>\n",
              "    .dataframe tbody tr th:only-of-type {\n",
              "        vertical-align: middle;\n",
              "    }\n",
              "\n",
              "    .dataframe tbody tr th {\n",
              "        vertical-align: top;\n",
              "    }\n",
              "\n",
              "    .dataframe thead th {\n",
              "        text-align: right;\n",
              "    }\n",
              "</style>\n",
              "<table border=\"1\" class=\"dataframe\">\n",
              "  <thead>\n",
              "    <tr style=\"text-align: right;\">\n",
              "      <th></th>\n",
              "      <th>Model</th>\n",
              "      <th>Training Set R Squared</th>\n",
              "      <th>Test Set R Squared</th>\n",
              "      <th>Mean Absolute Error</th>\n",
              "      <th>Mean Sqaured Error</th>\n",
              "      <th>Root Mean Squared Error</th>\n",
              "      <th>Root Mean Squared Percentage Error</th>\n",
              "      <th>Mean Absolute Percentage Error</th>\n",
              "    </tr>\n",
              "  </thead>\n",
              "  <tbody>\n",
              "    <tr>\n",
              "      <th>0</th>\n",
              "      <td>All Jobs w/o Outliers Lasso Regression Log(y)</td>\n",
              "      <td>0.512973</td>\n",
              "      <td>0.498921</td>\n",
              "      <td>0.189787</td>\n",
              "      <td>0.059331</td>\n",
              "      <td>0.243579</td>\n",
              "      <td>2.149118</td>\n",
              "      <td>1.669764</td>\n",
              "    </tr>\n",
              "  </tbody>\n",
              "</table>\n",
              "</div>"
            ],
            "text/plain": [
              "                                           Model  ...  Mean Absolute Percentage Error\n",
              "0  All Jobs w/o Outliers Lasso Regression Log(y)  ...                        1.669764\n",
              "\n",
              "[1 rows x 8 columns]"
            ]
          },
          "metadata": {
            "tags": []
          },
          "execution_count": 64
        }
      ]
    },
    {
      "cell_type": "markdown",
      "metadata": {
        "id": "zB8hw0sMKEs5"
      },
      "source": [
        "### **all_jobs_yrs_no_outliers_df log(y)**"
      ]
    },
    {
      "cell_type": "code",
      "metadata": {
        "colab": {
          "base_uri": "https://localhost:8080/"
        },
        "id": "jtaugZ7VKEs5",
        "outputId": "9d816d50-22ee-4d36-d332-4647353e75a9"
      },
      "source": [
        "#set features & target\n",
        "X = all_jobs_yrs_no_outliers_df.drop(columns=['avg_sal', 'log_avg_sal'])\n",
        "y = all_jobs_yrs_no_outliers_df['log_avg_sal']\n",
        "\n",
        "#split data into training & test sets\n",
        "X_train, X_test, y_train, y_test = train_test_split(X, y, test_size = 0.2, random_state = 43)\n",
        "\n",
        "#Use grid search to find best hyperparameters\n",
        "# defining parameter range \n",
        "param_grid = {'alpha': [0.001, 0.01, 0.1, 1, 10, 100, 1000]} \n",
        "\n",
        "log_all_jobs_yrs_no_outliers_lasso_grid = GridSearchCV(Lasso(), param_grid)\n",
        "\n",
        "# fitting the model for grid search \n",
        "log_all_jobs_yrs_no_outliers_lasso_grid.fit(X_train, y_train) \n",
        "# print best parameter after tuning \n",
        "print(log_all_jobs_yrs_no_outliers_lasso_grid.best_params_)\n",
        "\n",
        "# print how our model looks after hyper-parameter tuning \n",
        "print(log_all_jobs_yrs_no_outliers_lasso_grid.best_estimator_)"
      ],
      "execution_count": null,
      "outputs": [
        {
          "output_type": "stream",
          "text": [
            "{'alpha': 0.001}\n",
            "Lasso(alpha=0.001, copy_X=True, fit_intercept=True, max_iter=1000,\n",
            "      normalize=False, positive=False, precompute=False, random_state=None,\n",
            "      selection='cyclic', tol=0.0001, warm_start=False)\n"
          ],
          "name": "stdout"
        }
      ]
    },
    {
      "cell_type": "code",
      "metadata": {
        "colab": {
          "base_uri": "https://localhost:8080/"
        },
        "id": "MYXbWWGLKEs5",
        "outputId": "9d3518c9-f99e-43dd-e222-39304fa88f81"
      },
      "source": [
        "#set model with ideal hyperparameters from above\n",
        "log_all_jobs_yrs_no_outliers_lasso = log_all_jobs_yrs_no_outliers_lasso_grid.best_estimator_\n",
        "\n",
        "log_all_jobs_yrs_no_outliers_lasso.fit(X_train, y_train)\n",
        "\n",
        "#cross validate\n",
        "log_all_jobs_yrs_no_outliers_lasso_scores = cross_val_score(log_all_jobs_yrs_no_outliers_lasso, X_train, y_train, cv = 5)\n",
        "\n",
        "print('Accuracy Scores for the 5 folds: ', log_all_jobs_yrs_no_outliers_lasso_scores)\n",
        "print('Mean Cross Validation Score: {:.33f}'.format(np.mean(log_all_jobs_yrs_no_outliers_lasso_scores)))"
      ],
      "execution_count": null,
      "outputs": [
        {
          "output_type": "stream",
          "text": [
            "Accuracy Scores for the 5 folds:  [0.54055202 0.56238512 0.50885997 0.44512994 0.53104333]\n",
            "Mean Cross Validation Score: 0.517594077149434395046512236149283\n"
          ],
          "name": "stdout"
        }
      ]
    },
    {
      "cell_type": "code",
      "metadata": {
        "colab": {
          "base_uri": "https://localhost:8080/",
          "height": 108
        },
        "id": "Ja_YQtIMKEs5",
        "outputId": "a0c9ce13-7309-4dfa-91ef-bca4f1d6b208"
      },
      "source": [
        "#generate predictions\n",
        "log_all_jobs_yrs_no_outliers_lasso_preds = log_all_jobs_yrs_no_outliers_lasso.predict(X_test)\n",
        "\n",
        "#more performance metrics\n",
        "log_all_jobs_yrs_no_outliers_lasso_rsquared_train = log_all_jobs_yrs_no_outliers_lasso.score(X_train, y_train)\n",
        "log_all_jobs_yrs_no_outliers_lasso_rsquared_test = log_all_jobs_yrs_no_outliers_lasso.score(X_test, y_test)\n",
        "log_all_jobs_yrs_no_outliers_lasso_mae = mean_absolute_error(y_test, log_all_jobs_yrs_no_outliers_lasso_preds)\n",
        "log_all_jobs_yrs_no_outliers_lasso_mse = mse(y_test, log_all_jobs_yrs_no_outliers_lasso_preds)\n",
        "log_all_jobs_yrs_no_outliers_lasso_rmse = rmse(y_test, log_all_jobs_yrs_no_outliers_lasso_preds)\n",
        "log_all_jobs_yrs_no_outliers_lasso_mape = np.mean(np.abs((y_test - log_all_jobs_yrs_no_outliers_lasso_preds)/y_test)*100)\n",
        "log_all_jobs_yrs_no_outliers_lasso_rmspe = (np.sqrt(np.mean(np.square((y_test - log_all_jobs_yrs_no_outliers_lasso_preds) / y_test)))) * 100\n",
        "log_all_jobs_yrs_no_outliers_lasso_model_name = 'All Jobs Years of Experience w/o Outliers Lasso Regression Log(y)'\n",
        "\n",
        "#create easily readable display of performance metrics\n",
        "log_all_jobs_yrs_no_outliers_lasso_dictionary = {'Model': log_all_jobs_yrs_no_outliers_lasso_model_name,\n",
        "  'Training Set R Squared': log_all_jobs_yrs_no_outliers_lasso_rsquared_train, \n",
        "  'Test Set R Squared': log_all_jobs_yrs_no_outliers_lasso_rsquared_test, 'Mean Absolute Error': log_all_jobs_yrs_no_outliers_lasso_mae, \n",
        "  'Mean Sqaured Error': log_all_jobs_yrs_no_outliers_lasso_mse, 'Root Mean Squared Error': log_all_jobs_yrs_no_outliers_lasso_rmse,\n",
        "  'Root Mean Squared Percentage Error': log_all_jobs_yrs_no_outliers_lasso_rmspe,\n",
        "  'Mean Absolute Percentage Error': log_all_jobs_yrs_no_outliers_lasso_mape}\n",
        "\n",
        "log_all_jobs_yrs_no_outliers_lasso_df = pd.DataFrame(log_all_jobs_yrs_no_outliers_lasso_dictionary, index=[0])\n",
        "\n",
        "log_all_jobs_yrs_no_outliers_lasso_df"
      ],
      "execution_count": null,
      "outputs": [
        {
          "output_type": "execute_result",
          "data": {
            "text/html": [
              "<div>\n",
              "<style scoped>\n",
              "    .dataframe tbody tr th:only-of-type {\n",
              "        vertical-align: middle;\n",
              "    }\n",
              "\n",
              "    .dataframe tbody tr th {\n",
              "        vertical-align: top;\n",
              "    }\n",
              "\n",
              "    .dataframe thead th {\n",
              "        text-align: right;\n",
              "    }\n",
              "</style>\n",
              "<table border=\"1\" class=\"dataframe\">\n",
              "  <thead>\n",
              "    <tr style=\"text-align: right;\">\n",
              "      <th></th>\n",
              "      <th>Model</th>\n",
              "      <th>Training Set R Squared</th>\n",
              "      <th>Test Set R Squared</th>\n",
              "      <th>Mean Absolute Error</th>\n",
              "      <th>Mean Sqaured Error</th>\n",
              "      <th>Root Mean Squared Error</th>\n",
              "      <th>Root Mean Squared Percentage Error</th>\n",
              "      <th>Mean Absolute Percentage Error</th>\n",
              "    </tr>\n",
              "  </thead>\n",
              "  <tbody>\n",
              "    <tr>\n",
              "      <th>0</th>\n",
              "      <td>All Jobs Years of Experience w/o Outliers Lass...</td>\n",
              "      <td>0.534202</td>\n",
              "      <td>0.506531</td>\n",
              "      <td>0.181806</td>\n",
              "      <td>0.054316</td>\n",
              "      <td>0.233059</td>\n",
              "      <td>2.059026</td>\n",
              "      <td>1.598791</td>\n",
              "    </tr>\n",
              "  </tbody>\n",
              "</table>\n",
              "</div>"
            ],
            "text/plain": [
              "                                               Model  ...  Mean Absolute Percentage Error\n",
              "0  All Jobs Years of Experience w/o Outliers Lass...  ...                        1.598791\n",
              "\n",
              "[1 rows x 8 columns]"
            ]
          },
          "metadata": {
            "tags": []
          },
          "execution_count": 67
        }
      ]
    },
    {
      "cell_type": "markdown",
      "metadata": {
        "id": "8-_bt-OoDtka"
      },
      "source": [
        "## **ElasticNet Regression**"
      ]
    },
    {
      "cell_type": "markdown",
      "metadata": {
        "id": "0jNNJU-vDtkb"
      },
      "source": [
        "### **all_jobs_df**"
      ]
    },
    {
      "cell_type": "code",
      "metadata": {
        "colab": {
          "base_uri": "https://localhost:8080/"
        },
        "id": "kVdro0pYDtkc",
        "outputId": "ef7a08c4-cd3e-4708-f2c3-a0d4bb59a3f9"
      },
      "source": [
        "#set features & target\n",
        "X = all_jobs_df.drop(columns=['avg_sal', 'log_avg_sal'])\n",
        "y = all_jobs_df['avg_sal']\n",
        "\n",
        "#split data into training & test sets\n",
        "X_train, X_test, y_train, y_test = train_test_split(X, y, test_size = 0.2, random_state = 43)\n",
        "\n",
        "#Use grid search to find best hyperparameters\n",
        "# defining parameter range \n",
        "param_grid = {'alpha': [0.001, 0.01, 0.1, 1, 10, 100, 1000],  \n",
        "              'l1_ratio': [0, 0.1, 0.2, 0.3, 0.4, 0.5, 0.6, 0.7, 0.8, 0.9, 1]} \n",
        "\n",
        "all_jobs_enet_grid = GridSearchCV(ElasticNet(), param_grid, scoring='r2', \n",
        "                                    verbose=1, n_jobs=-1)\n",
        "\n",
        "# fitting the model for grid search \n",
        "all_jobs_enet_grid.fit(X_train, y_train) \n",
        "# print best parameter after tuning \n",
        "print(all_jobs_enet_grid.best_params_)\n",
        "\n",
        "# print how our model looks after hyper-parameter tuning \n",
        "print(all_jobs_enet_grid.best_estimator_)"
      ],
      "execution_count": null,
      "outputs": [
        {
          "output_type": "stream",
          "text": [
            "Fitting 5 folds for each of 77 candidates, totalling 385 fits\n"
          ],
          "name": "stdout"
        },
        {
          "output_type": "stream",
          "text": [
            "[Parallel(n_jobs=-1)]: Using backend LokyBackend with 2 concurrent workers.\n",
            "[Parallel(n_jobs=-1)]: Done 104 tasks      | elapsed:    6.9s\n"
          ],
          "name": "stderr"
        },
        {
          "output_type": "stream",
          "text": [
            "{'alpha': 100, 'l1_ratio': 1}\n",
            "ElasticNet(alpha=100, copy_X=True, fit_intercept=True, l1_ratio=1,\n",
            "           max_iter=1000, normalize=False, positive=False, precompute=False,\n",
            "           random_state=None, selection='cyclic', tol=0.0001, warm_start=False)\n"
          ],
          "name": "stdout"
        },
        {
          "output_type": "stream",
          "text": [
            "[Parallel(n_jobs=-1)]: Done 385 out of 385 | elapsed:   18.0s finished\n"
          ],
          "name": "stderr"
        }
      ]
    },
    {
      "cell_type": "code",
      "metadata": {
        "colab": {
          "base_uri": "https://localhost:8080/"
        },
        "id": "xgPrwWteDtkb",
        "outputId": "bdb5ea29-f728-48bb-ea6a-594ea0d2a314"
      },
      "source": [
        "#set model with ideal hyperparameters from above\n",
        "all_jobs_enet = all_jobs_enet_grid.best_estimator_\n",
        "\n",
        "all_jobs_enet.fit(X_train, y_train)\n",
        "\n",
        "#cross validate\n",
        "all_jobs_enet_scores = cross_val_score(all_jobs_enet, X_train, y_train, cv = 5)\n",
        "\n",
        "print('Accuracy Scores for the 5 folds: ', all_jobs_enet_scores)\n",
        "print('Mean Cross Validation Score: {:.33f}'.format(np.mean(all_jobs_enet_scores)))"
      ],
      "execution_count": null,
      "outputs": [
        {
          "output_type": "stream",
          "text": [
            "Accuracy Scores for the 5 folds:  [0.50767393 0.51889165 0.46802211 0.45027722 0.4749876 ]\n",
            "Mean Cross Validation Score: 0.483970503253159045620179767865920\n"
          ],
          "name": "stdout"
        }
      ]
    },
    {
      "cell_type": "code",
      "metadata": {
        "colab": {
          "base_uri": "https://localhost:8080/",
          "height": 108
        },
        "id": "RWNAeKSXzKye",
        "outputId": "3e1a100b-2eeb-4e8d-8fcf-72cdbd95a742"
      },
      "source": [
        "#generate predictions\n",
        "all_jobs_enet_preds = all_jobs_enet.predict(X_test)\n",
        "\n",
        "#more performance metrics\n",
        "all_jobs_enet_rsquared_train = all_jobs_enet.score(X_train, y_train)\n",
        "all_jobs_enet_rsquared_test = all_jobs_enet.score(X_test, y_test)\n",
        "all_jobs_enet_mae = mean_absolute_error(y_test, all_jobs_enet_preds)\n",
        "all_jobs_enet_mse = mse(y_test, all_jobs_enet_preds)\n",
        "all_jobs_enet_rmse = rmse(y_test, all_jobs_enet_preds)\n",
        "all_jobs_enet_mape = np.mean(np.abs((y_test - all_jobs_enet_preds)/y_test)*100)\n",
        "all_jobs_enet_rmspe = (np.sqrt(np.mean(np.square((y_test - all_jobs_enet_preds) / y_test)))) * 100\n",
        "all_jobs_enet_model_name = 'All Jobs Elastic Net Regression'\n",
        "\n",
        "#create easily readable display of performance metrics\n",
        "all_jobs_enet_dictionary = {'Model': all_jobs_enet_model_name,\n",
        "  'Training Set R Squared': all_jobs_enet_rsquared_train, \n",
        "  'Test Set R Squared': all_jobs_enet_rsquared_test, 'Mean Absolute Error': all_jobs_enet_mae, \n",
        "  'Mean Sqaured Error': all_jobs_enet_mse, 'Root Mean Squared Error': all_jobs_enet_rmse,\n",
        "  'Root Mean Squared Percentage Error': all_jobs_enet_rmspe,\n",
        "  'Mean Absolute Percentage Error': all_jobs_enet_mape}\n",
        "\n",
        "all_jobs_enet_df = pd.DataFrame(all_jobs_enet_dictionary, index=[0])\n",
        "\n",
        "all_jobs_enet_df"
      ],
      "execution_count": null,
      "outputs": [
        {
          "output_type": "execute_result",
          "data": {
            "text/html": [
              "<div>\n",
              "<style scoped>\n",
              "    .dataframe tbody tr th:only-of-type {\n",
              "        vertical-align: middle;\n",
              "    }\n",
              "\n",
              "    .dataframe tbody tr th {\n",
              "        vertical-align: top;\n",
              "    }\n",
              "\n",
              "    .dataframe thead th {\n",
              "        text-align: right;\n",
              "    }\n",
              "</style>\n",
              "<table border=\"1\" class=\"dataframe\">\n",
              "  <thead>\n",
              "    <tr style=\"text-align: right;\">\n",
              "      <th></th>\n",
              "      <th>Model</th>\n",
              "      <th>Training Set R Squared</th>\n",
              "      <th>Test Set R Squared</th>\n",
              "      <th>Mean Absolute Error</th>\n",
              "      <th>Mean Sqaured Error</th>\n",
              "      <th>Root Mean Squared Error</th>\n",
              "      <th>Root Mean Squared Percentage Error</th>\n",
              "      <th>Mean Absolute Percentage Error</th>\n",
              "    </tr>\n",
              "  </thead>\n",
              "  <tbody>\n",
              "    <tr>\n",
              "      <th>0</th>\n",
              "      <td>All Jobs Elastic Net Regression</td>\n",
              "      <td>0.494348</td>\n",
              "      <td>0.509676</td>\n",
              "      <td>18087.885487</td>\n",
              "      <td>5.956188e+08</td>\n",
              "      <td>24405.302526</td>\n",
              "      <td>27.80911</td>\n",
              "      <td>20.215122</td>\n",
              "    </tr>\n",
              "  </tbody>\n",
              "</table>\n",
              "</div>"
            ],
            "text/plain": [
              "                             Model  ...  Mean Absolute Percentage Error\n",
              "0  All Jobs Elastic Net Regression  ...                       20.215122\n",
              "\n",
              "[1 rows x 8 columns]"
            ]
          },
          "metadata": {
            "tags": []
          },
          "execution_count": 70
        }
      ]
    },
    {
      "cell_type": "markdown",
      "metadata": {
        "id": "8QjQ65aeDtkd"
      },
      "source": [
        "### **all_jobs_yrs_df**"
      ]
    },
    {
      "cell_type": "code",
      "metadata": {
        "colab": {
          "base_uri": "https://localhost:8080/"
        },
        "id": "BdB12u0w1qg9",
        "outputId": "c68ed2da-4c8b-4c72-ffdf-452503157cf6"
      },
      "source": [
        "#set features & target\n",
        "X= all_jobs_yrs_df.drop(columns=['avg_sal', 'log_avg_sal'])\n",
        "y = all_jobs_yrs_df['avg_sal']\n",
        "\n",
        "#split data into training & test sets\n",
        "X_train, X_test, y_train, y_test = train_test_split(X, y, test_size = 0.2, random_state = 43)\n",
        "\n",
        "#Use grid search to find best hyperparameters\n",
        "# defining parameter range \n",
        "param_grid = {'alpha': [0.001, 0.01, 0.1, 1, 10, 100, 1000],  \n",
        "              'l1_ratio': [0, 0.1, 0.2, 0.3, 0.4, 0.5, 0.6, 0.7, 0.8, 0.9, 1]} \n",
        "\n",
        "all_jobs_yrs_enet_grid = GridSearchCV(ElasticNet(), param_grid, scoring='r2', \n",
        "                                    verbose=1, n_jobs=-1)\n",
        "\n",
        "# fitting the model for grid search \n",
        "all_jobs_yrs_enet_grid.fit(X_train, y_train) \n",
        "# print best parameter after tuning \n",
        "print(all_jobs_yrs_enet_grid.best_params_)\n",
        "\n",
        "# print how our model looks after hyper-parameter tuning \n",
        "print(all_jobs_yrs_enet_grid.best_estimator_)"
      ],
      "execution_count": null,
      "outputs": [
        {
          "output_type": "stream",
          "text": [
            "Fitting 5 folds for each of 77 candidates, totalling 385 fits\n"
          ],
          "name": "stdout"
        },
        {
          "output_type": "stream",
          "text": [
            "[Parallel(n_jobs=-1)]: Using backend LokyBackend with 2 concurrent workers.\n",
            "[Parallel(n_jobs=-1)]: Done 110 tasks      | elapsed:    4.9s\n"
          ],
          "name": "stderr"
        },
        {
          "output_type": "stream",
          "text": [
            "{'alpha': 0.01, 'l1_ratio': 0.5}\n",
            "ElasticNet(alpha=0.01, copy_X=True, fit_intercept=True, l1_ratio=0.5,\n",
            "           max_iter=1000, normalize=False, positive=False, precompute=False,\n",
            "           random_state=None, selection='cyclic', tol=0.0001, warm_start=False)\n"
          ],
          "name": "stdout"
        },
        {
          "output_type": "stream",
          "text": [
            "[Parallel(n_jobs=-1)]: Done 385 out of 385 | elapsed:   14.2s finished\n"
          ],
          "name": "stderr"
        }
      ]
    },
    {
      "cell_type": "code",
      "metadata": {
        "colab": {
          "base_uri": "https://localhost:8080/"
        },
        "id": "aUfbMuZ11qg-",
        "outputId": "85d787b4-560e-4d06-e4d5-cb270d6ee334"
      },
      "source": [
        "#set model with ideal hyperparameters from above\n",
        "all_jobs_yrs_enet = all_jobs_yrs_enet_grid.best_estimator_\n",
        "\n",
        "all_jobs_yrs_enet.fit(X_train, y_train)\n",
        "\n",
        "#cross validate\n",
        "all_jobs_yrs_enet_scores = cross_val_score(all_jobs_yrs_enet, X_train, y_train, cv = 5)\n",
        "\n",
        "print('Accuracy Scores for the 5 folds: ', all_jobs_yrs_enet_scores)\n",
        "print('Mean Cross Validation Score: {:.33f}'.format(np.mean(all_jobs_yrs_enet_scores)))"
      ],
      "execution_count": null,
      "outputs": [
        {
          "output_type": "stream",
          "text": [
            "Accuracy Scores for the 5 folds:  [0.48092761 0.49979286 0.55928231 0.48679024 0.52268   ]\n",
            "Mean Cross Validation Score: 0.509894604829849051874646193027729\n"
          ],
          "name": "stdout"
        }
      ]
    },
    {
      "cell_type": "code",
      "metadata": {
        "colab": {
          "base_uri": "https://localhost:8080/",
          "height": 108
        },
        "id": "ombDEmTz1qg-",
        "outputId": "f7fb4c77-085a-45e5-bb5b-ffdd263a0a2b"
      },
      "source": [
        "#generate predictions\n",
        "all_jobs_yrs_enet_preds = all_jobs_yrs_enet.predict(X_test)\n",
        "\n",
        "#more performance metrics\n",
        "all_jobs_yrs_enet_rsquared_train = all_jobs_yrs_enet.score(X_train, y_train)\n",
        "all_jobs_yrs_enet_rsquared_test = all_jobs_yrs_enet.score(X_test, y_test)\n",
        "all_jobs_yrs_enet_mae = mean_absolute_error(y_test, all_jobs_yrs_enet_preds)\n",
        "all_jobs_yrs_enet_mse = mse(y_test, all_jobs_yrs_enet_preds)\n",
        "all_jobs_yrs_enet_rmse = rmse(y_test, all_jobs_yrs_enet_preds)\n",
        "all_jobs_yrs_enet_mape = np.mean(np.abs((y_test - all_jobs_yrs_enet_preds)/y_test)*100)\n",
        "all_jobs_yrs_enet_rmspe = (np.sqrt(np.mean(np.square((y_test - all_jobs_yrs_enet_preds) / y_test)))) * 100\n",
        "all_jobs_yrs_enet_model_name = 'All Jobs Years of Experience Elastic Net Regression'\n",
        "\n",
        "#create easily readable display of performance metrics\n",
        "all_jobs_yrs_enet_dictionary = {'Model': all_jobs_yrs_enet_model_name,\n",
        "  'Training Set R Squared': all_jobs_yrs_enet_rsquared_train, \n",
        "  'Test Set R Squared': all_jobs_yrs_enet_rsquared_test, 'Mean Absolute Error': all_jobs_yrs_enet_mae, \n",
        "  'Mean Sqaured Error': all_jobs_yrs_enet_mse, 'Root Mean Squared Error': all_jobs_yrs_enet_rmse,\n",
        "  'Root Mean Squared Percentage Error': all_jobs_yrs_enet_rmspe,\n",
        "  'Mean Absolute Percentage Error': all_jobs_yrs_enet_mape}\n",
        "\n",
        "all_jobs_yrs_enet_df = pd.DataFrame(all_jobs_yrs_enet_dictionary, index=[0])\n",
        "\n",
        "all_jobs_yrs_enet_df"
      ],
      "execution_count": null,
      "outputs": [
        {
          "output_type": "execute_result",
          "data": {
            "text/html": [
              "<div>\n",
              "<style scoped>\n",
              "    .dataframe tbody tr th:only-of-type {\n",
              "        vertical-align: middle;\n",
              "    }\n",
              "\n",
              "    .dataframe tbody tr th {\n",
              "        vertical-align: top;\n",
              "    }\n",
              "\n",
              "    .dataframe thead th {\n",
              "        text-align: right;\n",
              "    }\n",
              "</style>\n",
              "<table border=\"1\" class=\"dataframe\">\n",
              "  <thead>\n",
              "    <tr style=\"text-align: right;\">\n",
              "      <th></th>\n",
              "      <th>Model</th>\n",
              "      <th>Training Set R Squared</th>\n",
              "      <th>Test Set R Squared</th>\n",
              "      <th>Mean Absolute Error</th>\n",
              "      <th>Mean Sqaured Error</th>\n",
              "      <th>Root Mean Squared Error</th>\n",
              "      <th>Root Mean Squared Percentage Error</th>\n",
              "      <th>Mean Absolute Percentage Error</th>\n",
              "    </tr>\n",
              "  </thead>\n",
              "  <tbody>\n",
              "    <tr>\n",
              "      <th>0</th>\n",
              "      <td>All Jobs Years of Experience Elastic Net Regre...</td>\n",
              "      <td>0.529904</td>\n",
              "      <td>0.519887</td>\n",
              "      <td>17872.787534</td>\n",
              "      <td>5.746894e+08</td>\n",
              "      <td>23972.680254</td>\n",
              "      <td>28.971504</td>\n",
              "      <td>20.771095</td>\n",
              "    </tr>\n",
              "  </tbody>\n",
              "</table>\n",
              "</div>"
            ],
            "text/plain": [
              "                                               Model  ...  Mean Absolute Percentage Error\n",
              "0  All Jobs Years of Experience Elastic Net Regre...  ...                       20.771095\n",
              "\n",
              "[1 rows x 8 columns]"
            ]
          },
          "metadata": {
            "tags": []
          },
          "execution_count": 73
        }
      ]
    },
    {
      "cell_type": "markdown",
      "metadata": {
        "id": "P7rFs5zuqseL"
      },
      "source": [
        "### **all_jobs_df log(y)**"
      ]
    },
    {
      "cell_type": "code",
      "metadata": {
        "colab": {
          "base_uri": "https://localhost:8080/"
        },
        "id": "0X8blmQRqseM",
        "outputId": "aeae849b-8920-433f-8587-4194b286d6da"
      },
      "source": [
        "#set features & target\n",
        "X = all_jobs_df.drop(columns=['avg_sal', 'log_avg_sal'])\n",
        "y = all_jobs_df['log_avg_sal']\n",
        "\n",
        "#split data into training & test sets\n",
        "X_train, X_test, y_train, y_test = train_test_split(X, y, test_size = 0.2, random_state = 43)\n",
        "\n",
        "#Use grid search to find best hyperparameters\n",
        "# defining parameter range \n",
        "param_grid = {'alpha': [0.001, 0.01, 0.1, 1, 10, 100, 1000],  \n",
        "              'l1_ratio': [0, 0.1, 0.2, 0.3, 0.4, 0.5, 0.6, 0.7, 0.8, 0.9, 1]} \n",
        "\n",
        "log_all_jobs_enet_grid = GridSearchCV(ElasticNet(), param_grid, scoring='r2', \n",
        "                                    verbose=1, n_jobs=-1)\n",
        "\n",
        "# fitting the model for grid search \n",
        "log_all_jobs_enet_grid.fit(X_train, y_train) \n",
        "# print best parameter after tuning \n",
        "print(log_all_jobs_enet_grid.best_params_)\n",
        "\n",
        "# print how our model looks after hyper-parameter tuning \n",
        "print(log_all_jobs_enet_grid.best_estimator_)"
      ],
      "execution_count": null,
      "outputs": [
        {
          "output_type": "stream",
          "text": [
            "Fitting 5 folds for each of 77 candidates, totalling 385 fits\n"
          ],
          "name": "stdout"
        },
        {
          "output_type": "stream",
          "text": [
            "[Parallel(n_jobs=-1)]: Using backend LokyBackend with 2 concurrent workers.\n",
            "[Parallel(n_jobs=-1)]: Done 202 tasks      | elapsed:    7.7s\n"
          ],
          "name": "stderr"
        },
        {
          "output_type": "stream",
          "text": [
            "{'alpha': 0.001, 'l1_ratio': 0.5}\n",
            "ElasticNet(alpha=0.001, copy_X=True, fit_intercept=True, l1_ratio=0.5,\n",
            "           max_iter=1000, normalize=False, positive=False, precompute=False,\n",
            "           random_state=None, selection='cyclic', tol=0.0001, warm_start=False)\n"
          ],
          "name": "stdout"
        },
        {
          "output_type": "stream",
          "text": [
            "[Parallel(n_jobs=-1)]: Done 385 out of 385 | elapsed:   14.5s finished\n"
          ],
          "name": "stderr"
        }
      ]
    },
    {
      "cell_type": "code",
      "metadata": {
        "colab": {
          "base_uri": "https://localhost:8080/"
        },
        "id": "SrNaRCveqseN",
        "outputId": "1e7331ff-981a-433c-c954-2073b41b9255"
      },
      "source": [
        "#set model with ideal hyperparameters from above\n",
        "log_all_jobs_enet = log_all_jobs_enet_grid.best_estimator_\n",
        "\n",
        "log_all_jobs_enet.fit(X_train, y_train)\n",
        "\n",
        "#cross validate\n",
        "log_all_jobs_enet_scores = cross_val_score(log_all_jobs_enet, X_train, y_train, cv = 5)\n",
        "\n",
        "print('Accuracy Scores for the 5 folds: ', log_all_jobs_enet_scores)\n",
        "print('Mean Cross Validation Score: {:.33f}'.format(np.mean(log_all_jobs_enet_scores)))"
      ],
      "execution_count": null,
      "outputs": [
        {
          "output_type": "stream",
          "text": [
            "Accuracy Scores for the 5 folds:  [0.51568996 0.53217531 0.47041457 0.49836736 0.48986981]\n",
            "Mean Cross Validation Score: 0.501303401833570472234669068711810\n"
          ],
          "name": "stdout"
        }
      ]
    },
    {
      "cell_type": "code",
      "metadata": {
        "colab": {
          "base_uri": "https://localhost:8080/",
          "height": 108
        },
        "id": "Ztko4hd1qseN",
        "outputId": "26091ed5-0d54-4522-8278-ee078ec53636"
      },
      "source": [
        "#generate predictions\n",
        "log_all_jobs_enet_preds = log_all_jobs_enet.predict(X_test)\n",
        "\n",
        "#more performance metrics\n",
        "log_all_jobs_enet_rsquared_train = log_all_jobs_enet.score(X_train, y_train)\n",
        "log_all_jobs_enet_rsquared_test = log_all_jobs_enet.score(X_test, y_test)\n",
        "log_all_jobs_enet_mae = mean_absolute_error(y_test, log_all_jobs_enet_preds)\n",
        "log_all_jobs_enet_mse = mse(y_test, log_all_jobs_enet_preds)\n",
        "log_all_jobs_enet_rmse = rmse(y_test, log_all_jobs_enet_preds)\n",
        "log_all_jobs_enet_mape = np.mean(np.abs((y_test - log_all_jobs_enet_preds)/y_test)*100)\n",
        "log_all_jobs_enet_rmspe = (np.sqrt(np.mean(np.square((y_test - log_all_jobs_enet_preds) / y_test)))) * 100\n",
        "log_all_jobs_enet_model_name = 'All Jobs Elastic Net Regression Log(y)'\n",
        "\n",
        "#create easily readable display of performance metrics\n",
        "log_all_jobs_enet_dictionary = {'Model': log_all_jobs_enet_model_name,\n",
        "  'Training Set R Squared': log_all_jobs_enet_rsquared_train, \n",
        "  'Test Set R Squared': log_all_jobs_enet_rsquared_test, 'Mean Absolute Error': log_all_jobs_enet_mae, \n",
        "  'Mean Sqaured Error': log_all_jobs_enet_mse, 'Root Mean Squared Error': log_all_jobs_enet_rmse,\n",
        "  'Root Mean Squared Percentage Error': log_all_jobs_enet_rmspe,\n",
        "  'Mean Absolute Percentage Error': log_all_jobs_enet_mape}\n",
        "\n",
        "log_all_jobs_enet_df = pd.DataFrame(log_all_jobs_enet_dictionary, index=[0])\n",
        "\n",
        "log_all_jobs_enet_df"
      ],
      "execution_count": null,
      "outputs": [
        {
          "output_type": "execute_result",
          "data": {
            "text/html": [
              "<div>\n",
              "<style scoped>\n",
              "    .dataframe tbody tr th:only-of-type {\n",
              "        vertical-align: middle;\n",
              "    }\n",
              "\n",
              "    .dataframe tbody tr th {\n",
              "        vertical-align: top;\n",
              "    }\n",
              "\n",
              "    .dataframe thead th {\n",
              "        text-align: right;\n",
              "    }\n",
              "</style>\n",
              "<table border=\"1\" class=\"dataframe\">\n",
              "  <thead>\n",
              "    <tr style=\"text-align: right;\">\n",
              "      <th></th>\n",
              "      <th>Model</th>\n",
              "      <th>Training Set R Squared</th>\n",
              "      <th>Test Set R Squared</th>\n",
              "      <th>Mean Absolute Error</th>\n",
              "      <th>Mean Sqaured Error</th>\n",
              "      <th>Root Mean Squared Error</th>\n",
              "      <th>Root Mean Squared Percentage Error</th>\n",
              "      <th>Mean Absolute Percentage Error</th>\n",
              "    </tr>\n",
              "  </thead>\n",
              "  <tbody>\n",
              "    <tr>\n",
              "      <th>0</th>\n",
              "      <td>All Jobs Elastic Net Regression Log(y)</td>\n",
              "      <td>0.513682</td>\n",
              "      <td>0.525438</td>\n",
              "      <td>0.189444</td>\n",
              "      <td>0.061092</td>\n",
              "      <td>0.247169</td>\n",
              "      <td>2.171249</td>\n",
              "      <td>1.66253</td>\n",
              "    </tr>\n",
              "  </tbody>\n",
              "</table>\n",
              "</div>"
            ],
            "text/plain": [
              "                                    Model  ...  Mean Absolute Percentage Error\n",
              "0  All Jobs Elastic Net Regression Log(y)  ...                         1.66253\n",
              "\n",
              "[1 rows x 8 columns]"
            ]
          },
          "metadata": {
            "tags": []
          },
          "execution_count": 76
        }
      ]
    },
    {
      "cell_type": "markdown",
      "metadata": {
        "id": "0J-IbV15qseN"
      },
      "source": [
        "### **all_jobs_yrs_df log(y)**"
      ]
    },
    {
      "cell_type": "code",
      "metadata": {
        "colab": {
          "base_uri": "https://localhost:8080/"
        },
        "id": "pmTF_5bMqseO",
        "outputId": "2e5ecd0b-e288-45bb-9633-32bcc6f6dcaa"
      },
      "source": [
        "#set features & target\n",
        "X= all_jobs_yrs_df.drop(columns=['avg_sal', 'log_avg_sal'])\n",
        "y = all_jobs_yrs_df['log_avg_sal']\n",
        "\n",
        "#split data into training & test sets\n",
        "X_train, X_test, y_train, y_test = train_test_split(X, y, test_size = 0.2, random_state = 43)\n",
        "\n",
        "#Use grid search to find best hyperparameters\n",
        "# defining parameter range \n",
        "param_grid = {'alpha': [0.001, 0.01, 0.1, 1, 10, 100, 1000],  \n",
        "              'l1_ratio': [0, 0.1, 0.2, 0.3, 0.4, 0.5, 0.6, 0.7, 0.8, 0.9, 1]} \n",
        "\n",
        "log_all_jobs_yrs_enet_grid = GridSearchCV(ElasticNet(), param_grid, scoring='r2', \n",
        "                                    verbose=1, n_jobs=-1)\n",
        "\n",
        "# fitting the model for grid search \n",
        "log_all_jobs_yrs_enet_grid.fit(X_train, y_train) \n",
        "# print best parameter after tuning \n",
        "print(log_all_jobs_yrs_enet_grid.best_params_)\n",
        "\n",
        "# print how our model looks after hyper-parameter tuning \n",
        "print(log_all_jobs_yrs_enet_grid.best_estimator_)"
      ],
      "execution_count": null,
      "outputs": [
        {
          "output_type": "stream",
          "text": [
            "Fitting 5 folds for each of 77 candidates, totalling 385 fits\n"
          ],
          "name": "stdout"
        },
        {
          "output_type": "stream",
          "text": [
            "[Parallel(n_jobs=-1)]: Using backend LokyBackend with 2 concurrent workers.\n",
            "[Parallel(n_jobs=-1)]: Done 202 tasks      | elapsed:    6.5s\n"
          ],
          "name": "stderr"
        },
        {
          "output_type": "stream",
          "text": [
            "{'alpha': 0.001, 'l1_ratio': 0.3}\n",
            "ElasticNet(alpha=0.001, copy_X=True, fit_intercept=True, l1_ratio=0.3,\n",
            "           max_iter=1000, normalize=False, positive=False, precompute=False,\n",
            "           random_state=None, selection='cyclic', tol=0.0001, warm_start=False)\n"
          ],
          "name": "stdout"
        },
        {
          "output_type": "stream",
          "text": [
            "[Parallel(n_jobs=-1)]: Done 385 out of 385 | elapsed:   12.3s finished\n"
          ],
          "name": "stderr"
        }
      ]
    },
    {
      "cell_type": "code",
      "metadata": {
        "colab": {
          "base_uri": "https://localhost:8080/"
        },
        "id": "T2oV5ydFqseO",
        "outputId": "5b5a9dc7-61c1-440f-908e-7e0a0c70acfc"
      },
      "source": [
        "#set model with ideal hyperparameters from above\n",
        "log_all_jobs_yrs_enet = log_all_jobs_yrs_enet_grid.best_estimator_\n",
        "\n",
        "log_all_jobs_yrs_enet.fit(X_train, y_train)\n",
        "\n",
        "#cross validate\n",
        "log_all_jobs_yrs_enet_scores = cross_val_score(log_all_jobs_yrs_enet, X_train, y_train, cv = 5)\n",
        "\n",
        "print('Accuracy Scores for the 5 folds: ', log_all_jobs_yrs_enet_scores)\n",
        "print('Mean Cross Validation Score: {:.33f}'.format(np.mean(log_all_jobs_yrs_enet_scores)))"
      ],
      "execution_count": null,
      "outputs": [
        {
          "output_type": "stream",
          "text": [
            "Accuracy Scores for the 5 folds:  [0.50382757 0.51067879 0.54891142 0.51737897 0.53169171]\n",
            "Mean Cross Validation Score: 0.522497692624564802343911651405506\n"
          ],
          "name": "stdout"
        }
      ]
    },
    {
      "cell_type": "code",
      "metadata": {
        "colab": {
          "base_uri": "https://localhost:8080/",
          "height": 108
        },
        "id": "TmCRUFZlqseP",
        "outputId": "03447ddd-7bc3-4aa7-97b2-93eda42704a5"
      },
      "source": [
        "#generate predictions\n",
        "log_all_jobs_yrs_enet_preds = log_all_jobs_yrs_enet.predict(X_test)\n",
        "\n",
        "#more performance metrics\n",
        "log_all_jobs_yrs_enet_rsquared_train = log_all_jobs_yrs_enet.score(X_train, y_train)\n",
        "log_all_jobs_yrs_enet_rsquared_test = log_all_jobs_yrs_enet.score(X_test, y_test)\n",
        "log_all_jobs_yrs_enet_mae = mean_absolute_error(y_test, log_all_jobs_yrs_enet_preds)\n",
        "log_all_jobs_yrs_enet_mse = mse(y_test, log_all_jobs_yrs_enet_preds)\n",
        "log_all_jobs_yrs_enet_rmse = rmse(y_test, log_all_jobs_yrs_enet_preds)\n",
        "log_all_jobs_yrs_enet_mape = np.mean(np.abs((y_test - log_all_jobs_yrs_enet_preds)/y_test)*100)\n",
        "log_all_jobs_yrs_enet_rmspe = (np.sqrt(np.mean(np.square((y_test - log_all_jobs_yrs_enet_preds) / y_test)))) * 100\n",
        "log_all_jobs_yrs_enet_model_name = 'All Jobs Years of Experience Elastic Net Regression Log(y)'\n",
        "\n",
        "#create easily readable display of performance metrics\n",
        "log_all_jobs_yrs_enet_dictionary = {'Model': log_all_jobs_yrs_enet_model_name,\n",
        "  'Training Set R Squared': log_all_jobs_yrs_enet_rsquared_train, \n",
        "  'Test Set R Squared': log_all_jobs_yrs_enet_rsquared_test, 'Mean Absolute Error': log_all_jobs_yrs_enet_mae, \n",
        "  'Mean Sqaured Error': log_all_jobs_yrs_enet_mse, 'Root Mean Squared Error': log_all_jobs_yrs_enet_rmse,\n",
        "  'Root Mean Squared Percentage Error': log_all_jobs_yrs_enet_rmspe,\n",
        "  'Mean Absolute Percentage Error': log_all_jobs_yrs_enet_mape}\n",
        "\n",
        "log_all_jobs_yrs_enet_df = pd.DataFrame(log_all_jobs_yrs_enet_dictionary, index=[0])\n",
        "\n",
        "log_all_jobs_yrs_enet_df"
      ],
      "execution_count": null,
      "outputs": [
        {
          "output_type": "execute_result",
          "data": {
            "text/html": [
              "<div>\n",
              "<style scoped>\n",
              "    .dataframe tbody tr th:only-of-type {\n",
              "        vertical-align: middle;\n",
              "    }\n",
              "\n",
              "    .dataframe tbody tr th {\n",
              "        vertical-align: top;\n",
              "    }\n",
              "\n",
              "    .dataframe thead th {\n",
              "        text-align: right;\n",
              "    }\n",
              "</style>\n",
              "<table border=\"1\" class=\"dataframe\">\n",
              "  <thead>\n",
              "    <tr style=\"text-align: right;\">\n",
              "      <th></th>\n",
              "      <th>Model</th>\n",
              "      <th>Training Set R Squared</th>\n",
              "      <th>Test Set R Squared</th>\n",
              "      <th>Mean Absolute Error</th>\n",
              "      <th>Mean Sqaured Error</th>\n",
              "      <th>Root Mean Squared Error</th>\n",
              "      <th>Root Mean Squared Percentage Error</th>\n",
              "      <th>Mean Absolute Percentage Error</th>\n",
              "    </tr>\n",
              "  </thead>\n",
              "  <tbody>\n",
              "    <tr>\n",
              "      <th>0</th>\n",
              "      <td>All Jobs Years of Experience Elastic Net Regre...</td>\n",
              "      <td>0.540291</td>\n",
              "      <td>0.54375</td>\n",
              "      <td>0.188567</td>\n",
              "      <td>0.059587</td>\n",
              "      <td>0.244105</td>\n",
              "      <td>2.160709</td>\n",
              "      <td>1.662035</td>\n",
              "    </tr>\n",
              "  </tbody>\n",
              "</table>\n",
              "</div>"
            ],
            "text/plain": [
              "                                               Model  ...  Mean Absolute Percentage Error\n",
              "0  All Jobs Years of Experience Elastic Net Regre...  ...                        1.662035\n",
              "\n",
              "[1 rows x 8 columns]"
            ]
          },
          "metadata": {
            "tags": []
          },
          "execution_count": 79
        }
      ]
    },
    {
      "cell_type": "markdown",
      "metadata": {
        "id": "OIkK-l00Mp3g"
      },
      "source": [
        "### **all_jobs_no_outliers_df**"
      ]
    },
    {
      "cell_type": "code",
      "metadata": {
        "colab": {
          "base_uri": "https://localhost:8080/"
        },
        "id": "boX3OwONMp3g",
        "outputId": "88d23b1d-4e8c-4828-a6b8-3ea6e2acd927"
      },
      "source": [
        "#set features & target\n",
        "X = all_jobs_no_outliers_df.drop(columns=['avg_sal', 'log_avg_sal'])\n",
        "y = all_jobs_no_outliers_df['avg_sal']\n",
        "\n",
        "#split data into training & test sets\n",
        "X_train, X_test, y_train, y_test = train_test_split(X, y, test_size = 0.2, random_state = 43)\n",
        "\n",
        "#Use grid search to find best hyperparameters\n",
        "# defining parameter range \n",
        "param_grid = {'alpha': [0.001, 0.01, 0.1, 1, 10, 100, 1000],  \n",
        "              'l1_ratio': [0, 0.1, 0.2, 0.3, 0.4, 0.5, 0.6, 0.7, 0.8, 0.9, 1]} \n",
        "\n",
        "all_jobs_no_outliers_enet_grid = GridSearchCV(ElasticNet(), param_grid, scoring='r2', \n",
        "                                    verbose=1, n_jobs=-1)\n",
        "\n",
        "# fitting the model for grid search \n",
        "all_jobs_no_outliers_enet_grid.fit(X_train, y_train) \n",
        "# print best parameter after tuning \n",
        "print(all_jobs_no_outliers_enet_grid.best_params_)\n",
        "\n",
        "# print how our model looks after hyper-parameter tuning \n",
        "print(all_jobs_no_outliers_enet_grid.best_estimator_)"
      ],
      "execution_count": null,
      "outputs": [
        {
          "output_type": "stream",
          "text": [
            "Fitting 5 folds for each of 77 candidates, totalling 385 fits\n"
          ],
          "name": "stdout"
        },
        {
          "output_type": "stream",
          "text": [
            "[Parallel(n_jobs=-1)]: Using backend LokyBackend with 2 concurrent workers.\n",
            "[Parallel(n_jobs=-1)]: Done 104 tasks      | elapsed:    5.4s\n"
          ],
          "name": "stderr"
        },
        {
          "output_type": "stream",
          "text": [
            "{'alpha': 10, 'l1_ratio': 1}\n",
            "ElasticNet(alpha=10, copy_X=True, fit_intercept=True, l1_ratio=1, max_iter=1000,\n",
            "           normalize=False, positive=False, precompute=False, random_state=None,\n",
            "           selection='cyclic', tol=0.0001, warm_start=False)\n"
          ],
          "name": "stdout"
        },
        {
          "output_type": "stream",
          "text": [
            "[Parallel(n_jobs=-1)]: Done 385 out of 385 | elapsed:   16.0s finished\n"
          ],
          "name": "stderr"
        }
      ]
    },
    {
      "cell_type": "code",
      "metadata": {
        "colab": {
          "base_uri": "https://localhost:8080/"
        },
        "id": "hVzQzs7OMp3h",
        "outputId": "afb294b0-083e-4a74-abe3-4461905016dc"
      },
      "source": [
        "#set model with ideal hyperparameters from above\n",
        "all_jobs_no_outliers_enet = all_jobs_no_outliers_enet_grid.best_estimator_\n",
        "\n",
        "all_jobs_no_outliers_enet.fit(X_train, y_train)\n",
        "\n",
        "#cross validate\n",
        "all_jobs_no_outliers_enet_scores = cross_val_score(all_jobs_no_outliers_enet, X_train, y_train, cv = 5)\n",
        "\n",
        "print('Accuracy Scores for the 5 folds: ', all_jobs_no_outliers_enet_scores)\n",
        "print('Mean Cross Validation Score: {:.33f}'.format(np.mean(all_jobs_no_outliers_enet_scores)))"
      ],
      "execution_count": null,
      "outputs": [
        {
          "output_type": "stream",
          "text": [
            "Accuracy Scores for the 5 folds:  [0.53262258 0.50339221 0.52855327 0.46963311 0.51068134]\n",
            "Mean Cross Validation Score: 0.508976501583287221919249532220419\n"
          ],
          "name": "stdout"
        }
      ]
    },
    {
      "cell_type": "code",
      "metadata": {
        "colab": {
          "base_uri": "https://localhost:8080/",
          "height": 108
        },
        "id": "8yQvRxGlMp3i",
        "outputId": "0f98eaa8-5324-4998-ccb0-9d98eee14861"
      },
      "source": [
        "#generate predictions\n",
        "all_jobs_no_outliers_enet_preds = all_jobs_no_outliers_enet.predict(X_test)\n",
        "\n",
        "#more performance metrics\n",
        "all_jobs_no_outliers_enet_rsquared_train = all_jobs_no_outliers_enet.score(X_train, y_train)\n",
        "all_jobs_no_outliers_enet_rsquared_test = all_jobs_no_outliers_enet.score(X_test, y_test)\n",
        "all_jobs_no_outliers_enet_mae = mean_absolute_error(y_test, all_jobs_no_outliers_enet_preds)\n",
        "all_jobs_no_outliers_enet_mse = mse(y_test, all_jobs_no_outliers_enet_preds)\n",
        "all_jobs_no_outliers_enet_rmse = rmse(y_test, all_jobs_no_outliers_enet_preds)\n",
        "all_jobs_no_outliers_enet_mape = np.mean(np.abs((y_test - all_jobs_no_outliers_enet_preds)/y_test)*100)\n",
        "all_jobs_no_outliers_enet_rmspe = (np.sqrt(np.mean(np.square((y_test - all_jobs_no_outliers_enet_preds) / y_test)))) * 100\n",
        "all_jobs_no_outliers_enet_model_name = 'All Jobs w/o Outliers Elastic Net Regression'\n",
        "\n",
        "#create easily readable display of performance metrics\n",
        "all_jobs_no_outliers_enet_dictionary = {'Model': all_jobs_no_outliers_enet_model_name,\n",
        "  'Training Set R Squared': all_jobs_no_outliers_enet_rsquared_train, \n",
        "  'Test Set R Squared': all_jobs_no_outliers_enet_rsquared_test, 'Mean Absolute Error': all_jobs_no_outliers_enet_mae, \n",
        "  'Mean Sqaured Error': all_jobs_no_outliers_enet_mse, 'Root Mean Squared Error': all_jobs_no_outliers_enet_rmse,\n",
        "  'Root Mean Squared Percentage Error': all_jobs_no_outliers_enet_rmspe,\n",
        "  'Mean Absolute Percentage Error': all_jobs_no_outliers_enet_mape}\n",
        "\n",
        "all_jobs_no_outliers_enet_df = pd.DataFrame(all_jobs_no_outliers_enet_dictionary, index=[0])\n",
        "\n",
        "all_jobs_no_outliers_enet_df"
      ],
      "execution_count": null,
      "outputs": [
        {
          "output_type": "execute_result",
          "data": {
            "text/html": [
              "<div>\n",
              "<style scoped>\n",
              "    .dataframe tbody tr th:only-of-type {\n",
              "        vertical-align: middle;\n",
              "    }\n",
              "\n",
              "    .dataframe tbody tr th {\n",
              "        vertical-align: top;\n",
              "    }\n",
              "\n",
              "    .dataframe thead th {\n",
              "        text-align: right;\n",
              "    }\n",
              "</style>\n",
              "<table border=\"1\" class=\"dataframe\">\n",
              "  <thead>\n",
              "    <tr style=\"text-align: right;\">\n",
              "      <th></th>\n",
              "      <th>Model</th>\n",
              "      <th>Training Set R Squared</th>\n",
              "      <th>Test Set R Squared</th>\n",
              "      <th>Mean Absolute Error</th>\n",
              "      <th>Mean Sqaured Error</th>\n",
              "      <th>Root Mean Squared Error</th>\n",
              "      <th>Root Mean Squared Percentage Error</th>\n",
              "      <th>Mean Absolute Percentage Error</th>\n",
              "    </tr>\n",
              "  </thead>\n",
              "  <tbody>\n",
              "    <tr>\n",
              "      <th>0</th>\n",
              "      <td>All Jobs w/o Outliers Elastic Net Regression</td>\n",
              "      <td>0.52676</td>\n",
              "      <td>0.49897</td>\n",
              "      <td>17471.433328</td>\n",
              "      <td>5.165639e+08</td>\n",
              "      <td>22728.041422</td>\n",
              "      <td>27.509016</td>\n",
              "      <td>20.171853</td>\n",
              "    </tr>\n",
              "  </tbody>\n",
              "</table>\n",
              "</div>"
            ],
            "text/plain": [
              "                                          Model  ...  Mean Absolute Percentage Error\n",
              "0  All Jobs w/o Outliers Elastic Net Regression  ...                       20.171853\n",
              "\n",
              "[1 rows x 8 columns]"
            ]
          },
          "metadata": {
            "tags": []
          },
          "execution_count": 82
        }
      ]
    },
    {
      "cell_type": "markdown",
      "metadata": {
        "id": "qBLww02SMp3i"
      },
      "source": [
        "### **all_jobs_yrs_no_outliers_df**"
      ]
    },
    {
      "cell_type": "code",
      "metadata": {
        "colab": {
          "base_uri": "https://localhost:8080/"
        },
        "id": "FItyU-Q2Mp3j",
        "outputId": "7452c4ce-837f-4c80-dc1d-0c679ac727fc"
      },
      "source": [
        "#set features & target\n",
        "X= all_jobs_yrs_no_outliers_df.drop(columns=['avg_sal', 'log_avg_sal'])\n",
        "y = all_jobs_yrs_no_outliers_df['avg_sal']\n",
        "\n",
        "#split data into training & test sets\n",
        "X_train, X_test, y_train, y_test = train_test_split(X, y, test_size = 0.2, random_state = 43)\n",
        "\n",
        "#Use grid search to find best hyperparameters\n",
        "# defining parameter range \n",
        "param_grid = {'alpha': [0.001, 0.01, 0.1, 1, 10, 100, 1000],  \n",
        "              'l1_ratio': [0, 0.1, 0.2, 0.3, 0.4, 0.5, 0.6, 0.7, 0.8, 0.9, 1]} \n",
        "\n",
        "all_jobs_yrs_no_outliers_enet_grid = GridSearchCV(ElasticNet(), param_grid, scoring='r2', \n",
        "                                    verbose=1, n_jobs=-1)\n",
        "\n",
        "# fitting the model for grid search \n",
        "all_jobs_yrs_no_outliers_enet_grid.fit(X_train, y_train) \n",
        "# print best parameter after tuning \n",
        "print(all_jobs_yrs_no_outliers_enet_grid.best_params_)\n",
        "\n",
        "# print how our model looks after hyper-parameter tuning \n",
        "print(all_jobs_yrs_no_outliers_enet_grid.best_estimator_)"
      ],
      "execution_count": null,
      "outputs": [
        {
          "output_type": "stream",
          "text": [
            "Fitting 5 folds for each of 77 candidates, totalling 385 fits\n"
          ],
          "name": "stdout"
        },
        {
          "output_type": "stream",
          "text": [
            "[Parallel(n_jobs=-1)]: Using backend LokyBackend with 2 concurrent workers.\n",
            "[Parallel(n_jobs=-1)]: Done 110 tasks      | elapsed:    4.7s\n"
          ],
          "name": "stderr"
        },
        {
          "output_type": "stream",
          "text": [
            "{'alpha': 0.01, 'l1_ratio': 0.6}\n",
            "ElasticNet(alpha=0.01, copy_X=True, fit_intercept=True, l1_ratio=0.6,\n",
            "           max_iter=1000, normalize=False, positive=False, precompute=False,\n",
            "           random_state=None, selection='cyclic', tol=0.0001, warm_start=False)\n"
          ],
          "name": "stdout"
        },
        {
          "output_type": "stream",
          "text": [
            "[Parallel(n_jobs=-1)]: Done 385 out of 385 | elapsed:   13.6s finished\n"
          ],
          "name": "stderr"
        }
      ]
    },
    {
      "cell_type": "code",
      "metadata": {
        "colab": {
          "base_uri": "https://localhost:8080/"
        },
        "id": "8k5VVQ0MMp3j",
        "outputId": "b9823be1-3d95-428c-fc8d-5ee77f1ad291"
      },
      "source": [
        "#set model with ideal hyperparameters from above\n",
        "all_jobs_yrs_no_outliers_enet = all_jobs_yrs_no_outliers_enet_grid.best_estimator_\n",
        "\n",
        "all_jobs_yrs_no_outliers_enet.fit(X_train, y_train)\n",
        "\n",
        "#cross validate\n",
        "all_jobs_yrs_no_outliers_enet_scores = cross_val_score(all_jobs_yrs_no_outliers_enet, X_train, y_train, cv = 5)\n",
        "\n",
        "print('Accuracy Scores for the 5 folds: ', all_jobs_yrs_no_outliers_enet_scores)\n",
        "print('Mean Cross Validation Score: {:.33f}'.format(np.mean(all_jobs_yrs_no_outliers_enet_scores)))"
      ],
      "execution_count": null,
      "outputs": [
        {
          "output_type": "stream",
          "text": [
            "Accuracy Scores for the 5 folds:  [0.53976242 0.55816351 0.5209718  0.44998803 0.54566873]\n",
            "Mean Cross Validation Score: 0.522910895230967565083801673608832\n"
          ],
          "name": "stdout"
        }
      ]
    },
    {
      "cell_type": "code",
      "metadata": {
        "colab": {
          "base_uri": "https://localhost:8080/",
          "height": 108
        },
        "id": "uVDxHNxbMp3j",
        "outputId": "f2090520-b0c9-47ec-cdc8-b6e47b568b76"
      },
      "source": [
        "#generate predictions\n",
        "all_jobs_yrs_no_outliers_enet_preds = all_jobs_yrs_no_outliers_enet.predict(X_test)\n",
        "\n",
        "#more performance metrics\n",
        "all_jobs_yrs_no_outliers_enet_rsquared_train = all_jobs_yrs_no_outliers_enet.score(X_train, y_train)\n",
        "all_jobs_yrs_no_outliers_enet_rsquared_test = all_jobs_yrs_no_outliers_enet.score(X_test, y_test)\n",
        "all_jobs_yrs_no_outliers_enet_mae = mean_absolute_error(y_test, all_jobs_yrs_no_outliers_enet_preds)\n",
        "all_jobs_yrs_no_outliers_enet_mse = mse(y_test, all_jobs_yrs_no_outliers_enet_preds)\n",
        "all_jobs_yrs_no_outliers_enet_rmse = rmse(y_test, all_jobs_yrs_no_outliers_enet_preds)\n",
        "all_jobs_yrs_no_outliers_enet_mape = np.mean(np.abs((y_test - all_jobs_yrs_no_outliers_enet_preds)/y_test)*100)\n",
        "all_jobs_yrs_no_outliers_enet_rmspe = (np.sqrt(np.mean(np.square((y_test - all_jobs_yrs_no_outliers_enet_preds) / y_test)))) * 100\n",
        "all_jobs_yrs_no_outliers_enet_model_name = 'All Jobs Years of Experience w/o Outliers Elastic Net Regression'\n",
        "\n",
        "#create easily readable display of performance metrics\n",
        "all_jobs_yrs_no_outliers_enet_dictionary = {'Model': all_jobs_yrs_no_outliers_enet_model_name,\n",
        "  'Training Set R Squared': all_jobs_yrs_no_outliers_enet_rsquared_train, \n",
        "  'Test Set R Squared': all_jobs_yrs_no_outliers_enet_rsquared_test, 'Mean Absolute Error': all_jobs_yrs_no_outliers_enet_mae, \n",
        "  'Mean Sqaured Error': all_jobs_yrs_no_outliers_enet_mse, 'Root Mean Squared Error': all_jobs_yrs_no_outliers_enet_rmse,\n",
        "  'Root Mean Squared Percentage Error': all_jobs_yrs_no_outliers_enet_rmspe,\n",
        "  'Mean Absolute Percentage Error': all_jobs_yrs_no_outliers_enet_mape}\n",
        "\n",
        "all_jobs_yrs_no_outliers_enet_df = pd.DataFrame(all_jobs_yrs_no_outliers_enet_dictionary, index=[0])\n",
        "\n",
        "all_jobs_yrs_no_outliers_enet_df"
      ],
      "execution_count": null,
      "outputs": [
        {
          "output_type": "execute_result",
          "data": {
            "text/html": [
              "<div>\n",
              "<style scoped>\n",
              "    .dataframe tbody tr th:only-of-type {\n",
              "        vertical-align: middle;\n",
              "    }\n",
              "\n",
              "    .dataframe tbody tr th {\n",
              "        vertical-align: top;\n",
              "    }\n",
              "\n",
              "    .dataframe thead th {\n",
              "        text-align: right;\n",
              "    }\n",
              "</style>\n",
              "<table border=\"1\" class=\"dataframe\">\n",
              "  <thead>\n",
              "    <tr style=\"text-align: right;\">\n",
              "      <th></th>\n",
              "      <th>Model</th>\n",
              "      <th>Training Set R Squared</th>\n",
              "      <th>Test Set R Squared</th>\n",
              "      <th>Mean Absolute Error</th>\n",
              "      <th>Mean Sqaured Error</th>\n",
              "      <th>Root Mean Squared Error</th>\n",
              "      <th>Root Mean Squared Percentage Error</th>\n",
              "      <th>Mean Absolute Percentage Error</th>\n",
              "    </tr>\n",
              "  </thead>\n",
              "  <tbody>\n",
              "    <tr>\n",
              "      <th>0</th>\n",
              "      <td>All Jobs Years of Experience w/o Outliers Elas...</td>\n",
              "      <td>0.547763</td>\n",
              "      <td>0.50902</td>\n",
              "      <td>16744.891795</td>\n",
              "      <td>4.678143e+08</td>\n",
              "      <td>21629.015418</td>\n",
              "      <td>27.327074</td>\n",
              "      <td>19.319194</td>\n",
              "    </tr>\n",
              "  </tbody>\n",
              "</table>\n",
              "</div>"
            ],
            "text/plain": [
              "                                               Model  ...  Mean Absolute Percentage Error\n",
              "0  All Jobs Years of Experience w/o Outliers Elas...  ...                       19.319194\n",
              "\n",
              "[1 rows x 8 columns]"
            ]
          },
          "metadata": {
            "tags": []
          },
          "execution_count": 85
        }
      ]
    },
    {
      "cell_type": "markdown",
      "metadata": {
        "id": "_r41Au2nMp3k"
      },
      "source": [
        "### **all_jobs_no_outliers_df log(y)**"
      ]
    },
    {
      "cell_type": "code",
      "metadata": {
        "colab": {
          "base_uri": "https://localhost:8080/"
        },
        "id": "5uu3Bvk-Mp3k",
        "outputId": "80131778-35d2-4585-9168-5de9a661fcad"
      },
      "source": [
        "#set features & target\n",
        "X = all_jobs_no_outliers_df.drop(columns=['avg_sal', 'log_avg_sal'])\n",
        "y = all_jobs_no_outliers_df['log_avg_sal']\n",
        "\n",
        "#split data into training & test sets\n",
        "X_train, X_test, y_train, y_test = train_test_split(X, y, test_size = 0.2, random_state = 43)\n",
        "\n",
        "#Use grid search to find best hyperparameters\n",
        "# defining parameter range \n",
        "param_grid = {'alpha': [0.001, 0.01, 0.1, 1, 10, 100, 1000],  \n",
        "              'l1_ratio': [0, 0.1, 0.2, 0.3, 0.4, 0.5, 0.6, 0.7, 0.8, 0.9, 1]} \n",
        "\n",
        "log_all_jobs_no_outliers_enet_grid = GridSearchCV(ElasticNet(), param_grid, scoring='r2', \n",
        "                                    verbose=1, n_jobs=-1)\n",
        "\n",
        "# fitting the model for grid search \n",
        "log_all_jobs_no_outliers_enet_grid.fit(X_train, y_train) \n",
        "# print best parameter after tuning \n",
        "print(log_all_jobs_no_outliers_enet_grid.best_params_)\n",
        "\n",
        "# print how our model looks after hyper-parameter tuning \n",
        "print(log_all_jobs_no_outliers_enet_grid.best_estimator_)"
      ],
      "execution_count": null,
      "outputs": [
        {
          "output_type": "stream",
          "text": [
            "Fitting 5 folds for each of 77 candidates, totalling 385 fits\n"
          ],
          "name": "stdout"
        },
        {
          "output_type": "stream",
          "text": [
            "[Parallel(n_jobs=-1)]: Using backend LokyBackend with 2 concurrent workers.\n",
            "[Parallel(n_jobs=-1)]: Done 202 tasks      | elapsed:    7.4s\n"
          ],
          "name": "stderr"
        },
        {
          "output_type": "stream",
          "text": [
            "{'alpha': 0.001, 'l1_ratio': 0.4}\n",
            "ElasticNet(alpha=0.001, copy_X=True, fit_intercept=True, l1_ratio=0.4,\n",
            "           max_iter=1000, normalize=False, positive=False, precompute=False,\n",
            "           random_state=None, selection='cyclic', tol=0.0001, warm_start=False)\n"
          ],
          "name": "stdout"
        },
        {
          "output_type": "stream",
          "text": [
            "[Parallel(n_jobs=-1)]: Done 385 out of 385 | elapsed:   14.1s finished\n"
          ],
          "name": "stderr"
        }
      ]
    },
    {
      "cell_type": "code",
      "metadata": {
        "colab": {
          "base_uri": "https://localhost:8080/"
        },
        "id": "vkr3tDcjMp3k",
        "outputId": "991518f0-6619-4efd-a869-a7eacb5ea37c"
      },
      "source": [
        "#set model with ideal hyperparameters from above\n",
        "log_all_jobs_no_outliers_enet = log_all_jobs_no_outliers_enet_grid.best_estimator_\n",
        "\n",
        "log_all_jobs_no_outliers_enet.fit(X_train, y_train)\n",
        "\n",
        "#cross validate\n",
        "log_all_jobs_no_outliers_enet_scores = cross_val_score(log_all_jobs_no_outliers_enet, X_train, y_train, cv = 5)\n",
        "\n",
        "print('Accuracy Scores for the 5 folds: ', log_all_jobs_no_outliers_enet_scores)\n",
        "print('Mean Cross Validation Score: {:.33f}'.format(np.mean(log_all_jobs_no_outliers_enet_scores)))"
      ],
      "execution_count": null,
      "outputs": [
        {
          "output_type": "stream",
          "text": [
            "Accuracy Scores for the 5 folds:  [0.52374219 0.49330085 0.53192167 0.47809463 0.50341411]\n",
            "Mean Cross Validation Score: 0.506094687818569255455258826259524\n"
          ],
          "name": "stdout"
        }
      ]
    },
    {
      "cell_type": "code",
      "metadata": {
        "colab": {
          "base_uri": "https://localhost:8080/",
          "height": 108
        },
        "id": "jdyB96KSMp3l",
        "outputId": "7a698c6f-dd14-4175-944b-9fe85f1047c4"
      },
      "source": [
        "#generate predictions\n",
        "log_all_jobs_no_outliers_enet_preds = log_all_jobs_no_outliers_enet.predict(X_test)\n",
        "\n",
        "#more performance metrics\n",
        "log_all_jobs_no_outliers_enet_rsquared_train = log_all_jobs_no_outliers_enet.score(X_train, y_train)\n",
        "log_all_jobs_no_outliers_enet_rsquared_test = log_all_jobs_no_outliers_enet.score(X_test, y_test)\n",
        "log_all_jobs_no_outliers_enet_mae = mean_absolute_error(y_test, log_all_jobs_no_outliers_enet_preds)\n",
        "log_all_jobs_no_outliers_enet_mse = mse(y_test, log_all_jobs_no_outliers_enet_preds)\n",
        "log_all_jobs_no_outliers_enet_rmse = rmse(y_test, log_all_jobs_no_outliers_enet_preds)\n",
        "log_all_jobs_no_outliers_enet_mape = np.mean(np.abs((y_test - log_all_jobs_no_outliers_enet_preds)/y_test)*100)\n",
        "log_all_jobs_no_outliers_enet_rmspe = (np.sqrt(np.mean(np.square((y_test - log_all_jobs_no_outliers_enet_preds) / y_test)))) * 100\n",
        "log_all_jobs_no_outliers_enet_model_name = 'All Jobs w/o Outliers Elastic Net Regression Log(y)'\n",
        "\n",
        "#create easily readable display of performance metrics\n",
        "log_all_jobs_no_outliers_enet_dictionary = {'Model': log_all_jobs_no_outliers_enet_model_name,\n",
        "  'Training Set R Squared': log_all_jobs_no_outliers_enet_rsquared_train, \n",
        "  'Test Set R Squared': log_all_jobs_no_outliers_enet_rsquared_test, 'Mean Absolute Error': log_all_jobs_no_outliers_enet_mae, \n",
        "  'Mean Sqaured Error': log_all_jobs_no_outliers_enet_mse, 'Root Mean Squared Error': log_all_jobs_no_outliers_enet_rmse,\n",
        "  'Root Mean Squared Percentage Error': log_all_jobs_no_outliers_enet_rmspe,\n",
        "  'Mean Absolute Percentage Error': log_all_jobs_no_outliers_enet_mape}\n",
        "\n",
        "log_all_jobs_no_outliers_enet_df = pd.DataFrame(log_all_jobs_no_outliers_enet_dictionary, index=[0])\n",
        "\n",
        "log_all_jobs_no_outliers_enet_df"
      ],
      "execution_count": null,
      "outputs": [
        {
          "output_type": "execute_result",
          "data": {
            "text/html": [
              "<div>\n",
              "<style scoped>\n",
              "    .dataframe tbody tr th:only-of-type {\n",
              "        vertical-align: middle;\n",
              "    }\n",
              "\n",
              "    .dataframe tbody tr th {\n",
              "        vertical-align: top;\n",
              "    }\n",
              "\n",
              "    .dataframe thead th {\n",
              "        text-align: right;\n",
              "    }\n",
              "</style>\n",
              "<table border=\"1\" class=\"dataframe\">\n",
              "  <thead>\n",
              "    <tr style=\"text-align: right;\">\n",
              "      <th></th>\n",
              "      <th>Model</th>\n",
              "      <th>Training Set R Squared</th>\n",
              "      <th>Test Set R Squared</th>\n",
              "      <th>Mean Absolute Error</th>\n",
              "      <th>Mean Sqaured Error</th>\n",
              "      <th>Root Mean Squared Error</th>\n",
              "      <th>Root Mean Squared Percentage Error</th>\n",
              "      <th>Mean Absolute Percentage Error</th>\n",
              "    </tr>\n",
              "  </thead>\n",
              "  <tbody>\n",
              "    <tr>\n",
              "      <th>0</th>\n",
              "      <td>All Jobs w/o Outliers Elastic Net Regression L...</td>\n",
              "      <td>0.518778</td>\n",
              "      <td>0.500986</td>\n",
              "      <td>0.189168</td>\n",
              "      <td>0.059086</td>\n",
              "      <td>0.243076</td>\n",
              "      <td>2.144037</td>\n",
              "      <td>1.664072</td>\n",
              "    </tr>\n",
              "  </tbody>\n",
              "</table>\n",
              "</div>"
            ],
            "text/plain": [
              "                                               Model  ...  Mean Absolute Percentage Error\n",
              "0  All Jobs w/o Outliers Elastic Net Regression L...  ...                        1.664072\n",
              "\n",
              "[1 rows x 8 columns]"
            ]
          },
          "metadata": {
            "tags": []
          },
          "execution_count": 88
        }
      ]
    },
    {
      "cell_type": "markdown",
      "metadata": {
        "id": "twgulTDwMp3l"
      },
      "source": [
        "### **all_jobs_yrs_no_outliers_df log(y)**"
      ]
    },
    {
      "cell_type": "code",
      "metadata": {
        "colab": {
          "base_uri": "https://localhost:8080/"
        },
        "id": "3ZCADyRIMp3l",
        "outputId": "1d37f2f8-c3fd-4c9d-a349-2413a037d6bc"
      },
      "source": [
        "#set features & target\n",
        "X= all_jobs_yrs_no_outliers_df.drop(columns=['avg_sal', 'log_avg_sal'])\n",
        "y = all_jobs_yrs_no_outliers_df['log_avg_sal']\n",
        "\n",
        "#split data into training & test sets\n",
        "X_train, X_test, y_train, y_test = train_test_split(X, y, test_size = 0.2, random_state = 43)\n",
        "\n",
        "#Use grid search to find best hyperparameters\n",
        "# defining parameter range \n",
        "param_grid = {'alpha': [0.001, 0.01, 0.1, 1, 10, 100, 1000],  \n",
        "              'l1_ratio': [0, 0.1, 0.2, 0.3, 0.4, 0.5, 0.6, 0.7, 0.8, 0.9, 1]} \n",
        "\n",
        "log_all_jobs_yrs_no_outliers_enet_grid = GridSearchCV(ElasticNet(), param_grid, scoring='r2', \n",
        "                                    verbose=1, n_jobs=-1)\n",
        "\n",
        "# fitting the model for grid search \n",
        "log_all_jobs_yrs_no_outliers_enet_grid.fit(X_train, y_train) \n",
        "# print best parameter after tuning \n",
        "print(log_all_jobs_yrs_no_outliers_enet_grid.best_params_)\n",
        "\n",
        "# print how our model looks after hyper-parameter tuning \n",
        "print(log_all_jobs_yrs_no_outliers_enet_grid.best_estimator_)"
      ],
      "execution_count": null,
      "outputs": [
        {
          "output_type": "stream",
          "text": [
            "Fitting 5 folds for each of 77 candidates, totalling 385 fits\n"
          ],
          "name": "stdout"
        },
        {
          "output_type": "stream",
          "text": [
            "[Parallel(n_jobs=-1)]: Using backend LokyBackend with 2 concurrent workers.\n",
            "[Parallel(n_jobs=-1)]: Done 202 tasks      | elapsed:    6.2s\n"
          ],
          "name": "stderr"
        },
        {
          "output_type": "stream",
          "text": [
            "{'alpha': 0.001, 'l1_ratio': 0.2}\n",
            "ElasticNet(alpha=0.001, copy_X=True, fit_intercept=True, l1_ratio=0.2,\n",
            "           max_iter=1000, normalize=False, positive=False, precompute=False,\n",
            "           random_state=None, selection='cyclic', tol=0.0001, warm_start=False)\n"
          ],
          "name": "stdout"
        },
        {
          "output_type": "stream",
          "text": [
            "[Parallel(n_jobs=-1)]: Done 385 out of 385 | elapsed:   11.8s finished\n"
          ],
          "name": "stderr"
        }
      ]
    },
    {
      "cell_type": "code",
      "metadata": {
        "colab": {
          "base_uri": "https://localhost:8080/"
        },
        "id": "QWgSNLVwMp3l",
        "outputId": "b2760823-57b6-4175-afb0-24e72a883d9d"
      },
      "source": [
        "#set model with ideal hyperparameters from above\n",
        "log_all_jobs_yrs_no_outliers_enet = log_all_jobs_yrs_no_outliers_enet_grid.best_estimator_\n",
        "\n",
        "log_all_jobs_yrs_no_outliers_enet.fit(X_train, y_train)\n",
        "\n",
        "#cross validate\n",
        "log_all_jobs_yrs_no_outliers_enet_scores = cross_val_score(log_all_jobs_yrs_no_outliers_enet, X_train, y_train, cv = 5)\n",
        "\n",
        "print('Accuracy Scores for the 5 folds: ', log_all_jobs_yrs_no_outliers_enet_scores)\n",
        "print('Mean Cross Validation Score: {:.33f}'.format(np.mean(log_all_jobs_yrs_no_outliers_enet_scores)))"
      ],
      "execution_count": null,
      "outputs": [
        {
          "output_type": "stream",
          "text": [
            "Accuracy Scores for the 5 folds:  [0.54479512 0.56241813 0.5126172  0.44759192 0.53172965]\n",
            "Mean Cross Validation Score: 0.519830404644313182060955114138778\n"
          ],
          "name": "stdout"
        }
      ]
    },
    {
      "cell_type": "code",
      "metadata": {
        "colab": {
          "base_uri": "https://localhost:8080/",
          "height": 108
        },
        "id": "Nv2w98UTMp3m",
        "outputId": "8aaf1781-3d8e-43c5-d400-bf02636596e3"
      },
      "source": [
        "#generate predictions\n",
        "log_all_jobs_yrs_no_outliers_enet_preds = log_all_jobs_yrs_no_outliers_enet.predict(X_test)\n",
        "\n",
        "#more performance metrics\n",
        "log_all_jobs_yrs_no_outliers_enet_rsquared_train = log_all_jobs_yrs_no_outliers_enet.score(X_train, y_train)\n",
        "log_all_jobs_yrs_no_outliers_enet_rsquared_test = log_all_jobs_yrs_no_outliers_enet.score(X_test, y_test)\n",
        "log_all_jobs_yrs_no_outliers_enet_mae = mean_absolute_error(y_test, log_all_jobs_yrs_no_outliers_enet_preds)\n",
        "log_all_jobs_yrs_no_outliers_enet_mse = mse(y_test, log_all_jobs_yrs_no_outliers_enet_preds)\n",
        "log_all_jobs_yrs_no_outliers_enet_rmse = rmse(y_test, log_all_jobs_yrs_no_outliers_enet_preds)\n",
        "log_all_jobs_yrs_no_outliers_enet_mape = np.mean(np.abs((y_test - log_all_jobs_yrs_no_outliers_enet_preds)/y_test)*100)\n",
        "log_all_jobs_yrs_no_outliers_enet_rmspe = (np.sqrt(np.mean(np.square((y_test - log_all_jobs_yrs_no_outliers_enet_preds) / y_test)))) * 100\n",
        "log_all_jobs_yrs_no_outliers_enet_model_name = 'All Jobs Years of Experience Elastic Net Regression Log(y)'\n",
        "\n",
        "#create easily readable display of performance metrics\n",
        "log_all_jobs_yrs_no_outliers_enet_dictionary = {'Model': log_all_jobs_yrs_no_outliers_enet_model_name,\n",
        "  'Training Set R Squared': log_all_jobs_yrs_no_outliers_enet_rsquared_train, \n",
        "  'Test Set R Squared': log_all_jobs_yrs_no_outliers_enet_rsquared_test, 'Mean Absolute Error': log_all_jobs_yrs_no_outliers_enet_mae, \n",
        "  'Mean Sqaured Error': log_all_jobs_yrs_no_outliers_enet_mse, 'Root Mean Squared Error': log_all_jobs_yrs_no_outliers_enet_rmse,\n",
        "  'Root Mean Squared Percentage Error': log_all_jobs_yrs_no_outliers_enet_rmspe,\n",
        "  'Mean Absolute Percentage Error': log_all_jobs_yrs_no_outliers_enet_mape}\n",
        "\n",
        "log_all_jobs_yrs_no_outliers_enet_df = pd.DataFrame(log_all_jobs_yrs_no_outliers_enet_dictionary, index=[0])\n",
        "\n",
        "log_all_jobs_yrs_no_outliers_enet_df"
      ],
      "execution_count": null,
      "outputs": [
        {
          "output_type": "execute_result",
          "data": {
            "text/html": [
              "<div>\n",
              "<style scoped>\n",
              "    .dataframe tbody tr th:only-of-type {\n",
              "        vertical-align: middle;\n",
              "    }\n",
              "\n",
              "    .dataframe tbody tr th {\n",
              "        vertical-align: top;\n",
              "    }\n",
              "\n",
              "    .dataframe thead th {\n",
              "        text-align: right;\n",
              "    }\n",
              "</style>\n",
              "<table border=\"1\" class=\"dataframe\">\n",
              "  <thead>\n",
              "    <tr style=\"text-align: right;\">\n",
              "      <th></th>\n",
              "      <th>Model</th>\n",
              "      <th>Training Set R Squared</th>\n",
              "      <th>Test Set R Squared</th>\n",
              "      <th>Mean Absolute Error</th>\n",
              "      <th>Mean Sqaured Error</th>\n",
              "      <th>Root Mean Squared Error</th>\n",
              "      <th>Root Mean Squared Percentage Error</th>\n",
              "      <th>Mean Absolute Percentage Error</th>\n",
              "    </tr>\n",
              "  </thead>\n",
              "  <tbody>\n",
              "    <tr>\n",
              "      <th>0</th>\n",
              "      <td>All Jobs Years of Experience Elastic Net Regre...</td>\n",
              "      <td>0.543073</td>\n",
              "      <td>0.508535</td>\n",
              "      <td>0.181152</td>\n",
              "      <td>0.054096</td>\n",
              "      <td>0.232585</td>\n",
              "      <td>2.055776</td>\n",
              "      <td>1.593156</td>\n",
              "    </tr>\n",
              "  </tbody>\n",
              "</table>\n",
              "</div>"
            ],
            "text/plain": [
              "                                               Model  ...  Mean Absolute Percentage Error\n",
              "0  All Jobs Years of Experience Elastic Net Regre...  ...                        1.593156\n",
              "\n",
              "[1 rows x 8 columns]"
            ]
          },
          "metadata": {
            "tags": []
          },
          "execution_count": 91
        }
      ]
    },
    {
      "cell_type": "markdown",
      "metadata": {
        "id": "5V11UMmctTgf"
      },
      "source": [
        "## **K Nearest Neighbors**"
      ]
    },
    {
      "cell_type": "markdown",
      "metadata": {
        "id": "OAcix0BwtTgf"
      },
      "source": [
        "### **all_jobs_df**"
      ]
    },
    {
      "cell_type": "code",
      "metadata": {
        "colab": {
          "base_uri": "https://localhost:8080/"
        },
        "id": "Zgh3Aod-tTgf",
        "outputId": "635fa1ad-1b25-4bb6-9a90-754d88692888"
      },
      "source": [
        "#set features & target\n",
        "X = all_jobs_df.drop(columns=['avg_sal', 'log_avg_sal'])\n",
        "y = all_jobs_df['avg_sal']\n",
        "\n",
        "#split data into training & test sets\n",
        "X_train, X_test, y_train, y_test = train_test_split(X, y, test_size = 0.2, random_state = 43)\n",
        "\n",
        "#Use grid search to find best hyperparameters\n",
        "# defining parameter range \n",
        "param_grid = {'n_neighbors': [2, 4, 6, 8, 10, 12, 15],  \n",
        "              'weights': ['uniform', 'distance'], \n",
        "              'metric': ['euclidean', 'manhattan']}  \n",
        "  \n",
        "all_jobs_knn_grid = GridSearchCV(KNeighborsRegressor(), param_grid, refit = True, verbose=1) \n",
        "  \n",
        "# fitting the model for grid search \n",
        "all_jobs_knn_grid.fit(X_train, y_train) \n",
        "# print best parameter after tuning \n",
        "print(all_jobs_knn_grid.best_params_) \n",
        "  \n",
        "# print how our model looks after hyper-parameter tuning \n",
        "print(all_jobs_knn_grid.best_estimator_) "
      ],
      "execution_count": null,
      "outputs": [
        {
          "output_type": "stream",
          "text": [
            "Fitting 5 folds for each of 28 candidates, totalling 140 fits\n"
          ],
          "name": "stdout"
        },
        {
          "output_type": "stream",
          "text": [
            "[Parallel(n_jobs=1)]: Using backend SequentialBackend with 1 concurrent workers.\n"
          ],
          "name": "stderr"
        },
        {
          "output_type": "stream",
          "text": [
            "{'metric': 'manhattan', 'n_neighbors': 10, 'weights': 'distance'}\n",
            "KNeighborsRegressor(algorithm='auto', leaf_size=30, metric='manhattan',\n",
            "                    metric_params=None, n_jobs=None, n_neighbors=10, p=2,\n",
            "                    weights='distance')\n"
          ],
          "name": "stdout"
        },
        {
          "output_type": "stream",
          "text": [
            "[Parallel(n_jobs=1)]: Done 140 out of 140 | elapsed:   44.1s finished\n"
          ],
          "name": "stderr"
        }
      ]
    },
    {
      "cell_type": "code",
      "metadata": {
        "colab": {
          "base_uri": "https://localhost:8080/"
        },
        "id": "RFKGMghnuNit",
        "outputId": "e12f41e9-58a1-4cda-8789-254ad7334fdc"
      },
      "source": [
        "#validate best value for k\n",
        "rmse_val = [] #to store rmse values for different k\n",
        "for K in range (20):\n",
        "  K = K+1\n",
        "  model = KNeighborsRegressor(algorithm='auto', leaf_size=30, metric='manhattan',\n",
        "                    metric_params=None, n_jobs=None, n_neighbors=K, p=2,\n",
        "                    weights='distance')\n",
        "  model.fit(X_train, y_train) #fit the model\n",
        "  preds = model.predict(X_test) #make predictions on test set\n",
        "  error = rmse(y_test, preds) #calculate rmse\n",
        "  rmse_val.append(error) #store rmse values\n",
        "  print('RMSe Value for K= ', K, 'is ', error)"
      ],
      "execution_count": null,
      "outputs": [
        {
          "output_type": "stream",
          "text": [
            "RMSe Value for K=  1 is  29359.398290292953\n",
            "RMSe Value for K=  2 is  26691.482608012582\n",
            "RMSe Value for K=  3 is  25469.6273990695\n",
            "RMSe Value for K=  4 is  24982.577402047766\n",
            "RMSe Value for K=  5 is  24694.903923184833\n",
            "RMSe Value for K=  6 is  24512.440097626808\n",
            "RMSe Value for K=  7 is  24345.732720613447\n",
            "RMSe Value for K=  8 is  24332.005719817527\n",
            "RMSe Value for K=  9 is  24323.694546322982\n",
            "RMSe Value for K=  10 is  24320.17454779659\n",
            "RMSe Value for K=  11 is  24327.29909807101\n",
            "RMSe Value for K=  12 is  24305.6362365336\n",
            "RMSe Value for K=  13 is  24377.412067477962\n",
            "RMSe Value for K=  14 is  24465.175157033562\n",
            "RMSe Value for K=  15 is  24442.567168321828\n",
            "RMSe Value for K=  16 is  24482.52106823206\n",
            "RMSe Value for K=  17 is  24550.722580223854\n",
            "RMSe Value for K=  18 is  24538.685927895644\n",
            "RMSe Value for K=  19 is  24599.976910784986\n",
            "RMSe Value for K=  20 is  24618.66006401043\n"
          ],
          "name": "stdout"
        }
      ]
    },
    {
      "cell_type": "code",
      "metadata": {
        "colab": {
          "base_uri": "https://localhost:8080/",
          "height": 281
        },
        "id": "dETLSQO_vNr9",
        "outputId": "81fb99cc-793a-4d89-bfb2-0bff1992d611"
      },
      "source": [
        "#plotting the rmse values (y) against k values (x)\n",
        "curve = pd.DataFrame(rmse_val) #elbow curve \n",
        "curve.plot()"
      ],
      "execution_count": null,
      "outputs": [
        {
          "output_type": "execute_result",
          "data": {
            "text/plain": [
              "<matplotlib.axes._subplots.AxesSubplot at 0x7fb914273a10>"
            ]
          },
          "metadata": {
            "tags": []
          },
          "execution_count": 94
        },
        {
          "output_type": "display_data",
          "data": {
            "image/png": "[encoded data removed]",
            "text/plain": [
              "<Figure size 432x288 with 1 Axes>"
            ]
          },
          "metadata": {
            "tags": [],
            "needs_background": "light"
          }
        }
      ]
    },
    {
      "cell_type": "code",
      "metadata": {
        "id": "pEnkcx6ZFHrt",
        "colab": {
          "base_uri": "https://localhost:8080/"
        },
        "outputId": "cc2caabd-8718-40de-a032-8d537966efe4"
      },
      "source": [
        "#set model with ideal hyperparameters from above\n",
        "all_jobs_knn = all_jobs_knn_grid.best_estimator_\n",
        "all_jobs_knn.fit(X_train, y_train)\n",
        "\n",
        "#cross validate\n",
        "all_jobs_knn_scores = cross_val_score(all_jobs_knn, X_train, y_train, cv = 5)\n",
        "\n",
        "print('Accuracy Scores for the 5 folds: ', all_jobs_knn_scores)\n",
        "print('Mean Cross Validation Score: {:.33f}'.format(np.mean(all_jobs_knn_scores)))"
      ],
      "execution_count": null,
      "outputs": [
        {
          "output_type": "stream",
          "text": [
            "Accuracy Scores for the 5 folds:  [0.53430131 0.4477553  0.45642075 0.45996017 0.46646409]\n",
            "Mean Cross Validation Score: 0.472980324379519145860939488557051\n"
          ],
          "name": "stdout"
        }
      ]
    },
    {
      "cell_type": "code",
      "metadata": {
        "id": "bBlnYFrzFaZk",
        "colab": {
          "base_uri": "https://localhost:8080/",
          "height": 108
        },
        "outputId": "837584f2-705d-4117-97e5-0869154940f4"
      },
      "source": [
        "#generate predictions\n",
        "all_jobs_knn_preds = all_jobs_knn.predict(X_test)\n",
        "\n",
        "#more performance metrics\n",
        "all_jobs_knn_rsquared_train = all_jobs_knn.score(X_train, y_train)\n",
        "all_jobs_knn_rsquared_test = all_jobs_knn.score(X_test, y_test)\n",
        "all_jobs_knn_mae = mean_absolute_error(y_test, all_jobs_knn_preds)\n",
        "all_jobs_knn_mse = mse(y_test, all_jobs_knn_preds)\n",
        "all_jobs_knn_rmse = rmse(y_test, all_jobs_knn_preds)\n",
        "all_jobs_knn_mape = np.mean(np.abs((y_test - all_jobs_knn_preds)/y_test)*100)\n",
        "all_jobs_knn_rmspe = (np.sqrt(np.mean(np.square((y_test - all_jobs_knn_preds) / y_test)))) * 100\n",
        "all_jobs_knn_model_name = 'All Jobs KNN'\n",
        "\n",
        "#create easily readable display of performance metrics\n",
        "all_jobs_knn_dictionary = {'Model': all_jobs_knn_model_name,\n",
        "  'Training Set R Squared': all_jobs_knn_rsquared_train, \n",
        "  'Test Set R Squared': all_jobs_knn_rsquared_test, 'Mean Absolute Error': all_jobs_knn_mae, \n",
        "  'Mean Sqaured Error': all_jobs_knn_mse, 'Root Mean Squared Error': all_jobs_knn_rmse,\n",
        "  'Root Mean Squared Percentage Error': all_jobs_knn_rmspe,\n",
        "  'Mean Absolute Percentage Error': all_jobs_knn_mape}\n",
        "\n",
        "all_jobs_knn_df = pd.DataFrame(all_jobs_knn_dictionary, index=[0])\n",
        "\n",
        "all_jobs_knn_df"
      ],
      "execution_count": null,
      "outputs": [
        {
          "output_type": "execute_result",
          "data": {
            "text/html": [
              "<div>\n",
              "<style scoped>\n",
              "    .dataframe tbody tr th:only-of-type {\n",
              "        vertical-align: middle;\n",
              "    }\n",
              "\n",
              "    .dataframe tbody tr th {\n",
              "        vertical-align: top;\n",
              "    }\n",
              "\n",
              "    .dataframe thead th {\n",
              "        text-align: right;\n",
              "    }\n",
              "</style>\n",
              "<table border=\"1\" class=\"dataframe\">\n",
              "  <thead>\n",
              "    <tr style=\"text-align: right;\">\n",
              "      <th></th>\n",
              "      <th>Model</th>\n",
              "      <th>Training Set R Squared</th>\n",
              "      <th>Test Set R Squared</th>\n",
              "      <th>Mean Absolute Error</th>\n",
              "      <th>Mean Sqaured Error</th>\n",
              "      <th>Root Mean Squared Error</th>\n",
              "      <th>Root Mean Squared Percentage Error</th>\n",
              "      <th>Mean Absolute Percentage Error</th>\n",
              "    </tr>\n",
              "  </thead>\n",
              "  <tbody>\n",
              "    <tr>\n",
              "      <th>0</th>\n",
              "      <td>All Jobs KNN</td>\n",
              "      <td>0.978248</td>\n",
              "      <td>0.513091</td>\n",
              "      <td>16963.214847</td>\n",
              "      <td>5.914709e+08</td>\n",
              "      <td>24320.174548</td>\n",
              "      <td>25.630008</td>\n",
              "      <td>18.177122</td>\n",
              "    </tr>\n",
              "  </tbody>\n",
              "</table>\n",
              "</div>"
            ],
            "text/plain": [
              "          Model  ...  Mean Absolute Percentage Error\n",
              "0  All Jobs KNN  ...                       18.177122\n",
              "\n",
              "[1 rows x 8 columns]"
            ]
          },
          "metadata": {
            "tags": []
          },
          "execution_count": 96
        }
      ]
    },
    {
      "cell_type": "markdown",
      "metadata": {
        "id": "AWOMlbLNtTgg"
      },
      "source": [
        "### **all_jobs_yrs_df**"
      ]
    },
    {
      "cell_type": "code",
      "metadata": {
        "colab": {
          "base_uri": "https://localhost:8080/"
        },
        "id": "W56BCRcFx-cK",
        "outputId": "96d5548d-4502-49df-fab8-f1d3b298af95"
      },
      "source": [
        "#set features & target\n",
        "X = all_jobs_yrs_df.drop(columns=['avg_sal', 'log_avg_sal'])\n",
        "y = all_jobs_yrs_df['avg_sal']\n",
        "\n",
        "#split data into training & test sets\n",
        "X_train, X_test, y_train, y_test = train_test_split(X, y, test_size = 0.2, random_state = 43)\n",
        "\n",
        "#Use grid search to find best hyperparameters\n",
        "# defining parameter range \n",
        "param_grid = {'n_neighbors': [2, 4, 6, 8, 10, 12, 15],  \n",
        "              'weights': ['uniform', 'distance'], \n",
        "              'metric': ['euclidean', 'manhattan']}  \n",
        "  \n",
        "years_exp_knn_grid = GridSearchCV(KNeighborsRegressor(), param_grid, refit = True, verbose=1) \n",
        "  \n",
        "# fitting the model for grid search \n",
        "years_exp_knn_grid.fit(X_train, y_train) \n",
        "# print best parameter after tuning \n",
        "print(years_exp_knn_grid.best_params_) \n",
        "  \n",
        "# print how our model looks after hyper-parameter tuning \n",
        "print(years_exp_knn_grid.best_estimator_) "
      ],
      "execution_count": null,
      "outputs": [
        {
          "output_type": "stream",
          "text": [
            "Fitting 5 folds for each of 28 candidates, totalling 140 fits\n"
          ],
          "name": "stdout"
        },
        {
          "output_type": "stream",
          "text": [
            "[Parallel(n_jobs=1)]: Using backend SequentialBackend with 1 concurrent workers.\n"
          ],
          "name": "stderr"
        },
        {
          "output_type": "stream",
          "text": [
            "{'metric': 'manhattan', 'n_neighbors': 15, 'weights': 'distance'}\n",
            "KNeighborsRegressor(algorithm='auto', leaf_size=30, metric='manhattan',\n",
            "                    metric_params=None, n_jobs=None, n_neighbors=15, p=2,\n",
            "                    weights='distance')\n"
          ],
          "name": "stdout"
        },
        {
          "output_type": "stream",
          "text": [
            "[Parallel(n_jobs=1)]: Done 140 out of 140 | elapsed:   33.2s finished\n"
          ],
          "name": "stderr"
        }
      ]
    },
    {
      "cell_type": "code",
      "metadata": {
        "colab": {
          "base_uri": "https://localhost:8080/"
        },
        "id": "KNE0CpTLx-cL",
        "outputId": "10a86f37-3973-4141-dca7-3e7527530537"
      },
      "source": [
        "#validate best value for k\n",
        "rmse_val = [] #to store rmse values for different k\n",
        "for K in range (20):\n",
        "  K = K+1\n",
        "  model = KNeighborsRegressor(algorithm='auto', leaf_size=30, metric='manhattan',\n",
        "                    metric_params=None, n_jobs=None, n_neighbors=K, p=2,\n",
        "                    weights='distance')\n",
        "  model.fit(X_train, y_train) #fit the model\n",
        "  preds = model.predict(X_test) #make predictions on test set\n",
        "  error = rmse(y_test, preds) #calculate rmse\n",
        "  rmse_val.append(error) #store rmse values\n",
        "  print('RMSe Value for K= ', K, 'is ', error)"
      ],
      "execution_count": null,
      "outputs": [
        {
          "output_type": "stream",
          "text": [
            "RMSe Value for K=  1 is  29941.96958373299\n",
            "RMSe Value for K=  2 is  26660.637179950463\n",
            "RMSe Value for K=  3 is  25203.604903519034\n",
            "RMSe Value for K=  4 is  24517.966686765274\n",
            "RMSe Value for K=  5 is  24102.355593981825\n",
            "RMSe Value for K=  6 is  24078.712064891515\n",
            "RMSe Value for K=  7 is  23969.61564084059\n",
            "RMSe Value for K=  8 is  24039.571380809964\n",
            "RMSe Value for K=  9 is  23887.02847992892\n",
            "RMSe Value for K=  10 is  23922.314905486783\n",
            "RMSe Value for K=  11 is  23900.91497264533\n",
            "RMSe Value for K=  12 is  23961.486123117425\n",
            "RMSe Value for K=  13 is  23880.637894372623\n",
            "RMSe Value for K=  14 is  23830.42335723709\n",
            "RMSe Value for K=  15 is  23896.685252452924\n",
            "RMSe Value for K=  16 is  23923.25142975976\n",
            "RMSe Value for K=  17 is  23909.658333501906\n",
            "RMSe Value for K=  18 is  23896.569824159684\n",
            "RMSe Value for K=  19 is  23935.87213939466\n",
            "RMSe Value for K=  20 is  23980.55857623829\n"
          ],
          "name": "stdout"
        }
      ]
    },
    {
      "cell_type": "code",
      "metadata": {
        "colab": {
          "base_uri": "https://localhost:8080/",
          "height": 281
        },
        "id": "5WY8SD6ux-cL",
        "outputId": "66f68ccc-dd25-4999-a9b7-b10fb9837f1c"
      },
      "source": [
        "#plotting the rmse values (y) against k values (x)\n",
        "curve = pd.DataFrame(rmse_val) #elbow curve \n",
        "curve.plot()"
      ],
      "execution_count": null,
      "outputs": [
        {
          "output_type": "execute_result",
          "data": {
            "text/plain": [
              "<matplotlib.axes._subplots.AxesSubplot at 0x7fb91401d510>"
            ]
          },
          "metadata": {
            "tags": []
          },
          "execution_count": 99
        },
        {
          "output_type": "display_data",
          "data": {
            "image/png": "[encoded data removed]",
            "text/plain": [
              "<Figure size 432x288 with 1 Axes>"
            ]
          },
          "metadata": {
            "tags": [],
            "needs_background": "light"
          }
        }
      ]
    },
    {
      "cell_type": "code",
      "metadata": {
        "colab": {
          "base_uri": "https://localhost:8080/"
        },
        "id": "BcM1Y9GPx-cL",
        "outputId": "7ababd32-800a-41d5-b46a-ed49dc0cec04"
      },
      "source": [
        "#set model with ideal hyperparameters from above\n",
        "years_exp_knn = years_exp_knn_grid.best_estimator_\n",
        "\n",
        "years_exp_knn.fit(X_train, y_train)\n",
        "\n",
        "#cross validate\n",
        "years_exp_knn_scores = cross_val_score(years_exp_knn, X_train, y_train, cv = 5)\n",
        "\n",
        "print('Accuracy Scores for the 5 folds: ', years_exp_knn_scores)\n",
        "print('Mean Cross Validation Score: {:.33f}'.format(np.mean(years_exp_knn_scores)))"
      ],
      "execution_count": null,
      "outputs": [
        {
          "output_type": "stream",
          "text": [
            "Accuracy Scores for the 5 folds:  [0.4796951  0.47928572 0.4901582  0.45597516 0.46214704]\n",
            "Mean Cross Validation Score: 0.473452243825361218654279582551681\n"
          ],
          "name": "stdout"
        }
      ]
    },
    {
      "cell_type": "code",
      "metadata": {
        "colab": {
          "base_uri": "https://localhost:8080/",
          "height": 108
        },
        "id": "iFrjVsb0x-cM",
        "outputId": "8eafa4eb-2e87-4624-e759-f2b2245b649c"
      },
      "source": [
        "#generate predictions\n",
        "years_exp_knn_preds = years_exp_knn.predict(X_test)\n",
        "\n",
        "#more performance metrics\n",
        "years_exp_knn_rsquared_train = years_exp_knn.score(X_train, y_train)\n",
        "years_exp_knn_rsquared_test = years_exp_knn.score(X_test, y_test)\n",
        "years_exp_knn_mae = mean_absolute_error(y_test, years_exp_knn_preds)\n",
        "years_exp_knn_mse = mse(y_test, years_exp_knn_preds)\n",
        "years_exp_knn_rmse = rmse(y_test, years_exp_knn_preds)\n",
        "years_exp_knn_mape = np.mean(np.abs((y_test - years_exp_knn_preds)/y_test)*100)\n",
        "years_exp_knn_rmspe = (np.sqrt(np.mean(np.square((y_test - years_exp_knn_preds) / y_test)))) * 100\n",
        "years_exp_knn_model_name = 'All Jobs Years of Experience KNN'\n",
        "\n",
        "#create easily readable display of performance metrics\n",
        "years_exp_knn_dictionary = {'Model': years_exp_knn_model_name,\n",
        "  'Training Set R Squared': years_exp_knn_rsquared_train, \n",
        "  'Test Set R Squared': years_exp_knn_rsquared_test, 'Mean Absolute Error': years_exp_knn_mae, \n",
        "  'Mean Sqaured Error': years_exp_knn_mse, 'Root Mean Squared Error': years_exp_knn_rmse,\n",
        "  'Root Mean Squared Percentage Error': years_exp_knn_rmspe,\n",
        "  'Mean Absolute Percentage Error': years_exp_knn_mape}\n",
        "\n",
        "years_exp_knn_df = pd.DataFrame(years_exp_knn_dictionary, index=[0])\n",
        "\n",
        "years_exp_knn_df"
      ],
      "execution_count": null,
      "outputs": [
        {
          "output_type": "execute_result",
          "data": {
            "text/html": [
              "<div>\n",
              "<style scoped>\n",
              "    .dataframe tbody tr th:only-of-type {\n",
              "        vertical-align: middle;\n",
              "    }\n",
              "\n",
              "    .dataframe tbody tr th {\n",
              "        vertical-align: top;\n",
              "    }\n",
              "\n",
              "    .dataframe thead th {\n",
              "        text-align: right;\n",
              "    }\n",
              "</style>\n",
              "<table border=\"1\" class=\"dataframe\">\n",
              "  <thead>\n",
              "    <tr style=\"text-align: right;\">\n",
              "      <th></th>\n",
              "      <th>Model</th>\n",
              "      <th>Training Set R Squared</th>\n",
              "      <th>Test Set R Squared</th>\n",
              "      <th>Mean Absolute Error</th>\n",
              "      <th>Mean Sqaured Error</th>\n",
              "      <th>Root Mean Squared Error</th>\n",
              "      <th>Root Mean Squared Percentage Error</th>\n",
              "      <th>Mean Absolute Percentage Error</th>\n",
              "    </tr>\n",
              "  </thead>\n",
              "  <tbody>\n",
              "    <tr>\n",
              "      <th>0</th>\n",
              "      <td>All Jobs Years of Experience KNN</td>\n",
              "      <td>0.978606</td>\n",
              "      <td>0.522926</td>\n",
              "      <td>16416.984156</td>\n",
              "      <td>5.710516e+08</td>\n",
              "      <td>23896.685252</td>\n",
              "      <td>26.075698</td>\n",
              "      <td>18.22282</td>\n",
              "    </tr>\n",
              "  </tbody>\n",
              "</table>\n",
              "</div>"
            ],
            "text/plain": [
              "                              Model  ...  Mean Absolute Percentage Error\n",
              "0  All Jobs Years of Experience KNN  ...                        18.22282\n",
              "\n",
              "[1 rows x 8 columns]"
            ]
          },
          "metadata": {
            "tags": []
          },
          "execution_count": 101
        }
      ]
    },
    {
      "cell_type": "markdown",
      "metadata": {
        "id": "-WfESyjZrRiJ"
      },
      "source": [
        "### **all_jobs_df log(y)**"
      ]
    },
    {
      "cell_type": "code",
      "metadata": {
        "colab": {
          "base_uri": "https://localhost:8080/"
        },
        "id": "jt5ROZlwrRiK",
        "outputId": "2a86cc9e-4df5-476f-9978-6e770f72d3fa"
      },
      "source": [
        "#set features & target\n",
        "X = all_jobs_df.drop(columns=['avg_sal', 'log_avg_sal'])\n",
        "y = all_jobs_df['log_avg_sal']\n",
        "\n",
        "#split data into training & test sets\n",
        "X_train, X_test, y_train, y_test = train_test_split(X, y, test_size = 0.2, random_state = 43)\n",
        "\n",
        "#Use grid search to find best hyperparameters\n",
        "# defining parameter range \n",
        "param_grid = {'n_neighbors': [2, 4, 6, 8, 10, 12, 15],  \n",
        "              'weights': ['uniform', 'distance'], \n",
        "              'metric': ['euclidean', 'manhattan']}  \n",
        "  \n",
        "log_all_jobs_knn_grid = GridSearchCV(KNeighborsRegressor(), param_grid, refit = True, verbose=1) \n",
        "  \n",
        "# fitting the model for grid search \n",
        "log_all_jobs_knn_grid.fit(X_train, y_train) \n",
        "# print best parameter after tuning \n",
        "print(log_all_jobs_knn_grid.best_params_) \n",
        "  \n",
        "# print how our model looks after hyper-parameter tuning \n",
        "print(log_all_jobs_knn_grid.best_estimator_) "
      ],
      "execution_count": null,
      "outputs": [
        {
          "output_type": "stream",
          "text": [
            "Fitting 5 folds for each of 28 candidates, totalling 140 fits\n"
          ],
          "name": "stdout"
        },
        {
          "output_type": "stream",
          "text": [
            "[Parallel(n_jobs=1)]: Using backend SequentialBackend with 1 concurrent workers.\n"
          ],
          "name": "stderr"
        },
        {
          "output_type": "stream",
          "text": [
            "{'metric': 'manhattan', 'n_neighbors': 12, 'weights': 'distance'}\n",
            "KNeighborsRegressor(algorithm='auto', leaf_size=30, metric='manhattan',\n",
            "                    metric_params=None, n_jobs=None, n_neighbors=12, p=2,\n",
            "                    weights='distance')\n"
          ],
          "name": "stdout"
        },
        {
          "output_type": "stream",
          "text": [
            "[Parallel(n_jobs=1)]: Done 140 out of 140 | elapsed:   44.1s finished\n"
          ],
          "name": "stderr"
        }
      ]
    },
    {
      "cell_type": "code",
      "metadata": {
        "colab": {
          "base_uri": "https://localhost:8080/"
        },
        "id": "5ekwZnQirRiM",
        "outputId": "8775e464-640b-472b-b9aa-32b645217ec5"
      },
      "source": [
        "#validate best value for k\n",
        "rmse_val = [] #to store rmse values for different k\n",
        "for K in range (20):\n",
        "  K = K+1\n",
        "  model = KNeighborsRegressor(algorithm='auto', leaf_size=30, metric='manhattan',\n",
        "                    metric_params=None, n_jobs=None, n_neighbors=K, p=2,\n",
        "                    weights='distance')\n",
        "  model.fit(X_train, y_train) #fit the model\n",
        "  preds = model.predict(X_test) #make predictions on test set\n",
        "  error = rmse(y_test, preds) #calculate rmse\n",
        "  rmse_val.append(error) #store rmse values\n",
        "  print('RMSe Value for K= ', K, 'is ', error)"
      ],
      "execution_count": null,
      "outputs": [
        {
          "output_type": "stream",
          "text": [
            "RMSe Value for K=  1 is  0.30663377295454014\n",
            "RMSe Value for K=  2 is  0.27749608647477253\n",
            "RMSe Value for K=  3 is  0.26465276558527445\n",
            "RMSe Value for K=  4 is  0.2592520491957495\n",
            "RMSe Value for K=  5 is  0.25558685531043834\n",
            "RMSe Value for K=  6 is  0.2536642934203168\n",
            "RMSe Value for K=  7 is  0.2509747787192593\n",
            "RMSe Value for K=  8 is  0.2503399250391465\n",
            "RMSe Value for K=  9 is  0.25060762291728916\n",
            "RMSe Value for K=  10 is  0.250586023352726\n",
            "RMSe Value for K=  11 is  0.25082791090131806\n",
            "RMSe Value for K=  12 is  0.2501221316135963\n",
            "RMSe Value for K=  13 is  0.25043461377008397\n",
            "RMSe Value for K=  14 is  0.2510435729038872\n",
            "RMSe Value for K=  15 is  0.250649540721206\n",
            "RMSe Value for K=  16 is  0.25087814487254645\n",
            "RMSe Value for K=  17 is  0.2511844869781519\n",
            "RMSe Value for K=  18 is  0.2508360468636841\n",
            "RMSe Value for K=  19 is  0.25149907442746755\n",
            "RMSe Value for K=  20 is  0.2515607560678765\n"
          ],
          "name": "stdout"
        }
      ]
    },
    {
      "cell_type": "code",
      "metadata": {
        "colab": {
          "base_uri": "https://localhost:8080/",
          "height": 281
        },
        "id": "Ek84t9yHrRiM",
        "outputId": "c11b37c0-c091-49c7-9e79-816f5c37daad"
      },
      "source": [
        "#plotting the rmse values (y) against k values (x)\n",
        "curve = pd.DataFrame(rmse_val) #elbow curve \n",
        "curve.plot()"
      ],
      "execution_count": null,
      "outputs": [
        {
          "output_type": "execute_result",
          "data": {
            "text/plain": [
              "<matplotlib.axes._subplots.AxesSubplot at 0x7fb91fd76650>"
            ]
          },
          "metadata": {
            "tags": []
          },
          "execution_count": 104
        },
        {
          "output_type": "display_data",
          "data": {
            "image/png": "[encoded data removed]",
            "text/plain": [
              "<Figure size 432x288 with 1 Axes>"
            ]
          },
          "metadata": {
            "tags": [],
            "needs_background": "light"
          }
        }
      ]
    },
    {
      "cell_type": "code",
      "metadata": {
        "colab": {
          "base_uri": "https://localhost:8080/"
        },
        "id": "ypFaiZQZrRiM",
        "outputId": "753ae4bc-1607-40a0-a153-160ad3cd6900"
      },
      "source": [
        "#set model with ideal hyperparameters from above\n",
        "log_all_jobs_knn = log_all_jobs_knn_grid.best_estimator_\n",
        "\n",
        "log_all_jobs_knn.fit(X_train, y_train)\n",
        "\n",
        "#cross validate\n",
        "log_all_jobs_knn_scores = cross_val_score(log_all_jobs_knn, X_train, y_train, cv = 5)\n",
        "\n",
        "print('Accuracy Scores for the 5 folds: ', log_all_jobs_knn_scores)\n",
        "print('Mean Cross Validation Score: {:.33f}'.format(np.mean(log_all_jobs_knn_scores)))"
      ],
      "execution_count": null,
      "outputs": [
        {
          "output_type": "stream",
          "text": [
            "Accuracy Scores for the 5 folds:  [0.53910365 0.4731321  0.48735911 0.49827541 0.47842612]\n",
            "Mean Cross Validation Score: 0.495259278809134617649334586531040\n"
          ],
          "name": "stdout"
        }
      ]
    },
    {
      "cell_type": "code",
      "metadata": {
        "colab": {
          "base_uri": "https://localhost:8080/",
          "height": 108
        },
        "id": "ITGMANZVrRiN",
        "outputId": "94edb7e9-f3a5-406e-9b8c-5f37ebeafd32"
      },
      "source": [
        "#generate predictions\n",
        "log_all_jobs_knn_preds = log_all_jobs_knn.predict(X_test)\n",
        "\n",
        "#more performance metrics\n",
        "log_all_jobs_knn_rsquared_train = log_all_jobs_knn.score(X_train, y_train)\n",
        "log_all_jobs_knn_rsquared_test = log_all_jobs_knn.score(X_test, y_test)\n",
        "log_all_jobs_knn_mae = mean_absolute_error(y_test, log_all_jobs_knn_preds)\n",
        "log_all_jobs_knn_mse = mse(y_test, log_all_jobs_knn_preds)\n",
        "log_all_jobs_knn_rmse = rmse(y_test, log_all_jobs_knn_preds)\n",
        "log_all_jobs_knn_mape = np.mean(np.abs((y_test - log_all_jobs_knn_preds)/y_test)*100)\n",
        "log_all_jobs_knn_rmspe = (np.sqrt(np.mean(np.square((y_test - log_all_jobs_knn_preds) / y_test)))) * 100\n",
        "log_all_jobs_knn_model_name = 'All Jobs KNN Log(y)'\n",
        "\n",
        "#create easily readable display of performance metrics\n",
        "log_all_jobs_knn_dictionary = {'Model': log_all_jobs_knn_model_name,\n",
        "  'Training Set R Squared': log_all_jobs_knn_rsquared_train, \n",
        "  'Test Set R Squared': log_all_jobs_knn_rsquared_test, 'Mean Absolute Error': log_all_jobs_knn_mae, \n",
        "  'Mean Sqaured Error': log_all_jobs_knn_mse, 'Root Mean Squared Error': log_all_jobs_knn_rmse,\n",
        "  'Root Mean Squared Percentage Error': log_all_jobs_knn_rmspe,\n",
        "  'Mean Absolute Percentage Error': log_all_jobs_knn_mape}\n",
        "\n",
        "log_all_jobs_knn_df = pd.DataFrame(log_all_jobs_knn_dictionary, index=[0])\n",
        "\n",
        "log_all_jobs_knn_df"
      ],
      "execution_count": null,
      "outputs": [
        {
          "output_type": "execute_result",
          "data": {
            "text/html": [
              "<div>\n",
              "<style scoped>\n",
              "    .dataframe tbody tr th:only-of-type {\n",
              "        vertical-align: middle;\n",
              "    }\n",
              "\n",
              "    .dataframe tbody tr th {\n",
              "        vertical-align: top;\n",
              "    }\n",
              "\n",
              "    .dataframe thead th {\n",
              "        text-align: right;\n",
              "    }\n",
              "</style>\n",
              "<table border=\"1\" class=\"dataframe\">\n",
              "  <thead>\n",
              "    <tr style=\"text-align: right;\">\n",
              "      <th></th>\n",
              "      <th>Model</th>\n",
              "      <th>Training Set R Squared</th>\n",
              "      <th>Test Set R Squared</th>\n",
              "      <th>Mean Absolute Error</th>\n",
              "      <th>Mean Sqaured Error</th>\n",
              "      <th>Root Mean Squared Error</th>\n",
              "      <th>Root Mean Squared Percentage Error</th>\n",
              "      <th>Mean Absolute Percentage Error</th>\n",
              "    </tr>\n",
              "  </thead>\n",
              "  <tbody>\n",
              "    <tr>\n",
              "      <th>0</th>\n",
              "      <td>All Jobs KNN Log(y)</td>\n",
              "      <td>0.983852</td>\n",
              "      <td>0.514029</td>\n",
              "      <td>0.184438</td>\n",
              "      <td>0.062561</td>\n",
              "      <td>0.250122</td>\n",
              "      <td>2.183078</td>\n",
              "      <td>1.613161</td>\n",
              "    </tr>\n",
              "  </tbody>\n",
              "</table>\n",
              "</div>"
            ],
            "text/plain": [
              "                 Model  ...  Mean Absolute Percentage Error\n",
              "0  All Jobs KNN Log(y)  ...                        1.613161\n",
              "\n",
              "[1 rows x 8 columns]"
            ]
          },
          "metadata": {
            "tags": []
          },
          "execution_count": 106
        }
      ]
    },
    {
      "cell_type": "markdown",
      "metadata": {
        "id": "yC-qAifOrRiN"
      },
      "source": [
        "### **all_jobs_yrs_df log(y)**"
      ]
    },
    {
      "cell_type": "code",
      "metadata": {
        "colab": {
          "base_uri": "https://localhost:8080/"
        },
        "id": "9osFWHtCrRiN",
        "outputId": "286a35f2-76d1-4290-e726-8840197b5c9c"
      },
      "source": [
        "#set features & target\n",
        "X = all_jobs_yrs_df.drop(columns=['avg_sal', 'log_avg_sal'])\n",
        "y = all_jobs_yrs_df['log_avg_sal']\n",
        "\n",
        "#split data into training & test sets\n",
        "X_train, X_test, y_train, y_test = train_test_split(X, y, test_size = 0.2, random_state = 43)\n",
        "\n",
        "#Use grid search to find best hyperparameters\n",
        "# defining parameter range \n",
        "param_grid = {'n_neighbors': [2, 4, 6, 8, 10, 12, 15],  \n",
        "              'weights': ['uniform', 'distance'], \n",
        "              'metric': ['euclidean', 'manhattan']}  \n",
        "  \n",
        "log_years_exp_knn_grid = GridSearchCV(KNeighborsRegressor(), param_grid, refit = True, verbose=1) \n",
        "  \n",
        "# fitting the model for grid search \n",
        "log_years_exp_knn_grid.fit(X_train, y_train) \n",
        "# print best parameter after tuning \n",
        "print(log_years_exp_knn_grid.best_params_) \n",
        "  \n",
        "# print how our model looks after hyper-parameter tuning \n",
        "print(log_years_exp_knn_grid.best_estimator_) "
      ],
      "execution_count": null,
      "outputs": [
        {
          "output_type": "stream",
          "text": [
            "Fitting 5 folds for each of 28 candidates, totalling 140 fits\n"
          ],
          "name": "stdout"
        },
        {
          "output_type": "stream",
          "text": [
            "[Parallel(n_jobs=1)]: Using backend SequentialBackend with 1 concurrent workers.\n"
          ],
          "name": "stderr"
        },
        {
          "output_type": "stream",
          "text": [
            "{'metric': 'manhattan', 'n_neighbors': 15, 'weights': 'distance'}\n",
            "KNeighborsRegressor(algorithm='auto', leaf_size=30, metric='manhattan',\n",
            "                    metric_params=None, n_jobs=None, n_neighbors=15, p=2,\n",
            "                    weights='distance')\n"
          ],
          "name": "stdout"
        },
        {
          "output_type": "stream",
          "text": [
            "[Parallel(n_jobs=1)]: Done 140 out of 140 | elapsed:   33.2s finished\n"
          ],
          "name": "stderr"
        }
      ]
    },
    {
      "cell_type": "code",
      "metadata": {
        "colab": {
          "base_uri": "https://localhost:8080/"
        },
        "id": "Mq-Fxv3_rRiO",
        "outputId": "594b8005-a84a-4e86-db48-bf522cc82133"
      },
      "source": [
        "#validate best value for k\n",
        "rmse_val = [] #to store rmse values for different k\n",
        "for K in range (20):\n",
        "  K = K+1\n",
        "  model = KNeighborsRegressor(algorithm='auto', leaf_size=30, metric='manhattan',\n",
        "                    metric_params=None, n_jobs=None, n_neighbors=K, p=2,\n",
        "                    weights='distance')\n",
        "  model.fit(X_train, y_train) #fit the model\n",
        "  preds = model.predict(X_test) #make predictions on test set\n",
        "  error = rmse(y_test, preds) #calculate rmse\n",
        "  rmse_val.append(error) #store rmse values\n",
        "  print('RMSe Value for K= ', K, 'is ', error)"
      ],
      "execution_count": null,
      "outputs": [
        {
          "output_type": "stream",
          "text": [
            "RMSe Value for K=  1 is  0.30343194204268514\n",
            "RMSe Value for K=  2 is  0.2696473652472737\n",
            "RMSe Value for K=  3 is  0.25314073388800384\n",
            "RMSe Value for K=  4 is  0.24770815035472274\n",
            "RMSe Value for K=  5 is  0.24402999021781083\n",
            "RMSe Value for K=  6 is  0.243614162583054\n",
            "RMSe Value for K=  7 is  0.24300104622175855\n",
            "RMSe Value for K=  8 is  0.24291059755181135\n",
            "RMSe Value for K=  9 is  0.24186021219778855\n",
            "RMSe Value for K=  10 is  0.24211779203162384\n",
            "RMSe Value for K=  11 is  0.24197778282957888\n",
            "RMSe Value for K=  12 is  0.24225979767968517\n",
            "RMSe Value for K=  13 is  0.241372731982479\n",
            "RMSe Value for K=  14 is  0.24086082718678894\n",
            "RMSe Value for K=  15 is  0.24104974222932976\n",
            "RMSe Value for K=  16 is  0.24107561478016257\n",
            "RMSe Value for K=  17 is  0.24095865682880588\n",
            "RMSe Value for K=  18 is  0.2404689451321077\n",
            "RMSe Value for K=  19 is  0.24099633708466286\n",
            "RMSe Value for K=  20 is  0.24152416541325478\n"
          ],
          "name": "stdout"
        }
      ]
    },
    {
      "cell_type": "code",
      "metadata": {
        "colab": {
          "base_uri": "https://localhost:8080/",
          "height": 281
        },
        "id": "2YAdS3QErRiO",
        "outputId": "c01722ea-0308-41fb-e237-12b5cfc15582"
      },
      "source": [
        "#plotting the rmse values (y) against k values (x)\n",
        "curve = pd.DataFrame(rmse_val) #elbow curve \n",
        "curve.plot()"
      ],
      "execution_count": null,
      "outputs": [
        {
          "output_type": "execute_result",
          "data": {
            "text/plain": [
              "<matplotlib.axes._subplots.AxesSubplot at 0x7fb9136e37d0>"
            ]
          },
          "metadata": {
            "tags": []
          },
          "execution_count": 109
        },
        {
          "output_type": "display_data",
          "data": {
            "image/png": "[encoded data removed]",
            "text/plain": [
              "<Figure size 432x288 with 1 Axes>"
            ]
          },
          "metadata": {
            "tags": [],
            "needs_background": "light"
          }
        }
      ]
    },
    {
      "cell_type": "code",
      "metadata": {
        "colab": {
          "base_uri": "https://localhost:8080/"
        },
        "id": "c4rTSPrHrRiO",
        "outputId": "f0e9fbf2-256e-4e0e-e9d7-14f8bca05632"
      },
      "source": [
        "#set model with ideal hyperparameters from above\n",
        "log_years_exp_knn = log_years_exp_knn_grid.best_estimator_\n",
        "\n",
        "log_years_exp_knn.fit(X_train, y_train)\n",
        "\n",
        "#cross validate\n",
        "log_years_exp_knn_scores = cross_val_score(log_years_exp_knn, X_train, y_train, cv = 5)\n",
        "\n",
        "print('Accuracy Scores for the 5 folds: ', log_years_exp_knn_scores)\n",
        "print('Mean Cross Validation Score: {:.33f}'.format(np.mean(log_years_exp_knn_scores)))"
      ],
      "execution_count": null,
      "outputs": [
        {
          "output_type": "stream",
          "text": [
            "Accuracy Scores for the 5 folds:  [0.50514615 0.50022802 0.50024998 0.49020148 0.48851032]\n",
            "Mean Cross Validation Score: 0.496867188696599626496208657044917\n"
          ],
          "name": "stdout"
        }
      ]
    },
    {
      "cell_type": "code",
      "metadata": {
        "colab": {
          "base_uri": "https://localhost:8080/",
          "height": 108
        },
        "id": "Dj1zegqHrRiP",
        "outputId": "dc76c19b-27e1-4aee-aa30-fe26db671bf5"
      },
      "source": [
        "#generate predictions\n",
        "log_years_exp_knn_preds = log_years_exp_knn.predict(X_test)\n",
        "\n",
        "#more performance metrics\n",
        "log_years_exp_knn_rsquared_train = log_years_exp_knn.score(X_train, y_train)\n",
        "log_years_exp_knn_rsquared_test = log_years_exp_knn.score(X_test, y_test)\n",
        "log_years_exp_knn_mae = mean_absolute_error(y_test, log_years_exp_knn_preds)\n",
        "log_years_exp_knn_mse = mse(y_test, log_years_exp_knn_preds)\n",
        "log_years_exp_knn_rmse = rmse(y_test, log_years_exp_knn_preds)\n",
        "log_years_exp_knn_mape = np.mean(np.abs((y_test - log_years_exp_knn_preds)/y_test)*100)\n",
        "log_years_exp_knn_rmspe = (np.sqrt(np.mean(np.square((y_test - log_years_exp_knn_preds) / y_test)))) * 100\n",
        "log_years_exp_knn_model_name = 'All Jobs Years of Experience KNN Log(y)'\n",
        "\n",
        "#create easily readable display of performance metrics\n",
        "log_years_exp_knn_dictionary = {'Model': log_years_exp_knn_model_name,\n",
        "  'Training Set R Squared': log_years_exp_knn_rsquared_train, \n",
        "  'Test Set R Squared': log_years_exp_knn_rsquared_test, 'Mean Absolute Error': log_years_exp_knn_mae, \n",
        "  'Mean Sqaured Error': log_years_exp_knn_mse, 'Root Mean Squared Error': log_years_exp_knn_rmse,\n",
        "  'Root Mean Squared Percentage Error': log_years_exp_knn_rmspe,\n",
        "  'Mean Absolute Percentage Error': log_years_exp_knn_mape}\n",
        "\n",
        "log_years_exp_knn_df = pd.DataFrame(log_years_exp_knn_dictionary, index=[0])\n",
        "\n",
        "log_years_exp_knn_df"
      ],
      "execution_count": null,
      "outputs": [
        {
          "output_type": "execute_result",
          "data": {
            "text/html": [
              "<div>\n",
              "<style scoped>\n",
              "    .dataframe tbody tr th:only-of-type {\n",
              "        vertical-align: middle;\n",
              "    }\n",
              "\n",
              "    .dataframe tbody tr th {\n",
              "        vertical-align: top;\n",
              "    }\n",
              "\n",
              "    .dataframe thead th {\n",
              "        text-align: right;\n",
              "    }\n",
              "</style>\n",
              "<table border=\"1\" class=\"dataframe\">\n",
              "  <thead>\n",
              "    <tr style=\"text-align: right;\">\n",
              "      <th></th>\n",
              "      <th>Model</th>\n",
              "      <th>Training Set R Squared</th>\n",
              "      <th>Test Set R Squared</th>\n",
              "      <th>Mean Absolute Error</th>\n",
              "      <th>Mean Sqaured Error</th>\n",
              "      <th>Root Mean Squared Error</th>\n",
              "      <th>Root Mean Squared Percentage Error</th>\n",
              "      <th>Mean Absolute Percentage Error</th>\n",
              "    </tr>\n",
              "  </thead>\n",
              "  <tbody>\n",
              "    <tr>\n",
              "      <th>0</th>\n",
              "      <td>All Jobs Years of Experience KNN Log(y)</td>\n",
              "      <td>0.982977</td>\n",
              "      <td>0.555099</td>\n",
              "      <td>0.177807</td>\n",
              "      <td>0.058105</td>\n",
              "      <td>0.24105</td>\n",
              "      <td>2.113499</td>\n",
              "      <td>1.560338</td>\n",
              "    </tr>\n",
              "  </tbody>\n",
              "</table>\n",
              "</div>"
            ],
            "text/plain": [
              "                                     Model  ...  Mean Absolute Percentage Error\n",
              "0  All Jobs Years of Experience KNN Log(y)  ...                        1.560338\n",
              "\n",
              "[1 rows x 8 columns]"
            ]
          },
          "metadata": {
            "tags": []
          },
          "execution_count": 111
        }
      ]
    },
    {
      "cell_type": "markdown",
      "metadata": {
        "id": "wwBDlnikOJF8"
      },
      "source": [
        "### **all_jobs_no_outliers_df**"
      ]
    },
    {
      "cell_type": "code",
      "metadata": {
        "colab": {
          "base_uri": "https://localhost:8080/"
        },
        "id": "H3GwXw21OJF9",
        "outputId": "19a43d64-9fbc-42db-939b-baf444e0b300"
      },
      "source": [
        "#set features & target\n",
        "X = all_jobs_no_outliers_df.drop(columns=['avg_sal', 'log_avg_sal'])\n",
        "y = all_jobs_no_outliers_df['avg_sal']\n",
        "\n",
        "#split data into training & test sets\n",
        "X_train, X_test, y_train, y_test = train_test_split(X, y, test_size = 0.2, random_state = 43)\n",
        "\n",
        "#Use grid search to find best hyperparameters\n",
        "# defining parameter range \n",
        "param_grid = {'n_neighbors': [2, 4, 6, 8, 10, 12, 15],  \n",
        "              'weights': ['uniform', 'distance'], \n",
        "              'metric': ['euclidean', 'manhattan']}  \n",
        "  \n",
        "all_jobs_no_outliers_knn_grid = GridSearchCV(KNeighborsRegressor(), param_grid, refit = True, verbose=1) \n",
        "  \n",
        "# fitting the model for grid search \n",
        "all_jobs_no_outliers_knn_grid.fit(X_train, y_train) \n",
        "# print best parameter after tuning \n",
        "print(all_jobs_no_outliers_knn_grid.best_params_) \n",
        "  \n",
        "# print how our model looks after hyper-parameter tuning \n",
        "print(all_jobs_no_outliers_knn_grid.best_estimator_) "
      ],
      "execution_count": null,
      "outputs": [
        {
          "output_type": "stream",
          "text": [
            "Fitting 5 folds for each of 28 candidates, totalling 140 fits\n"
          ],
          "name": "stdout"
        },
        {
          "output_type": "stream",
          "text": [
            "[Parallel(n_jobs=1)]: Using backend SequentialBackend with 1 concurrent workers.\n"
          ],
          "name": "stderr"
        },
        {
          "output_type": "stream",
          "text": [
            "{'metric': 'manhattan', 'n_neighbors': 15, 'weights': 'distance'}\n",
            "KNeighborsRegressor(algorithm='auto', leaf_size=30, metric='manhattan',\n",
            "                    metric_params=None, n_jobs=None, n_neighbors=15, p=2,\n",
            "                    weights='distance')\n"
          ],
          "name": "stdout"
        },
        {
          "output_type": "stream",
          "text": [
            "[Parallel(n_jobs=1)]: Done 140 out of 140 | elapsed:   42.9s finished\n"
          ],
          "name": "stderr"
        }
      ]
    },
    {
      "cell_type": "code",
      "metadata": {
        "colab": {
          "base_uri": "https://localhost:8080/"
        },
        "id": "N5KSZvawOJF9",
        "outputId": "0da61d91-fc07-4ead-d916-7120b4df5854"
      },
      "source": [
        "#validate best value for k\n",
        "rmse_val = [] #to store rmse values for different k\n",
        "for K in range (20):\n",
        "  K = K+1\n",
        "  model = KNeighborsRegressor(algorithm='auto', leaf_size=30, metric='manhattan',\n",
        "                    metric_params=None, n_jobs=None, n_neighbors=K, p=2,\n",
        "                    weights='distance')\n",
        "  model.fit(X_train, y_train) #fit the model\n",
        "  preds = model.predict(X_test) #make predictions on test set\n",
        "  error = rmse(y_test, preds) #calculate rmse\n",
        "  rmse_val.append(error) #store rmse values\n",
        "  print('RMSe Value for K= ', K, 'is ', error)"
      ],
      "execution_count": null,
      "outputs": [
        {
          "output_type": "stream",
          "text": [
            "RMSe Value for K=  1 is  29037.437915872208\n",
            "RMSe Value for K=  2 is  25435.85806335627\n",
            "RMSe Value for K=  3 is  23917.81689953105\n",
            "RMSe Value for K=  4 is  23217.388648931224\n",
            "RMSe Value for K=  5 is  22954.795535944926\n",
            "RMSe Value for K=  6 is  22638.142669011744\n",
            "RMSe Value for K=  7 is  22552.74685223413\n",
            "RMSe Value for K=  8 is  22376.328819463728\n",
            "RMSe Value for K=  9 is  22385.930167732542\n",
            "RMSe Value for K=  10 is  22412.627757220976\n",
            "RMSe Value for K=  11 is  22381.590989227236\n",
            "RMSe Value for K=  12 is  22372.57595945956\n",
            "RMSe Value for K=  13 is  22355.18062490014\n",
            "RMSe Value for K=  14 is  22408.065999373503\n",
            "RMSe Value for K=  15 is  22470.95095475113\n",
            "RMSe Value for K=  16 is  22475.12277658952\n",
            "RMSe Value for K=  17 is  22470.798868631166\n",
            "RMSe Value for K=  18 is  22527.707521843542\n",
            "RMSe Value for K=  19 is  22538.82309647417\n",
            "RMSe Value for K=  20 is  22597.42682562395\n"
          ],
          "name": "stdout"
        }
      ]
    },
    {
      "cell_type": "code",
      "metadata": {
        "colab": {
          "base_uri": "https://localhost:8080/",
          "height": 281
        },
        "id": "Tsk67MM1OJF-",
        "outputId": "10042005-86c6-4f65-d877-129553255957"
      },
      "source": [
        "#plotting the rmse values (y) against k values (x)\n",
        "curve = pd.DataFrame(rmse_val) #elbow curve \n",
        "curve.plot()"
      ],
      "execution_count": null,
      "outputs": [
        {
          "output_type": "execute_result",
          "data": {
            "text/plain": [
              "<matplotlib.axes._subplots.AxesSubplot at 0x7fb91376e050>"
            ]
          },
          "metadata": {
            "tags": []
          },
          "execution_count": 114
        },
        {
          "output_type": "display_data",
          "data": {
            "image/png": "[encoded data removed]",
            "text/plain": [
              "<Figure size 432x288 with 1 Axes>"
            ]
          },
          "metadata": {
            "tags": [],
            "needs_background": "light"
          }
        }
      ]
    },
    {
      "cell_type": "code",
      "metadata": {
        "colab": {
          "base_uri": "https://localhost:8080/"
        },
        "id": "S7N56sNiOJF-",
        "outputId": "e762f352-d3a1-431e-88af-ee279014e4b9"
      },
      "source": [
        "#set model with ideal hyperparameters from above\n",
        "all_jobs_no_outliers_knn = all_jobs_no_outliers_knn_grid.best_estimator_\n",
        "\n",
        "all_jobs_no_outliers_knn.fit(X_train, y_train)\n",
        "\n",
        "#cross validate\n",
        "all_jobs_no_outliers_knn_scores = cross_val_score(all_jobs_no_outliers_knn, X_train, y_train, cv = 5)\n",
        "\n",
        "print('Accuracy Scores for the 5 folds: ', all_jobs_no_outliers_knn_scores)\n",
        "print('Mean Cross Validation Score: {:.33f}'.format(np.mean(all_jobs_no_outliers_knn_scores)))"
      ],
      "execution_count": null,
      "outputs": [
        {
          "output_type": "stream",
          "text": [
            "Accuracy Scores for the 5 folds:  [0.5368415  0.4648126  0.5276647  0.47237169 0.47786286]\n",
            "Mean Cross Validation Score: 0.495910670790875141022979732952081\n"
          ],
          "name": "stdout"
        }
      ]
    },
    {
      "cell_type": "code",
      "metadata": {
        "colab": {
          "base_uri": "https://localhost:8080/",
          "height": 108
        },
        "id": "RBuLetv_OJF_",
        "outputId": "4bfe57bf-3826-4ead-d32a-520f332093db"
      },
      "source": [
        "#generate predictions\n",
        "all_jobs_no_outliers_knn_preds = all_jobs_no_outliers_knn.predict(X_test)\n",
        "\n",
        "#more performance metrics\n",
        "all_jobs_no_outliers_knn_rsquared_train = all_jobs_no_outliers_knn.score(X_train, y_train)\n",
        "all_jobs_no_outliers_knn_rsquared_test = all_jobs_no_outliers_knn.score(X_test, y_test)\n",
        "all_jobs_no_outliers_knn_mae = mean_absolute_error(y_test, all_jobs_no_outliers_knn_preds)\n",
        "all_jobs_no_outliers_knn_mse = mse(y_test, all_jobs_no_outliers_knn_preds)\n",
        "all_jobs_no_outliers_knn_rmse = rmse(y_test, all_jobs_no_outliers_knn_preds)\n",
        "all_jobs_no_outliers_knn_mape = np.mean(np.abs((y_test - all_jobs_no_outliers_knn_preds)/y_test)*100)\n",
        "all_jobs_no_outliers_knn_rmspe = (np.sqrt(np.mean(np.square((y_test - all_jobs_no_outliers_knn_preds) / y_test)))) * 100\n",
        "all_jobs_no_outliers_knn_model_name = 'All Jobs w/o Outliers KNN'\n",
        "\n",
        "#create easily readable display of performance metrics\n",
        "all_jobs_no_outliers_knn_dictionary = {'Model': all_jobs_no_outliers_knn_model_name,\n",
        "  'Training Set R Squared': all_jobs_no_outliers_knn_rsquared_train, \n",
        "  'Test Set R Squared': all_jobs_no_outliers_knn_rsquared_test, 'Mean Absolute Error': all_jobs_no_outliers_knn_mae, \n",
        "  'Mean Sqaured Error': all_jobs_no_outliers_knn_mse, 'Root Mean Squared Error': all_jobs_no_outliers_knn_rmse,\n",
        "  'Root Mean Squared Percentage Error': all_jobs_no_outliers_knn_rmspe,\n",
        "  'Mean Absolute Percentage Error': all_jobs_no_outliers_knn_mape}\n",
        "\n",
        "all_jobs_no_outliers_knn_df = pd.DataFrame(all_jobs_no_outliers_knn_dictionary, index=[0])\n",
        "\n",
        "all_jobs_no_outliers_knn_df"
      ],
      "execution_count": null,
      "outputs": [
        {
          "output_type": "execute_result",
          "data": {
            "text/html": [
              "<div>\n",
              "<style scoped>\n",
              "    .dataframe tbody tr th:only-of-type {\n",
              "        vertical-align: middle;\n",
              "    }\n",
              "\n",
              "    .dataframe tbody tr th {\n",
              "        vertical-align: top;\n",
              "    }\n",
              "\n",
              "    .dataframe thead th {\n",
              "        text-align: right;\n",
              "    }\n",
              "</style>\n",
              "<table border=\"1\" class=\"dataframe\">\n",
              "  <thead>\n",
              "    <tr style=\"text-align: right;\">\n",
              "      <th></th>\n",
              "      <th>Model</th>\n",
              "      <th>Training Set R Squared</th>\n",
              "      <th>Test Set R Squared</th>\n",
              "      <th>Mean Absolute Error</th>\n",
              "      <th>Mean Sqaured Error</th>\n",
              "      <th>Root Mean Squared Error</th>\n",
              "      <th>Root Mean Squared Percentage Error</th>\n",
              "      <th>Mean Absolute Percentage Error</th>\n",
              "    </tr>\n",
              "  </thead>\n",
              "  <tbody>\n",
              "    <tr>\n",
              "      <th>0</th>\n",
              "      <td>All Jobs w/o Outliers KNN</td>\n",
              "      <td>0.985277</td>\n",
              "      <td>0.510241</td>\n",
              "      <td>16376.142667</td>\n",
              "      <td>5.049436e+08</td>\n",
              "      <td>22470.950955</td>\n",
              "      <td>26.098671</td>\n",
              "      <td>18.409429</td>\n",
              "    </tr>\n",
              "  </tbody>\n",
              "</table>\n",
              "</div>"
            ],
            "text/plain": [
              "                       Model  ...  Mean Absolute Percentage Error\n",
              "0  All Jobs w/o Outliers KNN  ...                       18.409429\n",
              "\n",
              "[1 rows x 8 columns]"
            ]
          },
          "metadata": {
            "tags": []
          },
          "execution_count": 116
        }
      ]
    },
    {
      "cell_type": "markdown",
      "metadata": {
        "id": "47kRHyhPOJF_"
      },
      "source": [
        "### **all_jobs_yrs_no_outliers_df**"
      ]
    },
    {
      "cell_type": "code",
      "metadata": {
        "colab": {
          "base_uri": "https://localhost:8080/"
        },
        "id": "nVrMrLiJOJF_",
        "outputId": "196ed38e-c4dd-4829-c1f2-41ab8de746c2"
      },
      "source": [
        "#set features & target\n",
        "X = all_jobs_yrs_no_outliers_df.drop(columns=['avg_sal', 'log_avg_sal'])\n",
        "y = all_jobs_yrs_no_outliers_df['avg_sal']\n",
        "\n",
        "#split data into training & test sets\n",
        "X_train, X_test, y_train, y_test = train_test_split(X, y, test_size = 0.2, random_state = 43)\n",
        "\n",
        "#Use grid search to find best hyperparameters\n",
        "# defining parameter range \n",
        "param_grid = {'n_neighbors': [2, 4, 6, 8, 10, 12, 15],  \n",
        "              'weights': ['uniform', 'distance'], \n",
        "              'metric': ['euclidean', 'manhattan']}  \n",
        "  \n",
        "years_exp_no_outliers_knn_grid = GridSearchCV(KNeighborsRegressor(), param_grid, refit = True, verbose=1) \n",
        "  \n",
        "# fitting the model for grid search \n",
        "years_exp_no_outliers_knn_grid.fit(X_train, y_train) \n",
        "# print best parameter after tuning \n",
        "print(years_exp_no_outliers_knn_grid.best_params_) \n",
        "  \n",
        "# print how our model looks after hyper-parameter tuning \n",
        "print(years_exp_no_outliers_knn_grid.best_estimator_) "
      ],
      "execution_count": null,
      "outputs": [
        {
          "output_type": "stream",
          "text": [
            "Fitting 5 folds for each of 28 candidates, totalling 140 fits\n"
          ],
          "name": "stdout"
        },
        {
          "output_type": "stream",
          "text": [
            "[Parallel(n_jobs=1)]: Using backend SequentialBackend with 1 concurrent workers.\n"
          ],
          "name": "stderr"
        },
        {
          "output_type": "stream",
          "text": [
            "{'metric': 'manhattan', 'n_neighbors': 8, 'weights': 'distance'}\n",
            "KNeighborsRegressor(algorithm='auto', leaf_size=30, metric='manhattan',\n",
            "                    metric_params=None, n_jobs=None, n_neighbors=8, p=2,\n",
            "                    weights='distance')\n"
          ],
          "name": "stdout"
        },
        {
          "output_type": "stream",
          "text": [
            "[Parallel(n_jobs=1)]: Done 140 out of 140 | elapsed:   32.6s finished\n"
          ],
          "name": "stderr"
        }
      ]
    },
    {
      "cell_type": "code",
      "metadata": {
        "colab": {
          "base_uri": "https://localhost:8080/"
        },
        "id": "ZdFYpw7HOJGA",
        "outputId": "a2d2cc77-24bc-464a-8abb-c3d4db0a204d"
      },
      "source": [
        "#validate best value for k\n",
        "rmse_val = [] #to store rmse values for different k\n",
        "for K in range (20):\n",
        "  K = K+1\n",
        "  model = KNeighborsRegressor(algorithm='auto', leaf_size=30, metric='manhattan',\n",
        "                    metric_params=None, n_jobs=None, n_neighbors=K, p=2,\n",
        "                    weights='distance')\n",
        "  model.fit(X_train, y_train) #fit the model\n",
        "  preds = model.predict(X_test) #make predictions on test set\n",
        "  error = rmse(y_test, preds) #calculate rmse\n",
        "  rmse_val.append(error) #store rmse values\n",
        "  print('RMSe Value for K= ', K, 'is ', error)"
      ],
      "execution_count": null,
      "outputs": [
        {
          "output_type": "stream",
          "text": [
            "RMSe Value for K=  1 is  28686.334947180512\n",
            "RMSe Value for K=  2 is  24737.500614707867\n",
            "RMSe Value for K=  3 is  23955.87745071283\n",
            "RMSe Value for K=  4 is  23742.091470565436\n",
            "RMSe Value for K=  5 is  23474.854732924006\n",
            "RMSe Value for K=  6 is  23148.02219084835\n",
            "RMSe Value for K=  7 is  22987.082548725535\n",
            "RMSe Value for K=  8 is  22746.74509875313\n",
            "RMSe Value for K=  9 is  22652.209491910995\n",
            "RMSe Value for K=  10 is  22664.723066969742\n",
            "RMSe Value for K=  11 is  22550.58182483992\n",
            "RMSe Value for K=  12 is  22507.24744818197\n",
            "RMSe Value for K=  13 is  22434.066455690016\n",
            "RMSe Value for K=  14 is  22376.948419255637\n",
            "RMSe Value for K=  15 is  22437.97445763348\n",
            "RMSe Value for K=  16 is  22425.031492816302\n",
            "RMSe Value for K=  17 is  22388.11929939296\n",
            "RMSe Value for K=  18 is  22341.132001925613\n",
            "RMSe Value for K=  19 is  22343.93601872469\n",
            "RMSe Value for K=  20 is  22370.478538947053\n"
          ],
          "name": "stdout"
        }
      ]
    },
    {
      "cell_type": "code",
      "metadata": {
        "colab": {
          "base_uri": "https://localhost:8080/",
          "height": 285
        },
        "id": "T5njMSk3OJGA",
        "outputId": "dd706061-c8fe-4c23-9b68-bac8ecf9f251"
      },
      "source": [
        "#plotting the rmse values (y) against k values (x)\n",
        "curve = pd.DataFrame(rmse_val) #elbow curve \n",
        "curve.plot()"
      ],
      "execution_count": null,
      "outputs": [
        {
          "output_type": "execute_result",
          "data": {
            "text/plain": [
              "<matplotlib.axes._subplots.AxesSubplot at 0x7fb913dc5350>"
            ]
          },
          "metadata": {
            "tags": []
          },
          "execution_count": 119
        },
        {
          "output_type": "display_data",
          "data": {
            "image/png": "[encoded data removed]",
            "text/plain": [
              "<Figure size 432x288 with 1 Axes>"
            ]
          },
          "metadata": {
            "tags": [],
            "needs_background": "light"
          }
        }
      ]
    },
    {
      "cell_type": "code",
      "metadata": {
        "colab": {
          "base_uri": "https://localhost:8080/"
        },
        "id": "OL-z9MTaOJGA",
        "outputId": "8a494df5-d099-4ff8-c276-ccc130b04741"
      },
      "source": [
        "#set model with ideal hyperparameters from above\n",
        "years_exp_no_outliers_knn = years_exp_no_outliers_knn_grid.best_estimator_\n",
        "\n",
        "years_exp_no_outliers_knn.fit(X_train, y_train)\n",
        "\n",
        "#cross validate\n",
        "years_exp_no_outliers_knn_scores = cross_val_score(years_exp_no_outliers_knn, X_train, y_train, cv = 5)\n",
        "\n",
        "print('Accuracy Scores for the 5 folds: ', years_exp_no_outliers_knn_scores)\n",
        "print('Mean Cross Validation Score: {:.33f}'.format(np.mean(years_exp_no_outliers_knn_scores)))"
      ],
      "execution_count": null,
      "outputs": [
        {
          "output_type": "stream",
          "text": [
            "Accuracy Scores for the 5 folds:  [0.52104991 0.52733793 0.52029251 0.43777891 0.54624222]\n",
            "Mean Cross Validation Score: 0.510540297484062044475194852566347\n"
          ],
          "name": "stdout"
        }
      ]
    },
    {
      "cell_type": "code",
      "metadata": {
        "colab": {
          "base_uri": "https://localhost:8080/",
          "height": 108
        },
        "id": "BoS5sHQnOJGA",
        "outputId": "808e82f8-189b-4778-fc74-f51ed880c526"
      },
      "source": [
        "#generate predictions\n",
        "years_exp_no_outliers_knn_preds = years_exp_no_outliers_knn.predict(X_test)\n",
        "\n",
        "#more performance metrics\n",
        "years_exp_no_outliers_knn_rsquared_train = years_exp_no_outliers_knn.score(X_train, y_train)\n",
        "years_exp_no_outliers_knn_rsquared_test = years_exp_no_outliers_knn.score(X_test, y_test)\n",
        "years_exp_no_outliers_knn_mae = mean_absolute_error(y_test, years_exp_no_outliers_knn_preds)\n",
        "years_exp_no_outliers_knn_mse = mse(y_test, years_exp_no_outliers_knn_preds)\n",
        "years_exp_no_outliers_knn_rmse = rmse(y_test, years_exp_no_outliers_knn_preds)\n",
        "years_exp_no_outliers_knn_mape = np.mean(np.abs((y_test - years_exp_no_outliers_knn_preds)/y_test)*100)\n",
        "years_exp_no_outliers_knn_rmspe = (np.sqrt(np.mean(np.square((y_test - years_exp_no_outliers_knn_preds) / y_test)))) * 100\n",
        "years_exp_no_outliers_knn_model_name = 'All Jobs Years of Experience w/o Outliers KNN'\n",
        "\n",
        "#create easily readable display of performance metrics\n",
        "years_exp_no_outliers_knn_dictionary = {'Model': years_exp_no_outliers_knn_model_name,\n",
        "  'Training Set R Squared': years_exp_no_outliers_knn_rsquared_train, \n",
        "  'Test Set R Squared': years_exp_no_outliers_knn_rsquared_test, 'Mean Absolute Error': years_exp_no_outliers_knn_mae, \n",
        "  'Mean Sqaured Error': years_exp_no_outliers_knn_mse, 'Root Mean Squared Error': years_exp_no_outliers_knn_rmse,\n",
        "  'Root Mean Squared Percentage Error': years_exp_no_outliers_knn_rmspe,\n",
        "  'Mean Absolute Percentage Error': years_exp_no_outliers_knn_mape}\n",
        "\n",
        "years_exp_no_outliers_knn_df = pd.DataFrame(years_exp_no_outliers_knn_dictionary, index=[0])\n",
        "\n",
        "years_exp_no_outliers_knn_df"
      ],
      "execution_count": null,
      "outputs": [
        {
          "output_type": "execute_result",
          "data": {
            "text/html": [
              "<div>\n",
              "<style scoped>\n",
              "    .dataframe tbody tr th:only-of-type {\n",
              "        vertical-align: middle;\n",
              "    }\n",
              "\n",
              "    .dataframe tbody tr th {\n",
              "        vertical-align: top;\n",
              "    }\n",
              "\n",
              "    .dataframe thead th {\n",
              "        text-align: right;\n",
              "    }\n",
              "</style>\n",
              "<table border=\"1\" class=\"dataframe\">\n",
              "  <thead>\n",
              "    <tr style=\"text-align: right;\">\n",
              "      <th></th>\n",
              "      <th>Model</th>\n",
              "      <th>Training Set R Squared</th>\n",
              "      <th>Test Set R Squared</th>\n",
              "      <th>Mean Absolute Error</th>\n",
              "      <th>Mean Sqaured Error</th>\n",
              "      <th>Root Mean Squared Error</th>\n",
              "      <th>Root Mean Squared Percentage Error</th>\n",
              "      <th>Mean Absolute Percentage Error</th>\n",
              "    </tr>\n",
              "  </thead>\n",
              "  <tbody>\n",
              "    <tr>\n",
              "      <th>0</th>\n",
              "      <td>All Jobs Years of Experience w/o Outliers KNN</td>\n",
              "      <td>0.98539</td>\n",
              "      <td>0.456964</td>\n",
              "      <td>16025.831462</td>\n",
              "      <td>5.174144e+08</td>\n",
              "      <td>22746.745099</td>\n",
              "      <td>24.489349</td>\n",
              "      <td>17.424402</td>\n",
              "    </tr>\n",
              "  </tbody>\n",
              "</table>\n",
              "</div>"
            ],
            "text/plain": [
              "                                           Model  ...  Mean Absolute Percentage Error\n",
              "0  All Jobs Years of Experience w/o Outliers KNN  ...                       17.424402\n",
              "\n",
              "[1 rows x 8 columns]"
            ]
          },
          "metadata": {
            "tags": []
          },
          "execution_count": 121
        }
      ]
    },
    {
      "cell_type": "markdown",
      "metadata": {
        "id": "YpiXWCYSOJGB"
      },
      "source": [
        "### **all_jobs_no_outliers_df log(y)**"
      ]
    },
    {
      "cell_type": "code",
      "metadata": {
        "colab": {
          "base_uri": "https://localhost:8080/"
        },
        "id": "MCyHT8KnOJGB",
        "outputId": "13c7583d-406e-44be-b868-b3cfbb8e6b6a"
      },
      "source": [
        "#set features & target\n",
        "X = all_jobs_no_outliers_df.drop(columns=['avg_sal', 'log_avg_sal'])\n",
        "y = all_jobs_no_outliers_df['log_avg_sal']\n",
        "\n",
        "#split data into training & test sets\n",
        "X_train, X_test, y_train, y_test = train_test_split(X, y, test_size = 0.2, random_state = 43)\n",
        "\n",
        "#Use grid search to find best hyperparameters\n",
        "# defining parameter range \n",
        "param_grid = {'n_neighbors': [2, 4, 6, 8, 10, 12, 15],  \n",
        "              'weights': ['uniform', 'distance'], \n",
        "              'metric': ['euclidean', 'manhattan']}  \n",
        "  \n",
        "log_all_jobs_no_outliers_knn_grid = GridSearchCV(KNeighborsRegressor(), param_grid, refit = True, verbose=1) \n",
        "  \n",
        "# fitting the model for grid search \n",
        "log_all_jobs_no_outliers_knn_grid.fit(X_train, y_train) \n",
        "# print best parameter after tuning \n",
        "print(log_all_jobs_no_outliers_knn_grid.best_params_) \n",
        "  \n",
        "# print how our model looks after hyper-parameter tuning \n",
        "print(log_all_jobs_no_outliers_knn_grid.best_estimator_) "
      ],
      "execution_count": null,
      "outputs": [
        {
          "output_type": "stream",
          "text": [
            "Fitting 5 folds for each of 28 candidates, totalling 140 fits\n"
          ],
          "name": "stdout"
        },
        {
          "output_type": "stream",
          "text": [
            "[Parallel(n_jobs=1)]: Using backend SequentialBackend with 1 concurrent workers.\n"
          ],
          "name": "stderr"
        },
        {
          "output_type": "stream",
          "text": [
            "{'metric': 'manhattan', 'n_neighbors': 15, 'weights': 'distance'}\n",
            "KNeighborsRegressor(algorithm='auto', leaf_size=30, metric='manhattan',\n",
            "                    metric_params=None, n_jobs=None, n_neighbors=15, p=2,\n",
            "                    weights='distance')\n"
          ],
          "name": "stdout"
        },
        {
          "output_type": "stream",
          "text": [
            "[Parallel(n_jobs=1)]: Done 140 out of 140 | elapsed:   43.2s finished\n"
          ],
          "name": "stderr"
        }
      ]
    },
    {
      "cell_type": "code",
      "metadata": {
        "colab": {
          "base_uri": "https://localhost:8080/"
        },
        "id": "j2JSIK3cOJGB",
        "outputId": "ae84fdd7-43ce-47b4-e4c0-c5de9c3c55af"
      },
      "source": [
        "#validate best value for k\n",
        "rmse_val = [] #to store rmse values for different k\n",
        "for K in range (20):\n",
        "  K = K+1\n",
        "  model = KNeighborsRegressor(algorithm='auto', leaf_size=30, metric='manhattan',\n",
        "                    metric_params=None, n_jobs=None, n_neighbors=K, p=2,\n",
        "                    weights='distance')\n",
        "  model.fit(X_train, y_train) #fit the model\n",
        "  preds = model.predict(X_test) #make predictions on test set\n",
        "  error = rmse(y_test, preds) #calculate rmse\n",
        "  rmse_val.append(error) #store rmse values\n",
        "  print('RMSe Value for K= ', K, 'is ', error)"
      ],
      "execution_count": null,
      "outputs": [
        {
          "output_type": "stream",
          "text": [
            "RMSe Value for K=  1 is  0.3164479183033038\n",
            "RMSe Value for K=  2 is  0.2782040124197313\n",
            "RMSe Value for K=  3 is  0.2613211826638708\n",
            "RMSe Value for K=  4 is  0.2536863345737399\n",
            "RMSe Value for K=  5 is  0.25072043287072276\n",
            "RMSe Value for K=  6 is  0.24760613321735805\n",
            "RMSe Value for K=  7 is  0.2467801440309563\n",
            "RMSe Value for K=  8 is  0.24441115069111433\n",
            "RMSe Value for K=  9 is  0.24456434499610147\n",
            "RMSe Value for K=  10 is  0.2453014592240169\n",
            "RMSe Value for K=  11 is  0.244830174005126\n",
            "RMSe Value for K=  12 is  0.24466021527176043\n",
            "RMSe Value for K=  13 is  0.2443853348255541\n",
            "RMSe Value for K=  14 is  0.244718503743811\n",
            "RMSe Value for K=  15 is  0.24528152618332336\n",
            "RMSe Value for K=  16 is  0.24537043133661243\n",
            "RMSe Value for K=  17 is  0.24488087243274914\n",
            "RMSe Value for K=  18 is  0.24543476425971755\n",
            "RMSe Value for K=  19 is  0.24546208247231527\n",
            "RMSe Value for K=  20 is  0.2459912802631092\n"
          ],
          "name": "stdout"
        }
      ]
    },
    {
      "cell_type": "code",
      "metadata": {
        "colab": {
          "base_uri": "https://localhost:8080/",
          "height": 285
        },
        "id": "6N3qMDjZOJGC",
        "outputId": "a0013a11-d155-4c76-9de6-2b8032c75391"
      },
      "source": [
        "#plotting the rmse values (y) against k values (x)\n",
        "curve = pd.DataFrame(rmse_val) #elbow curve \n",
        "curve.plot()"
      ],
      "execution_count": null,
      "outputs": [
        {
          "output_type": "execute_result",
          "data": {
            "text/plain": [
              "<matplotlib.axes._subplots.AxesSubplot at 0x7fb9140f5b10>"
            ]
          },
          "metadata": {
            "tags": []
          },
          "execution_count": 124
        },
        {
          "output_type": "display_data",
          "data": {
            "image/png": "[encoded data removed]",
            "text/plain": [
              "<Figure size 432x288 with 1 Axes>"
            ]
          },
          "metadata": {
            "tags": [],
            "needs_background": "light"
          }
        }
      ]
    },
    {
      "cell_type": "code",
      "metadata": {
        "colab": {
          "base_uri": "https://localhost:8080/"
        },
        "id": "n6-zzsogOJGC",
        "outputId": "32cdd797-b01c-4b40-85c5-38764803c7f7"
      },
      "source": [
        "#set model with ideal hyperparameters from above\n",
        "log_all_jobs_no_outliers_knn = log_all_jobs_no_outliers_knn_grid.best_estimator_\n",
        "\n",
        "log_all_jobs_no_outliers_knn.fit(X_train, y_train)\n",
        "\n",
        "#cross validate\n",
        "log_all_jobs_no_outliers_knn_scores = cross_val_score(log_all_jobs_no_outliers_knn, X_train, y_train, cv = 5)\n",
        "\n",
        "print('Accuracy Scores for the 5 folds: ', log_all_jobs_no_outliers_knn_scores)\n",
        "print('Mean Cross Validation Score: {:.33f}'.format(np.mean(log_all_jobs_no_outliers_knn_scores)))"
      ],
      "execution_count": null,
      "outputs": [
        {
          "output_type": "stream",
          "text": [
            "Accuracy Scores for the 5 folds:  [0.53954131 0.45753333 0.52441983 0.48135386 0.48609649]\n",
            "Mean Cross Validation Score: 0.497788964340389217255733456113376\n"
          ],
          "name": "stdout"
        }
      ]
    },
    {
      "cell_type": "code",
      "metadata": {
        "colab": {
          "base_uri": "https://localhost:8080/",
          "height": 108
        },
        "id": "eZGLRvgbOJGC",
        "outputId": "4fbf0984-9069-4d35-fce1-8cf2d9f996ed"
      },
      "source": [
        "#generate predictions\n",
        "log_all_jobs_no_outliers_knn_preds = log_all_jobs_no_outliers_knn.predict(X_test)\n",
        "\n",
        "#more performance metrics\n",
        "log_all_jobs_no_outliers_knn_rsquared_train = log_all_jobs_no_outliers_knn.score(X_train, y_train)\n",
        "log_all_jobs_no_outliers_knn_rsquared_test = log_all_jobs_no_outliers_knn.score(X_test, y_test)\n",
        "log_all_jobs_no_outliers_knn_mae = mean_absolute_error(y_test, log_all_jobs_no_outliers_knn_preds)\n",
        "log_all_jobs_no_outliers_knn_mse = mse(y_test, log_all_jobs_no_outliers_knn_preds)\n",
        "log_all_jobs_no_outliers_knn_rmse = rmse(y_test, log_all_jobs_no_outliers_knn_preds)\n",
        "log_all_jobs_no_outliers_knn_mape = np.mean(np.abs((y_test - log_all_jobs_no_outliers_knn_preds)/y_test)*100)\n",
        "log_all_jobs_no_outliers_knn_rmspe = (np.sqrt(np.mean(np.square((y_test - log_all_jobs_no_outliers_knn_preds) / y_test)))) * 100\n",
        "log_all_jobs_no_outliers_knn_model_name = 'All Jobs w/o Outliers KNN Log(y)'\n",
        "\n",
        "#create easily readable display of performance metrics\n",
        "log_all_jobs_no_outliers_knn_dictionary = {'Model': log_all_jobs_no_outliers_knn_model_name,\n",
        "  'Training Set R Squared': log_all_jobs_no_outliers_knn_rsquared_train, \n",
        "  'Test Set R Squared': log_all_jobs_no_outliers_knn_rsquared_test, 'Mean Absolute Error': log_all_jobs_no_outliers_knn_mae, \n",
        "  'Mean Sqaured Error': log_all_jobs_no_outliers_knn_mse, 'Root Mean Squared Error': log_all_jobs_no_outliers_knn_rmse,\n",
        "  'Root Mean Squared Percentage Error': log_all_jobs_no_outliers_knn_rmspe,\n",
        "  'Mean Absolute Percentage Error': log_all_jobs_no_outliers_knn_mape}\n",
        "\n",
        "log_all_jobs_no_outliers_knn_df = pd.DataFrame(log_all_jobs_no_outliers_knn_dictionary, index=[0])\n",
        "\n",
        "log_all_jobs_no_outliers_knn_df"
      ],
      "execution_count": null,
      "outputs": [
        {
          "output_type": "execute_result",
          "data": {
            "text/html": [
              "<div>\n",
              "<style scoped>\n",
              "    .dataframe tbody tr th:only-of-type {\n",
              "        vertical-align: middle;\n",
              "    }\n",
              "\n",
              "    .dataframe tbody tr th {\n",
              "        vertical-align: top;\n",
              "    }\n",
              "\n",
              "    .dataframe thead th {\n",
              "        text-align: right;\n",
              "    }\n",
              "</style>\n",
              "<table border=\"1\" class=\"dataframe\">\n",
              "  <thead>\n",
              "    <tr style=\"text-align: right;\">\n",
              "      <th></th>\n",
              "      <th>Model</th>\n",
              "      <th>Training Set R Squared</th>\n",
              "      <th>Test Set R Squared</th>\n",
              "      <th>Mean Absolute Error</th>\n",
              "      <th>Mean Sqaured Error</th>\n",
              "      <th>Root Mean Squared Error</th>\n",
              "      <th>Root Mean Squared Percentage Error</th>\n",
              "      <th>Mean Absolute Percentage Error</th>\n",
              "    </tr>\n",
              "  </thead>\n",
              "  <tbody>\n",
              "    <tr>\n",
              "      <th>0</th>\n",
              "      <td>All Jobs w/o Outliers KNN Log(y)</td>\n",
              "      <td>0.986725</td>\n",
              "      <td>0.491891</td>\n",
              "      <td>0.183703</td>\n",
              "      <td>0.060163</td>\n",
              "      <td>0.245282</td>\n",
              "      <td>2.154334</td>\n",
              "      <td>1.611869</td>\n",
              "    </tr>\n",
              "  </tbody>\n",
              "</table>\n",
              "</div>"
            ],
            "text/plain": [
              "                              Model  ...  Mean Absolute Percentage Error\n",
              "0  All Jobs w/o Outliers KNN Log(y)  ...                        1.611869\n",
              "\n",
              "[1 rows x 8 columns]"
            ]
          },
          "metadata": {
            "tags": []
          },
          "execution_count": 126
        }
      ]
    },
    {
      "cell_type": "markdown",
      "metadata": {
        "id": "Odc-rKaXOJGD"
      },
      "source": [
        "### **all_jobs_yrs_no_outliers_df log(y)**"
      ]
    },
    {
      "cell_type": "code",
      "metadata": {
        "colab": {
          "base_uri": "https://localhost:8080/"
        },
        "id": "nP82Qkr2OJGD",
        "outputId": "7610e05b-2558-441d-c256-4af92c5ff48a"
      },
      "source": [
        "#set features & target\n",
        "X = all_jobs_yrs_no_outliers_df.drop(columns=['avg_sal', 'log_avg_sal'])\n",
        "y = all_jobs_yrs_no_outliers_df['log_avg_sal']\n",
        "\n",
        "#split data into training & test sets\n",
        "X_train, X_test, y_train, y_test = train_test_split(X, y, test_size = 0.2, random_state = 43)\n",
        "\n",
        "#Use grid search to find best hyperparameters\n",
        "# defining parameter range \n",
        "param_grid = {'n_neighbors': [2, 4, 6, 8, 10, 12, 15],  \n",
        "              'weights': ['uniform', 'distance'], \n",
        "              'metric': ['euclidean', 'manhattan']}  \n",
        "  \n",
        "log_years_exp_no_outliers_knn_grid = GridSearchCV(KNeighborsRegressor(), param_grid, refit = True, verbose=1) \n",
        "  \n",
        "# fitting the model for grid search \n",
        "log_years_exp_no_outliers_knn_grid.fit(X_train, y_train) \n",
        "# print best parameter after tuning \n",
        "print(log_years_exp_no_outliers_knn_grid.best_params_) \n",
        "  \n",
        "# print how our model looks after hyper-parameter tuning \n",
        "print(log_years_exp_no_outliers_knn_grid.best_estimator_) "
      ],
      "execution_count": null,
      "outputs": [
        {
          "output_type": "stream",
          "text": [
            "Fitting 5 folds for each of 28 candidates, totalling 140 fits\n"
          ],
          "name": "stdout"
        },
        {
          "output_type": "stream",
          "text": [
            "[Parallel(n_jobs=1)]: Using backend SequentialBackend with 1 concurrent workers.\n"
          ],
          "name": "stderr"
        },
        {
          "output_type": "stream",
          "text": [
            "{'metric': 'manhattan', 'n_neighbors': 8, 'weights': 'distance'}\n",
            "KNeighborsRegressor(algorithm='auto', leaf_size=30, metric='manhattan',\n",
            "                    metric_params=None, n_jobs=None, n_neighbors=8, p=2,\n",
            "                    weights='distance')\n"
          ],
          "name": "stdout"
        },
        {
          "output_type": "stream",
          "text": [
            "[Parallel(n_jobs=1)]: Done 140 out of 140 | elapsed:   32.5s finished\n"
          ],
          "name": "stderr"
        }
      ]
    },
    {
      "cell_type": "code",
      "metadata": {
        "colab": {
          "base_uri": "https://localhost:8080/"
        },
        "id": "q-0czH_nOJGD",
        "outputId": "2eed452e-3b22-4803-c60a-2007168dcbb5"
      },
      "source": [
        "#validate best value for k\n",
        "rmse_val = [] #to store rmse values for different k\n",
        "for K in range (20):\n",
        "  K = K+1\n",
        "  model = KNeighborsRegressor(algorithm='auto', leaf_size=30, metric='manhattan',\n",
        "                    metric_params=None, n_jobs=None, n_neighbors=K, p=2,\n",
        "                    weights='distance')\n",
        "  model.fit(X_train, y_train) #fit the model\n",
        "  preds = model.predict(X_test) #make predictions on test set\n",
        "  error = rmse(y_test, preds) #calculate rmse\n",
        "  rmse_val.append(error) #store rmse values\n",
        "  print('RMSe Value for K= ', K, 'is ', error)"
      ],
      "execution_count": null,
      "outputs": [
        {
          "output_type": "stream",
          "text": [
            "RMSe Value for K=  1 is  0.3031441423875988\n",
            "RMSe Value for K=  2 is  0.26089774931787624\n",
            "RMSe Value for K=  3 is  0.2512898627771158\n",
            "RMSe Value for K=  4 is  0.24892749137828618\n",
            "RMSe Value for K=  5 is  0.24535141854956125\n",
            "RMSe Value for K=  6 is  0.24312754461719877\n",
            "RMSe Value for K=  7 is  0.24091312101290982\n",
            "RMSe Value for K=  8 is  0.2387450551418904\n",
            "RMSe Value for K=  9 is  0.23771498581467948\n",
            "RMSe Value for K=  10 is  0.23770797305430538\n",
            "RMSe Value for K=  11 is  0.2370006644771886\n",
            "RMSe Value for K=  12 is  0.23673684607642517\n",
            "RMSe Value for K=  13 is  0.2359843578088902\n",
            "RMSe Value for K=  14 is  0.23514069367947296\n",
            "RMSe Value for K=  15 is  0.2356957061630618\n",
            "RMSe Value for K=  16 is  0.23551379756222515\n",
            "RMSe Value for K=  17 is  0.2350051041427948\n",
            "RMSe Value for K=  18 is  0.23448546148863036\n",
            "RMSe Value for K=  19 is  0.23434687347049016\n",
            "RMSe Value for K=  20 is  0.23445935697098788\n"
          ],
          "name": "stdout"
        }
      ]
    },
    {
      "cell_type": "code",
      "metadata": {
        "colab": {
          "base_uri": "https://localhost:8080/",
          "height": 281
        },
        "id": "4MW93I7rOJGD",
        "outputId": "77b66906-8a48-424e-b02e-3b57a5105ae9"
      },
      "source": [
        "#plotting the rmse values (y) against k values (x)\n",
        "curve = pd.DataFrame(rmse_val) #elbow curve \n",
        "curve.plot()"
      ],
      "execution_count": null,
      "outputs": [
        {
          "output_type": "execute_result",
          "data": {
            "text/plain": [
              "<matplotlib.axes._subplots.AxesSubplot at 0x7fb913fb7310>"
            ]
          },
          "metadata": {
            "tags": []
          },
          "execution_count": 129
        },
        {
          "output_type": "display_data",
          "data": {
            "image/png": "[encoded data removed]",
            "text/plain": [
              "<Figure size 432x288 with 1 Axes>"
            ]
          },
          "metadata": {
            "tags": [],
            "needs_background": "light"
          }
        }
      ]
    },
    {
      "cell_type": "code",
      "metadata": {
        "colab": {
          "base_uri": "https://localhost:8080/"
        },
        "id": "9VRFCeSaOJGD",
        "outputId": "7443c946-167a-4ac9-e501-a4bf3f852eec"
      },
      "source": [
        "#set model with ideal hyperparameters from above\n",
        "log_years_exp_no_outliers_knn = log_years_exp_no_outliers_knn_grid.best_estimator_\n",
        "\n",
        "log_years_exp_no_outliers_knn.fit(X_train, y_train)\n",
        "\n",
        "#cross validate\n",
        "log_years_exp_no_outliers_knn_scores = cross_val_score(log_years_exp_no_outliers_knn, X_train, y_train, cv = 5)\n",
        "\n",
        "print('Accuracy Scores for the 5 folds: ', log_years_exp_no_outliers_knn_scores)\n",
        "print('Mean Cross Validation Score: {:.33f}'.format(np.mean(log_years_exp_no_outliers_knn_scores)))"
      ],
      "execution_count": null,
      "outputs": [
        {
          "output_type": "stream",
          "text": [
            "Accuracy Scores for the 5 folds:  [0.53623275 0.52996098 0.51625196 0.4197201  0.52892117]\n",
            "Mean Cross Validation Score: 0.506217391871957134164006220089504\n"
          ],
          "name": "stdout"
        }
      ]
    },
    {
      "cell_type": "code",
      "metadata": {
        "colab": {
          "base_uri": "https://localhost:8080/",
          "height": 108
        },
        "id": "2vbNeSsqOJGE",
        "outputId": "329c8591-8115-46ca-d84b-3e06eaa9ad68"
      },
      "source": [
        "#generate predictions\n",
        "log_years_exp_no_outliers_knn_preds = log_years_exp_no_outliers_knn.predict(X_test)\n",
        "\n",
        "#more performance metrics\n",
        "log_years_exp_no_outliers_knn_rsquared_train = log_years_exp_no_outliers_knn.score(X_train, y_train)\n",
        "log_years_exp_no_outliers_knn_rsquared_test = log_years_exp_no_outliers_knn.score(X_test, y_test)\n",
        "log_years_exp_no_outliers_knn_mae = mean_absolute_error(y_test, log_years_exp_no_outliers_knn_preds)\n",
        "log_years_exp_no_outliers_knn_mse = mse(y_test, log_years_exp_no_outliers_knn_preds)\n",
        "log_years_exp_no_outliers_knn_rmse = rmse(y_test, log_years_exp_no_outliers_knn_preds)\n",
        "log_years_exp_no_outliers_knn_mape = np.mean(np.abs((y_test - log_years_exp_no_outliers_knn_preds)/y_test)*100)\n",
        "log_years_exp_no_outliers_knn_rmspe = (np.sqrt(np.mean(np.square((y_test - log_years_exp_no_outliers_knn_preds) / y_test)))) * 100\n",
        "log_years_exp_no_outliers_knn_model_name = 'All Jobs Years of Experience w/o Outliers KNN Log(y)'\n",
        "\n",
        "#create easily readable display of performance metrics\n",
        "log_years_exp_no_outliers_knn_dictionary = {'Model': log_years_exp_no_outliers_knn_model_name,\n",
        "  'Training Set R Squared': log_years_exp_no_outliers_knn_rsquared_train, \n",
        "  'Test Set R Squared': log_years_exp_no_outliers_knn_rsquared_test, 'Mean Absolute Error': log_years_exp_no_outliers_knn_mae, \n",
        "  'Mean Sqaured Error': log_years_exp_no_outliers_knn_mse, 'Root Mean Squared Error': log_years_exp_no_outliers_knn_rmse,\n",
        "  'Root Mean Squared Percentage Error': log_years_exp_no_outliers_knn_rmspe,\n",
        "  'Mean Absolute Percentage Error': log_years_exp_no_outliers_knn_mape}\n",
        "\n",
        "log_years_exp_no_outliers_knn_df = pd.DataFrame(log_years_exp_no_outliers_knn_dictionary, index=[0])\n",
        "\n",
        "log_years_exp_no_outliers_knn_df"
      ],
      "execution_count": null,
      "outputs": [
        {
          "output_type": "execute_result",
          "data": {
            "text/html": [
              "<div>\n",
              "<style scoped>\n",
              "    .dataframe tbody tr th:only-of-type {\n",
              "        vertical-align: middle;\n",
              "    }\n",
              "\n",
              "    .dataframe tbody tr th {\n",
              "        vertical-align: top;\n",
              "    }\n",
              "\n",
              "    .dataframe thead th {\n",
              "        text-align: right;\n",
              "    }\n",
              "</style>\n",
              "<table border=\"1\" class=\"dataframe\">\n",
              "  <thead>\n",
              "    <tr style=\"text-align: right;\">\n",
              "      <th></th>\n",
              "      <th>Model</th>\n",
              "      <th>Training Set R Squared</th>\n",
              "      <th>Test Set R Squared</th>\n",
              "      <th>Mean Absolute Error</th>\n",
              "      <th>Mean Sqaured Error</th>\n",
              "      <th>Root Mean Squared Error</th>\n",
              "      <th>Root Mean Squared Percentage Error</th>\n",
              "      <th>Mean Absolute Percentage Error</th>\n",
              "    </tr>\n",
              "  </thead>\n",
              "  <tbody>\n",
              "    <tr>\n",
              "      <th>0</th>\n",
              "      <td>All Jobs Years of Experience w/o Outliers KNN ...</td>\n",
              "      <td>0.986351</td>\n",
              "      <td>0.482157</td>\n",
              "      <td>0.174185</td>\n",
              "      <td>0.056999</td>\n",
              "      <td>0.238745</td>\n",
              "      <td>2.084524</td>\n",
              "      <td>1.5248</td>\n",
              "    </tr>\n",
              "  </tbody>\n",
              "</table>\n",
              "</div>"
            ],
            "text/plain": [
              "                                               Model  ...  Mean Absolute Percentage Error\n",
              "0  All Jobs Years of Experience w/o Outliers KNN ...  ...                          1.5248\n",
              "\n",
              "[1 rows x 8 columns]"
            ]
          },
          "metadata": {
            "tags": []
          },
          "execution_count": 131
        }
      ]
    },
    {
      "cell_type": "markdown",
      "metadata": {
        "id": "OKBhxU1EzEbV"
      },
      "source": [
        "## **Random Forest**"
      ]
    },
    {
      "cell_type": "markdown",
      "metadata": {
        "id": "lPenY3e2zEbW"
      },
      "source": [
        "### **all_jobs_df**"
      ]
    },
    {
      "cell_type": "code",
      "metadata": {
        "id": "llzXORN7zEbW"
      },
      "source": [
        "#set features & target\n",
        "X = all_jobs_df.drop(columns=['avg_sal', 'log_avg_sal'])\n",
        "y = all_jobs_df['avg_sal']\n",
        "\n",
        "#split data into training & test sets\n",
        "X_train, X_test, y_train, y_test = train_test_split(X, y, test_size = 0.2, random_state = 43)\n",
        "\n",
        "# #Use grid search to find best hyperparameters\n",
        "# # defining parameter range \n",
        "# param_grid = {'bootstrap': [True, False],\n",
        "#  'max_depth': [10, 20, 30, 40, 50, None],\n",
        "#  'max_features': ['auto', 'sqrt'],\n",
        "#  'min_samples_leaf': [1, 2, 4],\n",
        "#  'min_samples_split': [2, 5, 10],\n",
        "#  'n_estimators': [0,20,40,60,80,100,120,140,160,180,200],\n",
        "#  'random_state': [43]}  \n",
        "  \n",
        "# all_jobs_rf_grid = GridSearchCV(RandomForestRegressor(), param_grid, refit = True, verbose=1)\n",
        "# # fitting the model for grid search \n",
        "# all_jobs_rf_grid.fit(X_train, y_train) \n",
        "# # print best parameter after tuning \n",
        "# print(all_jobs_rf_grid.best_params_) \n",
        "  \n",
        "# # print how our model looks after hyper-parameter tuning \n",
        "# print(all_jobs_rf_grid.best_estimator_) "
      ],
      "execution_count": null,
      "outputs": []
    },
    {
      "cell_type": "code",
      "metadata": {
        "id": "nnr4rs1VzEbX",
        "colab": {
          "base_uri": "https://localhost:8080/"
        },
        "outputId": "aa68a41d-402e-4bf4-92c2-12656d322f1d"
      },
      "source": [
        "#set model with ideal hyperparameters from above\n",
        "all_jobs_rf = RandomForestRegressor(bootstrap=False, ccp_alpha=0.0, criterion='mse',\n",
        "                      max_depth=40, max_features='sqrt', max_leaf_nodes=None,\n",
        "                      max_samples=None, min_impurity_decrease=0.0,\n",
        "                      min_impurity_split=None, min_samples_leaf=1,\n",
        "                      min_samples_split=5, min_weight_fraction_leaf=0.0,\n",
        "                      n_estimators=200, n_jobs=None, oob_score=False,\n",
        "                      random_state=43, verbose=0, warm_start=False)\n",
        "\n",
        "all_jobs_rf.fit(X_train, y_train)\n",
        "\n",
        "#cross validate\n",
        "all_jobs_rf_scores = cross_val_score(all_jobs_rf, X_train, y_train, cv = 5)\n",
        "\n",
        "print('Accuracy Scores for the 5 folds: ', all_jobs_rf_scores)\n",
        "print('Mean Cross Validation Score: {:.33f}'.format(np.mean(all_jobs_rf_scores)))"
      ],
      "execution_count": null,
      "outputs": [
        {
          "output_type": "stream",
          "text": [
            "Accuracy Scores for the 5 folds:  [0.60188166 0.57671562 0.55211679 0.53510756 0.54954055]\n",
            "Mean Cross Validation Score: 0.563072435763441014877628276735777\n"
          ],
          "name": "stdout"
        }
      ]
    },
    {
      "cell_type": "code",
      "metadata": {
        "id": "jQ9irJEVzEbX",
        "colab": {
          "base_uri": "https://localhost:8080/",
          "height": 108
        },
        "outputId": "c797b849-746a-447f-a877-9a301fd2d3b7"
      },
      "source": [
        "#generate predictions\n",
        "all_jobs_rf_preds = all_jobs_rf.predict(X_test)\n",
        "\n",
        "#more performance metrics\n",
        "all_jobs_rf_rsquared_train = all_jobs_rf.score(X_train, y_train)\n",
        "all_jobs_rf_rsquared_test = all_jobs_rf.score(X_test, y_test)\n",
        "all_jobs_rf_mae = mean_absolute_error(y_test, all_jobs_rf_preds)\n",
        "all_jobs_rf_mse = mse(y_test, all_jobs_rf_preds)\n",
        "all_jobs_rf_rmse = rmse(y_test, all_jobs_rf_preds)\n",
        "all_jobs_rf_mape = np.mean(np.abs((y_test - all_jobs_rf_preds)/y_test)*100)\n",
        "all_jobs_rf_rmspe = (np.sqrt(np.mean(np.square((y_test - all_jobs_rf_preds) / y_test)))) * 100\n",
        "all_jobs_rf_model_name = 'All Jobs Random Forest'\n",
        "\n",
        "#create easily readable display of performance metrics\n",
        "all_jobs_rf_dictionary = {'Model': all_jobs_rf_model_name,\n",
        "  'Training Set R Squared': all_jobs_rf_rsquared_train, \n",
        "  'Test Set R Squared': all_jobs_rf_rsquared_test, 'Mean Absolute Error': all_jobs_rf_mae, \n",
        "  'Mean Sqaured Error': all_jobs_rf_mse, 'Root Mean Squared Error': all_jobs_rf_rmse,\n",
        "  'Root Mean Squared Percentage Error': all_jobs_rf_rmspe,\n",
        "  'Mean Absolute Percentage Error': all_jobs_rf_mape}\n",
        "\n",
        "all_jobs_rf_df = pd.DataFrame(all_jobs_rf_dictionary, index=[0])\n",
        "\n",
        "all_jobs_rf_df"
      ],
      "execution_count": null,
      "outputs": [
        {
          "output_type": "execute_result",
          "data": {
            "text/html": [
              "<div>\n",
              "<style scoped>\n",
              "    .dataframe tbody tr th:only-of-type {\n",
              "        vertical-align: middle;\n",
              "    }\n",
              "\n",
              "    .dataframe tbody tr th {\n",
              "        vertical-align: top;\n",
              "    }\n",
              "\n",
              "    .dataframe thead th {\n",
              "        text-align: right;\n",
              "    }\n",
              "</style>\n",
              "<table border=\"1\" class=\"dataframe\">\n",
              "  <thead>\n",
              "    <tr style=\"text-align: right;\">\n",
              "      <th></th>\n",
              "      <th>Model</th>\n",
              "      <th>Training Set R Squared</th>\n",
              "      <th>Test Set R Squared</th>\n",
              "      <th>Mean Absolute Error</th>\n",
              "      <th>Mean Sqaured Error</th>\n",
              "      <th>Root Mean Squared Error</th>\n",
              "      <th>Root Mean Squared Percentage Error</th>\n",
              "      <th>Mean Absolute Percentage Error</th>\n",
              "    </tr>\n",
              "  </thead>\n",
              "  <tbody>\n",
              "    <tr>\n",
              "      <th>0</th>\n",
              "      <td>All Jobs Random Forest</td>\n",
              "      <td>0.931042</td>\n",
              "      <td>0.613098</td>\n",
              "      <td>15461.700637</td>\n",
              "      <td>4.699873e+08</td>\n",
              "      <td>21679.190539</td>\n",
              "      <td>24.19034</td>\n",
              "      <td>17.096554</td>\n",
              "    </tr>\n",
              "  </tbody>\n",
              "</table>\n",
              "</div>"
            ],
            "text/plain": [
              "                    Model  ...  Mean Absolute Percentage Error\n",
              "0  All Jobs Random Forest  ...                       17.096554\n",
              "\n",
              "[1 rows x 8 columns]"
            ]
          },
          "metadata": {
            "tags": []
          },
          "execution_count": 134
        }
      ]
    },
    {
      "cell_type": "markdown",
      "metadata": {
        "id": "0cWZ2_hwzEbY"
      },
      "source": [
        "### **all_jobs_yrs_df**"
      ]
    },
    {
      "cell_type": "code",
      "metadata": {
        "id": "PmUwiWyyzEbY"
      },
      "source": [
        "#set features & target\n",
        "X = all_jobs_yrs_df.drop(columns=['avg_sal', 'log_avg_sal'])\n",
        "y = all_jobs_yrs_df['avg_sal']\n",
        "\n",
        "#split data into training & test sets\n",
        "X_train, X_test, y_train, y_test = train_test_split(X, y, test_size = 0.2, random_state = 43)\n",
        "\n",
        "# #Use grid search to find best hyperparameters\n",
        "# # defining parameter range \n",
        "# param_grid = {'bootstrap': [True, False],\n",
        "#  'max_depth': [10, 20, 30, 40, 50, None],\n",
        "#  'max_features': ['auto', 'sqrt'],\n",
        "#  'min_samples_leaf': [1, 2, 4],\n",
        "#  'min_samples_split': [2, 5, 10],\n",
        "#  'n_estimators': [0,20,40,60,80,100,120,140,160,180,200],\n",
        "#  'random_state': [52]}  \n",
        "  \n",
        "# all_jobs_yrs_rf_grid = GridSearchCV(RandomForestRegressor(), param_grid, refit = True, verbose=1)\n",
        "# # fitting the model for grid search \n",
        "# all_jobs_yrs_rf_grid.fit(X_train, y_train) \n",
        "# # print best parameter after tuning \n",
        "# print(all_jobs_yrs_rf_grid.best_params_) \n",
        "  \n",
        "# # print how our model looks after hyper-parameter tuning \n",
        "# print(all_jobs_yrs_rf_grid.best_estimator_) "
      ],
      "execution_count": null,
      "outputs": []
    },
    {
      "cell_type": "code",
      "metadata": {
        "id": "g-cRq1WGzEbY",
        "colab": {
          "base_uri": "https://localhost:8080/"
        },
        "outputId": "6a385d0e-bc27-444d-bbb9-37fac1831615"
      },
      "source": [
        "#set model with ideal hyperparameters from above\n",
        "all_jobs_yrs_rf = RandomForestRegressor(bootstrap=False, ccp_alpha=0.0, criterion='mse',\n",
        "                      max_depth=40, max_features='sqrt', max_leaf_nodes=None,\n",
        "                      max_samples=None, min_impurity_decrease=0.0,\n",
        "                      min_impurity_split=None, min_samples_leaf=1,\n",
        "                      min_samples_split=5, min_weight_fraction_leaf=0.0,\n",
        "                      n_estimators=140, n_jobs=None, oob_score=False,\n",
        "                      random_state=52, verbose=0, warm_start=False)\n",
        "\n",
        "all_jobs_yrs_rf.fit(X_train, y_train)\n",
        "\n",
        "#cross validate\n",
        "all_jobs_yrs_rf_scores = cross_val_score(all_jobs_yrs_rf, X_train, y_train, cv = 5)\n",
        "\n",
        "print('Accuracy Scores for the 5 folds: ', all_jobs_yrs_rf_scores)\n",
        "print('Mean Cross Validation Score: {:.33f}'.format(np.mean(all_jobs_yrs_rf_scores)))"
      ],
      "execution_count": null,
      "outputs": [
        {
          "output_type": "stream",
          "text": [
            "Accuracy Scores for the 5 folds:  [0.56003877 0.55722982 0.60216534 0.53297045 0.56252078]\n",
            "Mean Cross Validation Score: 0.562985033332474182898863546142820\n"
          ],
          "name": "stdout"
        }
      ]
    },
    {
      "cell_type": "code",
      "metadata": {
        "id": "MUA9SZ3azEbZ",
        "colab": {
          "base_uri": "https://localhost:8080/",
          "height": 108
        },
        "outputId": "e90e6d4d-6a87-4baf-8e2b-d9dfe6115d48"
      },
      "source": [
        "#generate predictions\n",
        "all_jobs_yrs_rf_preds = all_jobs_yrs_rf.predict(X_test)\n",
        "\n",
        "#more performance metrics\n",
        "all_jobs_yrs_rf_rsquared_train = all_jobs_yrs_rf.score(X_train, y_train)\n",
        "all_jobs_yrs_rf_rsquared_test = all_jobs_yrs_rf.score(X_test, y_test)\n",
        "all_jobs_yrs_rf_mae = mean_absolute_error(y_test, all_jobs_yrs_rf_preds)\n",
        "all_jobs_yrs_rf_mse = mse(y_test, all_jobs_yrs_rf_preds)\n",
        "all_jobs_yrs_rf_rmse = rmse(y_test, all_jobs_yrs_rf_preds)\n",
        "all_jobs_yrs_rf_mape = np.mean(np.abs((y_test - all_jobs_yrs_rf_preds)/y_test)*100)\n",
        "all_jobs_yrs_rf_rmspe = (np.sqrt(np.mean(np.square((y_test - all_jobs_yrs_rf_preds) / y_test)))) * 100\n",
        "all_jobs_yrs_rf_model_name = 'All Jobs Years of Experience Random Forest'\n",
        "\n",
        "#create easily readable display of performance metrics\n",
        "all_jobs_yrs_rf_dictionary = {'Model': all_jobs_yrs_rf_model_name,\n",
        "  'Training Set R Squared': all_jobs_yrs_rf_rsquared_train, \n",
        "  'Test Set R Squared': all_jobs_yrs_rf_rsquared_test, 'Mean Absolute Error': all_jobs_yrs_rf_mae, \n",
        "  'Mean Sqaured Error': all_jobs_yrs_rf_mse, 'Root Mean Squared Error': all_jobs_yrs_rf_rmse,\n",
        "  'Root Mean Squared Percentage Error': all_jobs_yrs_rf_rmspe,\n",
        "  'Mean Absolute Percentage Error': all_jobs_yrs_rf_mape}\n",
        "\n",
        "all_jobs_yrs_rf_df = pd.DataFrame(all_jobs_yrs_rf_dictionary, index=[0])\n",
        "\n",
        "all_jobs_yrs_rf_df"
      ],
      "execution_count": null,
      "outputs": [
        {
          "output_type": "execute_result",
          "data": {
            "text/html": [
              "<div>\n",
              "<style scoped>\n",
              "    .dataframe tbody tr th:only-of-type {\n",
              "        vertical-align: middle;\n",
              "    }\n",
              "\n",
              "    .dataframe tbody tr th {\n",
              "        vertical-align: top;\n",
              "    }\n",
              "\n",
              "    .dataframe thead th {\n",
              "        text-align: right;\n",
              "    }\n",
              "</style>\n",
              "<table border=\"1\" class=\"dataframe\">\n",
              "  <thead>\n",
              "    <tr style=\"text-align: right;\">\n",
              "      <th></th>\n",
              "      <th>Model</th>\n",
              "      <th>Training Set R Squared</th>\n",
              "      <th>Test Set R Squared</th>\n",
              "      <th>Mean Absolute Error</th>\n",
              "      <th>Mean Sqaured Error</th>\n",
              "      <th>Root Mean Squared Error</th>\n",
              "      <th>Root Mean Squared Percentage Error</th>\n",
              "      <th>Mean Absolute Percentage Error</th>\n",
              "    </tr>\n",
              "  </thead>\n",
              "  <tbody>\n",
              "    <tr>\n",
              "      <th>0</th>\n",
              "      <td>All Jobs Years of Experience Random Forest</td>\n",
              "      <td>0.931459</td>\n",
              "      <td>0.604564</td>\n",
              "      <td>15195.778894</td>\n",
              "      <td>4.733316e+08</td>\n",
              "      <td>21756.184563</td>\n",
              "      <td>25.608721</td>\n",
              "      <td>17.549229</td>\n",
              "    </tr>\n",
              "  </tbody>\n",
              "</table>\n",
              "</div>"
            ],
            "text/plain": [
              "                                        Model  ...  Mean Absolute Percentage Error\n",
              "0  All Jobs Years of Experience Random Forest  ...                       17.549229\n",
              "\n",
              "[1 rows x 8 columns]"
            ]
          },
          "metadata": {
            "tags": []
          },
          "execution_count": 137
        }
      ]
    },
    {
      "cell_type": "markdown",
      "metadata": {
        "id": "QbYm5SEdryms"
      },
      "source": [
        "### **all_jobs_df log(y)**"
      ]
    },
    {
      "cell_type": "code",
      "metadata": {
        "id": "XyHP-NQRrymu"
      },
      "source": [
        "#set features & target\n",
        "X = all_jobs_df.drop(columns=['avg_sal', 'log_avg_sal'])\n",
        "y = all_jobs_df['log_avg_sal']\n",
        "\n",
        "#split data into training & test sets\n",
        "X_train, X_test, y_train, y_test = train_test_split(X, y, test_size = 0.2, random_state = 43)\n",
        "\n",
        "# #Use grid search to find best hyperparameters\n",
        "# # defining parameter range \n",
        "# param_grid = {'bootstrap': [True, False],\n",
        "#  'max_depth': [10, 20, 30, 40, 50, None],\n",
        "#  'max_features': ['auto', 'sqrt'],\n",
        "#  'min_samples_leaf': [1, 2, 4],\n",
        "#  'min_samples_split': [2, 5, 10],\n",
        "#  'n_estimators': [0,20,40,60,80,100,120,140,160,180,200],\n",
        "#  'random_state': [52]}  \n",
        "  \n",
        "# log_all_jobs_rf_grid = GridSearchCV(RandomForestRegressor(), param_grid, refit = True, verbose=1)\n",
        "# # fitting the model for grid search \n",
        "# log_all_jobs_rf_grid.fit(X_train, y_train) \n",
        "# # print best parameter after tuning \n",
        "# print(log_all_jobs_rf_grid.best_params_) \n",
        "  \n",
        "# # print how our model looks after hyper-parameter tuning \n",
        "# print(log_all_jobs_rf_grid.best_estimator_) "
      ],
      "execution_count": null,
      "outputs": []
    },
    {
      "cell_type": "code",
      "metadata": {
        "id": "sDiV1rRVrymv",
        "colab": {
          "base_uri": "https://localhost:8080/"
        },
        "outputId": "a121b6b9-99bb-46c8-93d2-3294f0701034"
      },
      "source": [
        "#set model with ideal hyperparameters from above\n",
        "log_all_jobs_rf = RandomForestRegressor(bootstrap=False, ccp_alpha=0.0, criterion='mse',\n",
        "                      max_depth=40, max_features='sqrt', max_leaf_nodes=None,\n",
        "                      max_samples=None, min_impurity_decrease=0.0,\n",
        "                      min_impurity_split=None, min_samples_leaf=1,\n",
        "                      min_samples_split=5, min_weight_fraction_leaf=0.0,\n",
        "                      n_estimators=200, n_jobs=None, oob_score=False,\n",
        "                      random_state=52, verbose=0, warm_start=False)\n",
        "\n",
        "log_all_jobs_rf.fit(X_train, y_train)\n",
        "\n",
        "#cross validate\n",
        "log_all_jobs_rf_scores = cross_val_score(log_all_jobs_rf, X_train, y_train, cv = 5)\n",
        "\n",
        "print('Accuracy Scores for the 5 folds: ', log_all_jobs_rf_scores)\n",
        "print('Mean Cross Validation Score: {:.33f}'.format(np.mean(log_all_jobs_rf_scores)))"
      ],
      "execution_count": null,
      "outputs": [
        {
          "output_type": "stream",
          "text": [
            "Accuracy Scores for the 5 folds:  [0.60524476 0.5894771  0.57751997 0.58431837 0.57436052]\n",
            "Mean Cross Validation Score: 0.586184146092064706223823122854810\n"
          ],
          "name": "stdout"
        }
      ]
    },
    {
      "cell_type": "code",
      "metadata": {
        "id": "3H5jrPKarymv",
        "colab": {
          "base_uri": "https://localhost:8080/",
          "height": 108
        },
        "outputId": "0a73883d-0db4-4426-856d-1354210d37bd"
      },
      "source": [
        "#generate predictions\n",
        "log_all_jobs_rf_preds = log_all_jobs_rf.predict(X_test)\n",
        "\n",
        "#more performance metrics\n",
        "log_all_jobs_rf_rsquared_train = log_all_jobs_rf.score(X_train, y_train)\n",
        "log_all_jobs_rf_rsquared_test = log_all_jobs_rf.score(X_test, y_test)\n",
        "log_all_jobs_rf_mae = mean_absolute_error(y_test, log_all_jobs_rf_preds)\n",
        "log_all_jobs_rf_mse = mse(y_test, log_all_jobs_rf_preds)\n",
        "log_all_jobs_rf_rmse = rmse(y_test, log_all_jobs_rf_preds)\n",
        "log_all_jobs_rf_mape = np.mean(np.abs((y_test - log_all_jobs_rf_preds)/y_test)*100)\n",
        "log_all_jobs_rf_rmspe = (np.sqrt(np.mean(np.square((y_test - log_all_jobs_rf_preds) / y_test)))) * 100\n",
        "log_all_jobs_rf_model_name = 'All Jobs Random Forest Log(y)'\n",
        "\n",
        "#create easily readable display of performance metrics\n",
        "log_all_jobs_rf_dictionary = {'Model': log_all_jobs_rf_model_name,\n",
        "  'Training Set R Squared': log_all_jobs_rf_rsquared_train, \n",
        "  'Test Set R Squared': log_all_jobs_rf_rsquared_test, 'Mean Absolute Error': log_all_jobs_rf_mae, \n",
        "  'Mean Sqaured Error': log_all_jobs_rf_mse, 'Root Mean Squared Error': log_all_jobs_rf_rmse,\n",
        "  'Root Mean Squared Percentage Error': log_all_jobs_rf_rmspe,\n",
        "  'Mean Absolute Percentage Error': log_all_jobs_rf_mape}\n",
        "\n",
        "log_all_jobs_rf_df = pd.DataFrame(log_all_jobs_rf_dictionary, index=[0])\n",
        "\n",
        "log_all_jobs_rf_df"
      ],
      "execution_count": null,
      "outputs": [
        {
          "output_type": "execute_result",
          "data": {
            "text/html": [
              "<div>\n",
              "<style scoped>\n",
              "    .dataframe tbody tr th:only-of-type {\n",
              "        vertical-align: middle;\n",
              "    }\n",
              "\n",
              "    .dataframe tbody tr th {\n",
              "        vertical-align: top;\n",
              "    }\n",
              "\n",
              "    .dataframe thead th {\n",
              "        text-align: right;\n",
              "    }\n",
              "</style>\n",
              "<table border=\"1\" class=\"dataframe\">\n",
              "  <thead>\n",
              "    <tr style=\"text-align: right;\">\n",
              "      <th></th>\n",
              "      <th>Model</th>\n",
              "      <th>Training Set R Squared</th>\n",
              "      <th>Test Set R Squared</th>\n",
              "      <th>Mean Absolute Error</th>\n",
              "      <th>Mean Sqaured Error</th>\n",
              "      <th>Root Mean Squared Error</th>\n",
              "      <th>Root Mean Squared Percentage Error</th>\n",
              "      <th>Mean Absolute Percentage Error</th>\n",
              "    </tr>\n",
              "  </thead>\n",
              "  <tbody>\n",
              "    <tr>\n",
              "      <th>0</th>\n",
              "      <td>All Jobs Random Forest Log(y)</td>\n",
              "      <td>0.939331</td>\n",
              "      <td>0.619677</td>\n",
              "      <td>0.164527</td>\n",
              "      <td>0.048961</td>\n",
              "      <td>0.22127</td>\n",
              "      <td>1.942475</td>\n",
              "      <td>1.443114</td>\n",
              "    </tr>\n",
              "  </tbody>\n",
              "</table>\n",
              "</div>"
            ],
            "text/plain": [
              "                           Model  ...  Mean Absolute Percentage Error\n",
              "0  All Jobs Random Forest Log(y)  ...                        1.443114\n",
              "\n",
              "[1 rows x 8 columns]"
            ]
          },
          "metadata": {
            "tags": []
          },
          "execution_count": 141
        }
      ]
    },
    {
      "cell_type": "markdown",
      "metadata": {
        "id": "6FMYXisdrymw"
      },
      "source": [
        "### **all_jobs_yrs_df log(y)**"
      ]
    },
    {
      "cell_type": "code",
      "metadata": {
        "id": "_mjjgAq2rymw"
      },
      "source": [
        "#set features & target\n",
        "X = all_jobs_yrs_df.drop(columns=['avg_sal', 'log_avg_sal'])\n",
        "y = all_jobs_yrs_df['log_avg_sal']\n",
        "\n",
        "#split data into training & test sets\n",
        "X_train, X_test, y_train, y_test = train_test_split(X, y, test_size = 0.2, random_state = 43)\n",
        "\n",
        "# #Use grid search to find best hyperparameters\n",
        "# # defining parameter range \n",
        "# param_grid = {'bootstrap': [True, False],\n",
        "#  'max_depth': [10, 20, 30, 40, 50, None],\n",
        "#  'max_features': ['auto', 'sqrt'],\n",
        "#  'min_samples_leaf': [1, 2, 4],\n",
        "#  'min_samples_split': [2, 5, 10],\n",
        "#  'n_estimators': [0,20,40,60,80,100,120,140,160,180,200],\n",
        "#  'random_state': [52]}  \n",
        "  \n",
        "# log_all_jobs_yrs_rf_grid = GridSearchCV(RandomForestRegressor(), param_grid, refit = True, verbose=1)\n",
        "# # fitting the model for grid search \n",
        "# log_all_jobs_yrs_rf_grid.fit(X_train, y_train) \n",
        "# # print best parameter after tuning \n",
        "# print(log_all_jobs_yrs_rf_grid.best_params_) \n",
        "  \n",
        "# # print how our model looks after hyper-parameter tuning \n",
        "# print(log_all_jobs_yrs_rf_grid.best_estimator_) "
      ],
      "execution_count": null,
      "outputs": []
    },
    {
      "cell_type": "code",
      "metadata": {
        "id": "iHzBaPRnrymw",
        "colab": {
          "base_uri": "https://localhost:8080/"
        },
        "outputId": "620f6cf1-73f1-4b91-e764-998823b8f0bc"
      },
      "source": [
        "#set model with ideal hyperparameters from above\n",
        "log_all_jobs_yrs_rf = RandomForestRegressor(bootstrap=False, ccp_alpha=0.0, criterion='mse',\n",
        "                      max_depth=None, max_features='sqrt', max_leaf_nodes=None,\n",
        "                      max_samples=None, min_impurity_decrease=0.0,\n",
        "                      min_impurity_split=None, min_samples_leaf=1,\n",
        "                      min_samples_split=5, min_weight_fraction_leaf=0.0,\n",
        "                      n_estimators=200, n_jobs=None, oob_score=False,\n",
        "                      random_state=52, verbose=0, warm_start=False)\n",
        "\n",
        "log_all_jobs_yrs_rf.fit(X_train, y_train)\n",
        "\n",
        "#cross validate\n",
        "log_all_jobs_yrs_rf_scores = cross_val_score(log_all_jobs_yrs_rf, X_train, y_train, cv = 5)\n",
        "\n",
        "print('Accuracy Scores for the 5 folds: ', log_all_jobs_yrs_rf_scores)\n",
        "print('Mean Cross Validation Score: {:.33f}'.format(np.mean(log_all_jobs_yrs_rf_scores)))"
      ],
      "execution_count": null,
      "outputs": [
        {
          "output_type": "stream",
          "text": [
            "Accuracy Scores for the 5 folds:  [0.5830257  0.58005718 0.60783047 0.57688264 0.5818461 ]\n",
            "Mean Cross Validation Score: 0.585928418946343732010006988275563\n"
          ],
          "name": "stdout"
        }
      ]
    },
    {
      "cell_type": "code",
      "metadata": {
        "id": "8XM4wDk2rymx",
        "colab": {
          "base_uri": "https://localhost:8080/",
          "height": 108
        },
        "outputId": "fe465d9d-bff7-4ca0-dd53-47f2e58311a1"
      },
      "source": [
        "#generate predictions\n",
        "log_all_jobs_yrs_rf_preds = log_all_jobs_yrs_rf.predict(X_test)\n",
        "\n",
        "#more performance metrics\n",
        "log_all_jobs_yrs_rf_rsquared_train = log_all_jobs_yrs_rf.score(X_train, y_train)\n",
        "log_all_jobs_yrs_rf_rsquared_test = log_all_jobs_yrs_rf.score(X_test, y_test)\n",
        "log_all_jobs_yrs_rf_mae = mean_absolute_error(y_test, log_all_jobs_yrs_rf_preds)\n",
        "log_all_jobs_yrs_rf_mse = mse(y_test, log_all_jobs_yrs_rf_preds)\n",
        "log_all_jobs_yrs_rf_rmse = rmse(y_test, log_all_jobs_yrs_rf_preds)\n",
        "log_all_jobs_yrs_rf_mape = np.mean(np.abs((y_test - log_all_jobs_yrs_rf_preds)/y_test)*100)\n",
        "log_all_jobs_yrs_rf_rmspe = (np.sqrt(np.mean(np.square((y_test - log_all_jobs_yrs_rf_preds) / y_test)))) * 100\n",
        "log_all_jobs_yrs_rf_model_name = 'All Jobs Years of Experience Random Forest Log(y)'\n",
        "\n",
        "#create easily readable display of performance metrics\n",
        "log_all_jobs_yrs_rf_dictionary = {'Model': log_all_jobs_yrs_rf_model_name,\n",
        "  'Training Set R Squared': log_all_jobs_yrs_rf_rsquared_train, \n",
        "  'Test Set R Squared': log_all_jobs_yrs_rf_rsquared_test, 'Mean Absolute Error': log_all_jobs_yrs_rf_mae, \n",
        "  'Mean Sqaured Error': log_all_jobs_yrs_rf_mse, 'Root Mean Squared Error': log_all_jobs_yrs_rf_rmse,\n",
        "  'Root Mean Squared Percentage Error': log_all_jobs_yrs_rf_rmspe,\n",
        "  'Mean Absolute Percentage Error': log_all_jobs_yrs_rf_mape}\n",
        "\n",
        "log_all_jobs_yrs_rf_df = pd.DataFrame(log_all_jobs_yrs_rf_dictionary, index=[0])\n",
        "\n",
        "log_all_jobs_yrs_rf_df"
      ],
      "execution_count": null,
      "outputs": [
        {
          "output_type": "execute_result",
          "data": {
            "text/html": [
              "<div>\n",
              "<style scoped>\n",
              "    .dataframe tbody tr th:only-of-type {\n",
              "        vertical-align: middle;\n",
              "    }\n",
              "\n",
              "    .dataframe tbody tr th {\n",
              "        vertical-align: top;\n",
              "    }\n",
              "\n",
              "    .dataframe thead th {\n",
              "        text-align: right;\n",
              "    }\n",
              "</style>\n",
              "<table border=\"1\" class=\"dataframe\">\n",
              "  <thead>\n",
              "    <tr style=\"text-align: right;\">\n",
              "      <th></th>\n",
              "      <th>Model</th>\n",
              "      <th>Training Set R Squared</th>\n",
              "      <th>Test Set R Squared</th>\n",
              "      <th>Mean Absolute Error</th>\n",
              "      <th>Mean Sqaured Error</th>\n",
              "      <th>Root Mean Squared Error</th>\n",
              "      <th>Root Mean Squared Percentage Error</th>\n",
              "      <th>Mean Absolute Percentage Error</th>\n",
              "    </tr>\n",
              "  </thead>\n",
              "  <tbody>\n",
              "    <tr>\n",
              "      <th>0</th>\n",
              "      <td>All Jobs Years of Experience Random Forest Log(y)</td>\n",
              "      <td>0.939052</td>\n",
              "      <td>0.633749</td>\n",
              "      <td>0.160351</td>\n",
              "      <td>0.047833</td>\n",
              "      <td>0.218708</td>\n",
              "      <td>1.931527</td>\n",
              "      <td>1.412132</td>\n",
              "    </tr>\n",
              "  </tbody>\n",
              "</table>\n",
              "</div>"
            ],
            "text/plain": [
              "                                               Model  ...  Mean Absolute Percentage Error\n",
              "0  All Jobs Years of Experience Random Forest Log(y)  ...                        1.412132\n",
              "\n",
              "[1 rows x 8 columns]"
            ]
          },
          "metadata": {
            "tags": []
          },
          "execution_count": 144
        }
      ]
    },
    {
      "cell_type": "markdown",
      "metadata": {
        "id": "MrFdPqdePbnu"
      },
      "source": [
        "### **all_jobs_no_outliers_df**"
      ]
    },
    {
      "cell_type": "code",
      "metadata": {
        "id": "Urk_j0e6Pbnu"
      },
      "source": [
        "#set features & target\n",
        "X = all_jobs_no_outliers_df.drop(columns=['avg_sal', 'log_avg_sal'])\n",
        "y = all_jobs_no_outliers_df['avg_sal']\n",
        "\n",
        "#split data into training & test sets\n",
        "X_train, X_test, y_train, y_test = train_test_split(X, y, test_size = 0.2, random_state = 43)\n",
        "\n",
        "# #Use grid search to find best hyperparameters\n",
        "# # defining parameter range \n",
        "# param_grid = {'bootstrap': [True, False],\n",
        "#  'max_depth': [10, 20, 30, 40, 50, None],\n",
        "#  'max_features': ['auto', 'sqrt'],\n",
        "#  'min_samples_leaf': [1, 2, 4],\n",
        "#  'min_samples_split': [2, 5, 10],\n",
        "#  'n_estimators': [0,20,40,60,80,100,120,140,160,180,200],\n",
        "#  'random_state': [43]}  \n",
        "  \n",
        "# all_jobs_no_outliers_rf_grid = GridSearchCV(RandomForestRegressor(), param_grid, refit = True, verbose=1)\n",
        "# # fitting the model for grid search \n",
        "# all_jobs_no_outliers_rf_grid.fit(X_train, y_train) \n",
        "# # print best parameter after tuning \n",
        "# print(all_jobs_no_outliers_rf_grid.best_params_) \n",
        "  \n",
        "# # print how our model looks after hyper-parameter tuning \n",
        "# print(all_jobs_no_outliers_rf_grid.best_estimator_) "
      ],
      "execution_count": null,
      "outputs": []
    },
    {
      "cell_type": "code",
      "metadata": {
        "id": "RZbN2qDrPbnv",
        "colab": {
          "base_uri": "https://localhost:8080/"
        },
        "outputId": "edba3ac9-2153-4ea8-c1a1-95cfe29f2db1"
      },
      "source": [
        "#set model with ideal hyperparameters from above\n",
        "all_jobs_no_outliers_rf = RandomForestRegressor(bootstrap=False, ccp_alpha=0.0, criterion='mse',\n",
        "                      max_depth=40, max_features='sqrt', max_leaf_nodes=None,\n",
        "                      max_samples=None, min_impurity_decrease=0.0,\n",
        "                      min_impurity_split=None, min_samples_leaf=1,\n",
        "                      min_samples_split=5, min_weight_fraction_leaf=0.0,\n",
        "                      n_estimators=200, n_jobs=None, oob_score=False,\n",
        "                      random_state=43, verbose=0, warm_start=False)\n",
        "\n",
        "all_jobs_no_outliers_rf.fit(X_train, y_train)\n",
        "\n",
        "#cross validate\n",
        "all_jobs_no_outliers_rf_scores = cross_val_score(all_jobs_no_outliers_rf, X_train, y_train, cv = 5)\n",
        "\n",
        "print('Accuracy Scores for the 5 folds: ', all_jobs_no_outliers_rf_scores)\n",
        "print('Mean Cross Validation Score: {:.33f}'.format(np.mean(all_jobs_no_outliers_rf_scores)))"
      ],
      "execution_count": null,
      "outputs": [
        {
          "output_type": "stream",
          "text": [
            "Accuracy Scores for the 5 folds:  [0.61816498 0.58715945 0.6199611  0.56266905 0.58837125]\n",
            "Mean Cross Validation Score: 0.595265165393835338214501007314539\n"
          ],
          "name": "stdout"
        }
      ]
    },
    {
      "cell_type": "code",
      "metadata": {
        "id": "YlSQD1IBPbnv",
        "colab": {
          "base_uri": "https://localhost:8080/",
          "height": 108
        },
        "outputId": "28f853e9-61bb-4b00-9d53-d7d64c96430a"
      },
      "source": [
        "#generate predictions\n",
        "all_jobs_no_outliers_rf_preds = all_jobs_no_outliers_rf.predict(X_test)\n",
        "\n",
        "#more performance metrics\n",
        "all_jobs_no_outliers_rf_rsquared_train = all_jobs_no_outliers_rf.score(X_train, y_train)\n",
        "all_jobs_no_outliers_rf_rsquared_test = all_jobs_no_outliers_rf.score(X_test, y_test)\n",
        "all_jobs_no_outliers_rf_mae = mean_absolute_error(y_test, all_jobs_no_outliers_rf_preds)\n",
        "all_jobs_no_outliers_rf_mse = mse(y_test, all_jobs_no_outliers_rf_preds)\n",
        "all_jobs_no_outliers_rf_rmse = rmse(y_test, all_jobs_no_outliers_rf_preds)\n",
        "all_jobs_no_outliers_rf_mape = np.mean(np.abs((y_test - all_jobs_no_outliers_rf_preds)/y_test)*100)\n",
        "all_jobs_no_outliers_rf_rmspe = (np.sqrt(np.mean(np.square((y_test - all_jobs_no_outliers_rf_preds) / y_test)))) * 100\n",
        "all_jobs_no_outliers_rf_model_name = 'All Jobs w/o Outliers Random Forest'\n",
        "\n",
        "#create easily readable display of performance metrics\n",
        "all_jobs_no_outliers_rf_dictionary = {'Model': all_jobs_no_outliers_rf_model_name,\n",
        "  'Training Set R Squared': all_jobs_no_outliers_rf_rsquared_train, \n",
        "  'Test Set R Squared': all_jobs_no_outliers_rf_rsquared_test, 'Mean Absolute Error': all_jobs_no_outliers_rf_mae, \n",
        "  'Mean Sqaured Error': all_jobs_no_outliers_rf_mse, 'Root Mean Squared Error': all_jobs_no_outliers_rf_rmse,\n",
        "  'Root Mean Squared Percentage Error': all_jobs_no_outliers_rf_rmspe,\n",
        "  'Mean Absolute Percentage Error': all_jobs_no_outliers_rf_mape}\n",
        "\n",
        "all_jobs_no_outliers_rf_df = pd.DataFrame(all_jobs_no_outliers_rf_dictionary, index=[0])\n",
        "\n",
        "all_jobs_no_outliers_rf_df"
      ],
      "execution_count": null,
      "outputs": [
        {
          "output_type": "execute_result",
          "data": {
            "text/html": [
              "<div>\n",
              "<style scoped>\n",
              "    .dataframe tbody tr th:only-of-type {\n",
              "        vertical-align: middle;\n",
              "    }\n",
              "\n",
              "    .dataframe tbody tr th {\n",
              "        vertical-align: top;\n",
              "    }\n",
              "\n",
              "    .dataframe thead th {\n",
              "        text-align: right;\n",
              "    }\n",
              "</style>\n",
              "<table border=\"1\" class=\"dataframe\">\n",
              "  <thead>\n",
              "    <tr style=\"text-align: right;\">\n",
              "      <th></th>\n",
              "      <th>Model</th>\n",
              "      <th>Training Set R Squared</th>\n",
              "      <th>Test Set R Squared</th>\n",
              "      <th>Mean Absolute Error</th>\n",
              "      <th>Mean Sqaured Error</th>\n",
              "      <th>Root Mean Squared Error</th>\n",
              "      <th>Root Mean Squared Percentage Error</th>\n",
              "      <th>Mean Absolute Percentage Error</th>\n",
              "    </tr>\n",
              "  </thead>\n",
              "  <tbody>\n",
              "    <tr>\n",
              "      <th>0</th>\n",
              "      <td>All Jobs w/o Outliers Random Forest</td>\n",
              "      <td>0.941858</td>\n",
              "      <td>0.619748</td>\n",
              "      <td>14709.082953</td>\n",
              "      <td>3.920407e+08</td>\n",
              "      <td>19800.018064</td>\n",
              "      <td>24.332945</td>\n",
              "      <td>17.199059</td>\n",
              "    </tr>\n",
              "  </tbody>\n",
              "</table>\n",
              "</div>"
            ],
            "text/plain": [
              "                                 Model  ...  Mean Absolute Percentage Error\n",
              "0  All Jobs w/o Outliers Random Forest  ...                       17.199059\n",
              "\n",
              "[1 rows x 8 columns]"
            ]
          },
          "metadata": {
            "tags": []
          },
          "execution_count": 147
        }
      ]
    },
    {
      "cell_type": "markdown",
      "metadata": {
        "id": "YP2VLqhcPbnw"
      },
      "source": [
        "### **all_jobs_yrs_no_outliers_df**"
      ]
    },
    {
      "cell_type": "code",
      "metadata": {
        "id": "8icJGmnqPbnw"
      },
      "source": [
        "#set features & target\n",
        "X = all_jobs_yrs_no_outliers_df.drop(columns=['avg_sal', 'log_avg_sal'])\n",
        "y = all_jobs_yrs_no_outliers_df['avg_sal']\n",
        "\n",
        "#split data into training & test sets\n",
        "X_train, X_test, y_train, y_test = train_test_split(X, y, test_size = 0.2, random_state = 43)\n",
        "\n",
        "# #Use grid search to find best hyperparameters\n",
        "# # defining parameter range \n",
        "# param_grid = {'bootstrap': [True, False],\n",
        "#  'max_depth': [10, 20, 30, 40, 50, None],\n",
        "#  'max_features': ['auto', 'sqrt'],\n",
        "#  'min_samples_leaf': [1, 2, 4],\n",
        "#  'min_samples_split': [2, 5, 10],\n",
        "#  'n_estimators': [0,20,40,60,80,100,120,140,160,180,200],\n",
        "#  'random_state': [52]}  \n",
        "  \n",
        "# all_jobs_yrs_no_outliers_rf_grid = GridSearchCV(RandomForestRegressor(), param_grid, refit = True, verbose=1)\n",
        "# # fitting the model for grid search \n",
        "# all_jobs_yrs_no_outliers_rf_grid.fit(X_train, y_train) \n",
        "# # print best parameter after tuning \n",
        "# print(all_jobs_yrs_no_outliers_rf_grid.best_params_) \n",
        "  \n",
        "# # print how our model looks after hyper-parameter tuning \n",
        "# print(all_jobs_yrs_no_outliers_rf_grid.best_estimator_) "
      ],
      "execution_count": null,
      "outputs": []
    },
    {
      "cell_type": "code",
      "metadata": {
        "id": "Jmyr59TIPbnx",
        "colab": {
          "base_uri": "https://localhost:8080/"
        },
        "outputId": "ea36c9bf-002e-4a7d-e7d4-446e133b97f9"
      },
      "source": [
        "#set model with ideal hyperparameters from above\n",
        "all_jobs_yrs_no_outliers_rf = RandomForestRegressor(bootstrap=False, ccp_alpha=0.0, criterion='mse',\n",
        "                      max_depth=30, max_features='sqrt', max_leaf_nodes=None,\n",
        "                      max_samples=None, min_impurity_decrease=0.0,\n",
        "                      min_impurity_split=None, min_samples_leaf=1,\n",
        "                      min_samples_split=5, min_weight_fraction_leaf=0.0,\n",
        "                      n_estimators=160, n_jobs=None, oob_score=False,\n",
        "                      random_state=52, verbose=0, warm_start=False)\n",
        "\n",
        "all_jobs_yrs_no_outliers_rf.fit(X_train, y_train)\n",
        "\n",
        "#cross validate\n",
        "all_jobs_yrs_no_outliers_rf_scores = cross_val_score(all_jobs_yrs_no_outliers_rf, X_train, y_train, cv = 5)\n",
        "\n",
        "print('Accuracy Scores for the 5 folds: ', all_jobs_yrs_no_outliers_rf_scores)\n",
        "print('Mean Cross Validation Score: {:.33f}'.format(np.mean(all_jobs_yrs_no_outliers_rf_scores)))"
      ],
      "execution_count": null,
      "outputs": [
        {
          "output_type": "stream",
          "text": [
            "Accuracy Scores for the 5 folds:  [0.59670282 0.61431925 0.61757851 0.54426034 0.62106007]\n",
            "Mean Cross Validation Score: 0.598784198455064253785451455769362\n"
          ],
          "name": "stdout"
        }
      ]
    },
    {
      "cell_type": "code",
      "metadata": {
        "id": "KPyUDyXtPbnx",
        "colab": {
          "base_uri": "https://localhost:8080/",
          "height": 108
        },
        "outputId": "aca1e950-ac93-49b3-9e12-fca14c694c92"
      },
      "source": [
        "#generate predictions\n",
        "all_jobs_yrs_no_outliers_rf_preds = all_jobs_yrs_no_outliers_rf.predict(X_test)\n",
        "\n",
        "#more performance metrics\n",
        "all_jobs_yrs_no_outliers_rf_rsquared_train = all_jobs_yrs_no_outliers_rf.score(X_train, y_train)\n",
        "all_jobs_yrs_no_outliers_rf_rsquared_test = all_jobs_yrs_no_outliers_rf.score(X_test, y_test)\n",
        "all_jobs_yrs_no_outliers_rf_mae = mean_absolute_error(y_test, all_jobs_yrs_no_outliers_rf_preds)\n",
        "all_jobs_yrs_no_outliers_rf_mse = mse(y_test, all_jobs_yrs_no_outliers_rf_preds)\n",
        "all_jobs_yrs_no_outliers_rf_rmse = rmse(y_test, all_jobs_yrs_no_outliers_rf_preds)\n",
        "all_jobs_yrs_no_outliers_rf_mape = np.mean(np.abs((y_test - all_jobs_yrs_no_outliers_rf_preds)/y_test)*100)\n",
        "all_jobs_yrs_no_outliers_rf_rmspe = (np.sqrt(np.mean(np.square((y_test - all_jobs_yrs_no_outliers_rf_preds) / y_test)))) * 100\n",
        "all_jobs_yrs_no_outliers_rf_model_name = 'All Jobs Years of Experience w/o Outliers Random Forest'\n",
        "\n",
        "#create easily readable display of performance metrics\n",
        "all_jobs_yrs_no_outliers_rf_dictionary = {'Model': all_jobs_yrs_no_outliers_rf_model_name,\n",
        "  'Training Set R Squared': all_jobs_yrs_no_outliers_rf_rsquared_train, \n",
        "  'Test Set R Squared': all_jobs_yrs_no_outliers_rf_rsquared_test, 'Mean Absolute Error': all_jobs_yrs_no_outliers_rf_mae, \n",
        "  'Mean Sqaured Error': all_jobs_yrs_no_outliers_rf_mse, 'Root Mean Squared Error': all_jobs_yrs_no_outliers_rf_rmse,\n",
        "  'Root Mean Squared Percentage Error': all_jobs_yrs_no_outliers_rf_rmspe,\n",
        "  'Mean Absolute Percentage Error': all_jobs_yrs_no_outliers_rf_mape}\n",
        "\n",
        "all_jobs_yrs_no_outliers_rf_df = pd.DataFrame(all_jobs_yrs_no_outliers_rf_dictionary, index=[0])\n",
        "\n",
        "all_jobs_yrs_no_outliers_rf_df"
      ],
      "execution_count": null,
      "outputs": [
        {
          "output_type": "execute_result",
          "data": {
            "text/html": [
              "<div>\n",
              "<style scoped>\n",
              "    .dataframe tbody tr th:only-of-type {\n",
              "        vertical-align: middle;\n",
              "    }\n",
              "\n",
              "    .dataframe tbody tr th {\n",
              "        vertical-align: top;\n",
              "    }\n",
              "\n",
              "    .dataframe thead th {\n",
              "        text-align: right;\n",
              "    }\n",
              "</style>\n",
              "<table border=\"1\" class=\"dataframe\">\n",
              "  <thead>\n",
              "    <tr style=\"text-align: right;\">\n",
              "      <th></th>\n",
              "      <th>Model</th>\n",
              "      <th>Training Set R Squared</th>\n",
              "      <th>Test Set R Squared</th>\n",
              "      <th>Mean Absolute Error</th>\n",
              "      <th>Mean Sqaured Error</th>\n",
              "      <th>Root Mean Squared Error</th>\n",
              "      <th>Root Mean Squared Percentage Error</th>\n",
              "      <th>Mean Absolute Percentage Error</th>\n",
              "    </tr>\n",
              "  </thead>\n",
              "  <tbody>\n",
              "    <tr>\n",
              "      <th>0</th>\n",
              "      <td>All Jobs Years of Experience w/o Outliers Rand...</td>\n",
              "      <td>0.940204</td>\n",
              "      <td>0.584606</td>\n",
              "      <td>14447.645633</td>\n",
              "      <td>3.957948e+08</td>\n",
              "      <td>19894.591093</td>\n",
              "      <td>24.181468</td>\n",
              "      <td>16.5112</td>\n",
              "    </tr>\n",
              "  </tbody>\n",
              "</table>\n",
              "</div>"
            ],
            "text/plain": [
              "                                               Model  ...  Mean Absolute Percentage Error\n",
              "0  All Jobs Years of Experience w/o Outliers Rand...  ...                         16.5112\n",
              "\n",
              "[1 rows x 8 columns]"
            ]
          },
          "metadata": {
            "tags": []
          },
          "execution_count": 150
        }
      ]
    },
    {
      "cell_type": "markdown",
      "metadata": {
        "id": "TPf8cywuPbnx"
      },
      "source": [
        "### **all_jobs_no_outliers_df log(y)**"
      ]
    },
    {
      "cell_type": "code",
      "metadata": {
        "id": "OTLNWFB4Pbny"
      },
      "source": [
        "#set features & target\n",
        "X = all_jobs_no_outliers_df.drop(columns=['avg_sal', 'log_avg_sal'])\n",
        "y = all_jobs_no_outliers_df['log_avg_sal']\n",
        "\n",
        "#split data into training & test sets\n",
        "X_train, X_test, y_train, y_test = train_test_split(X, y, test_size = 0.2, random_state = 43)\n",
        "\n",
        "# #Use grid search to find best hyperparameters\n",
        "# # defining parameter range \n",
        "# param_grid = {'bootstrap': [True, False],\n",
        "#  'max_depth': [10, 20, 30, 40, 50, None],\n",
        "#  'max_features': ['auto', 'sqrt'],\n",
        "#  'min_samples_leaf': [1, 2, 4],\n",
        "#  'min_samples_split': [2, 5, 10],\n",
        "#  'n_estimators': [0,20,40,60,80,100,120,140,160,180,200],\n",
        "#  'random_state': [52]}  \n",
        "  \n",
        "# log_all_jobs_no_outliers_rf_grid = GridSearchCV(RandomForestRegressor(), param_grid, refit = True, verbose=1)\n",
        "# # fitting the model for grid search \n",
        "# log_all_jobs_no_outliers_rf_grid.fit(X_train, y_train) \n",
        "# # print best parameter after tuning \n",
        "# print(log_all_jobs_no_outliers_rf_grid.best_params_) \n",
        "  \n",
        "# # print how our model looks after hyper-parameter tuning \n",
        "# print(log_all_jobs_no_outliers_rf_grid.best_estimator_) "
      ],
      "execution_count": null,
      "outputs": []
    },
    {
      "cell_type": "code",
      "metadata": {
        "id": "x9Zp0617Pbny",
        "colab": {
          "base_uri": "https://localhost:8080/"
        },
        "outputId": "6ebbe93c-75e9-4524-c94e-bc760c195c1d"
      },
      "source": [
        "#set model with ideal hyperparameters from above\n",
        "log_all_jobs_no_outliers_rf = RandomForestRegressor(bootstrap=False, ccp_alpha=0.0, criterion='mse',\n",
        "                      max_depth=None, max_features='sqrt', max_leaf_nodes=None,\n",
        "                      max_samples=None, min_impurity_decrease=0.0,\n",
        "                      min_impurity_split=None, min_samples_leaf=1,\n",
        "                      min_samples_split=5, min_weight_fraction_leaf=0.0,\n",
        "                      n_estimators=200, n_jobs=None, oob_score=False,\n",
        "                      random_state=52, verbose=0, warm_start=False)\n",
        "\n",
        "log_all_jobs_no_outliers_rf.fit(X_train, y_train)\n",
        "\n",
        "#cross validate\n",
        "log_all_jobs_no_outliers_rf_scores = cross_val_score(log_all_jobs_no_outliers_rf, X_train, y_train, cv = 5)\n",
        "\n",
        "print('Accuracy Scores for the 5 folds: ', log_all_jobs_no_outliers_rf_scores)\n",
        "print('Mean Cross Validation Score: {:.33f}'.format(np.mean(log_all_jobs_no_outliers_rf_scores)))"
      ],
      "execution_count": null,
      "outputs": [
        {
          "output_type": "stream",
          "text": [
            "Accuracy Scores for the 5 folds:  [0.61504992 0.57939622 0.62320422 0.57183822 0.59568706]\n",
            "Mean Cross Validation Score: 0.597035128125727565517877337697428\n"
          ],
          "name": "stdout"
        }
      ]
    },
    {
      "cell_type": "code",
      "metadata": {
        "id": "dsLftD9iPbny",
        "colab": {
          "base_uri": "https://localhost:8080/",
          "height": 108
        },
        "outputId": "3271149f-db54-4f25-a333-b5dca211e18f"
      },
      "source": [
        "#generate predictions\n",
        "log_all_jobs_no_outliers_rf_preds = log_all_jobs_no_outliers_rf.predict(X_test)\n",
        "\n",
        "#more performance metrics\n",
        "log_all_jobs_no_outliers_rf_rsquared_train = log_all_jobs_no_outliers_rf.score(X_train, y_train)\n",
        "log_all_jobs_no_outliers_rf_rsquared_test = log_all_jobs_no_outliers_rf.score(X_test, y_test)\n",
        "log_all_jobs_no_outliers_rf_mae = mean_absolute_error(y_test, log_all_jobs_no_outliers_rf_preds)\n",
        "log_all_jobs_no_outliers_rf_mse = mse(y_test, log_all_jobs_no_outliers_rf_preds)\n",
        "log_all_jobs_no_outliers_rf_rmse = rmse(y_test, log_all_jobs_no_outliers_rf_preds)\n",
        "log_all_jobs_no_outliers_rf_mape = np.mean(np.abs((y_test - log_all_jobs_no_outliers_rf_preds)/y_test)*100)\n",
        "log_all_jobs_no_outliers_rf_rmspe = (np.sqrt(np.mean(np.square((y_test - log_all_jobs_no_outliers_rf_preds) / y_test)))) * 100\n",
        "log_all_jobs_no_outliers_rf_model_name = 'All Jobs w/o Outliers Random Forest Log(y)'\n",
        "\n",
        "#create easily readable display of performance metrics\n",
        "log_all_jobs_no_outliers_rf_dictionary = {'Model': log_all_jobs_no_outliers_rf_model_name,\n",
        "  'Training Set R Squared': log_all_jobs_no_outliers_rf_rsquared_train, \n",
        "  'Test Set R Squared': log_all_jobs_no_outliers_rf_rsquared_test, 'Mean Absolute Error': log_all_jobs_no_outliers_rf_mae, \n",
        "  'Mean Sqaured Error': log_all_jobs_no_outliers_rf_mse, 'Root Mean Squared Error': log_all_jobs_no_outliers_rf_rmse,\n",
        "  'Root Mean Squared Percentage Error': log_all_jobs_no_outliers_rf_rmspe,\n",
        "  'Mean Absolute Percentage Error': log_all_jobs_no_outliers_rf_mape}\n",
        "\n",
        "log_all_jobs_no_outliers_rf_df = pd.DataFrame(log_all_jobs_no_outliers_rf_dictionary, index=[0])\n",
        "\n",
        "log_all_jobs_no_outliers_rf_df"
      ],
      "execution_count": null,
      "outputs": [
        {
          "output_type": "execute_result",
          "data": {
            "text/html": [
              "<div>\n",
              "<style scoped>\n",
              "    .dataframe tbody tr th:only-of-type {\n",
              "        vertical-align: middle;\n",
              "    }\n",
              "\n",
              "    .dataframe tbody tr th {\n",
              "        vertical-align: top;\n",
              "    }\n",
              "\n",
              "    .dataframe thead th {\n",
              "        text-align: right;\n",
              "    }\n",
              "</style>\n",
              "<table border=\"1\" class=\"dataframe\">\n",
              "  <thead>\n",
              "    <tr style=\"text-align: right;\">\n",
              "      <th></th>\n",
              "      <th>Model</th>\n",
              "      <th>Training Set R Squared</th>\n",
              "      <th>Test Set R Squared</th>\n",
              "      <th>Mean Absolute Error</th>\n",
              "      <th>Mean Sqaured Error</th>\n",
              "      <th>Root Mean Squared Error</th>\n",
              "      <th>Root Mean Squared Percentage Error</th>\n",
              "      <th>Mean Absolute Percentage Error</th>\n",
              "    </tr>\n",
              "  </thead>\n",
              "  <tbody>\n",
              "    <tr>\n",
              "      <th>0</th>\n",
              "      <td>All Jobs w/o Outliers Random Forest Log(y)</td>\n",
              "      <td>0.942328</td>\n",
              "      <td>0.613245</td>\n",
              "      <td>0.160811</td>\n",
              "      <td>0.045794</td>\n",
              "      <td>0.213995</td>\n",
              "      <td>1.892396</td>\n",
              "      <td>1.41635</td>\n",
              "    </tr>\n",
              "  </tbody>\n",
              "</table>\n",
              "</div>"
            ],
            "text/plain": [
              "                                        Model  ...  Mean Absolute Percentage Error\n",
              "0  All Jobs w/o Outliers Random Forest Log(y)  ...                         1.41635\n",
              "\n",
              "[1 rows x 8 columns]"
            ]
          },
          "metadata": {
            "tags": []
          },
          "execution_count": 153
        }
      ]
    },
    {
      "cell_type": "markdown",
      "metadata": {
        "id": "4B88gzB2Pbny"
      },
      "source": [
        "### **all_jobs_yrs_no_outliers_df log(y)**"
      ]
    },
    {
      "cell_type": "code",
      "metadata": {
        "id": "uig96lBoPbnz"
      },
      "source": [
        "#set features & target\n",
        "X = all_jobs_yrs_no_outliers_df.drop(columns=['avg_sal', 'log_avg_sal'])\n",
        "y = all_jobs_yrs_no_outliers_df['log_avg_sal']\n",
        "\n",
        "#split data into training & test sets\n",
        "X_train, X_test, y_train, y_test = train_test_split(X, y, test_size = 0.2, random_state = 43)\n",
        "\n",
        "# #Use grid search to find best hyperparameters\n",
        "# # defining parameter range \n",
        "# param_grid = {'bootstrap': [True, False],\n",
        "#  'max_depth': [10, 20, 30, 40, 50, None],\n",
        "#  'max_features': ['auto', 'sqrt'],\n",
        "#  'min_samples_leaf': [1, 2, 4],\n",
        "#  'min_samples_split': [2, 5, 10],\n",
        "#  'n_estimators': [0,20,40,60,80,100,120,140,160,180,200],\n",
        "#  'random_state': [52]}  \n",
        "  \n",
        "# log_all_jobs_yrs_no_outliers_rf_grid = GridSearchCV(RandomForestRegressor(), param_grid, refit = True, verbose=1)\n",
        "# # fitting the model for grid search \n",
        "# log_all_jobs_yrs_no_outliers_rf_grid.fit(X_train, y_train) \n",
        "# # print best parameter after tuning \n",
        "# print(log_all_jobs_yrs_no_outliers_rf_grid.best_params_) \n",
        "  \n",
        "# # print how our model looks after hyper-parameter tuning \n",
        "# print(log_all_jobs_yrs_no_outliers_rf_grid.best_estimator_) "
      ],
      "execution_count": null,
      "outputs": []
    },
    {
      "cell_type": "code",
      "metadata": {
        "id": "vErrx5QAPbnz",
        "colab": {
          "base_uri": "https://localhost:8080/"
        },
        "outputId": "ebecf4b4-6efd-41cb-a512-4d1daf80962f"
      },
      "source": [
        "#set model with ideal hyperparameters from above\n",
        "log_all_jobs_yrs_no_outliers_rf = RandomForestRegressor(bootstrap=False, ccp_alpha=0.0, criterion='mse',\n",
        "                      max_depth=50, max_features='sqrt', max_leaf_nodes=None,\n",
        "                      max_samples=None, min_impurity_decrease=0.0,\n",
        "                      min_impurity_split=None, min_samples_leaf=1,\n",
        "                      min_samples_split=5, min_weight_fraction_leaf=0.0,\n",
        "                      n_estimators=200, n_jobs=None, oob_score=False,\n",
        "                      random_state=52, verbose=0, warm_start=False)\n",
        "\n",
        "log_all_jobs_yrs_no_outliers_rf.fit(X_train, y_train)\n",
        "\n",
        "#cross validate\n",
        "log_all_jobs_yrs_no_outliers_rf_scores = cross_val_score(log_all_jobs_yrs_no_outliers_rf, X_train, y_train, cv = 5)\n",
        "\n",
        "print('Accuracy Scores for the 5 folds: ', log_all_jobs_yrs_no_outliers_rf_scores)\n",
        "print('Mean Cross Validation Score: {:.33f}'.format(np.mean(log_all_jobs_yrs_no_outliers_rf_scores)))"
      ],
      "execution_count": null,
      "outputs": [
        {
          "output_type": "stream",
          "text": [
            "Accuracy Scores for the 5 folds:  [0.61282422 0.62408989 0.60963011 0.54398145 0.60669009]\n",
            "Mean Cross Validation Score: 0.599443152310383808867300103884190\n"
          ],
          "name": "stdout"
        }
      ]
    },
    {
      "cell_type": "code",
      "metadata": {
        "id": "S1jh_UX0Pbnz",
        "colab": {
          "base_uri": "https://localhost:8080/",
          "height": 108
        },
        "outputId": "dee31109-a9f6-4355-e1b1-29df254ee95d"
      },
      "source": [
        "#generate predictions\n",
        "log_all_jobs_yrs_no_outliers_rf_preds = log_all_jobs_yrs_no_outliers_rf.predict(X_test)\n",
        "\n",
        "#more performance metrics\n",
        "log_all_jobs_yrs_no_outliers_rf_rsquared_train = log_all_jobs_yrs_no_outliers_rf.score(X_train, y_train)\n",
        "log_all_jobs_yrs_no_outliers_rf_rsquared_test = log_all_jobs_yrs_no_outliers_rf.score(X_test, y_test)\n",
        "log_all_jobs_yrs_no_outliers_rf_mae = mean_absolute_error(y_test, log_all_jobs_yrs_no_outliers_rf_preds)\n",
        "log_all_jobs_yrs_no_outliers_rf_mse = mse(y_test, log_all_jobs_yrs_no_outliers_rf_preds)\n",
        "log_all_jobs_yrs_no_outliers_rf_rmse = rmse(y_test, log_all_jobs_yrs_no_outliers_rf_preds)\n",
        "log_all_jobs_yrs_no_outliers_rf_mape = np.mean(np.abs((y_test - log_all_jobs_yrs_no_outliers_rf_preds)/y_test)*100)\n",
        "log_all_jobs_yrs_no_outliers_rf_rmspe = (np.sqrt(np.mean(np.square((y_test - log_all_jobs_yrs_no_outliers_rf_preds) / y_test)))) * 100\n",
        "log_all_jobs_yrs_no_outliers_rf_model_name = 'All Jobs Years of Experience w/o Outliers Random Forest Log(y)'\n",
        "\n",
        "#create easily readable display of performance metrics\n",
        "log_all_jobs_yrs_no_outliers_rf_dictionary = {'Model': log_all_jobs_yrs_no_outliers_rf_model_name,\n",
        "  'Training Set R Squared': log_all_jobs_yrs_no_outliers_rf_rsquared_train, \n",
        "  'Test Set R Squared': log_all_jobs_yrs_no_outliers_rf_rsquared_test, 'Mean Absolute Error': log_all_jobs_yrs_no_outliers_rf_mae, \n",
        "  'Mean Sqaured Error': log_all_jobs_yrs_no_outliers_rf_mse, 'Root Mean Squared Error': log_all_jobs_yrs_no_outliers_rf_rmse,\n",
        "  'Root Mean Squared Percentage Error': log_all_jobs_yrs_no_outliers_rf_rmspe,\n",
        "  'Mean Absolute Percentage Error': log_all_jobs_yrs_no_outliers_rf_mape}\n",
        "\n",
        "log_all_jobs_yrs_no_outliers_rf_df = pd.DataFrame(log_all_jobs_yrs_no_outliers_rf_dictionary, index=[0])\n",
        "\n",
        "log_all_jobs_yrs_no_outliers_rf_df"
      ],
      "execution_count": null,
      "outputs": [
        {
          "output_type": "execute_result",
          "data": {
            "text/html": [
              "<div>\n",
              "<style scoped>\n",
              "    .dataframe tbody tr th:only-of-type {\n",
              "        vertical-align: middle;\n",
              "    }\n",
              "\n",
              "    .dataframe tbody tr th {\n",
              "        vertical-align: top;\n",
              "    }\n",
              "\n",
              "    .dataframe thead th {\n",
              "        text-align: right;\n",
              "    }\n",
              "</style>\n",
              "<table border=\"1\" class=\"dataframe\">\n",
              "  <thead>\n",
              "    <tr style=\"text-align: right;\">\n",
              "      <th></th>\n",
              "      <th>Model</th>\n",
              "      <th>Training Set R Squared</th>\n",
              "      <th>Test Set R Squared</th>\n",
              "      <th>Mean Absolute Error</th>\n",
              "      <th>Mean Sqaured Error</th>\n",
              "      <th>Root Mean Squared Error</th>\n",
              "      <th>Root Mean Squared Percentage Error</th>\n",
              "      <th>Mean Absolute Percentage Error</th>\n",
              "    </tr>\n",
              "  </thead>\n",
              "  <tbody>\n",
              "    <tr>\n",
              "      <th>0</th>\n",
              "      <td>All Jobs Years of Experience w/o Outliers Rand...</td>\n",
              "      <td>0.943228</td>\n",
              "      <td>0.600772</td>\n",
              "      <td>0.155052</td>\n",
              "      <td>0.043943</td>\n",
              "      <td>0.209626</td>\n",
              "      <td>1.84824</td>\n",
              "      <td>1.362761</td>\n",
              "    </tr>\n",
              "  </tbody>\n",
              "</table>\n",
              "</div>"
            ],
            "text/plain": [
              "                                               Model  ...  Mean Absolute Percentage Error\n",
              "0  All Jobs Years of Experience w/o Outliers Rand...  ...                        1.362761\n",
              "\n",
              "[1 rows x 8 columns]"
            ]
          },
          "metadata": {
            "tags": []
          },
          "execution_count": 156
        }
      ]
    },
    {
      "cell_type": "markdown",
      "metadata": {
        "id": "S5yuWJtzR5lO"
      },
      "source": [
        "## **Support Vector Machine**"
      ]
    },
    {
      "cell_type": "markdown",
      "metadata": {
        "id": "YZM7Ys5xR5lP"
      },
      "source": [
        "### **all_jobs_df**"
      ]
    },
    {
      "cell_type": "code",
      "metadata": {
        "id": "E-UHZjaUR5lP",
        "colab": {
          "base_uri": "https://localhost:8080/"
        },
        "outputId": "7b4b5a6b-dfda-4a06-f73c-3c94cadb6a7b"
      },
      "source": [
        "#set features & target\n",
        "X = all_jobs_df.drop(columns=['avg_sal', 'log_avg_sal'])\n",
        "y = all_jobs_df['avg_sal']\n",
        "\n",
        "#split data into training & test sets\n",
        "X_train, X_test, y_train, y_test = train_test_split(X, y, test_size = 0.2, random_state = 43)\n",
        "\n",
        "#Use grid search to find best hyperparameters\n",
        "# defining parameter range \n",
        "param_grid = {'C': [0.001, 0.01, 0.1, 1, 10],\n",
        " 'gamma': [0.001, 0.01, 0.1, 1]\n",
        "} \n",
        "  \n",
        "all_jobs_svm_grid = GridSearchCV(svm.SVR(kernel='rbf'), param_grid)\n",
        "# fitting the model for grid search \n",
        "all_jobs_svm_grid.fit(X_train, y_train) \n",
        "# print best parameter after tuning \n",
        "print(all_jobs_svm_grid.best_params_) \n",
        "  \n",
        "# print how our model looks after hyper-parameter tuning \n",
        "print(all_jobs_svm_grid.best_estimator_) "
      ],
      "execution_count": null,
      "outputs": [
        {
          "output_type": "stream",
          "text": [
            "{'C': 10, 'gamma': 0.01}\n",
            "SVR(C=10, cache_size=200, coef0=0.0, degree=3, epsilon=0.1, gamma=0.01,\n",
            "    kernel='rbf', max_iter=-1, shrinking=True, tol=0.001, verbose=False)\n"
          ],
          "name": "stdout"
        }
      ]
    },
    {
      "cell_type": "code",
      "metadata": {
        "id": "r7buSw3uR5lQ",
        "colab": {
          "base_uri": "https://localhost:8080/"
        },
        "outputId": "d013147f-bc38-480c-c251-fddcd61ba7c4"
      },
      "source": [
        "#set model with ideal hyperparameters from above\n",
        "all_jobs_svm = all_jobs_svm_grid.best_estimator_\n",
        "\n",
        "all_jobs_svm.fit(X_train, y_train)\n",
        "\n",
        "#cross validate\n",
        "all_jobs_svm_scores = cross_val_score(all_jobs_svm, X_train, y_train, cv = 5)\n",
        "\n",
        "print('Accuracy Scores for the 5 folds: ', all_jobs_svm_scores)\n",
        "print('Mean Cross Validation Score: {:.33f}'.format(np.mean(all_jobs_svm_scores)))"
      ],
      "execution_count": null,
      "outputs": [
        {
          "output_type": "stream",
          "text": [
            "Accuracy Scores for the 5 folds:  [-0.00169029 -0.02043489  0.00116499 -0.03373769 -0.01809751]\n",
            "Mean Cross Validation Score: -0.014559076565255391760844716486645\n"
          ],
          "name": "stdout"
        }
      ]
    },
    {
      "cell_type": "code",
      "metadata": {
        "id": "WXG7IuEOR5lR",
        "colab": {
          "base_uri": "https://localhost:8080/",
          "height": 108
        },
        "outputId": "955b4a80-f0b8-4244-b4ed-0ffa6cd645ae"
      },
      "source": [
        "#generate predictions\n",
        "all_jobs_svm_preds = all_jobs_svm.predict(X_test)\n",
        "\n",
        "#more performance metrics\n",
        "all_jobs_svm_rsquared_train = all_jobs_svm.score(X_train, y_train)\n",
        "all_jobs_svm_rsquared_test = all_jobs_svm.score(X_test, y_test)\n",
        "all_jobs_svm_mae = mean_absolute_error(y_test, all_jobs_svm_preds)\n",
        "all_jobs_svm_mse = mse(y_test, all_jobs_svm_preds)\n",
        "all_jobs_svm_rmse = rmse(y_test, all_jobs_svm_preds)\n",
        "all_jobs_svm_mape = np.mean(np.abs((y_test - all_jobs_svm_preds)/y_test)*100)\n",
        "all_jobs_svm_rmspe = (np.sqrt(np.mean(np.square((y_test - all_jobs_svm_preds) / y_test)))) * 100\n",
        "all_jobs_svm_model_name = 'All Jobs SVM'\n",
        "\n",
        "#create easily readable display of performance metrics\n",
        "all_jobs_svm_dictionary = {'Model': all_jobs_svm_model_name,\n",
        "  'Training Set R Squared': all_jobs_svm_rsquared_train, \n",
        "  'Test Set R Squared': all_jobs_svm_rsquared_test, 'Mean Absolute Error': all_jobs_svm_mae, \n",
        "  'Mean Sqaured Error': all_jobs_svm_mse, 'Root Mean Squared Error': all_jobs_svm_rmse,\n",
        "  'Root Mean Squared Percentage Error': all_jobs_svm_rmspe,\n",
        "  'Mean Absolute Percentage Error': all_jobs_svm_mape}\n",
        "\n",
        "all_jobs_svm_df = pd.DataFrame(all_jobs_svm_dictionary, index=[0])\n",
        "\n",
        "all_jobs_svm_df"
      ],
      "execution_count": null,
      "outputs": [
        {
          "output_type": "execute_result",
          "data": {
            "text/html": [
              "<div>\n",
              "<style scoped>\n",
              "    .dataframe tbody tr th:only-of-type {\n",
              "        vertical-align: middle;\n",
              "    }\n",
              "\n",
              "    .dataframe tbody tr th {\n",
              "        vertical-align: top;\n",
              "    }\n",
              "\n",
              "    .dataframe thead th {\n",
              "        text-align: right;\n",
              "    }\n",
              "</style>\n",
              "<table border=\"1\" class=\"dataframe\">\n",
              "  <thead>\n",
              "    <tr style=\"text-align: right;\">\n",
              "      <th></th>\n",
              "      <th>Model</th>\n",
              "      <th>Training Set R Squared</th>\n",
              "      <th>Test Set R Squared</th>\n",
              "      <th>Mean Absolute Error</th>\n",
              "      <th>Mean Sqaured Error</th>\n",
              "      <th>Root Mean Squared Error</th>\n",
              "      <th>Root Mean Squared Percentage Error</th>\n",
              "      <th>Mean Absolute Percentage Error</th>\n",
              "    </tr>\n",
              "  </thead>\n",
              "  <tbody>\n",
              "    <tr>\n",
              "      <th>0</th>\n",
              "      <td>All Jobs SVM</td>\n",
              "      <td>-0.0106</td>\n",
              "      <td>-0.021681</td>\n",
              "      <td>27572.231055</td>\n",
              "      <td>1.241082e+09</td>\n",
              "      <td>35228.997689</td>\n",
              "      <td>38.001823</td>\n",
              "      <td>29.988371</td>\n",
              "    </tr>\n",
              "  </tbody>\n",
              "</table>\n",
              "</div>"
            ],
            "text/plain": [
              "          Model  ...  Mean Absolute Percentage Error\n",
              "0  All Jobs SVM  ...                       29.988371\n",
              "\n",
              "[1 rows x 8 columns]"
            ]
          },
          "metadata": {
            "tags": []
          },
          "execution_count": 159
        }
      ]
    },
    {
      "cell_type": "markdown",
      "metadata": {
        "id": "7aNLLbq5R5lS"
      },
      "source": [
        "### **all_jobs_yrs_df**"
      ]
    },
    {
      "cell_type": "code",
      "metadata": {
        "id": "OPOKG8kqR5lS",
        "colab": {
          "base_uri": "https://localhost:8080/"
        },
        "outputId": "938d7d38-b785-4269-c689-4414ebfdde48"
      },
      "source": [
        "#set features & target\n",
        "X = all_jobs_yrs_df.drop(columns=['avg_sal', 'log_avg_sal'])\n",
        "y = all_jobs_yrs_df['avg_sal']\n",
        "\n",
        "#split data into training & test sets\n",
        "X_train, X_test, y_train, y_test = train_test_split(X, y, test_size = 0.2, random_state = 43)\n",
        "\n",
        "#Use grid search to find best hyperparameters\n",
        "# defining parameter range \n",
        "param_grid = {'C': [0.001, 0.01, 0.1, 1, 10],\n",
        " 'gamma': [0.001, 0.01, 0.1, 1]\n",
        "} \n",
        "  \n",
        "all_jobs_yrs_svm_grid = GridSearchCV(svm.SVR(kernel='rbf'), param_grid)\n",
        "# fitting the model for grid search \n",
        "all_jobs_yrs_svm_grid.fit(X_train, y_train) \n",
        "# print best parameter after tuning \n",
        "print(all_jobs_yrs_svm_grid.best_params_) \n",
        "  \n",
        "# print how our model looks after hyper-parameter tuning \n",
        "print(all_jobs_yrs_svm_grid.best_estimator_)  "
      ],
      "execution_count": null,
      "outputs": [
        {
          "output_type": "stream",
          "text": [
            "{'C': 10, 'gamma': 0.01}\n",
            "SVR(C=10, cache_size=200, coef0=0.0, degree=3, epsilon=0.1, gamma=0.01,\n",
            "    kernel='rbf', max_iter=-1, shrinking=True, tol=0.001, verbose=False)\n"
          ],
          "name": "stdout"
        }
      ]
    },
    {
      "cell_type": "code",
      "metadata": {
        "id": "z5E6Kz8ZR5lS",
        "colab": {
          "base_uri": "https://localhost:8080/"
        },
        "outputId": "ebff2e7d-22a0-435c-c55a-b39d2607fcda"
      },
      "source": [
        "#set model with ideal hyperparameters from above\n",
        "all_jobs_yrs_svm = all_jobs_yrs_svm_grid.best_estimator_\n",
        "\n",
        "all_jobs_yrs_svm.fit(X_train, y_train)\n",
        "\n",
        "#cross validate\n",
        "all_jobs_yrs_svm_scores = cross_val_score(all_jobs_yrs_svm, X_train, y_train, cv = 5)\n",
        "\n",
        "print('Accuracy Scores for the 5 folds: ', all_jobs_yrs_svm_scores)\n",
        "print('Mean Cross Validation Score: {:.33f}'.format(np.mean(all_jobs_yrs_svm_scores)))"
      ],
      "execution_count": null,
      "outputs": [
        {
          "output_type": "stream",
          "text": [
            "Accuracy Scores for the 5 folds:  [-0.03445394 -0.00352528  0.0060904  -0.02967813 -0.01017272]\n",
            "Mean Cross Validation Score: -0.014347934343450585367718552731731\n"
          ],
          "name": "stdout"
        }
      ]
    },
    {
      "cell_type": "code",
      "metadata": {
        "id": "fOvN8gHKR5lT",
        "colab": {
          "base_uri": "https://localhost:8080/",
          "height": 108
        },
        "outputId": "9e44c2f6-87f4-4ef9-8314-19f4976abc3a"
      },
      "source": [
        "#generate predictions\n",
        "all_jobs_yrs_svm_preds = all_jobs_yrs_svm.predict(X_test)\n",
        "\n",
        "#more performance metrics\n",
        "all_jobs_yrs_svm_rsquared_train = all_jobs_yrs_svm.score(X_train, y_train)\n",
        "all_jobs_yrs_svm_rsquared_test = all_jobs_yrs_svm.score(X_test, y_test)\n",
        "all_jobs_yrs_svm_mae = mean_absolute_error(y_test, all_jobs_yrs_svm_preds)\n",
        "all_jobs_yrs_svm_mse = mse(y_test, all_jobs_yrs_svm_preds)\n",
        "all_jobs_yrs_svm_rmse = rmse(y_test, all_jobs_yrs_svm_preds)\n",
        "all_jobs_yrs_svm_mape = np.mean(np.abs((y_test - all_jobs_yrs_svm_preds)/y_test)*100)\n",
        "all_jobs_yrs_svm_rmspe = (np.sqrt(np.mean(np.square((y_test - all_jobs_yrs_svm_preds) / y_test)))) * 100\n",
        "all_jobs_yrs_svm_model_name = 'All Jobs Years of Experience SVM'\n",
        "\n",
        "#create easily readable display of performance metrics\n",
        "all_jobs_yrs_svm_dictionary = {'Model': all_jobs_yrs_svm_model_name,\n",
        "  'Training Set R Squared': all_jobs_yrs_svm_rsquared_train, \n",
        "  'Test Set R Squared': all_jobs_yrs_svm_rsquared_test, 'Mean Absolute Error': all_jobs_yrs_svm_mae, \n",
        "  'Mean Sqaured Error': all_jobs_yrs_svm_mse, 'Root Mean Squared Error': all_jobs_yrs_svm_rmse,\n",
        "  'Root Mean Squared Percentage Error': all_jobs_yrs_svm_rmspe,\n",
        "  'Mean Absolute Percentage Error': all_jobs_yrs_svm_mape}\n",
        "\n",
        "all_jobs_yrs_svm_df = pd.DataFrame(all_jobs_yrs_svm_dictionary, index=[0])\n",
        "\n",
        "all_jobs_yrs_svm_df"
      ],
      "execution_count": null,
      "outputs": [
        {
          "output_type": "execute_result",
          "data": {
            "text/html": [
              "<div>\n",
              "<style scoped>\n",
              "    .dataframe tbody tr th:only-of-type {\n",
              "        vertical-align: middle;\n",
              "    }\n",
              "\n",
              "    .dataframe tbody tr th {\n",
              "        vertical-align: top;\n",
              "    }\n",
              "\n",
              "    .dataframe thead th {\n",
              "        text-align: right;\n",
              "    }\n",
              "</style>\n",
              "<table border=\"1\" class=\"dataframe\">\n",
              "  <thead>\n",
              "    <tr style=\"text-align: right;\">\n",
              "      <th></th>\n",
              "      <th>Model</th>\n",
              "      <th>Training Set R Squared</th>\n",
              "      <th>Test Set R Squared</th>\n",
              "      <th>Mean Absolute Error</th>\n",
              "      <th>Mean Sqaured Error</th>\n",
              "      <th>Root Mean Squared Error</th>\n",
              "      <th>Root Mean Squared Percentage Error</th>\n",
              "      <th>Mean Absolute Percentage Error</th>\n",
              "    </tr>\n",
              "  </thead>\n",
              "  <tbody>\n",
              "    <tr>\n",
              "      <th>0</th>\n",
              "      <td>All Jobs Years of Experience SVM</td>\n",
              "      <td>-0.009723</td>\n",
              "      <td>-0.000762</td>\n",
              "      <td>27046.68021</td>\n",
              "      <td>1.197899e+09</td>\n",
              "      <td>34610.67721</td>\n",
              "      <td>39.661122</td>\n",
              "      <td>30.828981</td>\n",
              "    </tr>\n",
              "  </tbody>\n",
              "</table>\n",
              "</div>"
            ],
            "text/plain": [
              "                              Model  ...  Mean Absolute Percentage Error\n",
              "0  All Jobs Years of Experience SVM  ...                       30.828981\n",
              "\n",
              "[1 rows x 8 columns]"
            ]
          },
          "metadata": {
            "tags": []
          },
          "execution_count": 162
        }
      ]
    },
    {
      "cell_type": "markdown",
      "metadata": {
        "id": "VUuvxds2vVVH"
      },
      "source": [
        "### **all_jobs_df log(y)**"
      ]
    },
    {
      "cell_type": "code",
      "metadata": {
        "id": "w7iuM5w1vVVL",
        "colab": {
          "base_uri": "https://localhost:8080/"
        },
        "outputId": "aa354ed5-ca27-4f99-a7d8-112fd0d3edbb"
      },
      "source": [
        "#set features & target\n",
        "X = all_jobs_df.drop(columns=['avg_sal', 'log_avg_sal'])\n",
        "y = all_jobs_df['log_avg_sal']\n",
        "\n",
        "#split data into training & test sets\n",
        "X_train, X_test, y_train, y_test = train_test_split(X, y, test_size = 0.2, random_state = 43)\n",
        "\n",
        "#Use grid search to find best hyperparameters\n",
        "# defining parameter range \n",
        "param_grid = {'C': [0.001, 0.01, 0.1, 1, 10],\n",
        " 'gamma': [0.001, 0.01, 0.1, 1]\n",
        "} \n",
        "  \n",
        "log_all_jobs_svm_grid = GridSearchCV(svm.SVR(kernel='rbf'), param_grid)\n",
        "# fitting the model for grid search \n",
        "log_all_jobs_svm_grid.fit(X_train, y_train) \n",
        "# print best parameter after tuning \n",
        "print(log_all_jobs_svm_grid.best_params_) \n",
        "  \n",
        "# print how our model looks after hyper-parameter tuning \n",
        "print(log_all_jobs_svm_grid.best_estimator_) "
      ],
      "execution_count": null,
      "outputs": [
        {
          "output_type": "stream",
          "text": [
            "{'C': 1, 'gamma': 0.01}\n",
            "SVR(C=1, cache_size=200, coef0=0.0, degree=3, epsilon=0.1, gamma=0.01,\n",
            "    kernel='rbf', max_iter=-1, shrinking=True, tol=0.001, verbose=False)\n"
          ],
          "name": "stdout"
        }
      ]
    },
    {
      "cell_type": "code",
      "metadata": {
        "id": "o1uGlqKGvVVO",
        "colab": {
          "base_uri": "https://localhost:8080/"
        },
        "outputId": "4a2ea60c-d07e-4e9f-cf40-b46c1aeb7670"
      },
      "source": [
        "#set model with ideal hyperparameters from above\n",
        "log_all_jobs_svm = log_all_jobs_svm_grid.best_estimator_\n",
        "\n",
        "log_all_jobs_svm.fit(X_train, y_train)\n",
        "\n",
        "#cross validate\n",
        "log_all_jobs_svm_scores = cross_val_score(log_all_jobs_svm, X_train, y_train, cv = 5)\n",
        "\n",
        "print('Accuracy Scores for the 5 folds: ', log_all_jobs_svm_scores)\n",
        "print('Mean Cross Validation Score: {:.33f}'.format(np.mean(log_all_jobs_svm_scores)))"
      ],
      "execution_count": null,
      "outputs": [
        {
          "output_type": "stream",
          "text": [
            "Accuracy Scores for the 5 folds:  [0.55818612 0.55165379 0.51536188 0.54701446 0.53459469]\n",
            "Mean Cross Validation Score: 0.541362188158547086302974093996454\n"
          ],
          "name": "stdout"
        }
      ]
    },
    {
      "cell_type": "code",
      "metadata": {
        "id": "zFWPijB1vVVO",
        "colab": {
          "base_uri": "https://localhost:8080/",
          "height": 108
        },
        "outputId": "a55ef3f5-60ff-41a0-af43-28ba5988dd74"
      },
      "source": [
        "#generate predictions\n",
        "log_all_jobs_svm_preds = log_all_jobs_svm.predict(X_test)\n",
        "\n",
        "#more performance metrics\n",
        "log_all_jobs_svm_rsquared_train = log_all_jobs_svm.score(X_train, y_train)\n",
        "log_all_jobs_svm_rsquared_test = log_all_jobs_svm.score(X_test, y_test)\n",
        "log_all_jobs_svm_mae = mean_absolute_error(y_test, log_all_jobs_svm_preds)\n",
        "log_all_jobs_svm_mse = mse(y_test, log_all_jobs_svm_preds)\n",
        "log_all_jobs_svm_rmse = rmse(y_test, log_all_jobs_svm_preds)\n",
        "log_all_jobs_svm_mape = np.mean(np.abs((y_test - log_all_jobs_svm_preds)/y_test)*100)\n",
        "log_all_jobs_svm_rmspe = (np.sqrt(np.mean(np.square((y_test - log_all_jobs_svm_preds) / y_test)))) * 100\n",
        "log_all_jobs_svm_model_name = 'All Jobs SVM Log(y)'\n",
        "\n",
        "#create easily readable display of performance metrics\n",
        "log_all_jobs_svm_dictionary = {'Model': log_all_jobs_svm_model_name,\n",
        "  'Training Set R Squared': log_all_jobs_svm_rsquared_train, \n",
        "  'Test Set R Squared': log_all_jobs_svm_rsquared_test, 'Mean Absolute Error': log_all_jobs_svm_mae, \n",
        "  'Mean Sqaured Error': log_all_jobs_svm_mse, 'Root Mean Squared Error': log_all_jobs_svm_rmse,\n",
        "  'Root Mean Squared Percentage Error': log_all_jobs_svm_rmspe,\n",
        "  'Mean Absolute Percentage Error': log_all_jobs_svm_mape}\n",
        "\n",
        "log_all_jobs_svm_df = pd.DataFrame(log_all_jobs_svm_dictionary, index=[0])\n",
        "\n",
        "log_all_jobs_svm_df"
      ],
      "execution_count": null,
      "outputs": [
        {
          "output_type": "execute_result",
          "data": {
            "text/html": [
              "<div>\n",
              "<style scoped>\n",
              "    .dataframe tbody tr th:only-of-type {\n",
              "        vertical-align: middle;\n",
              "    }\n",
              "\n",
              "    .dataframe tbody tr th {\n",
              "        vertical-align: top;\n",
              "    }\n",
              "\n",
              "    .dataframe thead th {\n",
              "        text-align: right;\n",
              "    }\n",
              "</style>\n",
              "<table border=\"1\" class=\"dataframe\">\n",
              "  <thead>\n",
              "    <tr style=\"text-align: right;\">\n",
              "      <th></th>\n",
              "      <th>Model</th>\n",
              "      <th>Training Set R Squared</th>\n",
              "      <th>Test Set R Squared</th>\n",
              "      <th>Mean Absolute Error</th>\n",
              "      <th>Mean Sqaured Error</th>\n",
              "      <th>Root Mean Squared Error</th>\n",
              "      <th>Root Mean Squared Percentage Error</th>\n",
              "      <th>Mean Absolute Percentage Error</th>\n",
              "    </tr>\n",
              "  </thead>\n",
              "  <tbody>\n",
              "    <tr>\n",
              "      <th>0</th>\n",
              "      <td>All Jobs SVM Log(y)</td>\n",
              "      <td>0.613295</td>\n",
              "      <td>0.571791</td>\n",
              "      <td>0.17975</td>\n",
              "      <td>0.055125</td>\n",
              "      <td>0.234788</td>\n",
              "      <td>2.068715</td>\n",
              "      <td>1.578657</td>\n",
              "    </tr>\n",
              "  </tbody>\n",
              "</table>\n",
              "</div>"
            ],
            "text/plain": [
              "                 Model  ...  Mean Absolute Percentage Error\n",
              "0  All Jobs SVM Log(y)  ...                        1.578657\n",
              "\n",
              "[1 rows x 8 columns]"
            ]
          },
          "metadata": {
            "tags": []
          },
          "execution_count": 165
        }
      ]
    },
    {
      "cell_type": "markdown",
      "metadata": {
        "id": "sEZBCr9kvVVP"
      },
      "source": [
        "### **all_jobs_yrs_df log(y)**"
      ]
    },
    {
      "cell_type": "code",
      "metadata": {
        "id": "arneeW-bvVVP",
        "colab": {
          "base_uri": "https://localhost:8080/"
        },
        "outputId": "e3d219fd-095a-4bcf-e8da-83d2677abfc5"
      },
      "source": [
        "#set features & target\n",
        "X = all_jobs_yrs_df.drop(columns=['avg_sal', 'log_avg_sal'])\n",
        "y = all_jobs_yrs_df['log_avg_sal']\n",
        "\n",
        "#split data into training & test sets\n",
        "X_train, X_test, y_train, y_test = train_test_split(X, y, test_size = 0.2, random_state = 43)\n",
        "\n",
        "#Use grid search to find best hyperparameters\n",
        "# defining parameter range \n",
        "param_grid = {'C': [0.001, 0.01, 0.1, 1, 10],\n",
        " 'gamma': [0.001, 0.01, 0.1, 1]\n",
        "} \n",
        "  \n",
        "log_all_jobs_yrs_svm_grid = GridSearchCV(svm.SVR(kernel='rbf'), param_grid)\n",
        "# fitting the model for grid search \n",
        "log_all_jobs_yrs_svm_grid.fit(X_train, y_train) \n",
        "# print best parameter after tuning \n",
        "print(log_all_jobs_yrs_svm_grid.best_params_) \n",
        "  \n",
        "# print how our model looks after hyper-parameter tuning \n",
        "print(log_all_jobs_yrs_svm_grid.best_estimator_)  "
      ],
      "execution_count": null,
      "outputs": [
        {
          "output_type": "stream",
          "text": [
            "{'C': 1, 'gamma': 0.01}\n",
            "SVR(C=1, cache_size=200, coef0=0.0, degree=3, epsilon=0.1, gamma=0.01,\n",
            "    kernel='rbf', max_iter=-1, shrinking=True, tol=0.001, verbose=False)\n"
          ],
          "name": "stdout"
        }
      ]
    },
    {
      "cell_type": "code",
      "metadata": {
        "id": "taUOOZ01vVVP",
        "colab": {
          "base_uri": "https://localhost:8080/"
        },
        "outputId": "b44b088f-51b5-4736-d3f9-757a11c3456a"
      },
      "source": [
        "#set model with ideal hyperparameters from above\n",
        "log_all_jobs_yrs_svm = log_all_jobs_yrs_svm_grid.best_estimator_\n",
        "\n",
        "log_all_jobs_yrs_svm.fit(X_train, y_train)\n",
        "\n",
        "#cross validate\n",
        "log_all_jobs_yrs_svm_scores = cross_val_score(log_all_jobs_yrs_svm, X_train, y_train, cv = 5)\n",
        "\n",
        "print('Accuracy Scores for the 5 folds: ', log_all_jobs_yrs_svm_scores)\n",
        "print('Mean Cross Validation Score: {:.33f}'.format(np.mean(log_all_jobs_yrs_svm_scores)))"
      ],
      "execution_count": null,
      "outputs": [
        {
          "output_type": "stream",
          "text": [
            "Accuracy Scores for the 5 folds:  [0.54905521 0.51973751 0.57188196 0.53533889 0.57370712]\n",
            "Mean Cross Validation Score: 0.549944139011468657862735653907293\n"
          ],
          "name": "stdout"
        }
      ]
    },
    {
      "cell_type": "code",
      "metadata": {
        "id": "5ox-586YvVVQ",
        "colab": {
          "base_uri": "https://localhost:8080/",
          "height": 108
        },
        "outputId": "0afdd881-0152-494d-ce34-b6fb81e4c6f9"
      },
      "source": [
        "#generate predictions\n",
        "log_all_jobs_yrs_svm_preds = log_all_jobs_yrs_svm.predict(X_test)\n",
        "\n",
        "#more performance metrics\n",
        "log_all_jobs_yrs_svm_rsquared_train = log_all_jobs_yrs_svm.score(X_train, y_train)\n",
        "log_all_jobs_yrs_svm_rsquared_test = log_all_jobs_yrs_svm.score(X_test, y_test)\n",
        "log_all_jobs_yrs_svm_mae = mean_absolute_error(y_test, log_all_jobs_yrs_svm_preds)\n",
        "log_all_jobs_yrs_svm_mse = mse(y_test, log_all_jobs_yrs_svm_preds)\n",
        "log_all_jobs_yrs_svm_rmse = rmse(y_test, log_all_jobs_yrs_svm_preds)\n",
        "log_all_jobs_yrs_svm_mape = np.mean(np.abs((y_test - log_all_jobs_yrs_svm_preds)/y_test)*100)\n",
        "log_all_jobs_yrs_svm_rmspe = (np.sqrt(np.mean(np.square((y_test - log_all_jobs_yrs_svm_preds) / y_test)))) * 100\n",
        "log_all_jobs_yrs_svm_model_name = 'All Jobs Years of Experience SVM Log(y)'\n",
        "\n",
        "#create easily readable display of performance metrics\n",
        "log_all_jobs_yrs_svm_dictionary = {'Model': log_all_jobs_yrs_svm_model_name,\n",
        "  'Training Set R Squared': log_all_jobs_yrs_svm_rsquared_train, \n",
        "  'Test Set R Squared': log_all_jobs_yrs_svm_rsquared_test, 'Mean Absolute Error': log_all_jobs_yrs_svm_mae, \n",
        "  'Mean Sqaured Error': log_all_jobs_yrs_svm_mse, 'Root Mean Squared Error': log_all_jobs_yrs_svm_rmse,\n",
        "  'Root Mean Squared Percentage Error': log_all_jobs_yrs_svm_rmspe,\n",
        "  'Mean Absolute Percentage Error': log_all_jobs_yrs_svm_mape}\n",
        "\n",
        "log_all_jobs_yrs_svm_df = pd.DataFrame(log_all_jobs_yrs_svm_dictionary, index=[0])\n",
        "\n",
        "log_all_jobs_yrs_svm_df"
      ],
      "execution_count": null,
      "outputs": [
        {
          "output_type": "execute_result",
          "data": {
            "text/html": [
              "<div>\n",
              "<style scoped>\n",
              "    .dataframe tbody tr th:only-of-type {\n",
              "        vertical-align: middle;\n",
              "    }\n",
              "\n",
              "    .dataframe tbody tr th {\n",
              "        vertical-align: top;\n",
              "    }\n",
              "\n",
              "    .dataframe thead th {\n",
              "        text-align: right;\n",
              "    }\n",
              "</style>\n",
              "<table border=\"1\" class=\"dataframe\">\n",
              "  <thead>\n",
              "    <tr style=\"text-align: right;\">\n",
              "      <th></th>\n",
              "      <th>Model</th>\n",
              "      <th>Training Set R Squared</th>\n",
              "      <th>Test Set R Squared</th>\n",
              "      <th>Mean Absolute Error</th>\n",
              "      <th>Mean Sqaured Error</th>\n",
              "      <th>Root Mean Squared Error</th>\n",
              "      <th>Root Mean Squared Percentage Error</th>\n",
              "      <th>Mean Absolute Percentage Error</th>\n",
              "    </tr>\n",
              "  </thead>\n",
              "  <tbody>\n",
              "    <tr>\n",
              "      <th>0</th>\n",
              "      <td>All Jobs Years of Experience SVM Log(y)</td>\n",
              "      <td>0.623644</td>\n",
              "      <td>0.587996</td>\n",
              "      <td>0.173884</td>\n",
              "      <td>0.053809</td>\n",
              "      <td>0.231967</td>\n",
              "      <td>2.053219</td>\n",
              "      <td>1.533049</td>\n",
              "    </tr>\n",
              "  </tbody>\n",
              "</table>\n",
              "</div>"
            ],
            "text/plain": [
              "                                     Model  ...  Mean Absolute Percentage Error\n",
              "0  All Jobs Years of Experience SVM Log(y)  ...                        1.533049\n",
              "\n",
              "[1 rows x 8 columns]"
            ]
          },
          "metadata": {
            "tags": []
          },
          "execution_count": 168
        }
      ]
    },
    {
      "cell_type": "markdown",
      "metadata": {
        "id": "mKGI07ipQ3cG"
      },
      "source": [
        "### **all_jobs_no_outliers_df**"
      ]
    },
    {
      "cell_type": "code",
      "metadata": {
        "id": "m2nEnrtJQ3cG",
        "colab": {
          "base_uri": "https://localhost:8080/"
        },
        "outputId": "e9e84106-eba7-427b-db89-289c091d463f"
      },
      "source": [
        "#set features & target\n",
        "X = all_jobs_no_outliers_df.drop(columns=['avg_sal', 'log_avg_sal'])\n",
        "y = all_jobs_no_outliers_df['avg_sal']\n",
        "\n",
        "#split data into training & test sets\n",
        "X_train, X_test, y_train, y_test = train_test_split(X, y, test_size = 0.2, random_state = 43)\n",
        "\n",
        "#Use grid search to find best hyperparameters\n",
        "# defining parameter range \n",
        "param_grid = {'C': [0.001, 0.01, 0.1, 1, 10],\n",
        " 'gamma': [0.001, 0.01, 0.1, 1]\n",
        "} \n",
        "  \n",
        "all_jobs_no_outliers_svm_grid = GridSearchCV(svm.SVR(kernel='rbf'), param_grid)\n",
        "# fitting the model for grid search \n",
        "all_jobs_no_outliers_svm_grid.fit(X_train, y_train) \n",
        "# print best parameter after tuning \n",
        "print(all_jobs_no_outliers_svm_grid.best_params_) \n",
        "  \n",
        "# print how our model looks after hyper-parameter tuning \n",
        "print(all_jobs_no_outliers_svm_grid.best_estimator_) "
      ],
      "execution_count": null,
      "outputs": [
        {
          "output_type": "stream",
          "text": [
            "{'C': 10, 'gamma': 0.01}\n",
            "SVR(C=10, cache_size=200, coef0=0.0, degree=3, epsilon=0.1, gamma=0.01,\n",
            "    kernel='rbf', max_iter=-1, shrinking=True, tol=0.001, verbose=False)\n"
          ],
          "name": "stdout"
        }
      ]
    },
    {
      "cell_type": "code",
      "metadata": {
        "id": "3dsEEEXtQ3cH",
        "colab": {
          "base_uri": "https://localhost:8080/"
        },
        "outputId": "ee0b6fa5-0ca0-41a6-c13c-23e348ffdcdb"
      },
      "source": [
        "#set model with ideal hyperparameters from above\n",
        "all_jobs_no_outliers_svm = all_jobs_no_outliers_svm_grid.best_estimator_\n",
        "\n",
        "all_jobs_no_outliers_svm.fit(X_train, y_train)\n",
        "\n",
        "#cross validate\n",
        "all_jobs_no_outliers_svm_scores = cross_val_score(all_jobs_no_outliers_svm, X_train, y_train, cv = 5)\n",
        "\n",
        "print('Accuracy Scores for the 5 folds: ', all_jobs_no_outliers_svm_scores)\n",
        "print('Mean Cross Validation Score: {:.33f}'.format(np.mean(all_jobs_no_outliers_svm_scores)))"
      ],
      "execution_count": null,
      "outputs": [
        {
          "output_type": "stream",
          "text": [
            "Accuracy Scores for the 5 folds:  [-0.0133522  -0.04489194  0.00112566 -0.00030139 -0.0042036 ]\n",
            "Mean Cross Validation Score: -0.012324696243107457344079236349899\n"
          ],
          "name": "stdout"
        }
      ]
    },
    {
      "cell_type": "code",
      "metadata": {
        "id": "OzUBmtsoQ3cH",
        "colab": {
          "base_uri": "https://localhost:8080/",
          "height": 108
        },
        "outputId": "e3eca91e-6a74-4370-89d3-0866a4b8a365"
      },
      "source": [
        "#generate predictions\n",
        "all_jobs_no_outliers_svm_preds = all_jobs_no_outliers_svm.predict(X_test)\n",
        "\n",
        "#more performance metrics\n",
        "all_jobs_no_outliers_svm_rsquared_train = all_jobs_no_outliers_svm.score(X_train, y_train)\n",
        "all_jobs_no_outliers_svm_rsquared_test = all_jobs_no_outliers_svm.score(X_test, y_test)\n",
        "all_jobs_no_outliers_svm_mae = mean_absolute_error(y_test, all_jobs_no_outliers_svm_preds)\n",
        "all_jobs_no_outliers_svm_mse = mse(y_test, all_jobs_no_outliers_svm_preds)\n",
        "all_jobs_no_outliers_svm_rmse = rmse(y_test, all_jobs_no_outliers_svm_preds)\n",
        "all_jobs_no_outliers_svm_mape = np.mean(np.abs((y_test - all_jobs_no_outliers_svm_preds)/y_test)*100)\n",
        "all_jobs_no_outliers_svm_rmspe = (np.sqrt(np.mean(np.square((y_test - all_jobs_no_outliers_svm_preds) / y_test)))) * 100\n",
        "all_jobs_no_outliers_svm_model_name = 'All Jobs w/o Outliers SVM'\n",
        "\n",
        "#create easily readable display of performance metrics\n",
        "all_jobs_no_outliers_svm_dictionary = {'Model': all_jobs_no_outliers_svm_model_name,\n",
        "  'Training Set R Squared': all_jobs_no_outliers_svm_rsquared_train, \n",
        "  'Test Set R Squared': all_jobs_no_outliers_svm_rsquared_test, 'Mean Absolute Error': all_jobs_no_outliers_svm_mae, \n",
        "  'Mean Sqaured Error': all_jobs_no_outliers_svm_mse, 'Root Mean Squared Error': all_jobs_no_outliers_svm_rmse,\n",
        "  'Root Mean Squared Percentage Error': all_jobs_no_outliers_svm_rmspe,\n",
        "  'Mean Absolute Percentage Error': all_jobs_no_outliers_svm_mape}\n",
        "\n",
        "all_jobs_no_outliers_svm_df = pd.DataFrame(all_jobs_no_outliers_svm_dictionary, index=[0])\n",
        "\n",
        "all_jobs_no_outliers_svm_df"
      ],
      "execution_count": null,
      "outputs": [
        {
          "output_type": "execute_result",
          "data": {
            "text/html": [
              "<div>\n",
              "<style scoped>\n",
              "    .dataframe tbody tr th:only-of-type {\n",
              "        vertical-align: middle;\n",
              "    }\n",
              "\n",
              "    .dataframe tbody tr th {\n",
              "        vertical-align: top;\n",
              "    }\n",
              "\n",
              "    .dataframe thead th {\n",
              "        text-align: right;\n",
              "    }\n",
              "</style>\n",
              "<table border=\"1\" class=\"dataframe\">\n",
              "  <thead>\n",
              "    <tr style=\"text-align: right;\">\n",
              "      <th></th>\n",
              "      <th>Model</th>\n",
              "      <th>Training Set R Squared</th>\n",
              "      <th>Test Set R Squared</th>\n",
              "      <th>Mean Absolute Error</th>\n",
              "      <th>Mean Sqaured Error</th>\n",
              "      <th>Root Mean Squared Error</th>\n",
              "      <th>Root Mean Squared Percentage Error</th>\n",
              "      <th>Mean Absolute Percentage Error</th>\n",
              "    </tr>\n",
              "  </thead>\n",
              "  <tbody>\n",
              "    <tr>\n",
              "      <th>0</th>\n",
              "      <td>All Jobs w/o Outliers SVM</td>\n",
              "      <td>-0.004952</td>\n",
              "      <td>-0.005451</td>\n",
              "      <td>26065.251356</td>\n",
              "      <td>1.036623e+09</td>\n",
              "      <td>32196.629208</td>\n",
              "      <td>37.040442</td>\n",
              "      <td>29.500019</td>\n",
              "    </tr>\n",
              "  </tbody>\n",
              "</table>\n",
              "</div>"
            ],
            "text/plain": [
              "                       Model  ...  Mean Absolute Percentage Error\n",
              "0  All Jobs w/o Outliers SVM  ...                       29.500019\n",
              "\n",
              "[1 rows x 8 columns]"
            ]
          },
          "metadata": {
            "tags": []
          },
          "execution_count": 171
        }
      ]
    },
    {
      "cell_type": "markdown",
      "metadata": {
        "id": "iSEpHsHJQ3cI"
      },
      "source": [
        "### **all_jobs_yrs_no_outliers_df**"
      ]
    },
    {
      "cell_type": "code",
      "metadata": {
        "id": "h3Kpq2c9Q3cI",
        "colab": {
          "base_uri": "https://localhost:8080/"
        },
        "outputId": "ebf8e6d0-4bc2-4b76-de29-3dc42a10784a"
      },
      "source": [
        "#set features & target\n",
        "X = all_jobs_yrs_no_outliers_df.drop(columns=['avg_sal', 'log_avg_sal'])\n",
        "y = all_jobs_yrs_no_outliers_df['avg_sal']\n",
        "\n",
        "#split data into training & test sets\n",
        "X_train, X_test, y_train, y_test = train_test_split(X, y, test_size = 0.2, random_state = 43)\n",
        "\n",
        "#Use grid search to find best hyperparameters\n",
        "# defining parameter range \n",
        "param_grid = {'C': [0.001, 0.01, 0.1, 1, 10],\n",
        " 'gamma': [0.001, 0.01, 0.1, 1]\n",
        "} \n",
        "  \n",
        "all_jobs_yrs_no_outliers_svm_grid = GridSearchCV(svm.SVR(kernel='rbf'), param_grid)\n",
        "# fitting the model for grid search \n",
        "all_jobs_yrs_no_outliers_svm_grid.fit(X_train, y_train) \n",
        "# print best parameter after tuning \n",
        "print(all_jobs_yrs_no_outliers_svm_grid.best_params_) \n",
        "  \n",
        "# print how our model looks after hyper-parameter tuning \n",
        "print(all_jobs_yrs_no_outliers_svm_grid.best_estimator_)  "
      ],
      "execution_count": null,
      "outputs": [
        {
          "output_type": "stream",
          "text": [
            "{'C': 10, 'gamma': 0.01}\n",
            "SVR(C=10, cache_size=200, coef0=0.0, degree=3, epsilon=0.1, gamma=0.01,\n",
            "    kernel='rbf', max_iter=-1, shrinking=True, tol=0.001, verbose=False)\n"
          ],
          "name": "stdout"
        }
      ]
    },
    {
      "cell_type": "code",
      "metadata": {
        "id": "zkbgpzigQ3cI",
        "colab": {
          "base_uri": "https://localhost:8080/"
        },
        "outputId": "82628cc5-cefe-416e-97d3-d4e74ce5de63"
      },
      "source": [
        "#set model with ideal hyperparameters from above\n",
        "all_jobs_yrs_no_outliers_svm = all_jobs_yrs_no_outliers_svm_grid.best_estimator_\n",
        "\n",
        "all_jobs_yrs_no_outliers_svm.fit(X_train, y_train)\n",
        "\n",
        "#cross validate\n",
        "all_jobs_yrs_no_outliers_svm_scores = cross_val_score(all_jobs_yrs_no_outliers_svm, X_train, y_train, cv = 5)\n",
        "\n",
        "print('Accuracy Scores for the 5 folds: ', all_jobs_yrs_no_outliers_svm_scores)\n",
        "print('Mean Cross Validation Score: {:.33f}'.format(np.mean(all_jobs_yrs_no_outliers_svm_scores)))"
      ],
      "execution_count": null,
      "outputs": [
        {
          "output_type": "stream",
          "text": [
            "Accuracy Scores for the 5 folds:  [-0.04735193 -0.03216759  0.00690887 -0.01311342  0.00903267]\n",
            "Mean Cross Validation Score: -0.015338280800293913747056606666774\n"
          ],
          "name": "stdout"
        }
      ]
    },
    {
      "cell_type": "code",
      "metadata": {
        "id": "dU5HUQx4Q3cJ",
        "colab": {
          "base_uri": "https://localhost:8080/",
          "height": 108
        },
        "outputId": "78b69c02-8d57-4847-ef3d-245c6b7b6c66"
      },
      "source": [
        "#generate predictions\n",
        "all_jobs_yrs_no_outliers_svm_preds = all_jobs_yrs_no_outliers_svm.predict(X_test)\n",
        "\n",
        "#more performance metrics\n",
        "all_jobs_yrs_no_outliers_svm_rsquared_train = all_jobs_yrs_no_outliers_svm.score(X_train, y_train)\n",
        "all_jobs_yrs_no_outliers_svm_rsquared_test = all_jobs_yrs_no_outliers_svm.score(X_test, y_test)\n",
        "all_jobs_yrs_no_outliers_svm_mae = mean_absolute_error(y_test, all_jobs_yrs_no_outliers_svm_preds)\n",
        "all_jobs_yrs_no_outliers_svm_mse = mse(y_test, all_jobs_yrs_no_outliers_svm_preds)\n",
        "all_jobs_yrs_no_outliers_svm_rmse = rmse(y_test, all_jobs_yrs_no_outliers_svm_preds)\n",
        "all_jobs_yrs_no_outliers_svm_mape = np.mean(np.abs((y_test - all_jobs_yrs_no_outliers_svm_preds)/y_test)*100)\n",
        "all_jobs_yrs_no_outliers_svm_rmspe = (np.sqrt(np.mean(np.square((y_test - all_jobs_yrs_no_outliers_svm_preds) / y_test)))) * 100\n",
        "all_jobs_yrs_no_outliers_svm_model_name = 'All Jobs Years of Experience w/o Outliers SVM'\n",
        "\n",
        "#create easily readable display of performance metrics\n",
        "all_jobs_yrs_no_outliers_svm_dictionary = {'Model': all_jobs_yrs_no_outliers_svm_model_name,\n",
        "  'Training Set R Squared': all_jobs_yrs_no_outliers_svm_rsquared_train, \n",
        "  'Test Set R Squared': all_jobs_yrs_no_outliers_svm_rsquared_test, 'Mean Absolute Error': all_jobs_yrs_no_outliers_svm_mae, \n",
        "  'Mean Sqaured Error': all_jobs_yrs_no_outliers_svm_mse, 'Root Mean Squared Error': all_jobs_yrs_no_outliers_svm_rmse,\n",
        "  'Root Mean Squared Percentage Error': all_jobs_yrs_no_outliers_svm_rmspe,\n",
        "  'Mean Absolute Percentage Error': all_jobs_yrs_no_outliers_svm_mape}\n",
        "\n",
        "all_jobs_yrs_no_outliers_svm_df = pd.DataFrame(all_jobs_yrs_no_outliers_svm_dictionary, index=[0])\n",
        "\n",
        "all_jobs_yrs_no_outliers_svm_df"
      ],
      "execution_count": null,
      "outputs": [
        {
          "output_type": "execute_result",
          "data": {
            "text/html": [
              "<div>\n",
              "<style scoped>\n",
              "    .dataframe tbody tr th:only-of-type {\n",
              "        vertical-align: middle;\n",
              "    }\n",
              "\n",
              "    .dataframe tbody tr th {\n",
              "        vertical-align: top;\n",
              "    }\n",
              "\n",
              "    .dataframe thead th {\n",
              "        text-align: right;\n",
              "    }\n",
              "</style>\n",
              "<table border=\"1\" class=\"dataframe\">\n",
              "  <thead>\n",
              "    <tr style=\"text-align: right;\">\n",
              "      <th></th>\n",
              "      <th>Model</th>\n",
              "      <th>Training Set R Squared</th>\n",
              "      <th>Test Set R Squared</th>\n",
              "      <th>Mean Absolute Error</th>\n",
              "      <th>Mean Sqaured Error</th>\n",
              "      <th>Root Mean Squared Error</th>\n",
              "      <th>Root Mean Squared Percentage Error</th>\n",
              "      <th>Mean Absolute Percentage Error</th>\n",
              "    </tr>\n",
              "  </thead>\n",
              "  <tbody>\n",
              "    <tr>\n",
              "      <th>0</th>\n",
              "      <td>All Jobs Years of Experience w/o Outliers SVM</td>\n",
              "      <td>-0.00787</td>\n",
              "      <td>-0.029295</td>\n",
              "      <td>25088.297651</td>\n",
              "      <td>9.807309e+08</td>\n",
              "      <td>31316.623157</td>\n",
              "      <td>35.213013</td>\n",
              "      <td>27.845962</td>\n",
              "    </tr>\n",
              "  </tbody>\n",
              "</table>\n",
              "</div>"
            ],
            "text/plain": [
              "                                           Model  ...  Mean Absolute Percentage Error\n",
              "0  All Jobs Years of Experience w/o Outliers SVM  ...                       27.845962\n",
              "\n",
              "[1 rows x 8 columns]"
            ]
          },
          "metadata": {
            "tags": []
          },
          "execution_count": 174
        }
      ]
    },
    {
      "cell_type": "markdown",
      "metadata": {
        "id": "4rpcV2KSQ3cJ"
      },
      "source": [
        "### **all_jobs_no_outliers_df log(y)**"
      ]
    },
    {
      "cell_type": "code",
      "metadata": {
        "id": "dvUbtG1hQ3cJ",
        "colab": {
          "base_uri": "https://localhost:8080/"
        },
        "outputId": "b562a581-eecb-44e3-acd0-a6a0b873c849"
      },
      "source": [
        "#set features & target\n",
        "X = all_jobs_no_outliers_df.drop(columns=['avg_sal', 'log_avg_sal'])\n",
        "y = all_jobs_no_outliers_df['log_avg_sal']\n",
        "\n",
        "#split data into training & test sets\n",
        "X_train, X_test, y_train, y_test = train_test_split(X, y, test_size = 0.2, random_state = 43)\n",
        "\n",
        "#Use grid search to find best hyperparameters\n",
        "# defining parameter range \n",
        "param_grid = {'C': [0.001, 0.01, 0.1, 1, 10],\n",
        " 'gamma': [0.001, 0.01, 0.1, 1]\n",
        "} \n",
        "  \n",
        "log_all_jobs_no_outliers_svm_grid = GridSearchCV(svm.SVR(kernel='rbf'), param_grid)\n",
        "# fitting the model for grid search \n",
        "log_all_jobs_no_outliers_svm_grid.fit(X_train, y_train) \n",
        "# print best parameter after tuning \n",
        "print(log_all_jobs_no_outliers_svm_grid.best_params_) \n",
        "  \n",
        "# print how our model looks after hyper-parameter tuning \n",
        "print(log_all_jobs_no_outliers_svm_grid.best_estimator_) "
      ],
      "execution_count": null,
      "outputs": [
        {
          "output_type": "stream",
          "text": [
            "{'C': 1, 'gamma': 0.01}\n",
            "SVR(C=1, cache_size=200, coef0=0.0, degree=3, epsilon=0.1, gamma=0.01,\n",
            "    kernel='rbf', max_iter=-1, shrinking=True, tol=0.001, verbose=False)\n"
          ],
          "name": "stdout"
        }
      ]
    },
    {
      "cell_type": "code",
      "metadata": {
        "id": "k80NrxjLQ3cK",
        "colab": {
          "base_uri": "https://localhost:8080/"
        },
        "outputId": "d6bfe6e1-93d6-46b2-ae53-8340403b9012"
      },
      "source": [
        "#set model with ideal hyperparameters from above\n",
        "log_all_jobs_no_outliers_svm = log_all_jobs_no_outliers_svm_grid.best_estimator_\n",
        "\n",
        "log_all_jobs_no_outliers_svm.fit(X_train, y_train)\n",
        "\n",
        "#cross validate\n",
        "log_all_jobs_no_outliers_svm_scores = cross_val_score(log_all_jobs_no_outliers_svm, X_train, y_train, cv = 5)\n",
        "\n",
        "print('Accuracy Scores for the 5 folds: ', log_all_jobs_no_outliers_svm_scores)\n",
        "print('Mean Cross Validation Score: {:.33f}'.format(np.mean(log_all_jobs_no_outliers_svm_scores)))"
      ],
      "execution_count": null,
      "outputs": [
        {
          "output_type": "stream",
          "text": [
            "Accuracy Scores for the 5 folds:  [0.53892158 0.52449224 0.58412266 0.52761051 0.54654349]\n",
            "Mean Cross Validation Score: 0.544338095864375426380377120949561\n"
          ],
          "name": "stdout"
        }
      ]
    },
    {
      "cell_type": "code",
      "metadata": {
        "id": "I8S0YM9YQ3cK",
        "colab": {
          "base_uri": "https://localhost:8080/",
          "height": 108
        },
        "outputId": "823a8aa3-0814-412c-b452-7f26c6bcfc30"
      },
      "source": [
        "#generate predictions\n",
        "log_all_jobs_no_outliers_svm_preds = log_all_jobs_no_outliers_svm.predict(X_test)\n",
        "\n",
        "#more performance metrics\n",
        "log_all_jobs_no_outliers_svm_rsquared_train = log_all_jobs_no_outliers_svm.score(X_train, y_train)\n",
        "log_all_jobs_no_outliers_svm_rsquared_test = log_all_jobs_no_outliers_svm.score(X_test, y_test)\n",
        "log_all_jobs_no_outliers_svm_mae = mean_absolute_error(y_test, log_all_jobs_no_outliers_svm_preds)\n",
        "log_all_jobs_no_outliers_svm_mse = mse(y_test, log_all_jobs_no_outliers_svm_preds)\n",
        "log_all_jobs_no_outliers_svm_rmse = rmse(y_test, log_all_jobs_no_outliers_svm_preds)\n",
        "log_all_jobs_no_outliers_svm_mape = np.mean(np.abs((y_test - log_all_jobs_no_outliers_svm_preds)/y_test)*100)\n",
        "log_all_jobs_no_outliers_svm_rmspe = (np.sqrt(np.mean(np.square((y_test - log_all_jobs_no_outliers_svm_preds) / y_test)))) * 100\n",
        "log_all_jobs_no_outliers_svm_model_name = 'All Jobs w/o OUtliers SVM Log(y)'\n",
        "\n",
        "#create easily readable display of performance metrics\n",
        "log_all_jobs_no_outliers_svm_dictionary = {'Model': log_all_jobs_no_outliers_svm_model_name,\n",
        "  'Training Set R Squared': log_all_jobs_no_outliers_svm_rsquared_train, \n",
        "  'Test Set R Squared': log_all_jobs_no_outliers_svm_rsquared_test, 'Mean Absolute Error': log_all_jobs_no_outliers_svm_mae, \n",
        "  'Mean Sqaured Error': log_all_jobs_no_outliers_svm_mse, 'Root Mean Squared Error': log_all_jobs_no_outliers_svm_rmse,\n",
        "  'Root Mean Squared Percentage Error': log_all_jobs_no_outliers_svm_rmspe,\n",
        "  'Mean Absolute Percentage Error': log_all_jobs_no_outliers_svm_mape}\n",
        "\n",
        "log_all_jobs_no_outliers_svm_df = pd.DataFrame(log_all_jobs_no_outliers_svm_dictionary, index=[0])\n",
        "\n",
        "log_all_jobs_no_outliers_svm_df"
      ],
      "execution_count": null,
      "outputs": [
        {
          "output_type": "execute_result",
          "data": {
            "text/html": [
              "<div>\n",
              "<style scoped>\n",
              "    .dataframe tbody tr th:only-of-type {\n",
              "        vertical-align: middle;\n",
              "    }\n",
              "\n",
              "    .dataframe tbody tr th {\n",
              "        vertical-align: top;\n",
              "    }\n",
              "\n",
              "    .dataframe thead th {\n",
              "        text-align: right;\n",
              "    }\n",
              "</style>\n",
              "<table border=\"1\" class=\"dataframe\">\n",
              "  <thead>\n",
              "    <tr style=\"text-align: right;\">\n",
              "      <th></th>\n",
              "      <th>Model</th>\n",
              "      <th>Training Set R Squared</th>\n",
              "      <th>Test Set R Squared</th>\n",
              "      <th>Mean Absolute Error</th>\n",
              "      <th>Mean Sqaured Error</th>\n",
              "      <th>Root Mean Squared Error</th>\n",
              "      <th>Root Mean Squared Percentage Error</th>\n",
              "      <th>Mean Absolute Percentage Error</th>\n",
              "    </tr>\n",
              "  </thead>\n",
              "  <tbody>\n",
              "    <tr>\n",
              "      <th>0</th>\n",
              "      <td>All Jobs w/o OUtliers SVM Log(y)</td>\n",
              "      <td>0.61721</td>\n",
              "      <td>0.549306</td>\n",
              "      <td>0.177569</td>\n",
              "      <td>0.053365</td>\n",
              "      <td>0.231008</td>\n",
              "      <td>2.041533</td>\n",
              "      <td>1.563058</td>\n",
              "    </tr>\n",
              "  </tbody>\n",
              "</table>\n",
              "</div>"
            ],
            "text/plain": [
              "                              Model  ...  Mean Absolute Percentage Error\n",
              "0  All Jobs w/o OUtliers SVM Log(y)  ...                        1.563058\n",
              "\n",
              "[1 rows x 8 columns]"
            ]
          },
          "metadata": {
            "tags": []
          },
          "execution_count": 177
        }
      ]
    },
    {
      "cell_type": "markdown",
      "metadata": {
        "id": "jhW9ZoKeQ3cK"
      },
      "source": [
        "### **all_jobs_yrs_no_outliers_df log(y)**"
      ]
    },
    {
      "cell_type": "code",
      "metadata": {
        "id": "Ph088rVUQ3cK",
        "colab": {
          "base_uri": "https://localhost:8080/"
        },
        "outputId": "d95f7ac9-9116-40ed-e6bc-1ecd635c1a9f"
      },
      "source": [
        "#set features & target\n",
        "X = all_jobs_yrs_no_outliers_df.drop(columns=['avg_sal', 'log_avg_sal'])\n",
        "y = all_jobs_yrs_no_outliers_df['log_avg_sal']\n",
        "\n",
        "#split data into training & test sets\n",
        "X_train, X_test, y_train, y_test = train_test_split(X, y, test_size = 0.2, random_state = 43)\n",
        "\n",
        "#Use grid search to find best hyperparameters\n",
        "# defining parameter range \n",
        "param_grid = {'C': [0.001, 0.01, 0.1, 1, 10],\n",
        " 'gamma': [0.001, 0.01, 0.1, 1]\n",
        "} \n",
        "  \n",
        "log_all_jobs_yrs_no_outliers_svm_grid = GridSearchCV(svm.SVR(kernel='rbf'), param_grid)\n",
        "# fitting the model for grid search \n",
        "log_all_jobs_yrs_no_outliers_svm_grid.fit(X_train, y_train) \n",
        "# print best parameter after tuning \n",
        "print(log_all_jobs_yrs_no_outliers_svm_grid.best_params_) \n",
        "  \n",
        "# print how our model looks after hyper-parameter tuning \n",
        "print(log_all_jobs_yrs_no_outliers_svm_grid.best_estimator_)  "
      ],
      "execution_count": null,
      "outputs": [
        {
          "output_type": "stream",
          "text": [
            "{'C': 1, 'gamma': 0.01}\n",
            "SVR(C=1, cache_size=200, coef0=0.0, degree=3, epsilon=0.1, gamma=0.01,\n",
            "    kernel='rbf', max_iter=-1, shrinking=True, tol=0.001, verbose=False)\n"
          ],
          "name": "stdout"
        }
      ]
    },
    {
      "cell_type": "code",
      "metadata": {
        "id": "xbFB9WFoQ3cL",
        "colab": {
          "base_uri": "https://localhost:8080/"
        },
        "outputId": "0097d6c7-8818-44ae-c759-ebd34d20ddaa"
      },
      "source": [
        "#set model with ideal hyperparameters from above\n",
        "log_all_jobs_yrs_no_outliers_svm = log_all_jobs_yrs_no_outliers_svm_grid.best_estimator_\n",
        "\n",
        "log_all_jobs_yrs_no_outliers_svm.fit(X_train, y_train)\n",
        "\n",
        "#cross validate\n",
        "log_all_jobs_yrs_no_outliers_svm_scores = cross_val_score(log_all_jobs_yrs_no_outliers_svm, X_train, y_train, cv = 5)\n",
        "\n",
        "print('Accuracy Scores for the 5 folds: ', log_all_jobs_yrs_no_outliers_svm_scores)\n",
        "print('Mean Cross Validation Score: {:.33f}'.format(np.mean(log_all_jobs_yrs_no_outliers_svm_scores)))"
      ],
      "execution_count": null,
      "outputs": [
        {
          "output_type": "stream",
          "text": [
            "Accuracy Scores for the 5 folds:  [0.58503206 0.59337993 0.55119955 0.4839499  0.55672501]\n",
            "Mean Cross Validation Score: 0.554057288879394982394899216160411\n"
          ],
          "name": "stdout"
        }
      ]
    },
    {
      "cell_type": "code",
      "metadata": {
        "id": "3J7gHPVxQ3cL",
        "colab": {
          "base_uri": "https://localhost:8080/",
          "height": 108
        },
        "outputId": "eab451e4-2dcd-47e0-a6ca-8a34df35ca25"
      },
      "source": [
        "#generate predictions\n",
        "log_all_jobs_yrs_no_outliers_svm_preds = log_all_jobs_yrs_no_outliers_svm.predict(X_test)\n",
        "\n",
        "#more performance metrics\n",
        "log_all_jobs_yrs_no_outliers_svm_rsquared_train = log_all_jobs_yrs_no_outliers_svm.score(X_train, y_train)\n",
        "log_all_jobs_yrs_no_outliers_svm_rsquared_test = log_all_jobs_yrs_no_outliers_svm.score(X_test, y_test)\n",
        "log_all_jobs_yrs_no_outliers_svm_mae = mean_absolute_error(y_test, log_all_jobs_yrs_no_outliers_svm_preds)\n",
        "log_all_jobs_yrs_no_outliers_svm_mse = mse(y_test, log_all_jobs_yrs_no_outliers_svm_preds)\n",
        "log_all_jobs_yrs_no_outliers_svm_rmse = rmse(y_test, log_all_jobs_yrs_no_outliers_svm_preds)\n",
        "log_all_jobs_yrs_no_outliers_svm_mape = np.mean(np.abs((y_test - log_all_jobs_yrs_no_outliers_svm_preds)/y_test)*100)\n",
        "log_all_jobs_yrs_no_outliers_svm_rmspe = (np.sqrt(np.mean(np.square((y_test - log_all_jobs_yrs_no_outliers_svm_preds) / y_test)))) * 100\n",
        "log_all_jobs_yrs_no_outliers_svm_model_name = 'All Jobs Years of Experience w/o Outliers SVM Log(y)'\n",
        "\n",
        "#create easily readable display of performance metrics\n",
        "log_all_jobs_yrs_no_outliers_svm_dictionary = {'Model': log_all_jobs_yrs_no_outliers_svm_model_name,\n",
        "  'Training Set R Squared': log_all_jobs_yrs_no_outliers_svm_rsquared_train, \n",
        "  'Test Set R Squared': log_all_jobs_yrs_no_outliers_svm_rsquared_test, 'Mean Absolute Error': log_all_jobs_yrs_no_outliers_svm_mae, \n",
        "  'Mean Sqaured Error': log_all_jobs_yrs_no_outliers_svm_mse, 'Root Mean Squared Error': log_all_jobs_yrs_no_outliers_svm_rmse,\n",
        "  'Root Mean Squared Percentage Error': log_all_jobs_yrs_no_outliers_svm_rmspe,\n",
        "  'Mean Absolute Percentage Error': log_all_jobs_yrs_no_outliers_svm_mape}\n",
        "\n",
        "log_all_jobs_yrs_no_outliers_svm_df = pd.DataFrame(log_all_jobs_yrs_no_outliers_svm_dictionary, index=[0])\n",
        "\n",
        "log_all_jobs_yrs_no_outliers_svm_df"
      ],
      "execution_count": null,
      "outputs": [
        {
          "output_type": "execute_result",
          "data": {
            "text/html": [
              "<div>\n",
              "<style scoped>\n",
              "    .dataframe tbody tr th:only-of-type {\n",
              "        vertical-align: middle;\n",
              "    }\n",
              "\n",
              "    .dataframe tbody tr th {\n",
              "        vertical-align: top;\n",
              "    }\n",
              "\n",
              "    .dataframe thead th {\n",
              "        text-align: right;\n",
              "    }\n",
              "</style>\n",
              "<table border=\"1\" class=\"dataframe\">\n",
              "  <thead>\n",
              "    <tr style=\"text-align: right;\">\n",
              "      <th></th>\n",
              "      <th>Model</th>\n",
              "      <th>Training Set R Squared</th>\n",
              "      <th>Test Set R Squared</th>\n",
              "      <th>Mean Absolute Error</th>\n",
              "      <th>Mean Sqaured Error</th>\n",
              "      <th>Root Mean Squared Error</th>\n",
              "      <th>Root Mean Squared Percentage Error</th>\n",
              "      <th>Mean Absolute Percentage Error</th>\n",
              "    </tr>\n",
              "  </thead>\n",
              "  <tbody>\n",
              "    <tr>\n",
              "      <th>0</th>\n",
              "      <td>All Jobs Years of Experience w/o Outliers SVM ...</td>\n",
              "      <td>0.628277</td>\n",
              "      <td>0.542088</td>\n",
              "      <td>0.172536</td>\n",
              "      <td>0.050403</td>\n",
              "      <td>0.224505</td>\n",
              "      <td>1.986862</td>\n",
              "      <td>1.51806</td>\n",
              "    </tr>\n",
              "  </tbody>\n",
              "</table>\n",
              "</div>"
            ],
            "text/plain": [
              "                                               Model  ...  Mean Absolute Percentage Error\n",
              "0  All Jobs Years of Experience w/o Outliers SVM ...  ...                         1.51806\n",
              "\n",
              "[1 rows x 8 columns]"
            ]
          },
          "metadata": {
            "tags": []
          },
          "execution_count": 180
        }
      ]
    },
    {
      "cell_type": "markdown",
      "metadata": {
        "id": "WOQqx7DOZhPa"
      },
      "source": [
        "## **XGBoost**"
      ]
    },
    {
      "cell_type": "markdown",
      "metadata": {
        "id": "LpvBjUitZhPa"
      },
      "source": [
        "### **all_jobs_df**"
      ]
    },
    {
      "cell_type": "code",
      "metadata": {
        "id": "Yger6Y1SZhPa",
        "colab": {
          "base_uri": "https://localhost:8080/"
        },
        "outputId": "8fd8027c-ccea-4e03-dbb8-9ee69c13fe64"
      },
      "source": [
        "#set features & target\n",
        "X = all_jobs_df.drop(columns=['avg_sal', 'log_avg_sal'])\n",
        "y = all_jobs_df['avg_sal']\n",
        "\n",
        "#split data into training & test sets\n",
        "X_train, X_test, y_train, y_test = train_test_split(X, y, test_size = 0.2, random_state = 43)\n",
        "\n",
        "#Use grid search to find best hyperparameters\n",
        "# defining parameter range \n",
        "param_grid = {'nthread':[4], #when use hyperthread, xgboost may become slower\n",
        "              'objective':['reg:linear'],\n",
        "              'learning_rate': [.03, 0.05, .07], #so called `eta` value\n",
        "              'max_depth': [5, 6, 7],\n",
        "              'min_child_weight': [4],\n",
        "              'silent': [1],\n",
        "              'subsample': [0.7],\n",
        "              'colsample_bytree': [0.7],\n",
        "              'n_estimators': [500]}\n",
        "  \n",
        "all_jobs_xgb_grid = GridSearchCV(XGBRegressor(), param_grid,  cv = 5,\n",
        "                        n_jobs = 5, verbose=True)\n",
        "# fitting the model for grid search \n",
        "all_jobs_xgb_grid.fit(X_train, y_train) \n",
        "# print best parameter after tuning \n",
        "print(all_jobs_xgb_grid.best_params_) \n",
        "  \n",
        "# print how our model looks after hyper-parameter tuning \n",
        "print(all_jobs_xgb_grid.best_estimator_) "
      ],
      "execution_count": null,
      "outputs": [
        {
          "output_type": "stream",
          "text": [
            "Fitting 5 folds for each of 9 candidates, totalling 45 fits\n"
          ],
          "name": "stdout"
        },
        {
          "output_type": "stream",
          "text": [
            "[Parallel(n_jobs=5)]: Using backend LokyBackend with 5 concurrent workers.\n",
            "[Parallel(n_jobs=5)]: Done  45 out of  45 | elapsed:  4.2min finished\n"
          ],
          "name": "stderr"
        },
        {
          "output_type": "stream",
          "text": [
            "{'colsample_bytree': 0.7, 'learning_rate': 0.03, 'max_depth': 6, 'min_child_weight': 4, 'n_estimators': 500, 'nthread': 4, 'objective': 'reg:linear', 'silent': 1, 'subsample': 0.7}\n",
            "XGBRegressor(base_score=0.5, booster='gbtree', colsample_bylevel=1,\n",
            "             colsample_bynode=1, colsample_bytree=0.7, gamma=0,\n",
            "             importance_type='gain', learning_rate=0.03, max_delta_step=0,\n",
            "             max_depth=6, min_child_weight=4, missing=None, n_estimators=500,\n",
            "             n_jobs=1, nthread=4, objective='reg:linear', random_state=0,\n",
            "             reg_alpha=0, reg_lambda=1, scale_pos_weight=1, seed=None, silent=1,\n",
            "             subsample=0.7, verbosity=1)\n"
          ],
          "name": "stdout"
        }
      ]
    },
    {
      "cell_type": "code",
      "metadata": {
        "id": "a63bm8N2ZhPb",
        "colab": {
          "base_uri": "https://localhost:8080/"
        },
        "outputId": "bfcb1f44-3f42-4ebf-8082-f648d6580f8e"
      },
      "source": [
        "#set model with ideal hyperparameters from above\n",
        "all_jobs_xgb = all_jobs_xgb_grid.best_estimator_\n",
        "\n",
        "all_jobs_xgb.fit(X_train, y_train)\n",
        "\n",
        "#cross validate\n",
        "all_jobs_xgb_scores = cross_val_score(all_jobs_xgb, X_train, y_train, cv = 5)\n",
        "\n",
        "print('Accuracy Scores for the 5 folds: ', all_jobs_xgb_scores)\n",
        "print('Mean Cross Validation Score: {:.33f}'.format(np.mean(all_jobs_xgb_scores)))"
      ],
      "execution_count": null,
      "outputs": [
        {
          "output_type": "stream",
          "text": [
            "Accuracy Scores for the 5 folds:  [0.60719749 0.59597823 0.54207412 0.54463521 0.56331256]\n",
            "Mean Cross Validation Score: 0.570639519793300964423110599454958\n"
          ],
          "name": "stdout"
        }
      ]
    },
    {
      "cell_type": "code",
      "metadata": {
        "id": "bWrL72SvZhPb",
        "colab": {
          "base_uri": "https://localhost:8080/"
        },
        "outputId": "318729ea-6d2f-4e24-9072-49f0a351e8d8"
      },
      "source": [
        "#generate predictions\n",
        "all_jobs_xgb_preds = all_jobs_xgb.predict(X_test)\n",
        "\n",
        "#more performance metrics\n",
        "all_jobs_xgb_rsquared_train = all_jobs_xgb.score(X_train, y_train)\n",
        "all_jobs_xgb_rsquared_test = all_jobs_xgb.score(X_test, y_test)\n",
        "all_jobs_xgb_mae = mean_absolute_error(y_test, all_jobs_xgb_preds)\n",
        "all_jobs_xgb_mse = mse(y_test, all_jobs_xgb_preds)\n",
        "all_jobs_xgb_rmse = rmse(y_test, all_jobs_xgb_preds)\n",
        "all_jobs_xgb_mape = np.mean(np.abs((y_test - all_jobs_xgb_preds)/y_test)*100)\n",
        "all_jobs_xgb_rmspe = (np.sqrt(np.mean(np.square((y_test - all_jobs_xgb_preds) / y_test)))) * 100\n",
        "all_jobs_xgb_model_name = 'All Jobs XGBoost'\n",
        "\n",
        "#create easily readable display of performance metrics\n",
        "all_jobs_xgb_dictionary = {'Model': all_jobs_xgb_model_name,\n",
        "  'Training Set R Squared': all_jobs_xgb_rsquared_train, \n",
        "  'Test Set R Squared': all_jobs_xgb_rsquared_test, 'Mean Absolute Error': all_jobs_xgb_mae, \n",
        "  'Mean Sqaured Error': all_jobs_xgb_mse, 'Root Mean Squared Error': all_jobs_xgb_rmse,\n",
        "  'Root Mean Squared Percentage Error': all_jobs_xgb_rmspe,\n",
        "  'Mean Absolute Percentage Error': all_jobs_xgb_mape}\n",
        "\n",
        "all_jobs_xgb_df = pd.DataFrame(all_jobs_xgb_dictionary, index=[0])\n",
        "\n",
        "all_jobs_xgb_df"
      ],
      "execution_count": null,
      "outputs": [
        {
          "output_type": "execute_result",
          "data": {
            "text/html": [
              "<div>\n",
              "<style scoped>\n",
              "    .dataframe tbody tr th:only-of-type {\n",
              "        vertical-align: middle;\n",
              "    }\n",
              "\n",
              "    .dataframe tbody tr th {\n",
              "        vertical-align: top;\n",
              "    }\n",
              "\n",
              "    .dataframe thead th {\n",
              "        text-align: right;\n",
              "    }\n",
              "</style>\n",
              "<table border=\"1\" class=\"dataframe\">\n",
              "  <thead>\n",
              "    <tr style=\"text-align: right;\">\n",
              "      <th></th>\n",
              "      <th>Model</th>\n",
              "      <th>Training Set R Squared</th>\n",
              "      <th>Test Set R Squared</th>\n",
              "      <th>Mean Absolute Error</th>\n",
              "      <th>Mean Sqaured Error</th>\n",
              "      <th>Root Mean Squared Error</th>\n",
              "      <th>Root Mean Squared Percentage Error</th>\n",
              "      <th>Mean Absolute Percentage Error</th>\n",
              "    </tr>\n",
              "  </thead>\n",
              "  <tbody>\n",
              "    <tr>\n",
              "      <th>0</th>\n",
              "      <td>All Jobs XGBoost</td>\n",
              "      <td>0.805056</td>\n",
              "      <td>0.63402</td>\n",
              "      <td>15273.998087</td>\n",
              "      <td>4.445720e+08</td>\n",
              "      <td>21084.875184</td>\n",
              "      <td>23.751907</td>\n",
              "      <td>16.929184</td>\n",
              "    </tr>\n",
              "  </tbody>\n",
              "</table>\n",
              "</div>"
            ],
            "text/plain": [
              "              Model  ...  Mean Absolute Percentage Error\n",
              "0  All Jobs XGBoost  ...                       16.929184\n",
              "\n",
              "[1 rows x 8 columns]"
            ]
          },
          "metadata": {
            "tags": []
          },
          "execution_count": 183
        }
      ]
    },
    {
      "cell_type": "markdown",
      "metadata": {
        "id": "zG16wEawbIrx"
      },
      "source": [
        "### **all_jobs_yrs_df**"
      ]
    },
    {
      "cell_type": "code",
      "metadata": {
        "id": "CVvX3-OpbIrx",
        "colab": {
          "base_uri": "https://localhost:8080/"
        },
        "outputId": "edf8395b-2ce9-446b-9ba8-a4bad7ba0ed6"
      },
      "source": [
        "#set features & target\n",
        "X = all_jobs_yrs_df.drop(columns=['avg_sal', 'log_avg_sal'])\n",
        "y = all_jobs_yrs_df['avg_sal']\n",
        "\n",
        "#split data into training & test sets\n",
        "X_train, X_test, y_train, y_test = train_test_split(X, y, test_size = 0.2, random_state = 43)\n",
        "\n",
        "#Use grid search to find best hyperparameters\n",
        "# defining parameter range \n",
        "param_grid = {'nthread':[4], #when use hyperthread, xgboost may become slower\n",
        "              'objective':['reg:linear'],\n",
        "              'learning_rate': [.03, 0.05, .07], #so called `eta` value\n",
        "              'max_depth': [5, 6, 7],\n",
        "              'min_child_weight': [4],\n",
        "              'silent': [1],\n",
        "              'subsample': [0.7],\n",
        "              'colsample_bytree': [0.7],\n",
        "              'n_estimators': [500]}\n",
        "  \n",
        "all_jobs_yrs_xgb_grid = GridSearchCV(XGBRegressor(), param_grid,  cv = 5,\n",
        "                        n_jobs = 5, verbose=True)\n",
        "# fitting the model for grid search \n",
        "all_jobs_yrs_xgb_grid.fit(X_train, y_train) \n",
        "# print best parameter after tuning \n",
        "print(all_jobs_yrs_xgb_grid.best_params_) \n",
        "  \n",
        "# print how our model looks after hyper-parameter tuning \n",
        "print(all_jobs_yrs_xgb_grid.best_estimator_) "
      ],
      "execution_count": null,
      "outputs": [
        {
          "output_type": "stream",
          "text": [
            "Fitting 5 folds for each of 9 candidates, totalling 45 fits\n"
          ],
          "name": "stdout"
        },
        {
          "output_type": "stream",
          "text": [
            "[Parallel(n_jobs=5)]: Using backend LokyBackend with 5 concurrent workers.\n",
            "[Parallel(n_jobs=5)]: Done  45 out of  45 | elapsed:  3.5min finished\n"
          ],
          "name": "stderr"
        },
        {
          "output_type": "stream",
          "text": [
            "{'colsample_bytree': 0.7, 'learning_rate': 0.03, 'max_depth': 6, 'min_child_weight': 4, 'n_estimators': 500, 'nthread': 4, 'objective': 'reg:linear', 'silent': 1, 'subsample': 0.7}\n",
            "XGBRegressor(base_score=0.5, booster='gbtree', colsample_bylevel=1,\n",
            "             colsample_bynode=1, colsample_bytree=0.7, gamma=0,\n",
            "             importance_type='gain', learning_rate=0.03, max_delta_step=0,\n",
            "             max_depth=6, min_child_weight=4, missing=None, n_estimators=500,\n",
            "             n_jobs=1, nthread=4, objective='reg:linear', random_state=0,\n",
            "             reg_alpha=0, reg_lambda=1, scale_pos_weight=1, seed=None, silent=1,\n",
            "             subsample=0.7, verbosity=1)\n"
          ],
          "name": "stdout"
        }
      ]
    },
    {
      "cell_type": "code",
      "metadata": {
        "id": "Y6ubewDObIry",
        "colab": {
          "base_uri": "https://localhost:8080/"
        },
        "outputId": "6dbf194b-742e-4b99-dde2-1e6e62fea542"
      },
      "source": [
        "#set model with ideal hyperparameters from above\n",
        "all_jobs_yrs_xgb = all_jobs_yrs_xgb_grid.best_estimator_\n",
        "\n",
        "all_jobs_yrs_xgb.fit(X_train, y_train)\n",
        "\n",
        "#cross validate\n",
        "all_jobs_yrs_xgb_scores = cross_val_score(all_jobs_yrs_xgb, X_train, y_train, cv = 5)\n",
        "\n",
        "print('Accuracy Scores for the 5 folds: ', all_jobs_yrs_xgb_scores)\n",
        "print('Mean Cross Validation Score: {:.33f}'.format(np.mean(all_jobs_yrs_xgb_scores)))"
      ],
      "execution_count": null,
      "outputs": [
        {
          "output_type": "stream",
          "text": [
            "Accuracy Scores for the 5 folds:  [0.55983829 0.57511769 0.61973238 0.53920144 0.60796461]\n",
            "Mean Cross Validation Score: 0.580370881829168405730001722986344\n"
          ],
          "name": "stdout"
        }
      ]
    },
    {
      "cell_type": "code",
      "metadata": {
        "id": "u63sE-mcbIry",
        "colab": {
          "base_uri": "https://localhost:8080/",
          "height": 108
        },
        "outputId": "7bb023a7-d7e4-434b-9bd1-4bda0fb22ad6"
      },
      "source": [
        "#generate predictions\n",
        "all_jobs_yrs_xgb_preds = all_jobs_yrs_xgb.predict(X_test)\n",
        "\n",
        "#more performance metrics\n",
        "all_jobs_yrs_xgb_rsquared_train = all_jobs_yrs_xgb.score(X_train, y_train)\n",
        "all_jobs_yrs_xgb_rsquared_test = all_jobs_yrs_xgb.score(X_test, y_test)\n",
        "all_jobs_yrs_xgb_mae = mean_absolute_error(y_test, all_jobs_yrs_xgb_preds)\n",
        "all_jobs_yrs_xgb_mse = mse(y_test, all_jobs_yrs_xgb_preds)\n",
        "all_jobs_yrs_xgb_rmse = rmse(y_test, all_jobs_yrs_xgb_preds)\n",
        "all_jobs_yrs_xgb_mape = np.mean(np.abs((y_test - all_jobs_yrs_xgb_preds)/y_test)*100)\n",
        "all_jobs_yrs_xgb_rmspe = (np.sqrt(np.mean(np.square((y_test - all_jobs_yrs_xgb_preds) / y_test)))) * 100\n",
        "all_jobs_yrs_xgb_model_name = 'All Jobs Years of Experience XGBoost'\n",
        "\n",
        "#create easily readable display of performance metrics\n",
        "all_jobs_yrs_xgb_dictionary = {'Model': all_jobs_yrs_xgb_model_name,\n",
        "  'Training Set R Squared': all_jobs_yrs_xgb_rsquared_train, \n",
        "  'Test Set R Squared': all_jobs_yrs_xgb_rsquared_test, 'Mean Absolute Error': all_jobs_yrs_xgb_mae, \n",
        "  'Mean Sqaured Error': all_jobs_yrs_xgb_mse, 'Root Mean Squared Error': all_jobs_yrs_xgb_rmse,\n",
        "  'Root Mean Squared Percentage Error': all_jobs_yrs_xgb_rmspe,\n",
        "  'Mean Absolute Percentage Error': all_jobs_yrs_xgb_mape}\n",
        "\n",
        "all_jobs_yrs_xgb_df = pd.DataFrame(all_jobs_yrs_xgb_dictionary, index=[0])\n",
        "\n",
        "all_jobs_yrs_xgb_df"
      ],
      "execution_count": null,
      "outputs": [
        {
          "output_type": "execute_result",
          "data": {
            "text/html": [
              "<div>\n",
              "<style scoped>\n",
              "    .dataframe tbody tr th:only-of-type {\n",
              "        vertical-align: middle;\n",
              "    }\n",
              "\n",
              "    .dataframe tbody tr th {\n",
              "        vertical-align: top;\n",
              "    }\n",
              "\n",
              "    .dataframe thead th {\n",
              "        text-align: right;\n",
              "    }\n",
              "</style>\n",
              "<table border=\"1\" class=\"dataframe\">\n",
              "  <thead>\n",
              "    <tr style=\"text-align: right;\">\n",
              "      <th></th>\n",
              "      <th>Model</th>\n",
              "      <th>Training Set R Squared</th>\n",
              "      <th>Test Set R Squared</th>\n",
              "      <th>Mean Absolute Error</th>\n",
              "      <th>Mean Sqaured Error</th>\n",
              "      <th>Root Mean Squared Error</th>\n",
              "      <th>Root Mean Squared Percentage Error</th>\n",
              "      <th>Mean Absolute Percentage Error</th>\n",
              "    </tr>\n",
              "  </thead>\n",
              "  <tbody>\n",
              "    <tr>\n",
              "      <th>0</th>\n",
              "      <td>All Jobs Years of Experience XGBoost</td>\n",
              "      <td>0.820537</td>\n",
              "      <td>0.603017</td>\n",
              "      <td>15440.451986</td>\n",
              "      <td>4.751832e+08</td>\n",
              "      <td>21798.698351</td>\n",
              "      <td>25.455828</td>\n",
              "      <td>17.716823</td>\n",
              "    </tr>\n",
              "  </tbody>\n",
              "</table>\n",
              "</div>"
            ],
            "text/plain": [
              "                                  Model  ...  Mean Absolute Percentage Error\n",
              "0  All Jobs Years of Experience XGBoost  ...                       17.716823\n",
              "\n",
              "[1 rows x 8 columns]"
            ]
          },
          "metadata": {
            "tags": []
          },
          "execution_count": 186
        }
      ]
    },
    {
      "cell_type": "markdown",
      "metadata": {
        "id": "4nW2P0fawB5N"
      },
      "source": [
        "### **all_jobs_df log(y)**"
      ]
    },
    {
      "cell_type": "code",
      "metadata": {
        "id": "E1IxBCJ6wB5O",
        "colab": {
          "base_uri": "https://localhost:8080/"
        },
        "outputId": "b938968e-050b-4c18-ad51-0ee214dc53d9"
      },
      "source": [
        "#set features & target\n",
        "X = all_jobs_df.drop(columns=['avg_sal', 'log_avg_sal'])\n",
        "y = all_jobs_df['log_avg_sal']\n",
        "\n",
        "#split data into training & test sets\n",
        "X_train, X_test, y_train, y_test = train_test_split(X, y, test_size = 0.2, random_state = 43)\n",
        "\n",
        "#Use grid search to find best hyperparameters\n",
        "# defining parameter range \n",
        "param_grid = {'nthread':[4], #when use hyperthread, xgboost may become slower\n",
        "              'objective':['reg:linear'],\n",
        "              'learning_rate': [.03, 0.05, .07], #so called `eta` value\n",
        "              'max_depth': [5, 6, 7],\n",
        "              'min_child_weight': [4],\n",
        "              'silent': [1],\n",
        "              'subsample': [0.7],\n",
        "              'colsample_bytree': [0.7],\n",
        "              'n_estimators': [500]}\n",
        "  \n",
        "log_all_jobs_xgb_grid = GridSearchCV(XGBRegressor(), param_grid,  cv = 5,\n",
        "                        n_jobs = 5, verbose=True)\n",
        "# fitting the model for grid search \n",
        "log_all_jobs_xgb_grid.fit(X_train, y_train) \n",
        "# print best parameter after tuning \n",
        "print(log_all_jobs_xgb_grid.best_params_) \n",
        "  \n",
        "# print how our model looks after hyper-parameter tuning \n",
        "print(log_all_jobs_xgb_grid.best_estimator_) "
      ],
      "execution_count": null,
      "outputs": [
        {
          "output_type": "stream",
          "text": [
            "Fitting 5 folds for each of 9 candidates, totalling 45 fits\n"
          ],
          "name": "stdout"
        },
        {
          "output_type": "stream",
          "text": [
            "[Parallel(n_jobs=5)]: Using backend LokyBackend with 5 concurrent workers.\n",
            "[Parallel(n_jobs=5)]: Done  45 out of  45 | elapsed:  3.9min finished\n"
          ],
          "name": "stderr"
        },
        {
          "output_type": "stream",
          "text": [
            "{'colsample_bytree': 0.7, 'learning_rate': 0.03, 'max_depth': 7, 'min_child_weight': 4, 'n_estimators': 500, 'nthread': 4, 'objective': 'reg:linear', 'silent': 1, 'subsample': 0.7}\n",
            "XGBRegressor(base_score=0.5, booster='gbtree', colsample_bylevel=1,\n",
            "             colsample_bynode=1, colsample_bytree=0.7, gamma=0,\n",
            "             importance_type='gain', learning_rate=0.03, max_delta_step=0,\n",
            "             max_depth=7, min_child_weight=4, missing=None, n_estimators=500,\n",
            "             n_jobs=1, nthread=4, objective='reg:linear', random_state=0,\n",
            "             reg_alpha=0, reg_lambda=1, scale_pos_weight=1, seed=None, silent=1,\n",
            "             subsample=0.7, verbosity=1)\n"
          ],
          "name": "stdout"
        }
      ]
    },
    {
      "cell_type": "code",
      "metadata": {
        "id": "_lcUXb9MwB5P",
        "colab": {
          "base_uri": "https://localhost:8080/"
        },
        "outputId": "2403d3e6-56f7-4674-a1c1-728ae4b5aa26"
      },
      "source": [
        "#set model with ideal hyperparameters from above\n",
        "log_all_jobs_xgb = log_all_jobs_xgb_grid.best_estimator_\n",
        "\n",
        "log_all_jobs_xgb.fit(X_train, y_train)\n",
        "\n",
        "#cross validate\n",
        "log_all_jobs_xgb_scores = cross_val_score(log_all_jobs_xgb, X_train, y_train, cv = 5)\n",
        "\n",
        "print('Accuracy Scores for the 5 folds: ', log_all_jobs_xgb_scores)\n",
        "print('Mean Cross Validation Score: {:.33f}'.format(np.mean(log_all_jobs_xgb_scores)))"
      ],
      "execution_count": null,
      "outputs": [
        {
          "output_type": "stream",
          "text": [
            "Accuracy Scores for the 5 folds:  [0.6180997  0.60187818 0.58371694 0.6015337  0.57938109]\n",
            "Mean Cross Validation Score: 0.596921921620468309832574504980585\n"
          ],
          "name": "stdout"
        }
      ]
    },
    {
      "cell_type": "code",
      "metadata": {
        "id": "15mMtz4wwB5Q",
        "colab": {
          "base_uri": "https://localhost:8080/",
          "height": 108
        },
        "outputId": "1cc5b8dc-ef36-4b04-ce30-9d2347a35068"
      },
      "source": [
        "#generate predictions\n",
        "log_all_jobs_xgb_preds = log_all_jobs_xgb.predict(X_test)\n",
        "\n",
        "#more performance metrics\n",
        "log_all_jobs_xgb_rsquared_train = log_all_jobs_xgb.score(X_train, y_train)\n",
        "log_all_jobs_xgb_rsquared_test = log_all_jobs_xgb.score(X_test, y_test)\n",
        "log_all_jobs_xgb_mae = mean_absolute_error(y_test, log_all_jobs_xgb_preds)\n",
        "log_all_jobs_xgb_mse = mse(y_test, log_all_jobs_xgb_preds)\n",
        "log_all_jobs_xgb_rmse = rmse(y_test, log_all_jobs_xgb_preds)\n",
        "log_all_jobs_xgb_mape = np.mean(np.abs((y_test - log_all_jobs_xgb_preds)/y_test)*100)\n",
        "log_all_jobs_xgb_rmspe = (np.sqrt(np.mean(np.square((y_test - log_all_jobs_xgb_preds) / y_test)))) * 100\n",
        "log_all_jobs_xgb_model_name = 'All Jobs XGBoost Log(y)'\n",
        "\n",
        "#create easily readable display of performance metrics\n",
        "log_all_jobs_xgb_dictionary = {'Model': log_all_jobs_xgb_model_name,\n",
        "  'Training Set R Squared': log_all_jobs_xgb_rsquared_train, \n",
        "  'Test Set R Squared': log_all_jobs_xgb_rsquared_test, 'Mean Absolute Error': log_all_jobs_xgb_mae, \n",
        "  'Mean Sqaured Error': log_all_jobs_xgb_mse, 'Root Mean Squared Error': log_all_jobs_xgb_rmse,\n",
        "  'Root Mean Squared Percentage Error': log_all_jobs_xgb_rmspe,\n",
        "  'Mean Absolute Percentage Error': log_all_jobs_xgb_mape}\n",
        "\n",
        "log_all_jobs_xgb_df = pd.DataFrame(log_all_jobs_xgb_dictionary, index=[0])\n",
        "\n",
        "log_all_jobs_xgb_df"
      ],
      "execution_count": null,
      "outputs": [
        {
          "output_type": "execute_result",
          "data": {
            "text/html": [
              "<div>\n",
              "<style scoped>\n",
              "    .dataframe tbody tr th:only-of-type {\n",
              "        vertical-align: middle;\n",
              "    }\n",
              "\n",
              "    .dataframe tbody tr th {\n",
              "        vertical-align: top;\n",
              "    }\n",
              "\n",
              "    .dataframe thead th {\n",
              "        text-align: right;\n",
              "    }\n",
              "</style>\n",
              "<table border=\"1\" class=\"dataframe\">\n",
              "  <thead>\n",
              "    <tr style=\"text-align: right;\">\n",
              "      <th></th>\n",
              "      <th>Model</th>\n",
              "      <th>Training Set R Squared</th>\n",
              "      <th>Test Set R Squared</th>\n",
              "      <th>Mean Absolute Error</th>\n",
              "      <th>Mean Sqaured Error</th>\n",
              "      <th>Root Mean Squared Error</th>\n",
              "      <th>Root Mean Squared Percentage Error</th>\n",
              "      <th>Mean Absolute Percentage Error</th>\n",
              "    </tr>\n",
              "  </thead>\n",
              "  <tbody>\n",
              "    <tr>\n",
              "      <th>0</th>\n",
              "      <td>All Jobs XGBoost Log(y)</td>\n",
              "      <td>0.819515</td>\n",
              "      <td>0.636602</td>\n",
              "      <td>0.161678</td>\n",
              "      <td>0.046782</td>\n",
              "      <td>0.216291</td>\n",
              "      <td>1.900175</td>\n",
              "      <td>1.418927</td>\n",
              "    </tr>\n",
              "  </tbody>\n",
              "</table>\n",
              "</div>"
            ],
            "text/plain": [
              "                     Model  ...  Mean Absolute Percentage Error\n",
              "0  All Jobs XGBoost Log(y)  ...                        1.418927\n",
              "\n",
              "[1 rows x 8 columns]"
            ]
          },
          "metadata": {
            "tags": []
          },
          "execution_count": 189
        }
      ]
    },
    {
      "cell_type": "markdown",
      "metadata": {
        "id": "qGb5wzJAwB5Q"
      },
      "source": [
        "### **all_jobs_yrs_df log(y)**"
      ]
    },
    {
      "cell_type": "code",
      "metadata": {
        "id": "Tfdlq21NwB5R",
        "colab": {
          "base_uri": "https://localhost:8080/"
        },
        "outputId": "5c64a62e-1813-4658-8d99-475e93121f7b"
      },
      "source": [
        "#set features & target\n",
        "X = all_jobs_yrs_df.drop(columns=['avg_sal', 'log_avg_sal'])\n",
        "y = all_jobs_yrs_df['log_avg_sal']\n",
        "\n",
        "#split data into training & test sets\n",
        "X_train, X_test, y_train, y_test = train_test_split(X, y, test_size = 0.2, random_state = 43)\n",
        "\n",
        "#Use grid search to find best hyperparameters\n",
        "# defining parameter range \n",
        "param_grid = {'nthread':[4], #when use hyperthread, xgboost may become slower\n",
        "              'objective':['reg:linear'],\n",
        "              'learning_rate': [.03, 0.05, .07], #so called `eta` value\n",
        "              'max_depth': [5, 6, 7],\n",
        "              'min_child_weight': [4],\n",
        "              'silent': [1],\n",
        "              'subsample': [0.7],\n",
        "              'colsample_bytree': [0.7],\n",
        "              'n_estimators': [500]}\n",
        "  \n",
        "log_all_jobs_yrs_xgb_grid = GridSearchCV(XGBRegressor(), param_grid,  cv = 5,\n",
        "                        n_jobs = 5, verbose=True)\n",
        "# fitting the model for grid search \n",
        "log_all_jobs_yrs_xgb_grid.fit(X_train, y_train) \n",
        "# print best parameter after tuning \n",
        "print(log_all_jobs_yrs_xgb_grid.best_params_) \n",
        "  \n",
        "# print how our model looks after hyper-parameter tuning \n",
        "print(log_all_jobs_yrs_xgb_grid.best_estimator_) "
      ],
      "execution_count": null,
      "outputs": [
        {
          "output_type": "stream",
          "text": [
            "Fitting 5 folds for each of 9 candidates, totalling 45 fits\n"
          ],
          "name": "stdout"
        },
        {
          "output_type": "stream",
          "text": [
            "[Parallel(n_jobs=5)]: Using backend LokyBackend with 5 concurrent workers.\n",
            "[Parallel(n_jobs=5)]: Done  45 out of  45 | elapsed:  3.3min finished\n"
          ],
          "name": "stderr"
        },
        {
          "output_type": "stream",
          "text": [
            "{'colsample_bytree': 0.7, 'learning_rate': 0.03, 'max_depth': 7, 'min_child_weight': 4, 'n_estimators': 500, 'nthread': 4, 'objective': 'reg:linear', 'silent': 1, 'subsample': 0.7}\n",
            "XGBRegressor(base_score=0.5, booster='gbtree', colsample_bylevel=1,\n",
            "             colsample_bynode=1, colsample_bytree=0.7, gamma=0,\n",
            "             importance_type='gain', learning_rate=0.03, max_delta_step=0,\n",
            "             max_depth=7, min_child_weight=4, missing=None, n_estimators=500,\n",
            "             n_jobs=1, nthread=4, objective='reg:linear', random_state=0,\n",
            "             reg_alpha=0, reg_lambda=1, scale_pos_weight=1, seed=None, silent=1,\n",
            "             subsample=0.7, verbosity=1)\n"
          ],
          "name": "stdout"
        }
      ]
    },
    {
      "cell_type": "code",
      "metadata": {
        "id": "KHmWdIEZwB5R",
        "colab": {
          "base_uri": "https://localhost:8080/"
        },
        "outputId": "6c3c6b64-2210-4d6d-c3dd-847fbe42bfbe"
      },
      "source": [
        "#set model with ideal hyperparameters from above\n",
        "log_all_jobs_yrs_xgb = log_all_jobs_yrs_xgb_grid.best_estimator_\n",
        "\n",
        "log_all_jobs_yrs_xgb.fit(X_train, y_train)\n",
        "\n",
        "#cross validate\n",
        "log_all_jobs_yrs_xgb_scores = cross_val_score(log_all_jobs_yrs_xgb, X_train, y_train, cv = 5)\n",
        "\n",
        "print('Accuracy Scores for the 5 folds: ', log_all_jobs_yrs_xgb_scores)\n",
        "print('Mean Cross Validation Score: {:.33f}'.format(np.mean(log_all_jobs_yrs_xgb_scores)))"
      ],
      "execution_count": null,
      "outputs": [
        {
          "output_type": "stream",
          "text": [
            "Accuracy Scores for the 5 folds:  [0.5989416  0.60580007 0.61849181 0.56765283 0.61068413]\n",
            "Mean Cross Validation Score: 0.600314086281797387734116000501672\n"
          ],
          "name": "stdout"
        }
      ]
    },
    {
      "cell_type": "code",
      "metadata": {
        "id": "KKvO4TDPwB5R",
        "colab": {
          "base_uri": "https://localhost:8080/"
        },
        "outputId": "7546c46f-c6ad-4824-be04-b06ae2642ec0"
      },
      "source": [
        "#generate predictions\n",
        "log_all_jobs_yrs_xgb_preds = log_all_jobs_yrs_xgb.predict(X_test)\n",
        "\n",
        "#more performance metrics\n",
        "log_all_jobs_yrs_xgb_rsquared_train = log_all_jobs_yrs_xgb.score(X_train, y_train)\n",
        "log_all_jobs_yrs_xgb_rsquared_test = log_all_jobs_yrs_xgb.score(X_test, y_test)\n",
        "log_all_jobs_yrs_xgb_mae = mean_absolute_error(y_test, log_all_jobs_yrs_xgb_preds)\n",
        "log_all_jobs_yrs_xgb_mse = mse(y_test, log_all_jobs_yrs_xgb_preds)\n",
        "log_all_jobs_yrs_xgb_rmse = rmse(y_test, log_all_jobs_yrs_xgb_preds)\n",
        "log_all_jobs_yrs_xgb_mape = np.mean(np.abs((y_test - log_all_jobs_yrs_xgb_preds)/y_test)*100)\n",
        "log_all_jobs_yrs_xgb_rmspe = (np.sqrt(np.mean(np.square((y_test - log_all_jobs_yrs_xgb_preds) / y_test)))) * 100\n",
        "log_all_jobs_yrs_xgb_model_name = 'All Jobs Years of Experience XGBoost Log(y)'\n",
        "\n",
        "#create easily readable display of performance metrics\n",
        "log_all_jobs_yrs_xgb_dictionary = {'Model': log_all_jobs_yrs_xgb_model_name,\n",
        "  'Training Set R Squared': log_all_jobs_yrs_xgb_rsquared_train, \n",
        "  'Test Set R Squared': log_all_jobs_yrs_xgb_rsquared_test, 'Mean Absolute Error': log_all_jobs_yrs_xgb_mae, \n",
        "  'Mean Sqaured Error': log_all_jobs_yrs_xgb_mse, 'Root Mean Squared Error': log_all_jobs_yrs_xgb_rmse,\n",
        "  'Root Mean Squared Percentage Error': log_all_jobs_yrs_xgb_rmspe,\n",
        "  'Mean Absolute Percentage Error': log_all_jobs_yrs_xgb_mape}\n",
        "\n",
        "log_all_jobs_yrs_xgb_df = pd.DataFrame(log_all_jobs_yrs_xgb_dictionary, index=[0])\n",
        "\n",
        "log_all_jobs_yrs_xgb_df"
      ],
      "execution_count": null,
      "outputs": [
        {
          "output_type": "execute_result",
          "data": {
            "text/html": [
              "<div>\n",
              "<style scoped>\n",
              "    .dataframe tbody tr th:only-of-type {\n",
              "        vertical-align: middle;\n",
              "    }\n",
              "\n",
              "    .dataframe tbody tr th {\n",
              "        vertical-align: top;\n",
              "    }\n",
              "\n",
              "    .dataframe thead th {\n",
              "        text-align: right;\n",
              "    }\n",
              "</style>\n",
              "<table border=\"1\" class=\"dataframe\">\n",
              "  <thead>\n",
              "    <tr style=\"text-align: right;\">\n",
              "      <th></th>\n",
              "      <th>Model</th>\n",
              "      <th>Training Set R Squared</th>\n",
              "      <th>Test Set R Squared</th>\n",
              "      <th>Mean Absolute Error</th>\n",
              "      <th>Mean Sqaured Error</th>\n",
              "      <th>Root Mean Squared Error</th>\n",
              "      <th>Root Mean Squared Percentage Error</th>\n",
              "      <th>Mean Absolute Percentage Error</th>\n",
              "    </tr>\n",
              "  </thead>\n",
              "  <tbody>\n",
              "    <tr>\n",
              "      <th>0</th>\n",
              "      <td>All Jobs Years of Experience XGBoost Log(y)</td>\n",
              "      <td>0.830368</td>\n",
              "      <td>0.638861</td>\n",
              "      <td>0.16062</td>\n",
              "      <td>0.047165</td>\n",
              "      <td>0.217176</td>\n",
              "      <td>1.920353</td>\n",
              "      <td>1.415401</td>\n",
              "    </tr>\n",
              "  </tbody>\n",
              "</table>\n",
              "</div>"
            ],
            "text/plain": [
              "                                         Model  ...  Mean Absolute Percentage Error\n",
              "0  All Jobs Years of Experience XGBoost Log(y)  ...                        1.415401\n",
              "\n",
              "[1 rows x 8 columns]"
            ]
          },
          "metadata": {
            "tags": []
          },
          "execution_count": 192
        }
      ]
    },
    {
      "cell_type": "markdown",
      "metadata": {
        "id": "Dj2EWrHaHbHe"
      },
      "source": [
        "### **all_jobs_no_outliers_df**"
      ]
    },
    {
      "cell_type": "code",
      "metadata": {
        "id": "ksMklrlUHbHf",
        "colab": {
          "base_uri": "https://localhost:8080/"
        },
        "outputId": "1ab75f69-8a5a-4ef7-ebdc-930b37c9e021"
      },
      "source": [
        "#set features & target\n",
        "X = all_jobs_no_outliers_df.drop(columns=['avg_sal', 'log_avg_sal'])\n",
        "y = all_jobs_no_outliers_df['avg_sal']\n",
        "\n",
        "#split data into training & test sets\n",
        "X_train, X_test, y_train, y_test = train_test_split(X, y, test_size = 0.2, random_state = 43)\n",
        "\n",
        "#Use grid search to find best hyperparameters\n",
        "# defining parameter range \n",
        "param_grid = {'nthread':[4], #when use hyperthread, xgboost may become slower\n",
        "              'objective':['reg:linear'],\n",
        "              'learning_rate': [.03, 0.05, .07], #so called `eta` value\n",
        "              'max_depth': [5, 6, 7],\n",
        "              'min_child_weight': [4],\n",
        "              'silent': [1],\n",
        "              'subsample': [0.7],\n",
        "              'colsample_bytree': [0.7],\n",
        "              'n_estimators': [500]}\n",
        "  \n",
        "all_jobs_no_outliers_xgb_grid = GridSearchCV(XGBRegressor(), param_grid,  cv = 5,\n",
        "                        n_jobs = 5, verbose=True)\n",
        "# fitting the model for grid search \n",
        "all_jobs_no_outliers_xgb_grid.fit(X_train, y_train) \n",
        "# print best parameter after tuning \n",
        "print(all_jobs_no_outliers_xgb_grid.best_params_) \n",
        "  \n",
        "# print how our model looks after hyper-parameter tuning \n",
        "print(all_jobs_no_outliers_xgb_grid.best_estimator_) "
      ],
      "execution_count": null,
      "outputs": [
        {
          "output_type": "stream",
          "text": [
            "Fitting 5 folds for each of 9 candidates, totalling 45 fits\n"
          ],
          "name": "stdout"
        },
        {
          "output_type": "stream",
          "text": [
            "[Parallel(n_jobs=5)]: Using backend LokyBackend with 5 concurrent workers.\n",
            "[Parallel(n_jobs=5)]: Done  45 out of  45 | elapsed:  4.1min finished\n"
          ],
          "name": "stderr"
        },
        {
          "output_type": "stream",
          "text": [
            "{'colsample_bytree': 0.7, 'learning_rate': 0.03, 'max_depth': 7, 'min_child_weight': 4, 'n_estimators': 500, 'nthread': 4, 'objective': 'reg:linear', 'silent': 1, 'subsample': 0.7}\n",
            "XGBRegressor(base_score=0.5, booster='gbtree', colsample_bylevel=1,\n",
            "             colsample_bynode=1, colsample_bytree=0.7, gamma=0,\n",
            "             importance_type='gain', learning_rate=0.03, max_delta_step=0,\n",
            "             max_depth=7, min_child_weight=4, missing=None, n_estimators=500,\n",
            "             n_jobs=1, nthread=4, objective='reg:linear', random_state=0,\n",
            "             reg_alpha=0, reg_lambda=1, scale_pos_weight=1, seed=None, silent=1,\n",
            "             subsample=0.7, verbosity=1)\n"
          ],
          "name": "stdout"
        }
      ]
    },
    {
      "cell_type": "code",
      "metadata": {
        "id": "pE2jIJQEHbHg",
        "colab": {
          "base_uri": "https://localhost:8080/"
        },
        "outputId": "b7345ee2-a59b-4f25-94ec-604e9212027e"
      },
      "source": [
        "#set model with ideal hyperparameters from above\n",
        "all_jobs_no_outliers_xgb = all_jobs_no_outliers_xgb_grid.best_estimator_\n",
        "\n",
        "all_jobs_no_outliers_xgb.fit(X_train, y_train)\n",
        "\n",
        "#cross validate\n",
        "all_jobs_no_outliers_xgb_scores = cross_val_score(all_jobs_no_outliers_xgb, X_train, y_train, cv = 5)\n",
        "\n",
        "print('Accuracy Scores for the 5 folds: ', all_jobs_no_outliers_xgb_scores)\n",
        "print('Mean Cross Validation Score: {:.33f}'.format(np.mean(all_jobs_no_outliers_xgb_scores)))"
      ],
      "execution_count": null,
      "outputs": [
        {
          "output_type": "stream",
          "text": [
            "Accuracy Scores for the 5 folds:  [0.62671054 0.60876604 0.63498958 0.57458576 0.60205106]\n",
            "Mean Cross Validation Score: 0.609420597125137852856369136134163\n"
          ],
          "name": "stdout"
        }
      ]
    },
    {
      "cell_type": "code",
      "metadata": {
        "id": "ZLQMDBiTHbHg",
        "colab": {
          "base_uri": "https://localhost:8080/",
          "height": 108
        },
        "outputId": "46ad7e86-22cd-46a3-fa26-5868dc3d0575"
      },
      "source": [
        "#generate predictions\n",
        "all_jobs_no_outliers_xgb_preds = all_jobs_no_outliers_xgb.predict(X_test)\n",
        "\n",
        "#more performance metrics\n",
        "all_jobs_no_outliers_xgb_rsquared_train = all_jobs_no_outliers_xgb.score(X_train, y_train)\n",
        "all_jobs_no_outliers_xgb_rsquared_test = all_jobs_no_outliers_xgb.score(X_test, y_test)\n",
        "all_jobs_no_outliers_xgb_mae = mean_absolute_error(y_test, all_jobs_no_outliers_xgb_preds)\n",
        "all_jobs_no_outliers_xgb_mse = mse(y_test, all_jobs_no_outliers_xgb_preds)\n",
        "all_jobs_no_outliers_xgb_rmse = rmse(y_test, all_jobs_no_outliers_xgb_preds)\n",
        "all_jobs_no_outliers_xgb_mape = np.mean(np.abs((y_test - all_jobs_no_outliers_xgb_preds)/y_test)*100)\n",
        "all_jobs_no_outliers_xgb_rmspe = (np.sqrt(np.mean(np.square((y_test - all_jobs_no_outliers_xgb_preds) / y_test)))) * 100\n",
        "all_jobs_no_outliers_xgb_model_name = 'All Jobs w/o Outliers XGBoost'\n",
        "\n",
        "#create easily readable display of performance metrics\n",
        "all_jobs_no_outliers_xgb_dictionary = {'Model': all_jobs_no_outliers_xgb_model_name,\n",
        "  'Training Set R Squared': all_jobs_no_outliers_xgb_rsquared_train, \n",
        "  'Test Set R Squared': all_jobs_no_outliers_xgb_rsquared_test, 'Mean Absolute Error': all_jobs_no_outliers_xgb_mae, \n",
        "  'Mean Sqaured Error': all_jobs_no_outliers_xgb_mse, 'Root Mean Squared Error': all_jobs_no_outliers_xgb_rmse,\n",
        "  'Root Mean Squared Percentage Error': all_jobs_no_outliers_xgb_rmspe,\n",
        "  'Mean Absolute Percentage Error': all_jobs_no_outliers_xgb_mape}\n",
        "\n",
        "all_jobs_no_outliers_xgb_df = pd.DataFrame(all_jobs_no_outliers_xgb_dictionary, index=[0])\n",
        "\n",
        "all_jobs_no_outliers_xgb_df"
      ],
      "execution_count": null,
      "outputs": [
        {
          "output_type": "execute_result",
          "data": {
            "text/html": [
              "<div>\n",
              "<style scoped>\n",
              "    .dataframe tbody tr th:only-of-type {\n",
              "        vertical-align: middle;\n",
              "    }\n",
              "\n",
              "    .dataframe tbody tr th {\n",
              "        vertical-align: top;\n",
              "    }\n",
              "\n",
              "    .dataframe thead th {\n",
              "        text-align: right;\n",
              "    }\n",
              "</style>\n",
              "<table border=\"1\" class=\"dataframe\">\n",
              "  <thead>\n",
              "    <tr style=\"text-align: right;\">\n",
              "      <th></th>\n",
              "      <th>Model</th>\n",
              "      <th>Training Set R Squared</th>\n",
              "      <th>Test Set R Squared</th>\n",
              "      <th>Mean Absolute Error</th>\n",
              "      <th>Mean Sqaured Error</th>\n",
              "      <th>Root Mean Squared Error</th>\n",
              "      <th>Root Mean Squared Percentage Error</th>\n",
              "      <th>Mean Absolute Percentage Error</th>\n",
              "    </tr>\n",
              "  </thead>\n",
              "  <tbody>\n",
              "    <tr>\n",
              "      <th>0</th>\n",
              "      <td>All Jobs w/o Outliers XGBoost</td>\n",
              "      <td>0.854848</td>\n",
              "      <td>0.625731</td>\n",
              "      <td>14636.905363</td>\n",
              "      <td>3.858726e+08</td>\n",
              "      <td>19643.639217</td>\n",
              "      <td>23.818411</td>\n",
              "      <td>16.973464</td>\n",
              "    </tr>\n",
              "  </tbody>\n",
              "</table>\n",
              "</div>"
            ],
            "text/plain": [
              "                           Model  ...  Mean Absolute Percentage Error\n",
              "0  All Jobs w/o Outliers XGBoost  ...                       16.973464\n",
              "\n",
              "[1 rows x 8 columns]"
            ]
          },
          "metadata": {
            "tags": []
          },
          "execution_count": 195
        }
      ]
    },
    {
      "cell_type": "markdown",
      "metadata": {
        "id": "MrUFitv7HbHh"
      },
      "source": [
        "### **all_jobs_yrs_no_outliers_df**"
      ]
    },
    {
      "cell_type": "code",
      "metadata": {
        "id": "k8WKaF9iHbHh",
        "colab": {
          "base_uri": "https://localhost:8080/"
        },
        "outputId": "2c9e705a-3043-4ea1-d2cb-4b318fb15bf1"
      },
      "source": [
        "#set features & target\n",
        "X = all_jobs_yrs_no_outliers_df.drop(columns=['avg_sal', 'log_avg_sal'])\n",
        "y = all_jobs_yrs_no_outliers_df['avg_sal']\n",
        "\n",
        "#split data into training & test sets\n",
        "X_train, X_test, y_train, y_test = train_test_split(X, y, test_size = 0.2, random_state = 43)\n",
        "\n",
        "#Use grid search to find best hyperparameters\n",
        "# defining parameter range \n",
        "param_grid = {'nthread':[4], #when use hyperthread, xgboost may become slower\n",
        "              'objective':['reg:linear'],\n",
        "              'learning_rate': [.03, 0.05, .07], #so called `eta` value\n",
        "              'max_depth': [5, 6, 7],\n",
        "              'min_child_weight': [4],\n",
        "              'silent': [1],\n",
        "              'subsample': [0.7],\n",
        "              'colsample_bytree': [0.7],\n",
        "              'n_estimators': [500]}\n",
        "  \n",
        "all_jobs_yrs_no_outliers_xgb_grid = GridSearchCV(XGBRegressor(), param_grid,  cv = 5,\n",
        "                        n_jobs = 5, verbose=True)\n",
        "# fitting the model for grid search \n",
        "all_jobs_yrs_no_outliers_xgb_grid.fit(X_train, y_train) \n",
        "# print best parameter after tuning \n",
        "print(all_jobs_yrs_no_outliers_xgb_grid.best_params_) \n",
        "  \n",
        "# print how our model looks after hyper-parameter tuning \n",
        "print(all_jobs_yrs_no_outliers_xgb_grid.best_estimator_) "
      ],
      "execution_count": null,
      "outputs": [
        {
          "output_type": "stream",
          "text": [
            "Fitting 5 folds for each of 9 candidates, totalling 45 fits\n"
          ],
          "name": "stdout"
        },
        {
          "output_type": "stream",
          "text": [
            "[Parallel(n_jobs=5)]: Using backend LokyBackend with 5 concurrent workers.\n",
            "[Parallel(n_jobs=5)]: Done  45 out of  45 | elapsed:  3.5min finished\n"
          ],
          "name": "stderr"
        },
        {
          "output_type": "stream",
          "text": [
            "{'colsample_bytree': 0.7, 'learning_rate': 0.03, 'max_depth': 6, 'min_child_weight': 4, 'n_estimators': 500, 'nthread': 4, 'objective': 'reg:linear', 'silent': 1, 'subsample': 0.7}\n",
            "XGBRegressor(base_score=0.5, booster='gbtree', colsample_bylevel=1,\n",
            "             colsample_bynode=1, colsample_bytree=0.7, gamma=0,\n",
            "             importance_type='gain', learning_rate=0.03, max_delta_step=0,\n",
            "             max_depth=6, min_child_weight=4, missing=None, n_estimators=500,\n",
            "             n_jobs=1, nthread=4, objective='reg:linear', random_state=0,\n",
            "             reg_alpha=0, reg_lambda=1, scale_pos_weight=1, seed=None, silent=1,\n",
            "             subsample=0.7, verbosity=1)\n"
          ],
          "name": "stdout"
        }
      ]
    },
    {
      "cell_type": "code",
      "metadata": {
        "id": "Qoohl2WvHbHi",
        "colab": {
          "base_uri": "https://localhost:8080/"
        },
        "outputId": "fd357acb-a7c3-4163-8935-299355b63d1b"
      },
      "source": [
        "#set model with ideal hyperparameters from above\n",
        "all_jobs_yrs_no_outliers_xgb = all_jobs_yrs_no_outliers_xgb_grid.best_estimator_\n",
        "\n",
        "all_jobs_yrs_no_outliers_xgb.fit(X_train, y_train)\n",
        "\n",
        "#cross validate\n",
        "all_jobs_yrs_no_outliers_xgb_scores = cross_val_score(all_jobs_yrs_no_outliers_xgb, X_train, y_train, cv = 5)\n",
        "\n",
        "print('Accuracy Scores for the 5 folds: ', all_jobs_yrs_no_outliers_xgb_scores)\n",
        "print('Mean Cross Validation Score: {:.33f}'.format(np.mean(all_jobs_yrs_no_outliers_xgb_scores)))"
      ],
      "execution_count": null,
      "outputs": [
        {
          "output_type": "stream",
          "text": [
            "Accuracy Scores for the 5 folds:  [0.63713839 0.63170844 0.62511985 0.54266618 0.62764057]\n",
            "Mean Cross Validation Score: 0.612854686427817485494529137213249\n"
          ],
          "name": "stdout"
        }
      ]
    },
    {
      "cell_type": "code",
      "metadata": {
        "id": "Kug1bvepHbHi",
        "colab": {
          "base_uri": "https://localhost:8080/"
        },
        "outputId": "f475762a-110c-44ab-ca1d-a26ae9140da9"
      },
      "source": [
        "#generate predictions\n",
        "all_jobs_yrs_no_outliers_xgb_preds = all_jobs_yrs_no_outliers_xgb.predict(X_test)\n",
        "\n",
        "#more performance metrics\n",
        "all_jobs_yrs_no_outliers_xgb_rsquared_train = all_jobs_yrs_no_outliers_xgb.score(X_train, y_train)\n",
        "all_jobs_yrs_no_outliers_xgb_rsquared_test = all_jobs_yrs_no_outliers_xgb.score(X_test, y_test)\n",
        "all_jobs_yrs_no_outliers_xgb_mae = mean_absolute_error(y_test, all_jobs_yrs_no_outliers_xgb_preds)\n",
        "all_jobs_yrs_no_outliers_xgb_mse = mse(y_test, all_jobs_yrs_no_outliers_xgb_preds)\n",
        "all_jobs_yrs_no_outliers_xgb_rmse = rmse(y_test, all_jobs_yrs_no_outliers_xgb_preds)\n",
        "all_jobs_yrs_no_outliers_xgb_mape = np.mean(np.abs((y_test - all_jobs_yrs_no_outliers_xgb_preds)/y_test)*100)\n",
        "all_jobs_yrs_no_outliers_xgb_rmspe = (np.sqrt(np.mean(np.square((y_test - all_jobs_yrs_no_outliers_xgb_preds) / y_test)))) * 100\n",
        "all_jobs_yrs_no_outliers_xgb_model_name = 'All Jobs Years of Experience w/o Outliers XGBoost'\n",
        "\n",
        "#create easily readable display of performance metrics\n",
        "all_jobs_yrs_no_outliers_xgb_dictionary = {'Model': all_jobs_yrs_no_outliers_xgb_model_name,\n",
        "  'Training Set R Squared': all_jobs_yrs_no_outliers_xgb_rsquared_train, \n",
        "  'Test Set R Squared': all_jobs_yrs_no_outliers_xgb_rsquared_test, 'Mean Absolute Error': all_jobs_yrs_no_outliers_xgb_mae, \n",
        "  'Mean Sqaured Error': all_jobs_yrs_no_outliers_xgb_mse, 'Root Mean Squared Error': all_jobs_yrs_no_outliers_xgb_rmse,\n",
        "  'Root Mean Squared Percentage Error': all_jobs_yrs_no_outliers_xgb_rmspe,\n",
        "  'Mean Absolute Percentage Error': all_jobs_yrs_no_outliers_xgb_mape}\n",
        "\n",
        "all_jobs_yrs_no_outliers_xgb_df = pd.DataFrame(all_jobs_yrs_no_outliers_xgb_dictionary, index=[0])\n",
        "\n",
        "all_jobs_yrs_no_outliers_xgb_df"
      ],
      "execution_count": null,
      "outputs": [
        {
          "output_type": "execute_result",
          "data": {
            "text/html": [
              "<div>\n",
              "<style scoped>\n",
              "    .dataframe tbody tr th:only-of-type {\n",
              "        vertical-align: middle;\n",
              "    }\n",
              "\n",
              "    .dataframe tbody tr th {\n",
              "        vertical-align: top;\n",
              "    }\n",
              "\n",
              "    .dataframe thead th {\n",
              "        text-align: right;\n",
              "    }\n",
              "</style>\n",
              "<table border=\"1\" class=\"dataframe\">\n",
              "  <thead>\n",
              "    <tr style=\"text-align: right;\">\n",
              "      <th></th>\n",
              "      <th>Model</th>\n",
              "      <th>Training Set R Squared</th>\n",
              "      <th>Test Set R Squared</th>\n",
              "      <th>Mean Absolute Error</th>\n",
              "      <th>Mean Sqaured Error</th>\n",
              "      <th>Root Mean Squared Error</th>\n",
              "      <th>Root Mean Squared Percentage Error</th>\n",
              "      <th>Mean Absolute Percentage Error</th>\n",
              "    </tr>\n",
              "  </thead>\n",
              "  <tbody>\n",
              "    <tr>\n",
              "      <th>0</th>\n",
              "      <td>All Jobs Years of Experience w/o Outliers XGBoost</td>\n",
              "      <td>0.828374</td>\n",
              "      <td>0.597758</td>\n",
              "      <td>14470.901978</td>\n",
              "      <td>3.832630e+08</td>\n",
              "      <td>19577.103497</td>\n",
              "      <td>23.708702</td>\n",
              "      <td>16.5411</td>\n",
              "    </tr>\n",
              "  </tbody>\n",
              "</table>\n",
              "</div>"
            ],
            "text/plain": [
              "                                               Model  ...  Mean Absolute Percentage Error\n",
              "0  All Jobs Years of Experience w/o Outliers XGBoost  ...                         16.5411\n",
              "\n",
              "[1 rows x 8 columns]"
            ]
          },
          "metadata": {
            "tags": []
          },
          "execution_count": 198
        }
      ]
    },
    {
      "cell_type": "markdown",
      "metadata": {
        "id": "M50-DKT2HbHj"
      },
      "source": [
        "### **all_jobs_no_outliers_df log(y)**"
      ]
    },
    {
      "cell_type": "code",
      "metadata": {
        "id": "1nJbUPGRHbHj",
        "colab": {
          "base_uri": "https://localhost:8080/"
        },
        "outputId": "6e784322-f77c-44c2-c5ec-314c9e345bd9"
      },
      "source": [
        "#set features & target\n",
        "X = all_jobs_no_outliers_df.drop(columns=['avg_sal', 'log_avg_sal'])\n",
        "y = all_jobs_no_outliers_df['log_avg_sal']\n",
        "\n",
        "#split data into training & test sets\n",
        "X_train, X_test, y_train, y_test = train_test_split(X, y, test_size = 0.2, random_state = 43)\n",
        "\n",
        "#Use grid search to find best hyperparameters\n",
        "# defining parameter range \n",
        "param_grid = {'nthread':[4], #when use hyperthread, xgboost may become slower\n",
        "              'objective':['reg:linear'],\n",
        "              'learning_rate': [.03, 0.05, .07], #so called `eta` value\n",
        "              'max_depth': [5, 6, 7],\n",
        "              'min_child_weight': [4],\n",
        "              'silent': [1],\n",
        "              'subsample': [0.7],\n",
        "              'colsample_bytree': [0.7],\n",
        "              'n_estimators': [500]}\n",
        "  \n",
        "log_all_jobs_no_outliers_xgb_grid = GridSearchCV(XGBRegressor(), param_grid,  cv = 5,\n",
        "                        n_jobs = 5, verbose=True)\n",
        "# fitting the model for grid search \n",
        "log_all_jobs_no_outliers_xgb_grid.fit(X_train, y_train) \n",
        "# print best parameter after tuning \n",
        "print(log_all_jobs_no_outliers_xgb_grid.best_params_) \n",
        "  \n",
        "# print how our model looks after hyper-parameter tuning \n",
        "print(log_all_jobs_no_outliers_xgb_grid.best_estimator_) "
      ],
      "execution_count": null,
      "outputs": [
        {
          "output_type": "stream",
          "text": [
            "Fitting 5 folds for each of 9 candidates, totalling 45 fits\n"
          ],
          "name": "stdout"
        },
        {
          "output_type": "stream",
          "text": [
            "[Parallel(n_jobs=5)]: Using backend LokyBackend with 5 concurrent workers.\n",
            "[Parallel(n_jobs=5)]: Done  45 out of  45 | elapsed:  3.8min finished\n"
          ],
          "name": "stderr"
        },
        {
          "output_type": "stream",
          "text": [
            "{'colsample_bytree': 0.7, 'learning_rate': 0.03, 'max_depth': 7, 'min_child_weight': 4, 'n_estimators': 500, 'nthread': 4, 'objective': 'reg:linear', 'silent': 1, 'subsample': 0.7}\n",
            "XGBRegressor(base_score=0.5, booster='gbtree', colsample_bylevel=1,\n",
            "             colsample_bynode=1, colsample_bytree=0.7, gamma=0,\n",
            "             importance_type='gain', learning_rate=0.03, max_delta_step=0,\n",
            "             max_depth=7, min_child_weight=4, missing=None, n_estimators=500,\n",
            "             n_jobs=1, nthread=4, objective='reg:linear', random_state=0,\n",
            "             reg_alpha=0, reg_lambda=1, scale_pos_weight=1, seed=None, silent=1,\n",
            "             subsample=0.7, verbosity=1)\n"
          ],
          "name": "stdout"
        }
      ]
    },
    {
      "cell_type": "code",
      "metadata": {
        "id": "Fp7qNvLwHbHk",
        "colab": {
          "base_uri": "https://localhost:8080/"
        },
        "outputId": "558e9674-e52c-451e-9c20-238705dce0ff"
      },
      "source": [
        "#set model with ideal hyperparameters from above\n",
        "log_all_jobs_no_outliers_xgb = log_all_jobs_no_outliers_xgb_grid.best_estimator_\n",
        "\n",
        "log_all_jobs_no_outliers_xgb.fit(X_train, y_train)\n",
        "\n",
        "#cross validate\n",
        "log_all_jobs_no_outliers_xgb_scores = cross_val_score(log_all_jobs_no_outliers_xgb, X_train, y_train, cv = 5)\n",
        "\n",
        "print('Accuracy Scores for the 5 folds: ', log_all_jobs_no_outliers_xgb_scores)\n",
        "print('Mean Cross Validation Score: {:.33f}'.format(np.mean(log_all_jobs_no_outliers_xgb_scores)))"
      ],
      "execution_count": null,
      "outputs": [
        {
          "output_type": "stream",
          "text": [
            "Accuracy Scores for the 5 folds:  [0.6217204  0.59130401 0.63260798 0.58662177 0.61693654]\n",
            "Mean Cross Validation Score: 0.609838140339340362139353146631038\n"
          ],
          "name": "stdout"
        }
      ]
    },
    {
      "cell_type": "code",
      "metadata": {
        "id": "hdBaREr4HbHk",
        "colab": {
          "base_uri": "https://localhost:8080/"
        },
        "outputId": "06722d73-a0be-47da-b620-eddcd3f7e480"
      },
      "source": [
        "#generate predictions\n",
        "log_all_jobs_no_outliers_xgb_preds = log_all_jobs_no_outliers_xgb.predict(X_test)\n",
        "\n",
        "#more performance metrics\n",
        "log_all_jobs_no_outliers_xgb_rsquared_train = log_all_jobs_no_outliers_xgb.score(X_train, y_train)\n",
        "log_all_jobs_no_outliers_xgb_rsquared_test = log_all_jobs_no_outliers_xgb.score(X_test, y_test)\n",
        "log_all_jobs_no_outliers_xgb_mae = mean_absolute_error(y_test, log_all_jobs_no_outliers_xgb_preds)\n",
        "log_all_jobs_no_outliers_xgb_mse = mse(y_test, log_all_jobs_no_outliers_xgb_preds)\n",
        "log_all_jobs_no_outliers_xgb_rmse = rmse(y_test, log_all_jobs_no_outliers_xgb_preds)\n",
        "log_all_jobs_no_outliers_xgb_mape = np.mean(np.abs((y_test - log_all_jobs_no_outliers_xgb_preds)/y_test)*100)\n",
        "log_all_jobs_no_outliers_xgb_rmspe = (np.sqrt(np.mean(np.square((y_test - log_all_jobs_no_outliers_xgb_preds) / y_test)))) * 100\n",
        "log_all_jobs_no_outliers_xgb_model_name = 'All Jobs w/o Outliers XGBoost Log(y)'\n",
        "\n",
        "#create easily readable display of performance metrics\n",
        "log_all_jobs_no_outliers_xgb_dictionary = {'Model': log_all_jobs_no_outliers_xgb_model_name,\n",
        "  'Training Set R Squared': log_all_jobs_no_outliers_xgb_rsquared_train, \n",
        "  'Test Set R Squared': log_all_jobs_no_outliers_xgb_rsquared_test, 'Mean Absolute Error': log_all_jobs_no_outliers_xgb_mae, \n",
        "  'Mean Sqaured Error': log_all_jobs_no_outliers_xgb_mse, 'Root Mean Squared Error': log_all_jobs_no_outliers_xgb_rmse,\n",
        "  'Root Mean Squared Percentage Error': log_all_jobs_no_outliers_xgb_rmspe,\n",
        "  'Mean Absolute Percentage Error': log_all_jobs_no_outliers_xgb_mape}\n",
        "\n",
        "log_all_jobs_no_outliers_xgb_df = pd.DataFrame(log_all_jobs_no_outliers_xgb_dictionary, index=[0])\n",
        "\n",
        "log_all_jobs_no_outliers_xgb_df"
      ],
      "execution_count": null,
      "outputs": [
        {
          "output_type": "execute_result",
          "data": {
            "text/html": [
              "<div>\n",
              "<style scoped>\n",
              "    .dataframe tbody tr th:only-of-type {\n",
              "        vertical-align: middle;\n",
              "    }\n",
              "\n",
              "    .dataframe tbody tr th {\n",
              "        vertical-align: top;\n",
              "    }\n",
              "\n",
              "    .dataframe thead th {\n",
              "        text-align: right;\n",
              "    }\n",
              "</style>\n",
              "<table border=\"1\" class=\"dataframe\">\n",
              "  <thead>\n",
              "    <tr style=\"text-align: right;\">\n",
              "      <th></th>\n",
              "      <th>Model</th>\n",
              "      <th>Training Set R Squared</th>\n",
              "      <th>Test Set R Squared</th>\n",
              "      <th>Mean Absolute Error</th>\n",
              "      <th>Mean Sqaured Error</th>\n",
              "      <th>Root Mean Squared Error</th>\n",
              "      <th>Root Mean Squared Percentage Error</th>\n",
              "      <th>Mean Absolute Percentage Error</th>\n",
              "    </tr>\n",
              "  </thead>\n",
              "  <tbody>\n",
              "    <tr>\n",
              "      <th>0</th>\n",
              "      <td>All Jobs w/o Outliers XGBoost Log(y)</td>\n",
              "      <td>0.819975</td>\n",
              "      <td>0.608813</td>\n",
              "      <td>0.162696</td>\n",
              "      <td>0.046319</td>\n",
              "      <td>0.215218</td>\n",
              "      <td>1.902375</td>\n",
              "      <td>1.433195</td>\n",
              "    </tr>\n",
              "  </tbody>\n",
              "</table>\n",
              "</div>"
            ],
            "text/plain": [
              "                                  Model  ...  Mean Absolute Percentage Error\n",
              "0  All Jobs w/o Outliers XGBoost Log(y)  ...                        1.433195\n",
              "\n",
              "[1 rows x 8 columns]"
            ]
          },
          "metadata": {
            "tags": []
          },
          "execution_count": 201
        }
      ]
    },
    {
      "cell_type": "markdown",
      "metadata": {
        "id": "8M4lOifGHbHl"
      },
      "source": [
        "### **all_jobs_yrs_no_outliers_df log(y)**"
      ]
    },
    {
      "cell_type": "code",
      "metadata": {
        "id": "IIOK45QUHbHl",
        "colab": {
          "base_uri": "https://localhost:8080/"
        },
        "outputId": "92dfc8f4-6c74-422d-efb7-af9a0852e42c"
      },
      "source": [
        "#set features & target\n",
        "X = all_jobs_yrs_no_outliers_df.drop(columns=['avg_sal', 'log_avg_sal'])\n",
        "y = all_jobs_yrs_no_outliers_df['log_avg_sal']\n",
        "\n",
        "#split data into training & test sets\n",
        "X_train, X_test, y_train, y_test = train_test_split(X, y, test_size = 0.2, random_state = 43)\n",
        "\n",
        "#Use grid search to find best hyperparameters\n",
        "# defining parameter range \n",
        "param_grid = {'nthread':[4], #when use hyperthread, xgboost may become slower\n",
        "              'objective':['reg:linear'],\n",
        "              'learning_rate': [.03, 0.05, .07], #so called `eta` value\n",
        "              'max_depth': [5, 6, 7],\n",
        "              'min_child_weight': [4],\n",
        "              'silent': [1],\n",
        "              'subsample': [0.7],\n",
        "              'colsample_bytree': [0.7],\n",
        "              'n_estimators': [500]}\n",
        "  \n",
        "log_all_jobs_yrs_no_outliers_xgb_grid = GridSearchCV(XGBRegressor(), param_grid,  cv = 5,\n",
        "                        n_jobs = 5, verbose=True)\n",
        "# fitting the model for grid search \n",
        "log_all_jobs_yrs_no_outliers_xgb_grid.fit(X_train, y_train) \n",
        "# print best parameter after tuning \n",
        "print(log_all_jobs_yrs_no_outliers_xgb_grid.best_params_) \n",
        "  \n",
        "# print how our model looks after hyper-parameter tuning \n",
        "print(log_all_jobs_yrs_no_outliers_xgb_grid.best_estimator_) "
      ],
      "execution_count": null,
      "outputs": [
        {
          "output_type": "stream",
          "text": [
            "Fitting 5 folds for each of 9 candidates, totalling 45 fits\n"
          ],
          "name": "stdout"
        },
        {
          "output_type": "stream",
          "text": [
            "[Parallel(n_jobs=5)]: Using backend LokyBackend with 5 concurrent workers.\n",
            "[Parallel(n_jobs=5)]: Done  45 out of  45 | elapsed:  3.3min finished\n"
          ],
          "name": "stderr"
        },
        {
          "output_type": "stream",
          "text": [
            "{'colsample_bytree': 0.7, 'learning_rate': 0.03, 'max_depth': 6, 'min_child_weight': 4, 'n_estimators': 500, 'nthread': 4, 'objective': 'reg:linear', 'silent': 1, 'subsample': 0.7}\n",
            "XGBRegressor(base_score=0.5, booster='gbtree', colsample_bylevel=1,\n",
            "             colsample_bynode=1, colsample_bytree=0.7, gamma=0,\n",
            "             importance_type='gain', learning_rate=0.03, max_delta_step=0,\n",
            "             max_depth=6, min_child_weight=4, missing=None, n_estimators=500,\n",
            "             n_jobs=1, nthread=4, objective='reg:linear', random_state=0,\n",
            "             reg_alpha=0, reg_lambda=1, scale_pos_weight=1, seed=None, silent=1,\n",
            "             subsample=0.7, verbosity=1)\n"
          ],
          "name": "stdout"
        }
      ]
    },
    {
      "cell_type": "code",
      "metadata": {
        "id": "5-MOthtLHbHl",
        "colab": {
          "base_uri": "https://localhost:8080/"
        },
        "outputId": "2d3e8b7b-583a-4fe7-a9c8-e0333a654b8e"
      },
      "source": [
        "#set model with ideal hyperparameters from above\n",
        "log_all_jobs_yrs_no_outliers_xgb = log_all_jobs_yrs_no_outliers_xgb_grid.best_estimator_\n",
        "\n",
        "log_all_jobs_yrs_no_outliers_xgb.fit(X_train, y_train)\n",
        "\n",
        "#cross validate\n",
        "log_all_jobs_yrs_no_outliers_xgb_scores = cross_val_score(log_all_jobs_yrs_no_outliers_xgb, X_train, y_train, cv = 5)\n",
        "\n",
        "print('Accuracy Scores for the 5 folds: ', log_all_jobs_yrs_no_outliers_xgb_scores)\n",
        "print('Mean Cross Validation Score: {:.33f}'.format(np.mean(log_all_jobs_yrs_no_outliers_xgb_scores)))"
      ],
      "execution_count": null,
      "outputs": [
        {
          "output_type": "stream",
          "text": [
            "Accuracy Scores for the 5 folds:  [0.64252136 0.64350658 0.62235236 0.53622551 0.61633097]\n",
            "Mean Cross Validation Score: 0.612187354118487014886795805068687\n"
          ],
          "name": "stdout"
        }
      ]
    },
    {
      "cell_type": "code",
      "metadata": {
        "id": "j9s1efiGHbHm",
        "colab": {
          "base_uri": "https://localhost:8080/"
        },
        "outputId": "6414dd66-d1d5-40de-f65e-304768ec27a0"
      },
      "source": [
        "#generate predictions\n",
        "log_all_jobs_yrs_no_outliers_xgb_preds = log_all_jobs_yrs_no_outliers_xgb.predict(X_test)\n",
        "\n",
        "#more performance metrics\n",
        "log_all_jobs_yrs_no_outliers_xgb_rsquared_train = log_all_jobs_yrs_no_outliers_xgb.score(X_train, y_train)\n",
        "log_all_jobs_yrs_no_outliers_xgb_rsquared_test = log_all_jobs_yrs_no_outliers_xgb.score(X_test, y_test)\n",
        "log_all_jobs_yrs_no_outliers_xgb_mae = mean_absolute_error(y_test, log_all_jobs_yrs_no_outliers_xgb_preds)\n",
        "log_all_jobs_yrs_no_outliers_xgb_mse = mse(y_test, log_all_jobs_yrs_no_outliers_xgb_preds)\n",
        "log_all_jobs_yrs_no_outliers_xgb_rmse = rmse(y_test, log_all_jobs_yrs_no_outliers_xgb_preds)\n",
        "log_all_jobs_yrs_no_outliers_xgb_mape = np.mean(np.abs((y_test - log_all_jobs_yrs_no_outliers_xgb_preds)/y_test)*100)\n",
        "log_all_jobs_yrs_no_outliers_xgb_rmspe = (np.sqrt(np.mean(np.square((y_test - log_all_jobs_yrs_no_outliers_xgb_preds) / y_test)))) * 100\n",
        "log_all_jobs_yrs_no_outliers_xgb_model_name = 'All Jobs Years of Experience w/o Outliers XGBoost Log(y)'\n",
        "\n",
        "#create easily readable display of performance metrics\n",
        "log_all_jobs_yrs_no_outliers_xgb_dictionary = {'Model': log_all_jobs_yrs_no_outliers_xgb_model_name,\n",
        "  'Training Set R Squared': log_all_jobs_yrs_no_outliers_xgb_rsquared_train, \n",
        "  'Test Set R Squared': log_all_jobs_yrs_no_outliers_xgb_rsquared_test, 'Mean Absolute Error': log_all_jobs_yrs_no_outliers_xgb_mae, \n",
        "  'Mean Sqaured Error': log_all_jobs_yrs_no_outliers_xgb_mse, 'Root Mean Squared Error': log_all_jobs_yrs_no_outliers_xgb_rmse,\n",
        "  'Root Mean Squared Percentage Error': log_all_jobs_yrs_no_outliers_xgb_rmspe,\n",
        "  'Mean Absolute Percentage Error': log_all_jobs_yrs_no_outliers_xgb_mape}\n",
        "\n",
        "log_all_jobs_yrs_no_outliers_xgb_df = pd.DataFrame(log_all_jobs_yrs_no_outliers_xgb_dictionary, index=[0])\n",
        "\n",
        "log_all_jobs_yrs_no_outliers_xgb_df"
      ],
      "execution_count": null,
      "outputs": [
        {
          "output_type": "execute_result",
          "data": {
            "text/html": [
              "<div>\n",
              "<style scoped>\n",
              "    .dataframe tbody tr th:only-of-type {\n",
              "        vertical-align: middle;\n",
              "    }\n",
              "\n",
              "    .dataframe tbody tr th {\n",
              "        vertical-align: top;\n",
              "    }\n",
              "\n",
              "    .dataframe thead th {\n",
              "        text-align: right;\n",
              "    }\n",
              "</style>\n",
              "<table border=\"1\" class=\"dataframe\">\n",
              "  <thead>\n",
              "    <tr style=\"text-align: right;\">\n",
              "      <th></th>\n",
              "      <th>Model</th>\n",
              "      <th>Training Set R Squared</th>\n",
              "      <th>Test Set R Squared</th>\n",
              "      <th>Mean Absolute Error</th>\n",
              "      <th>Mean Sqaured Error</th>\n",
              "      <th>Root Mean Squared Error</th>\n",
              "      <th>Root Mean Squared Percentage Error</th>\n",
              "      <th>Mean Absolute Percentage Error</th>\n",
              "    </tr>\n",
              "  </thead>\n",
              "  <tbody>\n",
              "    <tr>\n",
              "      <th>0</th>\n",
              "      <td>All Jobs Years of Experience w/o Outliers XGBo...</td>\n",
              "      <td>0.795719</td>\n",
              "      <td>0.594224</td>\n",
              "      <td>0.1588</td>\n",
              "      <td>0.044664</td>\n",
              "      <td>0.211338</td>\n",
              "      <td>1.86554</td>\n",
              "      <td>1.39702</td>\n",
              "    </tr>\n",
              "  </tbody>\n",
              "</table>\n",
              "</div>"
            ],
            "text/plain": [
              "                                               Model  ...  Mean Absolute Percentage Error\n",
              "0  All Jobs Years of Experience w/o Outliers XGBo...  ...                         1.39702\n",
              "\n",
              "[1 rows x 8 columns]"
            ]
          },
          "metadata": {
            "tags": []
          },
          "execution_count": 204
        }
      ]
    },
    {
      "cell_type": "markdown",
      "metadata": {
        "id": "qCA4Vd9d7YfZ"
      },
      "source": [
        "# **Model Comparison**"
      ]
    },
    {
      "cell_type": "markdown",
      "metadata": {
        "id": "2SkULHj3Hv55"
      },
      "source": [
        "### **all_jobs & Years of Experience Model Results**"
      ]
    },
    {
      "cell_type": "code",
      "metadata": {
        "id": "ZTNsQyQ37fbh",
        "colab": {
          "base_uri": "https://localhost:8080/"
        },
        "outputId": "7301b95a-b9be-47cc-94ce-de66817f773c"
      },
      "source": [
        "results_list = [\n",
        "all_jobs_lr_df, all_jobs_yrs_lr_df, all_jobs_no_outliers_lr_df, \n",
        "all_jobs_yrs_no_outliers_lr_df, \n",
        "\n",
        "all_jobs_ridge_df, all_jobs_yrs_ridge_df, all_jobs_no_outliers_ridge_df, \n",
        "all_jobs_yrs_no_outliers_ridge_df, \n",
        "\n",
        "\n",
        "all_jobs_lasso_df, all_jobs_yrs_lasso_df, all_jobs_no_outliers_lasso_df, \n",
        "all_jobs_yrs_no_outliers_lasso_df, \n",
        " \n",
        "\n",
        "all_jobs_enet_df, all_jobs_yrs_enet_df, all_jobs_no_outliers_enet_df, \n",
        "all_jobs_yrs_no_outliers_enet_df, \n",
        "\n",
        "\n",
        "all_jobs_knn_df, years_exp_knn_df, all_jobs_no_outliers_knn_df, \n",
        "years_exp_knn_df, \n",
        "\n",
        "\n",
        "all_jobs_rf_df, all_jobs_yrs_rf_df, all_jobs_no_outliers_rf_df, \n",
        "all_jobs_yrs_no_outliers_rf_df, \n",
        "\n",
        "\n",
        "all_jobs_svm_df, all_jobs_yrs_svm_df,  all_jobs_no_outliers_svm_df, \n",
        "all_jobs_yrs_no_outliers_svm_df, \n",
        " \n",
        "\n",
        "all_jobs_xgb_df, all_jobs_yrs_xgb_df, all_jobs_no_outliers_xgb_df, \n",
        "all_jobs_yrs_no_outliers_xgb_df, \n",
        "]\n",
        "\n",
        "all_jobs_results_df = pd.concat(results_list)\n",
        "all_jobs_results_df.reset_index(inplace=True)\n",
        "all_jobs_results_df.drop(columns=['index'], inplace=True)\n",
        "all_jobs_results_df\n",
        "\n",
        "all_jobs_results_df = pd.concat(results_list)\n",
        "all_jobs_results_df.reset_index(inplace=True)\n",
        "all_jobs_results_df.drop(columns=['index'], inplace=True)\n",
        "\n",
        "all_jobs_results_df"
      ],
      "execution_count": null,
      "outputs": [
        {
          "output_type": "execute_result",
          "data": {
            "text/html": [
              "<div>\n",
              "<style scoped>\n",
              "    .dataframe tbody tr th:only-of-type {\n",
              "        vertical-align: middle;\n",
              "    }\n",
              "\n",
              "    .dataframe tbody tr th {\n",
              "        vertical-align: top;\n",
              "    }\n",
              "\n",
              "    .dataframe thead th {\n",
              "        text-align: right;\n",
              "    }\n",
              "</style>\n",
              "<table border=\"1\" class=\"dataframe\">\n",
              "  <thead>\n",
              "    <tr style=\"text-align: right;\">\n",
              "      <th></th>\n",
              "      <th>Model</th>\n",
              "      <th>Training Set R Squared</th>\n",
              "      <th>Test Set R Squared</th>\n",
              "      <th>Mean Absolute Error</th>\n",
              "      <th>Mean Sqaured Error</th>\n",
              "      <th>Root Mean Squared Error</th>\n",
              "      <th>Root Mean Squared Percentage Error</th>\n",
              "      <th>Mean Absolute Percentage Error</th>\n",
              "    </tr>\n",
              "  </thead>\n",
              "  <tbody>\n",
              "    <tr>\n",
              "      <th>0</th>\n",
              "      <td>All Jobs Linear Regression</td>\n",
              "      <td>0.502239</td>\n",
              "      <td>0.515731</td>\n",
              "      <td>17951.945408</td>\n",
              "      <td>5.882632e+08</td>\n",
              "      <td>24254.137752</td>\n",
              "      <td>27.623236</td>\n",
              "      <td>20.039903</td>\n",
              "    </tr>\n",
              "    <tr>\n",
              "      <th>1</th>\n",
              "      <td>All Jobs Years of Experience Linear Regression</td>\n",
              "      <td>0.532484</td>\n",
              "      <td>0.514905</td>\n",
              "      <td>17924.403684</td>\n",
              "      <td>5.806518e+08</td>\n",
              "      <td>24096.718223</td>\n",
              "      <td>29.026559</td>\n",
              "      <td>20.791367</td>\n",
              "    </tr>\n",
              "    <tr>\n",
              "      <th>2</th>\n",
              "      <td>All Jobs w/o Outliers Linear Regression</td>\n",
              "      <td>0.527201</td>\n",
              "      <td>0.497683</td>\n",
              "      <td>17476.182556</td>\n",
              "      <td>5.178905e+08</td>\n",
              "      <td>22757.208557</td>\n",
              "      <td>27.513920</td>\n",
              "      <td>20.160372</td>\n",
              "    </tr>\n",
              "    <tr>\n",
              "      <th>3</th>\n",
              "      <td>All Jobs Years of Experience w/o Outliers Line...</td>\n",
              "      <td>0.549810</td>\n",
              "      <td>0.506605</td>\n",
              "      <td>16730.401047</td>\n",
              "      <td>4.701160e+08</td>\n",
              "      <td>21682.158711</td>\n",
              "      <td>27.432156</td>\n",
              "      <td>19.317534</td>\n",
              "    </tr>\n",
              "    <tr>\n",
              "      <th>4</th>\n",
              "      <td>All Jobs Ridge Regression</td>\n",
              "      <td>0.501529</td>\n",
              "      <td>0.516924</td>\n",
              "      <td>17950.280953</td>\n",
              "      <td>5.868147e+08</td>\n",
              "      <td>24224.257817</td>\n",
              "      <td>27.614161</td>\n",
              "      <td>20.045775</td>\n",
              "    </tr>\n",
              "    <tr>\n",
              "      <th>5</th>\n",
              "      <td>All Jobs Years of Experience Ridge Regression</td>\n",
              "      <td>0.531356</td>\n",
              "      <td>0.518365</td>\n",
              "      <td>17878.897990</td>\n",
              "      <td>5.765101e+08</td>\n",
              "      <td>24010.623875</td>\n",
              "      <td>28.978791</td>\n",
              "      <td>20.759618</td>\n",
              "    </tr>\n",
              "    <tr>\n",
              "      <th>6</th>\n",
              "      <td>All Jobs w/o Outliers Ridge Regression</td>\n",
              "      <td>0.526427</td>\n",
              "      <td>0.499020</td>\n",
              "      <td>17480.545495</td>\n",
              "      <td>5.165126e+08</td>\n",
              "      <td>22726.913037</td>\n",
              "      <td>27.514654</td>\n",
              "      <td>20.183595</td>\n",
              "    </tr>\n",
              "    <tr>\n",
              "      <th>7</th>\n",
              "      <td>All Jobs Years of Experience w/o Outliers Ridg...</td>\n",
              "      <td>0.548580</td>\n",
              "      <td>0.508810</td>\n",
              "      <td>16738.722431</td>\n",
              "      <td>4.680149e+08</td>\n",
              "      <td>21633.653135</td>\n",
              "      <td>27.349970</td>\n",
              "      <td>19.316556</td>\n",
              "    </tr>\n",
              "    <tr>\n",
              "      <th>8</th>\n",
              "      <td>All Jobs Lasso Regression</td>\n",
              "      <td>0.494348</td>\n",
              "      <td>0.509676</td>\n",
              "      <td>18087.885487</td>\n",
              "      <td>5.956188e+08</td>\n",
              "      <td>24405.302526</td>\n",
              "      <td>27.809110</td>\n",
              "      <td>20.215122</td>\n",
              "    </tr>\n",
              "    <tr>\n",
              "      <th>9</th>\n",
              "      <td>All Jobs Years of Experience Lasso Regression</td>\n",
              "      <td>0.531983</td>\n",
              "      <td>0.516896</td>\n",
              "      <td>17883.458416</td>\n",
              "      <td>5.782694e+08</td>\n",
              "      <td>24047.233210</td>\n",
              "      <td>28.988901</td>\n",
              "      <td>20.750267</td>\n",
              "    </tr>\n",
              "    <tr>\n",
              "      <th>10</th>\n",
              "      <td>All Jobs Lasso Regression</td>\n",
              "      <td>0.526760</td>\n",
              "      <td>0.498970</td>\n",
              "      <td>17471.433328</td>\n",
              "      <td>5.165639e+08</td>\n",
              "      <td>22728.041422</td>\n",
              "      <td>27.509016</td>\n",
              "      <td>20.171853</td>\n",
              "    </tr>\n",
              "    <tr>\n",
              "      <th>11</th>\n",
              "      <td>All Jobs Years of Experience w/o Outliers Lass...</td>\n",
              "      <td>0.549205</td>\n",
              "      <td>0.508277</td>\n",
              "      <td>16724.840383</td>\n",
              "      <td>4.685221e+08</td>\n",
              "      <td>21645.370652</td>\n",
              "      <td>27.377890</td>\n",
              "      <td>19.312860</td>\n",
              "    </tr>\n",
              "    <tr>\n",
              "      <th>12</th>\n",
              "      <td>All Jobs Elastic Net Regression</td>\n",
              "      <td>0.494348</td>\n",
              "      <td>0.509676</td>\n",
              "      <td>18087.885487</td>\n",
              "      <td>5.956188e+08</td>\n",
              "      <td>24405.302526</td>\n",
              "      <td>27.809110</td>\n",
              "      <td>20.215122</td>\n",
              "    </tr>\n",
              "    <tr>\n",
              "      <th>13</th>\n",
              "      <td>All Jobs Years of Experience Elastic Net Regre...</td>\n",
              "      <td>0.529904</td>\n",
              "      <td>0.519887</td>\n",
              "      <td>17872.787534</td>\n",
              "      <td>5.746894e+08</td>\n",
              "      <td>23972.680254</td>\n",
              "      <td>28.971504</td>\n",
              "      <td>20.771095</td>\n",
              "    </tr>\n",
              "    <tr>\n",
              "      <th>14</th>\n",
              "      <td>All Jobs w/o Outliers Elastic Net Regression</td>\n",
              "      <td>0.526760</td>\n",
              "      <td>0.498970</td>\n",
              "      <td>17471.433328</td>\n",
              "      <td>5.165639e+08</td>\n",
              "      <td>22728.041422</td>\n",
              "      <td>27.509016</td>\n",
              "      <td>20.171853</td>\n",
              "    </tr>\n",
              "    <tr>\n",
              "      <th>15</th>\n",
              "      <td>All Jobs Years of Experience w/o Outliers Elas...</td>\n",
              "      <td>0.547763</td>\n",
              "      <td>0.509020</td>\n",
              "      <td>16744.891795</td>\n",
              "      <td>4.678143e+08</td>\n",
              "      <td>21629.015418</td>\n",
              "      <td>27.327074</td>\n",
              "      <td>19.319194</td>\n",
              "    </tr>\n",
              "    <tr>\n",
              "      <th>16</th>\n",
              "      <td>All Jobs KNN</td>\n",
              "      <td>0.978248</td>\n",
              "      <td>0.513091</td>\n",
              "      <td>16963.214847</td>\n",
              "      <td>5.914709e+08</td>\n",
              "      <td>24320.174548</td>\n",
              "      <td>25.630008</td>\n",
              "      <td>18.177122</td>\n",
              "    </tr>\n",
              "    <tr>\n",
              "      <th>17</th>\n",
              "      <td>All Jobs Years of Experience KNN</td>\n",
              "      <td>0.978606</td>\n",
              "      <td>0.522926</td>\n",
              "      <td>16416.984156</td>\n",
              "      <td>5.710516e+08</td>\n",
              "      <td>23896.685252</td>\n",
              "      <td>26.075698</td>\n",
              "      <td>18.222820</td>\n",
              "    </tr>\n",
              "    <tr>\n",
              "      <th>18</th>\n",
              "      <td>All Jobs w/o Outliers KNN</td>\n",
              "      <td>0.985277</td>\n",
              "      <td>0.510241</td>\n",
              "      <td>16376.142667</td>\n",
              "      <td>5.049436e+08</td>\n",
              "      <td>22470.950955</td>\n",
              "      <td>26.098671</td>\n",
              "      <td>18.409429</td>\n",
              "    </tr>\n",
              "    <tr>\n",
              "      <th>19</th>\n",
              "      <td>All Jobs Years of Experience KNN</td>\n",
              "      <td>0.978606</td>\n",
              "      <td>0.522926</td>\n",
              "      <td>16416.984156</td>\n",
              "      <td>5.710516e+08</td>\n",
              "      <td>23896.685252</td>\n",
              "      <td>26.075698</td>\n",
              "      <td>18.222820</td>\n",
              "    </tr>\n",
              "    <tr>\n",
              "      <th>20</th>\n",
              "      <td>All Jobs Random Forest</td>\n",
              "      <td>0.931042</td>\n",
              "      <td>0.613098</td>\n",
              "      <td>15461.700637</td>\n",
              "      <td>4.699873e+08</td>\n",
              "      <td>21679.190539</td>\n",
              "      <td>24.190340</td>\n",
              "      <td>17.096554</td>\n",
              "    </tr>\n",
              "    <tr>\n",
              "      <th>21</th>\n",
              "      <td>All Jobs Years of Experience Random Forest</td>\n",
              "      <td>0.931459</td>\n",
              "      <td>0.604564</td>\n",
              "      <td>15195.778894</td>\n",
              "      <td>4.733316e+08</td>\n",
              "      <td>21756.184563</td>\n",
              "      <td>25.608721</td>\n",
              "      <td>17.549229</td>\n",
              "    </tr>\n",
              "    <tr>\n",
              "      <th>22</th>\n",
              "      <td>All Jobs w/o Outliers Random Forest</td>\n",
              "      <td>0.941858</td>\n",
              "      <td>0.619748</td>\n",
              "      <td>14709.082953</td>\n",
              "      <td>3.920407e+08</td>\n",
              "      <td>19800.018064</td>\n",
              "      <td>24.332945</td>\n",
              "      <td>17.199059</td>\n",
              "    </tr>\n",
              "    <tr>\n",
              "      <th>23</th>\n",
              "      <td>All Jobs Years of Experience w/o Outliers Rand...</td>\n",
              "      <td>0.940204</td>\n",
              "      <td>0.584606</td>\n",
              "      <td>14447.645633</td>\n",
              "      <td>3.957948e+08</td>\n",
              "      <td>19894.591093</td>\n",
              "      <td>24.181468</td>\n",
              "      <td>16.511200</td>\n",
              "    </tr>\n",
              "    <tr>\n",
              "      <th>24</th>\n",
              "      <td>All Jobs SVM</td>\n",
              "      <td>-0.010600</td>\n",
              "      <td>-0.021681</td>\n",
              "      <td>27572.231055</td>\n",
              "      <td>1.241082e+09</td>\n",
              "      <td>35228.997689</td>\n",
              "      <td>38.001823</td>\n",
              "      <td>29.988371</td>\n",
              "    </tr>\n",
              "    <tr>\n",
              "      <th>25</th>\n",
              "      <td>All Jobs Years of Experience SVM</td>\n",
              "      <td>-0.009723</td>\n",
              "      <td>-0.000762</td>\n",
              "      <td>27046.680210</td>\n",
              "      <td>1.197899e+09</td>\n",
              "      <td>34610.677210</td>\n",
              "      <td>39.661122</td>\n",
              "      <td>30.828981</td>\n",
              "    </tr>\n",
              "    <tr>\n",
              "      <th>26</th>\n",
              "      <td>All Jobs w/o Outliers SVM</td>\n",
              "      <td>-0.004952</td>\n",
              "      <td>-0.005451</td>\n",
              "      <td>26065.251356</td>\n",
              "      <td>1.036623e+09</td>\n",
              "      <td>32196.629208</td>\n",
              "      <td>37.040442</td>\n",
              "      <td>29.500019</td>\n",
              "    </tr>\n",
              "    <tr>\n",
              "      <th>27</th>\n",
              "      <td>All Jobs Years of Experience w/o Outliers SVM</td>\n",
              "      <td>-0.007870</td>\n",
              "      <td>-0.029295</td>\n",
              "      <td>25088.297651</td>\n",
              "      <td>9.807309e+08</td>\n",
              "      <td>31316.623157</td>\n",
              "      <td>35.213013</td>\n",
              "      <td>27.845962</td>\n",
              "    </tr>\n",
              "    <tr>\n",
              "      <th>28</th>\n",
              "      <td>All Jobs XGBoost</td>\n",
              "      <td>0.805056</td>\n",
              "      <td>0.634020</td>\n",
              "      <td>15273.998087</td>\n",
              "      <td>4.445720e+08</td>\n",
              "      <td>21084.875184</td>\n",
              "      <td>23.751907</td>\n",
              "      <td>16.929184</td>\n",
              "    </tr>\n",
              "    <tr>\n",
              "      <th>29</th>\n",
              "      <td>All Jobs Years of Experience XGBoost</td>\n",
              "      <td>0.820537</td>\n",
              "      <td>0.603017</td>\n",
              "      <td>15440.451986</td>\n",
              "      <td>4.751832e+08</td>\n",
              "      <td>21798.698351</td>\n",
              "      <td>25.455828</td>\n",
              "      <td>17.716823</td>\n",
              "    </tr>\n",
              "    <tr>\n",
              "      <th>30</th>\n",
              "      <td>All Jobs w/o Outliers XGBoost</td>\n",
              "      <td>0.854848</td>\n",
              "      <td>0.625731</td>\n",
              "      <td>14636.905363</td>\n",
              "      <td>3.858726e+08</td>\n",
              "      <td>19643.639217</td>\n",
              "      <td>23.818411</td>\n",
              "      <td>16.973464</td>\n",
              "    </tr>\n",
              "    <tr>\n",
              "      <th>31</th>\n",
              "      <td>All Jobs Years of Experience w/o Outliers XGBoost</td>\n",
              "      <td>0.828374</td>\n",
              "      <td>0.597758</td>\n",
              "      <td>14470.901978</td>\n",
              "      <td>3.832630e+08</td>\n",
              "      <td>19577.103497</td>\n",
              "      <td>23.708702</td>\n",
              "      <td>16.541100</td>\n",
              "    </tr>\n",
              "  </tbody>\n",
              "</table>\n",
              "</div>"
            ],
            "text/plain": [
              "                                                Model  ...  Mean Absolute Percentage Error\n",
              "0                          All Jobs Linear Regression  ...                       20.039903\n",
              "1      All Jobs Years of Experience Linear Regression  ...                       20.791367\n",
              "2             All Jobs w/o Outliers Linear Regression  ...                       20.160372\n",
              "3   All Jobs Years of Experience w/o Outliers Line...  ...                       19.317534\n",
              "4                           All Jobs Ridge Regression  ...                       20.045775\n",
              "5       All Jobs Years of Experience Ridge Regression  ...                       20.759618\n",
              "6              All Jobs w/o Outliers Ridge Regression  ...                       20.183595\n",
              "7   All Jobs Years of Experience w/o Outliers Ridg...  ...                       19.316556\n",
              "8                           All Jobs Lasso Regression  ...                       20.215122\n",
              "9       All Jobs Years of Experience Lasso Regression  ...                       20.750267\n",
              "10                          All Jobs Lasso Regression  ...                       20.171853\n",
              "11  All Jobs Years of Experience w/o Outliers Lass...  ...                       19.312860\n",
              "12                    All Jobs Elastic Net Regression  ...                       20.215122\n",
              "13  All Jobs Years of Experience Elastic Net Regre...  ...                       20.771095\n",
              "14       All Jobs w/o Outliers Elastic Net Regression  ...                       20.171853\n",
              "15  All Jobs Years of Experience w/o Outliers Elas...  ...                       19.319194\n",
              "16                                       All Jobs KNN  ...                       18.177122\n",
              "17                   All Jobs Years of Experience KNN  ...                       18.222820\n",
              "18                          All Jobs w/o Outliers KNN  ...                       18.409429\n",
              "19                   All Jobs Years of Experience KNN  ...                       18.222820\n",
              "20                             All Jobs Random Forest  ...                       17.096554\n",
              "21         All Jobs Years of Experience Random Forest  ...                       17.549229\n",
              "22                All Jobs w/o Outliers Random Forest  ...                       17.199059\n",
              "23  All Jobs Years of Experience w/o Outliers Rand...  ...                       16.511200\n",
              "24                                       All Jobs SVM  ...                       29.988371\n",
              "25                   All Jobs Years of Experience SVM  ...                       30.828981\n",
              "26                          All Jobs w/o Outliers SVM  ...                       29.500019\n",
              "27      All Jobs Years of Experience w/o Outliers SVM  ...                       27.845962\n",
              "28                                   All Jobs XGBoost  ...                       16.929184\n",
              "29               All Jobs Years of Experience XGBoost  ...                       17.716823\n",
              "30                      All Jobs w/o Outliers XGBoost  ...                       16.973464\n",
              "31  All Jobs Years of Experience w/o Outliers XGBoost  ...                       16.541100\n",
              "\n",
              "[32 rows x 8 columns]"
            ]
          },
          "metadata": {
            "tags": []
          },
          "execution_count": 205
        }
      ]
    },
    {
      "cell_type": "code",
      "metadata": {
        "id": "VfalLjGNv7HF"
      },
      "source": [
        "all_jobs_results_df.to_csv('all_jobs_results.csv')"
      ],
      "execution_count": null,
      "outputs": []
    },
    {
      "cell_type": "markdown",
      "metadata": {
        "id": "CUZX43nIpAJM"
      },
      "source": [
        "### **Log(y) all_jobs & Years of Experience Model Results**"
      ]
    },
    {
      "cell_type": "code",
      "metadata": {
        "id": "QuhdXI02pEDd",
        "colab": {
          "base_uri": "https://localhost:8080/",
          "height": 1000
        },
        "outputId": "05ad5858-8a33-43d1-8709-41c58a67de27"
      },
      "source": [
        "logy_results_list = [\n",
        "                     \n",
        "log_all_jobs_lr_df, log_all_jobs_yrs_lr_df, log_all_jobs_no_outliers_lr_df, \n",
        "log_all_jobs_yrs_no_outliers_lr_df, \n",
        "\n",
        "log_all_jobs_ridge_df, log_all_jobs_yrs_ridge_df, log_all_jobs_no_outliers_ridge_df,\n",
        "log_all_jobs_yrs_no_outliers_ridge_df, \n",
        "\n",
        "log_all_jobs_lasso_df, log_all_jobs_yrs_lasso_df, log_all_jobs_no_outliers_lasso_df, \n",
        "log_all_jobs_yrs_no_outliers_lasso_df,   \n",
        "\n",
        "log_all_jobs_enet_df, log_all_jobs_yrs_enet_df, log_all_jobs_no_outliers_enet_df, \n",
        "log_all_jobs_yrs_no_outliers_enet_df,\n",
        "\n",
        "log_all_jobs_knn_df, log_years_exp_knn_df, log_all_jobs_no_outliers_knn_df, \n",
        "log_years_exp_knn_df, \n",
        "\n",
        "log_all_jobs_rf_df, log_all_jobs_yrs_rf_df, log_all_jobs_no_outliers_rf_df, \n",
        "log_all_jobs_yrs_no_outliers_rf_df,\n",
        "\n",
        "log_all_jobs_svm_df, log_all_jobs_yrs_svm_df, log_all_jobs_no_outliers_svm_df, \n",
        "log_all_jobs_yrs_no_outliers_svm_df,\n",
        "\n",
        "log_all_jobs_xgb_df, log_all_jobs_yrs_xgb_df,  log_all_jobs_no_outliers_xgb_df, \n",
        "log_all_jobs_yrs_no_outliers_xgb_df\n",
        "]\n",
        "\n",
        "all_jobs_logy_results_df = pd.concat(logy_results_list)\n",
        "all_jobs_logy_results_df.reset_index(inplace=True)\n",
        "all_jobs_logy_results_df.drop(columns=['index'], inplace=True)\n",
        "all_jobs_logy_results_df"
      ],
      "execution_count": null,
      "outputs": [
        {
          "output_type": "execute_result",
          "data": {
            "text/html": [
              "<div>\n",
              "<style scoped>\n",
              "    .dataframe tbody tr th:only-of-type {\n",
              "        vertical-align: middle;\n",
              "    }\n",
              "\n",
              "    .dataframe tbody tr th {\n",
              "        vertical-align: top;\n",
              "    }\n",
              "\n",
              "    .dataframe thead th {\n",
              "        text-align: right;\n",
              "    }\n",
              "</style>\n",
              "<table border=\"1\" class=\"dataframe\">\n",
              "  <thead>\n",
              "    <tr style=\"text-align: right;\">\n",
              "      <th></th>\n",
              "      <th>Model</th>\n",
              "      <th>Training Set R Squared</th>\n",
              "      <th>Test Set R Squared</th>\n",
              "      <th>Mean Absolute Error</th>\n",
              "      <th>Mean Sqaured Error</th>\n",
              "      <th>Root Mean Squared Error</th>\n",
              "      <th>Root Mean Squared Percentage Error</th>\n",
              "      <th>Mean Absolute Percentage Error</th>\n",
              "    </tr>\n",
              "  </thead>\n",
              "  <tbody>\n",
              "    <tr>\n",
              "      <th>0</th>\n",
              "      <td>All Jobs Linear Regression Log(y)</td>\n",
              "      <td>0.517595</td>\n",
              "      <td>0.526732</td>\n",
              "      <td>0.189131</td>\n",
              "      <td>0.060926</td>\n",
              "      <td>0.246831</td>\n",
              "      <td>2.168248</td>\n",
              "      <td>1.659797</td>\n",
              "    </tr>\n",
              "    <tr>\n",
              "      <th>1</th>\n",
              "      <td>All Jobs Years of Experience Linear Regression...</td>\n",
              "      <td>0.543033</td>\n",
              "      <td>0.540142</td>\n",
              "      <td>0.189097</td>\n",
              "      <td>0.060058</td>\n",
              "      <td>0.245068</td>\n",
              "      <td>2.168241</td>\n",
              "      <td>1.666271</td>\n",
              "    </tr>\n",
              "    <tr>\n",
              "      <th>2</th>\n",
              "      <td>All Jobs w/o Outliers Linear Regression Log(y)</td>\n",
              "      <td>0.522391</td>\n",
              "      <td>0.500464</td>\n",
              "      <td>0.188945</td>\n",
              "      <td>0.059148</td>\n",
              "      <td>0.243204</td>\n",
              "      <td>2.144348</td>\n",
              "      <td>1.661739</td>\n",
              "    </tr>\n",
              "    <tr>\n",
              "      <th>3</th>\n",
              "      <td>All Jobs Years of Experience w/o Outliers Line...</td>\n",
              "      <td>0.544983</td>\n",
              "      <td>0.504640</td>\n",
              "      <td>0.181751</td>\n",
              "      <td>0.054524</td>\n",
              "      <td>0.233505</td>\n",
              "      <td>2.063824</td>\n",
              "      <td>1.598385</td>\n",
              "    </tr>\n",
              "    <tr>\n",
              "      <th>4</th>\n",
              "      <td>All Jobs Ridge Regression Log(y)</td>\n",
              "      <td>0.516991</td>\n",
              "      <td>0.527871</td>\n",
              "      <td>0.189037</td>\n",
              "      <td>0.060779</td>\n",
              "      <td>0.246534</td>\n",
              "      <td>2.165821</td>\n",
              "      <td>1.658970</td>\n",
              "    </tr>\n",
              "    <tr>\n",
              "      <th>5</th>\n",
              "      <td>All Jobs Years of Experience Ridge Regression ...</td>\n",
              "      <td>0.542101</td>\n",
              "      <td>0.543094</td>\n",
              "      <td>0.188552</td>\n",
              "      <td>0.059673</td>\n",
              "      <td>0.244280</td>\n",
              "      <td>2.161805</td>\n",
              "      <td>1.661682</td>\n",
              "    </tr>\n",
              "    <tr>\n",
              "      <th>6</th>\n",
              "      <td>All Jobs w/o Outliers Ridge Regression Log(y)</td>\n",
              "      <td>0.521759</td>\n",
              "      <td>0.501373</td>\n",
              "      <td>0.188869</td>\n",
              "      <td>0.059040</td>\n",
              "      <td>0.242982</td>\n",
              "      <td>2.142707</td>\n",
              "      <td>1.661182</td>\n",
              "    </tr>\n",
              "    <tr>\n",
              "      <th>7</th>\n",
              "      <td>All Jobs Years of Experience w/o Outliers Ridg...</td>\n",
              "      <td>0.543941</td>\n",
              "      <td>0.507714</td>\n",
              "      <td>0.181246</td>\n",
              "      <td>0.054186</td>\n",
              "      <td>0.232779</td>\n",
              "      <td>2.057466</td>\n",
              "      <td>1.593967</td>\n",
              "    </tr>\n",
              "    <tr>\n",
              "      <th>8</th>\n",
              "      <td>All Jobs Lasso Regression Log(y)</td>\n",
              "      <td>0.510044</td>\n",
              "      <td>0.522249</td>\n",
              "      <td>0.190210</td>\n",
              "      <td>0.061503</td>\n",
              "      <td>0.247998</td>\n",
              "      <td>2.178385</td>\n",
              "      <td>1.669189</td>\n",
              "    </tr>\n",
              "    <tr>\n",
              "      <th>9</th>\n",
              "      <td>All Jobs Years of Experience Lasso Regression ...</td>\n",
              "      <td>0.532893</td>\n",
              "      <td>0.544080</td>\n",
              "      <td>0.188539</td>\n",
              "      <td>0.059544</td>\n",
              "      <td>0.244017</td>\n",
              "      <td>2.160719</td>\n",
              "      <td>1.662108</td>\n",
              "    </tr>\n",
              "    <tr>\n",
              "      <th>10</th>\n",
              "      <td>All Jobs w/o Outliers Lasso Regression Log(y)</td>\n",
              "      <td>0.512973</td>\n",
              "      <td>0.498921</td>\n",
              "      <td>0.189787</td>\n",
              "      <td>0.059331</td>\n",
              "      <td>0.243579</td>\n",
              "      <td>2.149118</td>\n",
              "      <td>1.669764</td>\n",
              "    </tr>\n",
              "    <tr>\n",
              "      <th>11</th>\n",
              "      <td>All Jobs Years of Experience w/o Outliers Lass...</td>\n",
              "      <td>0.534202</td>\n",
              "      <td>0.506531</td>\n",
              "      <td>0.181806</td>\n",
              "      <td>0.054316</td>\n",
              "      <td>0.233059</td>\n",
              "      <td>2.059026</td>\n",
              "      <td>1.598791</td>\n",
              "    </tr>\n",
              "    <tr>\n",
              "      <th>12</th>\n",
              "      <td>All Jobs Elastic Net Regression Log(y)</td>\n",
              "      <td>0.513682</td>\n",
              "      <td>0.525438</td>\n",
              "      <td>0.189444</td>\n",
              "      <td>0.061092</td>\n",
              "      <td>0.247169</td>\n",
              "      <td>2.171249</td>\n",
              "      <td>1.662530</td>\n",
              "    </tr>\n",
              "    <tr>\n",
              "      <th>13</th>\n",
              "      <td>All Jobs Years of Experience Elastic Net Regre...</td>\n",
              "      <td>0.540291</td>\n",
              "      <td>0.543750</td>\n",
              "      <td>0.188567</td>\n",
              "      <td>0.059587</td>\n",
              "      <td>0.244105</td>\n",
              "      <td>2.160709</td>\n",
              "      <td>1.662035</td>\n",
              "    </tr>\n",
              "    <tr>\n",
              "      <th>14</th>\n",
              "      <td>All Jobs w/o Outliers Elastic Net Regression L...</td>\n",
              "      <td>0.518778</td>\n",
              "      <td>0.500986</td>\n",
              "      <td>0.189168</td>\n",
              "      <td>0.059086</td>\n",
              "      <td>0.243076</td>\n",
              "      <td>2.144037</td>\n",
              "      <td>1.664072</td>\n",
              "    </tr>\n",
              "    <tr>\n",
              "      <th>15</th>\n",
              "      <td>All Jobs Years of Experience Elastic Net Regre...</td>\n",
              "      <td>0.543073</td>\n",
              "      <td>0.508535</td>\n",
              "      <td>0.181152</td>\n",
              "      <td>0.054096</td>\n",
              "      <td>0.232585</td>\n",
              "      <td>2.055776</td>\n",
              "      <td>1.593156</td>\n",
              "    </tr>\n",
              "    <tr>\n",
              "      <th>16</th>\n",
              "      <td>All Jobs KNN Log(y)</td>\n",
              "      <td>0.983852</td>\n",
              "      <td>0.514029</td>\n",
              "      <td>0.184438</td>\n",
              "      <td>0.062561</td>\n",
              "      <td>0.250122</td>\n",
              "      <td>2.183078</td>\n",
              "      <td>1.613161</td>\n",
              "    </tr>\n",
              "    <tr>\n",
              "      <th>17</th>\n",
              "      <td>All Jobs Years of Experience KNN Log(y)</td>\n",
              "      <td>0.982977</td>\n",
              "      <td>0.555099</td>\n",
              "      <td>0.177807</td>\n",
              "      <td>0.058105</td>\n",
              "      <td>0.241050</td>\n",
              "      <td>2.113499</td>\n",
              "      <td>1.560338</td>\n",
              "    </tr>\n",
              "    <tr>\n",
              "      <th>18</th>\n",
              "      <td>All Jobs w/o Outliers KNN Log(y)</td>\n",
              "      <td>0.986725</td>\n",
              "      <td>0.491891</td>\n",
              "      <td>0.183703</td>\n",
              "      <td>0.060163</td>\n",
              "      <td>0.245282</td>\n",
              "      <td>2.154334</td>\n",
              "      <td>1.611869</td>\n",
              "    </tr>\n",
              "    <tr>\n",
              "      <th>19</th>\n",
              "      <td>All Jobs Years of Experience KNN Log(y)</td>\n",
              "      <td>0.982977</td>\n",
              "      <td>0.555099</td>\n",
              "      <td>0.177807</td>\n",
              "      <td>0.058105</td>\n",
              "      <td>0.241050</td>\n",
              "      <td>2.113499</td>\n",
              "      <td>1.560338</td>\n",
              "    </tr>\n",
              "    <tr>\n",
              "      <th>20</th>\n",
              "      <td>All Jobs Random Forest Log(y)</td>\n",
              "      <td>0.939331</td>\n",
              "      <td>0.619677</td>\n",
              "      <td>0.164527</td>\n",
              "      <td>0.048961</td>\n",
              "      <td>0.221270</td>\n",
              "      <td>1.942475</td>\n",
              "      <td>1.443114</td>\n",
              "    </tr>\n",
              "    <tr>\n",
              "      <th>21</th>\n",
              "      <td>All Jobs Years of Experience Random Forest Log(y)</td>\n",
              "      <td>0.939052</td>\n",
              "      <td>0.633749</td>\n",
              "      <td>0.160351</td>\n",
              "      <td>0.047833</td>\n",
              "      <td>0.218708</td>\n",
              "      <td>1.931527</td>\n",
              "      <td>1.412132</td>\n",
              "    </tr>\n",
              "    <tr>\n",
              "      <th>22</th>\n",
              "      <td>All Jobs w/o Outliers Random Forest Log(y)</td>\n",
              "      <td>0.942328</td>\n",
              "      <td>0.613245</td>\n",
              "      <td>0.160811</td>\n",
              "      <td>0.045794</td>\n",
              "      <td>0.213995</td>\n",
              "      <td>1.892396</td>\n",
              "      <td>1.416350</td>\n",
              "    </tr>\n",
              "    <tr>\n",
              "      <th>23</th>\n",
              "      <td>All Jobs Years of Experience w/o Outliers Rand...</td>\n",
              "      <td>0.943228</td>\n",
              "      <td>0.600772</td>\n",
              "      <td>0.155052</td>\n",
              "      <td>0.043943</td>\n",
              "      <td>0.209626</td>\n",
              "      <td>1.848240</td>\n",
              "      <td>1.362761</td>\n",
              "    </tr>\n",
              "    <tr>\n",
              "      <th>24</th>\n",
              "      <td>All Jobs SVM Log(y)</td>\n",
              "      <td>0.613295</td>\n",
              "      <td>0.571791</td>\n",
              "      <td>0.179750</td>\n",
              "      <td>0.055125</td>\n",
              "      <td>0.234788</td>\n",
              "      <td>2.068715</td>\n",
              "      <td>1.578657</td>\n",
              "    </tr>\n",
              "    <tr>\n",
              "      <th>25</th>\n",
              "      <td>All Jobs Years of Experience SVM Log(y)</td>\n",
              "      <td>0.623644</td>\n",
              "      <td>0.587996</td>\n",
              "      <td>0.173884</td>\n",
              "      <td>0.053809</td>\n",
              "      <td>0.231967</td>\n",
              "      <td>2.053219</td>\n",
              "      <td>1.533049</td>\n",
              "    </tr>\n",
              "    <tr>\n",
              "      <th>26</th>\n",
              "      <td>All Jobs w/o OUtliers SVM Log(y)</td>\n",
              "      <td>0.617210</td>\n",
              "      <td>0.549306</td>\n",
              "      <td>0.177569</td>\n",
              "      <td>0.053365</td>\n",
              "      <td>0.231008</td>\n",
              "      <td>2.041533</td>\n",
              "      <td>1.563058</td>\n",
              "    </tr>\n",
              "    <tr>\n",
              "      <th>27</th>\n",
              "      <td>All Jobs Years of Experience w/o Outliers SVM ...</td>\n",
              "      <td>0.628277</td>\n",
              "      <td>0.542088</td>\n",
              "      <td>0.172536</td>\n",
              "      <td>0.050403</td>\n",
              "      <td>0.224505</td>\n",
              "      <td>1.986862</td>\n",
              "      <td>1.518060</td>\n",
              "    </tr>\n",
              "    <tr>\n",
              "      <th>28</th>\n",
              "      <td>All Jobs XGBoost Log(y)</td>\n",
              "      <td>0.819515</td>\n",
              "      <td>0.636602</td>\n",
              "      <td>0.161678</td>\n",
              "      <td>0.046782</td>\n",
              "      <td>0.216291</td>\n",
              "      <td>1.900175</td>\n",
              "      <td>1.418927</td>\n",
              "    </tr>\n",
              "    <tr>\n",
              "      <th>29</th>\n",
              "      <td>All Jobs Years of Experience XGBoost Log(y)</td>\n",
              "      <td>0.830368</td>\n",
              "      <td>0.638861</td>\n",
              "      <td>0.160620</td>\n",
              "      <td>0.047165</td>\n",
              "      <td>0.217176</td>\n",
              "      <td>1.920353</td>\n",
              "      <td>1.415401</td>\n",
              "    </tr>\n",
              "    <tr>\n",
              "      <th>30</th>\n",
              "      <td>All Jobs w/o Outliers XGBoost Log(y)</td>\n",
              "      <td>0.819975</td>\n",
              "      <td>0.608813</td>\n",
              "      <td>0.162696</td>\n",
              "      <td>0.046319</td>\n",
              "      <td>0.215218</td>\n",
              "      <td>1.902375</td>\n",
              "      <td>1.433195</td>\n",
              "    </tr>\n",
              "    <tr>\n",
              "      <th>31</th>\n",
              "      <td>All Jobs Years of Experience w/o Outliers XGBo...</td>\n",
              "      <td>0.795719</td>\n",
              "      <td>0.594224</td>\n",
              "      <td>0.158800</td>\n",
              "      <td>0.044664</td>\n",
              "      <td>0.211338</td>\n",
              "      <td>1.865540</td>\n",
              "      <td>1.397020</td>\n",
              "    </tr>\n",
              "  </tbody>\n",
              "</table>\n",
              "</div>"
            ],
            "text/plain": [
              "                                                Model  ...  Mean Absolute Percentage Error\n",
              "0                   All Jobs Linear Regression Log(y)  ...                        1.659797\n",
              "1   All Jobs Years of Experience Linear Regression...  ...                        1.666271\n",
              "2      All Jobs w/o Outliers Linear Regression Log(y)  ...                        1.661739\n",
              "3   All Jobs Years of Experience w/o Outliers Line...  ...                        1.598385\n",
              "4                    All Jobs Ridge Regression Log(y)  ...                        1.658970\n",
              "5   All Jobs Years of Experience Ridge Regression ...  ...                        1.661682\n",
              "6       All Jobs w/o Outliers Ridge Regression Log(y)  ...                        1.661182\n",
              "7   All Jobs Years of Experience w/o Outliers Ridg...  ...                        1.593967\n",
              "8                    All Jobs Lasso Regression Log(y)  ...                        1.669189\n",
              "9   All Jobs Years of Experience Lasso Regression ...  ...                        1.662108\n",
              "10      All Jobs w/o Outliers Lasso Regression Log(y)  ...                        1.669764\n",
              "11  All Jobs Years of Experience w/o Outliers Lass...  ...                        1.598791\n",
              "12             All Jobs Elastic Net Regression Log(y)  ...                        1.662530\n",
              "13  All Jobs Years of Experience Elastic Net Regre...  ...                        1.662035\n",
              "14  All Jobs w/o Outliers Elastic Net Regression L...  ...                        1.664072\n",
              "15  All Jobs Years of Experience Elastic Net Regre...  ...                        1.593156\n",
              "16                                All Jobs KNN Log(y)  ...                        1.613161\n",
              "17            All Jobs Years of Experience KNN Log(y)  ...                        1.560338\n",
              "18                   All Jobs w/o Outliers KNN Log(y)  ...                        1.611869\n",
              "19            All Jobs Years of Experience KNN Log(y)  ...                        1.560338\n",
              "20                      All Jobs Random Forest Log(y)  ...                        1.443114\n",
              "21  All Jobs Years of Experience Random Forest Log(y)  ...                        1.412132\n",
              "22         All Jobs w/o Outliers Random Forest Log(y)  ...                        1.416350\n",
              "23  All Jobs Years of Experience w/o Outliers Rand...  ...                        1.362761\n",
              "24                                All Jobs SVM Log(y)  ...                        1.578657\n",
              "25            All Jobs Years of Experience SVM Log(y)  ...                        1.533049\n",
              "26                   All Jobs w/o OUtliers SVM Log(y)  ...                        1.563058\n",
              "27  All Jobs Years of Experience w/o Outliers SVM ...  ...                        1.518060\n",
              "28                            All Jobs XGBoost Log(y)  ...                        1.418927\n",
              "29        All Jobs Years of Experience XGBoost Log(y)  ...                        1.415401\n",
              "30               All Jobs w/o Outliers XGBoost Log(y)  ...                        1.433195\n",
              "31  All Jobs Years of Experience w/o Outliers XGBo...  ...                        1.397020\n",
              "\n",
              "[32 rows x 8 columns]"
            ]
          },
          "metadata": {
            "tags": []
          },
          "execution_count": 207
        }
      ]
    },
    {
      "cell_type": "code",
      "metadata": {
        "id": "dQsQaSACpTS7"
      },
      "source": [
        "all_jobs_logy_results_df.to_csv('all_jobs_logy_results_df.csv')"
      ],
      "execution_count": null,
      "outputs": []
    },
    {
      "cell_type": "markdown",
      "metadata": {
        "id": "o6MTZIxhGF_T"
      },
      "source": [
        "### **NLP Model Results**\n",
        "\n",
        "A separate notebook containing exploration of NLP Bag of Words and TF-IDF models that were tested with XGBoost, since it was the best performing model. The time it takes to run these models is extensive and is therefore the reason a separate notebook was used. The results of these models can be seen below. \n",
        "\n",
        "To view this notebook, please click [here](https://https://colab.research.google.com/drive/1wEl-dw0npunSUZgS5qAFXapRA779HcLw?usp=sharing)"
      ]
    },
    {
      "cell_type": "code",
      "metadata": {
        "id": "mGpUngWkGkNZ",
        "colab": {
          "base_uri": "https://localhost:8080/"
        },
        "outputId": "98b637bd-23e2-4190-fd83-b3a184553f31"
      },
      "source": [
        "nlp_results = pd.read_csv('https://raw.githubusercontent.com/ferrazzijk/Data-Industry-Salary-Prediction/main/ScrapedDataCSVs/nlp_results.csv?dl=1')\n",
        "nlp_results.drop(columns=['Unnamed: 0'], inplace=True)\n",
        "nlp_results"
      ],
      "execution_count": null,
      "outputs": [
        {
          "output_type": "execute_result",
          "data": {
            "text/html": [
              "<div>\n",
              "<style scoped>\n",
              "    .dataframe tbody tr th:only-of-type {\n",
              "        vertical-align: middle;\n",
              "    }\n",
              "\n",
              "    .dataframe tbody tr th {\n",
              "        vertical-align: top;\n",
              "    }\n",
              "\n",
              "    .dataframe thead th {\n",
              "        text-align: right;\n",
              "    }\n",
              "</style>\n",
              "<table border=\"1\" class=\"dataframe\">\n",
              "  <thead>\n",
              "    <tr style=\"text-align: right;\">\n",
              "      <th></th>\n",
              "      <th>Model</th>\n",
              "      <th>Training Set R Squared</th>\n",
              "      <th>Test Set R Squared</th>\n",
              "      <th>Mean Absolute Error</th>\n",
              "      <th>Mean Sqaured Error</th>\n",
              "      <th>Root Mean Squared Error</th>\n",
              "      <th>Root Mean Squared Percent Error</th>\n",
              "      <th>Mean Absolute Percentage Error</th>\n",
              "    </tr>\n",
              "  </thead>\n",
              "  <tbody>\n",
              "    <tr>\n",
              "      <th>0</th>\n",
              "      <td>BOW XGBoost</td>\n",
              "      <td>0.936038</td>\n",
              "      <td>0.555584</td>\n",
              "      <td>16380.684031</td>\n",
              "      <td>4.831596e+08</td>\n",
              "      <td>21980.891747</td>\n",
              "      <td>26.844869</td>\n",
              "      <td>19.121423</td>\n",
              "    </tr>\n",
              "    <tr>\n",
              "      <th>1</th>\n",
              "      <td>BOW XGBoost log(y)</td>\n",
              "      <td>0.917346</td>\n",
              "      <td>0.540271</td>\n",
              "      <td>0.182553</td>\n",
              "      <td>5.626721e-02</td>\n",
              "      <td>0.237207</td>\n",
              "      <td>2.096247</td>\n",
              "      <td>1.607736</td>\n",
              "    </tr>\n",
              "    <tr>\n",
              "      <th>2</th>\n",
              "      <td>TF-IDF XGBoost</td>\n",
              "      <td>0.948596</td>\n",
              "      <td>0.519813</td>\n",
              "      <td>17301.342480</td>\n",
              "      <td>5.220486e+08</td>\n",
              "      <td>22848.382105</td>\n",
              "      <td>27.742474</td>\n",
              "      <td>20.288725</td>\n",
              "    </tr>\n",
              "    <tr>\n",
              "      <th>3</th>\n",
              "      <td>TF-IDF XGBoost log(y)</td>\n",
              "      <td>0.930190</td>\n",
              "      <td>0.528309</td>\n",
              "      <td>0.185821</td>\n",
              "      <td>5.773127e-02</td>\n",
              "      <td>0.240273</td>\n",
              "      <td>2.120011</td>\n",
              "      <td>1.636261</td>\n",
              "    </tr>\n",
              "  </tbody>\n",
              "</table>\n",
              "</div>"
            ],
            "text/plain": [
              "                   Model  ...  Mean Absolute Percentage Error\n",
              "0            BOW XGBoost  ...                       19.121423\n",
              "1     BOW XGBoost log(y)  ...                        1.607736\n",
              "2         TF-IDF XGBoost  ...                       20.288725\n",
              "3  TF-IDF XGBoost log(y)  ...                        1.636261\n",
              "\n",
              "[4 rows x 8 columns]"
            ]
          },
          "metadata": {
            "tags": []
          },
          "execution_count": 209
        }
      ]
    }
  ]
}